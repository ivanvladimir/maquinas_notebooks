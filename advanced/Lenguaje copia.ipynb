{
 "cells": [
  {
   "cell_type": "code",
   "execution_count": 1,
   "metadata": {},
   "outputs": [],
   "source": [
    "import os\n",
    "import sys"
   ]
  },
  {
   "cell_type": "code",
   "execution_count": 2,
   "metadata": {},
   "outputs": [],
   "source": [
    "from maquinas.recursivelyenumerable.tspda import TwoStackPushDownAutomaton\n",
    "from maquinas.simulation import Simulation"
   ]
  },
  {
   "cell_type": "code",
   "execution_count": 3,
   "metadata": {},
   "outputs": [],
   "source": [
    "# Ejercicio uno\n",
    "ww=TwoStackPushDownAutomaton(Q=['q_0','q_1','q_2','q_3'],\n",
    "         sigma=['a','b'],\n",
    "         gamma=['A','B'],\n",
    "         q_0='q_0',\n",
    "         A=['q_3'],\n",
    "         delta=[\n",
    "            (('q_0','a','Z0','Z0'),[('q_0','AZ0','Z0')]),\n",
    "            (('q_0','a','A','Z0'),[('q_0','AA','Z0')]),\n",
    "            (('q_0','a','B','Z0'),[('q_0','AB','Z0')]),\n",
    "            (('q_0','b','Z0','Z0'),[('q_0','BZ0','Z0')]),\n",
    "            (('q_0','b','A','Z0'),[('q_0','BA','Z0')]),\n",
    "            (('q_0','b','B','Z0'),[('q_0','BB','Z0')]),\n",
    "             \n",
    "            (('q_0','epsilon','A','Z0'),[('q_1','epsilon','AZ0')]),\n",
    "            (('q_0','epsilon','B','Z0'),[('q_1','epsilon','BZ0')]),\n",
    "             \n",
    "            (('q_1','epsilon','A','A'),[('q_1','epsilon','AA')]),\n",
    "            (('q_1','epsilon','B','B'),[('q_1','epsilon','BB')]),\n",
    "            (('q_1','epsilon','A','B'),[('q_1','epsilon','AB')]),\n",
    "            (('q_1','epsilon','B','A'),[('q_1','epsilon','BA')]),\n",
    "            \n",
    "            (('q_1','a','Z0','A'),[('q_2','Z0','epsilon')]),\n",
    "            (('q_1','b','Z0','B'),[('q_2','Z0','epsilon')]),\n",
    "            \n",
    "            (('q_2','a','Z0','A'),[('q_2','Z0','epsilon')]),\n",
    "            (('q_2','b','Z0','B'),[('q_2','Z0','epsilon')]),\n",
    "             \n",
    "            (('q_2','epsilon','Z0','Z0'),[('q_3','Z0','Z0')]),\n",
    "        ]\n",
    "    )"
   ]
  },
  {
   "cell_type": "code",
   "execution_count": 4,
   "metadata": {},
   "outputs": [
    {
     "name": "stdout",
     "output_type": "stream",
     "text": [
      "q_0, Z₀]① Z₀]②\n",
      " a -> q_0, A Z₀]① Z₀]② | q_1, Z₀]① A Z₀]②,\n",
      " a -> q_0, A A Z₀]① Z₀]② | q_2, Z₀]① Z₀]② | q_1, A Z₀]① A Z₀]② | q_3, Z₀]① Z₀]② | q_1, Z₀]① A A Z₀]②,\n",
      " a -> q_0, A A A Z₀]① Z₀]② | q_2, Z₀]① A Z₀]② | q_1, A A Z₀]① A Z₀]② | q_1, A Z₀]① A A Z₀]② | q_1, Z₀]① A A A Z₀]②,\n",
      " a -> q_0, A A A A Z₀]① Z₀]② | q_2, Z₀]① Z₀]② | q_2, Z₀]① A A Z₀]② | q_1, A A A Z₀]① A Z₀]② | q_3, Z₀]① Z₀]② | q_1, A A Z₀]① A A Z₀]② | q_1, A Z₀]① A A A Z₀]② | q_1, Z₀]① A A A A Z₀]②,\n",
      " a -> q_0, A A A A A Z₀]① Z₀]② | q_2, Z₀]① A Z₀]② | q_2, Z₀]① A A A Z₀]② | q_1, A A A A Z₀]① A Z₀]② | q_1, A A A Z₀]① A A Z₀]② | q_1, A A Z₀]① A A A Z₀]② | q_1, A Z₀]① A A A A Z₀]② | q_1, Z₀]① A A A A A Z₀]②,\n",
      " b -> q_0, B A A A A A Z₀]① Z₀]② | q_1, A A A A A Z₀]① B Z₀]② | q_1, A A A A Z₀]① A B Z₀]② | q_1, A A A Z₀]① A A B Z₀]② | q_1, A A Z₀]① A A A B Z₀]② | q_1, A Z₀]① A A A A B Z₀]② | q_1, Z₀]① A A A A A B Z₀]②,\n",
      " b -> q_0, B B A A A A A Z₀]① Z₀]② | q_1, B A A A A A Z₀]① B Z₀]② | q_1, A A A A A Z₀]① B B Z₀]② | q_1, A A A A Z₀]① A B B Z₀]② | q_1, A A A Z₀]① A A B B Z₀]② | q_1, A A Z₀]① A A A B B Z₀]② | q_1, A Z₀]① A A A A B B Z₀]② | q_1, Z₀]① A A A A A B B Z₀]②,\n",
      " a -> q_0, A B B A A A A A Z₀]① Z₀]② | q_2, Z₀]① A A A A B B Z₀]② | q_1, B B A A A A A Z₀]① A Z₀]② | q_1, B A A A A A Z₀]① B A Z₀]② | q_1, A A A A A Z₀]① B B A Z₀]② | q_1, A A A A Z₀]① A B B A Z₀]② | q_1, A A A Z₀]① A A B B A Z₀]② | q_1, A A Z₀]① A A A B B A Z₀]② | q_1, A Z₀]① A A A A B B A Z₀]② | q_1, Z₀]① A A A A A B B A Z₀]②,\n",
      " a -> q_0, A A B B A A A A A Z₀]① Z₀]② | q_2, Z₀]① A A A B B Z₀]② | q_2, Z₀]① A A A A B B A Z₀]② | q_1, A B B A A A A A Z₀]① A Z₀]② | q_1, B B A A A A A Z₀]① A A Z₀]② | q_1, B A A A A A Z₀]① B A A Z₀]② | q_1, A A A A A Z₀]① B B A A Z₀]② | q_1, A A A A Z₀]① A B B A A Z₀]② | q_1, A A A Z₀]① A A B B A A Z₀]② | q_1, A A Z₀]① A A A B B A A Z₀]② | q_1, A Z₀]① A A A A B B A A Z₀]② | q_1, Z₀]① A A A A A B B A A Z₀]②,\n",
      " a -> q_0, A A A B B A A A A A Z₀]① Z₀]② | q_2, Z₀]① A A B B Z₀]② | q_2, Z₀]① A A A B B A Z₀]② | q_2, Z₀]① A A A A B B A A Z₀]② | q_1, A A B B A A A A A Z₀]① A Z₀]② | q_1, A B B A A A A A Z₀]① A A Z₀]② | q_1, B B A A A A A Z₀]① A A A Z₀]② | q_1, B A A A A A Z₀]① B A A A Z₀]② | q_1, A A A A A Z₀]① B B A A A Z₀]② | q_1, A A A A Z₀]① A B B A A A Z₀]② | q_1, A A A Z₀]① A A B B A A A Z₀]② | q_1, A A Z₀]① A A A B B A A A Z₀]② | q_1, A Z₀]① A A A A B B A A A Z₀]② | q_1, Z₀]① A A A A A B B A A A Z₀]②,\n",
      " a -> q_0, A A A A B B A A A A A Z₀]① Z₀]② | q_2, Z₀]① A B B Z₀]② | q_2, Z₀]① A A B B A Z₀]② | q_2, Z₀]① A A A B B A A Z₀]② | q_2, Z₀]① A A A A B B A A A Z₀]② | q_1, A A A B B A A A A A Z₀]① A Z₀]② | q_1, A A B B A A A A A Z₀]① A A Z₀]② | q_1, A B B A A A A A Z₀]① A A A Z₀]② | q_1, B B A A A A A Z₀]① A A A A Z₀]② | q_1, B A A A A A Z₀]① B A A A A Z₀]② | q_1, A A A A A Z₀]① B B A A A A Z₀]② | q_1, A A A A Z₀]① A B B A A A A Z₀]② | q_1, A A A Z₀]① A A B B A A A A Z₀]② | q_1, A A Z₀]① A A A B B A A A A Z₀]② | q_1, A Z₀]① A A A A B B A A A A Z₀]② | q_1, Z₀]① A A A A A B B A A A A Z₀]②,\n",
      " a -> q_0, A A A A A B B A A A A A Z₀]① Z₀]② | q_2, Z₀]① B B Z₀]② | q_2, Z₀]① A B B A Z₀]② | q_2, Z₀]① A A B B A A Z₀]② | q_2, Z₀]① A A A B B A A A Z₀]② | q_2, Z₀]① A A A A B B A A A A Z₀]② | q_1, A A A A B B A A A A A Z₀]① A Z₀]② | q_1, A A A B B A A A A A Z₀]① A A Z₀]② | q_1, A A B B A A A A A Z₀]① A A A Z₀]② | q_1, A B B A A A A A Z₀]① A A A A Z₀]② | q_1, B B A A A A A Z₀]① A A A A A Z₀]② | q_1, B A A A A A Z₀]① B A A A A A Z₀]② | q_1, A A A A A Z₀]① B B A A A A A Z₀]② | q_1, A A A A Z₀]① A B B A A A A A Z₀]② | q_1, A A A Z₀]① A A B B A A A A A Z₀]② | q_1, A A Z₀]① A A A B B A A A A A Z₀]② | q_1, A Z₀]① A A A A B B A A A A A Z₀]② | q_1, Z₀]① A A A A A B B A A A A A Z₀]②,\n",
      " b -> q_0, B A A A A A B B A A A A A Z₀]① Z₀]② | q_2, Z₀]① B Z₀]② | q_1, A A A A A B B A A A A A Z₀]① B Z₀]② | q_1, A A A A B B A A A A A Z₀]① A B Z₀]② | q_1, A A A B B A A A A A Z₀]① A A B Z₀]② | q_1, A A B B A A A A A Z₀]① A A A B Z₀]② | q_1, A B B A A A A A Z₀]① A A A A B Z₀]② | q_1, B B A A A A A Z₀]① A A A A A B Z₀]② | q_1, B A A A A A Z₀]① B A A A A A B Z₀]② | q_1, A A A A A Z₀]① B B A A A A A B Z₀]② | q_1, A A A A Z₀]① A B B A A A A A B Z₀]② | q_1, A A A Z₀]① A A B B A A A A A B Z₀]② | q_1, A A Z₀]① A A A B B A A A A A B Z₀]② | q_1, A Z₀]① A A A A B B A A A A A B Z₀]② | q_1, Z₀]① A A A A A B B A A A A A B Z₀]②,\n",
      " b -> q_0, B B A A A A A B B A A A A A Z₀]① Z₀]② | q_2, Z₀]① Z₀]② | q_1, B A A A A A B B A A A A A Z₀]① B Z₀]② | q_3, Z₀]① Z₀]② | q_1, A A A A A B B A A A A A Z₀]① B B Z₀]② | q_1, A A A A B B A A A A A Z₀]① A B B Z₀]② | q_1, A A A B B A A A A A Z₀]① A A B B Z₀]② | q_1, A A B B A A A A A Z₀]① A A A B B Z₀]② | q_1, A B B A A A A A Z₀]① A A A A B B Z₀]② | q_1, B B A A A A A Z₀]① A A A A A B B Z₀]② | q_1, B A A A A A Z₀]① B A A A A A B B Z₀]② | q_1, A A A A A Z₀]① B B A A A A A B B Z₀]② | q_1, A A A A Z₀]① A B B A A A A A B B Z₀]② | q_1, A A A Z₀]① A A B B A A A A A B B Z₀]② | q_1, A A Z₀]① A A A B B A A A A A B B Z₀]② | q_1, A Z₀]① A A A A B B A A A A A B B Z₀]② | q_1, Z₀]① A A A A A B B A A A A A B B Z₀]②,\n",
      " \n",
      "Con q_0, B B A A A A A B B A A A A A Z₀]① Z₀]② | q_2, Z₀]① Z₀]② | q_1, B A A A A A B B A A A A A Z₀]① B Z₀]② | q_3, Z₀]① Z₀]② | q_1, A A A A A B B A A A A A Z₀]① B B Z₀]② | q_1, A A A A B B A A A A A Z₀]① A B B Z₀]② | q_1, A A A B B A A A A A Z₀]① A A B B Z₀]② | q_1, A A B B A A A A A Z₀]① A A A B B Z₀]② | q_1, A B B A A A A A Z₀]① A A A A B B Z₀]② | q_1, B B A A A A A Z₀]① A A A A A B B Z₀]② | q_1, B A A A A A Z₀]① B A A A A A B B Z₀]② | q_1, A A A A A Z₀]① B B A A A A A B B Z₀]② | q_1, A A A A Z₀]① A B B A A A A A B B Z₀]② | q_1, A A A Z₀]① A A B B A A A A A B B Z₀]② | q_1, A A Z₀]① A A A B B A A A A A B B Z₀]② | q_1, A Z₀]① A A A A B B A A A A A B B Z₀]② | q_1, Z₀]① A A A A A B B A A A A A B B Z₀]② Se acepta? Sí\n"
     ]
    }
   ],
   "source": [
    "for q,a,w_ in ww.delta_stepwise(\"aaaaabbaaaaabb\"):\n",
    "    if a:\n",
    "        print(f\"{a} -> {ww.states2string(q)}\", end=\",\\n \")\n",
    "    else:\n",
    "        print(f\"{ww.states2string(q)}\",end=\"\\n \")\n",
    "    res=q\n",
    "    \n",
    "print(f\"\\nCon {ww.states2string(res)} Se acepta?\", \"Sí\" if ww.acceptor(res) else \"No\" )"
   ]
  },
  {
   "cell_type": "code",
   "execution_count": 5,
   "metadata": {},
   "outputs": [
    {
     "data": {
      "image/svg+xml": [
       "<?xml version=\"1.0\" encoding=\"UTF-8\" standalone=\"no\"?>\n",
       "<!DOCTYPE svg PUBLIC \"-//W3C//DTD SVG 1.1//EN\"\n",
       " \"http://www.w3.org/Graphics/SVG/1.1/DTD/svg11.dtd\">\n",
       "<!-- Generated by graphviz version 2.40.1 (20161225.0304)\n",
       " -->\n",
       "<!-- Title: %3 Pages: 1 -->\n",
       "<svg width=\"616pt\" height=\"163pt\"\n",
       " viewBox=\"0.00 0.00 739.19 196.00\" xmlns=\"http://www.w3.org/2000/svg\" xmlns:xlink=\"http://www.w3.org/1999/xlink\">\n",
       "<g id=\"graph0\" class=\"graph\" transform=\"scale(.8333 .8333) rotate(0) translate(4 192)\">\n",
       "<title>%3</title>\n",
       "<polygon fill=\"#ffffff\" stroke=\"transparent\" points=\"-4,4 -4,-192 735.1915,-192 735.1915,4 -4,4\"/>\n",
       "<g id=\"clust1\" class=\"cluster\">\n",
       "<title>cluster_0</title>\n",
       "</g>\n",
       "<!-- q_0_0 -->\n",
       "<g id=\"node1\" class=\"node\">\n",
       "<title>q_0_0</title>\n",
       "<ellipse fill=\"#b2dfee\" stroke=\"#b2dfee\" cx=\"61\" cy=\"-40\" rx=\"24.0958\" ry=\"24.0958\"/>\n",
       "<text text-anchor=\"middle\" x=\"61\" y=\"-36.3\" font-family=\"Times,serif\" font-size=\"14.00\" fill=\"#000000\">q_0</text>\n",
       "</g>\n",
       "<!-- q_0_0&#45;&gt;q_0_0 -->\n",
       "<g id=\"edge1\" class=\"edge\">\n",
       "<title>q_0_0&#45;&gt;q_0_0</title>\n",
       "<path fill=\"none\" stroke=\"#000000\" d=\"M49.7184,-61.6345C48.1574,-72.4239 51.918,-82.0479 61,-82.0479 66.9601,-82.0479 70.6284,-77.9032 72.0049,-72.0043\"/>\n",
       "<polygon fill=\"#000000\" stroke=\"#000000\" points=\"75.5135,-71.7243 72.2816,-61.6345 68.516,-71.5375 75.5135,-71.7243\"/>\n",
       "<text text-anchor=\"start\" x=\"18\" y=\"-160.8479\" font-family=\"Times,serif\" font-size=\"14.00\" fill=\"#000000\"> a,Z₀/AZ₀,Z₀/Z₀</text>\n",
       "<text text-anchor=\"start\" x=\"23\" y=\"-145.8479\" font-family=\"Times,serif\" font-size=\"14.00\" fill=\"#000000\">a,A/AA,Z₀/Z₀</text>\n",
       "<text text-anchor=\"start\" x=\"23.5\" y=\"-130.8479\" font-family=\"Times,serif\" font-size=\"14.00\" fill=\"#000000\">a,B/AB,Z₀/Z₀</text>\n",
       "<text text-anchor=\"start\" x=\"20\" y=\"-115.8479\" font-family=\"Times,serif\" font-size=\"14.00\" fill=\"#000000\">b,Z₀/BZ₀,Z₀/Z₀</text>\n",
       "<text text-anchor=\"start\" x=\"23\" y=\"-100.8479\" font-family=\"Times,serif\" font-size=\"14.00\" fill=\"#000000\">b,A/BA,Z₀/Z₀</text>\n",
       "<text text-anchor=\"start\" x=\"21.5\" y=\"-85.8479\" font-family=\"Times,serif\" font-size=\"14.00\" fill=\"#000000\">b,B/BB,Z₀/Z₀ </text>\n",
       "</g>\n",
       "<!-- q_1_0 -->\n",
       "<g id=\"node2\" class=\"node\">\n",
       "<title>q_1_0</title>\n",
       "<ellipse fill=\"none\" stroke=\"#000000\" cx=\"286\" cy=\"-40\" rx=\"24.0958\" ry=\"24.0958\"/>\n",
       "<text text-anchor=\"middle\" x=\"286\" y=\"-36.3\" font-family=\"Times,serif\" font-size=\"14.00\" fill=\"#000000\">q_1</text>\n",
       "</g>\n",
       "<!-- q_0_0&#45;&gt;q_1_0 -->\n",
       "<g id=\"edge2\" class=\"edge\">\n",
       "<title>q_0_0&#45;&gt;q_1_0</title>\n",
       "<path fill=\"none\" stroke=\"#000000\" d=\"M85.0789,-40C125.1504,-40 205.6537,-40 251.6652,-40\"/>\n",
       "<polygon fill=\"#000000\" stroke=\"#000000\" points=\"251.7541,-43.5001 261.7541,-40 251.7541,-36.5001 251.7541,-43.5001\"/>\n",
       "<text text-anchor=\"start\" x=\"143\" y=\"-58.8\" font-family=\"Times,serif\" font-size=\"14.00\" fill=\"#000000\"> ε,A/ε,Z₀/AZ₀</text>\n",
       "<text text-anchor=\"start\" x=\"143.5\" y=\"-43.8\" font-family=\"Times,serif\" font-size=\"14.00\" fill=\"#000000\">ε,B/ε,Z₀/BZ₀ </text>\n",
       "</g>\n",
       "<!-- q_1_0&#45;&gt;q_1_0 -->\n",
       "<g id=\"edge3\" class=\"edge\">\n",
       "<title>q_1_0&#45;&gt;q_1_0</title>\n",
       "<path fill=\"none\" stroke=\"#000000\" d=\"M277.178,-62.495C276.2156,-72.9303 279.1563,-82.0479 286,-82.0479 290.3843,-82.0479 293.1667,-78.306 294.3474,-72.873\"/>\n",
       "<polygon fill=\"#000000\" stroke=\"#000000\" points=\"297.8614,-72.6445 294.822,-62.495 290.8687,-72.3246 297.8614,-72.6445\"/>\n",
       "<text text-anchor=\"start\" x=\"251\" y=\"-130.8479\" font-family=\"Times,serif\" font-size=\"14.00\" fill=\"#000000\"> ε,A/ε,A/AA</text>\n",
       "<text text-anchor=\"start\" x=\"253.5\" y=\"-115.8479\" font-family=\"Times,serif\" font-size=\"14.00\" fill=\"#000000\">ε,A/ε,B/AB</text>\n",
       "<text text-anchor=\"start\" x=\"254\" y=\"-100.8479\" font-family=\"Times,serif\" font-size=\"14.00\" fill=\"#000000\">ε,B/ε,B/BB</text>\n",
       "<text text-anchor=\"start\" x=\"251.5\" y=\"-85.8479\" font-family=\"Times,serif\" font-size=\"14.00\" fill=\"#000000\">ε,B/ε,A/BA </text>\n",
       "</g>\n",
       "<!-- q_2_0 -->\n",
       "<g id=\"node3\" class=\"node\">\n",
       "<title>q_2_0</title>\n",
       "<ellipse fill=\"none\" stroke=\"#000000\" cx=\"481.0479\" cy=\"-42\" rx=\"24.0958\" ry=\"24.0958\"/>\n",
       "<text text-anchor=\"middle\" x=\"481.0479\" y=\"-38.3\" font-family=\"Times,serif\" font-size=\"14.00\" fill=\"#000000\">q_2</text>\n",
       "</g>\n",
       "<!-- q_1_0&#45;&gt;q_2_0 -->\n",
       "<g id=\"edge4\" class=\"edge\">\n",
       "<title>q_1_0&#45;&gt;q_2_0</title>\n",
       "<path fill=\"none\" stroke=\"#000000\" d=\"M310.3086,-40.2493C344.6394,-40.6013 407.4963,-41.2458 446.6183,-41.647\"/>\n",
       "<polygon fill=\"#000000\" stroke=\"#000000\" points=\"446.7047,-45.1479 456.7401,-41.7508 446.7765,-38.1483 446.7047,-45.1479\"/>\n",
       "<text text-anchor=\"start\" x=\"353\" y=\"-59.8\" font-family=\"Times,serif\" font-size=\"14.00\" fill=\"#000000\"> a,Z₀/Z₀,A/ε</text>\n",
       "<text text-anchor=\"start\" x=\"353\" y=\"-44.8\" font-family=\"Times,serif\" font-size=\"14.00\" fill=\"#000000\">b,Z₀/Z₀,B/ε </text>\n",
       "</g>\n",
       "<!-- q_2_0&#45;&gt;q_2_0 -->\n",
       "<g id=\"edge5\" class=\"edge\">\n",
       "<title>q_2_0&#45;&gt;q_2_0</title>\n",
       "<path fill=\"none\" stroke=\"#000000\" d=\"M473.2959,-64.9231C472.5576,-75.1784 475.1416,-84.0479 481.0479,-84.0479 484.8316,-84.0479 487.2518,-80.4078 488.3086,-75.0953\"/>\n",
       "<polygon fill=\"#000000\" stroke=\"#000000\" points=\"491.8133,-75.0803 488.7998,-64.9231 484.8214,-74.7426 491.8133,-75.0803\"/>\n",
       "<text text-anchor=\"start\" x=\"447.5479\" y=\"-102.8479\" font-family=\"Times,serif\" font-size=\"14.00\" fill=\"#000000\"> a,Z₀/Z₀,A/ε</text>\n",
       "<text text-anchor=\"start\" x=\"447.5479\" y=\"-87.8479\" font-family=\"Times,serif\" font-size=\"14.00\" fill=\"#000000\">b,Z₀/Z₀,B/ε </text>\n",
       "</g>\n",
       "<!-- q_3_0 -->\n",
       "<g id=\"node4\" class=\"node\">\n",
       "<title>q_3_0</title>\n",
       "<ellipse fill=\"none\" stroke=\"#000000\" cx=\"687.1436\" cy=\"-44\" rx=\"24.089\" ry=\"24.089\"/>\n",
       "<ellipse fill=\"none\" stroke=\"#000000\" cx=\"687.1436\" cy=\"-44\" rx=\"28.0958\" ry=\"28.0958\"/>\n",
       "<text text-anchor=\"middle\" x=\"687.1436\" y=\"-40.3\" font-family=\"Times,serif\" font-size=\"14.00\" fill=\"#000000\">q_3</text>\n",
       "</g>\n",
       "<!-- q_2_0&#45;&gt;q_3_0 -->\n",
       "<g id=\"edge6\" class=\"edge\">\n",
       "<title>q_2_0&#45;&gt;q_3_0</title>\n",
       "<path fill=\"none\" stroke=\"#000000\" d=\"M505.4991,-42.2373C540.8856,-42.5807 606.7163,-43.2195 648.6559,-43.6265\"/>\n",
       "<polygon fill=\"#000000\" stroke=\"#000000\" points=\"648.7372,-47.1274 658.7707,-43.7247 648.8052,-40.1277 648.7372,-47.1274\"/>\n",
       "<text text-anchor=\"start\" x=\"542.0957\" y=\"-46.8\" font-family=\"Times,serif\" font-size=\"14.00\" fill=\"#000000\"> ε,Z₀/Z₀,Z₀/Z₀ </text>\n",
       "</g>\n",
       "</g>\n",
       "</svg>\n"
      ],
      "text/plain": [
       "<graphviz.dot.Digraph at 0x7f7e9c0d3e48>"
      ]
     },
     "execution_count": 5,
     "metadata": {},
     "output_type": "execute_result"
    }
   ],
   "source": [
    "ww.save_img('ww')\n",
    "ww.graph()"
   ]
  },
  {
   "cell_type": "code",
   "execution_count": 6,
   "metadata": {},
   "outputs": [],
   "source": [
    "ww.save_gif(\"abbabb\",filename=\"ww.gif\",show=False,dpi=\"120\")"
   ]
  },
  {
   "cell_type": "code",
   "execution_count": null,
   "metadata": {},
   "outputs": [],
   "source": []
  }
 ],
 "metadata": {
  "kernelspec": {
   "display_name": "Python 3",
   "language": "python",
   "name": "python3"
  },
  "language_info": {
   "codemirror_mode": {
    "name": "ipython",
    "version": 3
   },
   "file_extension": ".py",
   "mimetype": "text/x-python",
   "name": "python",
   "nbconvert_exporter": "python",
   "pygments_lexer": "ipython3",
   "version": "3.6.8"
  }
 },
 "nbformat": 4,
 "nbformat_minor": 2
}
