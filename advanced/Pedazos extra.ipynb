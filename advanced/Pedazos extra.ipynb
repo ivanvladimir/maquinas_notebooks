{
 "cells": [
  {
   "cell_type": "code",
   "execution_count": null,
   "id": "scenic-builder",
   "metadata": {},
   "outputs": [],
   "source": [
    "abb=load_fa(\"\"\"\n",
    "      | a  | b  |\n",
    "->q0  | q1 | q0 |\n",
    "  q1  | q1 | q2 |\n",
    "  q2  | q1 | q3 |\n",
    "  q3] | q3 | q3 |\n",
    "\"\"\")\n",
    "abb.save_img('contiene_abb',dpi=\"60\")"
   ]
  }
 ],
 "metadata": {
  "kernelspec": {
   "display_name": "Python 3",
   "language": "python",
   "name": "python3"
  },
  "language_info": {
   "codemirror_mode": {
    "name": "ipython",
    "version": 3
   },
   "file_extension": ".py",
   "mimetype": "text/x-python",
   "name": "python",
   "nbconvert_exporter": "python",
   "pygments_lexer": "ipython3",
   "version": "3.6.9"
  }
 },
 "nbformat": 4,
 "nbformat_minor": 5
}
