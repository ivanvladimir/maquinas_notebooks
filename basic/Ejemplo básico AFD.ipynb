{
 "cells": [
  {
   "cell_type": "markdown",
   "metadata": {},
   "source": [
    "[![Open In Colab](https://colab.research.google.com/assets/colab-badge.svg)](https://colab.research.google.com/github/ivanvladimir/maquinas_notebooks/blob/main/basic/Ejemplo%20b%C3%A1sico%20AFD.ipynb)"
   ]
  },
  {
   "cell_type": "markdown",
   "metadata": {},
   "source": [
    "# Autómata finito determinístico\n",
    "\n",
    "Ejemplifica la creación de un autómata finito determinístico"
   ]
  },
  {
   "cell_type": "code",
   "execution_count": 1,
   "metadata": {},
   "outputs": [
    {
     "name": "stdout",
     "output_type": "stream",
     "text": [
      "Requirement already satisfied: maquinas in /home/ivanvladimir/projects/maquinas_notebooks/env/lib/python3.6/site-packages\n",
      "Requirement already satisfied: IPython in /home/ivanvladimir/projects/maquinas_notebooks/env/lib/python3.6/site-packages (from maquinas)\n",
      "Requirement already satisfied: Pillow in /home/ivanvladimir/projects/maquinas_notebooks/env/lib/python3.6/site-packages (from maquinas)\n",
      "Requirement already satisfied: TatSu in /home/ivanvladimir/projects/maquinas_notebooks/env/lib/python3.6/site-packages (from maquinas)\n",
      "Requirement already satisfied: graphviz in /home/ivanvladimir/projects/maquinas_notebooks/env/lib/python3.6/site-packages (from maquinas)\n",
      "Requirement already satisfied: ipywidgets in /home/ivanvladimir/projects/maquinas_notebooks/env/lib/python3.6/site-packages (from maquinas)\n",
      "Requirement already satisfied: ordered_set in /home/ivanvladimir/projects/maquinas_notebooks/env/lib/python3.6/site-packages (from maquinas)\n",
      "Requirement already satisfied: setuptools>=18.5 in /home/ivanvladimir/projects/maquinas_notebooks/env/lib/python3.6/site-packages (from IPython->maquinas)\n",
      "Requirement already satisfied: decorator in /home/ivanvladimir/projects/maquinas_notebooks/env/lib/python3.6/site-packages (from IPython->maquinas)\n",
      "Requirement already satisfied: pygments in /home/ivanvladimir/projects/maquinas_notebooks/env/lib/python3.6/site-packages (from IPython->maquinas)\n",
      "Requirement already satisfied: traitlets>=4.2 in /home/ivanvladimir/projects/maquinas_notebooks/env/lib/python3.6/site-packages (from IPython->maquinas)\n",
      "Requirement already satisfied: pexpect; sys_platform != \"win32\" in /home/ivanvladimir/projects/maquinas_notebooks/env/lib/python3.6/site-packages (from IPython->maquinas)\n",
      "Requirement already satisfied: pickleshare in /home/ivanvladimir/projects/maquinas_notebooks/env/lib/python3.6/site-packages (from IPython->maquinas)\n",
      "Requirement already satisfied: jedi>=0.10 in /home/ivanvladimir/projects/maquinas_notebooks/env/lib/python3.6/site-packages (from IPython->maquinas)\n",
      "Requirement already satisfied: prompt-toolkit!=3.0.0,!=3.0.1,<3.1.0,>=2.0.0 in /home/ivanvladimir/projects/maquinas_notebooks/env/lib/python3.6/site-packages (from IPython->maquinas)\n",
      "Requirement already satisfied: backcall in /home/ivanvladimir/projects/maquinas_notebooks/env/lib/python3.6/site-packages (from IPython->maquinas)\n",
      "Requirement already satisfied: widgetsnbextension~=3.5.0 in /home/ivanvladimir/projects/maquinas_notebooks/env/lib/python3.6/site-packages (from ipywidgets->maquinas)\n",
      "Requirement already satisfied: nbformat>=4.2.0 in /home/ivanvladimir/projects/maquinas_notebooks/env/lib/python3.6/site-packages (from ipywidgets->maquinas)\n",
      "Requirement already satisfied: ipykernel>=4.5.1 in /home/ivanvladimir/projects/maquinas_notebooks/env/lib/python3.6/site-packages (from ipywidgets->maquinas)\n",
      "Requirement already satisfied: jupyterlab-widgets>=1.0.0; python_version >= \"3.6\" in /home/ivanvladimir/projects/maquinas_notebooks/env/lib/python3.6/site-packages (from ipywidgets->maquinas)\n",
      "Requirement already satisfied: ipython-genutils in /home/ivanvladimir/projects/maquinas_notebooks/env/lib/python3.6/site-packages (from traitlets>=4.2->IPython->maquinas)\n",
      "Requirement already satisfied: six in /home/ivanvladimir/projects/maquinas_notebooks/env/lib/python3.6/site-packages (from traitlets>=4.2->IPython->maquinas)\n",
      "Requirement already satisfied: ptyprocess>=0.5 in /home/ivanvladimir/projects/maquinas_notebooks/env/lib/python3.6/site-packages (from pexpect; sys_platform != \"win32\"->IPython->maquinas)\n",
      "Requirement already satisfied: parso<0.9.0,>=0.8.0 in /home/ivanvladimir/projects/maquinas_notebooks/env/lib/python3.6/site-packages (from jedi>=0.10->IPython->maquinas)\n",
      "Requirement already satisfied: wcwidth in /home/ivanvladimir/projects/maquinas_notebooks/env/lib/python3.6/site-packages (from prompt-toolkit!=3.0.0,!=3.0.1,<3.1.0,>=2.0.0->IPython->maquinas)\n",
      "Requirement already satisfied: notebook>=4.4.1 in /home/ivanvladimir/projects/maquinas_notebooks/env/lib/python3.6/site-packages (from widgetsnbextension~=3.5.0->ipywidgets->maquinas)\n",
      "Requirement already satisfied: jsonschema!=2.5.0,>=2.4 in /home/ivanvladimir/projects/maquinas_notebooks/env/lib/python3.6/site-packages (from nbformat>=4.2.0->ipywidgets->maquinas)\n",
      "Requirement already satisfied: jupyter-core in /home/ivanvladimir/projects/maquinas_notebooks/env/lib/python3.6/site-packages (from nbformat>=4.2.0->ipywidgets->maquinas)\n",
      "Requirement already satisfied: jupyter-client in /home/ivanvladimir/projects/maquinas_notebooks/env/lib/python3.6/site-packages (from ipykernel>=4.5.1->ipywidgets->maquinas)\n",
      "Requirement already satisfied: tornado>=4.2 in /home/ivanvladimir/projects/maquinas_notebooks/env/lib/python3.6/site-packages (from ipykernel>=4.5.1->ipywidgets->maquinas)\n",
      "Requirement already satisfied: terminado>=0.8.3 in /home/ivanvladimir/projects/maquinas_notebooks/env/lib/python3.6/site-packages (from notebook>=4.4.1->widgetsnbextension~=3.5.0->ipywidgets->maquinas)\n",
      "Requirement already satisfied: nbconvert in /home/ivanvladimir/projects/maquinas_notebooks/env/lib/python3.6/site-packages (from notebook>=4.4.1->widgetsnbextension~=3.5.0->ipywidgets->maquinas)\n",
      "Requirement already satisfied: Send2Trash>=1.5.0 in /home/ivanvladimir/projects/maquinas_notebooks/env/lib/python3.6/site-packages (from notebook>=4.4.1->widgetsnbextension~=3.5.0->ipywidgets->maquinas)\n",
      "Requirement already satisfied: jinja2 in /home/ivanvladimir/projects/maquinas_notebooks/env/lib/python3.6/site-packages (from notebook>=4.4.1->widgetsnbextension~=3.5.0->ipywidgets->maquinas)\n",
      "Requirement already satisfied: argon2-cffi in /home/ivanvladimir/projects/maquinas_notebooks/env/lib/python3.6/site-packages (from notebook>=4.4.1->widgetsnbextension~=3.5.0->ipywidgets->maquinas)\n",
      "Requirement already satisfied: prometheus-client in /home/ivanvladimir/projects/maquinas_notebooks/env/lib/python3.6/site-packages (from notebook>=4.4.1->widgetsnbextension~=3.5.0->ipywidgets->maquinas)\n",
      "Requirement already satisfied: pyzmq>=17 in /home/ivanvladimir/projects/maquinas_notebooks/env/lib/python3.6/site-packages (from notebook>=4.4.1->widgetsnbextension~=3.5.0->ipywidgets->maquinas)\n",
      "Requirement already satisfied: attrs>=17.4.0 in /home/ivanvladimir/projects/maquinas_notebooks/env/lib/python3.6/site-packages (from jsonschema!=2.5.0,>=2.4->nbformat>=4.2.0->ipywidgets->maquinas)\n",
      "Requirement already satisfied: pyrsistent>=0.14.0 in /home/ivanvladimir/projects/maquinas_notebooks/env/lib/python3.6/site-packages (from jsonschema!=2.5.0,>=2.4->nbformat>=4.2.0->ipywidgets->maquinas)\n",
      "Requirement already satisfied: importlib-metadata; python_version < \"3.8\" in /home/ivanvladimir/projects/maquinas_notebooks/env/lib/python3.6/site-packages (from jsonschema!=2.5.0,>=2.4->nbformat>=4.2.0->ipywidgets->maquinas)\n",
      "Requirement already satisfied: python-dateutil>=2.1 in /home/ivanvladimir/projects/maquinas_notebooks/env/lib/python3.6/site-packages (from jupyter-client->ipykernel>=4.5.1->ipywidgets->maquinas)\n",
      "Requirement already satisfied: testpath in /home/ivanvladimir/projects/maquinas_notebooks/env/lib/python3.6/site-packages (from nbconvert->notebook>=4.4.1->widgetsnbextension~=3.5.0->ipywidgets->maquinas)\n",
      "Requirement already satisfied: mistune<2,>=0.8.1 in /home/ivanvladimir/projects/maquinas_notebooks/env/lib/python3.6/site-packages (from nbconvert->notebook>=4.4.1->widgetsnbextension~=3.5.0->ipywidgets->maquinas)\n",
      "Requirement already satisfied: defusedxml in /home/ivanvladimir/projects/maquinas_notebooks/env/lib/python3.6/site-packages (from nbconvert->notebook>=4.4.1->widgetsnbextension~=3.5.0->ipywidgets->maquinas)\n",
      "Requirement already satisfied: bleach in /home/ivanvladimir/projects/maquinas_notebooks/env/lib/python3.6/site-packages (from nbconvert->notebook>=4.4.1->widgetsnbextension~=3.5.0->ipywidgets->maquinas)\n",
      "Requirement already satisfied: pandocfilters>=1.4.1 in /home/ivanvladimir/projects/maquinas_notebooks/env/lib/python3.6/site-packages (from nbconvert->notebook>=4.4.1->widgetsnbextension~=3.5.0->ipywidgets->maquinas)\n",
      "Requirement already satisfied: nbclient<0.6.0,>=0.5.0 in /home/ivanvladimir/projects/maquinas_notebooks/env/lib/python3.6/site-packages (from nbconvert->notebook>=4.4.1->widgetsnbextension~=3.5.0->ipywidgets->maquinas)\n",
      "Requirement already satisfied: jupyterlab-pygments in /home/ivanvladimir/projects/maquinas_notebooks/env/lib/python3.6/site-packages (from nbconvert->notebook>=4.4.1->widgetsnbextension~=3.5.0->ipywidgets->maquinas)\n",
      "Requirement already satisfied: entrypoints>=0.2.2 in /home/ivanvladimir/projects/maquinas_notebooks/env/lib/python3.6/site-packages (from nbconvert->notebook>=4.4.1->widgetsnbextension~=3.5.0->ipywidgets->maquinas)\n"
     ]
    },
    {
     "name": "stdout",
     "output_type": "stream",
     "text": [
      "Requirement already satisfied: MarkupSafe>=0.23 in /home/ivanvladimir/projects/maquinas_notebooks/env/lib/python3.6/site-packages (from jinja2->notebook>=4.4.1->widgetsnbextension~=3.5.0->ipywidgets->maquinas)\r\n",
      "Requirement already satisfied: cffi>=1.0.0 in /home/ivanvladimir/projects/maquinas_notebooks/env/lib/python3.6/site-packages (from argon2-cffi->notebook>=4.4.1->widgetsnbextension~=3.5.0->ipywidgets->maquinas)\r\n",
      "Requirement already satisfied: typing-extensions>=3.6.4; python_version < \"3.8\" in /home/ivanvladimir/projects/maquinas_notebooks/env/lib/python3.6/site-packages (from importlib-metadata; python_version < \"3.8\"->jsonschema!=2.5.0,>=2.4->nbformat>=4.2.0->ipywidgets->maquinas)\r\n",
      "Requirement already satisfied: zipp>=0.5 in /home/ivanvladimir/projects/maquinas_notebooks/env/lib/python3.6/site-packages (from importlib-metadata; python_version < \"3.8\"->jsonschema!=2.5.0,>=2.4->nbformat>=4.2.0->ipywidgets->maquinas)\r\n",
      "Requirement already satisfied: packaging in /home/ivanvladimir/projects/maquinas_notebooks/env/lib/python3.6/site-packages (from bleach->nbconvert->notebook>=4.4.1->widgetsnbextension~=3.5.0->ipywidgets->maquinas)\r\n",
      "Requirement already satisfied: webencodings in /home/ivanvladimir/projects/maquinas_notebooks/env/lib/python3.6/site-packages (from bleach->nbconvert->notebook>=4.4.1->widgetsnbextension~=3.5.0->ipywidgets->maquinas)\r\n",
      "Requirement already satisfied: async-generator in /home/ivanvladimir/projects/maquinas_notebooks/env/lib/python3.6/site-packages (from nbclient<0.6.0,>=0.5.0->nbconvert->notebook>=4.4.1->widgetsnbextension~=3.5.0->ipywidgets->maquinas)\r\n",
      "Requirement already satisfied: nest-asyncio in /home/ivanvladimir/projects/maquinas_notebooks/env/lib/python3.6/site-packages (from nbclient<0.6.0,>=0.5.0->nbconvert->notebook>=4.4.1->widgetsnbextension~=3.5.0->ipywidgets->maquinas)\r\n",
      "Requirement already satisfied: pycparser in /home/ivanvladimir/projects/maquinas_notebooks/env/lib/python3.6/site-packages (from cffi>=1.0.0->argon2-cffi->notebook>=4.4.1->widgetsnbextension~=3.5.0->ipywidgets->maquinas)\r\n",
      "Requirement already satisfied: pyparsing>=2.0.2 in /home/ivanvladimir/projects/maquinas_notebooks/env/lib/python3.6/site-packages (from packaging->bleach->nbconvert->notebook>=4.4.1->widgetsnbextension~=3.5.0->ipywidgets->maquinas)\r\n"
     ]
    }
   ],
   "source": [
    "# Execute if not installed\n",
    "!pip install maquinas"
   ]
  },
  {
   "cell_type": "code",
   "execution_count": 2,
   "metadata": {},
   "outputs": [],
   "source": [
    "from maquinas.regular.dfa import DeterministicFiniteAutomaton as DFA\n",
    "from maquinas.simulation import Simulation"
   ]
  },
  {
   "cell_type": "code",
   "execution_count": 3,
   "metadata": {},
   "outputs": [],
   "source": [
    "# Creating automata finito\n",
    "bes_pares=DFA(Q=['q_0','q_1'],\n",
    "                         sigma=['a','b'],\n",
    "                         q_0='q_0',\n",
    "                         A=['q_0'],\n",
    "                         delta=[\n",
    "                            (('q_0','a'),'q_0'),\n",
    "                            (('q_1','b'),'q_0'),\n",
    "                            (('q_1','a'),'q_1'),\n",
    "                            (('q_0','b'),'q_1'),\n",
    "                         ])"
   ]
  },
  {
   "cell_type": "code",
   "execution_count": 4,
   "metadata": {},
   "outputs": [
    {
     "name": "stdout",
     "output_type": "stream",
     "text": [
      "States  : q_0, q_1\n",
      "Sigma   : a, b\n",
      "Initial : q_0\n",
      "Aceptors: q_0\n",
      "Transitions:\n",
      " q_0,a → ('q', '_', '0')\n",
      " q_0,b → ('q', '_', '1')\n",
      " q_1,b → ('q', '_', '0')\n",
      " q_1,a → ('q', '_', '1')\n"
     ]
    }
   ],
   "source": [
    "print(bes_pares.summary())"
   ]
  },
  {
   "cell_type": "code",
   "execution_count": 5,
   "metadata": {},
   "outputs": [
    {
     "name": "stdout",
     "output_type": "stream",
     "text": [
      "q_0,\n",
      " b → q_1,\n",
      " b → q_0,\n",
      " a → q_0,\n",
      " a → q_0,\n",
      " b → q_1,\n",
      " b → q_0,\n",
      " b → q_1,\n",
      " a → q_1,\n",
      " a → q_1,\n",
      " a → q_1,\n",
      " a → q_1,\n",
      " a → q_1,\n",
      " a → q_1,\n",
      " a → q_1,\n",
      " a → q_1,\n",
      " b → q_0,\n",
      " a → q_0,\n",
      " a → q_0,\n",
      " a → q_0,\n",
      " a → q_0,\n",
      " a → q_0,\n",
      " "
     ]
    }
   ],
   "source": [
    "bes_pares.print_transitions(\"bbaabbbaaaaaaaabaaaaa\")"
   ]
  },
  {
   "cell_type": "code",
   "execution_count": 6,
   "metadata": {},
   "outputs": [
    {
     "name": "stdout",
     "output_type": "stream",
     "text": [
      "Con q_0 Se acepta? Sí\n"
     ]
    }
   ],
   "source": [
    "res=bes_pares.delta_extended(None,\"bbaabbbaaaaaaaabaaaaa\")\n",
    "print(f\"Con {res} Se acepta?\", \"Sí\" if bes_pares.acceptor(res) else \"No\" )"
   ]
  },
  {
   "cell_type": "code",
   "execution_count": 7,
   "metadata": {},
   "outputs": [
    {
     "name": "stdout",
     "output_type": "stream",
     "text": [
      "Con q_1 Se acepta? No\n"
     ]
    }
   ],
   "source": [
    "res=bes_pares.delta_extended(None,\"bbaabbbaaaaaaaabaaaaab\")\n",
    "print(f\"Con {res} Se acepta?\", \"Sí\" if bes_pares.acceptor(res) else \"No\" )"
   ]
  },
  {
   "cell_type": "code",
   "execution_count": 8,
   "metadata": {},
   "outputs": [
    {
     "data": {
      "application/vnd.jupyter.widget-view+json": {
       "model_id": "ddc54a1b33484bf79b04a146c7d7a781",
       "version_major": 2,
       "version_minor": 0
      },
      "text/plain": [
       "VBox(children=(HBox(children=(Text(value='bbaabbbaaaaaaaabaaaaa', description='Cadena'), Button(description='⏎…"
      ]
     },
     "metadata": {},
     "output_type": "display_data"
    }
   ],
   "source": [
    "s=Simulation(bes_pares,\"bbaabbbaaaaaaaabaaaaa\")\n",
    "s.run()"
   ]
  },
  {
   "cell_type": "code",
   "execution_count": 9,
   "metadata": {},
   "outputs": [
    {
     "data": {
      "image/svg+xml": [
       "<?xml version=\"1.0\" encoding=\"UTF-8\" standalone=\"no\"?>\n",
       "<!DOCTYPE svg PUBLIC \"-//W3C//DTD SVG 1.1//EN\"\n",
       " \"http://www.w3.org/Graphics/SVG/1.1/DTD/svg11.dtd\">\n",
       "<!-- Generated by graphviz version 2.40.1 (20161225.0304)\n",
       " -->\n",
       "<!-- Title: %3 Pages: 1 -->\n",
       "<svg width=\"161pt\" height=\"81pt\"\n",
       " viewBox=\"0.00 0.00 193.19 97.10\" xmlns=\"http://www.w3.org/2000/svg\" xmlns:xlink=\"http://www.w3.org/1999/xlink\">\n",
       "<g id=\"graph0\" class=\"graph\" transform=\"scale(.8333 .8333) rotate(0) translate(4 93.0957)\">\n",
       "<title>%3</title>\n",
       "<polygon fill=\"#ffffff\" stroke=\"transparent\" points=\"-4,4 -4,-93.0957 189.1915,-93.0957 189.1915,4 -4,4\"/>\n",
       "<!-- __initial__ -->\n",
       "<g id=\"node1\" class=\"node\">\n",
       "<title>__initial__</title>\n",
       "</g>\n",
       "<!-- q_0 -->\n",
       "<g id=\"node2\" class=\"node\">\n",
       "<title>q_0</title>\n",
       "<ellipse fill=\"none\" stroke=\"#000000\" cx=\"66.0479\" cy=\"-28.0479\" rx=\"24.089\" ry=\"24.089\"/>\n",
       "<ellipse fill=\"none\" stroke=\"#000000\" cx=\"66.0479\" cy=\"-28.0479\" rx=\"28.0958\" ry=\"28.0958\"/>\n",
       "<text text-anchor=\"middle\" x=\"66.0479\" y=\"-24.3479\" font-family=\"Times,serif\" font-size=\"14.00\" fill=\"#000000\">q_0</text>\n",
       "</g>\n",
       "<!-- __initial__&#45;&gt;q_0 -->\n",
       "<g id=\"edge1\" class=\"edge\">\n",
       "<title>__initial__&#45;&gt;q_0</title>\n",
       "<path fill=\"none\" stroke=\"#000000\" d=\"M1.2361,-28.0479C4.137,-28.0479 15.218,-28.0479 27.418,-28.0479\"/>\n",
       "<polygon fill=\"#000000\" stroke=\"#000000\" points=\"27.7741,-31.548 37.7741,-28.0479 27.774,-24.548 27.7741,-31.548\"/>\n",
       "</g>\n",
       "<!-- q_0&#45;&gt;q_0 -->\n",
       "<g id=\"edge2\" class=\"edge\">\n",
       "<title>q_0&#45;&gt;q_0</title>\n",
       "<path fill=\"none\" stroke=\"#000000\" d=\"M57.4566,-55.008C57.0747,-65.4318 59.9385,-74.0957 66.0479,-74.0957 69.9617,-74.0957 72.5435,-70.54 73.7933,-65.2438\"/>\n",
       "<polygon fill=\"#000000\" stroke=\"#000000\" points=\"77.3036,-65.2623 74.6392,-55.008 70.3274,-64.6857 77.3036,-65.2623\"/>\n",
       "<text text-anchor=\"middle\" x=\"66.0479\" y=\"-77.8957\" font-family=\"Times,serif\" font-size=\"14.00\" fill=\"#000000\">a</text>\n",
       "</g>\n",
       "<!-- q_1 -->\n",
       "<g id=\"node3\" class=\"node\">\n",
       "<title>q_1</title>\n",
       "<ellipse fill=\"none\" stroke=\"#000000\" cx=\"161.1436\" cy=\"-28.0479\" rx=\"24.0958\" ry=\"24.0958\"/>\n",
       "<text text-anchor=\"middle\" x=\"161.1436\" y=\"-24.3479\" font-family=\"Times,serif\" font-size=\"14.00\" fill=\"#000000\">q_1</text>\n",
       "</g>\n",
       "<!-- q_0&#45;&gt;q_1 -->\n",
       "<g id=\"edge3\" class=\"edge\">\n",
       "<title>q_0&#45;&gt;q_1</title>\n",
       "<path fill=\"none\" stroke=\"#000000\" d=\"M94.3223,-28.0479C104.5056,-28.0479 116.1088,-28.0479 126.7562,-28.0479\"/>\n",
       "<polygon fill=\"#000000\" stroke=\"#000000\" points=\"126.9971,-31.548 136.9971,-28.0479 126.997,-24.548 126.9971,-31.548\"/>\n",
       "<text text-anchor=\"middle\" x=\"115.5957\" y=\"-31.8479\" font-family=\"Times,serif\" font-size=\"14.00\" fill=\"#000000\">b</text>\n",
       "</g>\n",
       "<!-- q_1&#45;&gt;q_0 -->\n",
       "<g id=\"edge4\" class=\"edge\">\n",
       "<title>q_1&#45;&gt;q_0</title>\n",
       "<path fill=\"none\" stroke=\"#000000\" d=\"M139.9228,-16.3571C133.4329,-13.3654 126.1436,-10.5663 119.0957,-9.0479 112.7571,-7.6822 106.1447,-8.2974 99.8252,-9.9593\"/>\n",
       "<polygon fill=\"#000000\" stroke=\"#000000\" points=\"98.5142,-6.7095 90.2171,-13.298 100.8119,-13.3216 98.5142,-6.7095\"/>\n",
       "<text text-anchor=\"middle\" x=\"115.5957\" y=\"-12.8479\" font-family=\"Times,serif\" font-size=\"14.00\" fill=\"#000000\">b</text>\n",
       "</g>\n",
       "<!-- q_1&#45;&gt;q_1 -->\n",
       "<g id=\"edge5\" class=\"edge\">\n",
       "<title>q_1&#45;&gt;q_1</title>\n",
       "<path fill=\"none\" stroke=\"#000000\" d=\"M153.0225,-50.9709C152.2491,-61.2263 154.9561,-70.0957 161.1436,-70.0957 165.1075,-70.0957 167.6429,-66.4557 168.75,-61.1432\"/>\n",
       "<polygon fill=\"#000000\" stroke=\"#000000\" points=\"172.2548,-61.135 169.2647,-50.9709 165.2638,-60.7813 172.2548,-61.135\"/>\n",
       "<text text-anchor=\"middle\" x=\"161.1436\" y=\"-73.8957\" font-family=\"Times,serif\" font-size=\"14.00\" fill=\"#000000\">a</text>\n",
       "</g>\n",
       "</g>\n",
       "</svg>\n"
      ],
      "text/plain": [
       "<graphviz.dot.Digraph at 0x7fe8040e7908>"
      ]
     },
     "execution_count": 9,
     "metadata": {},
     "output_type": "execute_result"
    }
   ],
   "source": [
    "bes_pares.graph()"
   ]
  },
  {
   "cell_type": "code",
   "execution_count": null,
   "metadata": {},
   "outputs": [],
   "source": [
    "bes_pares.graph(symbols={'a':'🌵','b':'🌴'},states={'q_0':'🤣','q_1':'🤗'})"
   ]
  },
  {
   "cell_type": "code",
   "execution_count": null,
   "metadata": {},
   "outputs": [],
   "source": [
    "bes_pares.table(symbols={'a':'🌵','b':'🌴'},states={'q_0':'🤣','q_1':'🤗'})"
   ]
  },
  {
   "cell_type": "code",
   "execution_count": null,
   "metadata": {},
   "outputs": [],
   "source": [
    "bes_pares.reachable_states()"
   ]
  },
  {
   "cell_type": "code",
   "execution_count": null,
   "metadata": {},
   "outputs": [],
   "source": [
    "bes_pares.unreachable_states()"
   ]
  }
 ],
 "metadata": {
  "kernelspec": {
   "display_name": "Python 3",
   "language": "python",
   "name": "python3"
  },
  "language_info": {
   "codemirror_mode": {
    "name": "ipython",
    "version": 3
   },
   "file_extension": ".py",
   "mimetype": "text/x-python",
   "name": "python",
   "nbconvert_exporter": "python",
   "pygments_lexer": "ipython3",
   "version": "3.6.9"
  }
 },
 "nbformat": 4,
 "nbformat_minor": 2
}
