{
 "cells": [
  {
   "cell_type": "markdown",
   "metadata": {},
   "source": [
    "[![Open In Colab](https://colab.research.google.com/assets/colab-badge.svg)](https://colab.research.google.com/github/ivanvladimir/maquinas_notebooks/blob/main/basic/Ejemplo%20b%C3%A1sico%20AFD.ipynb)"
   ]
  },
  {
   "cell_type": "markdown",
   "metadata": {},
   "source": [
    "# Autómata finito determinístico\n",
    "\n",
    "Ejemplifica la creación de un autómata finito determinístico"
   ]
  },
  {
   "cell_type": "code",
   "execution_count": null,
   "metadata": {},
   "outputs": [],
   "source": [
    "# Execute if not installed\n",
    "!pip install maquinas"
   ]
  },
  {
   "cell_type": "code",
   "execution_count": null,
   "metadata": {},
   "outputs": [],
   "source": [
    "from maquinas.regular.dfa import DeterministicFiniteAutomaton as DFA\n",
    "from maquinas.simulation import Simulation"
   ]
  },
  {
   "cell_type": "code",
   "execution_count": null,
   "metadata": {},
   "outputs": [],
   "source": [
    "# Creating automata finito\n",
    "bes_pares=DFA(Q=['q_0','q_1'],\n",
    "                         sigma=['a','b'],\n",
    "                         q_0='q_0',\n",
    "                         A=['q_0'],\n",
    "                         delta=[\n",
    "                            (('q_0','a'),'q_0'),\n",
    "                            (('q_1','b'),'q_0'),\n",
    "                            (('q_1','a'),'q_1'),\n",
    "                            (('q_0','b'),'q_1'),\n",
    "                         ])"
   ]
  },
  {
   "cell_type": "code",
   "execution_count": null,
   "metadata": {},
   "outputs": [],
   "source": [
    "print(bes_pares.summary())"
   ]
  },
  {
   "cell_type": "code",
   "execution_count": null,
   "metadata": {},
   "outputs": [],
   "source": [
    "bes_pares.print_transitions(\"bbaabbbaaaaaaaabaaaaa\")"
   ]
  },
  {
   "cell_type": "code",
   "execution_count": null,
   "metadata": {},
   "outputs": [],
   "source": [
    "res=bes_pares.delta_extended(None,\"bbaabbbaaaaaaaabaaaaa\")\n",
    "print(f\"Con {res} Se acepta?\", \"Sí\" if bes_pares.acceptor(res) else \"No\" )"
   ]
  },
  {
   "cell_type": "code",
   "execution_count": null,
   "metadata": {},
   "outputs": [],
   "source": [
    "res=bes_pares.delta_extended(None,\"bbaabbbaaaaaaaabaaaaab\")\n",
    "print(f\"Con {res} Se acepta?\", \"Sí\" if bes_pares.acceptor(res) else \"No\" )"
   ]
  },
  {
   "cell_type": "code",
   "execution_count": null,
   "metadata": {},
   "outputs": [],
   "source": [
    "s=Simulation(bes_pares,\"bbaabbbaaaaaaaabaaaaa\")\n",
    "s.run()"
   ]
  },
  {
   "cell_type": "code",
   "execution_count": null,
   "metadata": {},
   "outputs": [],
   "source": [
    "bes_pares.graph()"
   ]
  },
  {
   "cell_type": "code",
   "execution_count": null,
   "metadata": {},
   "outputs": [],
   "source": [
    "bes_pares.graph(symbols={'a':'🌵','b':'🌴'},states={'q_0':'🤣','q_1':'🤗'})"
   ]
  },
  {
   "cell_type": "code",
   "execution_count": null,
   "metadata": {},
   "outputs": [],
   "source": [
    "bes_pares.table(symbols={'a':'🌵','b':'🌴'},states={'q_0':'🤣','q_1':'🤗'})"
   ]
  },
  {
   "cell_type": "code",
   "execution_count": null,
   "metadata": {},
   "outputs": [],
   "source": [
    "bes_pares.reachable_states()"
   ]
  },
  {
   "cell_type": "code",
   "execution_count": null,
   "metadata": {},
   "outputs": [],
   "source": [
    "bes_pares.unreachable_states()"
   ]
  }
 ],
 "metadata": {
  "kernelspec": {
   "display_name": "Python 3",
   "language": "python",
   "name": "python3"
  },
  "language_info": {
   "codemirror_mode": {
    "name": "ipython",
    "version": 3
   },
   "file_extension": ".py",
   "mimetype": "text/x-python",
   "name": "python",
   "nbconvert_exporter": "python",
   "pygments_lexer": "ipython3",
   "version": "3.6.8"
  }
 },
 "nbformat": 4,
 "nbformat_minor": 2
}
