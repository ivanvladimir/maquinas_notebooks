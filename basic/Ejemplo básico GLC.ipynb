{
 "cells": [
  {
   "cell_type": "markdown",
   "metadata": {},
   "source": [
    "[![Open In Colab](https://colab.research.google.com/assets/colab-badge.svg)](https://colab.research.google.com/github/ivanvladimir/maquinas_notebooks/blob/main/basic/Ejemplo%20b%C3%A1sico%20GLC.ipynb)"
   ]
  },
  {
   "cell_type": "markdown",
   "metadata": {},
   "source": [
    "## Ejemplos de Gramáticas libres de contexto"
   ]
  },
  {
   "cell_type": "code",
   "execution_count": null,
   "metadata": {},
   "outputs": [],
   "source": [
    "# Execute if not installed\n",
    "!pip install maquinas"
   ]
  },
  {
   "cell_type": "code",
   "execution_count": null,
   "metadata": {},
   "outputs": [],
   "source": [
    "from maquinas.contextfree.cfg import ContextFreeGrammar as CFG"
   ]
  },
  {
   "cell_type": "code",
   "execution_count": null,
   "metadata": {},
   "outputs": [],
   "source": [
    "no_ambiguous=CFG(\"S-> ACB; C-> ACB; C -> AB; A -> a; B->b\")"
   ]
  },
  {
   "cell_type": "code",
   "execution_count": null,
   "metadata": {},
   "outputs": [],
   "source": [
    "no_ambiguous.V"
   ]
  },
  {
   "cell_type": "code",
   "execution_count": null,
   "metadata": {},
   "outputs": [],
   "source": [
    "no_ambiguous.sigma"
   ]
  },
  {
   "cell_type": "code",
   "execution_count": null,
   "metadata": {},
   "outputs": [],
   "source": [
    "no_ambiguous.P"
   ]
  },
  {
   "cell_type": "code",
   "execution_count": null,
   "metadata": {},
   "outputs": [],
   "source": [
    "no_ambiguous.S"
   ]
  },
  {
   "cell_type": "code",
   "execution_count": null,
   "metadata": {},
   "outputs": [],
   "source": [
    "s=\"aabb\"\n",
    "roots,chart,forest=no_ambiguous.parse(s)\n",
    "print(f'Con \"{s}\" Se acepta?', \"Sí\" if len(roots)>0 else \"No\" )"
   ]
  },
  {
   "cell_type": "code",
   "execution_count": null,
   "metadata": {},
   "outputs": [],
   "source": [
    "trees=no_ambiguous.extract_trees(forest)\n",
    "no_ambiguous.graph_trees(trees,show_id=True)"
   ]
  },
  {
   "cell_type": "code",
   "execution_count": null,
   "metadata": {
    "scrolled": true
   },
   "outputs": [],
   "source": [
    "for i,step in enumerate(no_ambiguous.derivation(list(no_ambiguous.extract_trees(forest))[0])):\n",
    "    if not i:\n",
    "        print(\"\".join(step),end=\"\")\n",
    "    else:\n",
    "        print(\" ⇒ \",\"\".join(step),end=\"\\n \")"
   ]
  },
  {
   "cell_type": "code",
   "execution_count": null,
   "metadata": {},
   "outputs": [],
   "source": [
    "aⁿbⁿ=CFG(\"S->aSb; S-> epsilon; S -> ab\")"
   ]
  },
  {
   "cell_type": "code",
   "execution_count": null,
   "metadata": {},
   "outputs": [],
   "source": [
    "aⁿbⁿ.V"
   ]
  },
  {
   "cell_type": "code",
   "execution_count": null,
   "metadata": {},
   "outputs": [],
   "source": [
    "aⁿbⁿ.sigma"
   ]
  },
  {
   "cell_type": "code",
   "execution_count": null,
   "metadata": {},
   "outputs": [],
   "source": [
    "aⁿbⁿ.P"
   ]
  },
  {
   "cell_type": "code",
   "execution_count": null,
   "metadata": {
    "scrolled": false
   },
   "outputs": [],
   "source": [
    "s=\"aabb\"\n",
    "roots,chart,forest=aⁿbⁿ.parse(s)\n",
    "print(f'Con \"{s}\" Se acepta?', \"Sí\" if roots else \"No\" )"
   ]
  },
  {
   "cell_type": "code",
   "execution_count": null,
   "metadata": {
    "scrolled": true
   },
   "outputs": [],
   "source": [
    "trees=aⁿbⁿ.extract_trees(forest)\n",
    "aⁿbⁿ.graph_trees(trees,span=True)"
   ]
  },
  {
   "cell_type": "code",
   "execution_count": null,
   "metadata": {},
   "outputs": [],
   "source": [
    "for tree in aⁿbⁿ.extract_trees(forest):\n",
    "    for i,step in enumerate(aⁿbⁿ.derivation(tree)):\n",
    "        if not i:\n",
    "            print(\"\".join(step),end=\"\")\n",
    "        else:\n",
    "            print(\" ⇒ \",\"\".join(step),end=\"\\n \")\n",
    "    print()"
   ]
  },
  {
   "cell_type": "code",
   "execution_count": null,
   "metadata": {},
   "outputs": [],
   "source": [
    "w_wʳ=CFG(\"S->aSa; S->bSb; S-> epsilon; S -> a; S-> b; S-> aa; S -> bb\")"
   ]
  },
  {
   "cell_type": "code",
   "execution_count": null,
   "metadata": {},
   "outputs": [],
   "source": [
    "s=\"abaaba\"\n",
    "roots,chart,forest=w_wʳ.parse(s)\n",
    "print(f'Con \"{s}\" Se acepta?', \"Sí\" if roots else \"No\" )"
   ]
  },
  {
   "cell_type": "code",
   "execution_count": null,
   "metadata": {},
   "outputs": [],
   "source": [
    "trees=w_wʳ.extract_trees(forest)\n",
    "w_wʳ.graph_trees(trees)"
   ]
  },
  {
   "cell_type": "code",
   "execution_count": null,
   "metadata": {},
   "outputs": [],
   "source": [
    "for tree in w_wʳ.extract_trees(forest):\n",
    "    for i,step in enumerate(w_wʳ.derivation(tree)):\n",
    "        if not i:\n",
    "            print(\"\".join(step),end=\"\")\n",
    "        else:\n",
    "            print(\" ⇒ \",\"\".join(step),end=\"\\n \")\n",
    "    print()"
   ]
  }
 ],
 "metadata": {
  "kernelspec": {
   "display_name": "Python 3",
   "language": "python",
   "name": "python3"
  },
  "language_info": {
   "codemirror_mode": {
    "name": "ipython",
    "version": 3
   },
   "file_extension": ".py",
   "mimetype": "text/x-python",
   "name": "python",
   "nbconvert_exporter": "python",
   "pygments_lexer": "ipython3",
   "version": "3.6.8"
  }
 },
 "nbformat": 4,
 "nbformat_minor": 2
}
