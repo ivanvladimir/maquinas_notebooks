{
 "cells": [
  {
   "cell_type": "markdown",
   "metadata": {},
   "source": [
    "[![Open In Colab](https://colab.research.google.com/assets/colab-badge.svg)](https://colab.research.google.com/github/ivanvladimir/maquinas_notebooks/blob/main/basic/Ejemplo%20b%C3%A1sico%20GR.ipynb)"
   ]
  },
  {
   "cell_type": "markdown",
   "metadata": {},
   "source": [
    "## Ejemplos de gramáticas regulares"
   ]
  },
  {
   "cell_type": "code",
   "execution_count": null,
   "metadata": {},
   "outputs": [],
   "source": [
    "# Execute if not installed\n",
    "!pip install maquinas"
   ]
  },
  {
   "cell_type": "code",
   "execution_count": null,
   "metadata": {},
   "outputs": [],
   "source": [
    "from maquinas.regular.rg import RegularGrammar as RG"
   ]
  },
  {
   "cell_type": "code",
   "execution_count": null,
   "metadata": {},
   "outputs": [],
   "source": [
    "# https://en.wikipedia.org/wiki/Regular_grammar#Examples\n",
    "aes_b_ces=RG('S → aS; S → bA; A → ε; A → cA') #a*bc*"
   ]
  },
  {
   "cell_type": "code",
   "execution_count": null,
   "metadata": {},
   "outputs": [],
   "source": [
    "aes_b_ces.V"
   ]
  },
  {
   "cell_type": "code",
   "execution_count": null,
   "metadata": {},
   "outputs": [],
   "source": [
    "aes_b_ces.sigma"
   ]
  },
  {
   "cell_type": "code",
   "execution_count": null,
   "metadata": {},
   "outputs": [],
   "source": [
    "aes_b_ces.P"
   ]
  },
  {
   "cell_type": "code",
   "execution_count": null,
   "metadata": {},
   "outputs": [],
   "source": [
    "s=\"aaa b ccc\"\n",
    "aes_b_ces.tokenize(s)"
   ]
  },
  {
   "cell_type": "code",
   "execution_count": null,
   "metadata": {},
   "outputs": [],
   "source": [
    "roots,chart,forest=aes_b_ces.parse(s)"
   ]
  },
  {
   "cell_type": "code",
   "execution_count": null,
   "metadata": {},
   "outputs": [],
   "source": [
    "trees=aes_b_ces.extract_trees(forest)\n",
    "aes_b_ces.graph_trees(trees)"
   ]
  },
  {
   "cell_type": "code",
   "execution_count": null,
   "metadata": {
    "scrolled": true
   },
   "outputs": [],
   "source": [
    "for i,step in enumerate(aes_b_ces.derivation(list(aes_b_ces.extract_trees(forest))[0])):\n",
    "    if not i:\n",
    "        print(\"\".join(step),end=\"\")\n",
    "    else:\n",
    "        print(\" ⇒ \",\"\".join(step),end=\"\\n \")"
   ]
  },
  {
   "cell_type": "code",
   "execution_count": null,
   "metadata": {},
   "outputs": [],
   "source": [
    "aes_b_ces=RG(\"\"\"\n",
    "    S → A;\n",
    "    A → aA;\n",
    "    A → B;\n",
    "    B → bC;\n",
    "    C → ε;\n",
    "    C → cC\n",
    "\"\"\")"
   ]
  },
  {
   "cell_type": "code",
   "execution_count": null,
   "metadata": {},
   "outputs": [],
   "source": [
    "s=\"aaaaaaaaaabccccccc\"\n",
    "roots,chart,forest=aes_b_ces.parse(s)\n",
    "print(f'Con \"{s}\" Se acepta?', \"Sí\" if len(roots)>0 else \"No\" )"
   ]
  },
  {
   "cell_type": "code",
   "execution_count": null,
   "metadata": {},
   "outputs": [],
   "source": [
    "trees=aes_b_ces.extract_trees(forest)\n",
    "aes_b_ces.graph_trees(trees)"
   ]
  },
  {
   "cell_type": "code",
   "execution_count": null,
   "metadata": {},
   "outputs": [],
   "source": [
    "float_number=RG(\"\"\"\n",
    "S → +A;\n",
    "A → 0A;\n",
    "B → 0C;\n",
    "C → 0C;\n",
    "D → +E;\n",
    "E → 0F;\n",
    "F → 0F;\n",
    "S → -A;\n",
    "A → 1A;\n",
    "B → 1C;\n",
    "C → 1C;\n",
    "D → -E;\n",
    "E → 1F;\n",
    "F → 1F;\n",
    "S → A;\n",
    "A → 2A;\n",
    "B → 2C;\n",
    "C → 2C;\n",
    "D → E;\n",
    "E → 2F;\n",
    "F → 2F;\n",
    "A → 3A;\n",
    "B → 3C;\n",
    "C → 3C;\n",
    "E → 3F;\n",
    "F → 3F;\n",
    "A → 4A;\n",
    "B → 4C;\n",
    "C → 4C;\n",
    "E → 4F;\n",
    "F → 4F;\n",
    "A → 5A;\n",
    "B → 5C;\n",
    "C → 5C;\n",
    "E → 5F;\n",
    "F → 5F;\n",
    "A → 6A;\n",
    "B → 6C;\n",
    "C → 6C;\n",
    "E → 6F;\n",
    "F → 6F;\n",
    "A → 7A;\n",
    "B → 7C;\n",
    "C → 7C;\n",
    "E → 7F;\n",
    "F → 7F;\n",
    "A → 8A;\n",
    "B → 8C;\n",
    "C → 8C;\n",
    "E → 8F;\n",
    "F → 8F;\n",
    "A → 9A;\n",
    "B → 9C;\n",
    "C → 9C;\n",
    "E → 9F;\n",
    "F → 9F;\n",
    "A → .B;\n",
    "C → eD;\n",
    "F → ε;\n",
    "A → B;\n",
    "C → ε\n",
    "\"\"\")"
   ]
  },
  {
   "cell_type": "code",
   "execution_count": null,
   "metadata": {},
   "outputs": [],
   "source": [
    "print(float_number.summary())"
   ]
  },
  {
   "cell_type": "code",
   "execution_count": null,
   "metadata": {},
   "outputs": [],
   "source": [
    "s=\"-0.19e-10\"\n",
    "roots,chart,forest=float_number.parse(s)\n",
    "print(f'Con \"{s}\" Se acepta?', \"Sí\" if len(roots)>0 else \"No\" )"
   ]
  },
  {
   "cell_type": "code",
   "execution_count": null,
   "metadata": {},
   "outputs": [],
   "source": [
    "float_number.graph_forest(forest)"
   ]
  },
  {
   "cell_type": "code",
   "execution_count": null,
   "metadata": {},
   "outputs": [],
   "source": [
    "trees=float_number.extract_trees(forest)\n",
    "float_number.graph_trees(trees)"
   ]
  },
  {
   "cell_type": "code",
   "execution_count": null,
   "metadata": {},
   "outputs": [],
   "source": []
  }
 ],
 "metadata": {
  "kernelspec": {
   "display_name": "Python 3",
   "language": "python",
   "name": "python3"
  },
  "language_info": {
   "codemirror_mode": {
    "name": "ipython",
    "version": 3
   },
   "file_extension": ".py",
   "mimetype": "text/x-python",
   "name": "python",
   "nbconvert_exporter": "python",
   "pygments_lexer": "ipython3",
   "version": "3.6.8"
  }
 },
 "nbformat": 4,
 "nbformat_minor": 2
}
