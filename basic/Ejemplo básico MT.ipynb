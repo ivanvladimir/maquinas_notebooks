{
 "cells": [
  {
   "cell_type": "markdown",
   "metadata": {},
   "source": [
    "[![Open In Colab](https://colab.research.google.com/assets/colab-badge.svg)](https://colab.research.google.com/github/ivanvladimir/maquinas_notebooks/blob/main/basic/Ejemplo%20b%C3%A1sico%20MT.ipynb)"
   ]
  },
  {
   "cell_type": "markdown",
   "metadata": {},
   "source": [
    "# Máquina de Turing\n",
    "\n",
    "Ejemplifica la creación de un autómata de una máquina da Turing"
   ]
  },
  {
   "cell_type": "code",
   "execution_count": null,
   "metadata": {},
   "outputs": [],
   "source": [
    "# Execute if not installed\n",
    "!pip install maquinas"
   ]
  },
  {
   "cell_type": "code",
   "execution_count": null,
   "metadata": {},
   "outputs": [],
   "source": [
    "from maquinas.recursivelyenumerable.tm import TuringMachine as TM\n",
    "from maquinas.simulation import Simulation"
   ]
  },
  {
   "cell_type": "code",
   "execution_count": null,
   "metadata": {},
   "outputs": [],
   "source": [
    "# Creating automata finito\n",
    "aⁿbⁿ=TM(Q=['q_0','q_1','q_2','q_3','q_4'],\n",
    "         sigma=['a','b'],\n",
    "         gamma=['X','Y'],\n",
    "         q_0='q_0',\n",
    "         A=['q_4'],\n",
    "         delta=[\n",
    "            (('q_0','a'),[('q_1','X','R')]),\n",
    "            (('q_0','Y'),[('q_3','Y','R')]),\n",
    "            (('q_1','a'),[('q_1','a','R')]),\n",
    "            (('q_1','b'),[('q_2','Y','L')]),\n",
    "            (('q_1','Y'),[('q_1','Y','R')]),\n",
    "            (('q_2','a'),[('q_2','a','L')]),\n",
    "            (('q_2','Y'),[('q_2','Y','L')]),\n",
    "            (('q_2','X'),[('q_0','X','R')]),\n",
    "            (('q_3','Y'),[('q_3','Y','R')]),\n",
    "            (('q_3','[B]'),[('q_4','[B]','R')]),\n",
    "         ]\n",
    "    )"
   ]
  },
  {
   "cell_type": "code",
   "execution_count": null,
   "metadata": {},
   "outputs": [],
   "source": [
    "aⁿbⁿ.ttable"
   ]
  },
  {
   "cell_type": "code",
   "execution_count": null,
   "metadata": {},
   "outputs": [],
   "source": [
    "print(aⁿbⁿ.Q)\n",
    "print(aⁿbⁿ.gamma)"
   ]
  },
  {
   "cell_type": "code",
   "execution_count": null,
   "metadata": {
    "scrolled": true
   },
   "outputs": [],
   "source": [
    "print(aⁿbⁿ.summary())"
   ]
  },
  {
   "cell_type": "code",
   "execution_count": null,
   "metadata": {
    "scrolled": true
   },
   "outputs": [],
   "source": [
    "for states in aⁿbⁿ.delta_stepwise(\"aaabbb\"):\n",
    "    if states:\n",
    "        print(f\"{aⁿbⁿ.states2string(states)} ⇒\",end=\"\\n\")\n",
    "        res=states\n",
    "    else:\n",
    "        print(\"Halts\")\n",
    "    \n",
    "print(f\"Se acepta?\", \"Sí\" if aⁿbⁿ.acceptor(res) else \"No\" )"
   ]
  },
  {
   "cell_type": "code",
   "execution_count": null,
   "metadata": {},
   "outputs": [],
   "source": [
    "res=aⁿbⁿ.delta_extended(None,\"aaabbb\")\n",
    "print(f\"Se acepta?\", \"Sí\" if aⁿbⁿ.accepts(res) else \"No\" )"
   ]
  },
  {
   "cell_type": "code",
   "execution_count": null,
   "metadata": {},
   "outputs": [],
   "source": [
    "res=aⁿbⁿ.delta_extended(None,\"aabbb\")\n",
    "print(f\"Se acepta?\", \"Sí\" if aⁿbⁿ.accepts(res) else \"No\" )"
   ]
  },
  {
   "cell_type": "code",
   "execution_count": null,
   "metadata": {},
   "outputs": [],
   "source": [
    "s=Simulation(aⁿbⁿ,\"aaaabbb\")\n",
    "s.run()"
   ]
  },
  {
   "cell_type": "code",
   "execution_count": null,
   "metadata": {},
   "outputs": [],
   "source": [
    "aⁿbⁿ.graph()"
   ]
  },
  {
   "cell_type": "code",
   "execution_count": null,
   "metadata": {},
   "outputs": [],
   "source": [
    "aⁿbⁿ.graph(symbols={'Y':'🌵','X':'🦕','a':'🦑','b':'🦄'},states={'q_0':'🤣','q_1':'🤗'})"
   ]
  },
  {
   "cell_type": "code",
   "execution_count": null,
   "metadata": {},
   "outputs": [],
   "source": [
    "s=Simulation(aⁿbⁿ,'aaabbb')\n",
    "s.run()"
   ]
  },
  {
   "cell_type": "code",
   "execution_count": null,
   "metadata": {
    "scrolled": true
   },
   "outputs": [],
   "source": [
    "aⁿbⁿ.table()"
   ]
  },
  {
   "cell_type": "code",
   "execution_count": null,
   "metadata": {},
   "outputs": [],
   "source": [
    "aⁿbⁿ.save_gif('aaabbb')"
   ]
  }
 ],
 "metadata": {
  "kernelspec": {
   "display_name": "Python 3",
   "language": "python",
   "name": "python3"
  },
  "language_info": {
   "codemirror_mode": {
    "name": "ipython",
    "version": 3
   },
   "file_extension": ".py",
   "mimetype": "text/x-python",
   "name": "python",
   "nbconvert_exporter": "python",
   "pygments_lexer": "ipython3",
   "version": "3.6.8"
  }
 },
 "nbformat": 4,
 "nbformat_minor": 2
}
