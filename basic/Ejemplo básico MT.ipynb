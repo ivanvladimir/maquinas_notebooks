{
 "cells": [
  {
   "cell_type": "markdown",
   "metadata": {},
   "source": [
    "# Máquina de Turing\n",
    "\n",
    "Ejemplifica la creación de un autómata de una máquina da Turing"
   ]
  },
  {
   "cell_type": "code",
   "execution_count": 1,
   "metadata": {},
   "outputs": [],
   "source": [
    "import os\n",
    "import sys"
   ]
  },
  {
   "cell_type": "code",
   "execution_count": 2,
   "metadata": {},
   "outputs": [],
   "source": [
    "from maquinas.recursivelyenumerable.tm import TuringMachine as TM\n",
    "from maquinas.simulation import Simulation"
   ]
  },
  {
   "cell_type": "code",
   "execution_count": 3,
   "metadata": {},
   "outputs": [],
   "source": [
    "# Creating automata finito\n",
    "aⁿbⁿ=TM(Q=['q_0','q_1','q_2','q_3','q_4'],\n",
    "         sigma=['a','b'],\n",
    "         gamma=['X','Y'],\n",
    "         q_0='q_0',\n",
    "         A=['q_4'],\n",
    "         delta=[\n",
    "            (('q_0','a'),[('q_1','X','R')]),\n",
    "            (('q_0','Y'),[('q_3','Y','R')]),\n",
    "            (('q_1','a'),[('q_1','a','R')]),\n",
    "            (('q_1','b'),[('q_2','Y','L')]),\n",
    "            (('q_1','Y'),[('q_1','Y','R')]),\n",
    "            (('q_2','a'),[('q_2','a','L')]),\n",
    "            (('q_2','Y'),[('q_2','Y','L')]),\n",
    "            (('q_2','X'),[('q_0','X','R')]),\n",
    "            (('q_3','Y'),[('q_3','Y','R')]),\n",
    "            (('q_3','[B]'),[('q_4','[B]','R')]),\n",
    "         ]\n",
    "    )"
   ]
  },
  {
   "cell_type": "code",
   "execution_count": 4,
   "metadata": {},
   "outputs": [
    {
     "data": {
      "text/plain": [
       "{0: {3: {(1, 1, 1)}, 2: {(3, 2, 1)}},\n",
       " 1: {3: {(1, 3, 1)}, 4: {(2, 2, -1)}, 2: {(1, 2, 1)}},\n",
       " 2: {3: {(2, 3, -1)}, 2: {(2, 2, -1)}, 1: {(0, 1, 1)}},\n",
       " 3: {2: {(3, 2, 1)}, 0: {(4, 0, 1)}}}"
      ]
     },
     "execution_count": 4,
     "metadata": {},
     "output_type": "execute_result"
    }
   ],
   "source": [
    "aⁿbⁿ.ttable"
   ]
  },
  {
   "cell_type": "code",
   "execution_count": 5,
   "metadata": {},
   "outputs": [
    {
     "name": "stdout",
     "output_type": "stream",
     "text": [
      "OrderedSet(['q_0', 'q_1', 'q_2', 'q_3', 'q_4'])\n",
      "OrderedSet(['𝖁', 'X', 'Y', 'a', 'b'])\n"
     ]
    }
   ],
   "source": [
    "print(aⁿbⁿ.Q)\n",
    "print(aⁿbⁿ.gamma)"
   ]
  },
  {
   "cell_type": "code",
   "execution_count": 6,
   "metadata": {
    "scrolled": true
   },
   "outputs": [
    {
     "name": "stdout",
     "output_type": "stream",
     "text": [
      "States  : q_0, q_1, q_2, q_3, q_4\n",
      "Sigma   : a, b\n",
      "Gamma   : 𝖁, X, Y, a, b\n",
      "Initial : q_0\n",
      "Aceptors: q_4\n",
      "Transitions:\n",
      " q_0,a/X → q_1,1\n",
      " q_0,Y/Y → q_3,1\n",
      " q_1,a/a → q_1,1\n",
      " q_1,b/Y → q_2,-1\n",
      " q_1,Y/Y → q_1,1\n",
      " q_2,a/a → q_2,-1\n",
      " q_2,Y/Y → q_2,-1\n",
      " q_2,X/X → q_0,1\n",
      " q_3,Y/Y → q_3,1\n",
      " q_3,𝖁/𝖁 → q_4,1\n"
     ]
    }
   ],
   "source": [
    "print(aⁿbⁿ.summary())"
   ]
  },
  {
   "cell_type": "code",
   "execution_count": 7,
   "metadata": {
    "scrolled": true
   },
   "outputs": [
    {
     "name": "stdout",
     "output_type": "stream",
     "text": [
      "q_0, …  _a_ aabbb … ⇒\n",
      "q_1, … X _a_ abbb … ⇒\n",
      "q_1, … Xa _a_ bbb … ⇒\n",
      "q_1, … Xaa _b_ bb … ⇒\n",
      "q_2, … Xa _a_ Ybb … ⇒\n",
      "q_2, … X _a_ aYbb … ⇒\n",
      "q_2, …  _X_ aaYbb … ⇒\n",
      "q_0, … X _a_ aYbb … ⇒\n",
      "q_1, … XX _a_ Ybb … ⇒\n",
      "q_1, … XXa _Y_ bb … ⇒\n",
      "q_1, … XXaY _b_ b … ⇒\n",
      "q_2, … XXa _Y_ Yb … ⇒\n",
      "q_2, … XX _a_ YYb … ⇒\n",
      "q_2, … X _X_ aYYb … ⇒\n",
      "q_0, … XX _a_ YYb … ⇒\n",
      "q_1, … XXX _Y_ Yb … ⇒\n",
      "q_1, … XXXY _Y_ b … ⇒\n",
      "q_1, … XXXYY _b_  … ⇒\n",
      "q_2, … XXXY _Y_ Y … ⇒\n",
      "q_2, … XXX _Y_ YY … ⇒\n",
      "q_2, … XX _X_ YYY … ⇒\n",
      "q_0, … XXX _Y_ YY … ⇒\n",
      "q_3, … XXXY _Y_ Y … ⇒\n",
      "q_3, … XXXYY _Y_  … ⇒\n",
      "q_3, … XXXYYY _𝖁_  … ⇒\n",
      "q_4, … XXXYYY𝖁 _𝖁_  … ⇒\n"
     ]
    },
    {
     "ename": "AttributeError",
     "evalue": "'TuringMachine' object has no attribute 'accept'",
     "output_type": "error",
     "traceback": [
      "\u001b[0;31m---------------------------------------------------------------------------\u001b[0m",
      "\u001b[0;31mAttributeError\u001b[0m                            Traceback (most recent call last)",
      "\u001b[0;32m<ipython-input-7-b64b032241ec>\u001b[0m in \u001b[0;36m<module>\u001b[0;34m\u001b[0m\n\u001b[1;32m      6\u001b[0m         \u001b[0mprint\u001b[0m\u001b[0;34m(\u001b[0m\u001b[0;34m\"Halts\"\u001b[0m\u001b[0;34m)\u001b[0m\u001b[0;34m\u001b[0m\u001b[0;34m\u001b[0m\u001b[0m\n\u001b[1;32m      7\u001b[0m \u001b[0;34m\u001b[0m\u001b[0m\n\u001b[0;32m----> 8\u001b[0;31m \u001b[0mprint\u001b[0m\u001b[0;34m(\u001b[0m\u001b[0;34mf\"Se acepta?\"\u001b[0m\u001b[0;34m,\u001b[0m \u001b[0;34m\"Sí\"\u001b[0m \u001b[0;32mif\u001b[0m \u001b[0maⁿbⁿ\u001b[0m\u001b[0;34m.\u001b[0m\u001b[0maccept\u001b[0m\u001b[0;34m(\u001b[0m\u001b[0mres\u001b[0m\u001b[0;34m)\u001b[0m \u001b[0;32melse\u001b[0m \u001b[0;34m\"No\"\u001b[0m \u001b[0;34m)\u001b[0m\u001b[0;34m\u001b[0m\u001b[0;34m\u001b[0m\u001b[0m\n\u001b[0m",
      "\u001b[0;31mAttributeError\u001b[0m: 'TuringMachine' object has no attribute 'accept'"
     ]
    }
   ],
   "source": [
    "for states in aⁿbⁿ.delta_stepwise(\"aaabbb\"):\n",
    "    if states:\n",
    "        print(f\"{aⁿbⁿ.states2string(states)} ⇒\",end=\"\\n\")\n",
    "        res=states\n",
    "    else:\n",
    "        print(\"Halts\")\n",
    "    \n",
    "print(f\"Se acepta?\", \"Sí\" if aⁿbⁿ.accept(res) else \"No\" )"
   ]
  },
  {
   "cell_type": "code",
   "execution_count": 12,
   "metadata": {},
   "outputs": [
    {
     "name": "stdout",
     "output_type": "stream",
     "text": [
      "Se acepta? No\n"
     ]
    }
   ],
   "source": [
    "res=aⁿbⁿ.delta_extended(None,\"aaabbb\")\n",
    "print(f\"Se acepta?\", \"Sí\" if aⁿbⁿ.accepts(res) else \"No\" )"
   ]
  },
  {
   "cell_type": "code",
   "execution_count": 11,
   "metadata": {},
   "outputs": [
    {
     "name": "stdout",
     "output_type": "stream",
     "text": [
      "Se acepta? No\n"
     ]
    }
   ],
   "source": [
    "res=aⁿbⁿ.delta_extended(None,\"aabbb\")\n",
    "print(f\"Se acepta?\", \"Sí\" if aⁿbⁿ.accepts(res) else \"No\" )"
   ]
  },
  {
   "cell_type": "code",
   "execution_count": 13,
   "metadata": {},
   "outputs": [
    {
     "data": {
      "application/vnd.jupyter.widget-view+json": {
       "model_id": "6fca2e8f3c6d4415a3918775aa515b03",
       "version_major": 2,
       "version_minor": 0
      },
      "text/plain": [
       "VBox(children=(HBox(children=(Text(value='aaaabbb', description='Cadena'), Button(description='⏎', style=Butto…"
      ]
     },
     "metadata": {},
     "output_type": "display_data"
    }
   ],
   "source": [
    "s=Simulation(aⁿbⁿ,\"aaaabbb\")\n",
    "s.run()"
   ]
  },
  {
   "cell_type": "code",
   "execution_count": 14,
   "metadata": {},
   "outputs": [
    {
     "data": {
      "image/svg+xml": [
       "<?xml version=\"1.0\" encoding=\"UTF-8\" standalone=\"no\"?>\n",
       "<!DOCTYPE svg PUBLIC \"-//W3C//DTD SVG 1.1//EN\"\n",
       " \"http://www.w3.org/Graphics/SVG/1.1/DTD/svg11.dtd\">\n",
       "<!-- Generated by graphviz version 2.40.1 (20161225.0304)\n",
       " -->\n",
       "<!-- Title: %3 Pages: 1 -->\n",
       "<svg width=\"357pt\" height=\"238pt\"\n",
       " viewBox=\"0.00 0.00 428.29 286.00\" xmlns=\"http://www.w3.org/2000/svg\" xmlns:xlink=\"http://www.w3.org/1999/xlink\">\n",
       "<g id=\"graph0\" class=\"graph\" transform=\"scale(.8333 .8333) rotate(0) translate(4 282)\">\n",
       "<title>%3</title>\n",
       "<polygon fill=\"#ffffff\" stroke=\"transparent\" points=\"-4,4 -4,-282 424.2872,-282 424.2872,4 -4,4\"/>\n",
       "<g id=\"clust1\" class=\"cluster\">\n",
       "<title>cluster_0</title>\n",
       "</g>\n",
       "<!-- q_0_0 -->\n",
       "<g id=\"node1\" class=\"node\">\n",
       "<title>q_0_0</title>\n",
       "<ellipse fill=\"none\" stroke=\"#000000\" cx=\"40.0479\" cy=\"-148\" rx=\"24.0958\" ry=\"24.0958\"/>\n",
       "<text text-anchor=\"middle\" x=\"40.0479\" y=\"-144.3\" font-family=\"Times,serif\" font-size=\"14.00\" fill=\"#000000\">q_0</text>\n",
       "</g>\n",
       "<!-- q_1_0 -->\n",
       "<g id=\"node2\" class=\"node\">\n",
       "<title>q_1_0</title>\n",
       "<ellipse fill=\"none\" stroke=\"#000000\" cx=\"206.1436\" cy=\"-40\" rx=\"24.0958\" ry=\"24.0958\"/>\n",
       "<text text-anchor=\"middle\" x=\"206.1436\" y=\"-36.3\" font-family=\"Times,serif\" font-size=\"14.00\" fill=\"#000000\">q_1</text>\n",
       "</g>\n",
       "<!-- q_0_0&#45;&gt;q_1_0 -->\n",
       "<g id=\"edge1\" class=\"edge\">\n",
       "<title>q_0_0&#45;&gt;q_1_0</title>\n",
       "<path fill=\"none\" stroke=\"#000000\" d=\"M60.4145,-134.7571C89.7572,-115.6776 144.0591,-80.369 177.452,-58.6561\"/>\n",
       "<polygon fill=\"#000000\" stroke=\"#000000\" points=\"179.3948,-61.5677 185.8705,-53.1821 175.5789,-55.6992 179.3948,-61.5677\"/>\n",
       "<text text-anchor=\"start\" x=\"103.0957\" y=\"-111.8\" font-family=\"Times,serif\" font-size=\"14.00\" fill=\"#000000\"> a/X,R </text>\n",
       "</g>\n",
       "<!-- q_3_0 -->\n",
       "<g id=\"node4\" class=\"node\">\n",
       "<title>q_3_0</title>\n",
       "<ellipse fill=\"none\" stroke=\"#000000\" cx=\"206.1436\" cy=\"-205\" rx=\"24.0958\" ry=\"24.0958\"/>\n",
       "<text text-anchor=\"middle\" x=\"206.1436\" y=\"-201.3\" font-family=\"Times,serif\" font-size=\"14.00\" fill=\"#000000\">q_3</text>\n",
       "</g>\n",
       "<!-- q_0_0&#45;&gt;q_3_0 -->\n",
       "<g id=\"edge2\" class=\"edge\">\n",
       "<title>q_0_0&#45;&gt;q_3_0</title>\n",
       "<path fill=\"none\" stroke=\"#000000\" d=\"M62.7945,-155.8061C91.4586,-165.6429 140.9169,-182.6158 173.582,-193.8256\"/>\n",
       "<polygon fill=\"#000000\" stroke=\"#000000\" points=\"172.544,-197.1698 183.1387,-197.1053 174.8162,-190.5488 172.544,-197.1698\"/>\n",
       "<text text-anchor=\"start\" x=\"101.0957\" y=\"-187.8\" font-family=\"Times,serif\" font-size=\"14.00\" fill=\"#000000\"> Y/Y,R </text>\n",
       "</g>\n",
       "<!-- q_1_0&#45;&gt;q_1_0 -->\n",
       "<g id=\"edge3\" class=\"edge\">\n",
       "<title>q_1_0&#45;&gt;q_1_0</title>\n",
       "<path fill=\"none\" stroke=\"#000000\" d=\"M198.3916,-62.9231C197.6534,-73.1784 200.2373,-82.0479 206.1436,-82.0479 209.9273,-82.0479 212.3475,-78.4078 213.4043,-73.0953\"/>\n",
       "<polygon fill=\"#000000\" stroke=\"#000000\" points=\"216.909,-73.0803 213.8956,-62.9231 209.9172,-72.7426 216.909,-73.0803\"/>\n",
       "<text text-anchor=\"start\" x=\"189.6436\" y=\"-100.8479\" font-family=\"Times,serif\" font-size=\"14.00\" fill=\"#000000\"> a/a,R</text>\n",
       "<text text-anchor=\"start\" x=\"186.1436\" y=\"-85.8479\" font-family=\"Times,serif\" font-size=\"14.00\" fill=\"#000000\">Y/Y,R </text>\n",
       "</g>\n",
       "<!-- q_2_0 -->\n",
       "<g id=\"node3\" class=\"node\">\n",
       "<title>q_2_0</title>\n",
       "<ellipse fill=\"none\" stroke=\"#000000\" cx=\"376.2393\" cy=\"-64\" rx=\"24.0958\" ry=\"24.0958\"/>\n",
       "<text text-anchor=\"middle\" x=\"376.2393\" y=\"-60.3\" font-family=\"Times,serif\" font-size=\"14.00\" fill=\"#000000\">q_2</text>\n",
       "</g>\n",
       "<!-- q_1_0&#45;&gt;q_2_0 -->\n",
       "<g id=\"edge4\" class=\"edge\">\n",
       "<title>q_1_0&#45;&gt;q_2_0</title>\n",
       "<path fill=\"none\" stroke=\"#000000\" d=\"M230.1534,-43.3877C259.4055,-47.5151 309.0193,-54.5155 342.202,-59.1974\"/>\n",
       "<polygon fill=\"#000000\" stroke=\"#000000\" points=\"341.9607,-62.698 352.3517,-60.6295 342.9388,-55.7666 341.9607,-62.698\"/>\n",
       "<text text-anchor=\"start\" x=\"269.1915\" y=\"-57.8\" font-family=\"Times,serif\" font-size=\"14.00\" fill=\"#000000\"> b/Y,L </text>\n",
       "</g>\n",
       "<!-- q_2_0&#45;&gt;q_0_0 -->\n",
       "<g id=\"edge6\" class=\"edge\">\n",
       "<title>q_2_0&#45;&gt;q_0_0</title>\n",
       "<path fill=\"none\" stroke=\"#000000\" d=\"M365.6998,-85.6321C351.8788,-110.5207 325.1039,-148 289.1915,-148 123.0957,-148 123.0957,-148 123.0957,-148 107.201,-148 89.595,-148 74.6993,-148\"/>\n",
       "<polygon fill=\"#000000\" stroke=\"#000000\" points=\"74.3951,-144.5001 64.3951,-148 74.395,-151.5001 74.3951,-144.5001\"/>\n",
       "<text text-anchor=\"start\" x=\"184.1436\" y=\"-151.8\" font-family=\"Times,serif\" font-size=\"14.00\" fill=\"#000000\"> X/X,R </text>\n",
       "</g>\n",
       "<!-- q_2_0&#45;&gt;q_2_0 -->\n",
       "<g id=\"edge5\" class=\"edge\">\n",
       "<title>q_2_0&#45;&gt;q_2_0</title>\n",
       "<path fill=\"none\" stroke=\"#000000\" d=\"M367.7491,-86.9231C366.9405,-97.1784 369.7706,-106.0479 376.2393,-106.0479 380.3834,-106.0479 383.0341,-102.4078 384.1915,-97.0953\"/>\n",
       "<polygon fill=\"#000000\" stroke=\"#000000\" points=\"387.6964,-97.094 384.7296,-86.9231 380.7062,-96.7242 387.6964,-97.094\"/>\n",
       "<text text-anchor=\"start\" x=\"360.2393\" y=\"-124.8479\" font-family=\"Times,serif\" font-size=\"14.00\" fill=\"#000000\"> a/a,L</text>\n",
       "<text text-anchor=\"start\" x=\"356.2393\" y=\"-109.8479\" font-family=\"Times,serif\" font-size=\"14.00\" fill=\"#000000\">Y/Y,L </text>\n",
       "</g>\n",
       "<!-- q_3_0&#45;&gt;q_3_0 -->\n",
       "<g id=\"edge7\" class=\"edge\">\n",
       "<title>q_3_0&#45;&gt;q_3_0</title>\n",
       "<path fill=\"none\" stroke=\"#000000\" d=\"M198.3916,-227.9231C197.6534,-238.1784 200.2373,-247.0479 206.1436,-247.0479 209.9273,-247.0479 212.3475,-243.4078 213.4043,-238.0953\"/>\n",
       "<polygon fill=\"#000000\" stroke=\"#000000\" points=\"216.909,-238.0803 213.8956,-227.9231 209.9172,-237.7426 216.909,-238.0803\"/>\n",
       "<text text-anchor=\"start\" x=\"184.1436\" y=\"-250.8479\" font-family=\"Times,serif\" font-size=\"14.00\" fill=\"#000000\"> Y/Y,R </text>\n",
       "</g>\n",
       "<!-- q_4_0 -->\n",
       "<g id=\"node5\" class=\"node\">\n",
       "<title>q_4_0</title>\n",
       "<ellipse fill=\"none\" stroke=\"#000000\" cx=\"376.2393\" cy=\"-205\" rx=\"24.089\" ry=\"24.089\"/>\n",
       "<ellipse fill=\"none\" stroke=\"#000000\" cx=\"376.2393\" cy=\"-205\" rx=\"28.0958\" ry=\"28.0958\"/>\n",
       "<text text-anchor=\"middle\" x=\"376.2393\" y=\"-201.3\" font-family=\"Times,serif\" font-size=\"14.00\" fill=\"#000000\">q_4</text>\n",
       "</g>\n",
       "<!-- q_3_0&#45;&gt;q_4_0 -->\n",
       "<g id=\"edge8\" class=\"edge\">\n",
       "<title>q_3_0&#45;&gt;q_4_0</title>\n",
       "<path fill=\"none\" stroke=\"#000000\" d=\"M230.5142,-205C258.5312,-205 304.8791,-205 337.7773,-205\"/>\n",
       "<polygon fill=\"#000000\" stroke=\"#000000\" points=\"337.9456,-208.5001 347.9456,-205 337.9456,-201.5001 337.9456,-208.5001\"/>\n",
       "<text text-anchor=\"start\" x=\"267.1915\" y=\"-208.8\" font-family=\"Times,serif\" font-size=\"14.00\" fill=\"#000000\"> 𝖁/𝖁,R </text>\n",
       "</g>\n",
       "</g>\n",
       "</svg>\n"
      ],
      "text/plain": [
       "<graphviz.dot.Digraph at 0x7f77e443d630>"
      ]
     },
     "execution_count": 14,
     "metadata": {},
     "output_type": "execute_result"
    }
   ],
   "source": [
    "aⁿbⁿ.graph()"
   ]
  },
  {
   "cell_type": "code",
   "execution_count": 15,
   "metadata": {},
   "outputs": [
    {
     "data": {
      "image/svg+xml": [
       "<?xml version=\"1.0\" encoding=\"UTF-8\" standalone=\"no\"?>\n",
       "<!DOCTYPE svg PUBLIC \"-//W3C//DTD SVG 1.1//EN\"\n",
       " \"http://www.w3.org/Graphics/SVG/1.1/DTD/svg11.dtd\">\n",
       "<!-- Generated by graphviz version 2.40.1 (20161225.0304)\n",
       " -->\n",
       "<!-- Title: %3 Pages: 1 -->\n",
       "<svg width=\"387pt\" height=\"235pt\"\n",
       " viewBox=\"0.00 0.00 464.29 282.00\" xmlns=\"http://www.w3.org/2000/svg\" xmlns:xlink=\"http://www.w3.org/1999/xlink\">\n",
       "<g id=\"graph0\" class=\"graph\" transform=\"scale(.8333 .8333) rotate(0) translate(4 278)\">\n",
       "<title>%3</title>\n",
       "<polygon fill=\"#ffffff\" stroke=\"transparent\" points=\"-4,4 -4,-278 460.2918,-278 460.2918,4 -4,4\"/>\n",
       "<g id=\"clust1\" class=\"cluster\">\n",
       "<title>cluster_0</title>\n",
       "</g>\n",
       "<!-- q_0_0 -->\n",
       "<g id=\"node1\" class=\"node\">\n",
       "<title>q_0_0</title>\n",
       "<ellipse fill=\"none\" stroke=\"#000000\" cx=\"38.098\" cy=\"-144\" rx=\"22.1965\" ry=\"22.1965\"/>\n",
       "<text text-anchor=\"middle\" x=\"38.098\" y=\"-140.3\" font-family=\"Times,serif\" font-size=\"14.00\" fill=\"#000000\">🤣</text>\n",
       "</g>\n",
       "<!-- q_1_0 -->\n",
       "<g id=\"node2\" class=\"node\">\n",
       "<title>q_1_0</title>\n",
       "<ellipse fill=\"none\" stroke=\"#000000\" cx=\"222.6961\" cy=\"-38\" rx=\"22.1965\" ry=\"22.1965\"/>\n",
       "<text text-anchor=\"middle\" x=\"222.6961\" y=\"-34.3\" font-family=\"Times,serif\" font-size=\"14.00\" fill=\"#000000\">🤗</text>\n",
       "</g>\n",
       "<!-- q_0_0&#45;&gt;q_1_0 -->\n",
       "<g id=\"edge1\" class=\"edge\">\n",
       "<title>q_0_0&#45;&gt;q_1_0</title>\n",
       "<path fill=\"none\" stroke=\"#000000\" d=\"M57.5044,-132.8565C90.1881,-114.0888 156.352,-76.0961 194.2768,-54.3189\"/>\n",
       "<polygon fill=\"#000000\" stroke=\"#000000\" points=\"196.3437,-57.1681 203.2728,-49.1533 192.8579,-51.0977 196.3437,-57.1681\"/>\n",
       "<text text-anchor=\"start\" x=\"97.1961\" y=\"-113.8\" font-family=\"Times,serif\" font-size=\"14.00\" fill=\"#000000\"> 🦑/🦕,R </text>\n",
       "</g>\n",
       "<!-- q_3_0 -->\n",
       "<g id=\"node4\" class=\"node\">\n",
       "<title>q_3_0</title>\n",
       "<ellipse fill=\"none\" stroke=\"#000000\" cx=\"222.6961\" cy=\"-201\" rx=\"24.0958\" ry=\"24.0958\"/>\n",
       "<text text-anchor=\"middle\" x=\"222.6961\" y=\"-197.3\" font-family=\"Times,serif\" font-size=\"14.00\" fill=\"#000000\">q_3</text>\n",
       "</g>\n",
       "<!-- q_0_0&#45;&gt;q_3_0 -->\n",
       "<g id=\"edge2\" class=\"edge\">\n",
       "<title>q_0_0&#45;&gt;q_3_0</title>\n",
       "<path fill=\"none\" stroke=\"#000000\" d=\"M59.2738,-150.5386C91.1295,-160.375 151.6652,-179.0672 189.4467,-190.7333\"/>\n",
       "<polygon fill=\"#000000\" stroke=\"#000000\" points=\"188.8693,-194.218 199.4569,-193.8242 190.9346,-187.5296 188.8693,-194.218\"/>\n",
       "<text text-anchor=\"start\" x=\"97.1961\" y=\"-183.8\" font-family=\"Times,serif\" font-size=\"14.00\" fill=\"#000000\"> 🌵/🌵,R </text>\n",
       "</g>\n",
       "<!-- q_1_0&#45;&gt;q_1_0 -->\n",
       "<g id=\"edge3\" class=\"edge\">\n",
       "<title>q_1_0&#45;&gt;q_1_0</title>\n",
       "<path fill=\"none\" stroke=\"#000000\" d=\"M213.9619,-58.6312C212.7535,-68.9203 215.6648,-78.098 222.6961,-78.098 227.2005,-78.098 230.0141,-74.3315 231.1369,-68.9192\"/>\n",
       "<polygon fill=\"#000000\" stroke=\"#000000\" points=\"234.6437,-68.727 231.4302,-58.6312 227.6465,-68.5274 234.6437,-68.727\"/>\n",
       "<text text-anchor=\"start\" x=\"195.1961\" y=\"-96.898\" font-family=\"Times,serif\" font-size=\"14.00\" fill=\"#000000\"> 🦑/🦑,R</text>\n",
       "<text text-anchor=\"start\" x=\"195.1961\" y=\"-81.898\" font-family=\"Times,serif\" font-size=\"14.00\" fill=\"#000000\">🌵/🌵,R </text>\n",
       "</g>\n",
       "<!-- q_2_0 -->\n",
       "<g id=\"node3\" class=\"node\">\n",
       "<title>q_2_0</title>\n",
       "<ellipse fill=\"none\" stroke=\"#000000\" cx=\"412.2439\" cy=\"-62\" rx=\"24.0958\" ry=\"24.0958\"/>\n",
       "<text text-anchor=\"middle\" x=\"412.2439\" y=\"-58.3\" font-family=\"Times,serif\" font-size=\"14.00\" fill=\"#000000\">q_2</text>\n",
       "</g>\n",
       "<!-- q_1_0&#45;&gt;q_2_0 -->\n",
       "<g id=\"edge4\" class=\"edge\">\n",
       "<title>q_1_0&#45;&gt;q_2_0</title>\n",
       "<path fill=\"none\" stroke=\"#000000\" d=\"M244.8106,-40.8001C277.5709,-44.9481 339.2786,-52.7613 377.9378,-57.6563\"/>\n",
       "<polygon fill=\"#000000\" stroke=\"#000000\" points=\"377.8268,-61.1701 388.1872,-58.954 378.7061,-54.2255 377.8268,-61.1701\"/>\n",
       "<text text-anchor=\"start\" x=\"289.1961\" y=\"-56.8\" font-family=\"Times,serif\" font-size=\"14.00\" fill=\"#000000\"> 🦄/🌵,L </text>\n",
       "</g>\n",
       "<!-- q_2_0&#45;&gt;q_0_0 -->\n",
       "<g id=\"edge6\" class=\"edge\">\n",
       "<title>q_2_0&#45;&gt;q_0_0</title>\n",
       "<path fill=\"none\" stroke=\"#000000\" d=\"M400.2756,-83.117C384.7573,-107.4131 355.2389,-144 318.1961,-144 126.6961,-144 126.6961,-144 126.6961,-144 108.148,-144 87.4158,-144 70.6724,-144\"/>\n",
       "<polygon fill=\"#000000\" stroke=\"#000000\" points=\"70.3087,-140.5001 60.3086,-144 70.3086,-147.5001 70.3087,-140.5001\"/>\n",
       "<text text-anchor=\"start\" x=\"193.1961\" y=\"-147.8\" font-family=\"Times,serif\" font-size=\"14.00\" fill=\"#000000\"> 🦕/🦕,R </text>\n",
       "</g>\n",
       "<!-- q_2_0&#45;&gt;q_2_0 -->\n",
       "<g id=\"edge5\" class=\"edge\">\n",
       "<title>q_2_0&#45;&gt;q_2_0</title>\n",
       "<path fill=\"none\" stroke=\"#000000\" d=\"M403.7537,-84.9231C402.9451,-95.1784 405.7752,-104.0479 412.2439,-104.0479 416.388,-104.0479 419.0387,-100.4078 420.1961,-95.0953\"/>\n",
       "<polygon fill=\"#000000\" stroke=\"#000000\" points=\"423.701,-95.094 420.7342,-84.9231 416.7108,-94.7242 423.701,-95.094\"/>\n",
       "<text text-anchor=\"start\" x=\"384.7439\" y=\"-122.8479\" font-family=\"Times,serif\" font-size=\"14.00\" fill=\"#000000\"> 🦑/🦑,L</text>\n",
       "<text text-anchor=\"start\" x=\"384.7439\" y=\"-107.8479\" font-family=\"Times,serif\" font-size=\"14.00\" fill=\"#000000\">🌵/🌵,L </text>\n",
       "</g>\n",
       "<!-- q_3_0&#45;&gt;q_3_0 -->\n",
       "<g id=\"edge7\" class=\"edge\">\n",
       "<title>q_3_0&#45;&gt;q_3_0</title>\n",
       "<path fill=\"none\" stroke=\"#000000\" d=\"M213.8741,-223.495C212.9117,-233.9303 215.8523,-243.0479 222.6961,-243.0479 227.0804,-243.0479 229.8628,-239.306 231.0434,-233.873\"/>\n",
       "<polygon fill=\"#000000\" stroke=\"#000000\" points=\"234.5575,-233.6445 231.5181,-223.495 227.5648,-233.3246 234.5575,-233.6445\"/>\n",
       "<text text-anchor=\"start\" x=\"193.1961\" y=\"-246.8479\" font-family=\"Times,serif\" font-size=\"14.00\" fill=\"#000000\"> 🌵/🌵,R </text>\n",
       "</g>\n",
       "<!-- q_4_0 -->\n",
       "<g id=\"node5\" class=\"node\">\n",
       "<title>q_4_0</title>\n",
       "<ellipse fill=\"none\" stroke=\"#000000\" cx=\"412.2439\" cy=\"-201\" rx=\"24.089\" ry=\"24.089\"/>\n",
       "<ellipse fill=\"none\" stroke=\"#000000\" cx=\"412.2439\" cy=\"-201\" rx=\"28.0958\" ry=\"28.0958\"/>\n",
       "<text text-anchor=\"middle\" x=\"412.2439\" y=\"-197.3\" font-family=\"Times,serif\" font-size=\"14.00\" fill=\"#000000\">q_4</text>\n",
       "</g>\n",
       "<!-- q_3_0&#45;&gt;q_4_0 -->\n",
       "<g id=\"edge8\" class=\"edge\">\n",
       "<title>q_3_0&#45;&gt;q_4_0</title>\n",
       "<path fill=\"none\" stroke=\"#000000\" d=\"M247.0881,-201C279.1678,-201 335.8947,-201 373.7825,-201\"/>\n",
       "<polygon fill=\"#000000\" stroke=\"#000000\" points=\"373.9332,-204.5001 383.9331,-201 373.9331,-197.5001 373.9332,-204.5001\"/>\n",
       "<text text-anchor=\"start\" x=\"296.1961\" y=\"-204.8\" font-family=\"Times,serif\" font-size=\"14.00\" fill=\"#000000\"> 𝖁/𝖁,R </text>\n",
       "</g>\n",
       "</g>\n",
       "</svg>\n"
      ],
      "text/plain": [
       "<graphviz.dot.Digraph at 0x7f77c7d17e10>"
      ]
     },
     "execution_count": 15,
     "metadata": {},
     "output_type": "execute_result"
    }
   ],
   "source": [
    "aⁿbⁿ.graph(symbols={'Y':'🌵','X':'🦕','a':'🦑','b':'🦄'},states={'q_0':'🤣','q_1':'🤗'})"
   ]
  },
  {
   "cell_type": "code",
   "execution_count": 16,
   "metadata": {},
   "outputs": [
    {
     "data": {
      "application/vnd.jupyter.widget-view+json": {
       "model_id": "4c083ec5bcb64b3fa2f37c10621aadf5",
       "version_major": 2,
       "version_minor": 0
      },
      "text/plain": [
       "VBox(children=(HBox(children=(Text(value='aaabbb', description='Cadena'), Button(description='⏎', style=Button…"
      ]
     },
     "metadata": {},
     "output_type": "display_data"
    }
   ],
   "source": [
    "s=Simulation(aⁿbⁿ,'aaabbb')\n",
    "s.run()"
   ]
  },
  {
   "cell_type": "code",
   "execution_count": 17,
   "metadata": {
    "scrolled": true
   },
   "outputs": [
    {
     "data": {
      "text/html": [
       "<table><tr><td></td><td><strong>X</strong></td><td><strong>Y</strong></td><td><strong>a</strong></td><td><strong>b</strong></td><td><strong>𝖁</strong></td></tr><tr><td ><strong>⟶q_0</strong></td><td>∅</td><td>/Y→q_3,R</td><td>/X→q_1,R</td><td>∅</td><td>∅</td></tr><tr><td ><strong>q_1</strong></td><td>∅</td><td>/Y→q_1,R</td><td>/a→q_1,R</td><td>/Y→q_2,L</td><td>∅</td></tr><tr><td ><strong>q_2</strong></td><td>/X→q_0,R</td><td>/Y→q_2,L</td><td>/a→q_2,L</td><td>∅</td><td>∅</td></tr><tr><td ><strong>q_3</strong></td><td>∅</td><td>/Y→q_3,R</td><td>∅</td><td>∅</td><td>/𝖁→q_4,R</td></tr><tr><td bgcolor=\"#32a852\"><strong>q_4</strong></td><td>∅</td><td>∅</td><td>∅</td><td>∅</td><td>∅</td></tr></table>"
      ],
      "text/plain": [
       "<IPython.core.display.HTML object>"
      ]
     },
     "metadata": {},
     "output_type": "display_data"
    }
   ],
   "source": [
    "aⁿbⁿ.table()"
   ]
  },
  {
   "cell_type": "code",
   "execution_count": 18,
   "metadata": {},
   "outputs": [
    {
     "ename": "TypeError",
     "evalue": "list indices must be integers or slices, not str",
     "output_type": "error",
     "traceback": [
      "\u001b[0;31m---------------------------------------------------------------------------\u001b[0m",
      "\u001b[0;31mTypeError\u001b[0m                                 Traceback (most recent call last)",
      "\u001b[0;32m<ipython-input-18-f40b41d23a87>\u001b[0m in \u001b[0;36m<module>\u001b[0;34m\u001b[0m\n\u001b[0;32m----> 1\u001b[0;31m \u001b[0maⁿbⁿ\u001b[0m\u001b[0;34m.\u001b[0m\u001b[0msave_gif\u001b[0m\u001b[0;34m(\u001b[0m\u001b[0;34m'aaabbb'\u001b[0m\u001b[0;34m)\u001b[0m\u001b[0;34m\u001b[0m\u001b[0;34m\u001b[0m\u001b[0m\n\u001b[0m",
      "\u001b[0;32m~/projects/maquinas_examples/env/lib/python3.6/site-packages/maquinas/recursivelyenumerable/tm.py\u001b[0m in \u001b[0;36msave_gif\u001b[0;34m(self, w, filename, symbols, states, dpi, show, loop, duration, max_steps)\u001b[0m\n\u001b[1;32m    633\u001b[0m                 \u001b[0;32mbreak\u001b[0m\u001b[0;34m\u001b[0m\u001b[0;34m\u001b[0m\u001b[0m\n\u001b[1;32m    634\u001b[0m             \u001b[0mfilename_\u001b[0m\u001b[0;34m=\u001b[0m\u001b[0mos\u001b[0m\u001b[0;34m.\u001b[0m\u001b[0mpath\u001b[0m\u001b[0;34m.\u001b[0m\u001b[0mjoin\u001b[0m\u001b[0;34m(\u001b[0m\u001b[0mdirpath\u001b[0m\u001b[0;34m,\u001b[0m\u001b[0;34mf'{i}'\u001b[0m\u001b[0;34m)\u001b[0m\u001b[0;34m\u001b[0m\u001b[0;34m\u001b[0m\u001b[0m\n\u001b[0;32m--> 635\u001b[0;31m             g=self.save_img(filename_,q_c=q,q_prev=set([self._state(q_c) for q_c,_,_,_ in q]),\n\u001b[0m\u001b[1;32m    636\u001b[0m                     \u001b[0msymbols\u001b[0m\u001b[0;34m=\u001b[0m\u001b[0msymbols\u001b[0m\u001b[0;34m,\u001b[0m\u001b[0mstates\u001b[0m\u001b[0;34m=\u001b[0m\u001b[0mstates\u001b[0m\u001b[0;34m,\u001b[0m\u001b[0mstatus\u001b[0m\u001b[0;34m=\u001b[0m\u001b[0mstatus\u001b[0m\u001b[0;34m,\u001b[0m\u001b[0;34m\u001b[0m\u001b[0;34m\u001b[0m\u001b[0m\n\u001b[1;32m    637\u001b[0m                     dpi=dpi)\n",
      "\u001b[0;32m~/projects/maquinas_examples/env/lib/python3.6/site-packages/maquinas/recursivelyenumerable/tm.py\u001b[0m in \u001b[0;36m<listcomp>\u001b[0;34m(.0)\u001b[0m\n\u001b[1;32m    633\u001b[0m                 \u001b[0;32mbreak\u001b[0m\u001b[0;34m\u001b[0m\u001b[0;34m\u001b[0m\u001b[0m\n\u001b[1;32m    634\u001b[0m             \u001b[0mfilename_\u001b[0m\u001b[0;34m=\u001b[0m\u001b[0mos\u001b[0m\u001b[0;34m.\u001b[0m\u001b[0mpath\u001b[0m\u001b[0;34m.\u001b[0m\u001b[0mjoin\u001b[0m\u001b[0;34m(\u001b[0m\u001b[0mdirpath\u001b[0m\u001b[0;34m,\u001b[0m\u001b[0;34mf'{i}'\u001b[0m\u001b[0;34m)\u001b[0m\u001b[0;34m\u001b[0m\u001b[0;34m\u001b[0m\u001b[0m\n\u001b[0;32m--> 635\u001b[0;31m             g=self.save_img(filename_,q_c=q,q_prev=set([self._state(q_c) for q_c,_,_,_ in q]),\n\u001b[0m\u001b[1;32m    636\u001b[0m                     \u001b[0msymbols\u001b[0m\u001b[0;34m=\u001b[0m\u001b[0msymbols\u001b[0m\u001b[0;34m,\u001b[0m\u001b[0mstates\u001b[0m\u001b[0;34m=\u001b[0m\u001b[0mstates\u001b[0m\u001b[0;34m,\u001b[0m\u001b[0mstatus\u001b[0m\u001b[0;34m=\u001b[0m\u001b[0mstatus\u001b[0m\u001b[0;34m,\u001b[0m\u001b[0;34m\u001b[0m\u001b[0;34m\u001b[0m\u001b[0m\n\u001b[1;32m    637\u001b[0m                     dpi=dpi)\n",
      "\u001b[0;32m~/projects/maquinas_examples/env/lib/python3.6/site-packages/maquinas/recursivelyenumerable/tm.py\u001b[0m in \u001b[0;36m_state\u001b[0;34m(self, nq)\u001b[0m\n\u001b[1;32m     87\u001b[0m \u001b[0;34m\u001b[0m\u001b[0m\n\u001b[1;32m     88\u001b[0m     \u001b[0;32mdef\u001b[0m \u001b[0m_state\u001b[0m\u001b[0;34m(\u001b[0m\u001b[0mself\u001b[0m\u001b[0;34m,\u001b[0m\u001b[0mnq\u001b[0m\u001b[0;34m)\u001b[0m\u001b[0;34m:\u001b[0m\u001b[0;34m\u001b[0m\u001b[0;34m\u001b[0m\u001b[0m\n\u001b[0;32m---> 89\u001b[0;31m         \u001b[0;32mreturn\u001b[0m \u001b[0mself\u001b[0m\u001b[0;34m.\u001b[0m\u001b[0mQ\u001b[0m\u001b[0;34m.\u001b[0m\u001b[0mitems\u001b[0m\u001b[0;34m[\u001b[0m\u001b[0mnq\u001b[0m\u001b[0;34m]\u001b[0m\u001b[0;34m\u001b[0m\u001b[0;34m\u001b[0m\u001b[0m\n\u001b[0m\u001b[1;32m     90\u001b[0m \u001b[0;34m\u001b[0m\u001b[0m\n\u001b[1;32m     91\u001b[0m     \u001b[0;32mdef\u001b[0m \u001b[0m_symbol\u001b[0m\u001b[0;34m(\u001b[0m\u001b[0mself\u001b[0m\u001b[0;34m,\u001b[0m\u001b[0mna\u001b[0m\u001b[0;34m)\u001b[0m\u001b[0;34m:\u001b[0m\u001b[0;34m\u001b[0m\u001b[0;34m\u001b[0m\u001b[0m\n",
      "\u001b[0;31mTypeError\u001b[0m: list indices must be integers or slices, not str"
     ]
    }
   ],
   "source": [
    "aⁿbⁿ.save_gif('aaabbb')"
   ]
  },
  {
   "cell_type": "code",
   "execution_count": null,
   "metadata": {},
   "outputs": [],
   "source": []
  }
 ],
 "metadata": {
  "kernelspec": {
   "display_name": "Python 3",
   "language": "python",
   "name": "python3"
  },
  "language_info": {
   "codemirror_mode": {
    "name": "ipython",
    "version": 3
   },
   "file_extension": ".py",
   "mimetype": "text/x-python",
   "name": "python",
   "nbconvert_exporter": "python",
   "pygments_lexer": "ipython3",
   "version": "3.6.8"
  }
 },
 "nbformat": 4,
 "nbformat_minor": 2
}
