{
 "cells": [
  {
   "cell_type": "markdown",
   "metadata": {},
   "source": [
    "[![Open In Colab](https://colab.research.google.com/assets/colab-badge.svg)](https://colab.research.google.com/github/ivanvladimir/maquinas_notebooks/blob/main/basic/Ejemplo%20b%C3%A1sico%20TSPDA.ipynb)"
   ]
  },
  {
   "cell_type": "markdown",
   "metadata": {},
   "source": [
    "# Autómata de Doble Pila\n",
    "\n",
    "Ejemplifica la creación de un autómata de doble pila"
   ]
  },
  {
   "cell_type": "code",
   "execution_count": null,
   "metadata": {},
   "outputs": [],
   "source": [
    "# Execute if not installed\n",
    "!pip install maquinas"
   ]
  },
  {
   "cell_type": "code",
   "execution_count": null,
   "metadata": {},
   "outputs": [],
   "source": [
    "from maquinas.recursivelyenumerable.tspda import TwoStackPushDownAutomaton as PDA2\n",
    "from maquinas.simulation import Simulation"
   ]
  },
  {
   "cell_type": "code",
   "execution_count": null,
   "metadata": {},
   "outputs": [],
   "source": [
    "# Creating automata finito\n",
    "aⁿbⁿcⁿ=PDA2(Q=['q_0','q_1','q_2','q_3'],\n",
    "         sigma=['a','b'],\n",
    "         gamma=['A'],\n",
    "         q_0='q_0',\n",
    "         A=['q_3'],\n",
    "         delta=[\n",
    "            (('q_0','a','Z0','Z0'),[('q_0','AZ0','AZ0')]),\n",
    "            (('q_0','a','A','A'),[('q_0','AA','AA')]),\n",
    "            (('q_0','b','A','A'),[('q_1','epsilon','A')]),\n",
    "            (('q_1','b','A','A'),[('q_1','epsilon','A')]),\n",
    "            (('q_1','c','Z0','A'),[('q_2','Z0','epsilon')]),\n",
    "            (('q_2','c','Z0','A'),[('q_2','Z0','epsilon')]),\n",
    "            (('q_2','epsilon','Z0','Z0'),[('q_3','Z0','Z0')]),\n",
    "         ]\n",
    "    )"
   ]
  },
  {
   "cell_type": "code",
   "execution_count": null,
   "metadata": {
    "scrolled": true
   },
   "outputs": [],
   "source": [
    "print(aⁿbⁿcⁿ.summary())"
   ]
  },
  {
   "cell_type": "code",
   "execution_count": null,
   "metadata": {},
   "outputs": [],
   "source": [
    "for q,a,w_ in aⁿbⁿcⁿ.delta_stepwise(\"aaabbbccc\"):\n",
    "    if a:\n",
    "        print(f\"{a} -> {aⁿbⁿcⁿ.states2string(q)}\", end=\",\\n \")\n",
    "    else:\n",
    "        print(f\"{aⁿbⁿcⁿ.states2string(q)}\",end=\"\\n \")\n",
    "    res=q\n",
    "    \n",
    "print(f\"\\nCon {aⁿbⁿcⁿ.states2string(res)} Se acepta?\", \"Sí\" if aⁿbⁿcⁿ.acceptor(res) else \"No\" )"
   ]
  },
  {
   "cell_type": "code",
   "execution_count": null,
   "metadata": {},
   "outputs": [],
   "source": [
    "res=aⁿbⁿcⁿ.delta_extended(None,\"aab\")\n",
    "print(f\"Con {aⁿbⁿcⁿ.states2string(res)} Se acepta?\", \"Sí\" if aⁿbⁿcⁿ.acceptor(res) else \"No\" )"
   ]
  },
  {
   "cell_type": "code",
   "execution_count": null,
   "metadata": {},
   "outputs": [],
   "source": [
    "res=aⁿbⁿcⁿ.delta_extended(None,\"aabb\")\n",
    "print(f\"Con {aⁿbⁿcⁿ.states2string(res)} Se acepta?\", \"Sí\" if aⁿbⁿcⁿ.acceptor(res) else \"No\" )"
   ]
  },
  {
   "cell_type": "code",
   "execution_count": null,
   "metadata": {},
   "outputs": [],
   "source": [
    "s=Simulation(aⁿbⁿcⁿ,\"aaabbbccc\")\n",
    "s.run()"
   ]
  },
  {
   "cell_type": "code",
   "execution_count": null,
   "metadata": {},
   "outputs": [],
   "source": [
    "aⁿbⁿcⁿ.graph()"
   ]
  },
  {
   "cell_type": "code",
   "execution_count": null,
   "metadata": {},
   "outputs": [],
   "source": [
    "aⁿbⁿcⁿ.graph(symbols={'A':'🌵'},states={'q_0':'🤣','q_1':'🤗'})"
   ]
  },
  {
   "cell_type": "code",
   "execution_count": null,
   "metadata": {},
   "outputs": [],
   "source": [
    "aⁿbⁿcⁿ.table()"
   ]
  },
  {
   "cell_type": "code",
   "execution_count": null,
   "metadata": {},
   "outputs": [],
   "source": [
    "aⁿbⁿcⁿ.save_gif('aaabbbccc')"
   ]
  },
  {
   "cell_type": "code",
   "execution_count": null,
   "metadata": {},
   "outputs": [],
   "source": []
  }
 ],
 "metadata": {
  "kernelspec": {
   "display_name": "Python 3",
   "language": "python",
   "name": "python3"
  },
  "language_info": {
   "codemirror_mode": {
    "name": "ipython",
    "version": 3
   },
   "file_extension": ".py",
   "mimetype": "text/x-python",
   "name": "python",
   "nbconvert_exporter": "python",
   "pygments_lexer": "ipython3",
   "version": "3.6.8"
  }
 },
 "nbformat": 4,
 "nbformat_minor": 2
}
