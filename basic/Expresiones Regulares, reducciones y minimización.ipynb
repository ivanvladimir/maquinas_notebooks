{
 "cells": [
  {
   "cell_type": "markdown",
   "metadata": {},
   "source": [
    "[![Open In Colab](https://colab.research.google.com/assets/colab-badge.svg)](https://colab.research.google.com/github/ivanvladimir/maquinas_notebooks/blob/main/basic/Expresiones%20Regulares%2C%20reducciones%20y%20minimizaci%C3%B3n.ipynb)"
   ]
  },
  {
   "cell_type": "markdown",
   "metadata": {},
   "source": [
    "## Ejemplos de ER hasta minimización"
   ]
  },
  {
   "cell_type": "code",
   "execution_count": 1,
   "metadata": {
    "scrolled": true
   },
   "outputs": [
    {
     "name": "stdout",
     "output_type": "stream",
     "text": [
      "Requirement already satisfied: maquinas in /home/ivanvladimir/projects/maquinas_notebooks/env/lib/python3.6/site-packages\n",
      "Requirement already satisfied: graphviz in /home/ivanvladimir/projects/maquinas_notebooks/env/lib/python3.6/site-packages (from maquinas)\n",
      "Requirement already satisfied: ipywidgets in /home/ivanvladimir/projects/maquinas_notebooks/env/lib/python3.6/site-packages (from maquinas)\n",
      "Requirement already satisfied: IPython in /home/ivanvladimir/projects/maquinas_notebooks/env/lib/python3.6/site-packages (from maquinas)\n",
      "Requirement already satisfied: ordered_set in /home/ivanvladimir/projects/maquinas_notebooks/env/lib/python3.6/site-packages (from maquinas)\n",
      "Requirement already satisfied: Pillow in /home/ivanvladimir/projects/maquinas_notebooks/env/lib/python3.6/site-packages (from maquinas)\n",
      "Requirement already satisfied: TatSu in /home/ivanvladimir/projects/maquinas_notebooks/env/lib/python3.6/site-packages (from maquinas)\n",
      "Requirement already satisfied: ipykernel>=4.5.1 in /home/ivanvladimir/projects/maquinas_notebooks/env/lib/python3.6/site-packages (from ipywidgets->maquinas)\n",
      "Requirement already satisfied: widgetsnbextension~=3.5.0 in /home/ivanvladimir/projects/maquinas_notebooks/env/lib/python3.6/site-packages (from ipywidgets->maquinas)\n",
      "Requirement already satisfied: jupyterlab-widgets>=1.0.0; python_version >= \"3.6\" in /home/ivanvladimir/projects/maquinas_notebooks/env/lib/python3.6/site-packages (from ipywidgets->maquinas)\n",
      "Requirement already satisfied: traitlets>=4.3.1 in /home/ivanvladimir/projects/maquinas_notebooks/env/lib/python3.6/site-packages (from ipywidgets->maquinas)\n",
      "Requirement already satisfied: nbformat>=4.2.0 in /home/ivanvladimir/projects/maquinas_notebooks/env/lib/python3.6/site-packages (from ipywidgets->maquinas)\n",
      "Requirement already satisfied: pygments in /home/ivanvladimir/projects/maquinas_notebooks/env/lib/python3.6/site-packages (from IPython->maquinas)\n",
      "Requirement already satisfied: decorator in /home/ivanvladimir/projects/maquinas_notebooks/env/lib/python3.6/site-packages (from IPython->maquinas)\n",
      "Requirement already satisfied: backcall in /home/ivanvladimir/projects/maquinas_notebooks/env/lib/python3.6/site-packages (from IPython->maquinas)\n",
      "Requirement already satisfied: prompt-toolkit!=3.0.0,!=3.0.1,<3.1.0,>=2.0.0 in /home/ivanvladimir/projects/maquinas_notebooks/env/lib/python3.6/site-packages (from IPython->maquinas)\n",
      "Requirement already satisfied: pickleshare in /home/ivanvladimir/projects/maquinas_notebooks/env/lib/python3.6/site-packages (from IPython->maquinas)\n",
      "Requirement already satisfied: pexpect; sys_platform != \"win32\" in /home/ivanvladimir/projects/maquinas_notebooks/env/lib/python3.6/site-packages (from IPython->maquinas)\n",
      "Requirement already satisfied: jedi>=0.10 in /home/ivanvladimir/projects/maquinas_notebooks/env/lib/python3.6/site-packages (from IPython->maquinas)\n",
      "Requirement already satisfied: setuptools>=18.5 in /home/ivanvladimir/projects/maquinas_notebooks/env/lib/python3.6/site-packages (from IPython->maquinas)\n",
      "Requirement already satisfied: jupyter-client in /home/ivanvladimir/projects/maquinas_notebooks/env/lib/python3.6/site-packages (from ipykernel>=4.5.1->ipywidgets->maquinas)\n",
      "Requirement already satisfied: tornado>=4.2 in /home/ivanvladimir/projects/maquinas_notebooks/env/lib/python3.6/site-packages (from ipykernel>=4.5.1->ipywidgets->maquinas)\n",
      "Requirement already satisfied: notebook>=4.4.1 in /home/ivanvladimir/projects/maquinas_notebooks/env/lib/python3.6/site-packages (from widgetsnbextension~=3.5.0->ipywidgets->maquinas)\n",
      "Requirement already satisfied: six in /home/ivanvladimir/projects/maquinas_notebooks/env/lib/python3.6/site-packages (from traitlets>=4.3.1->ipywidgets->maquinas)\n",
      "Requirement already satisfied: ipython-genutils in /home/ivanvladimir/projects/maquinas_notebooks/env/lib/python3.6/site-packages (from traitlets>=4.3.1->ipywidgets->maquinas)\n",
      "Requirement already satisfied: jupyter-core in /home/ivanvladimir/projects/maquinas_notebooks/env/lib/python3.6/site-packages (from nbformat>=4.2.0->ipywidgets->maquinas)\n",
      "Requirement already satisfied: jsonschema!=2.5.0,>=2.4 in /home/ivanvladimir/projects/maquinas_notebooks/env/lib/python3.6/site-packages (from nbformat>=4.2.0->ipywidgets->maquinas)\n",
      "Requirement already satisfied: wcwidth in /home/ivanvladimir/projects/maquinas_notebooks/env/lib/python3.6/site-packages (from prompt-toolkit!=3.0.0,!=3.0.1,<3.1.0,>=2.0.0->IPython->maquinas)\n",
      "Requirement already satisfied: ptyprocess>=0.5 in /home/ivanvladimir/projects/maquinas_notebooks/env/lib/python3.6/site-packages (from pexpect; sys_platform != \"win32\"->IPython->maquinas)\n",
      "Requirement already satisfied: parso<0.9.0,>=0.8.0 in /home/ivanvladimir/projects/maquinas_notebooks/env/lib/python3.6/site-packages (from jedi>=0.10->IPython->maquinas)\n",
      "Requirement already satisfied: pyzmq>=13 in /home/ivanvladimir/projects/maquinas_notebooks/env/lib/python3.6/site-packages (from jupyter-client->ipykernel>=4.5.1->ipywidgets->maquinas)\n",
      "Requirement already satisfied: python-dateutil>=2.1 in /home/ivanvladimir/projects/maquinas_notebooks/env/lib/python3.6/site-packages (from jupyter-client->ipykernel>=4.5.1->ipywidgets->maquinas)\n",
      "Requirement already satisfied: prometheus-client in /home/ivanvladimir/projects/maquinas_notebooks/env/lib/python3.6/site-packages (from notebook>=4.4.1->widgetsnbextension~=3.5.0->ipywidgets->maquinas)\n",
      "Requirement already satisfied: Send2Trash>=1.5.0 in /home/ivanvladimir/projects/maquinas_notebooks/env/lib/python3.6/site-packages (from notebook>=4.4.1->widgetsnbextension~=3.5.0->ipywidgets->maquinas)\n",
      "Requirement already satisfied: terminado>=0.8.3 in /home/ivanvladimir/projects/maquinas_notebooks/env/lib/python3.6/site-packages (from notebook>=4.4.1->widgetsnbextension~=3.5.0->ipywidgets->maquinas)\n",
      "Requirement already satisfied: nbconvert in /home/ivanvladimir/projects/maquinas_notebooks/env/lib/python3.6/site-packages (from notebook>=4.4.1->widgetsnbextension~=3.5.0->ipywidgets->maquinas)\n",
      "Requirement already satisfied: jinja2 in /home/ivanvladimir/projects/maquinas_notebooks/env/lib/python3.6/site-packages (from notebook>=4.4.1->widgetsnbextension~=3.5.0->ipywidgets->maquinas)\n",
      "Requirement already satisfied: argon2-cffi in /home/ivanvladimir/projects/maquinas_notebooks/env/lib/python3.6/site-packages (from notebook>=4.4.1->widgetsnbextension~=3.5.0->ipywidgets->maquinas)\n",
      "Requirement already satisfied: attrs>=17.4.0 in /home/ivanvladimir/projects/maquinas_notebooks/env/lib/python3.6/site-packages (from jsonschema!=2.5.0,>=2.4->nbformat>=4.2.0->ipywidgets->maquinas)\n",
      "Requirement already satisfied: importlib-metadata; python_version < \"3.8\" in /home/ivanvladimir/projects/maquinas_notebooks/env/lib/python3.6/site-packages (from jsonschema!=2.5.0,>=2.4->nbformat>=4.2.0->ipywidgets->maquinas)\n",
      "Requirement already satisfied: pyrsistent>=0.14.0 in /home/ivanvladimir/projects/maquinas_notebooks/env/lib/python3.6/site-packages (from jsonschema!=2.5.0,>=2.4->nbformat>=4.2.0->ipywidgets->maquinas)\n",
      "Requirement already satisfied: testpath in /home/ivanvladimir/projects/maquinas_notebooks/env/lib/python3.6/site-packages (from nbconvert->notebook>=4.4.1->widgetsnbextension~=3.5.0->ipywidgets->maquinas)\n",
      "Requirement already satisfied: mistune<2,>=0.8.1 in /home/ivanvladimir/projects/maquinas_notebooks/env/lib/python3.6/site-packages (from nbconvert->notebook>=4.4.1->widgetsnbextension~=3.5.0->ipywidgets->maquinas)\n",
      "Requirement already satisfied: nbclient<0.6.0,>=0.5.0 in /home/ivanvladimir/projects/maquinas_notebooks/env/lib/python3.6/site-packages (from nbconvert->notebook>=4.4.1->widgetsnbextension~=3.5.0->ipywidgets->maquinas)\n",
      "Requirement already satisfied: entrypoints>=0.2.2 in /home/ivanvladimir/projects/maquinas_notebooks/env/lib/python3.6/site-packages (from nbconvert->notebook>=4.4.1->widgetsnbextension~=3.5.0->ipywidgets->maquinas)\n",
      "Requirement already satisfied: jupyterlab-pygments in /home/ivanvladimir/projects/maquinas_notebooks/env/lib/python3.6/site-packages (from nbconvert->notebook>=4.4.1->widgetsnbextension~=3.5.0->ipywidgets->maquinas)\n",
      "Requirement already satisfied: bleach in /home/ivanvladimir/projects/maquinas_notebooks/env/lib/python3.6/site-packages (from nbconvert->notebook>=4.4.1->widgetsnbextension~=3.5.0->ipywidgets->maquinas)\n",
      "Requirement already satisfied: defusedxml in /home/ivanvladimir/projects/maquinas_notebooks/env/lib/python3.6/site-packages (from nbconvert->notebook>=4.4.1->widgetsnbextension~=3.5.0->ipywidgets->maquinas)\n",
      "Requirement already satisfied: pandocfilters>=1.4.1 in /home/ivanvladimir/projects/maquinas_notebooks/env/lib/python3.6/site-packages (from nbconvert->notebook>=4.4.1->widgetsnbextension~=3.5.0->ipywidgets->maquinas)\n",
      "Requirement already satisfied: MarkupSafe>=0.23 in /home/ivanvladimir/projects/maquinas_notebooks/env/lib/python3.6/site-packages (from jinja2->notebook>=4.4.1->widgetsnbextension~=3.5.0->ipywidgets->maquinas)\n",
      "Requirement already satisfied: cffi>=1.0.0 in /home/ivanvladimir/projects/maquinas_notebooks/env/lib/python3.6/site-packages (from argon2-cffi->notebook>=4.4.1->widgetsnbextension~=3.5.0->ipywidgets->maquinas)\n",
      "Requirement already satisfied: typing-extensions>=3.6.4; python_version < \"3.8\" in /home/ivanvladimir/projects/maquinas_notebooks/env/lib/python3.6/site-packages (from importlib-metadata; python_version < \"3.8\"->jsonschema!=2.5.0,>=2.4->nbformat>=4.2.0->ipywidgets->maquinas)\n",
      "Requirement already satisfied: zipp>=0.5 in /home/ivanvladimir/projects/maquinas_notebooks/env/lib/python3.6/site-packages (from importlib-metadata; python_version < \"3.8\"->jsonschema!=2.5.0,>=2.4->nbformat>=4.2.0->ipywidgets->maquinas)\n",
      "Requirement already satisfied: nest-asyncio in /home/ivanvladimir/projects/maquinas_notebooks/env/lib/python3.6/site-packages (from nbclient<0.6.0,>=0.5.0->nbconvert->notebook>=4.4.1->widgetsnbextension~=3.5.0->ipywidgets->maquinas)\n",
      "Requirement already satisfied: async-generator in /home/ivanvladimir/projects/maquinas_notebooks/env/lib/python3.6/site-packages (from nbclient<0.6.0,>=0.5.0->nbconvert->notebook>=4.4.1->widgetsnbextension~=3.5.0->ipywidgets->maquinas)\n",
      "Requirement already satisfied: packaging in /home/ivanvladimir/projects/maquinas_notebooks/env/lib/python3.6/site-packages (from bleach->nbconvert->notebook>=4.4.1->widgetsnbextension~=3.5.0->ipywidgets->maquinas)\n",
      "Requirement already satisfied: webencodings in /home/ivanvladimir/projects/maquinas_notebooks/env/lib/python3.6/site-packages (from bleach->nbconvert->notebook>=4.4.1->widgetsnbextension~=3.5.0->ipywidgets->maquinas)\n",
      "Requirement already satisfied: pycparser in /home/ivanvladimir/projects/maquinas_notebooks/env/lib/python3.6/site-packages (from cffi>=1.0.0->argon2-cffi->notebook>=4.4.1->widgetsnbextension~=3.5.0->ipywidgets->maquinas)\n",
      "Requirement already satisfied: pyparsing>=2.0.2 in /home/ivanvladimir/projects/maquinas_notebooks/env/lib/python3.6/site-packages (from packaging->bleach->nbconvert->notebook>=4.4.1->widgetsnbextension~=3.5.0->ipywidgets->maquinas)\n"
     ]
    }
   ],
   "source": [
    "# Execute if not installed\n",
    "!pip install maquinas"
   ]
  },
  {
   "cell_type": "code",
   "execution_count": 2,
   "metadata": {
    "scrolled": true
   },
   "outputs": [],
   "source": [
    "from maquinas.regular.RE import RegularExpression\n",
    "from maquinas.regular.reductions import *\n",
    "from maquinas.regular.minimization import *"
   ]
  },
  {
   "cell_type": "code",
   "execution_count": 3,
   "metadata": {},
   "outputs": [
    {
     "ename": "TypeError",
     "evalue": "'int' object is not iterable",
     "output_type": "error",
     "traceback": [
      "\u001b[0;31m---------------------------------------------------------------------------\u001b[0m",
      "\u001b[0;31mTypeError\u001b[0m                                 Traceback (most recent call last)",
      "\u001b[0;32m<ipython-input-3-533e42286da1>\u001b[0m in \u001b[0;36m<module>\u001b[0;34m\u001b[0m\n\u001b[1;32m      8\u001b[0m                             \u001b[0;34m(\u001b[0m\u001b[0;34m(\u001b[0m\u001b[0;34m'q_0'\u001b[0m\u001b[0;34m,\u001b[0m\u001b[0;34m'1'\u001b[0m\u001b[0;34m)\u001b[0m\u001b[0;34m,\u001b[0m\u001b[0;34m'q_1'\u001b[0m\u001b[0;34m)\u001b[0m\u001b[0;34m\u001b[0m\u001b[0;34m\u001b[0m\u001b[0m\n\u001b[1;32m      9\u001b[0m                          ])\n\u001b[0;32m---> 10\u001b[0;31m \u001b[0mceros_uno\u001b[0m\u001b[0;34m=\u001b[0m\u001b[0mdfa2ndfa_e\u001b[0m\u001b[0;34m(\u001b[0m\u001b[0mceros_uno\u001b[0m\u001b[0;34m)\u001b[0m\u001b[0;34m\u001b[0m\u001b[0;34m\u001b[0m\u001b[0m\n\u001b[0m\u001b[1;32m     11\u001b[0m \u001b[0mceros_uno\u001b[0m\u001b[0;34m.\u001b[0m\u001b[0mgraph\u001b[0m\u001b[0;34m(\u001b[0m\u001b[0;34m)\u001b[0m\u001b[0;34m\u001b[0m\u001b[0;34m\u001b[0m\u001b[0m\n",
      "\u001b[0;32m~/projects/maquinas_notebooks/env/lib/python3.6/site-packages/maquinas/regular/reductions.py\u001b[0m in \u001b[0;36mdfa2ndfa_e\u001b[0;34m(dfa, rename, remove_sink)\u001b[0m\n\u001b[1;32m     88\u001b[0m             \u001b[0mna\u001b[0m\u001b[0;34m=\u001b[0m\u001b[0mna\u001b[0m\u001b[0;34m+\u001b[0m\u001b[0;36m1\u001b[0m\u001b[0;34m\u001b[0m\u001b[0;34m\u001b[0m\u001b[0m\n\u001b[1;32m     89\u001b[0m             \u001b[0;32mtry\u001b[0m\u001b[0;34m:\u001b[0m\u001b[0;34m\u001b[0m\u001b[0;34m\u001b[0m\u001b[0m\n\u001b[0;32m---> 90\u001b[0;31m                 \u001b[0mndfa_e\u001b[0m\u001b[0;34m.\u001b[0m\u001b[0mttable\u001b[0m\u001b[0;34m[\u001b[0m\u001b[0mnq_i\u001b[0m\u001b[0;34m]\u001b[0m\u001b[0;34m[\u001b[0m\u001b[0mna\u001b[0m\u001b[0;34m]\u001b[0m\u001b[0;34m=\u001b[0m\u001b[0mset\u001b[0m\u001b[0;34m(\u001b[0m\u001b[0mnq_f\u001b[0m\u001b[0;34m)\u001b[0m\u001b[0;34m\u001b[0m\u001b[0;34m\u001b[0m\u001b[0m\n\u001b[0m\u001b[1;32m     91\u001b[0m             \u001b[0;32mexcept\u001b[0m \u001b[0mKeyError\u001b[0m\u001b[0;34m:\u001b[0m\u001b[0;34m\u001b[0m\u001b[0;34m\u001b[0m\u001b[0m\n\u001b[1;32m     92\u001b[0m                 \u001b[0mndfa_e\u001b[0m\u001b[0;34m.\u001b[0m\u001b[0mttable\u001b[0m\u001b[0;34m[\u001b[0m\u001b[0mnq_i\u001b[0m\u001b[0;34m]\u001b[0m\u001b[0;34m=\u001b[0m\u001b[0;34m{\u001b[0m\u001b[0;34m}\u001b[0m\u001b[0;34m\u001b[0m\u001b[0;34m\u001b[0m\u001b[0m\n",
      "\u001b[0;31mTypeError\u001b[0m: 'int' object is not iterable"
     ]
    }
   ],
   "source": [
    "# Creating automata finito\n",
    "ceros_uno=DFA(Q=['q_0','q_1'],\n",
    "                         sigma=['0','1'],\n",
    "                         q_0='q_0',\n",
    "                         A=['q_1'],\n",
    "                         delta=[\n",
    "                            (('q_0','0'),'q_0'),\n",
    "                            (('q_0','1'),'q_1')\n",
    "                         ])\n",
    "ceros_uno=dfa2ndfa_e(ceros_uno)\n",
    "ceros_uno.graph()"
   ]
  },
  {
   "cell_type": "code",
   "execution_count": null,
   "metadata": {},
   "outputs": [],
   "source": [
    "uno_ceros=DFA(Q=['q_0','q_1'],\n",
    "                         sigma=['0','1'],\n",
    "                         q_0='q_0',\n",
    "                         A=['q_1'],\n",
    "                         delta=[\n",
    "                            (('q_0','1'),'q_1'),\n",
    "                            (('q_1','0'),'q_1')\n",
    "                         ])\n",
    "uno_ceros=dfa2ndfa_e(uno_ceros)\n",
    "uno_ceros.graph()"
   ]
  },
  {
   "cell_type": "code",
   "execution_count": null,
   "metadata": {},
   "outputs": [],
   "source": [
    "union=ceros_uno.union(uno_ceros)\n",
    "union.graph()"
   ]
  },
  {
   "cell_type": "code",
   "execution_count": null,
   "metadata": {},
   "outputs": [],
   "source": [
    "concat=ceros_uno.concat(uno_ceros)\n",
    "concat.graph()"
   ]
  },
  {
   "cell_type": "code",
   "execution_count": null,
   "metadata": {},
   "outputs": [],
   "source": [
    "kleene=ceros_uno.kleene()\n",
    "kleene.graph()"
   ]
  },
  {
   "cell_type": "code",
   "execution_count": null,
   "metadata": {
    "scrolled": true
   },
   "outputs": [],
   "source": [
    "reg = RegularExpression('a*(ba*ba*)*+a*')\n",
    "reg=reg.ndfa_e()\n",
    "reg.table()"
   ]
  },
  {
   "cell_type": "code",
   "execution_count": null,
   "metadata": {
    "scrolled": true
   },
   "outputs": [],
   "source": [
    "reg.graph()"
   ]
  },
  {
   "cell_type": "code",
   "execution_count": null,
   "metadata": {
    "scrolled": false
   },
   "outputs": [],
   "source": [
    "fa2=ndfa_e2dfa(reg)\n",
    "fa2.graph()"
   ]
  }
 ],
 "metadata": {
  "kernelspec": {
   "display_name": "Python 3",
   "language": "python",
   "name": "python3"
  },
  "language_info": {
   "codemirror_mode": {
    "name": "ipython",
    "version": 3
   },
   "file_extension": ".py",
   "mimetype": "text/x-python",
   "name": "python",
   "nbconvert_exporter": "python",
   "pygments_lexer": "ipython3",
   "version": "3.6.9"
  }
 },
 "nbformat": 4,
 "nbformat_minor": 2
}
