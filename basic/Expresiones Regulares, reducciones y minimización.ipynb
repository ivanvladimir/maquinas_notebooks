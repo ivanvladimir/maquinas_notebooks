{
 "cells": [
  {
   "cell_type": "markdown",
   "metadata": {},
   "source": [
    "[![Open In Colab](https://colab.research.google.com/assets/colab-badge.svg)](https://colab.research.google.com/github/ivanvladimir/maquinas_notebooks/blob/main/basic/Expresiones%20Regulares%2C%20reducciones%20y%20minimizaci%C3%B3n.ipynb)"
   ]
  },
  {
   "cell_type": "markdown",
   "metadata": {},
   "source": [
    "## Ejemplos de ER hasta minimización"
   ]
  },
  {
   "cell_type": "code",
   "execution_count": null,
   "metadata": {
    "scrolled": true
   },
   "outputs": [],
   "source": [
    "# Execute if not installed\n",
    "!pip install maquinas"
   ]
  },
  {
   "cell_type": "code",
   "execution_count": null,
   "metadata": {
    "scrolled": true
   },
   "outputs": [],
   "source": [
    "from maquinas.regular.RE import RegularExpression\n",
    "from maquinas.regular.reductions import *\n",
    "from maquinas.regular.minimization import *"
   ]
  },
  {
   "cell_type": "code",
   "execution_count": null,
   "metadata": {},
   "outputs": [],
   "source": [
    "# Creating automata finito\n",
    "ceros_uno=DFA(Q=['q_0','q_1'],\n",
    "                         sigma=['0','1'],\n",
    "                         q_0='q_0',\n",
    "                         A=['q_1'],\n",
    "                         delta=[\n",
    "                            (('q_0','0'),'q_0'),\n",
    "                            (('q_0','1'),'q_1')\n",
    "                         ])\n",
    "ceros_uno=dfa2ndfa_e(ceros_uno)\n",
    "ceros_uno.graph()"
   ]
  },
  {
   "cell_type": "code",
   "execution_count": null,
   "metadata": {},
   "outputs": [],
   "source": [
    "uno_ceros=DFA(Q=['q_0','q_1'],\n",
    "                         sigma=['0','1'],\n",
    "                         q_0='q_0',\n",
    "                         A=['q_1'],\n",
    "                         delta=[\n",
    "                            (('q_0','1'),'q_1'),\n",
    "                            (('q_1','0'),'q_1')\n",
    "                         ])\n",
    "uno_ceros=dfa2ndfa_e(uno_ceros)\n",
    "uno_ceros.graph()"
   ]
  },
  {
   "cell_type": "code",
   "execution_count": null,
   "metadata": {},
   "outputs": [],
   "source": [
    "union=ceros_uno.union(uno_ceros)\n",
    "union.graph()"
   ]
  },
  {
   "cell_type": "code",
   "execution_count": null,
   "metadata": {},
   "outputs": [],
   "source": [
    "concat=ceros_uno.concat(uno_ceros)\n",
    "concat.graph()"
   ]
  },
  {
   "cell_type": "code",
   "execution_count": null,
   "metadata": {},
   "outputs": [],
   "source": [
    "kleene=ceros_uno.kleene()\n",
    "kleene.graph()"
   ]
  },
  {
   "cell_type": "code",
   "execution_count": null,
   "metadata": {
    "scrolled": true
   },
   "outputs": [],
   "source": [
    "reg = RegularExpression('a*(ba*ba*)*+a*')\n",
    "reg=reg.ndfa_e()\n",
    "reg.table()"
   ]
  },
  {
   "cell_type": "code",
   "execution_count": null,
   "metadata": {
    "scrolled": true
   },
   "outputs": [],
   "source": [
    "reg.graph()"
   ]
  },
  {
   "cell_type": "code",
   "execution_count": null,
   "metadata": {
    "scrolled": false
   },
   "outputs": [],
   "source": [
    "fa2=ndfa_e2dfa(reg)\n",
    "fa2.graph()"
   ]
  }
 ],
 "metadata": {
  "kernelspec": {
   "display_name": "Python 3",
   "language": "python",
   "name": "python3"
  },
  "language_info": {
   "codemirror_mode": {
    "name": "ipython",
    "version": 3
   },
   "file_extension": ".py",
   "mimetype": "text/x-python",
   "name": "python",
   "nbconvert_exporter": "python",
   "pygments_lexer": "ipython3",
   "version": "3.6.8"
  }
 },
 "nbformat": 4,
 "nbformat_minor": 2
}
