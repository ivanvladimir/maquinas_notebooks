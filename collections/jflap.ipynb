{
 "cells": [
  {
   "cell_type": "code",
   "execution_count": null,
   "id": "55610a7e-2ebc-44b4-a52a-d4fa9f153e81",
   "metadata": {},
   "outputs": [],
   "source": [
    "import ipywidgets as widgets\n",
    "from ipywidgets import interact, interact_manual"
   ]
  },
  {
   "cell_type": "code",
   "execution_count": null,
   "id": "88939b2b-7412-4505-855f-7cea336434d7",
   "metadata": {},
   "outputs": [],
   "source": [
    "!pip install maquinas"
   ]
  },
  {
   "cell_type": "code",
   "execution_count": null,
   "id": "c4be6e35-d609-4d28-a2bc-b7c99933b146",
   "metadata": {},
   "outputs": [],
   "source": [
    "from maquinas.io import load_jflap\n",
    "from maquinas.collections import jflap"
   ]
  },
  {
   "cell_type": "code",
   "execution_count": null,
   "id": "d292192e-5614-422a-a1ad-b6b2970da4e7",
   "metadata": {},
   "outputs": [],
   "source": [
    "jflap.list()"
   ]
  },
  {
   "cell_type": "code",
   "execution_count": null,
   "id": "5a4e8724-04e9-4835-bec4-c53106b4f089",
   "metadata": {},
   "outputs": [],
   "source": [
    "@interact\n",
    "def explore(name=jflap.list()):\n",
    "    desc=jflap.get(name)\n",
    "    m=load_jflap(desc)\n",
    "    m.print_summary()\n",
    "    return m.graph()"
   ]
  }
 ],
 "metadata": {
  "kernelspec": {
   "display_name": "Python 3 (ipykernel)",
   "language": "python",
   "name": "python3"
  },
  "language_info": {
   "codemirror_mode": {
    "name": "ipython",
    "version": 3
   },
   "file_extension": ".py",
   "mimetype": "text/x-python",
   "name": "python",
   "nbconvert_exporter": "python",
   "pygments_lexer": "ipython3",
   "version": "3.8.10"
  }
 },
 "nbformat": 4,
 "nbformat_minor": 5
}
