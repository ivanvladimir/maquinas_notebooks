{
 "cells": [
  {
   "cell_type": "markdown",
   "metadata": {
    "id": "-p2x62wZ1oXd"
   },
   "source": [
    "# Evaluación de revisión #2 LFYA"
   ]
  },
  {
   "cell_type": "code",
   "execution_count": 1,
   "metadata": {
    "colab": {
     "base_uri": "https://localhost:8080/"
    },
    "id": "3L0FLHOml0rl",
    "outputId": "c76fb312-fe70-4d31-80db-86ce3a1cfd72"
   },
   "outputs": [
    {
     "name": "stdout",
     "output_type": "stream",
     "text": [
      "Python 3.8.10\n"
     ]
    }
   ],
   "source": [
    "!python --version"
   ]
  },
  {
   "cell_type": "markdown",
   "metadata": {
    "id": "Aa0-kxHv1o9K",
    "tags": []
   },
   "source": [
    "## 0.1 Install libraries abd set them up"
   ]
  },
  {
   "cell_type": "code",
   "execution_count": 2,
   "metadata": {},
   "outputs": [
    {
     "name": "stdout",
     "output_type": "stream",
     "text": [
      "Obtaining file:///home/ivanvladimir/projects/maquinas\n",
      "  Installing build dependencies ... \u001b[?25ldone\n",
      "\u001b[?25h  Getting requirements to build wheel ... \u001b[?25ldone\n",
      "\u001b[?25h    Preparing wheel metadata ... \u001b[?25ldone\n",
      "\u001b[?25hRequirement already satisfied: IPython in /home/ivanvladimir/projects/maquinas_notebooks/env/lib/python3.8/site-packages (from maquinas==0.1.5.22) (8.4.0)\n",
      "Requirement already satisfied: TatSu in /home/ivanvladimir/projects/maquinas_notebooks/env/lib/python3.8/site-packages (from maquinas==0.1.5.22) (5.8.3)\n",
      "Requirement already satisfied: ordered-set in /home/ivanvladimir/projects/maquinas_notebooks/env/lib/python3.8/site-packages (from maquinas==0.1.5.22) (4.1.0)\n",
      "Requirement already satisfied: Pillow in /home/ivanvladimir/projects/maquinas_notebooks/env/lib/python3.8/site-packages (from maquinas==0.1.5.22) (9.2.0)\n",
      "Requirement already satisfied: ipywidgets in /home/ivanvladimir/projects/maquinas_notebooks/env/lib/python3.8/site-packages (from maquinas==0.1.5.22) (7.7.1)\n",
      "Requirement already satisfied: graphviz in /home/ivanvladimir/projects/maquinas_notebooks/env/lib/python3.8/site-packages (from maquinas==0.1.5.22) (0.20.1)\n",
      "Requirement already satisfied: jedi>=0.16 in /home/ivanvladimir/projects/maquinas_notebooks/env/lib/python3.8/site-packages (from IPython->maquinas==0.1.5.22) (0.18.1)\n",
      "Requirement already satisfied: stack-data in /home/ivanvladimir/projects/maquinas_notebooks/env/lib/python3.8/site-packages (from IPython->maquinas==0.1.5.22) (0.3.0)\n",
      "Requirement already satisfied: pexpect>4.3; sys_platform != \"win32\" in /home/ivanvladimir/projects/maquinas_notebooks/env/lib/python3.8/site-packages (from IPython->maquinas==0.1.5.22) (4.8.0)\n",
      "Requirement already satisfied: pickleshare in /home/ivanvladimir/projects/maquinas_notebooks/env/lib/python3.8/site-packages (from IPython->maquinas==0.1.5.22) (0.7.5)\n",
      "Requirement already satisfied: backcall in /home/ivanvladimir/projects/maquinas_notebooks/env/lib/python3.8/site-packages (from IPython->maquinas==0.1.5.22) (0.2.0)\n",
      "Requirement already satisfied: traitlets>=5 in /home/ivanvladimir/projects/maquinas_notebooks/env/lib/python3.8/site-packages (from IPython->maquinas==0.1.5.22) (5.3.0)\n",
      "Requirement already satisfied: prompt-toolkit!=3.0.0,!=3.0.1,<3.1.0,>=2.0.0 in /home/ivanvladimir/projects/maquinas_notebooks/env/lib/python3.8/site-packages (from IPython->maquinas==0.1.5.22) (3.0.30)\n",
      "Requirement already satisfied: matplotlib-inline in /home/ivanvladimir/projects/maquinas_notebooks/env/lib/python3.8/site-packages (from IPython->maquinas==0.1.5.22) (0.1.3)\n",
      "Requirement already satisfied: decorator in /home/ivanvladimir/projects/maquinas_notebooks/env/lib/python3.8/site-packages (from IPython->maquinas==0.1.5.22) (5.1.1)\n",
      "Requirement already satisfied: setuptools>=18.5 in /home/ivanvladimir/projects/maquinas_notebooks/env/lib/python3.8/site-packages (from IPython->maquinas==0.1.5.22) (44.0.0)\n",
      "Requirement already satisfied: pygments>=2.4.0 in /home/ivanvladimir/projects/maquinas_notebooks/env/lib/python3.8/site-packages (from IPython->maquinas==0.1.5.22) (2.12.0)\n",
      "Requirement already satisfied: jupyterlab-widgets>=1.0.0; python_version >= \"3.6\" in /home/ivanvladimir/projects/maquinas_notebooks/env/lib/python3.8/site-packages (from ipywidgets->maquinas==0.1.5.22) (1.1.1)\n",
      "Requirement already satisfied: ipython-genutils~=0.2.0 in /home/ivanvladimir/projects/maquinas_notebooks/env/lib/python3.8/site-packages (from ipywidgets->maquinas==0.1.5.22) (0.2.0)\n",
      "Requirement already satisfied: ipykernel>=4.5.1 in /home/ivanvladimir/projects/maquinas_notebooks/env/lib/python3.8/site-packages (from ipywidgets->maquinas==0.1.5.22) (6.15.1)\n",
      "Requirement already satisfied: widgetsnbextension~=3.6.0 in /home/ivanvladimir/projects/maquinas_notebooks/env/lib/python3.8/site-packages (from ipywidgets->maquinas==0.1.5.22) (3.6.1)\n",
      "Requirement already satisfied: parso<0.9.0,>=0.8.0 in /home/ivanvladimir/projects/maquinas_notebooks/env/lib/python3.8/site-packages (from jedi>=0.16->IPython->maquinas==0.1.5.22) (0.8.3)\n",
      "Requirement already satisfied: asttokens in /home/ivanvladimir/projects/maquinas_notebooks/env/lib/python3.8/site-packages (from stack-data->IPython->maquinas==0.1.5.22) (2.0.5)\n",
      "Requirement already satisfied: executing in /home/ivanvladimir/projects/maquinas_notebooks/env/lib/python3.8/site-packages (from stack-data->IPython->maquinas==0.1.5.22) (0.9.1)\n",
      "Requirement already satisfied: pure-eval in /home/ivanvladimir/projects/maquinas_notebooks/env/lib/python3.8/site-packages (from stack-data->IPython->maquinas==0.1.5.22) (0.2.2)\n",
      "Requirement already satisfied: ptyprocess>=0.5 in /home/ivanvladimir/projects/maquinas_notebooks/env/lib/python3.8/site-packages (from pexpect>4.3; sys_platform != \"win32\"->IPython->maquinas==0.1.5.22) (0.7.0)\n",
      "Requirement already satisfied: wcwidth in /home/ivanvladimir/projects/maquinas_notebooks/env/lib/python3.8/site-packages (from prompt-toolkit!=3.0.0,!=3.0.1,<3.1.0,>=2.0.0->IPython->maquinas==0.1.5.22) (0.2.5)\n",
      "Requirement already satisfied: debugpy>=1.0 in /home/ivanvladimir/projects/maquinas_notebooks/env/lib/python3.8/site-packages (from ipykernel>=4.5.1->ipywidgets->maquinas==0.1.5.22) (1.6.2)\n",
      "Requirement already satisfied: psutil in /home/ivanvladimir/projects/maquinas_notebooks/env/lib/python3.8/site-packages (from ipykernel>=4.5.1->ipywidgets->maquinas==0.1.5.22) (5.9.1)\n",
      "Requirement already satisfied: pyzmq>=17 in /home/ivanvladimir/projects/maquinas_notebooks/env/lib/python3.8/site-packages (from ipykernel>=4.5.1->ipywidgets->maquinas==0.1.5.22) (23.2.0)\n",
      "Requirement already satisfied: jupyter-client>=6.1.12 in /home/ivanvladimir/projects/maquinas_notebooks/env/lib/python3.8/site-packages (from ipykernel>=4.5.1->ipywidgets->maquinas==0.1.5.22) (7.3.4)\n",
      "Requirement already satisfied: tornado>=6.1 in /home/ivanvladimir/projects/maquinas_notebooks/env/lib/python3.8/site-packages (from ipykernel>=4.5.1->ipywidgets->maquinas==0.1.5.22) (6.2)\n",
      "Requirement already satisfied: nest-asyncio in /home/ivanvladimir/projects/maquinas_notebooks/env/lib/python3.8/site-packages (from ipykernel>=4.5.1->ipywidgets->maquinas==0.1.5.22) (1.5.5)\n",
      "Requirement already satisfied: packaging in /home/ivanvladimir/projects/maquinas_notebooks/env/lib/python3.8/site-packages (from ipykernel>=4.5.1->ipywidgets->maquinas==0.1.5.22) (21.3)\n",
      "Requirement already satisfied: notebook>=4.4.1 in /home/ivanvladimir/projects/maquinas_notebooks/env/lib/python3.8/site-packages (from widgetsnbextension~=3.6.0->ipywidgets->maquinas==0.1.5.22) (6.4.12)\n",
      "Requirement already satisfied: six in /home/ivanvladimir/projects/maquinas_notebooks/env/lib/python3.8/site-packages (from asttokens->stack-data->IPython->maquinas==0.1.5.22) (1.16.0)\n",
      "Requirement already satisfied: python-dateutil>=2.8.2 in /home/ivanvladimir/projects/maquinas_notebooks/env/lib/python3.8/site-packages (from jupyter-client>=6.1.12->ipykernel>=4.5.1->ipywidgets->maquinas==0.1.5.22) (2.8.2)\n",
      "Requirement already satisfied: jupyter-core>=4.9.2 in /home/ivanvladimir/projects/maquinas_notebooks/env/lib/python3.8/site-packages (from jupyter-client>=6.1.12->ipykernel>=4.5.1->ipywidgets->maquinas==0.1.5.22) (4.11.1)\n",
      "Requirement already satisfied: entrypoints in /home/ivanvladimir/projects/maquinas_notebooks/env/lib/python3.8/site-packages (from jupyter-client>=6.1.12->ipykernel>=4.5.1->ipywidgets->maquinas==0.1.5.22) (0.4)\n",
      "Requirement already satisfied: pyparsing!=3.0.5,>=2.0.2 in /home/ivanvladimir/projects/maquinas_notebooks/env/lib/python3.8/site-packages (from packaging->ipykernel>=4.5.1->ipywidgets->maquinas==0.1.5.22) (3.0.9)\n",
      "Requirement already satisfied: argon2-cffi in /home/ivanvladimir/projects/maquinas_notebooks/env/lib/python3.8/site-packages (from notebook>=4.4.1->widgetsnbextension~=3.6.0->ipywidgets->maquinas==0.1.5.22) (21.3.0)\n",
      "Requirement already satisfied: Send2Trash>=1.8.0 in /home/ivanvladimir/projects/maquinas_notebooks/env/lib/python3.8/site-packages (from notebook>=4.4.1->widgetsnbextension~=3.6.0->ipywidgets->maquinas==0.1.5.22) (1.8.0)\n",
      "Requirement already satisfied: prometheus-client in /home/ivanvladimir/projects/maquinas_notebooks/env/lib/python3.8/site-packages (from notebook>=4.4.1->widgetsnbextension~=3.6.0->ipywidgets->maquinas==0.1.5.22) (0.14.1)\n",
      "Requirement already satisfied: nbformat in /home/ivanvladimir/projects/maquinas_notebooks/env/lib/python3.8/site-packages (from notebook>=4.4.1->widgetsnbextension~=3.6.0->ipywidgets->maquinas==0.1.5.22) (5.4.0)\n",
      "Requirement already satisfied: jinja2 in /home/ivanvladimir/projects/maquinas_notebooks/env/lib/python3.8/site-packages (from notebook>=4.4.1->widgetsnbextension~=3.6.0->ipywidgets->maquinas==0.1.5.22) (3.1.2)\n",
      "Requirement already satisfied: terminado>=0.8.3 in /home/ivanvladimir/projects/maquinas_notebooks/env/lib/python3.8/site-packages (from notebook>=4.4.1->widgetsnbextension~=3.6.0->ipywidgets->maquinas==0.1.5.22) (0.15.0)\n",
      "Requirement already satisfied: nbconvert>=5 in /home/ivanvladimir/projects/maquinas_notebooks/env/lib/python3.8/site-packages (from notebook>=4.4.1->widgetsnbextension~=3.6.0->ipywidgets->maquinas==0.1.5.22) (6.5.0)\n",
      "Requirement already satisfied: argon2-cffi-bindings in /home/ivanvladimir/projects/maquinas_notebooks/env/lib/python3.8/site-packages (from argon2-cffi->notebook>=4.4.1->widgetsnbextension~=3.6.0->ipywidgets->maquinas==0.1.5.22) (21.2.0)\n",
      "Requirement already satisfied: fastjsonschema in /home/ivanvladimir/projects/maquinas_notebooks/env/lib/python3.8/site-packages (from nbformat->notebook>=4.4.1->widgetsnbextension~=3.6.0->ipywidgets->maquinas==0.1.5.22) (2.16.1)\n",
      "Requirement already satisfied: jsonschema>=2.6 in /home/ivanvladimir/projects/maquinas_notebooks/env/lib/python3.8/site-packages (from nbformat->notebook>=4.4.1->widgetsnbextension~=3.6.0->ipywidgets->maquinas==0.1.5.22) (4.9.0)\n",
      "Requirement already satisfied: MarkupSafe>=2.0 in /home/ivanvladimir/projects/maquinas_notebooks/env/lib/python3.8/site-packages (from jinja2->notebook>=4.4.1->widgetsnbextension~=3.6.0->ipywidgets->maquinas==0.1.5.22) (2.1.1)\n",
      "Requirement already satisfied: beautifulsoup4 in /home/ivanvladimir/projects/maquinas_notebooks/env/lib/python3.8/site-packages (from nbconvert>=5->notebook>=4.4.1->widgetsnbextension~=3.6.0->ipywidgets->maquinas==0.1.5.22) (4.11.1)\n",
      "Requirement already satisfied: tinycss2 in /home/ivanvladimir/projects/maquinas_notebooks/env/lib/python3.8/site-packages (from nbconvert>=5->notebook>=4.4.1->widgetsnbextension~=3.6.0->ipywidgets->maquinas==0.1.5.22) (1.1.1)\n",
      "Requirement already satisfied: defusedxml in /home/ivanvladimir/projects/maquinas_notebooks/env/lib/python3.8/site-packages (from nbconvert>=5->notebook>=4.4.1->widgetsnbextension~=3.6.0->ipywidgets->maquinas==0.1.5.22) (0.7.1)\n",
      "Requirement already satisfied: pandocfilters>=1.4.1 in /home/ivanvladimir/projects/maquinas_notebooks/env/lib/python3.8/site-packages (from nbconvert>=5->notebook>=4.4.1->widgetsnbextension~=3.6.0->ipywidgets->maquinas==0.1.5.22) (1.5.0)\n",
      "Requirement already satisfied: nbclient>=0.5.0 in /home/ivanvladimir/projects/maquinas_notebooks/env/lib/python3.8/site-packages (from nbconvert>=5->notebook>=4.4.1->widgetsnbextension~=3.6.0->ipywidgets->maquinas==0.1.5.22) (0.6.6)\n",
      "Requirement already satisfied: bleach in /home/ivanvladimir/projects/maquinas_notebooks/env/lib/python3.8/site-packages (from nbconvert>=5->notebook>=4.4.1->widgetsnbextension~=3.6.0->ipywidgets->maquinas==0.1.5.22) (5.0.1)\n",
      "Requirement already satisfied: mistune<2,>=0.8.1 in /home/ivanvladimir/projects/maquinas_notebooks/env/lib/python3.8/site-packages (from nbconvert>=5->notebook>=4.4.1->widgetsnbextension~=3.6.0->ipywidgets->maquinas==0.1.5.22) (0.8.4)\n",
      "Requirement already satisfied: jupyterlab-pygments in /home/ivanvladimir/projects/maquinas_notebooks/env/lib/python3.8/site-packages (from nbconvert>=5->notebook>=4.4.1->widgetsnbextension~=3.6.0->ipywidgets->maquinas==0.1.5.22) (0.2.2)\n",
      "Requirement already satisfied: cffi>=1.0.1 in /home/ivanvladimir/projects/maquinas_notebooks/env/lib/python3.8/site-packages (from argon2-cffi-bindings->argon2-cffi->notebook>=4.4.1->widgetsnbextension~=3.6.0->ipywidgets->maquinas==0.1.5.22) (1.15.1)\n",
      "Requirement already satisfied: importlib-resources>=1.4.0; python_version < \"3.9\" in /home/ivanvladimir/projects/maquinas_notebooks/env/lib/python3.8/site-packages (from jsonschema>=2.6->nbformat->notebook>=4.4.1->widgetsnbextension~=3.6.0->ipywidgets->maquinas==0.1.5.22) (5.9.0)\n",
      "Requirement already satisfied: attrs>=17.4.0 in /home/ivanvladimir/projects/maquinas_notebooks/env/lib/python3.8/site-packages (from jsonschema>=2.6->nbformat->notebook>=4.4.1->widgetsnbextension~=3.6.0->ipywidgets->maquinas==0.1.5.22) (22.1.0)\n",
      "Requirement already satisfied: pkgutil-resolve-name>=1.3.10; python_version < \"3.9\" in /home/ivanvladimir/projects/maquinas_notebooks/env/lib/python3.8/site-packages (from jsonschema>=2.6->nbformat->notebook>=4.4.1->widgetsnbextension~=3.6.0->ipywidgets->maquinas==0.1.5.22) (1.3.10)\n",
      "Requirement already satisfied: pyrsistent!=0.17.0,!=0.17.1,!=0.17.2,>=0.14.0 in /home/ivanvladimir/projects/maquinas_notebooks/env/lib/python3.8/site-packages (from jsonschema>=2.6->nbformat->notebook>=4.4.1->widgetsnbextension~=3.6.0->ipywidgets->maquinas==0.1.5.22) (0.18.1)\n",
      "Requirement already satisfied: soupsieve>1.2 in /home/ivanvladimir/projects/maquinas_notebooks/env/lib/python3.8/site-packages (from beautifulsoup4->nbconvert>=5->notebook>=4.4.1->widgetsnbextension~=3.6.0->ipywidgets->maquinas==0.1.5.22) (2.3.2.post1)\n",
      "Requirement already satisfied: webencodings>=0.4 in /home/ivanvladimir/projects/maquinas_notebooks/env/lib/python3.8/site-packages (from tinycss2->nbconvert>=5->notebook>=4.4.1->widgetsnbextension~=3.6.0->ipywidgets->maquinas==0.1.5.22) (0.5.1)\n",
      "Requirement already satisfied: pycparser in /home/ivanvladimir/projects/maquinas_notebooks/env/lib/python3.8/site-packages (from cffi>=1.0.1->argon2-cffi-bindings->argon2-cffi->notebook>=4.4.1->widgetsnbextension~=3.6.0->ipywidgets->maquinas==0.1.5.22) (2.21)\n",
      "Requirement already satisfied: zipp>=3.1.0; python_version < \"3.10\" in /home/ivanvladimir/projects/maquinas_notebooks/env/lib/python3.8/site-packages (from importlib-resources>=1.4.0; python_version < \"3.9\"->jsonschema>=2.6->nbformat->notebook>=4.4.1->widgetsnbextension~=3.6.0->ipywidgets->maquinas==0.1.5.22) (3.8.1)\n",
      "Installing collected packages: maquinas\n",
      "  Attempting uninstall: maquinas\n",
      "    Found existing installation: maquinas 0.1.5.22\n",
      "    Uninstalling maquinas-0.1.5.22:\n",
      "      Successfully uninstalled maquinas-0.1.5.22\n",
      "  Running setup.py develop for maquinas\n",
      "Successfully installed maquinas\n"
     ]
    }
   ],
   "source": [
    "!pip install -e /home/ivanvladimir/projects/maquinas"
   ]
  },
  {
   "cell_type": "code",
   "execution_count": 3,
   "metadata": {
    "colab": {
     "base_uri": "https://localhost:8080/",
     "height": 1000
    },
    "id": "dYojrRan1idI",
    "outputId": "3301b0ea-9eb7-4454-b7b2-b5ba73e5c85b"
   },
   "outputs": [
    {
     "name": "stdout",
     "output_type": "stream",
     "text": [
      "Collecting rich\n",
      "  Downloading rich-13.0.1-py3-none-any.whl (238 kB)\n",
      "\u001b[K     |████████████████████████████████| 238 kB 1.5 MB/s eta 0:00:01\n",
      "\u001b[?25hCollecting commonmark<0.10.0,>=0.9.0\n",
      "  Using cached commonmark-0.9.1-py2.py3-none-any.whl (51 kB)\n",
      "Requirement already satisfied: pygments<3.0.0,>=2.6.0 in /home/ivanvladimir/projects/maquinas_notebooks/env/lib/python3.8/site-packages (from rich) (2.12.0)\n",
      "Collecting typing-extensions<5.0,>=4.0.0; python_version < \"3.9\"\n",
      "  Using cached typing_extensions-4.4.0-py3-none-any.whl (26 kB)\n",
      "Installing collected packages: commonmark, typing-extensions, rich\n",
      "Successfully installed commonmark-0.9.1 rich-13.0.1 typing-extensions-4.4.0\n",
      "Collecting gspread-formatting\n",
      "  Downloading gspread_formatting-1.1.2-py2.py3-none-any.whl (22 kB)\n",
      "Requirement already satisfied: gspread>=3.0.0 in /home/ivanvladimir/projects/maquinas_notebooks/env/lib/python3.8/site-packages (from gspread-formatting) (5.7.2)\n",
      "Requirement already satisfied: google-auth-oauthlib>=0.4.1 in /home/ivanvladimir/projects/maquinas_notebooks/env/lib/python3.8/site-packages (from gspread>=3.0.0->gspread-formatting) (0.8.0)\n",
      "Requirement already satisfied: google-auth>=1.12.0 in /home/ivanvladimir/projects/maquinas_notebooks/env/lib/python3.8/site-packages (from gspread>=3.0.0->gspread-formatting) (2.15.0)\n",
      "Requirement already satisfied: requests-oauthlib>=0.7.0 in /home/ivanvladimir/projects/maquinas_notebooks/env/lib/python3.8/site-packages (from google-auth-oauthlib>=0.4.1->gspread>=3.0.0->gspread-formatting) (1.3.1)\n",
      "Requirement already satisfied: rsa<5,>=3.1.4; python_version >= \"3.6\" in /home/ivanvladimir/projects/maquinas_notebooks/env/lib/python3.8/site-packages (from google-auth>=1.12.0->gspread>=3.0.0->gspread-formatting) (4.9)\n",
      "Requirement already satisfied: six>=1.9.0 in /home/ivanvladimir/projects/maquinas_notebooks/env/lib/python3.8/site-packages (from google-auth>=1.12.0->gspread>=3.0.0->gspread-formatting) (1.16.0)\n",
      "Requirement already satisfied: pyasn1-modules>=0.2.1 in /home/ivanvladimir/projects/maquinas_notebooks/env/lib/python3.8/site-packages (from google-auth>=1.12.0->gspread>=3.0.0->gspread-formatting) (0.2.8)\n",
      "Requirement already satisfied: cachetools<6.0,>=2.0.0 in /home/ivanvladimir/projects/maquinas_notebooks/env/lib/python3.8/site-packages (from google-auth>=1.12.0->gspread>=3.0.0->gspread-formatting) (5.2.0)\n",
      "Requirement already satisfied: requests>=2.0.0 in /home/ivanvladimir/projects/maquinas_notebooks/env/lib/python3.8/site-packages (from requests-oauthlib>=0.7.0->google-auth-oauthlib>=0.4.1->gspread>=3.0.0->gspread-formatting) (2.28.1)\n",
      "Requirement already satisfied: oauthlib>=3.0.0 in /home/ivanvladimir/projects/maquinas_notebooks/env/lib/python3.8/site-packages (from requests-oauthlib>=0.7.0->google-auth-oauthlib>=0.4.1->gspread>=3.0.0->gspread-formatting) (3.2.2)\n",
      "Requirement already satisfied: pyasn1>=0.1.3 in /home/ivanvladimir/projects/maquinas_notebooks/env/lib/python3.8/site-packages (from rsa<5,>=3.1.4; python_version >= \"3.6\"->google-auth>=1.12.0->gspread>=3.0.0->gspread-formatting) (0.4.8)\n",
      "Requirement already satisfied: urllib3<1.27,>=1.21.1 in /home/ivanvladimir/projects/maquinas_notebooks/env/lib/python3.8/site-packages (from requests>=2.0.0->requests-oauthlib>=0.7.0->google-auth-oauthlib>=0.4.1->gspread>=3.0.0->gspread-formatting) (1.26.11)\n",
      "Requirement already satisfied: charset-normalizer<3,>=2 in /home/ivanvladimir/projects/maquinas_notebooks/env/lib/python3.8/site-packages (from requests>=2.0.0->requests-oauthlib>=0.7.0->google-auth-oauthlib>=0.4.1->gspread>=3.0.0->gspread-formatting) (2.1.0)\n",
      "Requirement already satisfied: idna<4,>=2.5 in /home/ivanvladimir/projects/maquinas_notebooks/env/lib/python3.8/site-packages (from requests>=2.0.0->requests-oauthlib>=0.7.0->google-auth-oauthlib>=0.4.1->gspread>=3.0.0->gspread-formatting) (3.3)\n",
      "Requirement already satisfied: certifi>=2017.4.17 in /home/ivanvladimir/projects/maquinas_notebooks/env/lib/python3.8/site-packages (from requests>=2.0.0->requests-oauthlib>=0.7.0->google-auth-oauthlib>=0.4.1->gspread>=3.0.0->gspread-formatting) (2022.6.15)\n",
      "Installing collected packages: gspread-formatting\n",
      "Successfully installed gspread-formatting-1.1.2\n",
      "Collecting fuzzywuzzy[speedup]\n",
      "  Using cached fuzzywuzzy-0.18.0-py2.py3-none-any.whl (18 kB)\n",
      "Collecting python-levenshtein>=0.12; extra == \"speedup\"\n",
      "  Using cached python_Levenshtein-0.20.9-py3-none-any.whl (9.4 kB)\n",
      "Collecting Levenshtein==0.20.9\n",
      "  Using cached Levenshtein-0.20.9-cp38-cp38-manylinux_2_17_x86_64.manylinux2014_x86_64.whl (174 kB)\n",
      "Collecting rapidfuzz<3.0.0,>=2.3.0\n",
      "  Using cached rapidfuzz-2.13.7-cp38-cp38-manylinux_2_17_x86_64.manylinux2014_x86_64.whl (2.2 MB)\n",
      "Installing collected packages: rapidfuzz, Levenshtein, python-levenshtein, fuzzywuzzy\n",
      "Successfully installed Levenshtein-0.20.9 fuzzywuzzy-0.18.0 python-levenshtein-0.20.9 rapidfuzz-2.13.7\n",
      "Collecting gdown\n",
      "  Downloading gdown-4.6.0-py3-none-any.whl (14 kB)\n",
      "Requirement already satisfied: six in /home/ivanvladimir/projects/maquinas_notebooks/env/lib/python3.8/site-packages (from gdown) (1.16.0)\n",
      "Requirement already satisfied: requests[socks] in /home/ivanvladimir/projects/maquinas_notebooks/env/lib/python3.8/site-packages (from gdown) (2.28.1)\n",
      "Collecting filelock\n",
      "  Downloading filelock-3.9.0-py3-none-any.whl (9.7 kB)\n",
      "Collecting tqdm\n",
      "  Downloading tqdm-4.64.1-py2.py3-none-any.whl (78 kB)\n",
      "\u001b[K     |████████████████████████████████| 78 kB 1.8 MB/s eta 0:00:01\n",
      "\u001b[?25hRequirement already satisfied: beautifulsoup4 in /home/ivanvladimir/projects/maquinas_notebooks/env/lib/python3.8/site-packages (from gdown) (4.11.1)\n",
      "Requirement already satisfied: idna<4,>=2.5 in /home/ivanvladimir/projects/maquinas_notebooks/env/lib/python3.8/site-packages (from requests[socks]->gdown) (3.3)\n",
      "Requirement already satisfied: charset-normalizer<3,>=2 in /home/ivanvladimir/projects/maquinas_notebooks/env/lib/python3.8/site-packages (from requests[socks]->gdown) (2.1.0)\n",
      "Requirement already satisfied: urllib3<1.27,>=1.21.1 in /home/ivanvladimir/projects/maquinas_notebooks/env/lib/python3.8/site-packages (from requests[socks]->gdown) (1.26.11)\n",
      "Requirement already satisfied: certifi>=2017.4.17 in /home/ivanvladimir/projects/maquinas_notebooks/env/lib/python3.8/site-packages (from requests[socks]->gdown) (2022.6.15)\n",
      "Collecting PySocks!=1.5.7,>=1.5.6; extra == \"socks\"\n",
      "  Downloading PySocks-1.7.1-py3-none-any.whl (16 kB)\n",
      "Requirement already satisfied: soupsieve>1.2 in /home/ivanvladimir/projects/maquinas_notebooks/env/lib/python3.8/site-packages (from beautifulsoup4->gdown) (2.3.2.post1)\n",
      "Installing collected packages: filelock, tqdm, gdown, PySocks\n",
      "Successfully installed PySocks-1.7.1 filelock-3.9.0 gdown-4.6.0 tqdm-4.64.1\n",
      "Collecting pandas\n",
      "  Using cached pandas-1.5.2-cp38-cp38-manylinux_2_17_x86_64.manylinux2014_x86_64.whl (12.2 MB)\n",
      "Collecting numpy>=1.20.3; python_version < \"3.10\"\n",
      "  Downloading numpy-1.24.1-cp38-cp38-manylinux_2_17_x86_64.manylinux2014_x86_64.whl (17.3 MB)\n",
      "\u001b[K     |████████████████████████████████| 17.3 MB 1.5 MB/s eta 0:00:01\n",
      "\u001b[?25hRequirement already satisfied: pytz>=2020.1 in /home/ivanvladimir/projects/maquinas_notebooks/env/lib/python3.8/site-packages (from pandas) (2022.1)\n",
      "Requirement already satisfied: python-dateutil>=2.8.1 in /home/ivanvladimir/projects/maquinas_notebooks/env/lib/python3.8/site-packages (from pandas) (2.8.2)\n",
      "Requirement already satisfied: six>=1.5 in /home/ivanvladimir/projects/maquinas_notebooks/env/lib/python3.8/site-packages (from python-dateutil>=2.8.1->pandas) (1.16.0)\n",
      "Installing collected packages: numpy, pandas\n",
      "Successfully installed numpy-1.24.1 pandas-1.5.2\n",
      "Collecting authlib\n",
      "  Downloading Authlib-1.2.0-py2.py3-none-any.whl (214 kB)\n",
      "\u001b[K     |████████████████████████████████| 214 kB 1.4 MB/s eta 0:00:01\n",
      "\u001b[?25hCollecting cryptography>=3.2\n",
      "  Downloading cryptography-39.0.0-cp36-abi3-manylinux_2_17_x86_64.manylinux2014_x86_64.whl (4.2 MB)\n",
      "\u001b[K     |████████████████████████████████| 4.2 MB 11.3 MB/s eta 0:00:01\n",
      "\u001b[?25hRequirement already satisfied: cffi>=1.12 in /home/ivanvladimir/projects/maquinas_notebooks/env/lib/python3.8/site-packages (from cryptography>=3.2->authlib) (1.15.1)\n",
      "Requirement already satisfied: pycparser in /home/ivanvladimir/projects/maquinas_notebooks/env/lib/python3.8/site-packages (from cffi>=1.12->cryptography>=3.2->authlib) (2.21)\n",
      "Installing collected packages: cryptography, authlib\n",
      "Successfully installed authlib-1.2.0 cryptography-39.0.0\n"
     ]
    }
   ],
   "source": [
    "\n",
    "!pip install rich\n",
    "!pip install --upgrade -q gspread\n",
    "!pip install gspread-formatting\n",
    "!pip install fuzzywuzzy[speedup]\n",
    "!pip install gdown\n",
    "!pip install pandas\n",
    "!pip install authlib\n"
   ]
  },
  {
   "cell_type": "code",
   "execution_count": 1,
   "metadata": {
    "id": "JBtdHdAm15R6"
   },
   "outputs": [],
   "source": [
    "#from google.colab import drive\n",
    "from rich.progress import track as progress_bar\n",
    "from rich.jupyter import print\n",
    "from rich.console import Console\n",
    "console = Console(width=200)\n",
    "import pandas as pd\n",
    "import gspread\n",
    "#from google.colab import auth\n",
    "#from oauth2client.client import GoogleCredentials\n",
    "#from googleapiclient.discovery import build\n",
    "from gspread_formatting import *\n",
    "from google.auth import default\n",
    "from fuzzywuzzy import fuzz, process\n",
    "import re\n",
    "import urllib.request\n",
    "import gdown\n",
    "from IPython.display import SVG"
   ]
  },
  {
   "cell_type": "markdown",
   "metadata": {
    "id": "peD6fMd_761s",
    "tags": []
   },
   "source": [
    "## 0.2 Reading list and asignation"
   ]
  },
  {
   "cell_type": "code",
   "execution_count": 2,
   "metadata": {
    "colab": {
     "base_uri": "https://localhost:8080/",
     "height": 734
    },
    "id": "kL-HZnhG6q1a",
    "outputId": "51d6d35f-eef3-474b-a234-46dca5d4daa0"
   },
   "outputs": [
    {
     "data": {
      "text/html": [
       "<pre style=\"white-space:pre;overflow-x:auto;line-height:normal;font-family:Menlo,'DejaVu Sans Mono',consolas,'Courier New',monospace\">alan bautista razo\n",
       "alejandra rosales piña\n",
       "alexis alejandro sanchez rosas\n",
       "andres castrejon jimenez\n",
       "angel isaac sanchez estrada\n",
       "carlos morales ortega\n",
       "cesar yahir perez diaz\n",
       "christian peña granillo\n",
       "christopher omar parra grimaldi\n",
       "cinthya velez grande\n",
       "daniel aguilar maya\n",
       "diego andres ramirez garcia\n",
       "eduardo abdiel mancera hernandez\n",
       "eduardo alfredo ceron maciel\n",
       "gabriel alexander carmona garcia\n",
       "gabriela stephania figueroa villamares\n",
       "gamaliel rios lira\n",
       "giovanni salvador chavez villanueva\n",
       "heber adan pilares garcia\n",
       "hugo yael juarez garcia\n",
       "ian pang araizaga\n",
       "ikechukwu akwueze daniel\n",
       "ivette alejandra carrillo cervantes\n",
       "jesica villalpando aguilar\n",
       "jesus javier jacobo ruiz\n",
       "jorge antonio lopez chong\n",
       "jose gerardo flores saavedra\n",
       "karla andrea velazquez martinez\n",
       "liliana alejandra muñiz hernandez\n",
       "luis fabian armenta chora\n",
       "luis joaquin castro serrato\n",
       "marco antonio sanchez hernandez\n",
       "maria fernanda verano peralta\n",
       "martin gonzalez rico\n",
       "miguel venegas rocha\n",
       "rocio garcia lemus\n",
       "rocio sanchez garcia\n",
       "rodolfo mario teran garcia\n",
       "rodrigo gael guzman alburo\n",
       "samanta ivonne estrada romero\n",
       "saul garcia lopez\n",
       "vanessa nava alberto\n",
       "yaxca alexa quero bautista\n",
       "</pre>\n"
      ],
      "text/plain": [
       "alan bautista razo\n",
       "alejandra rosales piña\n",
       "alexis alejandro sanchez rosas\n",
       "andres castrejon jimenez\n",
       "angel isaac sanchez estrada\n",
       "carlos morales ortega\n",
       "cesar yahir perez diaz\n",
       "christian peña granillo\n",
       "christopher omar parra grimaldi\n",
       "cinthya velez grande\n",
       "daniel aguilar maya\n",
       "diego andres ramirez garcia\n",
       "eduardo abdiel mancera hernandez\n",
       "eduardo alfredo ceron maciel\n",
       "gabriel alexander carmona garcia\n",
       "gabriela stephania figueroa villamares\n",
       "gamaliel rios lira\n",
       "giovanni salvador chavez villanueva\n",
       "heber adan pilares garcia\n",
       "hugo yael juarez garcia\n",
       "ian pang araizaga\n",
       "ikechukwu akwueze daniel\n",
       "ivette alejandra carrillo cervantes\n",
       "jesica villalpando aguilar\n",
       "jesus javier jacobo ruiz\n",
       "jorge antonio lopez chong\n",
       "jose gerardo flores saavedra\n",
       "karla andrea velazquez martinez\n",
       "liliana alejandra muñiz hernandez\n",
       "luis fabian armenta chora\n",
       "luis joaquin castro serrato\n",
       "marco antonio sanchez hernandez\n",
       "maria fernanda verano peralta\n",
       "martin gonzalez rico\n",
       "miguel venegas rocha\n",
       "rocio garcia lemus\n",
       "rocio sanchez garcia\n",
       "rodolfo mario teran garcia\n",
       "rodrigo gael guzman alburo\n",
       "samanta ivonne estrada romero\n",
       "saul garcia lopez\n",
       "vanessa nava alberto\n",
       "yaxca alexa quero bautista\n"
      ]
     },
     "metadata": {},
     "output_type": "display_data"
    }
   ],
   "source": [
    "url_info = \"\" #@param {\"type\":\"string\"}\n",
    "\n",
    "lista={}\n",
    "lista_={}\n",
    "with open(\"/home/ivanvladimir/Dropbox/Cursos/lfya/2023i/lista.txt\") as f:\n",
    "  for i,line in enumerate(f):\n",
    "    line=line.strip()\n",
    "    lista[i]=line.lower()\n",
    "    lista_[line.lower()]=i\n",
    "\n",
    "assign=\"\"\"0,0,5,6,10\n",
    "1,3,4,6,8\n",
    "2,0,5,6,10\n",
    "3,3,4,6,9\n",
    "4,2,5,6,10\n",
    "5,2,4,6,10\n",
    "6,0,5,6,9\n",
    "7,2,4,6,9\n",
    "8,3,4,6,9\n",
    "9,2,5,6,7\n",
    "10,0,5,6,9\n",
    "11,3,4,6,8\n",
    "12,2,4,6,10\n",
    "13,2,4,6,8\n",
    "14,0,5,6,10\n",
    "15,1,4,6,8\n",
    "16,1,4,6,10\n",
    "17,2,4,6,9\n",
    "18,1,4,6,7\n",
    "19,0,5,6,7\n",
    "20,1,4,6,10\n",
    "21,2,4,6,8\n",
    "22,1,4,6,10\n",
    "23,2,4,6,7\n",
    "24,0,4,6,9\n",
    "25,3,4,6,10\n",
    "26,1,5,6,8\n",
    "27,0,5,6,8\n",
    "28,3,5,6,10\n",
    "29,0,4,6,9\n",
    "30,2,5,6,10\n",
    "31,1,5,6,9\n",
    "32,3,5,6,8\n",
    "33,3,4,6,9\n",
    "34,2,4,6,9\n",
    "35,0,5,6,7\n",
    "36,2,5,6,10\n",
    "37,0,4,6,9\n",
    "38,0,5,6,8\n",
    "39,3,5,6,7\n",
    "40,1,5,6,10\n",
    "41,0,4,6,10\n",
    "42,1,5,6,9\n",
    "\"\"\".splitlines()\n",
    "assign=[l.split(',') for l in assign]\n",
    "assign=[tuple(int(v) for v in vals[1:]) for vals in assign]\n",
    "\n",
    "print(\"\\n\".join(lista_.keys()))"
   ]
  },
  {
   "cell_type": "markdown",
   "metadata": {
    "id": "wpJVVIqU19F1",
    "tags": []
   },
   "source": [
    "## 0.3 Connect to google sheets"
   ]
  },
  {
   "cell_type": "code",
   "execution_count": 3,
   "metadata": {
    "id": "adhZlEd72Eew"
   },
   "outputs": [],
   "source": [
    "gc = gspread.oauth()"
   ]
  },
  {
   "cell_type": "code",
   "execution_count": 4,
   "metadata": {
    "id": "DmjypsPp4zAs"
   },
   "outputs": [],
   "source": [
    "#@title Opening excel survey\n",
    "\n",
    "url_info = \"https://docs.google.com/spreadsheets/d/1tvwObZXCbz2UETcD42GujvZ7qXcpkJOJayoXEDYc5mQ/edit?usp=sharing\" #@param {\"type\":\"string\"}\n",
    "ss= gc.open_by_url(url_info)\n",
    "sh = ss.get_worksheet(0)\n",
    "data  = sh.get_all_values()"
   ]
  },
  {
   "cell_type": "markdown",
   "metadata": {
    "id": "quV4ZqN2_rCT"
   },
   "source": [
    "## 0.4 Check who did not delivered"
   ]
  },
  {
   "cell_type": "code",
   "execution_count": 5,
   "metadata": {
    "colab": {
     "base_uri": "https://localhost:8080/",
     "height": 467
    },
    "id": "f3V3TmZ4B1kz",
    "outputId": "8d065276-706b-4eac-f9d3-744f3281fee6"
   },
   "outputs": [
    {
     "data": {
      "text/html": [
       "<pre style=\"white-space:pre;overflow-x:auto;line-height:normal;font-family:Menlo,'DejaVu Sans Mono',consolas,'Courier New',monospace\"><span style=\"color: #008080; text-decoration-color: #008080; font-weight: bold\">00</span> Marca temporal\n",
       "<span style=\"color: #008080; text-decoration-color: #008080; font-weight: bold\">01</span> Dirección de correo electrónico\n",
       "<span style=\"color: #008080; text-decoration-color: #008080; font-weight: bold\">02</span> Puntuación\n",
       "<span style=\"color: #008080; text-decoration-color: #008080; font-weight: bold\">03</span> Nombre completo\n",
       "<span style=\"color: #008080; text-decoration-color: #008080; font-weight: bold\">04</span> Nombres trabajo en equipo\n",
       "<span style=\"color: #008080; text-decoration-color: #008080; font-weight: bold\">05</span> Anotar cinco cadenas que pertenezcan al lenguaje especificado\n",
       "<span style=\"color: #008080; text-decoration-color: #008080; font-weight: bold\">06</span> Anotar cinco cadenas que no pertenezcan al lenguaje especificado\n",
       "<span style=\"color: #008080; text-decoration-color: #008080; font-weight: bold\">07</span> Transcribir los pasos del lemma de bombeo\n",
       "<span style=\"color: #008080; text-decoration-color: #008080; font-weight: bold\">08</span> Gramática libre de contexto\n",
       "<span style=\"color: #008080; text-decoration-color: #008080; font-weight: bold\">09</span> Argumente que la gramática es correcta\n",
       "<span style=\"color: #008080; text-decoration-color: #008080; font-weight: bold\">10</span> Nombres trabajo en equipo\n",
       "<span style=\"color: #008080; text-decoration-color: #008080; font-weight: bold\">11</span> Anotar cinco cadenas que pertenezcan al lenguaje especificado\n",
       "<span style=\"color: #008080; text-decoration-color: #008080; font-weight: bold\">12</span> Anotar cinco cadenas que no pertenezcan al lenguaje especificado\n",
       "<span style=\"color: #008080; text-decoration-color: #008080; font-weight: bold\">13</span> Anotar el Autómata de Pila\n",
       "<span style=\"color: #008080; text-decoration-color: #008080; font-weight: bold\">14</span> Nombres trabajo en equipo\n",
       "<span style=\"color: #008080; text-decoration-color: #008080; font-weight: bold\">15</span> Resumen notación Bacus-Naur \n",
       "<span style=\"color: #008080; text-decoration-color: #008080; font-weight: bold\">16</span> Segmento de if\n",
       "<span style=\"color: #008080; text-decoration-color: #008080; font-weight: bold\">17</span> Explique funcionamiento de segmento if\n",
       "<span style=\"color: #008080; text-decoration-color: #008080; font-weight: bold\">18</span> Nombres trabajo en equipo\n",
       "<span style=\"color: #008080; text-decoration-color: #008080; font-weight: bold\">19</span> Anotar cinco cadenas que pertenezcan al lenguaje especificado\n",
       "<span style=\"color: #008080; text-decoration-color: #008080; font-weight: bold\">20</span> Anotar cinco cadenas que no pertenezcan al lenguaje especificado\n",
       "<span style=\"color: #008080; text-decoration-color: #008080; font-weight: bold\">21</span> Anotar el Autómata de Pila\n",
       "</pre>\n"
      ],
      "text/plain": [
       "\u001b[1;36m00\u001b[0m Marca temporal\n",
       "\u001b[1;36m01\u001b[0m Dirección de correo electrónico\n",
       "\u001b[1;36m02\u001b[0m Puntuación\n",
       "\u001b[1;36m03\u001b[0m Nombre completo\n",
       "\u001b[1;36m04\u001b[0m Nombres trabajo en equipo\n",
       "\u001b[1;36m05\u001b[0m Anotar cinco cadenas que pertenezcan al lenguaje especificado\n",
       "\u001b[1;36m06\u001b[0m Anotar cinco cadenas que no pertenezcan al lenguaje especificado\n",
       "\u001b[1;36m07\u001b[0m Transcribir los pasos del lemma de bombeo\n",
       "\u001b[1;36m08\u001b[0m Gramática libre de contexto\n",
       "\u001b[1;36m09\u001b[0m Argumente que la gramática es correcta\n",
       "\u001b[1;36m10\u001b[0m Nombres trabajo en equipo\n",
       "\u001b[1;36m11\u001b[0m Anotar cinco cadenas que pertenezcan al lenguaje especificado\n",
       "\u001b[1;36m12\u001b[0m Anotar cinco cadenas que no pertenezcan al lenguaje especificado\n",
       "\u001b[1;36m13\u001b[0m Anotar el Autómata de Pila\n",
       "\u001b[1;36m14\u001b[0m Nombres trabajo en equipo\n",
       "\u001b[1;36m15\u001b[0m Resumen notación Bacus-Naur \n",
       "\u001b[1;36m16\u001b[0m Segmento de if\n",
       "\u001b[1;36m17\u001b[0m Explique funcionamiento de segmento if\n",
       "\u001b[1;36m18\u001b[0m Nombres trabajo en equipo\n",
       "\u001b[1;36m19\u001b[0m Anotar cinco cadenas que pertenezcan al lenguaje especificado\n",
       "\u001b[1;36m20\u001b[0m Anotar cinco cadenas que no pertenezcan al lenguaje especificado\n",
       "\u001b[1;36m21\u001b[0m Anotar el Autómata de Pila\n"
      ]
     },
     "metadata": {},
     "output_type": "display_data"
    }
   ],
   "source": [
    "# Print columns\n",
    "print(\"\\n\".join([f\"{i:02} {col}\" for i,col in enumerate(data[0])]))"
   ]
  },
  {
   "cell_type": "code",
   "execution_count": 6,
   "metadata": {
    "colab": {
     "base_uri": "https://localhost:8080/",
     "height": 34
    },
    "id": "D94vsj0N6Zqq",
    "outputId": "24220f88-8ac8-4e7a-e71f-19c4b7f8ba67"
   },
   "outputs": [
    {
     "data": {
      "text/html": [
       "<pre style=\"white-space:pre;overflow-x:auto;line-height:normal;font-family:Menlo,'DejaVu Sans Mono',consolas,'Courier New',monospace\"><span style=\"color: #008000; text-decoration-color: #008000\">✓ it seems to be OK, total found </span><span style=\"color: #008000; text-decoration-color: #008000; font-weight: bold\">42</span>\n",
       "</pre>\n"
      ],
      "text/plain": [
       "\u001b[32m✓ it seems to be OK, total found \u001b[0m\u001b[1;32m42\u001b[0m\n"
      ]
     },
     "metadata": {},
     "output_type": "display_data"
    }
   ],
   "source": [
    "errs=0\n",
    "id2rows={}\n",
    "for i,row in enumerate(data[1:]):\n",
    "  res=process.extract(row[3].lower(),lista_.keys(),limit=1)\n",
    "  if len(res)==0:\n",
    "    print(f\"[red]No match found: {row[3].lower()} [/red]\")\n",
    "    errs+=1\n",
    "  else:\n",
    "    res=res[0]\n",
    "    if res[1]<85:\n",
    "      print(f\"[red]No enough evidence: {row[3].lower()} [/red]\")\n",
    "      errs+=1\n",
    "    else:\n",
    "      id2rows[lista_[res[0]]]=row\n",
    "\n",
    "if errs > 0:\n",
    "  print(\"[red]❌ it did not pass[/red]\")\n",
    "else:\n",
    "  print(f\"[green]✓ it seems to be OK, total found {len(id2rows)}[/green]\")"
   ]
  },
  {
   "cell_type": "markdown",
   "metadata": {
    "id": "OxKacFQ6JOqa"
   },
   "source": [
    "## 0.5 Functions"
   ]
  },
  {
   "cell_type": "code",
   "execution_count": 17,
   "metadata": {
    "colab": {
     "base_uri": "https://localhost:8080/",
     "height": 560
    },
    "id": "-nSFrQpkJPJy",
    "outputId": "1b1bdbe6-6eb2-4d79-cdec-e8111ceef13b"
   },
   "outputs": [],
   "source": [
    "from maquinas.io import *\n",
    "from maquinas.regular.ndfa_e import NonDeterministicFiniteAutomaton_epsilon as NDFA_e\n",
    "from maquinas.regular.ndfa import NonDeterministicFiniteAutomaton as NDFA\n",
    "from maquinas.regular.dfa import DeterministicFiniteAutomaton as DFA\n",
    "\n",
    "from maquinas.regular.RE import RegularExpression as RE\n",
    "from maquinas.contextfree.cfg import ContextFreeGrammar as CFG\n",
    "from maquinas.contextfree.pda import PushDownAutomaton as PDA\n",
    "from maquinas.recursivelyenumerable.tspda import TwoStackPushDownAutomaton as TSPDA\n",
    "\n",
    "PDA2=TSPDA\n",
    "\n",
    "\n",
    "from maquinas.parser.earley_parser import print_chart, chart2table\n",
    "\n",
    "\n",
    "class Responses():\n",
    "\n",
    "  def __init__(self):\n",
    "    self.res={}\n",
    "    self.num={}\n",
    "\n",
    "  def set_problem(self,num):\n",
    "    self.num=num\n",
    "    if not num in self.res:\n",
    "      self.res[self.num]={}\n",
    "\n",
    "  def append(self,type,res):\n",
    "    if not type in self.res[self.num]:\n",
    "      self.res[self.num][type]=[]\n",
    "    self.res[self.num][type].append(res)\n",
    "\n",
    "  def concat(self,type,res):\n",
    "    if not type in self.res[self.num]:\n",
    "      self.res[self.num][type]=[]\n",
    "    self.res[self.num][type]+=res\n",
    "\n",
    "  def get(self,num,type):\n",
    "    return self.res[num][type]\n",
    "\n",
    "def clean_accept_reject(w):\n",
    "  w=w.strip()\n",
    "  if w.startswith('w='):\n",
    "    w=w[2:]\n",
    "  w=w.strip()\n",
    "  w=w.replace(\"-\",\"\")\n",
    "  w=w.replace(\",\",\"\")\n",
    "  w=w.replace(\";\",\"\")\n",
    "  w=w.replace(\".\",\"\")\n",
    "  if w==\"Ɛ\":\n",
    "        w=''\n",
    "  \n",
    "  return w\n",
    "\n",
    "re_http=re.compile(\"(https?://.*)\")\n",
    "re_docs_id=re.compile(r\"/d/([^/]+)/\")\n",
    "\n",
    "def find_url(text):\n",
    "  m=re_http.search(text)\n",
    "  if m:\n",
    "    return m.group(1)\n",
    "  else:\n",
    "    return None\n",
    "\n",
    "\n",
    "def load_code(text,type):\n",
    "  trans=[]\n",
    "  \n",
    "  for line in text.splitlines():\n",
    "    \n",
    "    line=str(line.strip())\n",
    "    if len(line)==0:\n",
    "        continue\n",
    "    if \"States\" in line:      \n",
    "      states=line[10:].split(',')\n",
    "      states=[a.strip() for a in states]\n",
    "    if line.startswith(\"Sigma  \"):\n",
    "      line=line.replace(\"ε\",\"\")\n",
    "      sigma=line[10:].split(',')\n",
    "      sigma=[s.strip() for s in sigma]\n",
    "    if line.startswith(\"Initial \"):\n",
    "      q0=line[10:].strip()\n",
    "    if \"Aceptors\" in line:\n",
    "      A=line[11:-1].split(',')\n",
    "      A=[a.strip() for a in A]\n",
    "    if \"Acceptors\" in line:\n",
    "      A=line[12:-1].split(',')\n",
    "      A=[a.strip() for a in A]\n",
    "    \n",
    "    if \"→\" in line:\n",
    "      \n",
    "      bits=line.split(\"→\")\n",
    "      bits0=bits[0].split(',')\n",
    "      if type==\"NDFA_e\":\n",
    "        if not bits[1].strip()[0]=='{':\n",
    "          print(\"[red]It did not found a set in transition of NDFA_e[/red]\")\n",
    "          return None\n",
    "      if len(bits[1].strip())==2:\n",
    "        continue\n",
    "    \n",
    "      if type==\"DFA\":\n",
    "        trans.append(((bits0[0].strip(),bits0[1].strip()),bits[1].strip()))\n",
    "      else:\n",
    "          bits1=bits[1].strip()[1:-1].split(',')\n",
    "          trans.append(((bits0[0].strip(),bits0[1].strip()),[b.strip() for b in bits1]))\n",
    "      \n",
    "  if type==\"NDFA_e\":\n",
    "    try:\n",
    "      return NDFA_e(Q=states,sigma=sigma,q_0=q0,A=A,delta=trans)\n",
    "    except UnboundLocalError:\n",
    "      print(\"[red]One variable not found[/red]\")\n",
    "      return None\n",
    "  if type==\"NDFA\":\n",
    "    try:\n",
    "      return NDFA(Q=states,sigma=sigma,q_0=q0,A=A,delta=trans)\n",
    "    except UnboundLocalError:\n",
    "      print(\"[red]One variable not found[/red]\")\n",
    "      return None\n",
    "  if type==\"DFA\":\n",
    "    try:\n",
    "      return DFA(Q=states,sigma=sigma,q_0=q0,A=A,delta=trans)\n",
    "    except UnboundLocalError:\n",
    "      print(\"[red]One variable not found[/red]\")\n",
    "      return None\n",
    "  if type==None:\n",
    "    \n",
    "     return NDFA_e(Q=states,sigma=sigma,q_0=q0,A=A,delta=trans)\n",
    "     return NDFA(Q=states,sigma=sigma,q_0=q0,A=A,delta=trans)\n",
    "     return DFA(Q=states,sigma=sigma,q_0=q0,A=A,delta=trans)\n",
    "    \n",
    "    \n",
    "    \n",
    "re_transition=re.compile(r\"  ([^,\\n]+,[^ ]+) →\")\n",
    "re_epsilon=re.compile(r\",e →\")\n",
    "\n",
    "def create_pda(text):\n",
    "  if \"<?xml\" in text:\n",
    "    #text=text.replace(\"&#13;\",\"\")\n",
    "    text=\"<structure>\"+text.split(\"<structure>\")[1]\n",
    "    text=text.split(\"</structure>\")[0]+\"</structure>\\n\"\n",
    "    try:\n",
    "        return load_jflap(text)\n",
    "    except JFLAPXMLError:\n",
    "        return None,None\n",
    "  elif \"RE(\" in text:\n",
    "    text=text.replace(\".print_summary()\",\"\")\n",
    "    bits=text.split(\"RE(\")\n",
    "    try:\n",
    "        return eval(\"RE(\"+bits[1])\n",
    "    except:\n",
    "        print(text)\n",
    "  elif \"PDA(\" in text:\n",
    "    text=text.replace(\".print_summary()\",\"\")\n",
    "    bits=text.split(\"PDA(\")\n",
    "    PDA_=\"PDA(\"+bits[1]\n",
    "    PDA_=PDA_.split(\"bvmbv.graph()\")[0]\n",
    "    PDA_=PDA_.split(\"anbnMio\")[0]\n",
    "    PDA_=PDA_.split(\"for q,a,w_\")[0]\n",
    "    \n",
    "    try:\n",
    "        return eval(PDA_)\n",
    "    except:\n",
    "        print(text)\n",
    "  elif \"|\" in text.split('\\n')[0]:\n",
    "      return load_fa(text)\n",
    "\n",
    "def create_pda2(text):\n",
    "  if \"<?xml\" in text:\n",
    "    #text=text.replace(\"&#13;\",\"\")\n",
    "    text=\"<structure>\"+text.split(\"<structure>\")[1]\n",
    "    text=text.split(\"</structure>\")[0]+\"</structure>\\n\"\n",
    "    try:\n",
    "        return load_jflap(text)\n",
    "    except JFLAPXMLError:\n",
    "        return None,None\n",
    "  elif \"States\" in text:\n",
    "    text=text.replace(\"Sigma\",\"\\nSigma\")\n",
    "    text=text.replace(\"Initial\",\"\\nInitial\")\n",
    "    text=text.replace(\"Acceptors\",\"\\nAcceptors\")\n",
    "    text=text.replace(\"Aceptors\",\"\\nAcceptors\")\n",
    "    text=text.replace(\"Transitions\",\"\\nTransitions\")\n",
    "    text=re_transition.sub(r\"\\n\\1 →\",text)\n",
    "    text=re_epsilon.sub(r\",ε →\",text)\n",
    "    return gid,load_code(text,type)\n",
    "  elif \"RE(\" in text:\n",
    "    text=text.replace(\".print_summary()\",\"\")\n",
    "    bits=text.split(\"RE(\")\n",
    "    try:\n",
    "        return eval(\"RE(\"+bits[1])\n",
    "    except:\n",
    "        print(text)\n",
    "  elif \"PDA2(\" in text:\n",
    "    text=text.replace(\".print_summary()\",\"\")\n",
    "    bits=text.split(\"PDA2(\")\n",
    "    PDA2_=\"PDA2(\"+bits[1]\n",
    "    PDA2_=PDA2_.split(\"E8_1.graph()\")[0]\n",
    "    PDA2_=PDA2_.split(\"wmw.graph()\")[0]\n",
    "    PDA2_=PDA2_.split(\"E9.graph()\")[0]\n",
    "    PDA2_=PDA2_.split(\"for q,a,w_ in\")[0]\n",
    "    PDA2_=PDA2_.split(\"w1mw2mw3mw1w1w2.graph()\")[0]\n",
    "\n",
    "    \n",
    "    \n",
    "        \n",
    "    return eval(PDA2_)\n",
    "  elif \"|\" in text.split('\\n')[0]:\n",
    "      return load_fa(text)\n"
   ]
  },
  {
   "cell_type": "markdown",
   "metadata": {
    "id": "nXaJVWBt5_yP"
   },
   "source": [
    "## Section 1\n",
    "---\n"
   ]
  },
  {
   "cell_type": "code",
   "execution_count": 24,
   "metadata": {},
   "outputs": [],
   "source": [
    "solutions=[\n",
    "    # section 1\n",
    "    {0: # problema uno\n",
    "     {\"alpabeth\":set(\"0 1\".split()),\n",
    "      \"accept\":['0001','01','0010','00010','00001'],\n",
    "      \"reject\":['1','010','0100','10','001000'],\n",
    "     },\n",
    "     1: # problema uno\n",
    "     {\"alpabeth\":set(\"0 1\".split()),\n",
    "      \"accept\":['1110','01','101111','10111','01111'],\n",
    "      \"reject\":['1','101','1101','10','111011'],\n",
    "     },\n",
    "     2: # problema uno\n",
    "     {\"alpabeth\":set(\"0 1\".split()),\n",
    "      \"accept\":['1000','01','0010','00010','00001'],\n",
    "      \"reject\":['1','010','0100','10','001000'],\n",
    "     },\n",
    "     3: # problema uno\n",
    "     {\"alpabeth\":set(\"0 1\".split()),\n",
    "      \"accept\":['0111','01','1011','10111','01111'],\n",
    "      \"reject\":['1','101','1101','10','111011'],\n",
    "     },\n",
    "     \n",
    "    },\n",
    "    {4: # problema dos\n",
    "     {\"alpabeth\":set(\"a b m\".split()),\n",
    "      \"accept\":['baaabmb','aaabbmb','amb','bbbaaaaaabbmb','baabm'],\n",
    "      \"reject\":['aaaa','bbb','am','mb','baaabmmb'],\n",
    "     },\n",
    "     5: # problema dos\n",
    "     {\"alpabeth\":set(['a','b','m']),\n",
    "      \"accept\":['bbbmbbb',\"bbmbb\",\"bmb\",\"bbmbb\",\"m\"],\n",
    "      \"reject\":['bmbb','bbb','bbmb','bbmbbb','bbbmbb'],\n",
    "      \n",
    "     }},\n",
    "    {\n",
    "     7: # problema cuatro\n",
    "     {\"alpabeth\":set(['a','b','m']),\n",
    "      \"accept\":['ambmambaa','aamaambbmaabbaa','mmm','bmambmabb','mmama'],\n",
    "      \"reject\":['a','m','mm','ambmamaaa','amamamaa'],      \n",
    "     },\n",
    "        8: # problema cuatro\n",
    "     {\"alpabeth\":set(['a','b','m']),\n",
    "      \"accept\":['ambmamaab','aamaambbmbbaaaa','mmm','bmambmbba','mmama'],\n",
    "      \"reject\":['a','m','mm','ambmamaaa','amamamaa'],      \n",
    "     },\n",
    "        9: # problema cuatro\n",
    "     {\"alpabeth\":set(['a','b','m']),\n",
    "      \"accept\":['ambmamaaa','aamaambbmaabbbb','mmm','bmambmbbb','mmamaa'],\n",
    "      \"reject\":['a','m','mm','ambmamaaa','amamamaa'],      \n",
    "     },\n",
    "        10: # problema cuatro\n",
    "     {\"alpabeth\":set(['a','b','m']),\n",
    "      \"accept\":['ambmamaab','aamaambbmaaaaaa','mmm','bmambmbba','mmam'],\n",
    "      \"reject\":['a','m','mm','ambmamaaa','amamamaa'],      \n",
    "     },\n",
    "    \n",
    "    \n",
    "    \n",
    "    },\n",
    "    \n",
    "]    "
   ]
  },
  {
   "cell_type": "code",
   "execution_count": 30,
   "metadata": {
    "colab": {
     "base_uri": "https://localhost:8080/",
     "height": 263
    },
    "id": "rXMlb8Hv6Ruh",
    "outputId": "b1c1e157-b0a6-446f-8fe6-f5cf158921e8",
    "scrolled": true,
    "tags": []
   },
   "outputs": [
    {
     "data": {
      "text/html": [
       "<pre style=\"white-space:pre;overflow-x:auto;line-height:normal;font-family:Menlo,'DejaVu Sans Mono',consolas,'Courier New',monospace\"><span style=\"color: #808000; text-decoration-color: #808000\">Christopher Omar Parra Grimaldi/subarusrt24@gmail.com/</span><span style=\"color: #808000; text-decoration-color: #808000; font-weight: bold\">41</span><span style=\"color: #808000; text-decoration-color: #808000\"> </span><span style=\"color: #808000; text-decoration-color: #808000; font-weight: bold\">(</span><span style=\"color: #808000; text-decoration-color: #808000; font-weight: bold\">3</span><span style=\"color: #808000; text-decoration-color: #808000; font-weight: bold\">)</span><span style=\"color: #808000; text-decoration-color: #808000\"> </span>\n",
       "</pre>\n"
      ],
      "text/plain": [
       "\u001b[33mChristopher Omar Parra Grimaldi/subarusrt24@gmail.com/\u001b[0m\u001b[1;33m41\u001b[0m\u001b[33m \u001b[0m\u001b[1;33m(\u001b[0m\u001b[1;33m3\u001b[0m\u001b[1;33m)\u001b[0m\u001b[33m \u001b[0m\n"
      ]
     },
     "metadata": {},
     "output_type": "display_data"
    },
    {
     "data": {
      "text/html": [
       "<pre style=\"white-space:pre;overflow-x:auto;line-height:normal;font-family:Menlo,'DejaVu Sans Mono',consolas,'Courier New',monospace\"><span style=\"color: #800080; text-decoration-color: #800080\">SECTION </span><span style=\"color: #800080; text-decoration-color: #800080; font-weight: bold\">1</span> <span style=\"color: #000080; text-decoration-color: #000080\">Problem </span><span style=\"color: #000080; text-decoration-color: #000080; font-weight: bold\">4</span>\n",
       "</pre>\n"
      ],
      "text/plain": [
       "\u001b[35mSECTION \u001b[0m\u001b[1;35m1\u001b[0m \u001b[34mProblem \u001b[0m\u001b[1;34m4\u001b[0m\n"
      ]
     },
     "metadata": {},
     "output_type": "display_data"
    },
    {
     "data": {
      "text/html": [
       "<pre style=\"white-space:pre;overflow-x:auto;line-height:normal;font-family:Menlo,'DejaVu Sans Mono',consolas,'Courier New',monospace\"><span style=\"color: #800080; text-decoration-color: #800080\">SECTION </span><span style=\"color: #800080; text-decoration-color: #800080; font-weight: bold\">2</span> <span style=\"color: #000080; text-decoration-color: #000080\">Problem </span><span style=\"color: #000080; text-decoration-color: #000080; font-weight: bold\">5</span>\n",
       "</pre>\n"
      ],
      "text/plain": [
       "\u001b[35mSECTION \u001b[0m\u001b[1;35m2\u001b[0m \u001b[34mProblem \u001b[0m\u001b[1;34m5\u001b[0m\n"
      ]
     },
     "metadata": {},
     "output_type": "display_data"
    },
    {
     "data": {
      "text/html": [
       "<pre style=\"white-space:pre;overflow-x:auto;line-height:normal;font-family:Menlo,'DejaVu Sans Mono',consolas,'Courier New',monospace\"><span style=\"color: #800080; text-decoration-color: #800080\">SECTION </span><span style=\"color: #800080; text-decoration-color: #800080; font-weight: bold\">4</span> <span style=\"color: #000080; text-decoration-color: #000080\">Problem </span><span style=\"color: #000080; text-decoration-color: #000080; font-weight: bold\">10</span>\n",
       "</pre>\n"
      ],
      "text/plain": [
       "\u001b[35mSECTION \u001b[0m\u001b[1;35m4\u001b[0m \u001b[34mProblem \u001b[0m\u001b[1;34m10\u001b[0m\n"
      ]
     },
     "metadata": {},
     "output_type": "display_data"
    },
    {
     "data": {
      "text/html": [
       "<pre style=\"white-space:pre;overflow-x:auto;line-height:normal;font-family:Menlo,'DejaVu Sans Mono',consolas,'Courier New',monospace\"><span style=\"color: #008080; text-decoration-color: #008080; font-weight: bold\">0</span>: <span style=\"color: #008080; text-decoration-color: #008080; font-weight: bold\">5</span> \n",
       "</pre>\n"
      ],
      "text/plain": [
       "\u001b[1;36m0\u001b[0m: \u001b[1;36m5\u001b[0m \n"
      ]
     },
     "metadata": {},
     "output_type": "display_data"
    },
    {
     "data": {
      "text/html": [
       "<pre style=\"white-space:pre;overflow-x:auto;line-height:normal;font-family:Menlo,'DejaVu Sans Mono',consolas,'Courier New',monospace\"><span style=\"color: #008080; text-decoration-color: #008080; font-weight: bold\">1</span>: <span style=\"color: #008080; text-decoration-color: #008080; font-weight: bold\">5</span> \n",
       "</pre>\n"
      ],
      "text/plain": [
       "\u001b[1;36m1\u001b[0m: \u001b[1;36m5\u001b[0m \n"
      ]
     },
     "metadata": {},
     "output_type": "display_data"
    },
    {
     "data": {
      "text/html": [
       "<pre style=\"white-space:pre;overflow-x:auto;line-height:normal;font-family:Menlo,'DejaVu Sans Mono',consolas,'Courier New',monospace\"><span style=\"color: #008080; text-decoration-color: #008080; font-weight: bold\">2</span>: <span style=\"color: #008080; text-decoration-color: #008080; font-weight: bold\">11</span> \n",
       "</pre>\n"
      ],
      "text/plain": [
       "\u001b[1;36m2\u001b[0m: \u001b[1;36m11\u001b[0m \n"
      ]
     },
     "metadata": {},
     "output_type": "display_data"
    },
    {
     "data": {
      "text/html": [
       "<pre style=\"white-space:pre;overflow-x:auto;line-height:normal;font-family:Menlo,'DejaVu Sans Mono',consolas,'Courier New',monospace\"><span style=\"color: #008080; text-decoration-color: #008080; font-weight: bold\">3</span>: <span style=\"color: #008080; text-decoration-color: #008080; font-weight: bold\">10</span> \n",
       "</pre>\n"
      ],
      "text/plain": [
       "\u001b[1;36m3\u001b[0m: \u001b[1;36m10\u001b[0m \n"
      ]
     },
     "metadata": {},
     "output_type": "display_data"
    },
    {
     "data": {
      "text/html": [
       "<pre style=\"white-space:pre;overflow-x:auto;line-height:normal;font-family:Menlo,'DejaVu Sans Mono',consolas,'Courier New',monospace\"><span style=\"color: #008080; text-decoration-color: #008080; font-weight: bold\">4</span>: <span style=\"color: #008080; text-decoration-color: #008080; font-weight: bold\">5</span> \n",
       "</pre>\n"
      ],
      "text/plain": [
       "\u001b[1;36m4\u001b[0m: \u001b[1;36m5\u001b[0m \n"
      ]
     },
     "metadata": {},
     "output_type": "display_data"
    },
    {
     "data": {
      "text/html": [
       "<pre style=\"white-space:pre;overflow-x:auto;line-height:normal;font-family:Menlo,'DejaVu Sans Mono',consolas,'Courier New',monospace\"><span style=\"color: #008080; text-decoration-color: #008080; font-weight: bold\">5</span>: <span style=\"color: #008080; text-decoration-color: #008080; font-weight: bold\">5</span> \n",
       "</pre>\n"
      ],
      "text/plain": [
       "\u001b[1;36m5\u001b[0m: \u001b[1;36m5\u001b[0m \n"
      ]
     },
     "metadata": {},
     "output_type": "display_data"
    },
    {
     "data": {
      "text/html": [
       "<pre style=\"white-space:pre;overflow-x:auto;line-height:normal;font-family:Menlo,'DejaVu Sans Mono',consolas,'Courier New',monospace\"><span style=\"color: #008080; text-decoration-color: #008080; font-weight: bold\">6</span>: <span style=\"color: #008080; text-decoration-color: #008080; font-weight: bold\">5</span> \n",
       "</pre>\n"
      ],
      "text/plain": [
       "\u001b[1;36m6\u001b[0m: \u001b[1;36m5\u001b[0m \n"
      ]
     },
     "metadata": {},
     "output_type": "display_data"
    },
    {
     "data": {
      "text/html": [
       "<pre style=\"white-space:pre;overflow-x:auto;line-height:normal;font-family:Menlo,'DejaVu Sans Mono',consolas,'Courier New',monospace\"><span style=\"color: #008080; text-decoration-color: #008080; font-weight: bold\">7</span>: <span style=\"color: #008080; text-decoration-color: #008080; font-weight: bold\">13</span> No se acepta a la cadena <span style=\"color: #008000; text-decoration-color: #008000\">'aaabbmb'</span> en el pda\n",
       "No se acepta a la cadena <span style=\"color: #008000; text-decoration-color: #008000\">'amb'</span> en el pda\n",
       "No se acepta a la cadena <span style=\"color: #008000; text-decoration-color: #008000\">'bbbaaaaaabbmb'</span> en el pda\n",
       "\n",
       "</pre>\n"
      ],
      "text/plain": [
       "\u001b[1;36m7\u001b[0m: \u001b[1;36m13\u001b[0m No se acepta a la cadena \u001b[32m'aaabbmb'\u001b[0m en el pda\n",
       "No se acepta a la cadena \u001b[32m'amb'\u001b[0m en el pda\n",
       "No se acepta a la cadena \u001b[32m'bbbaaaaaabbmb'\u001b[0m en el pda\n",
       "\n"
      ]
     },
     "metadata": {},
     "output_type": "display_data"
    },
    {
     "data": {
      "text/html": [
       "<pre style=\"white-space:pre;overflow-x:auto;line-height:normal;font-family:Menlo,'DejaVu Sans Mono',consolas,'Courier New',monospace\"><span style=\"color: #008080; text-decoration-color: #008080; font-weight: bold\">8</span>: <span style=\"color: #008080; text-decoration-color: #008080; font-weight: bold\">5</span> \n",
       "</pre>\n"
      ],
      "text/plain": [
       "\u001b[1;36m8\u001b[0m: \u001b[1;36m5\u001b[0m \n"
      ]
     },
     "metadata": {},
     "output_type": "display_data"
    },
    {
     "data": {
      "text/html": [
       "<pre style=\"white-space:pre;overflow-x:auto;line-height:normal;font-family:Menlo,'DejaVu Sans Mono',consolas,'Courier New',monospace\"><span style=\"color: #008080; text-decoration-color: #008080; font-weight: bold\">9</span>: <span style=\"color: #008080; text-decoration-color: #008080; font-weight: bold\">5</span> \n",
       "</pre>\n"
      ],
      "text/plain": [
       "\u001b[1;36m9\u001b[0m: \u001b[1;36m5\u001b[0m \n"
      ]
     },
     "metadata": {},
     "output_type": "display_data"
    },
    {
     "data": {
      "text/html": [
       "<pre style=\"white-space:pre;overflow-x:auto;line-height:normal;font-family:Menlo,'DejaVu Sans Mono',consolas,'Courier New',monospace\"><span style=\"color: #008080; text-decoration-color: #008080; font-weight: bold\">10</span>: <span style=\"color: #008080; text-decoration-color: #008080; font-weight: bold\">5</span> \n",
       "</pre>\n"
      ],
      "text/plain": [
       "\u001b[1;36m10\u001b[0m: \u001b[1;36m5\u001b[0m \n"
      ]
     },
     "metadata": {},
     "output_type": "display_data"
    },
    {
     "data": {
      "text/html": [
       "<pre style=\"white-space:pre;overflow-x:auto;line-height:normal;font-family:Menlo,'DejaVu Sans Mono',consolas,'Courier New',monospace\"><span style=\"color: #008080; text-decoration-color: #008080; font-weight: bold\">11</span>: <span style=\"color: #008080; text-decoration-color: #008080; font-weight: bold\">5</span> \n",
       "</pre>\n"
      ],
      "text/plain": [
       "\u001b[1;36m11\u001b[0m: \u001b[1;36m5\u001b[0m \n"
      ]
     },
     "metadata": {},
     "output_type": "display_data"
    },
    {
     "data": {
      "text/html": [
       "<pre style=\"white-space:pre;overflow-x:auto;line-height:normal;font-family:Menlo,'DejaVu Sans Mono',consolas,'Courier New',monospace\"><span style=\"color: #008080; text-decoration-color: #008080; font-weight: bold\">12</span>: <span style=\"color: #008080; text-decoration-color: #008080; font-weight: bold\">4</span> Cadena <span style=\"color: #008000; text-decoration-color: #008000\">'amambmcaa'</span> contine símbolo <span style=\"color: #008000; text-decoration-color: #008000\">'c'</span> que no está en al alfabeto designado <span style=\"font-weight: bold\">(</span>punto menos<span style=\"font-weight: bold\">)</span>\n",
       "\n",
       "</pre>\n"
      ],
      "text/plain": [
       "\u001b[1;36m12\u001b[0m: \u001b[1;36m4\u001b[0m Cadena \u001b[32m'amambmcaa'\u001b[0m contine símbolo \u001b[32m'c'\u001b[0m que no está en al alfabeto designado \u001b[1m(\u001b[0mpunto menos\u001b[1m)\u001b[0m\n",
       "\n"
      ]
     },
     "metadata": {},
     "output_type": "display_data"
    },
    {
     "data": {
      "text/html": [
       "<pre style=\"white-space:pre;overflow-x:auto;line-height:normal;font-family:Menlo,'DejaVu Sans Mono',consolas,'Courier New',monospace\"><span style=\"color: #008080; text-decoration-color: #008080; font-weight: bold\">13</span>: <span style=\"color: #008080; text-decoration-color: #008080; font-weight: bold\">11</span> No se acepta a la cadena <span style=\"color: #008000; text-decoration-color: #008000\">'mmamaa'</span> en el doble pda\n",
       "Se acepta la cadena <span style=\"color: #008000; text-decoration-color: #008000\">'ambmamaaa'</span> en el doble pda que no se debería \n",
       "\n",
       "</pre>\n"
      ],
      "text/plain": [
       "\u001b[1;36m13\u001b[0m: \u001b[1;36m11\u001b[0m No se acepta a la cadena \u001b[32m'mmamaa'\u001b[0m en el doble pda\n",
       "Se acepta la cadena \u001b[32m'ambmamaaa'\u001b[0m en el doble pda que no se debería \n",
       "\n"
      ]
     },
     "metadata": {},
     "output_type": "display_data"
    },
    {
     "data": {
      "text/html": [
       "<pre style=\"white-space:pre;overflow-x:auto;line-height:normal;font-family:Menlo,'DejaVu Sans Mono',consolas,'Courier New',monospace\">Total resultados: <span style=\"color: #008080; text-decoration-color: #008080; font-weight: bold\">94</span>\n",
       "</pre>\n"
      ],
      "text/plain": [
       "Total resultados: \u001b[1;36m94\u001b[0m\n"
      ]
     },
     "metadata": {},
     "output_type": "display_data"
    },
    {
     "data": {
      "text/html": [
       "<pre style=\"white-space:pre;overflow-x:auto;line-height:normal;font-family:Menlo,'DejaVu Sans Mono',consolas,'Courier New',monospace\"><span style=\"color: #808000; text-decoration-color: #808000\">Sánchez García Rocío/rocio.sanchez020721@gmail.com/</span><span style=\"color: #808000; text-decoration-color: #808000; font-weight: bold\">42</span><span style=\"color: #808000; text-decoration-color: #808000\"> </span><span style=\"color: #808000; text-decoration-color: #808000; font-weight: bold\">(</span><span style=\"color: #808000; text-decoration-color: #808000; font-weight: bold\">2</span><span style=\"color: #808000; text-decoration-color: #808000; font-weight: bold\">)</span><span style=\"color: #808000; text-decoration-color: #808000\"> </span>\n",
       "</pre>\n"
      ],
      "text/plain": [
       "\u001b[33mSánchez García Rocío/rocio.sanchez020721@gmail.com/\u001b[0m\u001b[1;33m42\u001b[0m\u001b[33m \u001b[0m\u001b[1;33m(\u001b[0m\u001b[1;33m2\u001b[0m\u001b[1;33m)\u001b[0m\u001b[33m \u001b[0m\n"
      ]
     },
     "metadata": {},
     "output_type": "display_data"
    },
    {
     "data": {
      "text/html": [
       "<pre style=\"white-space:pre;overflow-x:auto;line-height:normal;font-family:Menlo,'DejaVu Sans Mono',consolas,'Courier New',monospace\"><span style=\"color: #800080; text-decoration-color: #800080\">SECTION </span><span style=\"color: #800080; text-decoration-color: #800080; font-weight: bold\">1</span> <span style=\"color: #000080; text-decoration-color: #000080\">Problem </span><span style=\"color: #000080; text-decoration-color: #000080; font-weight: bold\">3</span>\n",
       "</pre>\n"
      ],
      "text/plain": [
       "\u001b[35mSECTION \u001b[0m\u001b[1;35m1\u001b[0m \u001b[34mProblem \u001b[0m\u001b[1;34m3\u001b[0m\n"
      ]
     },
     "metadata": {},
     "output_type": "display_data"
    },
    {
     "data": {
      "text/html": [
       "<pre style=\"white-space:pre;overflow-x:auto;line-height:normal;font-family:Menlo,'DejaVu Sans Mono',consolas,'Courier New',monospace\"><span style=\"color: #800080; text-decoration-color: #800080\">SECTION </span><span style=\"color: #800080; text-decoration-color: #800080; font-weight: bold\">2</span> <span style=\"color: #000080; text-decoration-color: #000080\">Problem </span><span style=\"color: #000080; text-decoration-color: #000080; font-weight: bold\">6</span>\n",
       "</pre>\n"
      ],
      "text/plain": [
       "\u001b[35mSECTION \u001b[0m\u001b[1;35m2\u001b[0m \u001b[34mProblem \u001b[0m\u001b[1;34m6\u001b[0m\n"
      ]
     },
     "metadata": {},
     "output_type": "display_data"
    },
    {
     "data": {
      "text/html": [
       "<pre style=\"white-space:pre;overflow-x:auto;line-height:normal;font-family:Menlo,'DejaVu Sans Mono',consolas,'Courier New',monospace\"><span style=\"color: #800080; text-decoration-color: #800080\">SECTION </span><span style=\"color: #800080; text-decoration-color: #800080; font-weight: bold\">4</span> <span style=\"color: #000080; text-decoration-color: #000080\">Problem </span><span style=\"color: #000080; text-decoration-color: #000080; font-weight: bold\">11</span>\n",
       "</pre>\n"
      ],
      "text/plain": [
       "\u001b[35mSECTION \u001b[0m\u001b[1;35m4\u001b[0m \u001b[34mProblem \u001b[0m\u001b[1;34m11\u001b[0m\n"
      ]
     },
     "metadata": {},
     "output_type": "display_data"
    },
    {
     "data": {
      "text/html": [
       "<pre style=\"white-space:pre;overflow-x:auto;line-height:normal;font-family:Menlo,'DejaVu Sans Mono',consolas,'Courier New',monospace\"><span style=\"color: #008080; text-decoration-color: #008080; font-weight: bold\">0</span>: <span style=\"color: #008080; text-decoration-color: #008080; font-weight: bold\">5</span> \n",
       "</pre>\n"
      ],
      "text/plain": [
       "\u001b[1;36m0\u001b[0m: \u001b[1;36m5\u001b[0m \n"
      ]
     },
     "metadata": {},
     "output_type": "display_data"
    },
    {
     "data": {
      "text/html": [
       "<pre style=\"white-space:pre;overflow-x:auto;line-height:normal;font-family:Menlo,'DejaVu Sans Mono',consolas,'Courier New',monospace\"><span style=\"color: #008080; text-decoration-color: #008080; font-weight: bold\">1</span>: <span style=\"color: #008080; text-decoration-color: #008080; font-weight: bold\">5</span> \n",
       "</pre>\n"
      ],
      "text/plain": [
       "\u001b[1;36m1\u001b[0m: \u001b[1;36m5\u001b[0m \n"
      ]
     },
     "metadata": {},
     "output_type": "display_data"
    },
    {
     "data": {
      "text/html": [
       "<pre style=\"white-space:pre;overflow-x:auto;line-height:normal;font-family:Menlo,'DejaVu Sans Mono',consolas,'Courier New',monospace\"><span style=\"color: #008080; text-decoration-color: #008080; font-weight: bold\">2</span>: <span style=\"color: #008080; text-decoration-color: #008080; font-weight: bold\">11</span> \n",
       "</pre>\n"
      ],
      "text/plain": [
       "\u001b[1;36m2\u001b[0m: \u001b[1;36m11\u001b[0m \n"
      ]
     },
     "metadata": {},
     "output_type": "display_data"
    },
    {
     "data": {
      "text/html": [
       "<pre style=\"white-space:pre;overflow-x:auto;line-height:normal;font-family:Menlo,'DejaVu Sans Mono',consolas,'Courier New',monospace\"><span style=\"color: #008080; text-decoration-color: #008080; font-weight: bold\">3</span>: <span style=\"color: #008080; text-decoration-color: #008080; font-weight: bold\">10</span> \n",
       "</pre>\n"
      ],
      "text/plain": [
       "\u001b[1;36m3\u001b[0m: \u001b[1;36m10\u001b[0m \n"
      ]
     },
     "metadata": {},
     "output_type": "display_data"
    },
    {
     "data": {
      "text/html": [
       "<pre style=\"white-space:pre;overflow-x:auto;line-height:normal;font-family:Menlo,'DejaVu Sans Mono',consolas,'Courier New',monospace\"><span style=\"color: #008080; text-decoration-color: #008080; font-weight: bold\">4</span>: <span style=\"color: #008080; text-decoration-color: #008080; font-weight: bold\">5</span> \n",
       "</pre>\n"
      ],
      "text/plain": [
       "\u001b[1;36m4\u001b[0m: \u001b[1;36m5\u001b[0m \n"
      ]
     },
     "metadata": {},
     "output_type": "display_data"
    },
    {
     "data": {
      "text/html": [
       "<pre style=\"white-space:pre;overflow-x:auto;line-height:normal;font-family:Menlo,'DejaVu Sans Mono',consolas,'Courier New',monospace\"><span style=\"color: #008080; text-decoration-color: #008080; font-weight: bold\">5</span>: <span style=\"color: #008080; text-decoration-color: #008080; font-weight: bold\">5</span> \n",
       "</pre>\n"
      ],
      "text/plain": [
       "\u001b[1;36m5\u001b[0m: \u001b[1;36m5\u001b[0m \n"
      ]
     },
     "metadata": {},
     "output_type": "display_data"
    },
    {
     "data": {
      "text/html": [
       "<pre style=\"white-space:pre;overflow-x:auto;line-height:normal;font-family:Menlo,'DejaVu Sans Mono',consolas,'Courier New',monospace\"><span style=\"color: #008080; text-decoration-color: #008080; font-weight: bold\">6</span>: <span style=\"color: #008080; text-decoration-color: #008080; font-weight: bold\">5</span> \n",
       "</pre>\n"
      ],
      "text/plain": [
       "\u001b[1;36m6\u001b[0m: \u001b[1;36m5\u001b[0m \n"
      ]
     },
     "metadata": {},
     "output_type": "display_data"
    },
    {
     "data": {
      "text/html": [
       "<pre style=\"white-space:pre;overflow-x:auto;line-height:normal;font-family:Menlo,'DejaVu Sans Mono',consolas,'Courier New',monospace\"><span style=\"color: #008080; text-decoration-color: #008080; font-weight: bold\">7</span>: <span style=\"color: #008080; text-decoration-color: #008080; font-weight: bold\">16</span> \n",
       "</pre>\n"
      ],
      "text/plain": [
       "\u001b[1;36m7\u001b[0m: \u001b[1;36m16\u001b[0m \n"
      ]
     },
     "metadata": {},
     "output_type": "display_data"
    },
    {
     "data": {
      "text/html": [
       "<pre style=\"white-space:pre;overflow-x:auto;line-height:normal;font-family:Menlo,'DejaVu Sans Mono',consolas,'Courier New',monospace\"><span style=\"color: #008080; text-decoration-color: #008080; font-weight: bold\">8</span>: <span style=\"color: #008080; text-decoration-color: #008080; font-weight: bold\">5</span> \n",
       "</pre>\n"
      ],
      "text/plain": [
       "\u001b[1;36m8\u001b[0m: \u001b[1;36m5\u001b[0m \n"
      ]
     },
     "metadata": {},
     "output_type": "display_data"
    },
    {
     "data": {
      "text/html": [
       "<pre style=\"white-space:pre;overflow-x:auto;line-height:normal;font-family:Menlo,'DejaVu Sans Mono',consolas,'Courier New',monospace\"><span style=\"color: #008080; text-decoration-color: #008080; font-weight: bold\">9</span>: <span style=\"color: #008080; text-decoration-color: #008080; font-weight: bold\">5</span> \n",
       "</pre>\n"
      ],
      "text/plain": [
       "\u001b[1;36m9\u001b[0m: \u001b[1;36m5\u001b[0m \n"
      ]
     },
     "metadata": {},
     "output_type": "display_data"
    },
    {
     "data": {
      "text/html": [
       "<pre style=\"white-space:pre;overflow-x:auto;line-height:normal;font-family:Menlo,'DejaVu Sans Mono',consolas,'Courier New',monospace\"><span style=\"color: #008080; text-decoration-color: #008080; font-weight: bold\">10</span>: <span style=\"color: #008080; text-decoration-color: #008080; font-weight: bold\">5</span> \n",
       "</pre>\n"
      ],
      "text/plain": [
       "\u001b[1;36m10\u001b[0m: \u001b[1;36m5\u001b[0m \n"
      ]
     },
     "metadata": {},
     "output_type": "display_data"
    },
    {
     "data": {
      "text/html": [
       "<pre style=\"white-space:pre;overflow-x:auto;line-height:normal;font-family:Menlo,'DejaVu Sans Mono',consolas,'Courier New',monospace\"><span style=\"color: #008080; text-decoration-color: #008080; font-weight: bold\">11</span>: <span style=\"color: #008080; text-decoration-color: #008080; font-weight: bold\">5</span> \n",
       "</pre>\n"
      ],
      "text/plain": [
       "\u001b[1;36m11\u001b[0m: \u001b[1;36m5\u001b[0m \n"
      ]
     },
     "metadata": {},
     "output_type": "display_data"
    },
    {
     "data": {
      "text/html": [
       "<pre style=\"white-space:pre;overflow-x:auto;line-height:normal;font-family:Menlo,'DejaVu Sans Mono',consolas,'Courier New',monospace\"><span style=\"color: #008080; text-decoration-color: #008080; font-weight: bold\">12</span>: <span style=\"color: #008080; text-decoration-color: #008080; font-weight: bold\">5</span> \n",
       "</pre>\n"
      ],
      "text/plain": [
       "\u001b[1;36m12\u001b[0m: \u001b[1;36m5\u001b[0m \n"
      ]
     },
     "metadata": {},
     "output_type": "display_data"
    },
    {
     "data": {
      "text/html": [
       "<pre style=\"white-space:pre;overflow-x:auto;line-height:normal;font-family:Menlo,'DejaVu Sans Mono',consolas,'Courier New',monospace\"><span style=\"color: #008080; text-decoration-color: #008080; font-weight: bold\">13</span>: <span style=\"color: #008080; text-decoration-color: #008080; font-weight: bold\">13</span> \n",
       "</pre>\n"
      ],
      "text/plain": [
       "\u001b[1;36m13\u001b[0m: \u001b[1;36m13\u001b[0m \n"
      ]
     },
     "metadata": {},
     "output_type": "display_data"
    },
    {
     "data": {
      "text/html": [
       "<pre style=\"white-space:pre;overflow-x:auto;line-height:normal;font-family:Menlo,'DejaVu Sans Mono',consolas,'Courier New',monospace\">Total resultados: <span style=\"color: #008080; text-decoration-color: #008080; font-weight: bold\">100</span>\n",
       "</pre>\n"
      ],
      "text/plain": [
       "Total resultados: \u001b[1;36m100\u001b[0m\n"
      ]
     },
     "metadata": {},
     "output_type": "display_data"
    }
   ],
   "source": [
    "responses=Responses()\n",
    "doc2name={}\n",
    "FB={}\n",
    "POINTS={}\n",
    "\n",
    "for num,(id,row) in list(enumerate(id2rows.items()))[40:]:\n",
    "  responses.set_problem(assign[id][0])\n",
    "  problem=assign[id][0]\n",
    "  # recover name\n",
    "  name=row[3].strip()\n",
    "  POINTS[name]=[5,5,11,10,5,\n",
    "                5,5,16,\n",
    "                5,5,5,\n",
    "                5,5,13]\n",
    "  FB[name]=[\"\" for _ in POINTS[name]]\n",
    "  print(f\"[yellow]{name}/{row[1]}/{num+1} ({problem}) [/yellow]\")\n",
    "\n",
    "  ### Seccion uno\n",
    "  print(\"[magenta]SECTION 1[/magenta]\",f\"[blue]Problem {problem+1}[/]\")\n",
    "  accept=[clean_accept_reject(a) for a in row[5].split() if a not in ['•']]\n",
    "  \n",
    "  for a in accept:\n",
    "      for a_ in a:\n",
    "          if '}' in a:\n",
    "            FB[name][0]+=f\"Cadena '{a}' entre corchetes no hace sentido (0.5 punto menos)\\n\"\n",
    "            POINTS[name][0]=max(0,POINTS[name][0]-1)\n",
    "          elif not a_ in solutions[0][problem]['alpabeth']:\n",
    "            FB[name][0]+=f\"Cadena '{a}' contine símbolo '{a_}' que no está en al alfabeto designado (punto menos)\\n\"\n",
    "            POINTS[name][0]=max(0,POINTS[name][0]-1)\n",
    "            break\n",
    "      a_=a\n",
    "      \n",
    "      if problem==0:\n",
    "        bits=a_.split('1')\n",
    "        if len(bits)!=2:\n",
    "            FB[name][0]+=f\"Cadena '{a}' no debe ser aceptada\\n\"\n",
    "            POINTS[name][0]=max(0,POINTS[name][0]-1)\n",
    "            break\n",
    "\n",
    "        if not (len(bits[0])>len(bits[1]) or (len(bits[0])==3 and len(bits[1])==0)):\n",
    "            FB[name][0]+=f\"Cadena '{a}' no debe ser aceptada\\n\"\n",
    "            POINTS[name][0]=max(0,POINTS[name][0]-1)\n",
    "      if problem==1:\n",
    "        bits=a_.split('0')\n",
    "        if len(bits)!=2:\n",
    "            FB[name][0]+=f\"Cadena '{a}' no debe ser aceptada\\n\"\n",
    "            POINTS[name][0]=max(0,POINTS[name][0]-1)\n",
    "            break\n",
    "\n",
    "        if not (len(bits[0])<len(bits[1]) or (len(bits[0])==3 and len(bits[1])==0)):\n",
    "            FB[name][0]+=f\"Cadena '{a}' no debe ser aceptada\\n\"\n",
    "            POINTS[name][0]=max(0,POINTS[name][0]-1)\n",
    "      if problem==2:\n",
    "        bits=a_.split('1')\n",
    "        if len(bits)!=2:\n",
    "            FB[name][0]+=f\"Cadena '{a}' no debe ser aceptada\\n\"\n",
    "            POINTS[name][0]=max(0,POINTS[name][0]-1)\n",
    "            break\n",
    "\n",
    "        if not ((len(bits[0])>len(bits[1])) or (len(bits[0])==0 and len(bits[1])==3)):\n",
    "            FB[name][0]+=f\"Cadena '{a}' no debe ser aceptada\\n\"\n",
    "            POINTS[name][0]=max(0,POINTS[name][0]-1)\n",
    "      if problem==3:\n",
    "        bits=a_.split('0')\n",
    "        if len(bits)!=2:\n",
    "            FB[name][0]+=f\"Cadena '{a}' no debe ser aceptada\\n\"\n",
    "            POINTS[name][0]=max(0,POINTS[name][0]-1)\n",
    "            break\n",
    "\n",
    "        if not (len(bits[0])<len(bits[1]) or (len(bits[0])==0 and len(bits[1])==3)):\n",
    "            FB[name][0]+=f\"Cadena '{a}' no debe ser aceptada\\n\"\n",
    "            POINTS[name][0]=max(0,POINTS[name][0]-1)\n",
    "        \n",
    "            \n",
    "  reject=[clean_accept_reject(r) for r in row[6].split() if r not in ['•{}']]\n",
    "\n",
    "  for a in reject:\n",
    "      for a_ in a:\n",
    "          if '}' in a:\n",
    "            FB[name][1]+=f\"Cadena '{a}' entre corchetes no hace sentido (0.5 punto menos)\\n\"\n",
    "            POINTS[name][1]=max(0,POINTS[name][1]-1)\n",
    "          elif not a_ in solutions[0][problem]['alpabeth']:\n",
    "            FB[name][1]+=f\"Cadena '{a}' contine símbolo '{a_}' que no está en al alfabeto designado (punto menos)\\n\"\n",
    "            POINTS[name][1]=max(0,POINTS[name][1]-1)\n",
    "            break\n",
    "      a_=a\n",
    "      \n",
    "      if problem==0:\n",
    "        bits=a_.split('1')\n",
    "        if len(bits)!=2:\n",
    "            break\n",
    "\n",
    "        if (len(bits[0])>len(bits[1]) or (len(bits[0])==3 and len(bits[1])==0)):\n",
    "            FB[name][1]+=f\"Cadena '{a}' debe ser aceptada\\n\"\n",
    "            POINTS[name][1]=max(0,POINTS[name][1]-1)\n",
    "      if problem==1:\n",
    "        bits=a_.split('0')\n",
    "        if len(bits)!=2:\n",
    "             break\n",
    "\n",
    "        if (len(bits[0])<len(bits[1]) or (len(bits[0])==3 and len(bits[1])==0)):\n",
    "            FB[name][1]+=f\"Cadena '{a}' debe ser aceptada\\n\"\n",
    "            POINTS[name][1]=max(0,POINTS[name][1]-1)\n",
    "      if problem==2:\n",
    "        bits=a_.split('1')\n",
    "        if len(bits)!=2:\n",
    "            break\n",
    "\n",
    "        if ((len(bits[0])>len(bits[1])) or (len(bits[0])==0 and len(bits[1])==3)):\n",
    "            FB[name][1]+=f\"Cadena '{a}' debe ser aceptada\\n\"\n",
    "            POINTS[name][1]=max(0,POINTS[name][1]-1)\n",
    "      if problem==3:\n",
    "        bits=a_.split('0')\n",
    "        if len(bits)!=2:\n",
    "            break\n",
    "\n",
    "        if (len(bits[0])<len(bits[1]) or (len(bits[0])==0 and len(bits[1])==3)):\n",
    "            FB[name][1]+=f\"Cadena '{a}' debe ser aceptada\\n\"\n",
    "            POINTS[name][1]=max(0,POINTS[name][1]-1)\n",
    "            \n",
    "            \n",
    "      if len(row[7].strip())==0:\n",
    "            FB[name][2]+=f\"No se definió parte de la cadena dependiente de n\\n\"\n",
    "            POINTS[name][2]=max(0,POINTS[name][2]-1)\n",
    "        \n",
    "    \n",
    "            FB[name][3]+=f\"No se particionó la cadena\\n\"\n",
    "            POINTS[name][3]=max(0,POINTS[name][3]-1)\n",
    "            \n",
    "            FB[name][4]+=f\"No se aplicó el lema del bombeo\\n\"\n",
    "            POINTS[name][4]=max(0,POINTS[name][4]-1)\n",
    "            \n",
    "      if len(row[9].strip())==0:\n",
    "            FB[name][6]+=f\"No se argumentó la gramática\\n\"\n",
    "            POINTS[name][6]=max(0,POINTS[name][6]-1)\n",
    "  ps=[]\n",
    "  g_=re.sub(r'\\{.*\\}',\"\",row[8])\n",
    "  for r in re.split('\\n+', g_):\n",
    "        r=r.replace('donde P:','')\n",
    "        r=r.replace('Donde P:','')\n",
    "        r=r.replace('P:','')\n",
    "        r=r.replace('(, P,S)','')\n",
    "        r=r.replace('G=','')\n",
    "        \n",
    "        if not len(r)>0:\n",
    "            continue\n",
    "        h,bs=r.strip().split('->',1)\n",
    "        bs=bs.split('|')\n",
    "        for b in bs:\n",
    "            ps.append(f\"{h.strip()} -> {b.strip()}\")\n",
    "  g=\"; \".join(ps)\n",
    "\n",
    "  grammar_1=CFG(g)\n",
    "    \n",
    "\n",
    "  for a in solutions[0][problem]['accept']:\n",
    "    if not grammar_1.accepts(a):\n",
    "        FB[name][3]+=f\"No se genera la cadena '{a}' en la gramática\\n\"\n",
    "        POINTS[name][3]=max(0,POINTS[name][3]-1)\n",
    "\n",
    "  for a in solutions[0][problem]['reject']:\n",
    "    if grammar_1.accepts(a):\n",
    "        FB[name][3]+=f\"Se genera la cadena '{a}' en la gramática que no se debería \\n\"\n",
    "        POINTS[name][3]=max(0,POINTS[name][3]-1)\n",
    "   \n",
    "  problem=assign[id][1] \n",
    "  print(\"[magenta]SECTION 2[/magenta]\",f\"[blue]Problem {problem+1}[/]\")\n",
    "  \n",
    "  accept=[clean_accept_reject(a) for a in row[11].split() if a not in ['•']]\n",
    "  for a in accept:\n",
    "      for a_ in a:\n",
    "          if '}' in a:\n",
    "            FB[name][5]+=f\"Cadena '{a}' entre corchetes no hace sentido (0.5 punto menos)\\n\"\n",
    "            POINTS[name][5]=max(0,POINTS[name][5]-1)\n",
    "          elif not a_ in solutions[1][problem]['alpabeth']:\n",
    "            FB[name][5]+=f\"Cadena '{a}' contine símbolo '{a_}' que no está en al alfabeto designado (punto menos)\\n\"\n",
    "            POINTS[name][5]=max(0,POINTS[name][5]-1)\n",
    "            break\n",
    "      a_=a\n",
    "      \n",
    "      if problem==4:\n",
    "        bits=a_.split('m')\n",
    "        if len(bits)!=2:\n",
    "            FB[name][5]+=f\"Cadena '{a}' no debe ser aceptada\\n\"\n",
    "            POINTS[name][5]=max(0,POINTS[name][5]-1)\n",
    "            break\n",
    "\n",
    "      if problem==5:\n",
    "        bits=a_.split('m')\n",
    "        if len(bits)!=2:\n",
    "            FB[name][5]+=f\"Cadena '{a}' no debe ser aceptada\\n\"\n",
    "            POINTS[name][5]=max(0,POINTS[name][5]-1)\n",
    "            break\n",
    "\n",
    "  \n",
    "  reject=[clean_accept_reject(r) for r in row[12].split() if r not in ['•{}']]\n",
    "\n",
    "  for a in reject:\n",
    "      for a_ in a:\n",
    "          if '}' in a:\n",
    "            FB[name][6]+=f\"Cadena '{a}' entre corchetes no hace sentido (0.5 punto menos)\\n\"\n",
    "            POINTS[name][6]=max(0,POINTS[name][6]-1)\n",
    "          elif not a_ in solutions[1][problem]['alpabeth']:\n",
    "            FB[name][6]+=f\"Cadena '{a}' contine símbolo '{a_}' que no está en al alfabeto designado (punto menos)\\n\"\n",
    "            POINTS[name][6]=max(0,POINTS[name][6]-1)\n",
    "            break\n",
    "      a_=a\n",
    "      \n",
    "      if problem==4:\n",
    "        bits=a_.split('1')\n",
    "        if len(bits)!=2:\n",
    "            break\n",
    "\n",
    "      if problem==5:\n",
    "        bits=a_.split('0')\n",
    "        if len(bits)!=2:\n",
    "             break  \n",
    "\n",
    "  ps=[]\n",
    "  ap=row[13]\n",
    "  ap=ap.replace(\"&#13;\",\"\")\n",
    "  \n",
    "  pda=create_pda(ap)\n",
    "\n",
    "  for a in solutions[1][problem]['accept']:\n",
    "    if not pda.accepts(a):\n",
    "        FB[name][7]+=f\"No se acepta a la cadena '{a}' en el pda\\n\"\n",
    "        POINTS[name][7]=max(0,POINTS[name][7]-1)\n",
    "\n",
    "  for a in solutions[1][problem]['reject']:\n",
    "    if pda.accepts(a):\n",
    "        FB[name][7]+=f\"Se acepta la cadena '{a}' en el pda que no se debería \\n\"\n",
    "        POINTS[name][7]=max(0,POINTS[name][7]-1)\n",
    "  \n",
    "  problem=assign[id][3]\n",
    "  print(\"[magenta]SECTION 4[/magenta]\",f\"[blue]Problem {problem+1}[/]\")\n",
    "  \n",
    "  accept=[clean_accept_reject(a) for a in row[19].split() if a not in ['•']]\n",
    "  for a in accept:\n",
    "      for a_ in a:\n",
    "          if '}' in a:\n",
    "            FB[name][11]+=f\"Cadena '{a}' entre corchetes no hace sentido (0.5 punto menos)\\n\"\n",
    "            POINTS[name][11]=max(0,POINTS[name][11]-1)\n",
    "          elif not a_ in solutions[2][problem]['alpabeth']:\n",
    "            FB[name][11]+=f\"Cadena '{a}' contine símbolo '{a_}' que no está en al alfabeto designado (punto menos)\\n\"\n",
    "            POINTS[name][11]=max(0,POINTS[name][11]-1)\n",
    "            break\n",
    "      a_=a\n",
    "      \n",
    "      if problem==4:\n",
    "        bits=a_.split('m')\n",
    "        if len(bits)!=4:\n",
    "            FB[name][11]+=f\"Cadena '{a}' no debe ser aceptada\\n\"\n",
    "            POINTS[name][11]=max(0,POINTS[name][11]-1)\n",
    "            break\n",
    "\n",
    "        if not (len(bits[0])>len(bits[1]) or (len(bits[0])==3 and len(bits[1])==0)):\n",
    "            FB[name][11]+=f\"Cadena '{a}' no debe ser aceptada\\n\"\n",
    "            POINTS[name][11]=max(0,POINTS[name][11]-1)\n",
    "      if problem==5:\n",
    "        bits=a_.split('m')\n",
    "        if len(bits)!=4:\n",
    "            FB[name][11]+=f\"Cadena '{a}' no debe ser aceptada\\n\"\n",
    "            POINTS[name][11]=max(0,POINTS[name][11]-1)\n",
    "            break\n",
    "\n",
    "        if not (len(bits[0])<len(bits[1]) or (len(bits[0])==3 and len(bits[1])==0)):\n",
    "            FB[name][11]+=f\"Cadena '{a}' no debe ser aceptada\\n\"\n",
    "            POINTS[name][11]=max(0,POINTS[name][11]-1)\n",
    "  \n",
    "  reject=[clean_accept_reject(r) for r in row[20].split() if r not in ['•{}']]\n",
    "\n",
    "  for a in reject:\n",
    "      for a_ in a:\n",
    "          if '}' in a:\n",
    "            FB[name][12]+=f\"Cadena '{a}' entre corchetes no hace sentido (0.5 punto menos)\\n\"\n",
    "            POINTS[name][12]=max(0,POINTS[name][12]-1)\n",
    "          elif not a_ in solutions[2][problem]['alpabeth']:\n",
    "            FB[name][12]+=f\"Cadena '{a}' contine símbolo '{a_}' que no está en al alfabeto designado (punto menos)\\n\"\n",
    "            POINTS[name][12]=max(0,POINTS[name][12]-1)\n",
    "            break\n",
    "      a_=a\n",
    "      \n",
    "\n",
    "  ps=[]\n",
    "  ap=row[21].strip()\n",
    "  ap=ap.replace(\"&#13;\",\"\")\n",
    "  \n",
    "  if len(ap)>0:\n",
    "      pda=create_pda2(ap)\n",
    "  else:\n",
    "      pda=PDA2()\n",
    "\n",
    "  for a in solutions[2][problem]['accept']:\n",
    "    if not pda.accepts(a):\n",
    "        FB[name][13]+=f\"No se acepta a la cadena '{a}' en el doble pda\\n\"\n",
    "        POINTS[name][13]=max(0,POINTS[name][13]-1)\n",
    "\n",
    "  for a in solutions[2][problem]['reject']:\n",
    "    if pda.accepts(a):\n",
    "        FB[name][13]+=f\"Se acepta la cadena '{a}' en el doble pda que no se debería \\n\"\n",
    "        POINTS[name][13]=max(0,POINTS[name][13]-1)\n",
    "\n",
    "\n",
    "  ### PRINTS RESULTS\n",
    "  total=0\n",
    "  for i,(fb,p) in enumerate(zip(FB[name],POINTS[name])):\n",
    "        print(f\"{i}: {p}\",fb)\n",
    "        total+=p\n",
    "  print(\"Total resultados:\", total)"
   ]
  },
  {
   "cell_type": "code",
   "execution_count": null,
   "metadata": {},
   "outputs": [],
   "source": []
  },
  {
   "cell_type": "code",
   "execution_count": null,
   "metadata": {},
   "outputs": [],
   "source": []
  },
  {
   "cell_type": "code",
   "execution_count": null,
   "metadata": {},
   "outputs": [],
   "source": []
  }
 ],
 "metadata": {
  "colab": {
   "provenance": []
  },
  "kernelspec": {
   "display_name": "Python 3 (ipykernel)",
   "language": "python",
   "name": "python3"
  },
  "language_info": {
   "codemirror_mode": {
    "name": "ipython",
    "version": 3
   },
   "file_extension": ".py",
   "mimetype": "text/x-python",
   "name": "python",
   "nbconvert_exporter": "python",
   "pygments_lexer": "ipython3",
   "version": "3.8.10"
  }
 },
 "nbformat": 4,
 "nbformat_minor": 4
}
