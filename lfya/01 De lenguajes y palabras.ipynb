{
 "cells": [
  {
   "cell_type": "markdown",
   "metadata": {},
   "source": [
    "[![Open In Colab](https://colab.research.google.com/assets/colab-badge.svg)](https://colab.research.google.com/github/ivanvladimir/maquinas_notebooks/blob/main/lfya/01%20De%20lenguajes%20y%20palabras.ipynb)"
   ]
  },
  {
   "cell_type": "markdown",
   "metadata": {},
   "source": [
    "## 00 Instalando la librería \n",
    "\n",
    "Se instala la librería [maquinas](https://pypi.org/project/maquinas/)\n",
    "\n",
    "**Requerido en colab**, _opcional en ambiente local a través de jupyter_"
   ]
  },
  {
   "cell_type": "code",
<<<<<<< HEAD
   "execution_count": 1,
   "metadata": {},
   "outputs": [
    {
     "name": "stdout",
     "output_type": "stream",
     "text": [
      "\u001b[33mCache entry deserialization failed, entry ignored\u001b[0m\n",
      "Collecting maquinas\n",
      "  Downloading https://files.pythonhosted.org/packages/41/35/19c3c768cd4c64368dbed8be42311905e3fd62c76ad470578b79cc3de677/maquinas-0.1.5.19.tar.gz (43kB)\n",
      "\u001b[K    100% |████████████████████████████████| 51kB 1.1MB/s ta 0:00:01\n",
      "\u001b[?25hCollecting graphviz (from maquinas)\n",
      "  Downloading https://files.pythonhosted.org/packages/9d/fb/886e8ec7862989afc0c35d15813b6c665fe134cc6027cdde2fa300abe9a2/graphviz-0.19.1-py3-none-any.whl (46kB)\n",
      "\u001b[K    100% |████████████████████████████████| 51kB 3.1MB/s ta 0:00:01\n",
      "\u001b[?25hCollecting ipywidgets (from maquinas)\n",
      "  Downloading https://files.pythonhosted.org/packages/86/7d/06b48ec5fd605775c7e85b3ea397d8f0294f66d570bcee59496eb5195fc5/ipywidgets-7.7.0-py2.py3-none-any.whl (123kB)\n",
      "\u001b[K    100% |████████████████████████████████| 133kB 2.4MB/s ta 0:00:01\n",
      "\u001b[?25hCollecting IPython (from maquinas)\n",
      "  Downloading https://files.pythonhosted.org/packages/53/09/958a4802489d28b2484114ee6414c7502ef57de6f2dbc9095b718640060c/ipython-7.16.3-py3-none-any.whl (783kB)\n",
      "\u001b[K    100% |████████████████████████████████| 788kB 1.4MB/s eta 0:00:01\n",
      "\u001b[?25hRequirement already up-to-date: ordered_set in /home/ivanvladimir/projects/maquinas/env/lib/python3.6/site-packages (from maquinas)\n",
      "\u001b[33mCache entry deserialization failed, entry ignored\u001b[0m\n",
      "Collecting Pillow (from maquinas)\n",
      "  Downloading https://files.pythonhosted.org/packages/7d/2a/2fc11b54e2742db06297f7fa7f420a0e3069fdcf0e4b57dfec33f0b08622/Pillow-8.4.0.tar.gz (49.4MB)\n",
      "\u001b[K    100% |████████████████████████████████| 49.4MB 34kB/s  eta 0:00:01\n",
      "\u001b[?25hRequirement already up-to-date: TatSu in /home/ivanvladimir/projects/maquinas/env/lib/python3.6/site-packages (from maquinas)\n",
      "Collecting jupyterlab-widgets>=1.0.0; python_version >= \"3.6\" (from ipywidgets->maquinas)\n",
      "  Downloading https://files.pythonhosted.org/packages/5f/2c/7331aa9c5041e8b107d712d853268e137f55014b858407816b5487289d11/jupyterlab_widgets-1.1.0-py3-none-any.whl (245kB)\n",
      "\u001b[K    100% |████████████████████████████████| 245kB 3.5MB/s eta 0:00:01\n",
      "\u001b[?25hCollecting widgetsnbextension~=3.6.0 (from ipywidgets->maquinas)\n",
      "  Downloading https://files.pythonhosted.org/packages/4e/69/273f584c28805939c6cb45717638cb8edbd78147f02c564b8c7763e1872e/widgetsnbextension-3.6.0-py2.py3-none-any.whl (1.6MB)\n",
      "\u001b[K    100% |████████████████████████████████| 1.6MB 746kB/s ta 0:00:011\n",
      "\u001b[?25hCollecting nbformat>=4.2.0 (from ipywidgets->maquinas)\n",
      "  Downloading https://files.pythonhosted.org/packages/e7/c7/dd50978c637a7af8234909277c4e7ec1b71310c13fb3135f3c8f5b6e045f/nbformat-5.1.3-py3-none-any.whl (178kB)\n",
      "\u001b[K    100% |████████████████████████████████| 184kB 5.7MB/s eta 0:00:01\n",
      "\u001b[?25hRequirement already up-to-date: traitlets>=4.3.1 in /home/ivanvladimir/projects/maquinas/env/lib/python3.6/site-packages (from ipywidgets->maquinas)\n",
      "Requirement already up-to-date: ipython-genutils~=0.2.0 in /home/ivanvladimir/projects/maquinas/env/lib/python3.6/site-packages (from ipywidgets->maquinas)\n",
      "Collecting ipykernel>=4.5.1 (from ipywidgets->maquinas)\n",
      "  Downloading https://files.pythonhosted.org/packages/e9/ad/9101e0ab5e84dd117462bb3a1379d31728a849b6886458452e3d97dc6bba/ipykernel-5.5.6-py3-none-any.whl (121kB)\n",
      "\u001b[K    100% |████████████████████████████████| 122kB 7.1MB/s eta 0:00:01\n",
      "\u001b[?25hCollecting jedi<=0.17.2,>=0.10 (from IPython->maquinas)\n",
      "  Using cached https://files.pythonhosted.org/packages/c3/d4/36136b18daae06ad798966735f6c3fb96869c1be9f8245d2a8f556e40c36/jedi-0.17.2-py2.py3-none-any.whl\n",
      "Collecting setuptools>=18.5 (from IPython->maquinas)\n",
      "  Downloading https://files.pythonhosted.org/packages/b0/3a/88b210db68e56854d0bcf4b38e165e03be377e13907746f825790f3df5bf/setuptools-59.6.0-py3-none-any.whl (952kB)\n",
      "\u001b[K    100% |████████████████████████████████| 962kB 1.3MB/s eta 0:00:01\n",
      "\u001b[?25hCollecting decorator (from IPython->maquinas)\n",
      "  Downloading https://files.pythonhosted.org/packages/d5/50/83c593b07763e1161326b3b8c6686f0f4b0f24d5526546bee538c89837d6/decorator-5.1.1-py3-none-any.whl\n",
      "Collecting pygments (from IPython->maquinas)\n",
      "  Downloading https://files.pythonhosted.org/packages/1d/17/ed4d2df187995561b28f1073df24137cb750e12f9879d291cc8ab67c65d2/Pygments-2.11.2-py3-none-any.whl (1.1MB)\n",
      "\u001b[K    100% |████████████████████████████████| 1.1MB 1.2MB/s eta 0:00:01\n",
      "\u001b[?25hRequirement already up-to-date: pickleshare in /home/ivanvladimir/projects/maquinas/env/lib/python3.6/site-packages (from IPython->maquinas)\n",
      "Requirement already up-to-date: pexpect; sys_platform != \"win32\" in /home/ivanvladimir/projects/maquinas/env/lib/python3.6/site-packages (from IPython->maquinas)\n",
      "Requirement already up-to-date: backcall in /home/ivanvladimir/projects/maquinas/env/lib/python3.6/site-packages (from IPython->maquinas)\n",
      "Collecting prompt-toolkit!=3.0.0,!=3.0.1,<3.1.0,>=2.0.0 (from IPython->maquinas)\n",
      "  Downloading https://files.pythonhosted.org/packages/3f/2d/dcb44d69f388ca2ee1a4a4d3c204ab66b36975c0d5166781eaeeff76b882/prompt_toolkit-3.0.29-py3-none-any.whl (381kB)\n",
      "\u001b[K    100% |████████████████████████████████| 389kB 4.1MB/s eta 0:00:01\n",
      "\u001b[?25hCollecting notebook>=4.4.1 (from widgetsnbextension~=3.6.0->ipywidgets->maquinas)\n",
      "  Downloading https://files.pythonhosted.org/packages/27/b7/7e602dc8b868bba8a542269205237b400be3427d8489b5851de5f7587996/notebook-6.4.10-py3-none-any.whl (9.9MB)\n",
      "\u001b[K    100% |████████████████████████████████| 9.9MB 166kB/s eta 0:00:01\n",
      "\u001b[?25hCollecting jsonschema!=2.5.0,>=2.4 (from nbformat>=4.2.0->ipywidgets->maquinas)\n",
      "  Downloading https://files.pythonhosted.org/packages/e0/d9/05587ac378b9fd2c352c6f024f13240168365bd753a7e8007522b7025267/jsonschema-4.0.0-py3-none-any.whl (69kB)\n",
      "\u001b[K    100% |████████████████████████████████| 71kB 5.9MB/s eta 0:00:01\n",
      "\u001b[?25hCollecting jupyter-core (from nbformat>=4.2.0->ipywidgets->maquinas)\n",
      "  Downloading https://files.pythonhosted.org/packages/60/7d/bee50351fe3ff6979e949b9c4c00c556a7a9732ba39b547d07d93450de23/jupyter_core-4.9.2-py3-none-any.whl (86kB)\n",
      "\u001b[K    100% |████████████████████████████████| 92kB 5.2MB/s eta 0:00:01\n",
      "\u001b[33mCache entry deserialization failed, entry ignored\u001b[0m\n",
      "\u001b[?25hCollecting six (from traitlets>=4.3.1->ipywidgets->maquinas)\n",
      "  Using cached https://files.pythonhosted.org/packages/d9/5a/e7c31adbe875f2abbb91bd84cf2dc52d792b5a01506781dbcf25c91daf11/six-1.16.0-py2.py3-none-any.whl\n",
      "Requirement already up-to-date: tornado>=4.2 in /home/ivanvladimir/projects/maquinas/env/lib/python3.6/site-packages (from ipykernel>=4.5.1->ipywidgets->maquinas)\n",
      "Collecting jupyter-client (from ipykernel>=4.5.1->ipywidgets->maquinas)\n",
      "  Downloading https://files.pythonhosted.org/packages/56/a7/f4d3790ce7bb925d3ffe299244501a264f23ee7ec401914f7d788881ea31/jupyter_client-7.1.2-py3-none-any.whl (130kB)\n",
      "\u001b[K    100% |████████████████████████████████| 133kB 5.1MB/s eta 0:00:01\n",
      "\u001b[?25hCollecting parso<0.8.0,>=0.7.0 (from jedi<=0.17.2,>=0.10->IPython->maquinas)\n",
      "\u001b[33m  Cache entry deserialization failed, entry ignored\u001b[0m\n",
      "  Downloading https://files.pythonhosted.org/packages/93/d1/e635bdde32890db5aeb2ffbde17e74f68986305a4466b0aa373b861e3f00/parso-0.7.1-py2.py3-none-any.whl (109kB)\n",
      "\u001b[K    100% |████████████████████████████████| 112kB 7.5MB/s eta 0:00:01\n",
      "\u001b[?25hRequirement already up-to-date: ptyprocess>=0.5 in /home/ivanvladimir/projects/maquinas/env/lib/python3.6/site-packages (from pexpect; sys_platform != \"win32\"->IPython->maquinas)\n",
      "Requirement already up-to-date: wcwidth in /home/ivanvladimir/projects/maquinas/env/lib/python3.6/site-packages (from prompt-toolkit!=3.0.0,!=3.0.1,<3.1.0,>=2.0.0->IPython->maquinas)\n",
      "Collecting argon2-cffi (from notebook>=4.4.1->widgetsnbextension~=3.6.0->ipywidgets->maquinas)\n",
      "  Downloading https://files.pythonhosted.org/packages/a8/07/946d5a9431bae05a776a59746ec385fbb79b526738d25e4202d3e0bbf7f4/argon2_cffi-21.3.0-py3-none-any.whl\n",
      "Collecting nest-asyncio>=1.5 (from notebook>=4.4.1->widgetsnbextension~=3.6.0->ipywidgets->maquinas)\n",
      "  Downloading https://files.pythonhosted.org/packages/be/1e/a83058de46b40a392bdefcaac44d1d42db4bf8562cb68c95d6bae4b93276/nest_asyncio-1.5.5-py3-none-any.whl\n",
      "Collecting prometheus-client (from notebook>=4.4.1->widgetsnbextension~=3.6.0->ipywidgets->maquinas)\n",
      "  Downloading https://files.pythonhosted.org/packages/19/e5/7d4b4b3b0d8d2fdc55395cdb4271c6dbfde3c3ff7d6a6dbe63d19c4e2288/prometheus_client-0.14.1-py3-none-any.whl (59kB)\n"
     ]
    },
    {
     "name": "stdout",
     "output_type": "stream",
     "text": [
      "\u001b[K    100% |████████████████████████████████| 61kB 4.8MB/s eta 0:00:01\n",
      "\u001b[?25hRequirement already up-to-date: nbconvert>=5 in /home/ivanvladimir/projects/maquinas/env/lib/python3.6/site-packages (from notebook>=4.4.1->widgetsnbextension~=3.6.0->ipywidgets->maquinas)\n",
      "Collecting pyzmq>=17 (from notebook>=4.4.1->widgetsnbextension~=3.6.0->ipywidgets->maquinas)\n",
      "  Downloading https://files.pythonhosted.org/packages/4b/d3/0cf139d9149bbf3f052b385842afa4e202ea743d85632815d98d0e67685a/pyzmq-22.3.0-cp36-cp36m-manylinux_2_5_x86_64.manylinux1_x86_64.whl (1.1MB)\n",
      "\u001b[K    100% |████████████████████████████████| 1.1MB 1.2MB/s eta 0:00:01\n",
      "\u001b[?25hCollecting terminado>=0.8.3 (from notebook>=4.4.1->widgetsnbextension~=3.6.0->ipywidgets->maquinas)\n",
      "  Downloading https://files.pythonhosted.org/packages/02/6c/c3b012d026678d5cac6d4e26d6857145e22b94ccef195e7c483c3f6c3731/terminado-0.13.0-py3-none-any.whl\n",
      "Collecting jinja2 (from notebook>=4.4.1->widgetsnbextension~=3.6.0->ipywidgets->maquinas)\n",
      "  Downloading https://files.pythonhosted.org/packages/20/9a/e5d9ec41927401e41aea8af6d16e78b5e612bca4699d417f646a9610a076/Jinja2-3.0.3-py3-none-any.whl (133kB)\n",
      "\u001b[K    100% |████████████████████████████████| 143kB 6.4MB/s eta 0:00:01\n",
      "\u001b[?25hCollecting Send2Trash>=1.8.0 (from notebook>=4.4.1->widgetsnbextension~=3.6.0->ipywidgets->maquinas)\n",
      "  Downloading https://files.pythonhosted.org/packages/47/26/3435896d757335ea53dce5abf8d658ca80757a7a06258451b358f10232be/Send2Trash-1.8.0-py3-none-any.whl\n",
      "Collecting attrs>=17.4.0 (from jsonschema!=2.5.0,>=2.4->nbformat>=4.2.0->ipywidgets->maquinas)\n",
      "  Downloading https://files.pythonhosted.org/packages/be/be/7abce643bfdf8ca01c48afa2ddf8308c2308b0c3b239a44e57d020afa0ef/attrs-21.4.0-py2.py3-none-any.whl (60kB)\n",
      "\u001b[K    100% |████████████████████████████████| 61kB 5.0MB/s eta 0:00:01\n",
      "\u001b[?25hCollecting pyrsistent!=0.17.0,!=0.17.1,!=0.17.2,>=0.14.0 (from jsonschema!=2.5.0,>=2.4->nbformat>=4.2.0->ipywidgets->maquinas)\n",
      "  Downloading https://files.pythonhosted.org/packages/6c/19/1af501f6f388a40ede6d0185ba481bdb18ffc99deab0dd0d092b173bc0f4/pyrsistent-0.18.0-cp36-cp36m-manylinux1_x86_64.whl (117kB)\n",
      "\u001b[K    100% |████████████████████████████████| 122kB 5.3MB/s eta 0:00:01\n",
      "\u001b[?25hCollecting importlib-metadata; python_version < \"3.8\" (from jsonschema!=2.5.0,>=2.4->nbformat>=4.2.0->ipywidgets->maquinas)\n",
      "  Using cached https://files.pythonhosted.org/packages/a0/a1/b153a0a4caf7a7e3f15c2cd56c7702e2cf3d89b1b359d1f1c5e59d68f4ce/importlib_metadata-4.8.3-py3-none-any.whl\n",
      "Collecting entrypoints (from jupyter-client->ipykernel>=4.5.1->ipywidgets->maquinas)\n",
      "  Downloading https://files.pythonhosted.org/packages/35/a8/365059bbcd4572cbc41de17fd5b682be5868b218c3c5479071865cab9078/entrypoints-0.4-py3-none-any.whl\n",
      "\u001b[33mCache entry deserialization failed, entry ignored\u001b[0m\n",
      "Collecting python-dateutil>=2.1 (from jupyter-client->ipykernel>=4.5.1->ipywidgets->maquinas)\n",
      "\u001b[33m  Cache entry deserialization failed, entry ignored\u001b[0m\n",
      "  Downloading https://files.pythonhosted.org/packages/36/7a/87837f39d0296e723bb9b62bbb257d0355c7f6128853c78955f57342a56d/python_dateutil-2.8.2-py2.py3-none-any.whl (247kB)\n",
      "\u001b[K    100% |████████████████████████████████| 256kB 4.2MB/s eta 0:00:01\n",
      "\u001b[?25hCollecting argon2-cffi-bindings (from argon2-cffi->notebook>=4.4.1->widgetsnbextension~=3.6.0->ipywidgets->maquinas)\n",
      "  Downloading https://files.pythonhosted.org/packages/b9/e9/184b8ccce6683b0aa2fbb7ba5683ea4b9c5763f1356347f1312c32e3c66e/argon2-cffi-bindings-21.2.0.tar.gz (1.8MB)\n",
      "\u001b[K    100% |████████████████████████████████| 1.8MB 792kB/s eta 0:00:01\n",
      "\u001b[?25hRequirement already up-to-date: dataclasses; python_version < \"3.7\" in /home/ivanvladimir/projects/maquinas/env/lib/python3.6/site-packages (from argon2-cffi->notebook>=4.4.1->widgetsnbextension~=3.6.0->ipywidgets->maquinas)\n",
      "Requirement already up-to-date: typing-extensions; python_version < \"3.8\" in /home/ivanvladimir/projects/maquinas/env/lib/python3.6/site-packages (from argon2-cffi->notebook>=4.4.1->widgetsnbextension~=3.6.0->ipywidgets->maquinas)\n",
      "Collecting pandocfilters>=1.4.1 (from nbconvert>=5->notebook>=4.4.1->widgetsnbextension~=3.6.0->ipywidgets->maquinas)\n",
      "  Downloading https://files.pythonhosted.org/packages/5e/a8/878258cffd53202a6cc1903c226cf09e58ae3df6b09f8ddfa98033286637/pandocfilters-1.5.0-py2.py3-none-any.whl\n",
      "Collecting nbclient<0.6.0,>=0.5.0 (from nbconvert>=5->notebook>=4.4.1->widgetsnbextension~=3.6.0->ipywidgets->maquinas)\n",
      "  Downloading https://files.pythonhosted.org/packages/27/70/69c3561f43ea305da4b360820e67b57244c5308faf1fa890bc444e7cf842/nbclient-0.5.9-py3-none-any.whl (69kB)\n",
      "\u001b[K    100% |████████████████████████████████| 71kB 5.8MB/s eta 0:00:01\n",
      "\u001b[?25hCollecting bleach (from nbconvert>=5->notebook>=4.4.1->widgetsnbextension~=3.6.0->ipywidgets->maquinas)\n",
      "  Downloading https://files.pythonhosted.org/packages/64/cc/74d634e1e5659742973a23bb441404c53a7bedb6cd3962109ca5efb703e8/bleach-4.1.0-py2.py3-none-any.whl (157kB)\n",
      "\u001b[K    100% |████████████████████████████████| 163kB 5.2MB/s eta 0:00:01\n",
      "\u001b[?25hRequirement already up-to-date: jupyterlab-pygments in /home/ivanvladimir/projects/maquinas/env/lib/python3.6/site-packages (from nbconvert>=5->notebook>=4.4.1->widgetsnbextension~=3.6.0->ipywidgets->maquinas)\n",
      "Collecting testpath (from nbconvert>=5->notebook>=4.4.1->widgetsnbextension~=3.6.0->ipywidgets->maquinas)\n",
      "  Downloading https://files.pythonhosted.org/packages/86/43/1ebfb29c2ca1df2bdb33dbcb2b526b77ee96873ba7b9e25650ddd4ae7156/testpath-0.6.0-py3-none-any.whl (83kB)\n",
      "\u001b[K    100% |████████████████████████████████| 92kB 7.4MB/s eta 0:00:01\n",
      "\u001b[?25hCollecting defusedxml (from nbconvert>=5->notebook>=4.4.1->widgetsnbextension~=3.6.0->ipywidgets->maquinas)\n",
      "  Downloading https://files.pythonhosted.org/packages/07/6c/aa3f2f849e01cb6a001cd8554a88d4c77c5c1a31c95bdf1cf9301e6d9ef4/defusedxml-0.7.1-py2.py3-none-any.whl\n",
      "Requirement already up-to-date: mistune<2,>=0.8.1 in /home/ivanvladimir/projects/maquinas/env/lib/python3.6/site-packages (from nbconvert>=5->notebook>=4.4.1->widgetsnbextension~=3.6.0->ipywidgets->maquinas)\n",
      "Collecting MarkupSafe>=2.0 (from jinja2->notebook>=4.4.1->widgetsnbextension~=3.6.0->ipywidgets->maquinas)\n",
      "  Using cached https://files.pythonhosted.org/packages/fc/d6/57f9a97e56447a1e340f8574836d3b636e2c14de304943836bd645fa9c7e/MarkupSafe-2.0.1-cp36-cp36m-manylinux1_x86_64.whl\n",
      "Collecting zipp>=0.5 (from importlib-metadata; python_version < \"3.8\"->jsonschema!=2.5.0,>=2.4->nbformat>=4.2.0->ipywidgets->maquinas)\n",
      "  Using cached https://files.pythonhosted.org/packages/bd/df/d4a4974a3e3957fd1c1fa3082366d7fff6e428ddb55f074bf64876f8e8ad/zipp-3.6.0-py3-none-any.whl\n",
      "Collecting cffi>=1.0.1 (from argon2-cffi-bindings->argon2-cffi->notebook>=4.4.1->widgetsnbextension~=3.6.0->ipywidgets->maquinas)\n",
      "  Downloading https://files.pythonhosted.org/packages/49/7b/449daf9cacfd7355cea1b4106d2be614315c29ac16567e01756167f6daab/cffi-1.15.0-cp36-cp36m-manylinux_2_5_x86_64.manylinux1_x86_64.whl (405kB)\n",
      "\u001b[K    100% |████████████████████████████████| 409kB 2.6MB/s eta 0:00:01\n",
      "\u001b[?25hRequirement already up-to-date: async-generator; python_version < \"3.7\" in /home/ivanvladimir/projects/maquinas/env/lib/python3.6/site-packages (from nbclient<0.6.0,>=0.5.0->nbconvert>=5->notebook>=4.4.1->widgetsnbextension~=3.6.0->ipywidgets->maquinas)\n",
      "Requirement already up-to-date: webencodings in /home/ivanvladimir/projects/maquinas/env/lib/python3.6/site-packages (from bleach->nbconvert>=5->notebook>=4.4.1->widgetsnbextension~=3.6.0->ipywidgets->maquinas)\n",
      "\u001b[33mCache entry deserialization failed, entry ignored\u001b[0m\n",
      "Collecting packaging (from bleach->nbconvert>=5->notebook>=4.4.1->widgetsnbextension~=3.6.0->ipywidgets->maquinas)\n",
      "\u001b[33m  Cache entry deserialization failed, entry ignored\u001b[0m\n",
      "  Downloading https://files.pythonhosted.org/packages/05/8e/8de486cbd03baba4deef4142bd643a3e7bbe954a784dc1bb17142572d127/packaging-21.3-py3-none-any.whl (40kB)\n",
      "\u001b[K    100% |████████████████████████████████| 40kB 6.1MB/s eta 0:00:01\n",
      "\u001b[?25hCollecting pycparser (from cffi>=1.0.1->argon2-cffi-bindings->argon2-cffi->notebook>=4.4.1->widgetsnbextension~=3.6.0->ipywidgets->maquinas)\n",
      "  Downloading https://files.pythonhosted.org/packages/62/d5/5f610ebe421e85889f2e55e33b7f9a6795bd982198517d912eb1c76e1a53/pycparser-2.21-py2.py3-none-any.whl (118kB)\n",
      "\u001b[K    100% |████████████████████████████████| 122kB 5.3MB/s eta 0:00:01\n"
     ]
    },
    {
     "name": "stdout",
     "output_type": "stream",
     "text": [
      "\u001b[33mCache entry deserialization failed, entry ignored\u001b[0m\n",
      "\u001b[?25hCollecting pyparsing!=3.0.5,>=2.0.2 (from packaging->bleach->nbconvert>=5->notebook>=4.4.1->widgetsnbextension~=3.6.0->ipywidgets->maquinas)\n",
      "  Downloading https://files.pythonhosted.org/packages/d9/41/d9cfb4410589805cd787f8a82cddd13142d9bf7449d12adf2d05a4a7d633/pyparsing-3.0.8-py3-none-any.whl (98kB)\n",
      "\u001b[K    100% |████████████████████████████████| 102kB 6.6MB/s ta 0:00:01\n",
      "\u001b[?25hBuilding wheels for collected packages: maquinas, Pillow, argon2-cffi-bindings\n",
      "  Running setup.py bdist_wheel for maquinas ... \u001b[?25lerror\n",
      "  Complete output from command /home/ivanvladimir/projects/maquinas/env/bin/python3 -u -c \"import setuptools, tokenize;__file__='/tmp/pip-build-_lh5e0d_/maquinas/setup.py';f=getattr(tokenize, 'open', open)(__file__);code=f.read().replace('\\r\\n', '\\n');f.close();exec(compile(code, __file__, 'exec'))\" bdist_wheel -d /tmp/tmp7cjc22e8pip-wheel- --python-tag cp36:\n",
      "  usage: -c [global_opts] cmd1 [cmd1_opts] [cmd2 [cmd2_opts] ...]\n",
      "     or: -c --help [cmd1 cmd2 ...]\n",
      "     or: -c --help-commands\n",
      "     or: -c cmd --help\n",
      "  \n",
      "  error: invalid command 'bdist_wheel'\n",
      "  \n",
      "  ----------------------------------------\n",
      "\u001b[31m  Failed building wheel for maquinas\u001b[0m\n",
      "\u001b[?25h  Running setup.py clean for maquinas\n",
      "  Running setup.py bdist_wheel for Pillow ... \u001b[?25lerror\n",
      "  Complete output from command /home/ivanvladimir/projects/maquinas/env/bin/python3 -u -c \"import setuptools, tokenize;__file__='/tmp/pip-build-_lh5e0d_/Pillow/setup.py';f=getattr(tokenize, 'open', open)(__file__);code=f.read().replace('\\r\\n', '\\n');f.close();exec(compile(code, __file__, 'exec'))\" bdist_wheel -d /tmp/tmpdels7yqypip-wheel- --python-tag cp36:\n",
      "  usage: -c [global_opts] cmd1 [cmd1_opts] [cmd2 [cmd2_opts] ...]\n",
      "     or: -c --help [cmd1 cmd2 ...]\n",
      "     or: -c --help-commands\n",
      "     or: -c cmd --help\n",
      "  \n",
      "  error: invalid command 'bdist_wheel'\n",
      "  \n",
      "  ----------------------------------------\n",
      "\u001b[31m  Failed building wheel for Pillow\u001b[0m\n",
      "\u001b[?25h  Running setup.py clean for Pillow\n",
      "  Running setup.py bdist_wheel for argon2-cffi-bindings ... \u001b[?25l\\^C\n",
      "\u001b[31m  Failed cleaning build dir for argon2-cffi-bindings\u001b[0m\n",
      "Failed to build maquinas Pillow argon2-cffi-bindings\n",
      "Installing collected packages: graphviz, jupyterlab-widgets, entrypoints, nest-asyncio, jupyter-core, pyzmq, six, python-dateutil, jupyter-client, pycparser, cffi, argon2-cffi-bindings, argon2-cffi, prometheus-client, terminado, parso, jedi, setuptools, decorator, pygments, prompt-toolkit, IPython, ipykernel, attrs, pyrsistent, zipp, importlib-metadata, jsonschema, nbformat, MarkupSafe, jinja2, Send2Trash, notebook, widgetsnbextension, ipywidgets, Pillow, maquinas, pandocfilters, nbclient, pyparsing, packaging, bleach, testpath, defusedxml\n",
      "  Found existing installation: graphviz 0.16\n",
      "    Uninstalling graphviz-0.16:\n",
      "      Successfully uninstalled graphviz-0.16\n",
      "  Found existing installation: jupyterlab-widgets 1.0.0\n",
      "    Uninstalling jupyterlab-widgets-1.0.0:\n",
      "      Successfully uninstalled jupyterlab-widgets-1.0.0\n",
      "  Found existing installation: entrypoints 0.3\n",
      "    Uninstalling entrypoints-0.3:\n",
      "      Successfully uninstalled entrypoints-0.3\n",
      "  Found existing installation: nest-asyncio 1.5.1\n",
      "    Uninstalling nest-asyncio-1.5.1:\n",
      "      Successfully uninstalled nest-asyncio-1.5.1\n",
      "  Found existing installation: jupyter-core 4.7.1\n"
     ]
    }
   ],
=======
   "execution_count": null,
   "metadata": {},
   "outputs": [],
>>>>>>> 5e5fdbfe0a3df4b646adaa8ce3c7e1bf20125eb0
   "source": [
    "#@title [Optional] Installing the _maquinas_ library\n",
    "\n",
    "!pip install maquinas --upgrade"
   ]
  },
  {
   "cell_type": "markdown",
   "metadata": {},
   "source": [
    "### 01 Importar módulo para manipular lenguajes\n",
    "\n",
    "Existen dos elemento: _Alphabet_ y _Language_"
   ]
  },
  {
   "cell_type": "code",
<<<<<<< HEAD
   "execution_count": 1,
=======
   "execution_count": null,
>>>>>>> 5e5fdbfe0a3df4b646adaa8ce3c7e1bf20125eb0
   "metadata": {},
   "outputs": [],
   "source": [
    "#@title Importing Alphabet and Language classes\n",
    "\n",
    "from maquinas.languages import *"
   ]
  },
  {
   "cell_type": "markdown",
   "metadata": {},
   "source": [
<<<<<<< HEAD
    "## Alphabet examples"
=======
    "## 01 Alphabet\n",
    "\n",
    "_Alphabet_ es la clase para definir [alfabetos](https://ivanvladimir.gitlab.io/lfya_book/docs/01delenguajesypalabras/02b%C3%A1sicos/#alfabeto), en práctica engloba al [set](https://docs.python.org/3.7/library/stdtypes.html#set-types-set-frozenset), todo lo que se pueda hacer con esa librería se puede hacer con _alphabet_"
   ]
  },
  {
   "cell_type": "markdown",
   "metadata": {},
   "source": [
    "### 01.a Crear un alfabeto"
>>>>>>> 5e5fdbfe0a3df4b646adaa8ce3c7e1bf20125eb0
   ]
  },
  {
   "cell_type": "code",
<<<<<<< HEAD
   "execution_count": 3,
   "metadata": {},
   "outputs": [
    {
     "name": "stdout",
     "output_type": "stream",
     "text": [
      "Alphabet({'b', 'a'})\n"
     ]
    }
   ],
=======
   "execution_count": null,
   "metadata": {},
   "outputs": [],
>>>>>>> 5e5fdbfe0a3df4b646adaa8ce3c7e1bf20125eb0
   "source": [
    "#@title Creates an Alphabet Σ={a,b}\n",
    "\n",
    "sigma=Alphabet(['a','b'])\n",
    "print(sigma)"
   ]
  },
  {
   "cell_type": "markdown",
   "metadata": {},
   "source": [
    "### 01.b Potencia de un alfabeto\n",
    "\n",
    "Operación de potencia para un [alfabeto](https://ivanvladimir.gitlab.io/lfya_book/docs/01delenguajesypalabras/02b%C3%A1sicos/#potencia-de-un-alfabeto)"
   ]
  },
  {
   "cell_type": "code",
<<<<<<< HEAD
   "execution_count": 4,
   "metadata": {},
   "outputs": [
    {
     "name": "stdout",
     "output_type": "stream",
     "text": [
      "Power 0: {ε} with Σ={b,a}\n",
      "Power 1: {b,a} with Σ={b,a}\n",
      "Power 2: {ab,bb,aa,ba} with Σ={b,a}\n",
      "Power 3: {bbb,bba,bab,aba,aab,baa,aaa,abb} with Σ={b,a}\n",
      "Power 4: {baba,babb,aaab,aaaa,baaa,bbaa,abab,baab,bbab,aabb,bbbb,aaba,abaa,bbba,abba,abbb} with Σ={b,a}\n"
     ]
    }
   ],
=======
   "execution_count": null,
   "metadata": {},
   "outputs": [],
>>>>>>> 5e5fdbfe0a3df4b646adaa8ce3c7e1bf20125eb0
   "source": [
    "#@title Powers of an alphabet\n",
    "\n",
    "print(\"Power 0:\",sigma.power(0))\n",
    "print(\"Power 1:\",sigma.power(1))\n",
    "print(\"Power 2:\",sigma.power(2))\n",
    "print(\"Power 3:\",sigma.power(3))\n",
    "print(\"Power 4:\",sigma.power(4))"
   ]
  },
  {
   "cell_type": "markdown",
   "metadata": {},
   "source": [
    "### 01.c Σ<sup>∗</sup>\n",
    "\n",
    "Creación de un [lenguaje notable](https://ivanvladimir.gitlab.io/lfya_book/docs/01delenguajesypalabras/02b%C3%A1sicos/#otro-lenguaje-notable)"
   ]
  },
  {
   "cell_type": "code",
<<<<<<< HEAD
   "execution_count": 5,
   "metadata": {},
   "outputs": [
    {
     "name": "stdout",
     "output_type": "stream",
     "text": [
      "Σ*= {ε,b,a,bb,ba,ab,aa,bbb,bba,bab,baa,abb,aba,aab,aaa,bbbb,bbba,bbab,bbaa,babb,baba,baab,baaa,abbb,abba,abab,abaa,aabb,aaba,aaab,…} with Σ={b,a}\n"
     ]
    }
   ],
=======
   "execution_count": null,
   "metadata": {},
   "outputs": [],
>>>>>>> 5e5fdbfe0a3df4b646adaa8ce3c7e1bf20125eb0
   "source": [
    "#@title Kleene star over an alphabet\n",
    "\n",
    "print(\"Σ*=\",sigma.star())"
   ]
  },
  {
   "cell_type": "code",
   "execution_count": 6,
   "metadata": {},
   "outputs": [
    {
     "data": {
      "text/plain": [
       "True"
      ]
     },
     "execution_count": 6,
     "metadata": {},
     "output_type": "execute_result"
    }
   ],
   "source": [
    "#@title Validates some words can be composed by symbols of the alphabet \n",
    "\n",
    "sigma.validate(['a','ba'])"
   ]
  },
  {
   "cell_type": "markdown",
   "metadata": {},
   "source": [
<<<<<<< HEAD
    "## Language examples"
=======
    "## 02 Language\n",
    "\n",
    "Esta es la clase principal para [lenguajes](https://ivanvladimir.gitlab.io/lfya_book/docs/01delenguajesypalabras/02b%C3%A1sicos/#lenguajes), notar que no existe un objeto para [cadenas](https://ivanvladimir.gitlab.io/lfya_book/docs/01delenguajesypalabras/02b%C3%A1sicos/#lenguajes) porqué usamos directamente las de python."
   ]
  },
  {
   "cell_type": "markdown",
   "metadata": {},
   "source": [
    "### 02.a Creación de un lenguaje"
>>>>>>> 5e5fdbfe0a3df4b646adaa8ce3c7e1bf20125eb0
   ]
  },
  {
   "cell_type": "code",
<<<<<<< HEAD
   "execution_count": 2,
   "metadata": {},
   "outputs": [
    {
     "name": "stdout",
     "output_type": "stream",
     "text": [
      "Language 1: {a,b} with Σ={a,b}\n",
      "Language 2: {c,b} with Σ={a,c,b}\n",
      "Language 3: {ε,▶} with Σ={▶}\n"
     ]
    }
   ],
   "source": [
    "#@title Creates an Languages\n",
    "\n",
    "L1=Language(['a','b'],sigma=['a','b'])\n",
    "L2=Language(['c','b'],sigma=['a','b','c'])\n",
    "L3=Language(['','▶'],sigma=['▶'])\n",
=======
   "execution_count": null,
   "metadata": {},
   "outputs": [],
   "source": [
    "L1=Language(['a','b'])\n",
    "L2=Language(['c','b'])\n",
    "L3=Language(['','▶','◗'])\n",
>>>>>>> 5e5fdbfe0a3df4b646adaa8ce3c7e1bf20125eb0
    "print(\"Language 1:\",L1)\n",
    "print(\"Language 2:\",L2)\n",
    "print(\"Language 3:\",L3)"
   ]
  },
  {
   "cell_type": "markdown",
   "metadata": {},
   "source": [
    "### 02.b  operaciones de lenguajes\n",
    "\n",
    "Estos son ejemplos de las [operaciones para lenguajes](https://ivanvladimir.gitlab.io/lfya_book/docs/01delenguajesypalabras/03operacioneslenguajes/)"
   ]
  },
  {
   "cell_type": "code",
<<<<<<< HEAD
   "execution_count": 7,
   "metadata": {},
   "outputs": [
    {
     "name": "stdout",
     "output_type": "stream",
     "text": [
      "L1 ∪ L2:\n",
      " {b,c,a} with Σ={c,b,a}\n",
      "L1 ∪ L3:\n",
      " {ε,b,a,▶} with Σ={▶,b,a}\n",
      "L2 ∪ L3:\n",
      " {ε,c,b,▶} with Σ={▶,b,c,a}\n"
     ]
    }
   ],
   "source": [
    "#@title Union for languages\n",
    "\n",
    "print(\"L1 ∪ L2:\\n\",L1.union(L2))\n",
    "print(\"L1 ∪ L3:\\n\",L1.union(L3))\n",
    "print(\"L2 ∪ L3:\\n\",L2.union(L3))"
   ]
  },
  {
   "cell_type": "code",
   "execution_count": 8,
   "metadata": {},
   "outputs": [
    {
     "name": "stdout",
     "output_type": "stream",
     "text": [
      "L1L2:\n",
      " {bb,bc,ac,ab} with Σ={c,b,a}\n",
      "L1L2:\n",
      " {cb,bb,ca,ba} with Σ={c,b,a}\n",
      "L1L3:\n",
      " {a▶,b,b▶,a} with Σ={▶,b,a}\n",
      "L3L1:\n",
      " {b,a,▶a,▶b} with Σ={▶,b,a}\n",
      "L3L1L2:\n",
      " {▶bc,bc,ab,▶ac,▶ab,▶bb,bb,ac} with Σ={▶,c,b,a}\n"
     ]
    }
   ],
   "source": [
    "#@title Concatenation for languages\n",
    "\n",
    "print(\"L1L2:\\n\",L1.concat(L2))\n",
    "print(\"L1L2:\\n\",L2.concat(L1))\n",
    "print(\"L1L3:\\n\",L1.concat(L3))\n",
    "print(\"L3L1:\\n\",L3.concat(L1))\n",
    "print(\"L3L1L2:\\n\",L3.concat(L1.concat(L2)))"
   ]
  },
  {
   "cell_type": "code",
   "execution_count": 9,
   "metadata": {},
   "outputs": [
    {
     "name": "stdout",
     "output_type": "stream",
     "text": [
      "L1*:\n",
      " {ε,b,a,bb,ba,ab,aa,bbb,bba,bab,baa,abb,aba,aab,aaa,bbbb,bbba,bbab,bbaa,babb,baba,baab,baaa,abbb,abba,abab,abaa,aabb,aaba,aaab,…} with Σ={b,a}\n",
      "L2*:\n",
      " {ε,c,b,cc,cb,bc,bb,ccc,ccb,cbc,cbb,bcc,bcb,bbc,bbb,cccc,cccb,ccbc,ccbb,cbcc,cbcb,cbbc,cbbb,bccc,bccb,bcbc,bcbb,bbcc,bbcb,bbbc,…} with Σ={b,c,a}\n",
      "L3*:\n",
      " {ε,▶,▶▶,▶▶▶,▶▶▶▶,▶▶▶▶▶,▶▶▶▶▶▶,▶▶▶▶▶▶▶,▶▶▶▶▶▶▶▶,▶▶▶▶▶▶▶▶▶,▶▶▶▶▶▶▶▶▶▶,▶▶▶▶▶▶▶▶▶▶▶,▶▶▶▶▶▶▶▶▶▶▶▶,▶▶▶▶▶▶▶▶▶▶▶▶▶,▶▶▶▶▶▶▶▶▶▶▶▶▶▶,▶▶▶▶▶▶▶▶▶▶▶▶▶▶▶,▶▶▶▶▶▶▶▶▶▶▶▶▶▶▶▶,▶▶▶▶▶▶▶▶▶▶▶▶▶▶▶▶▶,▶▶▶▶▶▶▶▶▶▶▶▶▶▶▶▶▶▶,▶▶▶▶▶▶▶▶▶▶▶▶▶▶▶▶▶▶▶,▶▶▶▶▶▶▶▶▶▶▶▶▶▶▶▶▶▶▶▶,▶▶▶▶▶▶▶▶▶▶▶▶▶▶▶▶▶▶▶▶▶,▶▶▶▶▶▶▶▶▶▶▶▶▶▶▶▶▶▶▶▶▶▶,▶▶▶▶▶▶▶▶▶▶▶▶▶▶▶▶▶▶▶▶▶▶▶,▶▶▶▶▶▶▶▶▶▶▶▶▶▶▶▶▶▶▶▶▶▶▶▶,▶▶▶▶▶▶▶▶▶▶▶▶▶▶▶▶▶▶▶▶▶▶▶▶▶,▶▶▶▶▶▶▶▶▶▶▶▶▶▶▶▶▶▶▶▶▶▶▶▶▶▶,▶▶▶▶▶▶▶▶▶▶▶▶▶▶▶▶▶▶▶▶▶▶▶▶▶▶▶,▶▶▶▶▶▶▶▶▶▶▶▶▶▶▶▶▶▶▶▶▶▶▶▶▶▶▶▶,▶▶▶▶▶▶▶▶▶▶▶▶▶▶▶▶▶▶▶▶▶▶▶▶▶▶▶▶▶,…} with Σ={▶}\n"
     ]
    }
   ],
   "source": [
    "#@title Kleene start for languages\n",
    "\n",
    "print(\"L1*:\\n\",L1.star())\n",
    "print(\"L2*:\\n\",L2.star())\n",
    "print(\"L3*:\\n\",L3.star())"
   ]
  },
  {
   "cell_type": "code",
   "execution_count": 10,
   "metadata": {},
   "outputs": [
    {
     "name": "stdout",
     "output_type": "stream",
     "text": [
      "L3* ∪ L1 :\n",
      " {ε,b,▶,a,▶▶,▶▶▶,▶▶▶▶,▶▶▶▶▶,▶▶▶▶▶▶,▶▶▶▶▶▶▶,▶▶▶▶▶▶▶▶,▶▶▶▶▶▶▶▶▶,▶▶▶▶▶▶▶▶▶▶,▶▶▶▶▶▶▶▶▶▶▶,▶▶▶▶▶▶▶▶▶▶▶▶,▶▶▶▶▶▶▶▶▶▶▶▶▶,▶▶▶▶▶▶▶▶▶▶▶▶▶▶,▶▶▶▶▶▶▶▶▶▶▶▶▶▶▶,▶▶▶▶▶▶▶▶▶▶▶▶▶▶▶▶,▶▶▶▶▶▶▶▶▶▶▶▶▶▶▶▶▶,▶▶▶▶▶▶▶▶▶▶▶▶▶▶▶▶▶▶,▶▶▶▶▶▶▶▶▶▶▶▶▶▶▶▶▶▶▶,▶▶▶▶▶▶▶▶▶▶▶▶▶▶▶▶▶▶▶▶,▶▶▶▶▶▶▶▶▶▶▶▶▶▶▶▶▶▶▶▶▶,▶▶▶▶▶▶▶▶▶▶▶▶▶▶▶▶▶▶▶▶▶▶,▶▶▶▶▶▶▶▶▶▶▶▶▶▶▶▶▶▶▶▶▶▶▶,▶▶▶▶▶▶▶▶▶▶▶▶▶▶▶▶▶▶▶▶▶▶▶▶,▶▶▶▶▶▶▶▶▶▶▶▶▶▶▶▶▶▶▶▶▶▶▶▶▶,▶▶▶▶▶▶▶▶▶▶▶▶▶▶▶▶▶▶▶▶▶▶▶▶▶▶,▶▶▶▶▶▶▶▶▶▶▶▶▶▶▶▶▶▶▶▶▶▶▶▶▶▶▶,…} with Σ={▶,b,a}\n",
      "L3  ∪ L1*:\n",
      " {ε,▶,b,a,bb,ba,ab,aa,bbb,bba,bab,baa,abb,aba,aab,aaa,bbbb,bbba,bbab,bbaa,babb,baba,baab,baaa,abbb,abba,abab,abaa,aabb,aaba,…} with Σ={▶,b,a}\n",
      "L3* ∪ L1*:\n",
      " {ε,▶,b,▶▶,a,▶▶▶,bb,▶▶▶▶,ba,▶▶▶▶▶,ab,▶▶▶▶▶▶,aa,▶▶▶▶▶▶▶,bbb,▶▶▶▶▶▶▶▶,bba,▶▶▶▶▶▶▶▶▶,bab,▶▶▶▶▶▶▶▶▶▶,baa,▶▶▶▶▶▶▶▶▶▶▶,abb,▶▶▶▶▶▶▶▶▶▶▶▶,aba,▶▶▶▶▶▶▶▶▶▶▶▶▶,aab,▶▶▶▶▶▶▶▶▶▶▶▶▶▶,aaa,▶▶▶▶▶▶▶▶▶▶▶▶▶▶▶,…} with Σ={▶,b,a}\n"
     ]
    }
   ],
   "source": [
    "#@title Union among infinite and finite languages\n",
    "\n",
    "print(\"L3* ∪ L1 :\\n\",L3.star().union(L1))\n",
    "print(\"L3  ∪ L1*:\\n\",L3.union(L1.star()))\n",
    "print(\"L3* ∪ L1*:\\n\",L3.star().union(L1.star()))"
   ]
  },
  {
   "cell_type": "code",
   "execution_count": 11,
   "metadata": {
    "scrolled": true
   },
   "outputs": [
    {
     "name": "stdout",
     "output_type": "stream",
     "text": [
      "L3* ∩ L3 :\n",
      " {ε,▶} with Σ={▶}\n",
      "L3  ∩ L3*:\n",
      " {ε,▶} with Σ={▶}\n",
      "L3* ∩ L3*:\n",
      " {ε,▶,▶▶,▶▶▶,▶▶▶▶,▶▶▶▶▶,▶▶▶▶▶▶,▶▶▶▶▶▶▶,▶▶▶▶▶▶▶▶,▶▶▶▶▶▶▶▶▶,▶▶▶▶▶▶▶▶▶▶,▶▶▶▶▶▶▶▶▶▶▶,▶▶▶▶▶▶▶▶▶▶▶▶,▶▶▶▶▶▶▶▶▶▶▶▶▶,▶▶▶▶▶▶▶▶▶▶▶▶▶▶,▶▶▶▶▶▶▶▶▶▶▶▶▶▶▶,▶▶▶▶▶▶▶▶▶▶▶▶▶▶▶▶,▶▶▶▶▶▶▶▶▶▶▶▶▶▶▶▶▶,▶▶▶▶▶▶▶▶▶▶▶▶▶▶▶▶▶▶,▶▶▶▶▶▶▶▶▶▶▶▶▶▶▶▶▶▶▶,▶▶▶▶▶▶▶▶▶▶▶▶▶▶▶▶▶▶▶▶,▶▶▶▶▶▶▶▶▶▶▶▶▶▶▶▶▶▶▶▶▶,▶▶▶▶▶▶▶▶▶▶▶▶▶▶▶▶▶▶▶▶▶▶,▶▶▶▶▶▶▶▶▶▶▶▶▶▶▶▶▶▶▶▶▶▶▶,▶▶▶▶▶▶▶▶▶▶▶▶▶▶▶▶▶▶▶▶▶▶▶▶,▶▶▶▶▶▶▶▶▶▶▶▶▶▶▶▶▶▶▶▶▶▶▶▶▶,▶▶▶▶▶▶▶▶▶▶▶▶▶▶▶▶▶▶▶▶▶▶▶▶▶▶,▶▶▶▶▶▶▶▶▶▶▶▶▶▶▶▶▶▶▶▶▶▶▶▶▶▶▶,▶▶▶▶▶▶▶▶▶▶▶▶▶▶▶▶▶▶▶▶▶▶▶▶▶▶▶▶,▶▶▶▶▶▶▶▶▶▶▶▶▶▶▶▶▶▶▶▶▶▶▶▶▶▶▶▶▶,…} with Σ={▶}\n"
     ]
    }
   ],
   "source": [
    "#@title Intersection among infinite and finite languages\n",
    "\n",
    "print(\"L3* ∩ L3 :\\n\",L3.star().intersection(L3))\n",
    "print(\"L3  ∩ L3*:\\n\",L3.intersection(L3.star()))\n",
    "print(\"L3* ∩ L3*:\\n\",L3.star().intersection(L3.star()))"
   ]
  },
  {
   "cell_type": "markdown",
   "metadata": {},
   "source": [
    "## Notable languages"
   ]
  },
  {
   "cell_type": "code",
   "execution_count": 12,
   "metadata": {},
   "outputs": [
    {
     "name": "stdout",
     "output_type": "stream",
     "text": [
      "Empty language:\n",
      " ∅ Σ={b,a}\n",
      "Empty string language:\n",
      " {ε} with Σ={b,a}\n",
      "One symbol language:\n",
      " {a} with Σ={b,a}\n"
     ]
    }
   ],
   "source": [
    "Ø=empty_language(['a','b'])\n",
    "ε=empty_string_language(['a','b'])\n",
    "a=Language(['a'],['a','b'])\n",
    "\n",
    "print(\"Empty language:\\n\",Ø)\n",
    "print(\"Empty string language:\\n\",ε)\n",
    "print(\"One symbol language:\\n\",a)"
   ]
  },
  {
   "cell_type": "code",
   "execution_count": 13,
   "metadata": {},
   "outputs": [
    {
     "name": "stdout",
     "output_type": "stream",
     "text": [
      "ØØ:\n",
      " ∅ Σ={b,a}\n",
      "εε:\n",
      " {ε} with Σ={}\n",
      "aa:\n",
      " {aa} with Σ={b,a}\n",
      "Øε:\n",
      " ∅ Σ={b,a}\n",
      "εØ:\n",
      " ∅ Σ={b,a}\n",
      "Øa:\n",
      " ∅ Σ={b,a}\n",
      "aØ:\n",
      " ∅ Σ={b,a}\n",
      "εa:\n",
      " {a} with Σ={}\n",
      "aε:\n",
      " {a} with Σ={}\n"
     ]
    }
   ],
=======
   "execution_count": null,
   "metadata": {},
   "outputs": [],
>>>>>>> 5e5fdbfe0a3df4b646adaa8ce3c7e1bf20125eb0
   "source": [
    "#@title Concatenation of notable languages\n",
    "\n",
    "print(\"ØØ:\\n\",Ø.concat(Ø))\n",
    "print(\"εε:\\n\",ε.concat(ε))\n",
    "print(\"aa:\\n\",a.concat(a))\n",
    "print(\"Øε:\\n\",Ø.concat(ε))\n",
    "print(\"εØ:\\n\",ε.concat(Ø))\n",
    "print(\"Øa:\\n\",Ø.concat(a))\n",
    "print(\"aØ:\\n\",a.concat(Ø))\n",
    "print(\"εa:\\n\",ε.concat(a))\n",
    "print(\"aε:\\n\",a.concat(ε))"
   ]
  },
  {
   "cell_type": "code",
<<<<<<< HEAD
   "execution_count": 14,
   "metadata": {},
   "outputs": [
    {
     "name": "stdout",
     "output_type": "stream",
     "text": [
      "εa*:\n",
      " {ε,a,aa,aaa,aaaa,aaaaa,aaaaaa,aaaaaaa,aaaaaaaa,aaaaaaaaa,aaaaaaaaaa,aaaaaaaaaaa,aaaaaaaaaaaa,aaaaaaaaaaaaa,aaaaaaaaaaaaaa,aaaaaaaaaaaaaaa,aaaaaaaaaaaaaaaa,aaaaaaaaaaaaaaaaa,aaaaaaaaaaaaaaaaaa,aaaaaaaaaaaaaaaaaaa,aaaaaaaaaaaaaaaaaaaa,aaaaaaaaaaaaaaaaaaaaa,aaaaaaaaaaaaaaaaaaaaaa,aaaaaaaaaaaaaaaaaaaaaaa,aaaaaaaaaaaaaaaaaaaaaaaa,aaaaaaaaaaaaaaaaaaaaaaaaa,aaaaaaaaaaaaaaaaaaaaaaaaaa,aaaaaaaaaaaaaaaaaaaaaaaaaaa,aaaaaaaaaaaaaaaaaaaaaaaaaaaa,aaaaaaaaaaaaaaaaaaaaaaaaaaaaa,…} with Σ={}\n",
      "a*ε:\n",
      " {ε,a,aa,aaa,aaaa,aaaaa,aaaaaa,aaaaaaa,aaaaaaaa,aaaaaaaaa,aaaaaaaaaa,aaaaaaaaaaa,aaaaaaaaaaaa,aaaaaaaaaaaaa,aaaaaaaaaaaaaa,aaaaaaaaaaaaaaa,aaaaaaaaaaaaaaaa,aaaaaaaaaaaaaaaaa,aaaaaaaaaaaaaaaaaa,aaaaaaaaaaaaaaaaaaa,aaaaaaaaaaaaaaaaaaaa,aaaaaaaaaaaaaaaaaaaaa,aaaaaaaaaaaaaaaaaaaaaa,aaaaaaaaaaaaaaaaaaaaaaa,aaaaaaaaaaaaaaaaaaaaaaaa,aaaaaaaaaaaaaaaaaaaaaaaaa,aaaaaaaaaaaaaaaaaaaaaaaaaa,aaaaaaaaaaaaaaaaaaaaaaaaaaa,aaaaaaaaaaaaaaaaaaaaaaaaaaaa,aaaaaaaaaaaaaaaaaaaaaaaaaaaaa,…} with Σ={}\n",
      "Øa*:\n",
      " ∅ Σ={b,a}\n",
      "a*Ø:\n",
      " ∅ Σ={b,a}\n",
      "εa⁺:\n",
      " {a,aa,aaa,aaaa,aaaaa,aaaaaa,aaaaaaa,aaaaaaaa,aaaaaaaaa,aaaaaaaaaa,aaaaaaaaaaa,aaaaaaaaaaaa,aaaaaaaaaaaaa,aaaaaaaaaaaaaa,aaaaaaaaaaaaaaa,aaaaaaaaaaaaaaaa,aaaaaaaaaaaaaaaaa,aaaaaaaaaaaaaaaaaa,aaaaaaaaaaaaaaaaaaa,aaaaaaaaaaaaaaaaaaaa,aaaaaaaaaaaaaaaaaaaaa,aaaaaaaaaaaaaaaaaaaaaa,aaaaaaaaaaaaaaaaaaaaaaa,aaaaaaaaaaaaaaaaaaaaaaaa,aaaaaaaaaaaaaaaaaaaaaaaaa,aaaaaaaaaaaaaaaaaaaaaaaaaa,aaaaaaaaaaaaaaaaaaaaaaaaaaa,aaaaaaaaaaaaaaaaaaaaaaaaaaaa,aaaaaaaaaaaaaaaaaaaaaaaaaaaaa,aaaaaaaaaaaaaaaaaaaaaaaaaaaaaa,…} with Σ={}\n",
      "a⁺ε:\n",
      " {a,aa,aaa,aaaa,aaaaa,aaaaaa,aaaaaaa,aaaaaaaa,aaaaaaaaa,aaaaaaaaaa,aaaaaaaaaaa,aaaaaaaaaaaa,aaaaaaaaaaaaa,aaaaaaaaaaaaaa,aaaaaaaaaaaaaaa,aaaaaaaaaaaaaaaa,aaaaaaaaaaaaaaaaa,aaaaaaaaaaaaaaaaaa,aaaaaaaaaaaaaaaaaaa,aaaaaaaaaaaaaaaaaaaa,aaaaaaaaaaaaaaaaaaaaa,aaaaaaaaaaaaaaaaaaaaaa,aaaaaaaaaaaaaaaaaaaaaaa,aaaaaaaaaaaaaaaaaaaaaaaa,aaaaaaaaaaaaaaaaaaaaaaaaa,aaaaaaaaaaaaaaaaaaaaaaaaaa,aaaaaaaaaaaaaaaaaaaaaaaaaaa,aaaaaaaaaaaaaaaaaaaaaaaaaaaa,aaaaaaaaaaaaaaaaaaaaaaaaaaaaa,aaaaaaaaaaaaaaaaaaaaaaaaaaaaaa,…} with Σ={}\n",
      "Øa⁺:\n",
      " ∅ Σ={b,a}\n",
      "a⁺Ø:\n",
      " ∅ Σ={b,a}\n"
     ]
    }
   ],
=======
   "execution_count": null,
   "metadata": {},
   "outputs": [],
>>>>>>> 5e5fdbfe0a3df4b646adaa8ce3c7e1bf20125eb0
   "source": [
    "#@title Concatenation notable and infinite\n",
    "\n",
    "    print(\"εa*:\\n\",ε.concat(a.star()))\n",
    "    print(\"a*ε:\\n\",a.star().concat(ε))\n",
    "    print(\"Øa*:\\n\",Ø.concat(a.star()))\n",
    "    print(\"a*Ø:\\n\",a.star().concat(Ø))\n",
    "    print(\"εa⁺:\\n\",ε.concat(a.plus()))\n",
    "    print(\"a⁺ε:\\n\",a.plus().concat(ε))\n",
    "    print(\"Øa⁺:\\n\",Ø.concat(a.plus()))\n",
    "    print(\"a⁺Ø:\\n\",a.plus().concat(Ø))"
   ]
  },
  {
   "cell_type": "code",
   "execution_count": 15,
   "metadata": {},
   "outputs": [
    {
     "name": "stdout",
     "output_type": "stream",
     "text": [
      "Ø ∪ Ø:\n",
      " ∅ Σ={b,a}\n",
      "ε ∪ ε:\n",
      " {ε} with Σ={b,a}\n",
      "a ∪ a:\n",
      " {a} with Σ={b,a}\n",
      "Ø ∪ ε:\n",
      " {ε} with Σ={b,a}\n",
      "ε ∪ Ø:\n",
      " {ε} with Σ={b,a}\n",
      "Ø ∪ a:\n",
      " {a} with Σ={b,a}\n",
      "a ∪ Ø:\n",
      " {a} with Σ={b,a}\n",
      "ε ∪ a:\n",
      " {ε,a} with Σ={b,a}\n",
      "a ∪ ε:\n",
      " {ε,a} with Σ={b,a}\n"
     ]
    }
   ],
   "source": [
    "#@title Union on notable languages\n",
    "\n",
    "print(\"Ø ∪ Ø:\\n\",Ø.union(Ø))\n",
    "print(\"ε ∪ ε:\\n\",ε.union(ε))\n",
    "print(\"a ∪ a:\\n\",a.union(a))\n",
    "print(\"Ø ∪ ε:\\n\",Ø.union(ε))\n",
    "print(\"ε ∪ Ø:\\n\",ε.union(Ø))\n",
    "print(\"Ø ∪ a:\\n\",Ø.union(a))\n",
    "print(\"a ∪ Ø:\\n\",a.union(Ø))\n",
    "print(\"ε ∪ a:\\n\",ε.union(a))\n",
    "print(\"a ∪ ε:\\n\",a.union(ε))"
   ]
  },
  {
   "cell_type": "code",
   "execution_count": 16,
   "metadata": {},
   "outputs": [
    {
     "name": "stdout",
     "output_type": "stream",
     "text": [
      "ε  ∪ a*:\n",
      " {ε,a,aa,aaa,aaaa,aaaaa,aaaaaa,aaaaaaa,aaaaaaaa,aaaaaaaaa,aaaaaaaaaa,aaaaaaaaaaa,aaaaaaaaaaaa,aaaaaaaaaaaaa,aaaaaaaaaaaaaa,aaaaaaaaaaaaaaa,aaaaaaaaaaaaaaaa,aaaaaaaaaaaaaaaaa,aaaaaaaaaaaaaaaaaa,aaaaaaaaaaaaaaaaaaa,aaaaaaaaaaaaaaaaaaaa,aaaaaaaaaaaaaaaaaaaaa,aaaaaaaaaaaaaaaaaaaaaa,aaaaaaaaaaaaaaaaaaaaaaa,aaaaaaaaaaaaaaaaaaaaaaaa,aaaaaaaaaaaaaaaaaaaaaaaaa,aaaaaaaaaaaaaaaaaaaaaaaaaa,aaaaaaaaaaaaaaaaaaaaaaaaaaa,aaaaaaaaaaaaaaaaaaaaaaaaaaaa,aaaaaaaaaaaaaaaaaaaaaaaaaaaaa,…} with Σ={b,a}\n",
      "a* ∪ ε:\n",
      " {ε,a,aa,aaa,aaaa,aaaaa,aaaaaa,aaaaaaa,aaaaaaaa,aaaaaaaaa,aaaaaaaaaa,aaaaaaaaaaa,aaaaaaaaaaaa,aaaaaaaaaaaaa,aaaaaaaaaaaaaa,aaaaaaaaaaaaaaa,aaaaaaaaaaaaaaaa,aaaaaaaaaaaaaaaaa,aaaaaaaaaaaaaaaaaa,aaaaaaaaaaaaaaaaaaa,aaaaaaaaaaaaaaaaaaaa,aaaaaaaaaaaaaaaaaaaaa,aaaaaaaaaaaaaaaaaaaaaa,aaaaaaaaaaaaaaaaaaaaaaa,aaaaaaaaaaaaaaaaaaaaaaaa,aaaaaaaaaaaaaaaaaaaaaaaaa,aaaaaaaaaaaaaaaaaaaaaaaaaa,aaaaaaaaaaaaaaaaaaaaaaaaaaa,aaaaaaaaaaaaaaaaaaaaaaaaaaaa,aaaaaaaaaaaaaaaaaaaaaaaaaaaaa,…} with Σ={b,a}\n",
      "Ø  ∪ a*:\n",
      " {ε,a,aa,aaa,aaaa,aaaaa,aaaaaa,aaaaaaa,aaaaaaaa,aaaaaaaaa,aaaaaaaaaa,aaaaaaaaaaa,aaaaaaaaaaaa,aaaaaaaaaaaaa,aaaaaaaaaaaaaa,aaaaaaaaaaaaaaa,aaaaaaaaaaaaaaaa,aaaaaaaaaaaaaaaaa,aaaaaaaaaaaaaaaaaa,aaaaaaaaaaaaaaaaaaa,aaaaaaaaaaaaaaaaaaaa,aaaaaaaaaaaaaaaaaaaaa,aaaaaaaaaaaaaaaaaaaaaa,aaaaaaaaaaaaaaaaaaaaaaa,aaaaaaaaaaaaaaaaaaaaaaaa,aaaaaaaaaaaaaaaaaaaaaaaaa,aaaaaaaaaaaaaaaaaaaaaaaaaa,aaaaaaaaaaaaaaaaaaaaaaaaaaa,aaaaaaaaaaaaaaaaaaaaaaaaaaaa,aaaaaaaaaaaaaaaaaaaaaaaaaaaaa,…} with Σ={b,a}\n",
      "a* ∪ Ø:\n",
      " {ε,a,aa,aaa,aaaa,aaaaa,aaaaaa,aaaaaaa,aaaaaaaa,aaaaaaaaa,aaaaaaaaaa,aaaaaaaaaaa,aaaaaaaaaaaa,aaaaaaaaaaaaa,aaaaaaaaaaaaaa,aaaaaaaaaaaaaaa,aaaaaaaaaaaaaaaa,aaaaaaaaaaaaaaaaa,aaaaaaaaaaaaaaaaaa,aaaaaaaaaaaaaaaaaaa,aaaaaaaaaaaaaaaaaaaa,aaaaaaaaaaaaaaaaaaaaa,aaaaaaaaaaaaaaaaaaaaaa,aaaaaaaaaaaaaaaaaaaaaaa,aaaaaaaaaaaaaaaaaaaaaaaa,aaaaaaaaaaaaaaaaaaaaaaaaa,aaaaaaaaaaaaaaaaaaaaaaaaaa,aaaaaaaaaaaaaaaaaaaaaaaaaaa,aaaaaaaaaaaaaaaaaaaaaaaaaaaa,aaaaaaaaaaaaaaaaaaaaaaaaaaaaa,…} with Σ={b,a}\n",
      "ε  ∪ a⁺:\n",
      " {ε,a,aa,aaa,aaaa,aaaaa,aaaaaa,aaaaaaa,aaaaaaaa,aaaaaaaaa,aaaaaaaaaa,aaaaaaaaaaa,aaaaaaaaaaaa,aaaaaaaaaaaaa,aaaaaaaaaaaaaa,aaaaaaaaaaaaaaa,aaaaaaaaaaaaaaaa,aaaaaaaaaaaaaaaaa,aaaaaaaaaaaaaaaaaa,aaaaaaaaaaaaaaaaaaa,aaaaaaaaaaaaaaaaaaaa,aaaaaaaaaaaaaaaaaaaaa,aaaaaaaaaaaaaaaaaaaaaa,aaaaaaaaaaaaaaaaaaaaaaa,aaaaaaaaaaaaaaaaaaaaaaaa,aaaaaaaaaaaaaaaaaaaaaaaaa,aaaaaaaaaaaaaaaaaaaaaaaaaa,aaaaaaaaaaaaaaaaaaaaaaaaaaa,aaaaaaaaaaaaaaaaaaaaaaaaaaaa,aaaaaaaaaaaaaaaaaaaaaaaaaaaaa,…} with Σ={b,a}\n",
      "a⁺ ∪ ε:\n",
      " {a,ε,aa,aaa,aaaa,aaaaa,aaaaaa,aaaaaaa,aaaaaaaa,aaaaaaaaa,aaaaaaaaaa,aaaaaaaaaaa,aaaaaaaaaaaa,aaaaaaaaaaaaa,aaaaaaaaaaaaaa,aaaaaaaaaaaaaaa,aaaaaaaaaaaaaaaa,aaaaaaaaaaaaaaaaa,aaaaaaaaaaaaaaaaaa,aaaaaaaaaaaaaaaaaaa,aaaaaaaaaaaaaaaaaaaa,aaaaaaaaaaaaaaaaaaaaa,aaaaaaaaaaaaaaaaaaaaaa,aaaaaaaaaaaaaaaaaaaaaaa,aaaaaaaaaaaaaaaaaaaaaaaa,aaaaaaaaaaaaaaaaaaaaaaaaa,aaaaaaaaaaaaaaaaaaaaaaaaaa,aaaaaaaaaaaaaaaaaaaaaaaaaaa,aaaaaaaaaaaaaaaaaaaaaaaaaaaa,aaaaaaaaaaaaaaaaaaaaaaaaaaaaa,…} with Σ={b,a}\n",
      "Ø  ∪ a⁺:\n",
      " {a,aa,aaa,aaaa,aaaaa,aaaaaa,aaaaaaa,aaaaaaaa,aaaaaaaaa,aaaaaaaaaa,aaaaaaaaaaa,aaaaaaaaaaaa,aaaaaaaaaaaaa,aaaaaaaaaaaaaa,aaaaaaaaaaaaaaa,aaaaaaaaaaaaaaaa,aaaaaaaaaaaaaaaaa,aaaaaaaaaaaaaaaaaa,aaaaaaaaaaaaaaaaaaa,aaaaaaaaaaaaaaaaaaaa,aaaaaaaaaaaaaaaaaaaaa,aaaaaaaaaaaaaaaaaaaaaa,aaaaaaaaaaaaaaaaaaaaaaa,aaaaaaaaaaaaaaaaaaaaaaaa,aaaaaaaaaaaaaaaaaaaaaaaaa,aaaaaaaaaaaaaaaaaaaaaaaaaa,aaaaaaaaaaaaaaaaaaaaaaaaaaa,aaaaaaaaaaaaaaaaaaaaaaaaaaaa,aaaaaaaaaaaaaaaaaaaaaaaaaaaaa,aaaaaaaaaaaaaaaaaaaaaaaaaaaaaa,…} with Σ={b,a}\n",
      "a⁺ ∪ Ø:\n",
      " {a,aa,aaa,aaaa,aaaaa,aaaaaa,aaaaaaa,aaaaaaaa,aaaaaaaaa,aaaaaaaaaa,aaaaaaaaaaa,aaaaaaaaaaaa,aaaaaaaaaaaaa,aaaaaaaaaaaaaa,aaaaaaaaaaaaaaa,aaaaaaaaaaaaaaaa,aaaaaaaaaaaaaaaaa,aaaaaaaaaaaaaaaaaa,aaaaaaaaaaaaaaaaaaa,aaaaaaaaaaaaaaaaaaaa,aaaaaaaaaaaaaaaaaaaaa,aaaaaaaaaaaaaaaaaaaaaa,aaaaaaaaaaaaaaaaaaaaaaa,aaaaaaaaaaaaaaaaaaaaaaaa,aaaaaaaaaaaaaaaaaaaaaaaaa,aaaaaaaaaaaaaaaaaaaaaaaaaa,aaaaaaaaaaaaaaaaaaaaaaaaaaa,aaaaaaaaaaaaaaaaaaaaaaaaaaaa,aaaaaaaaaaaaaaaaaaaaaaaaaaaaa,aaaaaaaaaaaaaaaaaaaaaaaaaaaaaa,…} with Σ={b,a}\n"
     ]
    }
   ],
   "source": [
    "#@title Union notable and infinite\n",
    "\n",
    "print(\"ε  ∪ a*:\\n\",ε.union(a.star()))\n",
    "print(\"a* ∪ ε:\\n\",a.star().union(ε))\n",
    "print(\"Ø  ∪ a*:\\n\",Ø.union(a.star()))\n",
    "print(\"a* ∪ Ø:\\n\",a.star().union(Ø))\n",
    "print(\"ε  ∪ a⁺:\\n\",ε.union(a.plus()))\n",
    "print(\"a⁺ ∪ ε:\\n\",a.plus().union(ε))\n",
    "print(\"Ø  ∪ a⁺:\\n\",Ø.union(a.plus()))\n",
    "print(\"a⁺ ∪ Ø:\\n\",a.plus().union(Ø))"
   ]
  },
  {
   "cell_type": "code",
   "execution_count": 17,
   "metadata": {},
   "outputs": [
    {
     "name": "stdout",
     "output_type": "stream",
     "text": [
      "Ø ∩ Ø:\n",
      " ∅ Σ={b,a}\n",
      "ε ∩ ε:\n",
      " {ε} with Σ={b,a}\n",
      "a ∩ a:\n",
      " {a} with Σ={b,a}\n",
      "Ø ∩ ε:\n",
      " ∅ Σ={b,a}\n",
      "ε ∩ Ø:\n",
      " ∅ Σ={b,a}\n",
      "Ø ∩ a:\n",
      " ∅ Σ={b,a}\n",
      "a ∩ Ø:\n",
      " ∅ Σ={b,a}\n",
      "ε ∩ a:\n",
      " ∅ Σ={b,a}\n",
      "a ∩ ε:\n",
      " ∅ Σ={b,a}\n"
     ]
    }
   ],
   "source": [
    "#@title Intersection on notable languages\n",
    "\n",
    "print(\"Ø ∩ Ø:\\n\",Ø.intersection(Ø))\n",
    "print(\"ε ∩ ε:\\n\",ε.intersection(ε))\n",
    "print(\"a ∩ a:\\n\",a.intersection(a))\n",
    "print(\"Ø ∩ ε:\\n\",Ø.intersection(ε))\n",
    "print(\"ε ∩ Ø:\\n\",ε.intersection(Ø))\n",
    "print(\"Ø ∩ a:\\n\",Ø.intersection(a))\n",
    "print(\"a ∩ Ø:\\n\",a.intersection(Ø))\n",
    "print(\"ε ∩ a:\\n\",ε.intersection(a))\n",
    "print(\"a ∩ ε:\\n\",a.intersection(ε))"
   ]
  },
  {
   "cell_type": "code",
   "execution_count": 18,
   "metadata": {},
   "outputs": [
    {
     "name": "stdout",
     "output_type": "stream",
     "text": [
      "ε  ∩ a*:\n",
      " {ε} with Σ={b,a}\n",
      "a* ∩ ε:\n",
      " {ε} with Σ={b,a}\n",
      "Ø  ∩ a*:\n",
      " ∅ Σ={b,a}\n",
      "a* ∩ Ø:\n",
      " ∅ Σ={b,a}\n",
      "ε  ∩ a⁺:\n",
      " {} with Σ={b,a}\n",
      "a⁺ ∩ ε:\n",
      " {} with Σ={b,a}\n",
      "Ø  ∩ a⁺:\n",
      " ∅ Σ={b,a}\n",
      "a⁺ ∩ Ø:\n",
      " ∅ Σ={b,a}\n"
     ]
    }
   ],
   "source": [
    "#@title Union notable and infinite\n",
    "\n",
    "print(\"ε  ∩ a*:\\n\",ε.intersection(a.star()))\n",
    "print(\"a* ∩ ε:\\n\",a.star().intersection(ε))\n",
    "print(\"Ø  ∩ a*:\\n\",Ø.intersection(a.star()))\n",
    "print(\"a* ∩ Ø:\\n\",a.star().intersection(Ø))\n",
    "print(\"ε  ∩ a⁺:\\n\",ε.intersection(a.plus()))\n",
    "print(\"a⁺ ∩ ε:\\n\",a.plus().intersection(ε))\n",
    "print(\"Ø  ∩ a⁺:\\n\",Ø.intersection(a.plus()))\n",
    "print(\"a⁺ ∩ Ø:\\n\",a.plus().intersection(Ø))"
   ]
  },
  {
   "cell_type": "code",
   "execution_count": 19,
   "metadata": {},
   "outputs": [
    {
     "name": "stdout",
     "output_type": "stream",
     "text": [
      "Ø^0:\n",
      " {ε} with Σ={b,a}\n",
      "Ø^1:\n",
      " ∅ Σ={}\n",
      "Ø^2:\n",
      " ∅ Σ={b,a}\n",
      "ε^0:\n",
      " {ε} with Σ={b,a}\n",
      "ε^1:\n",
      " {ε} with Σ={}\n",
      "ε^2:\n",
      " {ε} with Σ={b,a}\n",
      "a^0:\n",
      " {ε} with Σ={b,a}\n",
      "a^1:\n",
      " {a} with Σ={}\n",
      "a^2:\n",
      " {aa} with Σ={b,a}\n"
     ]
    }
   ],
   "source": [
    "#@title power on notable languages\n",
    "\n",
    "print(\"Ø^0:\\n\",Ø.power(0))\n",
    "print(\"Ø^1:\\n\",Ø.power(1))\n",
    "print(\"Ø^2:\\n\",Ø.power(2))\n",
    "print(\"ε^0:\\n\",ε.power(0))\n",
    "print(\"ε^1:\\n\",ε.power(1))\n",
    "print(\"ε^2:\\n\",ε.power(2))\n",
    "print(\"a^0:\\n\",a.power(0))\n",
    "print(\"a^1:\\n\",a.power(1))\n",
    "print(\"a^2:\\n\",a.power(2))"
   ]
  },
  {
   "cell_type": "code",
   "execution_count": 20,
   "metadata": {},
   "outputs": [
    {
     "name": "stdout",
     "output_type": "stream",
     "text": [
      "Ø*:\n",
      " {ε} with Σ={b,a}\n",
      "ε*:\n",
      " {ε} with Σ={b,a}\n",
      "a*:\n",
      " {ε,a,aa,aaa,aaaa,aaaaa,aaaaaa,aaaaaaa,aaaaaaaa,aaaaaaaaa,aaaaaaaaaa,aaaaaaaaaaa,aaaaaaaaaaaa,aaaaaaaaaaaaa,aaaaaaaaaaaaaa,aaaaaaaaaaaaaaa,aaaaaaaaaaaaaaaa,aaaaaaaaaaaaaaaaa,aaaaaaaaaaaaaaaaaa,aaaaaaaaaaaaaaaaaaa,aaaaaaaaaaaaaaaaaaaa,aaaaaaaaaaaaaaaaaaaaa,aaaaaaaaaaaaaaaaaaaaaa,aaaaaaaaaaaaaaaaaaaaaaa,aaaaaaaaaaaaaaaaaaaaaaaa,aaaaaaaaaaaaaaaaaaaaaaaaa,aaaaaaaaaaaaaaaaaaaaaaaaaa,aaaaaaaaaaaaaaaaaaaaaaaaaaa,aaaaaaaaaaaaaaaaaaaaaaaaaaaa,aaaaaaaaaaaaaaaaaaaaaaaaaaaaa,…} with Σ={b,a}\n"
     ]
    }
   ],
   "source": [
    "#@title Kleene start on notable languages\n",
    "\n",
    "print(\"Ø*:\\n\",Ø.star())\n",
    "print(\"ε*:\\n\",ε.star())\n",
    "print(\"a*:\\n\",a.star())"
   ]
  },
  {
   "cell_type": "code",
   "execution_count": 21,
   "metadata": {},
   "outputs": [
    {
     "name": "stdout",
     "output_type": "stream",
     "text": [
      "Ø*:\n",
      " ∅ Σ={b,a}\n",
      "ε*:\n",
      " {ε} with Σ={b,a}\n",
      "a*:\n",
      " {a,aa,aaa,aaaa,aaaaa,aaaaaa,aaaaaaa,aaaaaaaa,aaaaaaaaa,aaaaaaaaaa,aaaaaaaaaaa,aaaaaaaaaaaa,aaaaaaaaaaaaa,aaaaaaaaaaaaaa,aaaaaaaaaaaaaaa,aaaaaaaaaaaaaaaa,aaaaaaaaaaaaaaaaa,aaaaaaaaaaaaaaaaaa,aaaaaaaaaaaaaaaaaaa,aaaaaaaaaaaaaaaaaaaa,aaaaaaaaaaaaaaaaaaaaa,aaaaaaaaaaaaaaaaaaaaaa,aaaaaaaaaaaaaaaaaaaaaaa,aaaaaaaaaaaaaaaaaaaaaaaa,aaaaaaaaaaaaaaaaaaaaaaaaa,aaaaaaaaaaaaaaaaaaaaaaaaaa,aaaaaaaaaaaaaaaaaaaaaaaaaaa,aaaaaaaaaaaaaaaaaaaaaaaaaaaa,aaaaaaaaaaaaaaaaaaaaaaaaaaaaa,aaaaaaaaaaaaaaaaaaaaaaaaaaaaaa,…} with Σ={b,a}\n"
     ]
    }
   ],
   "source": [
    "#@title Kleene plus on notable languages\n",
    "\n",
    "print(\"Ø*:\\n\",Ø.plus())\n",
    "print(\"ε*:\\n\",ε.plus())\n",
    "print(\"a*:\\n\",a.plus())"
   ]
  },
  {
   "cell_type": "markdown",
   "metadata": {},
   "source": [
    "## Other operations"
   ]
  },
  {
   "cell_type": "code",
   "execution_count": 22,
   "metadata": {},
   "outputs": [
    {
     "name": "stdout",
     "output_type": "stream",
     "text": [
      "L1ᴿ :\n",
      " {b,a} with Σ={b,a}\n",
      "(L2*L1)ᴿ :\n",
      " {b,bc,bb,bcc,bbc,bcb,bbb,bccc,bbcc,bcbc,bbbc,bccb,bbcb,bcbb,bbbb,bcccc,bbccc,bcbcc,bbbcc,bccbc,bbcbc,bcbbc,bbbbc,bcccb,bbccb,bcbcb,bbbcb,bccbb,bbcbb,bcbbb,…} with Σ={c,b,a}\n"
     ]
    }
   ],
   "source": [
    "#@title Reverse\n",
    "\n",
    "print(\"L1ᴿ :\\n\",L1.reverse())\n",
    "print(\"(L2*L1)ᴿ :\\n\",L2.star().concat(L1).reverse())"
   ]
  },
  {
   "cell_type": "code",
   "execution_count": null,
   "metadata": {},
<<<<<<< HEAD
   "outputs": [
    {
     "name": "stdout",
     "output_type": "stream",
     "text": [
      "Mapping:\n",
      "a → {A,B} with Σ={A,B}\n",
      "b → {CC} with Σ={C}\n",
      "Substitution ε: \n",
      " {ε} with Σ={b,a}\n",
      "Substitution aaba: \n",
      " {AACCA,BACCB,BBCCA,BBCCB,AACCB,ABCCA,BACCA,ABCCB} with Σ={A,B,C}\n"
     ]
    }
   ],
=======
   "outputs": [],
>>>>>>> 5e5fdbfe0a3df4b646adaa8ce3c7e1bf20125eb0
   "source": [
    "#@title substitution of string using a Mapping\n",
    "\n",
    "m=Mapping({\n",
    "    \"a\":Language([\"A\",\"B\"],sigma=[\"A\",\"B\"]),\n",
    "    \"b\":Language([\"CC\"],sigma=[\"C\"])\n",
    "},infere_alphabet=True)\n",
    "\n",
    "print(f\"Mapping:\\n{m}\")\n",
    "print(\"Substitution ε: \\n\",m.substitution(\"\"))\n",
    "print(\"Substitution aaba: \\n\",m.substitution(\"aaba\"))"
   ]
  },
  {
   "cell_type": "code",
<<<<<<< HEAD
   "execution_count": 26,
   "metadata": {},
   "outputs": [
    {
     "name": "stdout",
     "output_type": "stream",
     "text": [
      "Substitution L1: \n",
      " {B,A,CC} with Σ={A,B,C}\n",
      "Substitution L1*: \n",
      " {ε,CC,A,B,CCCC,CCB,CCA,ACC,BCC,AA,AB,BB,BA,CCCCCC,CCCCB,CCCCA,CCBCC,CCACC,CCBB,CCBA,CCAB,CCAA,BCCCC,ACCCC,BCCA,BCCB,ACCA,ACCB,AACC,BACC,…} with Σ={A,B,C}\n"
     ]
    }
   ],
=======
   "execution_count": null,
   "metadata": {},
   "outputs": [],
>>>>>>> 5e5fdbfe0a3df4b646adaa8ce3c7e1bf20125eb0
   "source": [
    "#@title substitution of languages\n",
    "\n",
    "print(\"Substitution L1: \\n\",L1.substitution(m))\n",
    "print(\"Substitution L1*: \\n\",L1.star().substitution(m))"
   ]
  },
  {
   "cell_type": "code",
<<<<<<< HEAD
   "execution_count": 5,
   "metadata": {},
   "outputs": [
    {
     "name": "stdout",
     "output_type": "stream",
     "text": [
      "Projection L1 on {{b}}: \n",
      " {ε,b} with Σ={b}\n",
      "Substitution L1*: \n",
      " {ε,b,bb,bbb,…} with Σ={b}\n"
     ]
    }
   ],
=======
   "execution_count": null,
   "metadata": {},
   "outputs": [],
>>>>>>> 5e5fdbfe0a3df4b646adaa8ce3c7e1bf20125eb0
   "source": [
    "#@title projection of a language\n",
    "\n",
    "print(\"Projection L1 on {{b}}: \\n\",L1.projection(['b']))\n",
    "\n",
    "L1.max=4\n",
    "l=L1.star().projection(['b'])\n",
    "print(\"Substitution L1*: \\n\",L1.star().projection(['b']))"
   ]
  },
  {
   "cell_type": "code",
<<<<<<< HEAD
   "execution_count": 3,
   "metadata": {},
   "outputs": [
    {
     "name": "stdout",
     "output_type": "stream",
     "text": [
      "String left quotient\n",
      " \n",
      "String right quotient\n",
      " \n",
      "Left quotient L1\\b: \n",
      " {ε} with Σ={a,b}\n",
      "Right quotient L1/b: \n",
      " {ε} with Σ={a,b}\n",
      "Left quotient L1*\\b: \n",
      " {ε,a,b,aa,ab,ba,bb,aaa,aab,aba,abb,baa,bab,bba,bbb,aaaa,aaab,aaba,aabb,abaa,abab,abba,abbb,baaa,baab,baba,babb,bbaa,bbab,bbba,…} with Σ={a,b}\n",
      "Right quotient L1*/b: \n",
      " {ε,a,b,aa,ab,ba,bb,aaa,aab,aba,abb,baa,bab,bba,bbb,aaaa,aaab,aaba,aabb,abaa,abab,abba,abbb,baaa,baab,baba,babb,bbaa,bbab,bbba,…} with Σ={a,b}\n"
     ]
    }
   ],
=======
   "execution_count": null,
   "metadata": {},
   "outputs": [],
>>>>>>> 5e5fdbfe0a3df4b646adaa8ce3c7e1bf20125eb0
   "source": [
    "#@title quotient\n",
    "\n",
    "print(\"String left quotient\\n\",string_left_quotient(\"aaabaa\",\"b\"))\n",
    "print(\"String right quotient\\n\",string_right_quotient(\"aaabaa\",\"b\"))\n",
    "\n",
    "print(\"Left quotient L1\\\\b: \\n\",L1.left_quotient('b'))\n",
    "print(\"Right quotient L1/b: \\n\",L1.right_quotient('b'))\n",
    "\n",
    "print(\"Left quotient L1*\\\\b: \\n\",L1.star().left_quotient('b'))\n",
    "print(\"Right quotient L1*/b: \\n\",L1.star().right_quotient('b'))"
   ]
  },
  {
   "cell_type": "code",
<<<<<<< HEAD
   "execution_count": 5,
   "metadata": {},
   "outputs": [
    {
     "name": "stdout",
     "output_type": "stream",
     "text": [
      "String left cancellation\n",
      " aa\n",
      "String right cancellation\n",
      " aaa\n",
      "Left cancellation L1\\b: \n",
      " {ε} with Σ={a,b}\n",
      "Right cancellation L1/b: \n",
      " {ε} with Σ={a,b}\n",
      "Left cancellation L1*\\b: \n",
      " {ε,a,b,aa,ab,ba,bb,aaa,aab,aba,abb,baa,bab,bba,bbb,aaaa,aaab,aaba,aabb,abaa,abab,abba,abbb,baaa,baab,baba,babb,bbaa,bbab,bbba,…} with Σ={a,b}\n",
      "Right cancellation L1*/b: \n",
      " {ε,a,b,aa,ab,ba,bb,aaa,aab,aba,abb,baa,bab,bba,bbb,aaaa,aaab,aaba,aabb,abaa,abab,abba,abbb,baaa,baab,baba,babb,bbaa,bbab,bbba,…} with Σ={a,b}\n"
     ]
    }
   ],
   "source": [
    "#@title cancellation\n",
    "\n",
    "print(\"String left cancellation\\n\",string_left_cancellation(\"aaabaa\",\"b\"))\n",
    "print(\"String right cancellation\\n\",string_right_cancellation(\"aaabaa\",\"b\"))\n",
    "\n",
    "print(\"Left cancellation L1\\\\b: \\n\",L1.left_cancellation('b'))\n",
    "print(\"Right cancellation L1/b: \\n\",L1.right_cancellation('b'))\n",
    "\n",
    "print(\"Left cancellation L1*\\\\b: \\n\",L1.star().left_cancellation('b'))\n",
    "print(\"Right cancellation L1*/b: \\n\",L1.star().right_cancellation('b'))"
   ]
  },
  {
   "cell_type": "markdown",
   "metadata": {},
   "source": [
    "## Utilities"
   ]
  },
  {
   "cell_type": "code",
   "execution_count": null,
   "metadata": {},
   "outputs": [],
   "source": [
    "#@title Validate the alphabet of a language\n",
    "\n",
    "L3.star().validate_alphabet()"
=======
   "execution_count": null,
   "metadata": {},
   "outputs": [],
   "source": [
    "print(\"L1*:\",L1.star())\n",
    "print(\"L2*:\",L2.star())\n",
    "print(\"L3*:\",L3.star()) "
>>>>>>> 5e5fdbfe0a3df4b646adaa8ce3c7e1bf20125eb0
   ]
  }
 ],
 "metadata": {
  "kernelspec": {
   "display_name": "Python 3",
   "language": "python",
   "name": "python3"
  },
  "language_info": {
   "codemirror_mode": {
    "name": "ipython",
    "version": 3
   },
   "file_extension": ".py",
   "mimetype": "text/x-python",
   "name": "python",
   "nbconvert_exporter": "python",
   "pygments_lexer": "ipython3",
   "version": "3.6.9"
  }
 },
 "nbformat": 4,
 "nbformat_minor": 2
}
