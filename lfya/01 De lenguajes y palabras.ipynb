{
 "cells": [
  {
   "cell_type": "markdown",
   "metadata": {},
   "source": [
    "[![Open In Colab](https://colab.research.google.com/assets/colab-badge.svg)](https://colab.research.google.com/github/ivanvladimir/maquinas_notebooks/blob/main/lfya/01%20De%20lenguajes%20y%20palabras.ipynb)"
   ]
  },
  {
   "cell_type": "markdown",
   "metadata": {},
   "source": [
    "## 00 Instalando la librería \n",
    "\n",
    "Se instala la librería [maquinas](https://pypi.org/project/maquinas/)\n",
    "\n",
    "**Requerido en colab**, _opcional en ambiente local a través de jupyter_"
   ]
  },
  {
   "cell_type": "code",
   "execution_count": null,
   "metadata": {},
   "outputs": [],
   "source": [
    "!pip install maquinas --upgrade"
   ]
  },
  {
   "cell_type": "markdown",
   "metadata": {},
   "source": [
    "### 01 Importar módulo para manipular lenguajes\n",
    "\n",
    "Existen dos elemento: _Alphabet_ y _Language_"
   ]
  },
  {
   "cell_type": "code",
   "execution_count": null,
   "metadata": {},
   "outputs": [],
   "source": [
    "from maquinas.languages import *"
   ]
  },
  {
   "cell_type": "markdown",
   "metadata": {},
   "source": [
    "## 01 Alphabet\n",
    "\n",
    "_Alphabet_ es la clase para definir [alfabetos](https://ivanvladimir.gitlab.io/lfya_book/docs/01delenguajesypalabras/02b%C3%A1sicos/#alfabeto), en práctica engloba al [set](https://docs.python.org/3.7/library/stdtypes.html#set-types-set-frozenset), todo lo que se pueda hacer con esa librería se puede hacer con _alphabet_"
   ]
  },
  {
   "cell_type": "markdown",
   "metadata": {},
   "source": [
    "### 01.a Crear un alfabeto"
   ]
  },
  {
   "cell_type": "code",
   "execution_count": null,
   "metadata": {},
   "outputs": [],
   "source": [
    "sigma=Alphabet(['a','b'])\n",
    "print(sigma)"
   ]
  },
  {
   "cell_type": "markdown",
   "metadata": {},
   "source": [
    "### 01.b Potencia de un alfabeto\n",
    "\n",
    "Operación de potencia para un [alfabeto](https://ivanvladimir.gitlab.io/lfya_book/docs/01delenguajesypalabras/02b%C3%A1sicos/#potencia-de-un-alfabeto)"
   ]
  },
  {
   "cell_type": "code",
   "execution_count": null,
   "metadata": {},
   "outputs": [],
   "source": [
    "print(\"Power 0:\",sigma.power(0))\n",
    "print(\"Power 1:\",sigma.power(1))\n",
    "print(\"Power 2:\",sigma.power(2))\n",
    "print(\"Power 3:\",sigma.power(3))\n",
    "print(\"Power 4:\",sigma.power(4))"
   ]
  },
  {
   "cell_type": "markdown",
   "metadata": {},
   "source": [
    "### 01.c Σ<sup>∗</sup>\n",
    "\n",
    "Creación de un [lenguaje notable](https://ivanvladimir.gitlab.io/lfya_book/docs/01delenguajesypalabras/02b%C3%A1sicos/#otro-lenguaje-notable)"
   ]
  },
  {
   "cell_type": "code",
   "execution_count": null,
   "metadata": {},
   "outputs": [],
   "source": [
    "print(\"Σ*\",sigma.star())"
   ]
  },
  {
   "cell_type": "markdown",
   "metadata": {},
   "source": [
    "## 02 Language\n",
    "\n",
    "Esta es la clase principal para [lenguajes](https://ivanvladimir.gitlab.io/lfya_book/docs/01delenguajesypalabras/02b%C3%A1sicos/#lenguajes), notar que no existe un objeto para [cadenas](https://ivanvladimir.gitlab.io/lfya_book/docs/01delenguajesypalabras/02b%C3%A1sicos/#lenguajes) porqué usamos directamente las de python."
   ]
  },
  {
   "cell_type": "markdown",
   "metadata": {},
   "source": [
    "### 02.a Creación de un lenguaje"
   ]
  },
  {
   "cell_type": "code",
   "execution_count": null,
   "metadata": {},
   "outputs": [],
   "source": [
    "L1=Language(['a','b'])\n",
    "L2=Language(['c','b'])\n",
    "L3=Language(['','▶','◗'])\n",
    "print(\"Language 1:\",L1)\n",
    "print(\"Language 2:\",L2)\n",
    "print(\"Language 3:\",L3)"
   ]
  },
  {
   "cell_type": "markdown",
   "metadata": {},
   "source": [
    "### 02.b  operaciones de lenguajes\n",
    "\n",
    "Estos son ejemplos de las [operaciones para lenguajes](https://ivanvladimir.gitlab.io/lfya_book/docs/01delenguajesypalabras/03operacioneslenguajes/)"
   ]
  },
  {
   "cell_type": "code",
   "execution_count": null,
   "metadata": {},
   "outputs": [],
   "source": [
    "print(\"L1 ∪ L2:\",L1.union(L2))"
   ]
  },
  {
   "cell_type": "code",
   "execution_count": null,
   "metadata": {},
   "outputs": [],
   "source": [
    "print(\"L1L2:\",L1.concat(L2))"
   ]
  },
  {
   "cell_type": "code",
   "execution_count": null,
   "metadata": {},
   "outputs": [],
   "source": [
    "print(\"L1L2:\",L2.concat(L1))"
   ]
  },
  {
   "cell_type": "code",
   "execution_count": null,
   "metadata": {},
   "outputs": [],
   "source": [
    "print(\"L1L3:\",L1.concat(L3))"
   ]
  },
  {
   "cell_type": "code",
   "execution_count": null,
   "metadata": {},
   "outputs": [],
   "source": [
    "print(\"L3L1:\",L3.concat(L1))"
   ]
  },
  {
   "cell_type": "code",
   "execution_count": null,
   "metadata": {},
   "outputs": [],
   "source": [
    "print(\"L3L1L2:\",L3.concat(L1.concat(L2)))"
   ]
  },
  {
   "cell_type": "code",
   "execution_count": null,
   "metadata": {},
   "outputs": [],
   "source": [
    "print(\"L1*:\",L1.star())\n",
    "print(\"L2*:\",L2.star())\n",
    "print(\"L3*:\",L3.star()) "
   ]
  }
 ],
 "metadata": {
  "kernelspec": {
   "display_name": "Python 3",
   "language": "python",
   "name": "python3"
  },
  "language_info": {
   "codemirror_mode": {
    "name": "ipython",
    "version": 3
   },
   "file_extension": ".py",
   "mimetype": "text/x-python",
   "name": "python",
   "nbconvert_exporter": "python",
   "pygments_lexer": "ipython3",
   "version": "3.6.9"
  }
 },
 "nbformat": 4,
 "nbformat_minor": 2
}
