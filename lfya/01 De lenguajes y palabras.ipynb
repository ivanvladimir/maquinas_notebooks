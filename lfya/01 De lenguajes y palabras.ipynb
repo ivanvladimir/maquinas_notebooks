{
 "cells": [
  {
   "cell_type": "markdown",
   "metadata": {},
   "source": [
    "[![Open In Colab](https://colab.research.google.com/assets/colab-badge.svg)](https://colab.research.google.com/github/ivanvladimir/maquinas_notebooks/blob/main/lfya/01%20De%20lenguajes%20y%20palabras.ipynb)"
   ]
  },
  {
   "cell_type": "code",
   "execution_count": 14,
   "metadata": {},
   "outputs": [
    {
     "name": "stdout",
     "output_type": "stream",
     "text": [
      "Requirement already up-to-date: maquinas in /home/ivanvladimir/projects/maquinas_notebooks/env/lib/python3.6/site-packages\n",
      "Requirement already up-to-date: graphviz in /home/ivanvladimir/projects/maquinas_notebooks/env/lib/python3.6/site-packages (from maquinas)\n",
      "Requirement already up-to-date: ipywidgets in /home/ivanvladimir/projects/maquinas_notebooks/env/lib/python3.6/site-packages (from maquinas)\n",
      "Requirement already up-to-date: IPython in /home/ivanvladimir/projects/maquinas_notebooks/env/lib/python3.6/site-packages (from maquinas)\n",
      "Requirement already up-to-date: ordered_set in /home/ivanvladimir/projects/maquinas_notebooks/env/lib/python3.6/site-packages (from maquinas)\n",
      "Requirement already up-to-date: Pillow in /home/ivanvladimir/projects/maquinas_notebooks/env/lib/python3.6/site-packages (from maquinas)\n",
      "Requirement already up-to-date: TatSu in /home/ivanvladimir/projects/maquinas_notebooks/env/lib/python3.6/site-packages (from maquinas)\n",
      "Requirement already up-to-date: traitlets>=4.3.1 in /home/ivanvladimir/projects/maquinas_notebooks/env/lib/python3.6/site-packages (from ipywidgets->maquinas)\n",
      "Requirement already up-to-date: jupyterlab-widgets>=1.0.0; python_version >= \"3.6\" in /home/ivanvladimir/projects/maquinas_notebooks/env/lib/python3.6/site-packages (from ipywidgets->maquinas)\n",
      "Requirement already up-to-date: widgetsnbextension~=3.5.0 in /home/ivanvladimir/projects/maquinas_notebooks/env/lib/python3.6/site-packages (from ipywidgets->maquinas)\n",
      "Requirement already up-to-date: ipykernel>=4.5.1 in /home/ivanvladimir/projects/maquinas_notebooks/env/lib/python3.6/site-packages (from ipywidgets->maquinas)\n",
      "Requirement already up-to-date: nbformat>=4.2.0 in /home/ivanvladimir/projects/maquinas_notebooks/env/lib/python3.6/site-packages (from ipywidgets->maquinas)\n",
      "Requirement already up-to-date: decorator in /home/ivanvladimir/projects/maquinas_notebooks/env/lib/python3.6/site-packages (from IPython->maquinas)\n",
      "Requirement already up-to-date: jedi>=0.10 in /home/ivanvladimir/projects/maquinas_notebooks/env/lib/python3.6/site-packages (from IPython->maquinas)\n",
      "Requirement already up-to-date: backcall in /home/ivanvladimir/projects/maquinas_notebooks/env/lib/python3.6/site-packages (from IPython->maquinas)\n",
      "Requirement already up-to-date: pexpect; sys_platform != \"win32\" in /home/ivanvladimir/projects/maquinas_notebooks/env/lib/python3.6/site-packages (from IPython->maquinas)\n",
      "Requirement already up-to-date: setuptools>=18.5 in /home/ivanvladimir/projects/maquinas_notebooks/env/lib/python3.6/site-packages (from IPython->maquinas)\n",
      "Requirement already up-to-date: prompt-toolkit!=3.0.0,!=3.0.1,<3.1.0,>=2.0.0 in /home/ivanvladimir/projects/maquinas_notebooks/env/lib/python3.6/site-packages (from IPython->maquinas)\n",
      "Requirement already up-to-date: pickleshare in /home/ivanvladimir/projects/maquinas_notebooks/env/lib/python3.6/site-packages (from IPython->maquinas)\n",
      "Requirement already up-to-date: pygments in /home/ivanvladimir/projects/maquinas_notebooks/env/lib/python3.6/site-packages (from IPython->maquinas)\n",
      "Requirement already up-to-date: six in /home/ivanvladimir/projects/maquinas_notebooks/env/lib/python3.6/site-packages (from traitlets>=4.3.1->ipywidgets->maquinas)\n",
      "Requirement already up-to-date: ipython-genutils in /home/ivanvladimir/projects/maquinas_notebooks/env/lib/python3.6/site-packages (from traitlets>=4.3.1->ipywidgets->maquinas)\n",
      "Requirement already up-to-date: notebook>=4.4.1 in /home/ivanvladimir/projects/maquinas_notebooks/env/lib/python3.6/site-packages (from widgetsnbextension~=3.5.0->ipywidgets->maquinas)\n",
      "Requirement already up-to-date: tornado>=4.2 in /home/ivanvladimir/projects/maquinas_notebooks/env/lib/python3.6/site-packages (from ipykernel>=4.5.1->ipywidgets->maquinas)\n",
      "Requirement already up-to-date: jupyter-client in /home/ivanvladimir/projects/maquinas_notebooks/env/lib/python3.6/site-packages (from ipykernel>=4.5.1->ipywidgets->maquinas)\n",
      "Requirement already up-to-date: jupyter-core in /home/ivanvladimir/projects/maquinas_notebooks/env/lib/python3.6/site-packages (from nbformat>=4.2.0->ipywidgets->maquinas)\n",
      "Requirement already up-to-date: jsonschema!=2.5.0,>=2.4 in /home/ivanvladimir/projects/maquinas_notebooks/env/lib/python3.6/site-packages (from nbformat>=4.2.0->ipywidgets->maquinas)\n",
      "Requirement already up-to-date: parso<0.9.0,>=0.8.0 in /home/ivanvladimir/projects/maquinas_notebooks/env/lib/python3.6/site-packages (from jedi>=0.10->IPython->maquinas)\n",
      "Requirement already up-to-date: ptyprocess>=0.5 in /home/ivanvladimir/projects/maquinas_notebooks/env/lib/python3.6/site-packages (from pexpect; sys_platform != \"win32\"->IPython->maquinas)\n",
      "Requirement already up-to-date: wcwidth in /home/ivanvladimir/projects/maquinas_notebooks/env/lib/python3.6/site-packages (from prompt-toolkit!=3.0.0,!=3.0.1,<3.1.0,>=2.0.0->IPython->maquinas)\n",
      "Requirement already up-to-date: nbconvert in /home/ivanvladimir/projects/maquinas_notebooks/env/lib/python3.6/site-packages (from notebook>=4.4.1->widgetsnbextension~=3.5.0->ipywidgets->maquinas)\n",
      "Requirement already up-to-date: prometheus-client in /home/ivanvladimir/projects/maquinas_notebooks/env/lib/python3.6/site-packages (from notebook>=4.4.1->widgetsnbextension~=3.5.0->ipywidgets->maquinas)\n",
      "Requirement already up-to-date: jinja2 in /home/ivanvladimir/projects/maquinas_notebooks/env/lib/python3.6/site-packages (from notebook>=4.4.1->widgetsnbextension~=3.5.0->ipywidgets->maquinas)\n",
      "Requirement already up-to-date: pyzmq>=17 in /home/ivanvladimir/projects/maquinas_notebooks/env/lib/python3.6/site-packages (from notebook>=4.4.1->widgetsnbextension~=3.5.0->ipywidgets->maquinas)\n",
      "Requirement already up-to-date: Send2Trash>=1.5.0 in /home/ivanvladimir/projects/maquinas_notebooks/env/lib/python3.6/site-packages (from notebook>=4.4.1->widgetsnbextension~=3.5.0->ipywidgets->maquinas)\n",
      "Requirement already up-to-date: argon2-cffi in /home/ivanvladimir/projects/maquinas_notebooks/env/lib/python3.6/site-packages (from notebook>=4.4.1->widgetsnbextension~=3.5.0->ipywidgets->maquinas)\n",
      "Requirement already up-to-date: terminado>=0.8.3 in /home/ivanvladimir/projects/maquinas_notebooks/env/lib/python3.6/site-packages (from notebook>=4.4.1->widgetsnbextension~=3.5.0->ipywidgets->maquinas)\n",
      "Requirement already up-to-date: python-dateutil>=2.1 in /home/ivanvladimir/projects/maquinas_notebooks/env/lib/python3.6/site-packages (from jupyter-client->ipykernel>=4.5.1->ipywidgets->maquinas)\n",
      "Requirement already up-to-date: pyrsistent>=0.14.0 in /home/ivanvladimir/projects/maquinas_notebooks/env/lib/python3.6/site-packages (from jsonschema!=2.5.0,>=2.4->nbformat>=4.2.0->ipywidgets->maquinas)\n",
      "Requirement already up-to-date: importlib-metadata; python_version < \"3.8\" in /home/ivanvladimir/projects/maquinas_notebooks/env/lib/python3.6/site-packages (from jsonschema!=2.5.0,>=2.4->nbformat>=4.2.0->ipywidgets->maquinas)\n",
      "Requirement already up-to-date: attrs>=17.4.0 in /home/ivanvladimir/projects/maquinas_notebooks/env/lib/python3.6/site-packages (from jsonschema!=2.5.0,>=2.4->nbformat>=4.2.0->ipywidgets->maquinas)\n",
      "Requirement already up-to-date: defusedxml in /home/ivanvladimir/projects/maquinas_notebooks/env/lib/python3.6/site-packages (from nbconvert->notebook>=4.4.1->widgetsnbextension~=3.5.0->ipywidgets->maquinas)\n",
      "Requirement already up-to-date: entrypoints>=0.2.2 in /home/ivanvladimir/projects/maquinas_notebooks/env/lib/python3.6/site-packages (from nbconvert->notebook>=4.4.1->widgetsnbextension~=3.5.0->ipywidgets->maquinas)\n",
      "Requirement already up-to-date: pandocfilters>=1.4.1 in /home/ivanvladimir/projects/maquinas_notebooks/env/lib/python3.6/site-packages (from nbconvert->notebook>=4.4.1->widgetsnbextension~=3.5.0->ipywidgets->maquinas)\n",
      "Requirement already up-to-date: mistune<2,>=0.8.1 in /home/ivanvladimir/projects/maquinas_notebooks/env/lib/python3.6/site-packages (from nbconvert->notebook>=4.4.1->widgetsnbextension~=3.5.0->ipywidgets->maquinas)\n",
      "Requirement already up-to-date: bleach in /home/ivanvladimir/projects/maquinas_notebooks/env/lib/python3.6/site-packages (from nbconvert->notebook>=4.4.1->widgetsnbextension~=3.5.0->ipywidgets->maquinas)\n",
      "Requirement already up-to-date: testpath in /home/ivanvladimir/projects/maquinas_notebooks/env/lib/python3.6/site-packages (from nbconvert->notebook>=4.4.1->widgetsnbextension~=3.5.0->ipywidgets->maquinas)\n"
     ]
    },
    {
     "name": "stdout",
     "output_type": "stream",
     "text": [
      "Requirement already up-to-date: jupyterlab-pygments in /home/ivanvladimir/projects/maquinas_notebooks/env/lib/python3.6/site-packages (from nbconvert->notebook>=4.4.1->widgetsnbextension~=3.5.0->ipywidgets->maquinas)\n",
      "Requirement already up-to-date: nbclient<0.6.0,>=0.5.0 in /home/ivanvladimir/projects/maquinas_notebooks/env/lib/python3.6/site-packages (from nbconvert->notebook>=4.4.1->widgetsnbextension~=3.5.0->ipywidgets->maquinas)\n",
      "Requirement already up-to-date: MarkupSafe>=0.23 in /home/ivanvladimir/projects/maquinas_notebooks/env/lib/python3.6/site-packages (from jinja2->notebook>=4.4.1->widgetsnbextension~=3.5.0->ipywidgets->maquinas)\n",
      "Requirement already up-to-date: cffi>=1.0.0 in /home/ivanvladimir/projects/maquinas_notebooks/env/lib/python3.6/site-packages (from argon2-cffi->notebook>=4.4.1->widgetsnbextension~=3.5.0->ipywidgets->maquinas)\n",
      "Requirement already up-to-date: typing-extensions>=3.6.4; python_version < \"3.8\" in /home/ivanvladimir/projects/maquinas_notebooks/env/lib/python3.6/site-packages (from importlib-metadata; python_version < \"3.8\"->jsonschema!=2.5.0,>=2.4->nbformat>=4.2.0->ipywidgets->maquinas)\n",
      "Requirement already up-to-date: zipp>=0.5 in /home/ivanvladimir/projects/maquinas_notebooks/env/lib/python3.6/site-packages (from importlib-metadata; python_version < \"3.8\"->jsonschema!=2.5.0,>=2.4->nbformat>=4.2.0->ipywidgets->maquinas)\n",
      "Requirement already up-to-date: webencodings in /home/ivanvladimir/projects/maquinas_notebooks/env/lib/python3.6/site-packages (from bleach->nbconvert->notebook>=4.4.1->widgetsnbextension~=3.5.0->ipywidgets->maquinas)\n",
      "Requirement already up-to-date: packaging in /home/ivanvladimir/projects/maquinas_notebooks/env/lib/python3.6/site-packages (from bleach->nbconvert->notebook>=4.4.1->widgetsnbextension~=3.5.0->ipywidgets->maquinas)\n",
      "Requirement already up-to-date: async-generator in /home/ivanvladimir/projects/maquinas_notebooks/env/lib/python3.6/site-packages (from nbclient<0.6.0,>=0.5.0->nbconvert->notebook>=4.4.1->widgetsnbextension~=3.5.0->ipywidgets->maquinas)\n",
      "Requirement already up-to-date: nest-asyncio in /home/ivanvladimir/projects/maquinas_notebooks/env/lib/python3.6/site-packages (from nbclient<0.6.0,>=0.5.0->nbconvert->notebook>=4.4.1->widgetsnbextension~=3.5.0->ipywidgets->maquinas)\n",
      "Requirement already up-to-date: pycparser in /home/ivanvladimir/projects/maquinas_notebooks/env/lib/python3.6/site-packages (from cffi>=1.0.0->argon2-cffi->notebook>=4.4.1->widgetsnbextension~=3.5.0->ipywidgets->maquinas)\n",
      "Requirement already up-to-date: pyparsing>=2.0.2 in /home/ivanvladimir/projects/maquinas_notebooks/env/lib/python3.6/site-packages (from packaging->bleach->nbconvert->notebook>=4.4.1->widgetsnbextension~=3.5.0->ipywidgets->maquinas)\n"
     ]
    }
   ],
   "source": [
    "!pip install maquinas --upgrade"
   ]
  },
  {
   "cell_type": "code",
   "execution_count": 2,
   "metadata": {},
   "outputs": [],
   "source": [
    "from maquinas.languages import *"
   ]
  },
  {
   "cell_type": "code",
   "execution_count": 3,
   "metadata": {},
   "outputs": [
    {
     "name": "stdout",
     "output_type": "stream",
     "text": [
      "Alphabet({'b', 'a'})\n"
     ]
    }
   ],
   "source": [
    "sigma=Alphabet(['a','b'])\n",
    "print(sigma)"
   ]
  },
  {
   "cell_type": "code",
   "execution_count": 4,
   "metadata": {},
   "outputs": [
    {
     "name": "stdout",
     "output_type": "stream",
     "text": [
      "Power 0: {ε}\n",
      "Power 1: {b,a}\n",
      "Power 2: {aa,ab,ba,bb}\n",
      "Power 3: {bbb,abb,aba,baa,bab,bba,aab,aaa}\n",
      "Power 4: {aabb,baaa,baba,baab,abab,aaaa,bbab,bbbb,abaa,bbba,abba,bbaa,aaba,abbb,aaab,babb}\n"
     ]
    }
   ],
   "source": [
    "print(\"Power 0:\",sigma.power(0))\n",
    "print(\"Power 1:\",sigma.power(1))\n",
    "print(\"Power 2:\",sigma.power(2))\n",
    "print(\"Power 3:\",sigma.power(3))\n",
    "print(\"Power 4:\",sigma.power(4))"
   ]
  },
  {
   "cell_type": "code",
   "execution_count": 5,
   "metadata": {},
   "outputs": [
    {
     "name": "stdout",
     "output_type": "stream",
     "text": [
      "Σ* {ε,b,a,bb,ba,ab,aa,bbb,bba,bab,baa,abb,aba,aab,aaa,bbbb,bbba,bbab,bbaa,babb,baba,baab,baaa,abbb,abba,abab,abaa,aabb,aaba,aaab,…}\n"
     ]
    }
   ],
   "source": [
    "print(\"Σ*\",sigma.star())"
   ]
  },
  {
   "cell_type": "markdown",
   "metadata": {},
   "source": [
    "## Languages"
   ]
  },
  {
   "cell_type": "code",
   "execution_count": 6,
   "metadata": {},
   "outputs": [
    {
     "name": "stdout",
     "output_type": "stream",
     "text": [
      "Language 1: {b,a}\n",
      "Language 2: {b,c}\n",
      "Language 3: {ε,▶,◗}\n"
     ]
    }
   ],
   "source": [
    "L1=Language(['a','b'])\n",
    "L2=Language(['c','b'])\n",
    "L3=Language(['','▶','◗'])\n",
    "print(\"Language 1:\",L1)\n",
    "print(\"Language 2:\",L2)\n",
    "print(\"Language 3:\",L3)"
   ]
  },
  {
   "cell_type": "code",
   "execution_count": 7,
   "metadata": {},
   "outputs": [
    {
     "name": "stdout",
     "output_type": "stream",
     "text": [
      "L1 ∪ L2: {b,a,c}\n"
     ]
    }
   ],
   "source": [
    "print(\"L1 ∪ L2:\",L1.union(L2))"
   ]
  },
  {
   "cell_type": "code",
   "execution_count": 8,
   "metadata": {},
   "outputs": [
    {
     "name": "stdout",
     "output_type": "stream",
     "text": [
      "L1L2: {bc,ac,ab,bb}\n"
     ]
    }
   ],
   "source": [
    "print(\"L1L2:\",L1.concat(L2))"
   ]
  },
  {
   "cell_type": "code",
   "execution_count": 9,
   "metadata": {},
   "outputs": [
    {
     "name": "stdout",
     "output_type": "stream",
     "text": [
      "L1L2: {cb,ca,ba,bb}\n"
     ]
    }
   ],
   "source": [
    "print(\"L1L2:\",L2.concat(L1))"
   ]
  },
  {
   "cell_type": "code",
   "execution_count": 10,
   "metadata": {},
   "outputs": [
    {
     "name": "stdout",
     "output_type": "stream",
     "text": [
      "L1L3: {b,a,b◗,b▶,a▶,a◗}\n"
     ]
    }
   ],
   "source": [
    "print(\"L1L3:\",L1.concat(L3))"
   ]
  },
  {
   "cell_type": "code",
   "execution_count": 11,
   "metadata": {},
   "outputs": [
    {
     "name": "stdout",
     "output_type": "stream",
     "text": [
      "L3L1: {▶b,b,▶a,◗b,a,◗a}\n"
     ]
    }
   ],
   "source": [
    "print(\"L3L1:\",L3.concat(L1))"
   ]
  },
  {
   "cell_type": "code",
   "execution_count": 12,
   "metadata": {},
   "outputs": [
    {
     "name": "stdout",
     "output_type": "stream",
     "text": [
      "L3L1L2: {▶bb,▶ac,ac,◗ac,◗bb,bb,◗bc,▶ab,◗ab,ab,▶bc,bc}\n"
     ]
    }
   ],
   "source": [
    "print(\"L3L1L2:\",L3.concat(L1.concat(L2)))"
   ]
  },
  {
   "cell_type": "code",
   "execution_count": 13,
   "metadata": {},
   "outputs": [
    {
     "name": "stdout",
     "output_type": "stream",
     "text": [
      "L1*: {ε,b,a,bb,ba,ab,aa,bbb,bba,bab,baa,abb,aba,aab,aaa,bbbb,bbba,bbab,bbaa,babb,baba,baab,baaa,abbb,abba,abab,abaa,aabb,aaba,aaab,…}\n",
      "L2*: {ε,b,c,bb,bc,cb,cc,bbb,bbc,bcb,bcc,cbb,cbc,ccb,ccc,bbbb,bbbc,bbcb,bbcc,bcbb,bcbc,bccb,bccc,cbbb,cbbc,cbcb,cbcc,ccbb,ccbc,cccb,…}\n",
      "L3*: {ε,▶,◗,▶▶,▶◗,◗▶,◗◗,▶▶▶,▶▶◗,▶◗▶,▶◗◗,◗▶▶,◗▶◗,◗◗▶,◗◗◗,▶▶▶▶,▶▶▶◗,▶▶◗▶,▶▶◗◗,▶◗▶▶,▶◗▶◗,▶◗◗▶,▶◗◗◗,◗▶▶▶,◗▶▶◗,◗▶◗▶,◗▶◗◗,◗◗▶▶,◗◗▶◗,◗◗◗▶,…}\n"
     ]
    }
   ],
   "source": [
    "print(\"L1*:\",L1.star())\n",
    "print(\"L2*:\",L2.star())\n",
    "print(\"L3*:\",L3.star()) #It has an error and loops"
   ]
  }
 ],
 "metadata": {
  "kernelspec": {
   "display_name": "Python 3",
   "language": "python",
   "name": "python3"
  },
  "language_info": {
   "codemirror_mode": {
    "name": "ipython",
    "version": 3
   },
   "file_extension": ".py",
   "mimetype": "text/x-python",
   "name": "python",
   "nbconvert_exporter": "python",
   "pygments_lexer": "ipython3",
   "version": "3.6.9"
  }
 },
 "nbformat": 4,
 "nbformat_minor": 2
}
