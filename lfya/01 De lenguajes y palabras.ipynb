{
 "cells": [
  {
   "cell_type": "markdown",
   "metadata": {},
   "source": [
    "[![Open In Colab](https://colab.research.google.com/assets/colab-badge.svg)](https://colab.research.google.com/github/ivanvladimir/maquinas_notebooks/blob/main/lfya/01%20De%20lenguajes%20y%20palabras.ipynb)"
   ]
  },
  {
   "cell_type": "markdown",
   "metadata": {},
   "source": [
    "### 00 Instalando la librería \n",
    "\n",
    "Se instala la librería [maquinas](https://pypi.org/project/maquinas/)\n",
    "\n",
    "**Requerido en colab**, _opcional en ambiente local a través de jupyter_"
   ]
  },
  {
   "cell_type": "code",
   "execution_count": null,
   "metadata": {},
   "outputs": [],
   "source": [
    "!pip install maquinas --upgrade"
   ]
  },
  {
   "cell_type": "markdown",
   "metadata": {},
   "source": [
    "### 01 Importar módulo para manipular lenguajes\n",
    "\n",
    "Existen tres elemento: _Alphabet_, _Language_ y _Mapping_ que funciona para la operación de substitución de cadenas"
   ]
  },
  {
   "cell_type": "code",
   "execution_count": 1,
   "metadata": {},
   "outputs": [],
   "source": [
    "from maquinas.languages import *"
   ]
  },
  {
   "cell_type": "markdown",
   "metadata": {},
   "source": [
    "## 01 Alphabet\n",
    "\n",
    "_Alphabet_ es la clase para definir [alfabetos](https://ivanvladimir.gitlab.io/lfya_book/docs/01delenguajesypalabras/02b%C3%A1sicos/#alfabeto), en práctica engloba al [set](https://docs.python.org/3.7/library/stdtypes.html#set-types-set-frozenset), todo lo que se pueda hacer con esa librería se puede hacer con _alphabet_"
   ]
  },
  {
   "cell_type": "markdown",
   "metadata": {},
   "source": [
    "### 01.a Crear un alfabeto"
   ]
  },
  {
   "cell_type": "code",
   "execution_count": 2,
   "metadata": {},
   "outputs": [
    {
     "name": "stdout",
     "output_type": "stream",
     "text": [
      "{a, b}\n"
     ]
    }
   ],
   "source": [
    "sigma=Alphabet(['a','b'])\n",
    "print(sigma)"
   ]
  },
  {
   "cell_type": "markdown",
   "metadata": {},
   "source": [
    "### 01.b Potencia de un alfabeto\n",
    "\n",
    "Operación de potencia para un [alfabeto](https://ivanvladimir.gitlab.io/lfya_book/docs/01delenguajesypalabras/02b%C3%A1sicos/#potencia-de-un-alfabeto)"
   ]
  },
  {
   "cell_type": "code",
   "execution_count": 3,
   "metadata": {},
   "outputs": [
    {
     "name": "stdout",
     "output_type": "stream",
     "text": [
      "Power 0: {ε} with Σ={a,b}\n",
      "Power 1: {a,b} with Σ={a,b}\n",
      "Power 2: {aa,bb,ab,ba} with Σ={a,b}\n",
      "Power 3: {aaa,aab,abb,baa,bab,bbb,aba,bba} with Σ={a,b}\n",
      "Power 4: {aaaa,abab,bbaa,bbab,babb,baab,abba,abbb,aaba,baaa,bbba,bbbb,aabb,aaab,baba,abaa} with Σ={a,b}\n"
     ]
    }
   ],
   "source": [
    "print(\"Power 0:\",sigma.power(0))\n",
    "print(\"Power 1:\",sigma.power(1))\n",
    "print(\"Power 2:\",sigma.power(2))\n",
    "print(\"Power 3:\",sigma.power(3))\n",
    "print(\"Power 4:\",sigma.power(4))"
   ]
  },
  {
   "cell_type": "markdown",
   "metadata": {},
   "source": [
    "### 01.c El lenguaje Σ<sup>∗</sup>\n",
    "\n",
    "Creación de un [lenguaje notable](https://ivanvladimir.gitlab.io/lfya_book/docs/01delenguajesypalabras/02b%C3%A1sicos/#otro-lenguaje-notable) a partir de un alfabeto"
   ]
  },
  {
   "cell_type": "code",
   "execution_count": 4,
   "metadata": {},
   "outputs": [
    {
     "name": "stdout",
     "output_type": "stream",
     "text": [
      "Σ*= {ε,a,b,aa,ab,ba,bb,aaa,aab,aba,abb,baa,bab,bba,bbb,aaaa,aaab,aaba,aabb,abaa,abab,abba,abbb,baaa,baab,baba,babb,bbaa,bbab,bbba,…} with Σ={a,b}\n"
     ]
    }
   ],
   "source": [
    "print(\"Σ*=\",sigma.star())"
   ]
  },
  {
   "cell_type": "markdown",
   "metadata": {},
   "source": [
    "## 02 Language\n",
    "\n",
    "Esta es la clase principal para [lenguajes](https://ivanvladimir.gitlab.io/lfya_book/docs/01delenguajesypalabras/02b%C3%A1sicos/#lenguajes), notar que no existe un objeto para [cadenas](https://ivanvladimir.gitlab.io/lfya_book/docs/01delenguajesypalabras/02b%C3%A1sicos/#lenguajes) porqué usamos directamente las de python."
   ]
  },
  {
   "cell_type": "markdown",
   "metadata": {},
   "source": [
    "### 02.a Creación de un lenguaje"
   ]
  },
  {
   "cell_type": "code",
   "execution_count": 5,
   "metadata": {},
   "outputs": [
    {
     "name": "stdout",
     "output_type": "stream",
     "text": [
      "Lenguaje 1: {a,b} with Σ={a,b}\n",
      "Lenguaje 2: {b,c} with Σ={a,b,c}\n",
      "Lenguaje 3: {ε,◗,▶} with Σ={◗,▶}\n"
     ]
    }
   ],
   "source": [
    "L1=Language(['a','b'], sigma=sigma)\n",
    "L2=Language(['c','b'], sigma=['a','b','c'])\n",
    "L3=Language(['','▶','◗'], sigma=[\"▶\",\"◗\"])\n",
    "print(\"Lenguaje 1:\",L1)\n",
    "print(\"Lenguaje 2:\",L2)\n",
    "print(\"Lenguaje 3:\",L3)"
   ]
  },
  {
   "cell_type": "markdown",
   "metadata": {},
   "source": [
    "### 02.b  Operaciones de lenguajes\n",
    "\n",
    "Estos son ejemplos de las [operaciones para lenguajes](https://ivanvladimir.gitlab.io/lfya_book/docs/01delenguajesypalabras/03operacioneslenguajes/)"
   ]
  },
  {
   "cell_type": "markdown",
   "metadata": {},
   "source": [
    "#### Union"
   ]
  },
  {
   "cell_type": "code",
   "execution_count": 6,
   "metadata": {},
   "outputs": [
    {
     "name": "stdout",
     "output_type": "stream",
     "text": [
      "L1 ∪ L2:\n",
      " {a,b,c} with Σ={a,b,c}\n",
      "L1 ∪ L3:\n",
      " {a,ε,b,◗,▶} with Σ={a,◗,b,▶}\n",
      "L2 ∪ L3:\n",
      " {ε,b,c,◗,▶} with Σ={a,b,c,◗,▶}\n"
     ]
    }
   ],
   "source": [
    "print(\"L1 ∪ L2:\\n\",L1.union(L2))\n",
    "print(\"L1 ∪ L3:\\n\",L1.union(L3))\n",
    "print(\"L2 ∪ L3:\\n\",L2.union(L3))"
   ]
  },
  {
   "cell_type": "markdown",
   "metadata": {},
   "source": [
    "#### Concatenation"
   ]
  },
  {
   "cell_type": "code",
   "execution_count": 7,
   "metadata": {},
   "outputs": [
    {
     "name": "stdout",
     "output_type": "stream",
     "text": [
      "L1L2:\n",
      " {ac,bb,ab,bc} with Σ={a,b,c}\n",
      "L1L2:\n",
      " {bb,cb,ca,ba} with Σ={a,b,c}\n",
      "L1L3:\n",
      " {a,b▶,b,b◗,a▶,a◗} with Σ={a,◗,b,▶}\n",
      "L3L1:\n",
      " {a,▶a,b,◗b,◗a,▶b} with Σ={a,◗,b,▶}\n",
      "L3L1L2:\n",
      " {◗bc,ac,◗ac,▶bc,▶bb,ab,bc,◗ab,bb,▶ab,▶ac,◗bb} with Σ={a,b,c,◗,▶}\n"
     ]
    }
   ],
   "source": [
    "print(\"L1L2:\\n\",L1.concat(L2))\n",
    "print(\"L1L2:\\n\",L2.concat(L1))\n",
    "print(\"L1L3:\\n\",L1.concat(L3))\n",
    "print(\"L3L1:\\n\",L3.concat(L1))\n",
    "print(\"L3L1L2:\\n\",L3.concat(L1.concat(L2)))"
   ]
  },
  {
   "cell_type": "markdown",
   "metadata": {},
   "source": [
    "#### Cerradura estrella"
   ]
  },
  {
   "cell_type": "code",
   "execution_count": 8,
   "metadata": {},
   "outputs": [
    {
     "name": "stdout",
     "output_type": "stream",
     "text": [
      "L1*:\n",
      " {ε,a,b,aa,ab,ba,bb,aaa,aab,aba,abb,baa,bab,bba,bbb,aaaa,aaab,aaba,aabb,abaa,abab,abba,abbb,baaa,baab,baba,babb,bbaa,bbab,bbba,…} with Σ={a,b}\n",
      "L2*:\n",
      " {ε,b,c,bb,bc,cb,cc,bbb,bbc,bcb,bcc,cbb,cbc,ccb,ccc,bbbb,bbbc,bbcb,bbcc,bcbb,bcbc,bccb,bccc,cbbb,cbbc,cbcb,cbcc,ccbb,ccbc,cccb,…} with Σ={a,b,c}\n",
      "L3*:\n",
      " {ε,◗,▶,◗◗,◗▶,▶◗,▶▶,◗◗◗,◗◗▶,◗▶◗,◗▶▶,▶◗◗,▶◗▶,▶▶◗,▶▶▶,◗◗◗◗,◗◗◗▶,◗◗▶◗,◗◗▶▶,◗▶◗◗,◗▶◗▶,◗▶▶◗,◗▶▶▶,▶◗◗◗,▶◗◗▶,▶◗▶◗,▶◗▶▶,▶▶◗◗,▶▶◗▶,▶▶▶◗,…} with Σ={◗,▶}\n"
     ]
    }
   ],
   "source": [
    "print(\"L1*:\\n\",L1.star())\n",
    "print(\"L2*:\\n\",L2.star())\n",
    "print(\"L3*:\\n\",L3.star())"
   ]
  },
  {
   "cell_type": "markdown",
   "metadata": {},
   "source": [
    "#### Cerradura más"
   ]
  },
  {
   "cell_type": "code",
   "execution_count": 9,
   "metadata": {},
   "outputs": [
    {
     "name": "stdout",
     "output_type": "stream",
     "text": [
      "L1*:\n",
      " {a,b,aa,ab,ba,bb,aaa,aab,aba,abb,baa,bab,bba,bbb,aaaa,aaab,aaba,aabb,abaa,abab,abba,abbb,baaa,baab,baba,babb,bbaa,bbab,bbba,bbbb,…} with Σ={a,b}\n",
      "L2*:\n",
      " {b,c,bb,bc,cb,cc,bbb,bbc,bcb,bcc,cbb,cbc,ccb,ccc,bbbb,bbbc,bbcb,bbcc,bcbb,bcbc,bccb,bccc,cbbb,cbbc,cbcb,cbcc,ccbb,ccbc,cccb,cccc,…} with Σ={a,b,c}\n",
      "L3*:\n",
      " {ε,◗,▶,ε,◗,▶,◗◗,◗▶,▶◗,▶▶,◗◗◗,◗◗▶,◗▶◗,◗▶▶,▶◗◗,▶◗▶,▶▶◗,▶▶▶,◗◗◗◗,◗◗◗▶,◗◗▶◗,◗◗▶▶,◗▶◗◗,◗▶◗▶,◗▶▶◗,◗▶▶▶,▶◗◗◗,▶◗◗▶,▶◗▶◗,▶◗▶▶,…} with Σ={◗,▶}\n"
     ]
    }
   ],
   "source": [
    "print(\"L1*:\\n\",L1.plus())\n",
    "print(\"L2*:\\n\",L2.plus())\n",
    "print(\"L3*:\\n\",L3.plus())"
   ]
  },
  {
   "cell_type": "markdown",
   "metadata": {},
   "source": [
    "#### Unión casos para finito vs infinito"
   ]
  },
  {
   "cell_type": "code",
   "execution_count": 10,
   "metadata": {},
   "outputs": [
    {
     "name": "stdout",
     "output_type": "stream",
     "text": [
      "L3* ∪ L1 :\n",
      " {ε,a,◗,b,▶,◗◗,◗▶,▶◗,▶▶,◗◗◗,◗◗▶,◗▶◗,◗▶▶,▶◗◗,▶◗▶,▶▶◗,▶▶▶,◗◗◗◗,◗◗◗▶,◗◗▶◗,◗◗▶▶,◗▶◗◗,◗▶◗▶,◗▶▶◗,◗▶▶▶,▶◗◗◗,▶◗◗▶,▶◗▶◗,▶◗▶▶,▶▶◗◗,…} with Σ={a,◗,b,▶}\n",
      "L3  ∪ L1*:\n",
      " {ε,◗,a,▶,b,aa,ab,ba,bb,aaa,aab,aba,abb,baa,bab,bba,bbb,aaaa,aaab,aaba,aabb,abaa,abab,abba,abbb,baaa,baab,baba,babb,bbaa,…} with Σ={a,◗,b,▶}\n",
      "L3* ∪ L1*:\n",
      " {ε,◗,a,▶,b,◗◗,aa,◗▶,ab,▶◗,ba,▶▶,bb,◗◗◗,aaa,◗◗▶,aab,◗▶◗,aba,◗▶▶,abb,▶◗◗,baa,▶◗▶,bab,▶▶◗,bba,▶▶▶,bbb,◗◗◗◗,…} with Σ={a,◗,b,▶}\n"
     ]
    }
   ],
   "source": [
    "print(\"L3* ∪ L1 :\\n\",L3.star().union(L1))\n",
    "print(\"L3  ∪ L1*:\\n\",L3.union(L1.star()))\n",
    "print(\"L3* ∪ L1*:\\n\",L3.star().union(L1.star()))"
   ]
  },
  {
   "cell_type": "markdown",
   "metadata": {},
   "source": [
    "####   Intersection casos para finito vs infinito"
   ]
  },
  {
   "cell_type": "code",
   "execution_count": 11,
   "metadata": {
    "scrolled": true
   },
   "outputs": [
    {
     "name": "stdout",
     "output_type": "stream",
     "text": [
      "L3* ∩ L3 :\n",
      " {ε,◗,▶} with Σ={◗,▶}\n",
      "L3  ∩ L3*:\n",
      " {ε,◗,▶} with Σ={◗,▶}\n",
      "L3* ∩ L3*:\n",
      " {ε,◗,▶,◗◗,◗▶,▶◗,▶▶,◗◗◗,◗◗▶,◗▶◗,◗▶▶,▶◗◗,▶◗▶,▶▶◗,▶▶▶,◗◗◗◗,◗◗◗▶,◗◗▶◗,◗◗▶▶,◗▶◗◗,◗▶◗▶,◗▶▶◗,◗▶▶▶,▶◗◗◗,▶◗◗▶,▶◗▶◗,▶◗▶▶,▶▶◗◗,▶▶◗▶,▶▶▶◗,…} with Σ={◗,▶}\n"
     ]
    }
   ],
   "source": [
    "print(\"L3* ∩ L3 :\\n\",L3.star().intersection(L3))\n",
    "print(\"L3  ∩ L3*:\\n\",L3.intersection(L3.star()))\n",
    "print(\"L3* ∩ L3*:\\n\",L3.star().intersection(L3.star()))"
   ]
  },
  {
   "cell_type": "markdown",
   "metadata": {},
   "source": [
    "### Más lenguajes notables\n",
    "\n",
    "\n",
    "Dos [lenguajes notables](https://ivanvladimir.gitlab.io/lfya_book/docs/01delenguajesypalabras/02b%C3%A1sicos/#lenguajes-notables) y uno normal"
   ]
  },
  {
   "cell_type": "code",
   "execution_count": 12,
   "metadata": {},
   "outputs": [
    {
     "name": "stdout",
     "output_type": "stream",
     "text": [
      "Lenguaje vacío:\n",
      " ∅ Σ={a,b}\n",
      "Lenguaje de la cadena vacía:\n",
      " {ε} with Σ={a,b}\n",
      "Lenguaje de un sólo símbolo:\n",
      " {a} with Σ={a,b}\n"
     ]
    }
   ],
   "source": [
    "Ø=empty_language(['a','b'])\n",
    "ε=empty_string_language(['a','b'])\n",
    "a=Language(['a'],['a','b'])\n",
    "\n",
    "print(\"Lenguaje vacío:\\n\",Ø)\n",
    "print(\"Lenguaje de la cadena vacía:\\n\",ε)\n",
    "print(\"Lenguaje de un sólo símbolo:\\n\",a)"
   ]
  },
  {
   "cell_type": "markdown",
   "metadata": {},
   "source": [
    "#### Concatenation"
   ]
  },
  {
   "cell_type": "code",
   "execution_count": 13,
   "metadata": {},
   "outputs": [
    {
     "name": "stdout",
     "output_type": "stream",
     "text": [
      "ØØ:\n",
      " ∅ Σ={a,b}\n",
      "εε:\n",
      " {ε} with Σ={}\n",
      "aa:\n",
      " {aa} with Σ={a,b}\n",
      "Øε:\n",
      " ∅ Σ={a,b}\n",
      "εØ:\n",
      " ∅ Σ={a,b}\n",
      "Øa:\n",
      " ∅ Σ={a,b}\n",
      "aØ:\n",
      " ∅ Σ={a,b}\n",
      "εa:\n",
      " {a} with Σ={}\n",
      "aε:\n",
      " {a} with Σ={}\n"
     ]
    }
   ],
   "source": [
    "print(\"ØØ:\\n\",Ø.concat(Ø))\n",
    "print(\"εε:\\n\",ε.concat(ε))\n",
    "print(\"aa:\\n\",a.concat(a))\n",
    "print(\"Øε:\\n\",Ø.concat(ε))\n",
    "print(\"εØ:\\n\",ε.concat(Ø))\n",
    "print(\"Øa:\\n\",Ø.concat(a))\n",
    "print(\"aØ:\\n\",a.concat(Ø))\n",
    "print(\"εa:\\n\",ε.concat(a))\n",
    "print(\"aε:\\n\",a.concat(ε))"
   ]
  },
  {
   "cell_type": "markdown",
   "metadata": {},
   "source": [
    "#### Concatenación casos con lenguaje infinito"
   ]
  },
  {
   "cell_type": "code",
   "execution_count": 14,
   "metadata": {},
   "outputs": [
    {
     "name": "stdout",
     "output_type": "stream",
     "text": [
      "εa*:\n",
      " {ε,a,aa,aaa,aaaa,aaaaa,aaaaaa,aaaaaaa,aaaaaaaa,aaaaaaaaa,aaaaaaaaaa,aaaaaaaaaaa,aaaaaaaaaaaa,aaaaaaaaaaaaa,aaaaaaaaaaaaaa,aaaaaaaaaaaaaaa,aaaaaaaaaaaaaaaa,aaaaaaaaaaaaaaaaa,aaaaaaaaaaaaaaaaaa,aaaaaaaaaaaaaaaaaaa,aaaaaaaaaaaaaaaaaaaa,aaaaaaaaaaaaaaaaaaaaa,aaaaaaaaaaaaaaaaaaaaaa,aaaaaaaaaaaaaaaaaaaaaaa,aaaaaaaaaaaaaaaaaaaaaaaa,aaaaaaaaaaaaaaaaaaaaaaaaa,aaaaaaaaaaaaaaaaaaaaaaaaaa,aaaaaaaaaaaaaaaaaaaaaaaaaaa,aaaaaaaaaaaaaaaaaaaaaaaaaaaa,aaaaaaaaaaaaaaaaaaaaaaaaaaaaa,…} with Σ={}\n",
      "a*ε:\n",
      " {ε,a,aa,aaa,aaaa,aaaaa,aaaaaa,aaaaaaa,aaaaaaaa,aaaaaaaaa,aaaaaaaaaa,aaaaaaaaaaa,aaaaaaaaaaaa,aaaaaaaaaaaaa,aaaaaaaaaaaaaa,aaaaaaaaaaaaaaa,aaaaaaaaaaaaaaaa,aaaaaaaaaaaaaaaaa,aaaaaaaaaaaaaaaaaa,aaaaaaaaaaaaaaaaaaa,aaaaaaaaaaaaaaaaaaaa,aaaaaaaaaaaaaaaaaaaaa,aaaaaaaaaaaaaaaaaaaaaa,aaaaaaaaaaaaaaaaaaaaaaa,aaaaaaaaaaaaaaaaaaaaaaaa,aaaaaaaaaaaaaaaaaaaaaaaaa,aaaaaaaaaaaaaaaaaaaaaaaaaa,aaaaaaaaaaaaaaaaaaaaaaaaaaa,aaaaaaaaaaaaaaaaaaaaaaaaaaaa,aaaaaaaaaaaaaaaaaaaaaaaaaaaaa,…} with Σ={}\n",
      "Øa*:\n",
      " ∅ Σ={a,b}\n",
      "a*Ø:\n",
      " ∅ Σ={a,b}\n",
      "εa⁺:\n",
      " {a,aa,aaa,aaaa,aaaaa,aaaaaa,aaaaaaa,aaaaaaaa,aaaaaaaaa,aaaaaaaaaa,aaaaaaaaaaa,aaaaaaaaaaaa,aaaaaaaaaaaaa,aaaaaaaaaaaaaa,aaaaaaaaaaaaaaa,aaaaaaaaaaaaaaaa,aaaaaaaaaaaaaaaaa,aaaaaaaaaaaaaaaaaa,aaaaaaaaaaaaaaaaaaa,aaaaaaaaaaaaaaaaaaaa,aaaaaaaaaaaaaaaaaaaaa,aaaaaaaaaaaaaaaaaaaaaa,aaaaaaaaaaaaaaaaaaaaaaa,aaaaaaaaaaaaaaaaaaaaaaaa,aaaaaaaaaaaaaaaaaaaaaaaaa,aaaaaaaaaaaaaaaaaaaaaaaaaa,aaaaaaaaaaaaaaaaaaaaaaaaaaa,aaaaaaaaaaaaaaaaaaaaaaaaaaaa,aaaaaaaaaaaaaaaaaaaaaaaaaaaaa,aaaaaaaaaaaaaaaaaaaaaaaaaaaaaa,…} with Σ={}\n",
      "a⁺ε:\n",
      " {a,aa,aaa,aaaa,aaaaa,aaaaaa,aaaaaaa,aaaaaaaa,aaaaaaaaa,aaaaaaaaaa,aaaaaaaaaaa,aaaaaaaaaaaa,aaaaaaaaaaaaa,aaaaaaaaaaaaaa,aaaaaaaaaaaaaaa,aaaaaaaaaaaaaaaa,aaaaaaaaaaaaaaaaa,aaaaaaaaaaaaaaaaaa,aaaaaaaaaaaaaaaaaaa,aaaaaaaaaaaaaaaaaaaa,aaaaaaaaaaaaaaaaaaaaa,aaaaaaaaaaaaaaaaaaaaaa,aaaaaaaaaaaaaaaaaaaaaaa,aaaaaaaaaaaaaaaaaaaaaaaa,aaaaaaaaaaaaaaaaaaaaaaaaa,aaaaaaaaaaaaaaaaaaaaaaaaaa,aaaaaaaaaaaaaaaaaaaaaaaaaaa,aaaaaaaaaaaaaaaaaaaaaaaaaaaa,aaaaaaaaaaaaaaaaaaaaaaaaaaaaa,aaaaaaaaaaaaaaaaaaaaaaaaaaaaaa,…} with Σ={}\n",
      "Øa⁺:\n",
      " ∅ Σ={a,b}\n",
      "a⁺Ø:\n",
      " ∅ Σ={a,b}\n"
     ]
    }
   ],
   "source": [
    "print(\"εa*:\\n\",ε.concat(a.star()))\n",
    "print(\"a*ε:\\n\",a.star().concat(ε))\n",
    "print(\"Øa*:\\n\",Ø.concat(a.star()))\n",
    "print(\"a*Ø:\\n\",a.star().concat(Ø))\n",
    "print(\"εa⁺:\\n\",ε.concat(a.plus()))\n",
    "print(\"a⁺ε:\\n\",a.plus().concat(ε))\n",
    "print(\"Øa⁺:\\n\",Ø.concat(a.plus()))\n",
    "print(\"a⁺Ø:\\n\",a.plus().concat(Ø))"
   ]
  },
  {
   "cell_type": "markdown",
   "metadata": {},
   "source": [
    "#### Unión"
   ]
  },
  {
   "cell_type": "code",
   "execution_count": 15,
   "metadata": {},
   "outputs": [
    {
     "name": "stdout",
     "output_type": "stream",
     "text": [
      "Ø ∪ Ø:\n",
      " ∅ Σ={a,b}\n",
      "ε ∪ ε:\n",
      " {ε} with Σ={a,b}\n",
      "a ∪ a:\n",
      " {a} with Σ={a,b}\n",
      "Ø ∪ ε:\n",
      " {ε} with Σ={a,b}\n",
      "ε ∪ Ø:\n",
      " {ε} with Σ={a,b}\n",
      "Ø ∪ a:\n",
      " {a} with Σ={a,b}\n",
      "a ∪ Ø:\n",
      " {a} with Σ={a,b}\n",
      "ε ∪ a:\n",
      " {ε,a} with Σ={a,b}\n",
      "a ∪ ε:\n",
      " {a,ε} with Σ={a,b}\n"
     ]
    }
   ],
   "source": [
    "print(\"Ø ∪ Ø:\\n\",Ø.union(Ø))\n",
    "print(\"ε ∪ ε:\\n\",ε.union(ε))\n",
    "print(\"a ∪ a:\\n\",a.union(a))\n",
    "print(\"Ø ∪ ε:\\n\",Ø.union(ε))\n",
    "print(\"ε ∪ Ø:\\n\",ε.union(Ø))\n",
    "print(\"Ø ∪ a:\\n\",Ø.union(a))\n",
    "print(\"a ∪ Ø:\\n\",a.union(Ø))\n",
    "print(\"ε ∪ a:\\n\",ε.union(a))\n",
    "print(\"a ∪ ε:\\n\",a.union(ε))"
   ]
  },
  {
   "cell_type": "markdown",
   "metadata": {},
   "source": [
    "#### Unión casos con lenguaje infinito"
   ]
  },
  {
   "cell_type": "code",
   "execution_count": 16,
   "metadata": {},
   "outputs": [
    {
     "name": "stdout",
     "output_type": "stream",
     "text": [
      "ε  ∪ a*:\n",
      " {ε,a,aa,aaa,aaaa,aaaaa,aaaaaa,aaaaaaa,aaaaaaaa,aaaaaaaaa,aaaaaaaaaa,aaaaaaaaaaa,aaaaaaaaaaaa,aaaaaaaaaaaaa,aaaaaaaaaaaaaa,aaaaaaaaaaaaaaa,aaaaaaaaaaaaaaaa,aaaaaaaaaaaaaaaaa,aaaaaaaaaaaaaaaaaa,aaaaaaaaaaaaaaaaaaa,aaaaaaaaaaaaaaaaaaaa,aaaaaaaaaaaaaaaaaaaaa,aaaaaaaaaaaaaaaaaaaaaa,aaaaaaaaaaaaaaaaaaaaaaa,aaaaaaaaaaaaaaaaaaaaaaaa,aaaaaaaaaaaaaaaaaaaaaaaaa,aaaaaaaaaaaaaaaaaaaaaaaaaa,aaaaaaaaaaaaaaaaaaaaaaaaaaa,aaaaaaaaaaaaaaaaaaaaaaaaaaaa,aaaaaaaaaaaaaaaaaaaaaaaaaaaaa,…} with Σ={a,b}\n",
      "a* ∪ ε:\n",
      " {ε,a,aa,aaa,aaaa,aaaaa,aaaaaa,aaaaaaa,aaaaaaaa,aaaaaaaaa,aaaaaaaaaa,aaaaaaaaaaa,aaaaaaaaaaaa,aaaaaaaaaaaaa,aaaaaaaaaaaaaa,aaaaaaaaaaaaaaa,aaaaaaaaaaaaaaaa,aaaaaaaaaaaaaaaaa,aaaaaaaaaaaaaaaaaa,aaaaaaaaaaaaaaaaaaa,aaaaaaaaaaaaaaaaaaaa,aaaaaaaaaaaaaaaaaaaaa,aaaaaaaaaaaaaaaaaaaaaa,aaaaaaaaaaaaaaaaaaaaaaa,aaaaaaaaaaaaaaaaaaaaaaaa,aaaaaaaaaaaaaaaaaaaaaaaaa,aaaaaaaaaaaaaaaaaaaaaaaaaa,aaaaaaaaaaaaaaaaaaaaaaaaaaa,aaaaaaaaaaaaaaaaaaaaaaaaaaaa,aaaaaaaaaaaaaaaaaaaaaaaaaaaaa,…} with Σ={a,b}\n",
      "Ø  ∪ a*:\n",
      " {ε,a,aa,aaa,aaaa,aaaaa,aaaaaa,aaaaaaa,aaaaaaaa,aaaaaaaaa,aaaaaaaaaa,aaaaaaaaaaa,aaaaaaaaaaaa,aaaaaaaaaaaaa,aaaaaaaaaaaaaa,aaaaaaaaaaaaaaa,aaaaaaaaaaaaaaaa,aaaaaaaaaaaaaaaaa,aaaaaaaaaaaaaaaaaa,aaaaaaaaaaaaaaaaaaa,aaaaaaaaaaaaaaaaaaaa,aaaaaaaaaaaaaaaaaaaaa,aaaaaaaaaaaaaaaaaaaaaa,aaaaaaaaaaaaaaaaaaaaaaa,aaaaaaaaaaaaaaaaaaaaaaaa,aaaaaaaaaaaaaaaaaaaaaaaaa,aaaaaaaaaaaaaaaaaaaaaaaaaa,aaaaaaaaaaaaaaaaaaaaaaaaaaa,aaaaaaaaaaaaaaaaaaaaaaaaaaaa,aaaaaaaaaaaaaaaaaaaaaaaaaaaaa,…} with Σ={a,b}\n",
      "a* ∪ Ø:\n",
      " {ε,a,aa,aaa,aaaa,aaaaa,aaaaaa,aaaaaaa,aaaaaaaa,aaaaaaaaa,aaaaaaaaaa,aaaaaaaaaaa,aaaaaaaaaaaa,aaaaaaaaaaaaa,aaaaaaaaaaaaaa,aaaaaaaaaaaaaaa,aaaaaaaaaaaaaaaa,aaaaaaaaaaaaaaaaa,aaaaaaaaaaaaaaaaaa,aaaaaaaaaaaaaaaaaaa,aaaaaaaaaaaaaaaaaaaa,aaaaaaaaaaaaaaaaaaaaa,aaaaaaaaaaaaaaaaaaaaaa,aaaaaaaaaaaaaaaaaaaaaaa,aaaaaaaaaaaaaaaaaaaaaaaa,aaaaaaaaaaaaaaaaaaaaaaaaa,aaaaaaaaaaaaaaaaaaaaaaaaaa,aaaaaaaaaaaaaaaaaaaaaaaaaaa,aaaaaaaaaaaaaaaaaaaaaaaaaaaa,aaaaaaaaaaaaaaaaaaaaaaaaaaaaa,…} with Σ={a,b}\n",
      "ε  ∪ a⁺:\n",
      " {ε,a,aa,aaa,aaaa,aaaaa,aaaaaa,aaaaaaa,aaaaaaaa,aaaaaaaaa,aaaaaaaaaa,aaaaaaaaaaa,aaaaaaaaaaaa,aaaaaaaaaaaaa,aaaaaaaaaaaaaa,aaaaaaaaaaaaaaa,aaaaaaaaaaaaaaaa,aaaaaaaaaaaaaaaaa,aaaaaaaaaaaaaaaaaa,aaaaaaaaaaaaaaaaaaa,aaaaaaaaaaaaaaaaaaaa,aaaaaaaaaaaaaaaaaaaaa,aaaaaaaaaaaaaaaaaaaaaa,aaaaaaaaaaaaaaaaaaaaaaa,aaaaaaaaaaaaaaaaaaaaaaaa,aaaaaaaaaaaaaaaaaaaaaaaaa,aaaaaaaaaaaaaaaaaaaaaaaaaa,aaaaaaaaaaaaaaaaaaaaaaaaaaa,aaaaaaaaaaaaaaaaaaaaaaaaaaaa,aaaaaaaaaaaaaaaaaaaaaaaaaaaaa,…} with Σ={a,b}\n",
      "a⁺ ∪ ε:\n",
      " {a,ε,aa,aaa,aaaa,aaaaa,aaaaaa,aaaaaaa,aaaaaaaa,aaaaaaaaa,aaaaaaaaaa,aaaaaaaaaaa,aaaaaaaaaaaa,aaaaaaaaaaaaa,aaaaaaaaaaaaaa,aaaaaaaaaaaaaaa,aaaaaaaaaaaaaaaa,aaaaaaaaaaaaaaaaa,aaaaaaaaaaaaaaaaaa,aaaaaaaaaaaaaaaaaaa,aaaaaaaaaaaaaaaaaaaa,aaaaaaaaaaaaaaaaaaaaa,aaaaaaaaaaaaaaaaaaaaaa,aaaaaaaaaaaaaaaaaaaaaaa,aaaaaaaaaaaaaaaaaaaaaaaa,aaaaaaaaaaaaaaaaaaaaaaaaa,aaaaaaaaaaaaaaaaaaaaaaaaaa,aaaaaaaaaaaaaaaaaaaaaaaaaaa,aaaaaaaaaaaaaaaaaaaaaaaaaaaa,aaaaaaaaaaaaaaaaaaaaaaaaaaaaa,…} with Σ={a,b}\n",
      "Ø  ∪ a⁺:\n",
      " {a,aa,aaa,aaaa,aaaaa,aaaaaa,aaaaaaa,aaaaaaaa,aaaaaaaaa,aaaaaaaaaa,aaaaaaaaaaa,aaaaaaaaaaaa,aaaaaaaaaaaaa,aaaaaaaaaaaaaa,aaaaaaaaaaaaaaa,aaaaaaaaaaaaaaaa,aaaaaaaaaaaaaaaaa,aaaaaaaaaaaaaaaaaa,aaaaaaaaaaaaaaaaaaa,aaaaaaaaaaaaaaaaaaaa,aaaaaaaaaaaaaaaaaaaaa,aaaaaaaaaaaaaaaaaaaaaa,aaaaaaaaaaaaaaaaaaaaaaa,aaaaaaaaaaaaaaaaaaaaaaaa,aaaaaaaaaaaaaaaaaaaaaaaaa,aaaaaaaaaaaaaaaaaaaaaaaaaa,aaaaaaaaaaaaaaaaaaaaaaaaaaa,aaaaaaaaaaaaaaaaaaaaaaaaaaaa,aaaaaaaaaaaaaaaaaaaaaaaaaaaaa,aaaaaaaaaaaaaaaaaaaaaaaaaaaaaa,…} with Σ={a,b}\n",
      "a⁺ ∪ Ø:\n",
      " {a,aa,aaa,aaaa,aaaaa,aaaaaa,aaaaaaa,aaaaaaaa,aaaaaaaaa,aaaaaaaaaa,aaaaaaaaaaa,aaaaaaaaaaaa,aaaaaaaaaaaaa,aaaaaaaaaaaaaa,aaaaaaaaaaaaaaa,aaaaaaaaaaaaaaaa,aaaaaaaaaaaaaaaaa,aaaaaaaaaaaaaaaaaa,aaaaaaaaaaaaaaaaaaa,aaaaaaaaaaaaaaaaaaaa,aaaaaaaaaaaaaaaaaaaaa,aaaaaaaaaaaaaaaaaaaaaa,aaaaaaaaaaaaaaaaaaaaaaa,aaaaaaaaaaaaaaaaaaaaaaaa,aaaaaaaaaaaaaaaaaaaaaaaaa,aaaaaaaaaaaaaaaaaaaaaaaaaa,aaaaaaaaaaaaaaaaaaaaaaaaaaa,aaaaaaaaaaaaaaaaaaaaaaaaaaaa,aaaaaaaaaaaaaaaaaaaaaaaaaaaaa,aaaaaaaaaaaaaaaaaaaaaaaaaaaaaa,…} with Σ={a,b}\n"
     ]
    }
   ],
   "source": [
    "print(\"ε  ∪ a*:\\n\",ε.union(a.star()))\n",
    "print(\"a* ∪ ε:\\n\",a.star().union(ε))\n",
    "print(\"Ø  ∪ a*:\\n\",Ø.union(a.star()))\n",
    "print(\"a* ∪ Ø:\\n\",a.star().union(Ø))\n",
    "print(\"ε  ∪ a⁺:\\n\",ε.union(a.plus()))\n",
    "print(\"a⁺ ∪ ε:\\n\",a.plus().union(ε))\n",
    "print(\"Ø  ∪ a⁺:\\n\",Ø.union(a.plus()))\n",
    "print(\"a⁺ ∪ Ø:\\n\",a.plus().union(Ø))"
   ]
  },
  {
   "cell_type": "markdown",
   "metadata": {},
   "source": [
    "#### Intersección"
   ]
  },
  {
   "cell_type": "code",
   "execution_count": 17,
   "metadata": {},
   "outputs": [
    {
     "name": "stdout",
     "output_type": "stream",
     "text": [
      "Ø ∩ Ø:\n",
      " ∅ Σ={a,b}\n",
      "ε ∩ ε:\n",
      " {ε} with Σ={a,b}\n",
      "a ∩ a:\n",
      " {a} with Σ={a,b}\n",
      "Ø ∩ ε:\n",
      " ∅ Σ={a,b}\n",
      "ε ∩ Ø:\n",
      " ∅ Σ={a,b}\n",
      "Ø ∩ a:\n",
      " ∅ Σ={a,b}\n",
      "a ∩ Ø:\n",
      " ∅ Σ={a,b}\n",
      "ε ∩ a:\n",
      " ∅ Σ={a,b}\n",
      "a ∩ ε:\n",
      " ∅ Σ={a,b}\n"
     ]
    }
   ],
   "source": [
    "print(\"Ø ∩ Ø:\\n\",Ø.intersection(Ø))\n",
    "print(\"ε ∩ ε:\\n\",ε.intersection(ε))\n",
    "print(\"a ∩ a:\\n\",a.intersection(a))\n",
    "print(\"Ø ∩ ε:\\n\",Ø.intersection(ε))\n",
    "print(\"ε ∩ Ø:\\n\",ε.intersection(Ø))\n",
    "print(\"Ø ∩ a:\\n\",Ø.intersection(a))\n",
    "print(\"a ∩ Ø:\\n\",a.intersection(Ø))\n",
    "print(\"ε ∩ a:\\n\",ε.intersection(a))\n",
    "print(\"a ∩ ε:\\n\",a.intersection(ε))"
   ]
  },
  {
   "cell_type": "markdown",
   "metadata": {},
   "source": [
    "#### Intersección casos con lenguaje infinito"
   ]
  },
  {
   "cell_type": "code",
   "execution_count": 18,
   "metadata": {},
   "outputs": [
    {
     "name": "stdout",
     "output_type": "stream",
     "text": [
      "ε  ∩ a*:\n",
      " {ε} with Σ={a,b}\n",
      "a* ∩ ε:\n",
      " {ε} with Σ={a,b}\n",
      "Ø  ∩ a*:\n",
      " ∅ Σ={a,b}\n",
      "a* ∩ Ø:\n",
      " ∅ Σ={a,b}\n",
      "ε  ∩ a⁺:\n",
      " {} with Σ={a,b}\n",
      "a⁺ ∩ ε:\n",
      " {} with Σ={a,b}\n",
      "Ø  ∩ a⁺:\n",
      " ∅ Σ={a,b}\n",
      "a⁺ ∩ Ø:\n",
      " ∅ Σ={a,b}\n"
     ]
    }
   ],
   "source": [
    "print(\"ε  ∩ a*:\\n\",ε.intersection(a.star()))\n",
    "print(\"a* ∩ ε:\\n\",a.star().intersection(ε))\n",
    "print(\"Ø  ∩ a*:\\n\",Ø.intersection(a.star()))\n",
    "print(\"a* ∩ Ø:\\n\",a.star().intersection(Ø))\n",
    "print(\"ε  ∩ a⁺:\\n\",ε.intersection(a.plus()))\n",
    "print(\"a⁺ ∩ ε:\\n\",a.plus().intersection(ε))\n",
    "print(\"Ø  ∩ a⁺:\\n\",Ø.intersection(a.plus()))\n",
    "print(\"a⁺ ∩ Ø:\\n\",a.plus().intersection(Ø))"
   ]
  },
  {
   "cell_type": "markdown",
   "metadata": {},
   "source": [
    "##### Potencia"
   ]
  },
  {
   "cell_type": "code",
   "execution_count": 19,
   "metadata": {},
   "outputs": [
    {
     "name": "stdout",
     "output_type": "stream",
     "text": [
      "Ø^0:\n",
      " {ε} with Σ={a,b}\n",
      "Ø^1:\n",
      " ∅ Σ={}\n",
      "Ø^2:\n",
      " ∅ Σ={a,b}\n",
      "ε^0:\n",
      " {ε} with Σ={a,b}\n",
      "ε^1:\n",
      " {ε} with Σ={}\n",
      "ε^2:\n",
      " {ε} with Σ={a,b}\n",
      "a^0:\n",
      " {ε} with Σ={a,b}\n",
      "a^1:\n",
      " {a} with Σ={}\n",
      "a^2:\n",
      " {aa} with Σ={a,b}\n"
     ]
    }
   ],
   "source": [
    "print(\"Ø^0:\\n\",Ø.power(0))\n",
    "print(\"Ø^1:\\n\",Ø.power(1))\n",
    "print(\"Ø^2:\\n\",Ø.power(2))\n",
    "print(\"ε^0:\\n\",ε.power(0))\n",
    "print(\"ε^1:\\n\",ε.power(1))\n",
    "print(\"ε^2:\\n\",ε.power(2))\n",
    "print(\"a^0:\\n\",a.power(0))\n",
    "print(\"a^1:\\n\",a.power(1))\n",
    "print(\"a^2:\\n\",a.power(2))"
   ]
  },
  {
   "cell_type": "markdown",
   "metadata": {},
   "source": [
    "#### Cerradura estrella"
   ]
  },
  {
   "cell_type": "code",
   "execution_count": 20,
   "metadata": {},
   "outputs": [
    {
     "name": "stdout",
     "output_type": "stream",
     "text": [
      "Ø*:\n",
      " {ε} with Σ={a,b}\n",
      "ε*:\n",
      " {ε} with Σ={a,b}\n",
      "a*:\n",
      " {ε,a,aa,aaa,aaaa,aaaaa,aaaaaa,aaaaaaa,aaaaaaaa,aaaaaaaaa,aaaaaaaaaa,aaaaaaaaaaa,aaaaaaaaaaaa,aaaaaaaaaaaaa,aaaaaaaaaaaaaa,aaaaaaaaaaaaaaa,aaaaaaaaaaaaaaaa,aaaaaaaaaaaaaaaaa,aaaaaaaaaaaaaaaaaa,aaaaaaaaaaaaaaaaaaa,aaaaaaaaaaaaaaaaaaaa,aaaaaaaaaaaaaaaaaaaaa,aaaaaaaaaaaaaaaaaaaaaa,aaaaaaaaaaaaaaaaaaaaaaa,aaaaaaaaaaaaaaaaaaaaaaaa,aaaaaaaaaaaaaaaaaaaaaaaaa,aaaaaaaaaaaaaaaaaaaaaaaaaa,aaaaaaaaaaaaaaaaaaaaaaaaaaa,aaaaaaaaaaaaaaaaaaaaaaaaaaaa,aaaaaaaaaaaaaaaaaaaaaaaaaaaaa,…} with Σ={a,b}\n"
     ]
    }
   ],
   "source": [
    "print(\"Ø*:\\n\",Ø.star())\n",
    "print(\"ε*:\\n\",ε.star())\n",
    "print(\"a*:\\n\",a.star())"
   ]
  },
  {
   "cell_type": "markdown",
   "metadata": {},
   "source": [
    "#### Cerradura más"
   ]
  },
  {
   "cell_type": "code",
   "execution_count": 21,
   "metadata": {},
   "outputs": [
    {
     "name": "stdout",
     "output_type": "stream",
     "text": [
      "Ø*:\n",
      " ∅ Σ={a,b}\n",
      "ε*:\n",
      " {ε} with Σ={a,b}\n",
      "a*:\n",
      " {a,aa,aaa,aaaa,aaaaa,aaaaaa,aaaaaaa,aaaaaaaa,aaaaaaaaa,aaaaaaaaaa,aaaaaaaaaaa,aaaaaaaaaaaa,aaaaaaaaaaaaa,aaaaaaaaaaaaaa,aaaaaaaaaaaaaaa,aaaaaaaaaaaaaaaa,aaaaaaaaaaaaaaaaa,aaaaaaaaaaaaaaaaaa,aaaaaaaaaaaaaaaaaaa,aaaaaaaaaaaaaaaaaaaa,aaaaaaaaaaaaaaaaaaaaa,aaaaaaaaaaaaaaaaaaaaaa,aaaaaaaaaaaaaaaaaaaaaaa,aaaaaaaaaaaaaaaaaaaaaaaa,aaaaaaaaaaaaaaaaaaaaaaaaa,aaaaaaaaaaaaaaaaaaaaaaaaaa,aaaaaaaaaaaaaaaaaaaaaaaaaaa,aaaaaaaaaaaaaaaaaaaaaaaaaaaa,aaaaaaaaaaaaaaaaaaaaaaaaaaaaa,aaaaaaaaaaaaaaaaaaaaaaaaaaaaaa,…} with Σ={a,b}\n"
     ]
    }
   ],
   "source": [
    "print(\"Ø*:\\n\",Ø.plus())\n",
    "print(\"ε*:\\n\",ε.plus())\n",
    "print(\"a*:\\n\",a.plus())"
   ]
  },
  {
   "cell_type": "markdown",
   "metadata": {},
   "source": [
    "## 03 Other operations"
   ]
  },
  {
   "cell_type": "markdown",
   "metadata": {},
   "source": [
    "#### Reversa"
   ]
  },
  {
   "cell_type": "code",
   "execution_count": 22,
   "metadata": {},
   "outputs": [
    {
     "name": "stdout",
     "output_type": "stream",
     "text": [
      "L1ᴿ :\n",
      " {a,b} with Σ={a,b}\n",
      "(L2*L1)ᴿ :\n",
      " {a,ab,ac,abb,acb,abc,acc,abbb,acbb,abcb,accb,abbc,acbc,abcc,accc,abbbb,acbbb,abcbb,accbb,abbcb,acbcb,abccb,acccb,abbbc,acbbc,abcbc,accbc,abbcc,acbcc,abccc,…} with Σ={a,b,c}\n"
     ]
    }
   ],
   "source": [
    "print(\"L1ᴿ :\\n\",L1.reverse())\n",
    "print(\"(L2*L1)ᴿ :\\n\",L2.star().concat(L1).reverse())"
   ]
  },
  {
   "cell_type": "markdown",
   "metadata": {},
   "source": [
    "#### Mapping para substición de cadenas"
   ]
  },
  {
   "cell_type": "code",
   "execution_count": 23,
   "metadata": {},
   "outputs": [
    {
     "name": "stdout",
     "output_type": "stream",
     "text": [
      "Mapeo:\n",
      "a → {B,A} with Σ={B,A}\n",
      "b → {CC} with Σ={C}\n",
      "Subsitución en cadena ε: \n",
      " {ε} with Σ={a,b}\n",
      "Substitución en aaba: \n",
      " {AACCB,BBCCA,BACCA,BBCCB,BACCB,ABCCA,ABCCB,AACCA} with Σ={C,B,A}\n"
     ]
    }
   ],
   "source": [
    "m=Mapping({\n",
    "    \"a\":Language([\"A\",\"B\"],sigma=[\"A\",\"B\"]),\n",
    "    \"b\":Language([\"CC\"],sigma=[\"C\"])\n",
    "},infere_alphabet=True)\n",
    "\n",
    "print(f\"Mapeo:\\n{m}\")\n",
    "print(\"Subsitución en cadena ε: \\n\",m.substitution(\"\"))\n",
    "print(\"Substitución en aaba: \\n\",m.substitution(\"aaba\"))"
   ]
  },
  {
   "cell_type": "markdown",
   "metadata": {},
   "source": [
    "#### Substición"
   ]
  },
  {
   "cell_type": "code",
   "execution_count": 24,
   "metadata": {},
   "outputs": [
    {
     "name": "stdout",
     "output_type": "stream",
     "text": [
      "Substitución L1: \n",
      " {B,CC,A} with Σ={B,C,A}\n",
      "Substitución L1*: \n",
      " {ε,B,A,CC,BB,AA,BA,AB,BCC,ACC,CCB,CCA,CCCC,BAA,BBB,BBA,AAB,ABB,ABA,BAB,AAA,ABCC,BACC,AACC,BBCC,BCCA,BCCB,ACCA,ACCB,BCCCC,…} with Σ={B,C,A}\n"
     ]
    }
   ],
   "source": [
    "print(\"Substitución L1: \\n\",L1.substitution(m))\n",
    "print(\"Substitución L1*: \\n\",L1.star().substitution(m))"
   ]
  },
  {
   "cell_type": "markdown",
   "metadata": {},
   "source": [
    "#### Projección"
   ]
  },
  {
   "cell_type": "code",
   "execution_count": null,
   "metadata": {},
   "outputs": [
    {
     "name": "stdout",
     "output_type": "stream",
     "text": [
      "Projección L1 on {b}: \n",
      " {ε,b} with Σ={b}\n",
      "Proyección L1*: \n",
      " "
     ]
    }
   ],
   "source": [
    "print(\"Projección L1 en {b}: \\n\",L1.projection(['b']))\n",
    "\n",
    " #If larger it could take a while to calculate\n",
    "l=L1.star().projection(['b'])\n",
    "l.max=10\n",
    "print(\"Proyección L1*: \\n\",L1.star().projection(['b']))"
   ]
  },
  {
   "cell_type": "markdown",
   "metadata": {},
   "source": [
    "#### 'Cociente' "
   ]
  },
  {
   "cell_type": "code",
   "execution_count": null,
   "metadata": {},
   "outputs": [],
   "source": [
    "L1.max=20 # Returning to 20\n",
    "print(\"Cociente por la izquierda en cadena\\n\",string_left_quotient(\"abaa\",\"a\"))\n",
    "print(\"Cociente por la derecha en cadena\\n\",string_right_quotient(\"aaaba\",\"a\"))\n",
    "\n",
    "print(\"Cociente por la izquierda L1\\\\b: \\n\",L1.left_quotient('b'))\n",
    "print(\"Cociente por la derecha L1/b: \\n\",L1.right_quotient('b'))\n",
    "\n",
    "print(\"Cociente por la izquierda L1*\\\\b: \\n\",L1.star().left_quotient('b'))\n",
    "print(\"Cociente por la derecha L1*/b: \\n\",L1.star().right_quotient('b'))"
   ]
  },
  {
   "cell_type": "markdown",
   "metadata": {},
   "source": [
    "#### Cancelación"
   ]
  },
  {
   "cell_type": "code",
   "execution_count": null,
   "metadata": {},
   "outputs": [],
   "source": [
    "print(\"Cancelación por la izquierda en cadena\\n\",string_left_cancellation(\"aaabaa\",\"b\"))\n",
    "print(\"Cancelación por la derecha en cadena\\n\",string_right_cancellation(\"aaabaa\",\"b\"))\n",
    "\n",
    "print(\"Cancelación por la izquierda L1\\\\b: \\n\",L1.left_cancellation('b'))\n",
    "print(\"Cancelación por la derecha L1/b: \\n\",L1.right_cancellation('b'))\n",
    "\n",
    "print(\"Cancelación por la izquierda L1*\\\\b: \\n\",L1.star().left_cancellation('b'))\n",
    "print(\"Cancelación por la derecha L1*/b: \\n\",L1.star().right_cancellation('b'))"
   ]
  },
  {
   "cell_type": "markdown",
   "metadata": {},
   "source": [
    "## 04 Utilidades\n",
    "\n",
    "Validación si un lenguaje es generado por el lenguaje"
   ]
  },
  {
   "cell_type": "code",
   "execution_count": null,
   "metadata": {},
   "outputs": [],
   "source": [
    "print(\"Validadndo el lenguaje\",L3.star().validate_alphabet())\n",
    "print(\"Validando el alfabeto\",sigma.validate(['a','ba']))"
   ]
  }
 ],
 "metadata": {
  "kernelspec": {
   "display_name": "Python 3 (ipykernel)",
   "language": "python",
   "name": "python3"
  },
  "language_info": {
   "codemirror_mode": {
    "name": "ipython",
    "version": 3
   },
   "file_extension": ".py",
   "mimetype": "text/x-python",
   "name": "python",
   "nbconvert_exporter": "python",
   "pygments_lexer": "ipython3",
   "version": "3.8.10"
  }
 },
 "nbformat": 4,
 "nbformat_minor": 4
}
