{
 "cells": [
  {
   "cell_type": "markdown",
   "metadata": {},
   "source": [
    "[![Open In Colab](https://colab.research.google.com/assets/colab-badge.svg)](https://colab.research.google.com/github/ivanvladimir/maquinas_notebooks/blob/main/lfya/01%20De%20lenguajes%20y%20palabras.ipynb)"
   ]
  },
  {
   "cell_type": "code",
   "execution_count": 6,
   "metadata": {},
   "outputs": [
    {
     "name": "stdout",
     "output_type": "stream",
     "text": [
      "Collecting maquinas\n",
      "  Downloading maquinas-0.1.5.9.tar.gz (41 kB)\n",
      "\u001b[K     |████████████████████████████████| 41 kB 56 kB/s  eta 0:00:011\n",
      "\u001b[?25hRequirement already satisfied, skipping upgrade: graphviz in /home/ivanvladimir/projects/maquinas_examples/env/lib/python3.6/site-packages (from maquinas) (0.14.1)\n",
      "Requirement already satisfied, skipping upgrade: ipywidgets in /home/ivanvladimir/projects/maquinas_examples/env/lib/python3.6/site-packages (from maquinas) (7.5.1)\n",
      "Requirement already satisfied, skipping upgrade: IPython in /home/ivanvladimir/projects/maquinas_examples/env/lib/python3.6/site-packages (from maquinas) (7.16.1)\n",
      "Requirement already satisfied, skipping upgrade: ordered_set in /home/ivanvladimir/projects/maquinas_examples/env/lib/python3.6/site-packages (from maquinas) (4.0.2)\n",
      "Requirement already satisfied, skipping upgrade: Pillow in /home/ivanvladimir/projects/maquinas_examples/env/lib/python3.6/site-packages (from maquinas) (7.2.0)\n",
      "Requirement already satisfied, skipping upgrade: TatSu in /home/ivanvladimir/projects/maquinas_examples/env/lib/python3.6/site-packages (from maquinas) (4.4.0)\n",
      "Requirement already satisfied, skipping upgrade: widgetsnbextension~=3.5.0 in /home/ivanvladimir/projects/maquinas_examples/env/lib/python3.6/site-packages (from ipywidgets->maquinas) (3.5.1)\n",
      "Requirement already satisfied, skipping upgrade: traitlets>=4.3.1 in /home/ivanvladimir/projects/maquinas_examples/env/lib/python3.6/site-packages (from ipywidgets->maquinas) (4.3.3)\n",
      "Requirement already satisfied, skipping upgrade: nbformat>=4.2.0 in /home/ivanvladimir/projects/maquinas_examples/env/lib/python3.6/site-packages (from ipywidgets->maquinas) (5.0.7)\n",
      "Requirement already satisfied, skipping upgrade: ipykernel>=4.5.1 in /home/ivanvladimir/projects/maquinas_examples/env/lib/python3.6/site-packages (from ipywidgets->maquinas) (5.3.4)\n",
      "Requirement already satisfied, skipping upgrade: pygments in /home/ivanvladimir/projects/maquinas_examples/env/lib/python3.6/site-packages (from IPython->maquinas) (2.7.1)\n",
      "Requirement already satisfied, skipping upgrade: pickleshare in /home/ivanvladimir/projects/maquinas_examples/env/lib/python3.6/site-packages (from IPython->maquinas) (0.7.5)\n",
      "Requirement already satisfied, skipping upgrade: decorator in /home/ivanvladimir/projects/maquinas_examples/env/lib/python3.6/site-packages (from IPython->maquinas) (4.4.2)\n",
      "Requirement already satisfied, skipping upgrade: backcall in /home/ivanvladimir/projects/maquinas_examples/env/lib/python3.6/site-packages (from IPython->maquinas) (0.2.0)\n",
      "Requirement already satisfied, skipping upgrade: pexpect; sys_platform != \"win32\" in /home/ivanvladimir/projects/maquinas_examples/env/lib/python3.6/site-packages (from IPython->maquinas) (4.8.0)\n",
      "Requirement already satisfied, skipping upgrade: prompt-toolkit!=3.0.0,!=3.0.1,<3.1.0,>=2.0.0 in /home/ivanvladimir/projects/maquinas_examples/env/lib/python3.6/site-packages (from IPython->maquinas) (3.0.7)\n",
      "Requirement already satisfied, skipping upgrade: jedi>=0.10 in /home/ivanvladimir/projects/maquinas_examples/env/lib/python3.6/site-packages (from IPython->maquinas) (0.17.2)\n",
      "Requirement already satisfied, skipping upgrade: setuptools>=18.5 in /home/ivanvladimir/projects/maquinas_examples/env/lib/python3.6/site-packages (from IPython->maquinas) (50.3.0)\n",
      "Requirement already satisfied, skipping upgrade: notebook>=4.4.1 in /home/ivanvladimir/projects/maquinas_examples/env/lib/python3.6/site-packages (from widgetsnbextension~=3.5.0->ipywidgets->maquinas) (6.1.4)\n",
      "Requirement already satisfied, skipping upgrade: ipython-genutils in /home/ivanvladimir/projects/maquinas_examples/env/lib/python3.6/site-packages (from traitlets>=4.3.1->ipywidgets->maquinas) (0.2.0)\n",
      "Requirement already satisfied, skipping upgrade: six in /home/ivanvladimir/projects/maquinas_examples/env/lib/python3.6/site-packages (from traitlets>=4.3.1->ipywidgets->maquinas) (1.15.0)\n",
      "Requirement already satisfied, skipping upgrade: jsonschema!=2.5.0,>=2.4 in /home/ivanvladimir/projects/maquinas_examples/env/lib/python3.6/site-packages (from nbformat>=4.2.0->ipywidgets->maquinas) (3.2.0)\n",
      "Requirement already satisfied, skipping upgrade: jupyter-core in /home/ivanvladimir/projects/maquinas_examples/env/lib/python3.6/site-packages (from nbformat>=4.2.0->ipywidgets->maquinas) (4.6.3)\n",
      "Requirement already satisfied, skipping upgrade: jupyter-client in /home/ivanvladimir/projects/maquinas_examples/env/lib/python3.6/site-packages (from ipykernel>=4.5.1->ipywidgets->maquinas) (6.1.7)\n",
      "Requirement already satisfied, skipping upgrade: tornado>=4.2 in /home/ivanvladimir/projects/maquinas_examples/env/lib/python3.6/site-packages (from ipykernel>=4.5.1->ipywidgets->maquinas) (6.0.4)\n",
      "Requirement already satisfied, skipping upgrade: ptyprocess>=0.5 in /home/ivanvladimir/projects/maquinas_examples/env/lib/python3.6/site-packages (from pexpect; sys_platform != \"win32\"->IPython->maquinas) (0.6.0)\n",
      "Requirement already satisfied, skipping upgrade: wcwidth in /home/ivanvladimir/projects/maquinas_examples/env/lib/python3.6/site-packages (from prompt-toolkit!=3.0.0,!=3.0.1,<3.1.0,>=2.0.0->IPython->maquinas) (0.2.5)\n",
      "Requirement already satisfied, skipping upgrade: parso<0.8.0,>=0.7.0 in /home/ivanvladimir/projects/maquinas_examples/env/lib/python3.6/site-packages (from jedi>=0.10->IPython->maquinas) (0.7.1)\n",
      "Requirement already satisfied, skipping upgrade: Send2Trash in /home/ivanvladimir/projects/maquinas_examples/env/lib/python3.6/site-packages (from notebook>=4.4.1->widgetsnbextension~=3.5.0->ipywidgets->maquinas) (1.5.0)\n",
      "Requirement already satisfied, skipping upgrade: jinja2 in /home/ivanvladimir/projects/maquinas_examples/env/lib/python3.6/site-packages (from notebook>=4.4.1->widgetsnbextension~=3.5.0->ipywidgets->maquinas) (2.11.2)\n",
      "Requirement already satisfied, skipping upgrade: terminado>=0.8.3 in /home/ivanvladimir/projects/maquinas_examples/env/lib/python3.6/site-packages (from notebook>=4.4.1->widgetsnbextension~=3.5.0->ipywidgets->maquinas) (0.9.1)\n",
      "Requirement already satisfied, skipping upgrade: nbconvert in /home/ivanvladimir/projects/maquinas_examples/env/lib/python3.6/site-packages (from notebook>=4.4.1->widgetsnbextension~=3.5.0->ipywidgets->maquinas) (6.0.6)\n",
      "Requirement already satisfied, skipping upgrade: pyzmq>=17 in /home/ivanvladimir/projects/maquinas_examples/env/lib/python3.6/site-packages (from notebook>=4.4.1->widgetsnbextension~=3.5.0->ipywidgets->maquinas) (19.0.2)\n",
      "Requirement already satisfied, skipping upgrade: argon2-cffi in /home/ivanvladimir/projects/maquinas_examples/env/lib/python3.6/site-packages (from notebook>=4.4.1->widgetsnbextension~=3.5.0->ipywidgets->maquinas) (20.1.0)\n",
      "Requirement already satisfied, skipping upgrade: prometheus-client in /home/ivanvladimir/projects/maquinas_examples/env/lib/python3.6/site-packages (from notebook>=4.4.1->widgetsnbextension~=3.5.0->ipywidgets->maquinas) (0.8.0)\n",
      "Requirement already satisfied, skipping upgrade: attrs>=17.4.0 in /home/ivanvladimir/projects/maquinas_examples/env/lib/python3.6/site-packages (from jsonschema!=2.5.0,>=2.4->nbformat>=4.2.0->ipywidgets->maquinas) (20.2.0)\n",
      "Requirement already satisfied, skipping upgrade: pyrsistent>=0.14.0 in /home/ivanvladimir/projects/maquinas_examples/env/lib/python3.6/site-packages (from jsonschema!=2.5.0,>=2.4->nbformat>=4.2.0->ipywidgets->maquinas) (0.17.3)\n",
      "Requirement already satisfied, skipping upgrade: importlib-metadata; python_version < \"3.8\" in /home/ivanvladimir/projects/maquinas_examples/env/lib/python3.6/site-packages (from jsonschema!=2.5.0,>=2.4->nbformat>=4.2.0->ipywidgets->maquinas) (2.0.0)\n",
      "Requirement already satisfied, skipping upgrade: python-dateutil>=2.1 in /home/ivanvladimir/projects/maquinas_examples/env/lib/python3.6/site-packages (from jupyter-client->ipykernel>=4.5.1->ipywidgets->maquinas) (2.8.1)\n",
      "Requirement already satisfied, skipping upgrade: MarkupSafe>=0.23 in /home/ivanvladimir/projects/maquinas_examples/env/lib/python3.6/site-packages (from jinja2->notebook>=4.4.1->widgetsnbextension~=3.5.0->ipywidgets->maquinas) (1.1.1)\n",
      "Requirement already satisfied, skipping upgrade: bleach in /home/ivanvladimir/projects/maquinas_examples/env/lib/python3.6/site-packages (from nbconvert->notebook>=4.4.1->widgetsnbextension~=3.5.0->ipywidgets->maquinas) (3.2.1)\n",
      "Requirement already satisfied, skipping upgrade: pandocfilters>=1.4.1 in /home/ivanvladimir/projects/maquinas_examples/env/lib/python3.6/site-packages (from nbconvert->notebook>=4.4.1->widgetsnbextension~=3.5.0->ipywidgets->maquinas) (1.4.2)\n",
      "Requirement already satisfied, skipping upgrade: defusedxml in /home/ivanvladimir/projects/maquinas_examples/env/lib/python3.6/site-packages (from nbconvert->notebook>=4.4.1->widgetsnbextension~=3.5.0->ipywidgets->maquinas) (0.6.0)\n",
      "Requirement already satisfied, skipping upgrade: nbclient<0.6.0,>=0.5.0 in /home/ivanvladimir/projects/maquinas_examples/env/lib/python3.6/site-packages (from nbconvert->notebook>=4.4.1->widgetsnbextension~=3.5.0->ipywidgets->maquinas) (0.5.0)\n"
     ]
    },
    {
     "name": "stdout",
     "output_type": "stream",
     "text": [
      "Requirement already satisfied, skipping upgrade: mistune<2,>=0.8.1 in /home/ivanvladimir/projects/maquinas_examples/env/lib/python3.6/site-packages (from nbconvert->notebook>=4.4.1->widgetsnbextension~=3.5.0->ipywidgets->maquinas) (0.8.4)\n",
      "Requirement already satisfied, skipping upgrade: testpath in /home/ivanvladimir/projects/maquinas_examples/env/lib/python3.6/site-packages (from nbconvert->notebook>=4.4.1->widgetsnbextension~=3.5.0->ipywidgets->maquinas) (0.4.4)\n",
      "Requirement already satisfied, skipping upgrade: entrypoints>=0.2.2 in /home/ivanvladimir/projects/maquinas_examples/env/lib/python3.6/site-packages (from nbconvert->notebook>=4.4.1->widgetsnbextension~=3.5.0->ipywidgets->maquinas) (0.3)\n",
      "Requirement already satisfied, skipping upgrade: jupyterlab-pygments in /home/ivanvladimir/projects/maquinas_examples/env/lib/python3.6/site-packages (from nbconvert->notebook>=4.4.1->widgetsnbextension~=3.5.0->ipywidgets->maquinas) (0.1.1)\n",
      "Requirement already satisfied, skipping upgrade: cffi>=1.0.0 in /home/ivanvladimir/projects/maquinas_examples/env/lib/python3.6/site-packages (from argon2-cffi->notebook>=4.4.1->widgetsnbextension~=3.5.0->ipywidgets->maquinas) (1.14.3)\n",
      "Requirement already satisfied, skipping upgrade: zipp>=0.5 in /home/ivanvladimir/projects/maquinas_examples/env/lib/python3.6/site-packages (from importlib-metadata; python_version < \"3.8\"->jsonschema!=2.5.0,>=2.4->nbformat>=4.2.0->ipywidgets->maquinas) (3.2.0)\n",
      "Requirement already satisfied, skipping upgrade: webencodings in /home/ivanvladimir/projects/maquinas_examples/env/lib/python3.6/site-packages (from bleach->nbconvert->notebook>=4.4.1->widgetsnbextension~=3.5.0->ipywidgets->maquinas) (0.5.1)\n",
      "Requirement already satisfied, skipping upgrade: packaging in /home/ivanvladimir/projects/maquinas_examples/env/lib/python3.6/site-packages (from bleach->nbconvert->notebook>=4.4.1->widgetsnbextension~=3.5.0->ipywidgets->maquinas) (20.4)\n",
      "Requirement already satisfied, skipping upgrade: nest-asyncio in /home/ivanvladimir/projects/maquinas_examples/env/lib/python3.6/site-packages (from nbclient<0.6.0,>=0.5.0->nbconvert->notebook>=4.4.1->widgetsnbextension~=3.5.0->ipywidgets->maquinas) (1.4.0)\n",
      "Requirement already satisfied, skipping upgrade: async-generator in /home/ivanvladimir/projects/maquinas_examples/env/lib/python3.6/site-packages (from nbclient<0.6.0,>=0.5.0->nbconvert->notebook>=4.4.1->widgetsnbextension~=3.5.0->ipywidgets->maquinas) (1.10)\n",
      "Requirement already satisfied, skipping upgrade: pycparser in /home/ivanvladimir/projects/maquinas_examples/env/lib/python3.6/site-packages (from cffi>=1.0.0->argon2-cffi->notebook>=4.4.1->widgetsnbextension~=3.5.0->ipywidgets->maquinas) (2.20)\n",
      "Requirement already satisfied, skipping upgrade: pyparsing>=2.0.2 in /home/ivanvladimir/projects/maquinas_examples/env/lib/python3.6/site-packages (from packaging->bleach->nbconvert->notebook>=4.4.1->widgetsnbextension~=3.5.0->ipywidgets->maquinas) (2.4.7)\n",
      "Building wheels for collected packages: maquinas\n",
      "  Building wheel for maquinas (setup.py) ... \u001b[?25ldone\n",
      "\u001b[?25h  Created wheel for maquinas: filename=maquinas-0.1.5.9-py3-none-any.whl size=57925 sha256=9f09d4b4b3bb1295edf226e12b9f1aec13f064b27f5e2d468deaf569a3544411\n",
      "  Stored in directory: /home/ivanvladimir/.cache/pip/wheels/9d/bb/f5/9b33e93ef32ef88e3f6295c8a0f2c39b1cf6ec0dddf72241f5\n",
      "Successfully built maquinas\n",
      "Installing collected packages: maquinas\n",
      "  Attempting uninstall: maquinas\n",
      "    Found existing installation: maquinas 0.1.5.8\n",
      "    Uninstalling maquinas-0.1.5.8:\n",
      "      Successfully uninstalled maquinas-0.1.5.8\n",
      "Successfully installed maquinas-0.1.5.9\n",
      "\u001b[33mWARNING: You are using pip version 20.2.3; however, version 21.0.1 is available.\n",
      "You should consider upgrading via the '/home/ivanvladimir/projects/maquinas_examples/env/bin/python3.6 -m pip install --upgrade pip' command.\u001b[0m\n"
     ]
    }
   ],
   "source": [
    "!pip install maquinas --upgrade"
   ]
  },
  {
   "cell_type": "code",
   "execution_count": 7,
   "metadata": {},
   "outputs": [],
   "source": [
    "from maquinas.languages import *"
   ]
  },
  {
   "cell_type": "code",
   "execution_count": 9,
   "metadata": {},
   "outputs": [
    {
     "name": "stdout",
     "output_type": "stream",
     "text": [
      "Alphabet({'a', 'b'})\n"
     ]
    }
   ],
   "source": [
    "sigma=Alphabet(['a','b'])\n",
    "print(sigma)"
   ]
  },
  {
   "cell_type": "code",
   "execution_count": 16,
   "metadata": {},
   "outputs": [
    {
     "name": "stdout",
     "output_type": "stream",
     "text": [
      "Power 0: {ε}\n",
      "Power 1: {a,b}\n",
      "Power 2: {aa,bb,ba,ab}\n",
      "Power 3: {bab,aaa,bbb,aab,abb,baa,bba,aba}\n",
      "Power 4: {abbb,bbaa,baaa,baab,bbab,baba,babb,aaaa,aaab,abab,bbba,bbbb,abaa,abba,aaba,aabb}\n"
     ]
    }
   ],
   "source": [
    "print(\"Power 0:\",sigma.power(0))\n",
    "print(\"Power 1:\",sigma.power(1))\n",
    "print(\"Power 2:\",sigma.power(2))\n",
    "print(\"Power 3:\",sigma.power(3))\n",
    "print(\"Power 4:\",sigma.power(4))"
   ]
  },
  {
   "cell_type": "code",
   "execution_count": 17,
   "metadata": {},
   "outputs": [
    {
     "name": "stdout",
     "output_type": "stream",
     "text": [
      "Σ* {ε,a,b,aa,ab,ba,bb,aaa,aab,aba,abb,baa,bab,bba,bbb,aaaa,aaab,aaba,aabb,abaa,abab,abba,abbb,baaa,baab,baba,babb,bbaa,bbab,bbba,…}\n"
     ]
    }
   ],
   "source": [
    "print(\"Σ*\",sigma.star())"
   ]
  },
  {
   "cell_type": "markdown",
   "metadata": {},
   "source": [
    "## Languages"
   ]
  },
  {
   "cell_type": "code",
   "execution_count": 27,
   "metadata": {},
   "outputs": [
    {
     "name": "stdout",
     "output_type": "stream",
     "text": [
      "Language 1: {a,b}\n",
      "Language 2: {c,b}\n",
      "Language 3: {ε,▶}\n"
     ]
    }
   ],
   "source": [
    "L1=Language(['a','b'])\n",
    "L2=Language(['c','b'])\n",
    "L3=Language(['','▶'])\n",
    "print(\"Language 1:\",L1)\n",
    "print(\"Language 2:\",L2)\n",
    "print(\"Language 3:\",L3)"
   ]
  },
  {
   "cell_type": "code",
   "execution_count": 22,
   "metadata": {},
   "outputs": [
    {
     "name": "stdout",
     "output_type": "stream",
     "text": [
      "L1 ∪ L2 {c,a,b}\n"
     ]
    }
   ],
   "source": [
    "print(\"L1 ∪ L2:\",L1.union(L2))"
   ]
  },
  {
   "cell_type": "code",
   "execution_count": 23,
   "metadata": {},
   "outputs": [
    {
     "name": "stdout",
     "output_type": "stream",
     "text": [
      "L1L2: {bc,ac,bb,ab}\n"
     ]
    }
   ],
   "source": [
    "print(\"L1L2:\",L1.concat(L2))"
   ]
  },
  {
   "cell_type": "code",
   "execution_count": 24,
   "metadata": {},
   "outputs": [
    {
     "name": "stdout",
     "output_type": "stream",
     "text": [
      "L1L2: {ca,ba,cb,bb}\n"
     ]
    }
   ],
   "source": [
    "print(\"L1L2:\",L2.concat(L1))"
   ]
  },
  {
   "cell_type": "code",
   "execution_count": 28,
   "metadata": {},
   "outputs": [
    {
     "name": "stdout",
     "output_type": "stream",
     "text": [
      "L1L3: {b▶,a,b,a▶}\n"
     ]
    }
   ],
   "source": [
    "print(\"L1L3:\",L1.concat(L3))"
   ]
  },
  {
   "cell_type": "code",
   "execution_count": 29,
   "metadata": {},
   "outputs": [
    {
     "name": "stdout",
     "output_type": "stream",
     "text": [
      "L3L1: {▶b,a,▶a,b}\n"
     ]
    }
   ],
   "source": [
    "print(\"L3L1:\",L3.concat(L1))"
   ]
  },
  {
   "cell_type": "code",
   "execution_count": 30,
   "metadata": {},
   "outputs": [
    {
     "name": "stdout",
     "output_type": "stream",
     "text": [
      "L3L1L2: {ac,ab,▶ab,▶bc,▶ac,▶bb,bb,bc}\n"
     ]
    }
   ],
   "source": [
    "print(\"L3L1L2:\",L3.concat(L1.concat(L2)))"
   ]
  },
  {
   "cell_type": "code",
   "execution_count": 35,
   "metadata": {},
   "outputs": [
    {
     "name": "stdout",
     "output_type": "stream",
     "text": [
      "L1*: {ε,a,b,aa,ab,ba,bb,aaa,aab,aba,abb,baa,bab,bba,bbb,aaaa,aaab,aaba,aabb,abaa,abab,abba,abbb,baaa,baab,baba,babb,bbaa,bbab,bbba,…}\n",
      "L2*: {ε,c,b,cc,cb,bc,bb,ccc,ccb,cbc,cbb,bcc,bcb,bbc,bbb,cccc,cccb,ccbc,ccbb,cbcc,cbcb,cbbc,cbbb,bccc,bccb,bcbc,bcbb,bbcc,bbcb,bbbc,…}\n"
     ]
    }
   ],
   "source": [
    "print(\"L1*:\",L1.star())\n",
    "print(\"L2*:\",L2.star())\n",
    "# print(\"L3*:\",L3.star()) It has an error and loops"
   ]
  }
 ],
 "metadata": {
  "kernelspec": {
   "display_name": "Python 3",
   "language": "python",
   "name": "python3"
  },
  "language_info": {
   "codemirror_mode": {
    "name": "ipython",
    "version": 3
   },
   "file_extension": ".py",
   "mimetype": "text/x-python",
   "name": "python",
   "nbconvert_exporter": "python",
   "pygments_lexer": "ipython3",
   "version": "3.6.8"
  }
 },
 "nbformat": 4,
 "nbformat_minor": 2
}
