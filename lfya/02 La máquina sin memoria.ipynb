{
 "cells": [
  {
   "cell_type": "markdown",
   "metadata": {},
   "source": [
    "[![Open In Colab](https://colab.research.google.com/assets/colab-badge.svg)](https://colab.research.google.com/github/ivanvladimir/maquinas_notebooks/blob/main/lfya/02%20La%20m%C3%A1quina%20sin%20memoria.ipynb)"
   ]
  },
  {
   "cell_type": "code",
   "execution_count": 1,
   "metadata": {},
   "outputs": [
    {
     "name": "stdout",
     "output_type": "stream",
     "text": [
      "Requirement already up-to-date: maquinas in /home/ivanvladimir/projects/maquinas_notebooks/env/lib/python3.6/site-packages\n",
      "Requirement already up-to-date: graphviz in /home/ivanvladimir/projects/maquinas_notebooks/env/lib/python3.6/site-packages (from maquinas)\n",
      "Requirement already up-to-date: ipywidgets in /home/ivanvladimir/projects/maquinas_notebooks/env/lib/python3.6/site-packages (from maquinas)\n",
      "Requirement already up-to-date: IPython in /home/ivanvladimir/projects/maquinas_notebooks/env/lib/python3.6/site-packages (from maquinas)\n",
      "Requirement already up-to-date: ordered_set in /home/ivanvladimir/projects/maquinas_notebooks/env/lib/python3.6/site-packages (from maquinas)\n",
      "Requirement already up-to-date: Pillow in /home/ivanvladimir/projects/maquinas_notebooks/env/lib/python3.6/site-packages (from maquinas)\n",
      "Requirement already up-to-date: TatSu in /home/ivanvladimir/projects/maquinas_notebooks/env/lib/python3.6/site-packages (from maquinas)\n",
      "Requirement already up-to-date: ipykernel>=4.5.1 in /home/ivanvladimir/projects/maquinas_notebooks/env/lib/python3.6/site-packages (from ipywidgets->maquinas)\n",
      "Requirement already up-to-date: widgetsnbextension~=3.5.0 in /home/ivanvladimir/projects/maquinas_notebooks/env/lib/python3.6/site-packages (from ipywidgets->maquinas)\n",
      "Requirement already up-to-date: jupyterlab-widgets>=1.0.0; python_version >= \"3.6\" in /home/ivanvladimir/projects/maquinas_notebooks/env/lib/python3.6/site-packages (from ipywidgets->maquinas)\n",
      "Requirement already up-to-date: traitlets>=4.3.1 in /home/ivanvladimir/projects/maquinas_notebooks/env/lib/python3.6/site-packages (from ipywidgets->maquinas)\n",
      "Requirement already up-to-date: nbformat>=4.2.0 in /home/ivanvladimir/projects/maquinas_notebooks/env/lib/python3.6/site-packages (from ipywidgets->maquinas)\n",
      "Requirement already up-to-date: jedi>=0.10 in /home/ivanvladimir/projects/maquinas_notebooks/env/lib/python3.6/site-packages (from IPython->maquinas)\n",
      "Requirement already up-to-date: pexpect; sys_platform != \"win32\" in /home/ivanvladimir/projects/maquinas_notebooks/env/lib/python3.6/site-packages (from IPython->maquinas)\n",
      "Requirement already up-to-date: pickleshare in /home/ivanvladimir/projects/maquinas_notebooks/env/lib/python3.6/site-packages (from IPython->maquinas)\n",
      "Requirement already up-to-date: decorator in /home/ivanvladimir/projects/maquinas_notebooks/env/lib/python3.6/site-packages (from IPython->maquinas)\n",
      "Requirement already up-to-date: setuptools>=18.5 in /home/ivanvladimir/projects/maquinas_notebooks/env/lib/python3.6/site-packages (from IPython->maquinas)\n",
      "Requirement already up-to-date: pygments in /home/ivanvladimir/projects/maquinas_notebooks/env/lib/python3.6/site-packages (from IPython->maquinas)\n",
      "Requirement already up-to-date: backcall in /home/ivanvladimir/projects/maquinas_notebooks/env/lib/python3.6/site-packages (from IPython->maquinas)\n",
      "Requirement already up-to-date: prompt-toolkit!=3.0.0,!=3.0.1,<3.1.0,>=2.0.0 in /home/ivanvladimir/projects/maquinas_notebooks/env/lib/python3.6/site-packages (from IPython->maquinas)\n",
      "Requirement already up-to-date: jupyter-client in /home/ivanvladimir/projects/maquinas_notebooks/env/lib/python3.6/site-packages (from ipykernel>=4.5.1->ipywidgets->maquinas)\n",
      "Requirement already up-to-date: tornado>=4.2 in /home/ivanvladimir/projects/maquinas_notebooks/env/lib/python3.6/site-packages (from ipykernel>=4.5.1->ipywidgets->maquinas)\n",
      "Requirement already up-to-date: notebook>=4.4.1 in /home/ivanvladimir/projects/maquinas_notebooks/env/lib/python3.6/site-packages (from widgetsnbextension~=3.5.0->ipywidgets->maquinas)\n",
      "Requirement already up-to-date: six in /home/ivanvladimir/projects/maquinas_notebooks/env/lib/python3.6/site-packages (from traitlets>=4.3.1->ipywidgets->maquinas)\n",
      "Requirement already up-to-date: ipython-genutils in /home/ivanvladimir/projects/maquinas_notebooks/env/lib/python3.6/site-packages (from traitlets>=4.3.1->ipywidgets->maquinas)\n",
      "Requirement already up-to-date: jsonschema!=2.5.0,>=2.4 in /home/ivanvladimir/projects/maquinas_notebooks/env/lib/python3.6/site-packages (from nbformat>=4.2.0->ipywidgets->maquinas)\n",
      "Requirement already up-to-date: jupyter-core in /home/ivanvladimir/projects/maquinas_notebooks/env/lib/python3.6/site-packages (from nbformat>=4.2.0->ipywidgets->maquinas)\n",
      "Requirement already up-to-date: parso<0.9.0,>=0.8.0 in /home/ivanvladimir/projects/maquinas_notebooks/env/lib/python3.6/site-packages (from jedi>=0.10->IPython->maquinas)\n",
      "Requirement already up-to-date: ptyprocess>=0.5 in /home/ivanvladimir/projects/maquinas_notebooks/env/lib/python3.6/site-packages (from pexpect; sys_platform != \"win32\"->IPython->maquinas)\n",
      "Requirement already up-to-date: wcwidth in /home/ivanvladimir/projects/maquinas_notebooks/env/lib/python3.6/site-packages (from prompt-toolkit!=3.0.0,!=3.0.1,<3.1.0,>=2.0.0->IPython->maquinas)\n",
      "Requirement already up-to-date: python-dateutil>=2.1 in /home/ivanvladimir/projects/maquinas_notebooks/env/lib/python3.6/site-packages (from jupyter-client->ipykernel>=4.5.1->ipywidgets->maquinas)\n",
      "Requirement already up-to-date: pyzmq>=13 in /home/ivanvladimir/projects/maquinas_notebooks/env/lib/python3.6/site-packages (from jupyter-client->ipykernel>=4.5.1->ipywidgets->maquinas)\n",
      "Requirement already up-to-date: terminado>=0.8.3 in /home/ivanvladimir/projects/maquinas_notebooks/env/lib/python3.6/site-packages (from notebook>=4.4.1->widgetsnbextension~=3.5.0->ipywidgets->maquinas)\n",
      "Requirement already up-to-date: prometheus-client in /home/ivanvladimir/projects/maquinas_notebooks/env/lib/python3.6/site-packages (from notebook>=4.4.1->widgetsnbextension~=3.5.0->ipywidgets->maquinas)\n",
      "Requirement already up-to-date: argon2-cffi in /home/ivanvladimir/projects/maquinas_notebooks/env/lib/python3.6/site-packages (from notebook>=4.4.1->widgetsnbextension~=3.5.0->ipywidgets->maquinas)\n",
      "Requirement already up-to-date: nbconvert in /home/ivanvladimir/projects/maquinas_notebooks/env/lib/python3.6/site-packages (from notebook>=4.4.1->widgetsnbextension~=3.5.0->ipywidgets->maquinas)\n",
      "Requirement already up-to-date: jinja2 in /home/ivanvladimir/projects/maquinas_notebooks/env/lib/python3.6/site-packages (from notebook>=4.4.1->widgetsnbextension~=3.5.0->ipywidgets->maquinas)\n",
      "Requirement already up-to-date: Send2Trash>=1.5.0 in /home/ivanvladimir/projects/maquinas_notebooks/env/lib/python3.6/site-packages (from notebook>=4.4.1->widgetsnbextension~=3.5.0->ipywidgets->maquinas)\n",
      "Requirement already up-to-date: pyrsistent>=0.14.0 in /home/ivanvladimir/projects/maquinas_notebooks/env/lib/python3.6/site-packages (from jsonschema!=2.5.0,>=2.4->nbformat>=4.2.0->ipywidgets->maquinas)\n",
      "Requirement already up-to-date: attrs>=17.4.0 in /home/ivanvladimir/projects/maquinas_notebooks/env/lib/python3.6/site-packages (from jsonschema!=2.5.0,>=2.4->nbformat>=4.2.0->ipywidgets->maquinas)\n",
      "Requirement already up-to-date: importlib-metadata; python_version < \"3.8\" in /home/ivanvladimir/projects/maquinas_notebooks/env/lib/python3.6/site-packages (from jsonschema!=2.5.0,>=2.4->nbformat>=4.2.0->ipywidgets->maquinas)\n",
      "Requirement already up-to-date: cffi>=1.0.0 in /home/ivanvladimir/projects/maquinas_notebooks/env/lib/python3.6/site-packages (from argon2-cffi->notebook>=4.4.1->widgetsnbextension~=3.5.0->ipywidgets->maquinas)\n",
      "Requirement already up-to-date: entrypoints>=0.2.2 in /home/ivanvladimir/projects/maquinas_notebooks/env/lib/python3.6/site-packages (from nbconvert->notebook>=4.4.1->widgetsnbextension~=3.5.0->ipywidgets->maquinas)\n",
      "Requirement already up-to-date: defusedxml in /home/ivanvladimir/projects/maquinas_notebooks/env/lib/python3.6/site-packages (from nbconvert->notebook>=4.4.1->widgetsnbextension~=3.5.0->ipywidgets->maquinas)\n",
      "Requirement already up-to-date: pandocfilters>=1.4.1 in /home/ivanvladimir/projects/maquinas_notebooks/env/lib/python3.6/site-packages (from nbconvert->notebook>=4.4.1->widgetsnbextension~=3.5.0->ipywidgets->maquinas)\n",
      "Requirement already up-to-date: jupyterlab-pygments in /home/ivanvladimir/projects/maquinas_notebooks/env/lib/python3.6/site-packages (from nbconvert->notebook>=4.4.1->widgetsnbextension~=3.5.0->ipywidgets->maquinas)\n",
      "Requirement already up-to-date: testpath in /home/ivanvladimir/projects/maquinas_notebooks/env/lib/python3.6/site-packages (from nbconvert->notebook>=4.4.1->widgetsnbextension~=3.5.0->ipywidgets->maquinas)\n"
     ]
    },
    {
     "name": "stdout",
     "output_type": "stream",
     "text": [
      "Requirement already up-to-date: nbclient<0.6.0,>=0.5.0 in /home/ivanvladimir/projects/maquinas_notebooks/env/lib/python3.6/site-packages (from nbconvert->notebook>=4.4.1->widgetsnbextension~=3.5.0->ipywidgets->maquinas)\n",
      "Requirement already up-to-date: bleach in /home/ivanvladimir/projects/maquinas_notebooks/env/lib/python3.6/site-packages (from nbconvert->notebook>=4.4.1->widgetsnbextension~=3.5.0->ipywidgets->maquinas)\n",
      "Requirement already up-to-date: mistune<2,>=0.8.1 in /home/ivanvladimir/projects/maquinas_notebooks/env/lib/python3.6/site-packages (from nbconvert->notebook>=4.4.1->widgetsnbextension~=3.5.0->ipywidgets->maquinas)\n",
      "Requirement already up-to-date: MarkupSafe>=0.23 in /home/ivanvladimir/projects/maquinas_notebooks/env/lib/python3.6/site-packages (from jinja2->notebook>=4.4.1->widgetsnbextension~=3.5.0->ipywidgets->maquinas)\n",
      "Requirement already up-to-date: typing-extensions>=3.6.4; python_version < \"3.8\" in /home/ivanvladimir/projects/maquinas_notebooks/env/lib/python3.6/site-packages (from importlib-metadata; python_version < \"3.8\"->jsonschema!=2.5.0,>=2.4->nbformat>=4.2.0->ipywidgets->maquinas)\n",
      "Requirement already up-to-date: zipp>=0.5 in /home/ivanvladimir/projects/maquinas_notebooks/env/lib/python3.6/site-packages (from importlib-metadata; python_version < \"3.8\"->jsonschema!=2.5.0,>=2.4->nbformat>=4.2.0->ipywidgets->maquinas)\n",
      "Requirement already up-to-date: pycparser in /home/ivanvladimir/projects/maquinas_notebooks/env/lib/python3.6/site-packages (from cffi>=1.0.0->argon2-cffi->notebook>=4.4.1->widgetsnbextension~=3.5.0->ipywidgets->maquinas)\n",
      "Requirement already up-to-date: async-generator in /home/ivanvladimir/projects/maquinas_notebooks/env/lib/python3.6/site-packages (from nbclient<0.6.0,>=0.5.0->nbconvert->notebook>=4.4.1->widgetsnbextension~=3.5.0->ipywidgets->maquinas)\n",
      "Requirement already up-to-date: nest-asyncio in /home/ivanvladimir/projects/maquinas_notebooks/env/lib/python3.6/site-packages (from nbclient<0.6.0,>=0.5.0->nbconvert->notebook>=4.4.1->widgetsnbextension~=3.5.0->ipywidgets->maquinas)\n",
      "Requirement already up-to-date: webencodings in /home/ivanvladimir/projects/maquinas_notebooks/env/lib/python3.6/site-packages (from bleach->nbconvert->notebook>=4.4.1->widgetsnbextension~=3.5.0->ipywidgets->maquinas)\n",
      "Requirement already up-to-date: packaging in /home/ivanvladimir/projects/maquinas_notebooks/env/lib/python3.6/site-packages (from bleach->nbconvert->notebook>=4.4.1->widgetsnbextension~=3.5.0->ipywidgets->maquinas)\n",
      "Requirement already up-to-date: pyparsing>=2.0.2 in /home/ivanvladimir/projects/maquinas_notebooks/env/lib/python3.6/site-packages (from packaging->bleach->nbconvert->notebook>=4.4.1->widgetsnbextension~=3.5.0->ipywidgets->maquinas)\n"
     ]
    }
   ],
   "source": [
    "!pip install maquinas --upgrade"
   ]
  },
  {
   "cell_type": "code",
   "execution_count": 2,
   "metadata": {},
   "outputs": [],
   "source": [
    "from maquinas.io import load_fa\n",
    "from maquinas.simulation import Simulation"
   ]
  },
  {
   "cell_type": "code",
   "execution_count": 3,
   "metadata": {},
   "outputs": [
    {
     "name": "stdout",
     "output_type": "stream",
     "text": [
      "States  : q0, q1\n",
      "Sigma   : a, b\n",
      "Initial : q0\n",
      "Aceptors: q0\n",
      "Transitions:\n",
      " q0,a → ('q0',)\n",
      " q0,b → ('q1',)\n",
      " q1,a → ('q1',)\n",
      " q1,b → ('q0',)\n"
     ]
    }
   ],
   "source": [
    "bes_pares=load_fa(\"\"\"\n",
    "      | a  | b\n",
    "->q0] | q0 | q1\n",
    "  q1  | q1 | q0\n",
    "\"\"\")\n",
    "bes_pares.print_summary()"
   ]
  },
  {
   "cell_type": "code",
   "execution_count": 4,
   "metadata": {},
   "outputs": [
    {
     "data": {
      "image/svg+xml": [
       "<?xml version=\"1.0\" encoding=\"UTF-8\" standalone=\"no\"?>\n",
       "<!DOCTYPE svg PUBLIC \"-//W3C//DTD SVG 1.1//EN\"\n",
       " \"http://www.w3.org/Graphics/SVG/1.1/DTD/svg11.dtd\">\n",
       "<!-- Generated by graphviz version 2.40.1 (20161225.0304)\n",
       " -->\n",
       "<!-- Title: %3 Pages: 1 -->\n",
       "<svg width=\"146pt\" height=\"73pt\"\n",
       " viewBox=\"0.00 0.00 174.99 88.00\" xmlns=\"http://www.w3.org/2000/svg\" xmlns:xlink=\"http://www.w3.org/1999/xlink\">\n",
       "<g id=\"graph0\" class=\"graph\" transform=\"scale(.8333 .8333) rotate(0) translate(4 83.9965)\">\n",
       "<title>%3</title>\n",
       "<polygon fill=\"#ffffff\" stroke=\"transparent\" points=\"-4,4 -4,-83.9965 170.9931,-83.9965 170.9931,4 -4,4\"/>\n",
       "<!-- __initial__ -->\n",
       "<g id=\"node1\" class=\"node\">\n",
       "<title>__initial__</title>\n",
       "</g>\n",
       "<!-- q0 -->\n",
       "<g id=\"node2\" class=\"node\">\n",
       "<title>q0</title>\n",
       "<ellipse fill=\"none\" stroke=\"#000000\" cx=\"61.4983\" cy=\"-23.4983\" rx=\"19.4968\" ry=\"19.4968\"/>\n",
       "<ellipse fill=\"none\" stroke=\"#000000\" cx=\"61.4983\" cy=\"-23.4983\" rx=\"23.4965\" ry=\"23.4965\"/>\n",
       "<text text-anchor=\"middle\" x=\"61.4983\" y=\"-19.7983\" font-family=\"Times,serif\" font-size=\"14.00\" fill=\"#000000\">q0</text>\n",
       "</g>\n",
       "<!-- __initial__&#45;&gt;q0 -->\n",
       "<g id=\"edge1\" class=\"edge\">\n",
       "<title>__initial__&#45;&gt;q0</title>\n",
       "<path fill=\"none\" stroke=\"#000000\" d=\"M1.185,-23.4983C4.0482,-23.4983 15.4744,-23.4983 27.6238,-23.4983\"/>\n",
       "<polygon fill=\"#000000\" stroke=\"#000000\" points=\"27.8275,-26.9984 37.8274,-23.4983 27.8274,-19.9984 27.8275,-26.9984\"/>\n",
       "</g>\n",
       "<!-- q0&#45;&gt;q0 -->\n",
       "<g id=\"edge2\" class=\"edge\">\n",
       "<title>q0&#45;&gt;q0</title>\n",
       "<path fill=\"none\" stroke=\"#000000\" d=\"M54.1155,-46.1217C53.4123,-56.243 55.8733,-64.9965 61.4983,-64.9965 65.1018,-64.9965 67.4068,-61.4041 68.4132,-56.161\"/>\n",
       "<polygon fill=\"#000000\" stroke=\"#000000\" points=\"71.9117,-56.2738 68.8811,-46.1217 64.9193,-55.9479 71.9117,-56.2738\"/>\n",
       "<text text-anchor=\"middle\" x=\"61.4983\" y=\"-68.7965\" font-family=\"Times,serif\" font-size=\"14.00\" fill=\"#000000\">a</text>\n",
       "</g>\n",
       "<!-- q1 -->\n",
       "<g id=\"node3\" class=\"node\">\n",
       "<title>q1</title>\n",
       "<ellipse fill=\"none\" stroke=\"#000000\" cx=\"147.4948\" cy=\"-23.4983\" rx=\"19.4965\" ry=\"19.4965\"/>\n",
       "<text text-anchor=\"middle\" x=\"147.4948\" y=\"-19.7983\" font-family=\"Times,serif\" font-size=\"14.00\" fill=\"#000000\">q1</text>\n",
       "</g>\n",
       "<!-- q0&#45;&gt;q1 -->\n",
       "<g id=\"edge3\" class=\"edge\">\n",
       "<title>q0&#45;&gt;q1</title>\n",
       "<path fill=\"none\" stroke=\"#000000\" d=\"M84.9972,-23.4983C95.0676,-23.4983 106.9485,-23.4983 117.6324,-23.4983\"/>\n",
       "<polygon fill=\"#000000\" stroke=\"#000000\" points=\"117.8059,-26.9984 127.8059,-23.4983 117.8059,-19.9984 117.8059,-26.9984\"/>\n",
       "<text text-anchor=\"middle\" x=\"106.4965\" y=\"-27.2983\" font-family=\"Times,serif\" font-size=\"14.00\" fill=\"#000000\">b</text>\n",
       "</g>\n",
       "<!-- q1&#45;&gt;q0 -->\n",
       "<g id=\"edge5\" class=\"edge\">\n",
       "<title>q1&#45;&gt;q0</title>\n",
       "<path fill=\"none\" stroke=\"#000000\" d=\"M130.972,-13.0213C124.6605,-9.5955 117.2369,-6.2279 109.9965,-4.4983 103.5319,-2.9539 96.7816,-3.8626 90.4425,-5.943\"/>\n",
       "<polygon fill=\"#000000\" stroke=\"#000000\" points=\"88.7526,-2.8583 80.9198,-9.9925 91.492,-9.3 88.7526,-2.8583\"/>\n",
       "<text text-anchor=\"middle\" x=\"106.4965\" y=\"-8.2983\" font-family=\"Times,serif\" font-size=\"14.00\" fill=\"#000000\">b</text>\n",
       "</g>\n",
       "<!-- q1&#45;&gt;q1 -->\n",
       "<g id=\"edge4\" class=\"edge\">\n",
       "<title>q1&#45;&gt;q1</title>\n",
       "<path fill=\"none\" stroke=\"#000000\" d=\"M140.3043,-42.0201C139.0823,-51.95 141.4792,-60.9965 147.4948,-60.9965 151.2546,-60.9965 153.6008,-57.4627 154.5334,-52.3881\"/>\n",
       "<polygon fill=\"#000000\" stroke=\"#000000\" points=\"158.0383,-52.0703 154.6854,-42.0201 151.039,-51.9676 158.0383,-52.0703\"/>\n",
       "<text text-anchor=\"middle\" x=\"147.4948\" y=\"-64.7965\" font-family=\"Times,serif\" font-size=\"14.00\" fill=\"#000000\">a</text>\n",
       "</g>\n",
       "</g>\n",
       "</svg>\n"
      ],
      "text/plain": [
       "<graphviz.dot.Digraph at 0x7f3110afd908>"
      ]
     },
     "execution_count": 4,
     "metadata": {},
     "output_type": "execute_result"
    }
   ],
   "source": [
    "bes_pares.graph()"
   ]
  },
  {
   "cell_type": "code",
   "execution_count": 5,
   "metadata": {},
   "outputs": [
    {
     "name": "stdout",
     "output_type": "stream",
     "text": [
      "Probando con aaa el AFD arroja: True\n",
      "Probando con aab el AFD arroja: False\n",
      "Probando con abb el AFD arroja: True\n",
      "Probando con bba el AFD arroja: True\n",
      "Probando con bba el AFD arroja: True\n",
      "Probando con baa el AFD arroja: False\n"
     ]
    }
   ],
   "source": [
    "cadenas=[\"aaa\",\"aab\",'abb','bba','bba','baa']\n",
    "for w in cadenas:\n",
    "    print(f\"Probando con {w} el AFD arroja:\",bes_pares.accepts(w))"
   ]
  },
  {
   "cell_type": "code",
   "execution_count": 6,
   "metadata": {},
   "outputs": [
    {
     "name": "stdout",
     "output_type": "stream",
     "text": [
      "States  : q0, q1\n",
      "Sigma   : a, b\n",
      "Initial : q0\n",
      "Aceptors: q1\n",
      "Transitions:\n",
      " q0,a → ('q0',)\n",
      " q0,b → ('q1',)\n",
      " q1,a → ('q1',)\n",
      " q1,b → ('q0',)\n"
     ]
    }
   ],
   "source": [
    "bes_pares1=load_fa(\"\"\"\n",
    "      | a  | b\n",
    "->q0  | q0 | q1\n",
    "  q1] | q1 | q0\n",
    "\"\"\")\n",
    "bes_pares1.print_summary()"
   ]
  },
  {
   "cell_type": "code",
   "execution_count": 7,
   "metadata": {},
   "outputs": [
    {
     "data": {
      "image/svg+xml": [
       "<?xml version=\"1.0\" encoding=\"UTF-8\" standalone=\"no\"?>\n",
       "<!DOCTYPE svg PUBLIC \"-//W3C//DTD SVG 1.1//EN\"\n",
       " \"http://www.w3.org/Graphics/SVG/1.1/DTD/svg11.dtd\">\n",
       "<!-- Generated by graphviz version 2.40.1 (20161225.0304)\n",
       " -->\n",
       "<!-- Title: %3 Pages: 1 -->\n",
       "<svg width=\"146pt\" height=\"73pt\"\n",
       " viewBox=\"0.00 0.00 174.99 88.00\" xmlns=\"http://www.w3.org/2000/svg\" xmlns:xlink=\"http://www.w3.org/1999/xlink\">\n",
       "<g id=\"graph0\" class=\"graph\" transform=\"scale(.8333 .8333) rotate(0) translate(4 83.9965)\">\n",
       "<title>%3</title>\n",
       "<polygon fill=\"#ffffff\" stroke=\"transparent\" points=\"-4,4 -4,-83.9965 170.9931,-83.9965 170.9931,4 -4,4\"/>\n",
       "<!-- __initial__ -->\n",
       "<g id=\"node1\" class=\"node\">\n",
       "<title>__initial__</title>\n",
       "</g>\n",
       "<!-- q0 -->\n",
       "<g id=\"node2\" class=\"node\">\n",
       "<title>q0</title>\n",
       "<ellipse fill=\"none\" stroke=\"#000000\" cx=\"57.4983\" cy=\"-23.4983\" rx=\"19.4965\" ry=\"19.4965\"/>\n",
       "<text text-anchor=\"middle\" x=\"57.4983\" y=\"-19.7983\" font-family=\"Times,serif\" font-size=\"14.00\" fill=\"#000000\">q0</text>\n",
       "</g>\n",
       "<!-- __initial__&#45;&gt;q0 -->\n",
       "<g id=\"edge1\" class=\"edge\">\n",
       "<title>__initial__&#45;&gt;q0</title>\n",
       "<path fill=\"none\" stroke=\"#000000\" d=\"M1.1401,-23.4983C3.9684,-23.4983 15.7387,-23.4983 27.7966,-23.4983\"/>\n",
       "<polygon fill=\"#000000\" stroke=\"#000000\" points=\"27.8029,-26.9984 37.8029,-23.4983 27.8029,-19.9984 27.8029,-26.9984\"/>\n",
       "</g>\n",
       "<!-- q0&#45;&gt;q0 -->\n",
       "<g id=\"edge2\" class=\"edge\">\n",
       "<title>q0&#45;&gt;q0</title>\n",
       "<path fill=\"none\" stroke=\"#000000\" d=\"M51.0268,-42.0201C49.927,-51.95 52.0842,-60.9965 57.4983,-60.9965 60.8821,-60.9965 62.9936,-57.4627 63.833,-52.3881\"/>\n",
       "<polygon fill=\"#000000\" stroke=\"#000000\" points=\"67.3374,-52.0654 63.9698,-42.0201 60.338,-51.973 67.3374,-52.0654\"/>\n",
       "<text text-anchor=\"middle\" x=\"57.4983\" y=\"-64.7965\" font-family=\"Times,serif\" font-size=\"14.00\" fill=\"#000000\">a</text>\n",
       "</g>\n",
       "<!-- q1 -->\n",
       "<g id=\"node3\" class=\"node\">\n",
       "<title>q1</title>\n",
       "<ellipse fill=\"none\" stroke=\"#000000\" cx=\"143.4948\" cy=\"-23.4983\" rx=\"19.4968\" ry=\"19.4968\"/>\n",
       "<ellipse fill=\"none\" stroke=\"#000000\" cx=\"143.4948\" cy=\"-23.4983\" rx=\"23.4965\" ry=\"23.4965\"/>\n",
       "<text text-anchor=\"middle\" x=\"143.4948\" y=\"-19.7983\" font-family=\"Times,serif\" font-size=\"14.00\" fill=\"#000000\">q1</text>\n",
       "</g>\n",
       "<!-- q0&#45;&gt;q1 -->\n",
       "<g id=\"edge3\" class=\"edge\">\n",
       "<title>q0&#45;&gt;q1</title>\n",
       "<path fill=\"none\" stroke=\"#000000\" d=\"M77.0122,-23.4983C86.626,-23.4983 98.4993,-23.4983 109.5395,-23.4983\"/>\n",
       "<polygon fill=\"#000000\" stroke=\"#000000\" points=\"109.7683,-26.9984 119.7682,-23.4983 109.7682,-19.9984 109.7683,-26.9984\"/>\n",
       "<text text-anchor=\"middle\" x=\"98.4965\" y=\"-27.2983\" font-family=\"Times,serif\" font-size=\"14.00\" fill=\"#000000\">b</text>\n",
       "</g>\n",
       "<!-- q1&#45;&gt;q0 -->\n",
       "<g id=\"edge5\" class=\"edge\">\n",
       "<title>q1&#45;&gt;q0</title>\n",
       "<path fill=\"none\" stroke=\"#000000\" d=\"M124.0733,-9.9925C115.3617,-5.4876 104.8474,-2.145 94.9965,-4.4983 91.037,-5.4442 87.0226,-6.8799 83.1653,-8.5472\"/>\n",
       "<polygon fill=\"#000000\" stroke=\"#000000\" points=\"81.4653,-5.4824 74.0211,-13.0213 84.5418,-11.7701 81.4653,-5.4824\"/>\n",
       "<text text-anchor=\"middle\" x=\"98.4965\" y=\"-8.2983\" font-family=\"Times,serif\" font-size=\"14.00\" fill=\"#000000\">b</text>\n",
       "</g>\n",
       "<!-- q1&#45;&gt;q1 -->\n",
       "<g id=\"edge4\" class=\"edge\">\n",
       "<title>q1&#45;&gt;q1</title>\n",
       "<path fill=\"none\" stroke=\"#000000\" d=\"M135.408,-45.6992C134.5258,-55.9982 137.2214,-64.9965 143.4948,-64.9965 147.5137,-64.9965 150.0643,-61.3036 151.1466,-55.9416\"/>\n",
       "<polygon fill=\"#000000\" stroke=\"#000000\" points=\"154.654,-55.8388 151.5817,-45.6992 147.6603,-55.5416 154.654,-55.8388\"/>\n",
       "<text text-anchor=\"middle\" x=\"143.4948\" y=\"-68.7965\" font-family=\"Times,serif\" font-size=\"14.00\" fill=\"#000000\">a</text>\n",
       "</g>\n",
       "</g>\n",
       "</svg>\n"
      ],
      "text/plain": [
       "<graphviz.dot.Digraph at 0x7f3110b19908>"
      ]
     },
     "execution_count": 7,
     "metadata": {},
     "output_type": "execute_result"
    }
   ],
   "source": [
    "bes_pares1.graph()"
   ]
  },
  {
   "cell_type": "code",
   "execution_count": 8,
   "metadata": {},
   "outputs": [
    {
     "name": "stdout",
     "output_type": "stream",
     "text": [
      "Probando con aaa el AFD arroja: False\n",
      "Probando con aab el AFD arroja: True\n",
      "Probando con abb el AFD arroja: False\n",
      "Probando con bba el AFD arroja: False\n",
      "Probando con bba el AFD arroja: False\n",
      "Probando con baa el AFD arroja: True\n"
     ]
    }
   ],
   "source": [
    "cadenas=[\"aaa\",\"aab\",'abb','bba','bba','baa']\n",
    "for w in cadenas:\n",
    "    print(f\"Probando con {w} el AFD arroja:\",bes_pares1.accepts(w))"
   ]
  },
  {
   "cell_type": "code",
   "execution_count": 9,
   "metadata": {},
   "outputs": [
    {
     "name": "stdout",
     "output_type": "stream",
     "text": [
      "States  : q0, q1\n",
      "Sigma   : a, b\n",
      "Initial : q0\n",
      "Aceptors: q1, q0\n",
      "Transitions:\n",
      " q0,a → ('q0',)\n",
      " q0,b → ('q1',)\n",
      " q1,a → ('q1',)\n",
      " q1,b → ('q0',)\n"
     ]
    }
   ],
   "source": [
    "bes_pares2=load_fa(\"\"\"\n",
    "      | a  | b\n",
    "->q0] | q0 | q1\n",
    "  q1] | q1 | q0\n",
    "\"\"\")\n",
    "bes_pares2.print_summary()"
   ]
  },
  {
   "cell_type": "code",
   "execution_count": 10,
   "metadata": {},
   "outputs": [
    {
     "data": {
      "image/svg+xml": [
       "<?xml version=\"1.0\" encoding=\"UTF-8\" standalone=\"no\"?>\n",
       "<!DOCTYPE svg PUBLIC \"-//W3C//DTD SVG 1.1//EN\"\n",
       " \"http://www.w3.org/Graphics/SVG/1.1/DTD/svg11.dtd\">\n",
       "<!-- Generated by graphviz version 2.40.1 (20161225.0304)\n",
       " -->\n",
       "<!-- Title: %3 Pages: 1 -->\n",
       "<svg width=\"152pt\" height=\"73pt\"\n",
       " viewBox=\"0.00 0.00 182.99 88.00\" xmlns=\"http://www.w3.org/2000/svg\" xmlns:xlink=\"http://www.w3.org/1999/xlink\">\n",
       "<g id=\"graph0\" class=\"graph\" transform=\"scale(.8333 .8333) rotate(0) translate(4 83.9965)\">\n",
       "<title>%3</title>\n",
       "<polygon fill=\"#ffffff\" stroke=\"transparent\" points=\"-4,4 -4,-83.9965 178.9931,-83.9965 178.9931,4 -4,4\"/>\n",
       "<!-- __initial__ -->\n",
       "<g id=\"node1\" class=\"node\">\n",
       "<title>__initial__</title>\n",
       "</g>\n",
       "<!-- q0 -->\n",
       "<g id=\"node2\" class=\"node\">\n",
       "<title>q0</title>\n",
       "<ellipse fill=\"none\" stroke=\"#000000\" cx=\"61.4983\" cy=\"-23.4983\" rx=\"19.4968\" ry=\"19.4968\"/>\n",
       "<ellipse fill=\"none\" stroke=\"#000000\" cx=\"61.4983\" cy=\"-23.4983\" rx=\"23.4965\" ry=\"23.4965\"/>\n",
       "<text text-anchor=\"middle\" x=\"61.4983\" y=\"-19.7983\" font-family=\"Times,serif\" font-size=\"14.00\" fill=\"#000000\">q0</text>\n",
       "</g>\n",
       "<!-- __initial__&#45;&gt;q0 -->\n",
       "<g id=\"edge1\" class=\"edge\">\n",
       "<title>__initial__&#45;&gt;q0</title>\n",
       "<path fill=\"none\" stroke=\"#000000\" d=\"M1.185,-23.4983C4.0482,-23.4983 15.4744,-23.4983 27.6238,-23.4983\"/>\n",
       "<polygon fill=\"#000000\" stroke=\"#000000\" points=\"27.8275,-26.9984 37.8274,-23.4983 27.8274,-19.9984 27.8275,-26.9984\"/>\n",
       "</g>\n",
       "<!-- q0&#45;&gt;q0 -->\n",
       "<g id=\"edge2\" class=\"edge\">\n",
       "<title>q0&#45;&gt;q0</title>\n",
       "<path fill=\"none\" stroke=\"#000000\" d=\"M54.1155,-46.1217C53.4123,-56.243 55.8733,-64.9965 61.4983,-64.9965 65.1018,-64.9965 67.4068,-61.4041 68.4132,-56.161\"/>\n",
       "<polygon fill=\"#000000\" stroke=\"#000000\" points=\"71.9117,-56.2738 68.8811,-46.1217 64.9193,-55.9479 71.9117,-56.2738\"/>\n",
       "<text text-anchor=\"middle\" x=\"61.4983\" y=\"-68.7965\" font-family=\"Times,serif\" font-size=\"14.00\" fill=\"#000000\">a</text>\n",
       "</g>\n",
       "<!-- q1 -->\n",
       "<g id=\"node3\" class=\"node\">\n",
       "<title>q1</title>\n",
       "<ellipse fill=\"none\" stroke=\"#000000\" cx=\"151.4948\" cy=\"-23.4983\" rx=\"19.4968\" ry=\"19.4968\"/>\n",
       "<ellipse fill=\"none\" stroke=\"#000000\" cx=\"151.4948\" cy=\"-23.4983\" rx=\"23.4965\" ry=\"23.4965\"/>\n",
       "<text text-anchor=\"middle\" x=\"151.4948\" y=\"-19.7983\" font-family=\"Times,serif\" font-size=\"14.00\" fill=\"#000000\">q1</text>\n",
       "</g>\n",
       "<!-- q0&#45;&gt;q1 -->\n",
       "<g id=\"edge3\" class=\"edge\">\n",
       "<title>q0&#45;&gt;q1</title>\n",
       "<path fill=\"none\" stroke=\"#000000\" d=\"M85.1438,-23.4983C95.0893,-23.4983 106.8463,-23.4983 117.68,-23.4983\"/>\n",
       "<polygon fill=\"#000000\" stroke=\"#000000\" points=\"117.6948,-26.9984 127.6947,-23.4983 117.6947,-19.9984 117.6948,-26.9984\"/>\n",
       "<text text-anchor=\"middle\" x=\"106.4965\" y=\"-27.2983\" font-family=\"Times,serif\" font-size=\"14.00\" fill=\"#000000\">b</text>\n",
       "</g>\n",
       "<!-- q1&#45;&gt;q0 -->\n",
       "<g id=\"edge5\" class=\"edge\">\n",
       "<title>q1&#45;&gt;q0</title>\n",
       "<path fill=\"none\" stroke=\"#000000\" d=\"M132.1157,-10.1782C123.4119,-5.7076 112.8921,-2.3406 102.9965,-4.4983 99.1014,-5.3476 95.1344,-6.5969 91.2743,-8.0563\"/>\n",
       "<polygon fill=\"#000000\" stroke=\"#000000\" points=\"89.8282,-4.8679 82.0009,-12.0082 92.5725,-11.3076 89.8282,-4.8679\"/>\n",
       "<text text-anchor=\"middle\" x=\"106.4965\" y=\"-8.2983\" font-family=\"Times,serif\" font-size=\"14.00\" fill=\"#000000\">b</text>\n",
       "</g>\n",
       "<!-- q1&#45;&gt;q1 -->\n",
       "<g id=\"edge4\" class=\"edge\">\n",
       "<title>q1&#45;&gt;q1</title>\n",
       "<path fill=\"none\" stroke=\"#000000\" d=\"M143.408,-45.6992C142.5258,-55.9982 145.2214,-64.9965 151.4948,-64.9965 155.5137,-64.9965 158.0643,-61.3036 159.1466,-55.9416\"/>\n",
       "<polygon fill=\"#000000\" stroke=\"#000000\" points=\"162.654,-55.8388 159.5817,-45.6992 155.6603,-55.5416 162.654,-55.8388\"/>\n",
       "<text text-anchor=\"middle\" x=\"151.4948\" y=\"-68.7965\" font-family=\"Times,serif\" font-size=\"14.00\" fill=\"#000000\">a</text>\n",
       "</g>\n",
       "</g>\n",
       "</svg>\n"
      ],
      "text/plain": [
       "<graphviz.dot.Digraph at 0x7f3110b19be0>"
      ]
     },
     "execution_count": 10,
     "metadata": {},
     "output_type": "execute_result"
    }
   ],
   "source": [
    "bes_pares2.graph()"
   ]
  },
  {
   "cell_type": "code",
   "execution_count": 11,
   "metadata": {},
   "outputs": [
    {
     "name": "stdout",
     "output_type": "stream",
     "text": [
      "Probando con aaa el AFD arroja: True\n",
      "Probando con aab el AFD arroja: True\n",
      "Probando con abb el AFD arroja: True\n",
      "Probando con bba el AFD arroja: True\n",
      "Probando con bba el AFD arroja: True\n",
      "Probando con baa el AFD arroja: True\n"
     ]
    }
   ],
   "source": [
    "cadenas=[\"aaa\",\"aab\",'abb','bba','bba','baa']\n",
    "for w in cadenas:\n",
    "    print(f\"Probando con {w} el AFD arroja:\",bes_pares2.accepts(w))"
   ]
  },
  {
   "cell_type": "code",
   "execution_count": 12,
   "metadata": {},
   "outputs": [
    {
     "data": {
      "application/vnd.jupyter.widget-view+json": {
       "model_id": "c27ed613dbfb42bab81067b3e3eb1752",
       "version_major": 2,
       "version_minor": 0
      },
      "text/plain": [
       "VBox(children=(HBox(children=(Text(value='baaabaaabb', description='Cadena'), Button(description='⏎', style=Bu…"
      ]
     },
     "metadata": {},
     "output_type": "display_data"
    }
   ],
   "source": [
    "s=Simulation(bes_pares,\"baaabaaabb\")\n",
    "s.run()"
   ]
  },
  {
   "cell_type": "code",
   "execution_count": 13,
   "metadata": {},
   "outputs": [
    {
     "name": "stdout",
     "output_type": "stream",
     "text": [
      "q0\n",
      " a -> {'q0'},\n",
      " b -> {'q1'},\n",
      " b -> {'q0'},\n",
      " a -> {'q0'},\n",
      " a -> {'q0'},\n",
      " \n",
      "Con {'q0'} Se acepta? Sí\n"
     ]
    }
   ],
   "source": [
    "for q,a,w_ in bes_pares.delta_stepwise(\"abbaa\"):\n",
    "    if a:\n",
    "        print(f\"{a} -> {q}\", end=\",\\n \")\n",
    "    else:\n",
    "        print(f\"{q}\",end=\"\\n \")\n",
    "    res=q\n",
    "    \n",
    "print(f\"\\nCon {res} Se acepta?\", \"Sí\" if bes_pares.acceptor(res) else \"No\" )"
   ]
  }
 ],
 "metadata": {
  "kernelspec": {
   "display_name": "Python 3",
   "language": "python",
   "name": "python3"
  },
  "language_info": {
   "codemirror_mode": {
    "name": "ipython",
    "version": 3
   },
   "file_extension": ".py",
   "mimetype": "text/x-python",
   "name": "python",
   "nbconvert_exporter": "python",
   "pygments_lexer": "ipython3",
   "version": "3.6.9"
  }
 },
 "nbformat": 4,
 "nbformat_minor": 2
}
