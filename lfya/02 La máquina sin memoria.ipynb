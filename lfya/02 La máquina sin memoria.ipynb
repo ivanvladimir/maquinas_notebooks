{
 "cells": [
  {
   "cell_type": "markdown",
   "metadata": {},
   "source": [
    "[![Open In Colab](https://colab.research.google.com/assets/colab-badge.svg)](https://colab.research.google.com/github/ivanvladimir/maquinas_notebooks/blob/main/lfya/02%20La%20m%C3%A1quina%20sin%20memoria.ipynb)"
   ]
  },
  {
   "cell_type": "code",
   "execution_count": 1,
   "metadata": {},
   "outputs": [
    {
     "name": "stdout",
     "output_type": "stream",
     "text": [
      "Requirement already satisfied: maquinas in /home/ivanvladimir/projects/maquinas_examples/env/lib/python3.6/site-packages (0.1.5.6)\n",
      "Requirement already satisfied: ordered-set in /home/ivanvladimir/projects/maquinas_examples/env/lib/python3.6/site-packages (from maquinas) (4.0.2)\n",
      "Requirement already satisfied: TatSu in /home/ivanvladimir/projects/maquinas_examples/env/lib/python3.6/site-packages (from maquinas) (4.4.0)\n",
      "Requirement already satisfied: graphviz in /home/ivanvladimir/projects/maquinas_examples/env/lib/python3.6/site-packages (from maquinas) (0.14.1)\n",
      "Requirement already satisfied: Pillow in /home/ivanvladimir/projects/maquinas_examples/env/lib/python3.6/site-packages (from maquinas) (7.2.0)\n",
      "Requirement already satisfied: ipywidgets in /home/ivanvladimir/projects/maquinas_examples/env/lib/python3.6/site-packages (from maquinas) (7.5.1)\n",
      "Requirement already satisfied: IPython in /home/ivanvladimir/projects/maquinas_examples/env/lib/python3.6/site-packages (from maquinas) (7.16.1)\n",
      "Requirement already satisfied: ipykernel>=4.5.1 in /home/ivanvladimir/projects/maquinas_examples/env/lib/python3.6/site-packages (from ipywidgets->maquinas) (5.3.4)\n",
      "Requirement already satisfied: traitlets>=4.3.1 in /home/ivanvladimir/projects/maquinas_examples/env/lib/python3.6/site-packages (from ipywidgets->maquinas) (4.3.3)\n",
      "Requirement already satisfied: widgetsnbextension~=3.5.0 in /home/ivanvladimir/projects/maquinas_examples/env/lib/python3.6/site-packages (from ipywidgets->maquinas) (3.5.1)\n",
      "Requirement already satisfied: nbformat>=4.2.0 in /home/ivanvladimir/projects/maquinas_examples/env/lib/python3.6/site-packages (from ipywidgets->maquinas) (5.0.7)\n",
      "Requirement already satisfied: jedi>=0.10 in /home/ivanvladimir/projects/maquinas_examples/env/lib/python3.6/site-packages (from IPython->maquinas) (0.17.2)\n",
      "Requirement already satisfied: pygments in /home/ivanvladimir/projects/maquinas_examples/env/lib/python3.6/site-packages (from IPython->maquinas) (2.7.1)\n",
      "Requirement already satisfied: pickleshare in /home/ivanvladimir/projects/maquinas_examples/env/lib/python3.6/site-packages (from IPython->maquinas) (0.7.5)\n",
      "Requirement already satisfied: backcall in /home/ivanvladimir/projects/maquinas_examples/env/lib/python3.6/site-packages (from IPython->maquinas) (0.2.0)\n",
      "Requirement already satisfied: decorator in /home/ivanvladimir/projects/maquinas_examples/env/lib/python3.6/site-packages (from IPython->maquinas) (4.4.2)\n",
      "Requirement already satisfied: pexpect; sys_platform != \"win32\" in /home/ivanvladimir/projects/maquinas_examples/env/lib/python3.6/site-packages (from IPython->maquinas) (4.8.0)\n",
      "Requirement already satisfied: setuptools>=18.5 in /home/ivanvladimir/projects/maquinas_examples/env/lib/python3.6/site-packages (from IPython->maquinas) (50.3.0)\n",
      "Requirement already satisfied: prompt-toolkit!=3.0.0,!=3.0.1,<3.1.0,>=2.0.0 in /home/ivanvladimir/projects/maquinas_examples/env/lib/python3.6/site-packages (from IPython->maquinas) (3.0.7)\n",
      "Requirement already satisfied: tornado>=4.2 in /home/ivanvladimir/projects/maquinas_examples/env/lib/python3.6/site-packages (from ipykernel>=4.5.1->ipywidgets->maquinas) (6.0.4)\n",
      "Requirement already satisfied: jupyter-client in /home/ivanvladimir/projects/maquinas_examples/env/lib/python3.6/site-packages (from ipykernel>=4.5.1->ipywidgets->maquinas) (6.1.7)\n",
      "Requirement already satisfied: six in /home/ivanvladimir/projects/maquinas_examples/env/lib/python3.6/site-packages (from traitlets>=4.3.1->ipywidgets->maquinas) (1.15.0)\n",
      "Requirement already satisfied: ipython-genutils in /home/ivanvladimir/projects/maquinas_examples/env/lib/python3.6/site-packages (from traitlets>=4.3.1->ipywidgets->maquinas) (0.2.0)\n",
      "Requirement already satisfied: notebook>=4.4.1 in /home/ivanvladimir/projects/maquinas_examples/env/lib/python3.6/site-packages (from widgetsnbextension~=3.5.0->ipywidgets->maquinas) (6.1.4)\n",
      "Requirement already satisfied: jsonschema!=2.5.0,>=2.4 in /home/ivanvladimir/projects/maquinas_examples/env/lib/python3.6/site-packages (from nbformat>=4.2.0->ipywidgets->maquinas) (3.2.0)\n",
      "Requirement already satisfied: jupyter-core in /home/ivanvladimir/projects/maquinas_examples/env/lib/python3.6/site-packages (from nbformat>=4.2.0->ipywidgets->maquinas) (4.6.3)\n",
      "Requirement already satisfied: parso<0.8.0,>=0.7.0 in /home/ivanvladimir/projects/maquinas_examples/env/lib/python3.6/site-packages (from jedi>=0.10->IPython->maquinas) (0.7.1)\n",
      "Requirement already satisfied: ptyprocess>=0.5 in /home/ivanvladimir/projects/maquinas_examples/env/lib/python3.6/site-packages (from pexpect; sys_platform != \"win32\"->IPython->maquinas) (0.6.0)\n",
      "Requirement already satisfied: wcwidth in /home/ivanvladimir/projects/maquinas_examples/env/lib/python3.6/site-packages (from prompt-toolkit!=3.0.0,!=3.0.1,<3.1.0,>=2.0.0->IPython->maquinas) (0.2.5)\n",
      "Requirement already satisfied: python-dateutil>=2.1 in /home/ivanvladimir/projects/maquinas_examples/env/lib/python3.6/site-packages (from jupyter-client->ipykernel>=4.5.1->ipywidgets->maquinas) (2.8.1)\n",
      "Requirement already satisfied: pyzmq>=13 in /home/ivanvladimir/projects/maquinas_examples/env/lib/python3.6/site-packages (from jupyter-client->ipykernel>=4.5.1->ipywidgets->maquinas) (19.0.2)\n",
      "Requirement already satisfied: prometheus-client in /home/ivanvladimir/projects/maquinas_examples/env/lib/python3.6/site-packages (from notebook>=4.4.1->widgetsnbextension~=3.5.0->ipywidgets->maquinas) (0.8.0)\n",
      "Requirement already satisfied: terminado>=0.8.3 in /home/ivanvladimir/projects/maquinas_examples/env/lib/python3.6/site-packages (from notebook>=4.4.1->widgetsnbextension~=3.5.0->ipywidgets->maquinas) (0.9.1)\n",
      "Requirement already satisfied: Send2Trash in /home/ivanvladimir/projects/maquinas_examples/env/lib/python3.6/site-packages (from notebook>=4.4.1->widgetsnbextension~=3.5.0->ipywidgets->maquinas) (1.5.0)\n",
      "Requirement already satisfied: jinja2 in /home/ivanvladimir/projects/maquinas_examples/env/lib/python3.6/site-packages (from notebook>=4.4.1->widgetsnbextension~=3.5.0->ipywidgets->maquinas) (2.11.2)\n",
      "Requirement already satisfied: nbconvert in /home/ivanvladimir/projects/maquinas_examples/env/lib/python3.6/site-packages (from notebook>=4.4.1->widgetsnbextension~=3.5.0->ipywidgets->maquinas) (6.0.6)\n",
      "Requirement already satisfied: argon2-cffi in /home/ivanvladimir/projects/maquinas_examples/env/lib/python3.6/site-packages (from notebook>=4.4.1->widgetsnbextension~=3.5.0->ipywidgets->maquinas) (20.1.0)\n",
      "Requirement already satisfied: attrs>=17.4.0 in /home/ivanvladimir/projects/maquinas_examples/env/lib/python3.6/site-packages (from jsonschema!=2.5.0,>=2.4->nbformat>=4.2.0->ipywidgets->maquinas) (20.2.0)\n",
      "Requirement already satisfied: importlib-metadata; python_version < \"3.8\" in /home/ivanvladimir/projects/maquinas_examples/env/lib/python3.6/site-packages (from jsonschema!=2.5.0,>=2.4->nbformat>=4.2.0->ipywidgets->maquinas) (2.0.0)\n",
      "Requirement already satisfied: pyrsistent>=0.14.0 in /home/ivanvladimir/projects/maquinas_examples/env/lib/python3.6/site-packages (from jsonschema!=2.5.0,>=2.4->nbformat>=4.2.0->ipywidgets->maquinas) (0.17.3)\n",
      "Requirement already satisfied: MarkupSafe>=0.23 in /home/ivanvladimir/projects/maquinas_examples/env/lib/python3.6/site-packages (from jinja2->notebook>=4.4.1->widgetsnbextension~=3.5.0->ipywidgets->maquinas) (1.1.1)\n",
      "Requirement already satisfied: defusedxml in /home/ivanvladimir/projects/maquinas_examples/env/lib/python3.6/site-packages (from nbconvert->notebook>=4.4.1->widgetsnbextension~=3.5.0->ipywidgets->maquinas) (0.6.0)\n",
      "Requirement already satisfied: entrypoints>=0.2.2 in /home/ivanvladimir/projects/maquinas_examples/env/lib/python3.6/site-packages (from nbconvert->notebook>=4.4.1->widgetsnbextension~=3.5.0->ipywidgets->maquinas) (0.3)\n",
      "Requirement already satisfied: pandocfilters>=1.4.1 in /home/ivanvladimir/projects/maquinas_examples/env/lib/python3.6/site-packages (from nbconvert->notebook>=4.4.1->widgetsnbextension~=3.5.0->ipywidgets->maquinas) (1.4.2)\n",
      "Requirement already satisfied: mistune<2,>=0.8.1 in /home/ivanvladimir/projects/maquinas_examples/env/lib/python3.6/site-packages (from nbconvert->notebook>=4.4.1->widgetsnbextension~=3.5.0->ipywidgets->maquinas) (0.8.4)\n",
      "Requirement already satisfied: testpath in /home/ivanvladimir/projects/maquinas_examples/env/lib/python3.6/site-packages (from nbconvert->notebook>=4.4.1->widgetsnbextension~=3.5.0->ipywidgets->maquinas) (0.4.4)\n",
      "Requirement already satisfied: bleach in /home/ivanvladimir/projects/maquinas_examples/env/lib/python3.6/site-packages (from nbconvert->notebook>=4.4.1->widgetsnbextension~=3.5.0->ipywidgets->maquinas) (3.2.1)\n"
     ]
    },
    {
     "name": "stdout",
     "output_type": "stream",
     "text": [
      "Requirement already satisfied: jupyterlab-pygments in /home/ivanvladimir/projects/maquinas_examples/env/lib/python3.6/site-packages (from nbconvert->notebook>=4.4.1->widgetsnbextension~=3.5.0->ipywidgets->maquinas) (0.1.1)\n",
      "Requirement already satisfied: nbclient<0.6.0,>=0.5.0 in /home/ivanvladimir/projects/maquinas_examples/env/lib/python3.6/site-packages (from nbconvert->notebook>=4.4.1->widgetsnbextension~=3.5.0->ipywidgets->maquinas) (0.5.0)\n",
      "Requirement already satisfied: cffi>=1.0.0 in /home/ivanvladimir/projects/maquinas_examples/env/lib/python3.6/site-packages (from argon2-cffi->notebook>=4.4.1->widgetsnbextension~=3.5.0->ipywidgets->maquinas) (1.14.3)\n",
      "Requirement already satisfied: zipp>=0.5 in /home/ivanvladimir/projects/maquinas_examples/env/lib/python3.6/site-packages (from importlib-metadata; python_version < \"3.8\"->jsonschema!=2.5.0,>=2.4->nbformat>=4.2.0->ipywidgets->maquinas) (3.2.0)\n",
      "Requirement already satisfied: webencodings in /home/ivanvladimir/projects/maquinas_examples/env/lib/python3.6/site-packages (from bleach->nbconvert->notebook>=4.4.1->widgetsnbextension~=3.5.0->ipywidgets->maquinas) (0.5.1)\n",
      "Requirement already satisfied: packaging in /home/ivanvladimir/projects/maquinas_examples/env/lib/python3.6/site-packages (from bleach->nbconvert->notebook>=4.4.1->widgetsnbextension~=3.5.0->ipywidgets->maquinas) (20.4)\n",
      "Requirement already satisfied: nest-asyncio in /home/ivanvladimir/projects/maquinas_examples/env/lib/python3.6/site-packages (from nbclient<0.6.0,>=0.5.0->nbconvert->notebook>=4.4.1->widgetsnbextension~=3.5.0->ipywidgets->maquinas) (1.4.0)\n",
      "Requirement already satisfied: async-generator in /home/ivanvladimir/projects/maquinas_examples/env/lib/python3.6/site-packages (from nbclient<0.6.0,>=0.5.0->nbconvert->notebook>=4.4.1->widgetsnbextension~=3.5.0->ipywidgets->maquinas) (1.10)\n",
      "Requirement already satisfied: pycparser in /home/ivanvladimir/projects/maquinas_examples/env/lib/python3.6/site-packages (from cffi>=1.0.0->argon2-cffi->notebook>=4.4.1->widgetsnbextension~=3.5.0->ipywidgets->maquinas) (2.20)\n",
      "Requirement already satisfied: pyparsing>=2.0.2 in /home/ivanvladimir/projects/maquinas_examples/env/lib/python3.6/site-packages (from packaging->bleach->nbconvert->notebook>=4.4.1->widgetsnbextension~=3.5.0->ipywidgets->maquinas) (2.4.7)\n",
      "\u001b[33mWARNING: You are using pip version 20.2.3; however, version 21.0.1 is available.\n",
      "You should consider upgrading via the '/home/ivanvladimir/projects/maquinas_examples/env/bin/python3.6 -m pip install --upgrade pip' command.\u001b[0m\n"
     ]
    }
   ],
   "source": [
    "!pip install maquinas"
   ]
  },
  {
   "cell_type": "code",
   "execution_count": 1,
   "metadata": {},
   "outputs": [],
   "source": [
    "from maquinas.regular.dfa import DeterministicFiniteAutomaton as DFA\n",
    "from maquinas.simulation import Simulation\n",
    "from maquinas.io import *"
   ]
  },
  {
   "cell_type": "code",
   "execution_count": 2,
   "metadata": {},
   "outputs": [
    {
     "name": "stdout",
     "output_type": "stream",
     "text": [
      "States  : q₀, q₁\n",
      "Sigma   : a, b\n",
      "Initial : q₀\n",
      "Aceptors: {q₀}\n",
      "Transitions:\n",
      " q₀,a → q₀\n",
      " q₀,b → q₁\n",
      " q₁,b → q₀\n",
      " q₁,a → q₁\n"
     ]
    }
   ],
   "source": [
    "#@title creating DFA\n",
    "bes_pares=DFA(Q=['q₀','q₁'],\n",
    "                         sigma=['a','b'],\n",
    "                         q_0='q₀',\n",
    "                         A=['q₀'],\n",
    "                         delta=[\n",
    "                            (('q₀','a'),'q₀'),\n",
    "                            (('q₁','b'),'q₀'),\n",
    "                            (('q₁','a'),'q₁'),\n",
    "                            (('q₀','b'),'q₁'),\n",
    "                         ])\n",
    "bes_pares.print_summary()"
   ]
  },
  {
   "cell_type": "code",
   "execution_count": 3,
   "metadata": {},
   "outputs": [
    {
     "name": "stdout",
     "output_type": "stream",
     "text": [
      "States  : q₀, q₁\n",
      "Sigma   : a, b\n",
      "Initial : q₀\n",
      "Aceptors: {q₀}\n",
      "Transitions:\n",
      " q₀,a → q₀\n",
      " q₀,b → q₁\n",
      " q₁,a → q₁\n",
      " q₁,b → q₀\n"
     ]
    }
   ],
   "source": [
    "bes_pares=load_fa(\"\"\"\n",
    "        | a | b\n",
    "-> q₀]  |q₀  | q₁\n",
    "   q₁   |q₁  | q₀\n",
    "\"\"\")\n",
    "bes_pares.print_summary()"
   ]
  },
  {
   "cell_type": "code",
   "execution_count": 4,
   "metadata": {},
   "outputs": [
    {
     "name": "stdout",
     "output_type": "stream",
     "text": [
      "States  : q₀, q₁\n",
      "Sigma   : a, b\n",
      "Initial : q₀\n",
      "Aceptors: {q₀}\n",
      "Transitions:\n",
      " q₀,a → q₀\n",
      " q₀,b → q₁\n",
      " q₁,a → q₁\n",
      " q₁,b → q₀\n"
     ]
    }
   ],
   "source": [
    "bes_pares_=load_fa(\"\"\"\n",
    "        | a | b\n",
    "-> q₀   |q₀  | q₁\n",
    "   q₁]  |q₁  | q₀\n",
    "\"\"\")\n",
    "bes_pares.print_summary()"
   ]
  },
  {
   "cell_type": "code",
   "execution_count": 5,
   "metadata": {},
   "outputs": [
    {
     "ename": "NameError",
     "evalue": "name 'q_fs' is not defined",
     "output_type": "error",
     "traceback": [
      "\u001b[0;31m---------------------------------------------------------------------------\u001b[0m",
      "\u001b[0;31mNameError\u001b[0m                                 Traceback (most recent call last)",
      "\u001b[0;32m<ipython-input-5-91ca750493ea>\u001b[0m in \u001b[0;36m<module>\u001b[0;34m\u001b[0m\n\u001b[0;32m----> 1\u001b[0;31m \u001b[0mbes_pares_\u001b[0m\u001b[0;34m.\u001b[0m\u001b[0msave_img\u001b[0m\u001b[0;34m(\u001b[0m\u001b[0;34m\"bes_pares_\"\u001b[0m\u001b[0;34m,\u001b[0m\u001b[0mdpi\u001b[0m\u001b[0;34m=\u001b[0m\u001b[0;34m\"600\"\u001b[0m\u001b[0;34m)\u001b[0m\u001b[0;34m\u001b[0m\u001b[0;34m\u001b[0m\u001b[0m\n\u001b[0m",
      "\u001b[0;32m~/projects/maquinas/maquinas/regular/fa.py\u001b[0m in \u001b[0;36msave_img\u001b[0;34m(self, filename, q_c, a_c, q_prev, symbols, states, format, dpi, string)\u001b[0m\n\u001b[1;32m    617\u001b[0m             \u001b[0mformat\u001b[0m\u001b[0;34m=\u001b[0m\u001b[0mformat\u001b[0m\u001b[0;34m,\u001b[0m\u001b[0;34m\u001b[0m\u001b[0;34m\u001b[0m\u001b[0m\n\u001b[1;32m    618\u001b[0m             \u001b[0mdpi\u001b[0m\u001b[0;34m=\u001b[0m\u001b[0mdpi\u001b[0m\u001b[0;34m,\u001b[0m\u001b[0;34m\u001b[0m\u001b[0;34m\u001b[0m\u001b[0m\n\u001b[0;32m--> 619\u001b[0;31m             \u001b[0mstring\u001b[0m\u001b[0;34m=\u001b[0m\u001b[0mstring\u001b[0m\u001b[0;34m,\u001b[0m\u001b[0;34m\u001b[0m\u001b[0;34m\u001b[0m\u001b[0m\n\u001b[0m\u001b[1;32m    620\u001b[0m         )\n\u001b[1;32m    621\u001b[0m         \u001b[0mdot\u001b[0m\u001b[0;34m.\u001b[0m\u001b[0mrender\u001b[0m\u001b[0;34m(\u001b[0m\u001b[0mfilename\u001b[0m\u001b[0;34m,\u001b[0m \u001b[0mformat\u001b[0m\u001b[0;34m=\u001b[0m\u001b[0mformat\u001b[0m\u001b[0;34m,\u001b[0m \u001b[0mcleanup\u001b[0m\u001b[0;34m=\u001b[0m\u001b[0;32mTrue\u001b[0m\u001b[0;34m)\u001b[0m\u001b[0;34m\u001b[0m\u001b[0;34m\u001b[0m\u001b[0m\n",
      "\u001b[0;32m~/projects/maquinas/maquinas/regular/dfa.py\u001b[0m in \u001b[0;36mgraph\u001b[0;34m(self, q_c, a_c, q_prev, symbols, states, format, dpi, string, **args)\u001b[0m\n\u001b[1;32m    133\u001b[0m         \u001b[0;32mfor\u001b[0m \u001b[0me\u001b[0m\u001b[0;34m,\u001b[0m \u001b[0minfo\u001b[0m \u001b[0;32min\u001b[0m \u001b[0menumerate\u001b[0m\u001b[0;34m(\u001b[0m\u001b[0mself\u001b[0m\u001b[0;34m.\u001b[0m\u001b[0mitems\u001b[0m\u001b[0;34m(\u001b[0m\u001b[0;34m)\u001b[0m\u001b[0;34m)\u001b[0m\u001b[0;34m:\u001b[0m\u001b[0;34m\u001b[0m\u001b[0;34m\u001b[0m\u001b[0m\n\u001b[1;32m    134\u001b[0m             \u001b[0;34m(\u001b[0m\u001b[0mq_i\u001b[0m\u001b[0;34m,\u001b[0m \u001b[0ma\u001b[0m\u001b[0;34m)\u001b[0m\u001b[0;34m,\u001b[0m \u001b[0mq_f\u001b[0m \u001b[0;34m=\u001b[0m \u001b[0minfo\u001b[0m\u001b[0;34m\u001b[0m\u001b[0;34m\u001b[0m\u001b[0m\n\u001b[0;32m--> 135\u001b[0;31m             \u001b[0;32mif\u001b[0m \u001b[0mlen\u001b[0m\u001b[0;34m(\u001b[0m\u001b[0mq_fs\u001b[0m\u001b[0;34m)\u001b[0m \u001b[0;34m==\u001b[0m \u001b[0;36m0\u001b[0m\u001b[0;34m:\u001b[0m\u001b[0;34m\u001b[0m\u001b[0;34m\u001b[0m\u001b[0m\n\u001b[0m\u001b[1;32m    136\u001b[0m                 \u001b[0;32mcontinue\u001b[0m\u001b[0;34m\u001b[0m\u001b[0;34m\u001b[0m\u001b[0m\n\u001b[1;32m    137\u001b[0m             \u001b[0;32mif\u001b[0m \u001b[0mq_i\u001b[0m \u001b[0;32min\u001b[0m \u001b[0mq_prev\u001b[0m \u001b[0;32mand\u001b[0m \u001b[0ma\u001b[0m \u001b[0;32min\u001b[0m \u001b[0ma_c\u001b[0m\u001b[0;34m:\u001b[0m\u001b[0;34m\u001b[0m\u001b[0;34m\u001b[0m\u001b[0m\n",
      "\u001b[0;31mNameError\u001b[0m: name 'q_fs' is not defined"
     ]
    }
   ],
   "source": [
    "bes_pares_.save_img(\"bes_pares_\",dpi=\"600\")"
   ]
  },
  {
   "cell_type": "code",
   "execution_count": 4,
   "metadata": {},
   "outputs": [],
   "source": [
    "bes_pares__=load_fa(\"\"\"\n",
    "        | a | b\n",
    "-> q₀]  |q₀  | q₁\n",
    "   q₁]  |q₁  | q₀\n",
    "\"\"\")"
   ]
  },
  {
   "cell_type": "code",
   "execution_count": 8,
   "metadata": {},
   "outputs": [],
   "source": [
    "bes_pares__.save_img(\"bes_pares__\",dpi=\"600\")"
   ]
  },
  {
   "cell_type": "code",
   "execution_count": 5,
   "metadata": {},
   "outputs": [
    {
     "data": {
      "application/vnd.jupyter.widget-view+json": {
       "model_id": "cbc8a7da209e42c6a7b5b258ab5b17d2",
       "version_major": 2,
       "version_minor": 0
      },
      "text/plain": [
       "VBox(children=(HBox(children=(Text(value='baaabaaabb', description='Cadena'), Button(description='⏎', style=Bu…"
      ]
     },
     "metadata": {},
     "output_type": "display_data"
    }
   ],
   "source": [
    "s=Simulation(bes_pares,\"baaabaaabb\")\n",
    "s.run()"
   ]
  },
  {
   "cell_type": "code",
   "execution_count": 9,
   "metadata": {},
   "outputs": [],
   "source": [
    "bes_pares.save_gif(\"abbaa\")"
   ]
  },
  {
   "cell_type": "code",
   "execution_count": 10,
   "metadata": {},
   "outputs": [
    {
     "name": "stdout",
     "output_type": "stream",
     "text": [
      "q₀\n",
      " a -> q₀,\n",
      " b -> q₁,\n",
      " b -> q₀,\n",
      " a -> q₀,\n",
      " a -> q₀,\n",
      " \n",
      "Con q₀ Se acepta? Sí\n"
     ]
    }
   ],
   "source": [
    "for q,a,w_ in bes_pares.delta_stepwise(\"abbaa\"):\n",
    "    if a:\n",
    "        print(f\"{a} -> {q}\", end=\",\\n \")\n",
    "    else:\n",
    "        print(f\"{q}\",end=\"\\n \")\n",
    "    res=q\n",
    "    \n",
    "print(f\"\\nCon {res} Se acepta?\", \"Sí\" if bes_pares.acceptor(res) else \"No\" )"
   ]
  },
  {
   "cell_type": "code",
   "execution_count": null,
   "metadata": {},
   "outputs": [],
   "source": []
  }
 ],
 "metadata": {
  "kernelspec": {
   "display_name": "Python 3",
   "language": "python",
   "name": "python3"
  },
  "language_info": {
   "codemirror_mode": {
    "name": "ipython",
    "version": 3
   },
   "file_extension": ".py",
   "mimetype": "text/x-python",
   "name": "python",
   "nbconvert_exporter": "python",
   "pygments_lexer": "ipython3",
   "version": "3.6.9"
  }
 },
 "nbformat": 4,
 "nbformat_minor": 2
}
