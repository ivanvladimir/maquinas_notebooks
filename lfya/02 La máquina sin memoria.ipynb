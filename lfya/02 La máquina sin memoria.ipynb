{
 "cells": [
  {
   "cell_type": "markdown",
   "metadata": {},
   "source": [
    "[![Open In Colab](https://colab.research.google.com/assets/colab-badge.svg)](https://colab.research.google.com/github/ivanvladimir/maquinas_notebooks/blob/main/lfya/02%20La%20m%C3%A1quina%20sin%20memoria.ipynb)\n",
    "\n",
    "\n",
    "# 02 La máquina sin memoria\n",
    "\n",
    "Esta notebook ilustra los conceptos de [**la máquina sin memoria**](https://ivanvladimir.gitlab.io/lfya_book/docs/02lam%C3%A1quinasinmemoria/) correspondiente al curso de [**Lenguajes Formales y Autómatas**](https://turing.iimas.unam.mx/~ivanvladimir/page/curso_lfya/)\n",
    "\n",
    "\n",
    "## Instrucciones\n",
    "\n",
    "1. Si la librería [**maquinas**](https://pypi.org/project/maquinas/) no está instalada ejecutar la celdas correspondiente a la sección marcada con ◉\n",
    "2. Importar los módulos de librería relevantes\n",
    "3. Ejecuar las celdas para explorar los conceptos\n",
    "\n",
    "\n",
    "## Licencia de la notebook\n",
    "\n",
    "<a rel=\"license\" href=\"http://creativecommons.org/licenses/by/4.0/\"><img alt=\"Creative Commons License\" style=\"border-width:0\" src=\"https://i.creativecommons.org/l/by/4.0/80x15.png\" /></a>\n",
    "</br>This work is licensed under a <a rel=\"license\" href=\"http://creativecommons.org/licenses/by/4.0/\">Creative Commons Attribution 4.0 International License</a>.\n",
    "\n",
    "## General information\n",
    "\n",
    "> **Author(s)**: <a href=\"https://twitter.com/ivanvladimir\">@ivanvladimir</a></br>\n",
    "> **Last updated**: 24/01/2023"
   ]
  },
  {
   "cell_type": "markdown",
   "metadata": {},
   "source": [
    "### ◉ Instalando la librería \n",
    "\n",
    "Se instala la librería [maquinas](https://pypi.org/project/maquinas/)\n",
    "\n",
    "**Requerido en colab**, _opcional en ambiente local a través de jupyter_"
   ]
  },
  {
   "cell_type": "code",
   "execution_count": null,
   "metadata": {},
   "outputs": [],
   "source": [
    "!pip install maquinas --upgrade"
   ]
  },
  {
   "cell_type": "markdown",
   "metadata": {},
   "source": [
    "### 01 Importar módulos\n",
    "\n",
    "Se importa el módulo principar para DFAs\n",
    "Existen dos elemento: _load_fa_ y _Simulation_ (en este momento _Simulación_ sólo puede ir hacia adelante)"
   ]
  },
  {
   "cell_type": "code",
   "execution_count": null,
   "metadata": {},
   "outputs": [],
   "source": [
    "from maquinas.regular.dfa import DeterministicFiniteAutomaton as DFA\n",
    "from maquinas.simulation import Simulation\n",
    "from maquinas.io import *"
   ]
  },
  {
   "cell_type": "markdown",
   "metadata": {},
   "source": [
    "## 02 Automatas finitos (determinísticos)\n",
    "\n",
    "Se puede crear un [AFD](https://ivanvladimir.gitlab.io/lfya_book/docs/02lam%C3%A1quinasinmemoria/04aut%C3%B3matafinito/#aut%c3%b3mata-finito-determin%c3%adstico) desde la definición tipo tabla de uno de estos; notar que en la librería a este tipo de máquina se le llamó _AF_, mientras que en la librería se le denomina _AFD_."
   ]
  },
  {
   "cell_type": "code",
   "execution_count": null,
   "metadata": {},
   "outputs": [],
   "source": [
    "#@title creating DFA\n",
    "bes_pares=DFA(Q=['q₀','q₁'],\n",
    "                         sigma=['a','b'],\n",
    "                         q_0='q₀',\n",
    "                         A=['q₀'],\n",
    "                         delta=[\n",
    "                            (('q₀','a'),'q₀'),\n",
    "                            (('q₁','b'),'q₀'),\n",
    "                            (('q₁','a'),'q₁'),\n",
    "                            (('q₀','b'),'q₁'),\n",
    "                         ])\n",
    "bes_pares.print_summary()"
   ]
  },
  {
   "cell_type": "markdown",
   "metadata": {},
   "source": [
    "### 02.a Cargandolo usando función load_fa desde módulo de io"
   ]
  },
  {
   "cell_type": "code",
   "execution_count": null,
   "metadata": {},
   "outputs": [],
   "source": [
    "bes_pares=load_fa(\"\"\"\n",
    "      | a  | b\n",
    "->q0] | q0 | q1\n",
    "  q1  | q1 | q0\n",
    "\"\"\")\n",
    "bes_pares.print_summary()"
   ]
  },
  {
   "cell_type": "markdown",
   "metadata": {},
   "source": [
    "### 02.b Graficarlo"
   ]
  },
  {
   "cell_type": "code",
   "execution_count": null,
   "metadata": {},
   "outputs": [],
   "source": [
    "bes_pares.graph(dpi=\"100\")"
   ]
  },
  {
   "cell_type": "markdown",
   "metadata": {},
   "source": [
    "### 03.c Procesando cadenas"
   ]
  },
  {
   "cell_type": "markdown",
   "metadata": {},
   "source": [
    "#### Función extendida \n",
    "\n",
    "Aplicación de la [función extendida](https://ivanvladimir.gitlab.io/lfya_book/docs/02lam%C3%A1quinasinmemoria/04aut%C3%B3matafinito/#procesando-cadenas-con-af)"
   ]
  },
  {
   "cell_type": "code",
   "execution_count": null,
   "metadata": {},
   "outputs": [],
   "source": [
    "cadenas=[\"a\",\"abb\",\"bbbaaaaa\",\"aabaaaaaabaaaababaaa\"]\n",
    "\n",
    "for w in cadenas:\n",
    "    print(f\"Partiendo del estado inicial con {w} se llega al estado\",bes_pares.delta_extended(bes_pares.q_0,w))"
   ]
  },
  {
   "cell_type": "markdown",
   "metadata": {},
   "source": [
    "#### Aceptando cadenas"
   ]
  },
  {
   "cell_type": "code",
   "execution_count": null,
   "metadata": {},
   "outputs": [],
   "source": [
    "for w in cadenas:\n",
    "    print(f\"Probando con {w} el AFD arroja:\",bes_pares.accepts(w))"
   ]
  },
  {
   "cell_type": "markdown",
   "metadata": {},
   "source": [
    "### 02.c Versiones alternativas\n",
    "\n",
    "Algunas [variantes alternativas](https://ivanvladimir.gitlab.io/lfya_book/docs/02lam%C3%A1quinasinmemoria/04aut%C3%B3matafinito/#variantes) basadas en los componentes de _bes pares_ pero con estados aceptores diferentes."
   ]
  },
  {
   "cell_type": "markdown",
   "metadata": {},
   "source": [
    "#### Bes impares"
   ]
  },
  {
   "cell_type": "code",
   "execution_count": null,
   "metadata": {},
   "outputs": [],
   "source": [
    "bes_impares=load_fa(\"\"\"\n",
    "         | a  | b\n",
    "-> q₀    |q₀  | q₁\n",
    "   q₁]   |q₁  | q₀\n",
    "\"\"\")\n",
    "bes_impares.print_summary()\n",
    "bes_impares.graph(dpi=\"100\")"
   ]
  },
  {
   "cell_type": "code",
   "execution_count": null,
   "metadata": {},
   "outputs": [],
   "source": [
    "# Evaluación de funición extendida\n",
    "for w in cadenas:\n",
    "    print(f\"Partiendo del estado inicial con {w} se llega al estado\",bes_impares.delta_extended(bes_impares.q_0,w))\n",
    "\n",
    "# Evaluación de cadena en AFD\n",
    "for w in cadenas:\n",
    "    print(f\"Probando con {w} el AFD arroja:\",bes_pares.accepts(w))"
   ]
  },
  {
   "cell_type": "markdown",
   "metadata": {},
   "source": [
    "#### Sigma estrella"
   ]
  },
  {
   "cell_type": "code",
   "execution_count": null,
   "metadata": {},
   "outputs": [],
   "source": [
    "sigma_star=load_fa(\"\"\"\n",
    "        | a | b\n",
    "-> q₀]  |q₀  | q₁\n",
    "   q₁]  |q₁  | q₀\n",
    "\"\"\")\n",
    "sigma_star.print_summary()\n",
    "sigma_star.graph(dpi=\"100\")"
   ]
  },
  {
   "cell_type": "code",
   "execution_count": null,
   "metadata": {},
   "outputs": [],
   "source": [
    "# Evaluación de funición extendida\n",
    "for w in cadenas:\n",
    "    print(f\"Partiendo del estado inicial con {w} se llega al estado\",sigma_star.delta_extended(sigma_star.q_0,w))\n",
    "\n",
    "# Evaluación de cadena en AFD\n",
    "for w in cadenas:\n",
    "    print(f\"Probando con {w} el AFD arroja:\",sigma_star.accepts(w))"
   ]
  },
  {
   "cell_type": "markdown",
   "metadata": {},
   "source": [
    "## 03 Simulación\n",
    "\n",
    "Simulación para vel avance del autómata paso por paso"
   ]
  },
  {
   "cell_type": "markdown",
   "metadata": {},
   "source": [
    "### 03.a Paso a paso\n",
    "\n",
    "Para visualizar qué pasa paso a paso en el análisis de una cadena se puede iterar sobre la funcion _delta_stepwise_:"
   ]
  },
  {
   "cell_type": "code",
   "execution_count": null,
   "metadata": {},
   "outputs": [],
   "source": [
    "for q,a,w_ in bes_pares.delta_stepwise(\"abbaa\"):\n",
    "    if a:\n",
    "        print(f\"{a} -> {q}\", end=\",\\n \")\n",
    "    else:\n",
    "        print(f\"{q}\",end=\"\\n \")\n",
    "    res=q\n",
    "    \n",
    "print(f\"\\nCon {res} Se acepta?\", \"Sí\" if bes_pares.acceptor(res) else \"No\" )"
   ]
  },
  {
   "cell_type": "markdown",
   "metadata": {},
   "source": [
    "### 03.b Con simulador\n",
    "\n",
    "Es posible visualizar paso a paso usando el simulador"
   ]
  },
  {
   "cell_type": "code",
   "execution_count": null,
   "metadata": {},
   "outputs": [],
   "source": [
    "s=Simulation(bes_pares,\"abbaa\")\n",
    "s.run()"
   ]
  },
  {
   "cell_type": "markdown",
   "metadata": {},
   "source": [
    "### 03.c Animación gif\n",
    "\n",
    "Es posible generar una animación del AFD procesando una cadena"
   ]
  },
  {
   "cell_type": "code",
   "execution_count": null,
   "metadata": {},
   "outputs": [],
   "source": [
    "bes_pares.save_gif(\"abbaa\", show=True)"
   ]
  }
 ],
 "metadata": {
  "kernelspec": {
   "display_name": "Python 3 (ipykernel)",
   "language": "python",
   "name": "python3"
  },
  "language_info": {
   "codemirror_mode": {
    "name": "ipython",
    "version": 3
   },
   "file_extension": ".py",
   "mimetype": "text/x-python",
   "name": "python",
   "nbconvert_exporter": "python",
   "pygments_lexer": "ipython3",
   "version": "3.8.10"
  }
 },
 "nbformat": 4,
 "nbformat_minor": 4
}
