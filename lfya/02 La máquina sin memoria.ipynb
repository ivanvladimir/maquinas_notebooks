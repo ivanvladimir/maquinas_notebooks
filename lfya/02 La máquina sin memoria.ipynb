{
 "cells": [
  {
   "cell_type": "markdown",
   "metadata": {},
   "source": [
    "[![Open In Colab](https://colab.research.google.com/assets/colab-badge.svg)](https://colab.research.google.com/github/ivanvladimir/maquinas_notebooks/blob/main/lfya/02%20La%20m%C3%A1quina%20sin%20memoria.ipynb)"
   ]
  },
  {
   "cell_type": "markdown",
   "metadata": {},
   "source": [
    "## 00 Instalando la librería \n",
    "\n",
    "Se instala la librería [maquinas](https://pypi.org/project/maquinas/)\n",
    "\n",
    "**Requerido en colab**, _opcional en ambiente local a través de jupyter_"
   ]
  },
  {
   "cell_type": "code",
   "execution_count": null,
   "metadata": {},
   "outputs": [],
   "source": [
    "!pip install maquinas --upgrade"
   ]
  },
  {
   "cell_type": "markdown",
   "metadata": {},
   "source": [
    "### 01 Importar módulo para cargar autómatas finitos y el módulo de simiulación\n",
    "\n",
    "Existen dos elemento: _load_fa_ y _Simulation_ (en este momento _Simulación_ sólo puede ir hacia adelante)"
   ]
  },
  {
   "cell_type": "code",
   "execution_count": null,
   "metadata": {},
   "outputs": [],
   "source": [
    "from maquinas.io import load_fa\n",
    "from maquinas.simulation import Simulation"
   ]
  },
  {
   "cell_type": "markdown",
   "metadata": {},
   "source": [
    "## 02 Automatas finitos (determinísticos)\n",
    "\n",
    "Se puede crear un [AFD](https://ivanvladimir.gitlab.io/lfya_book/docs/02lam%C3%A1quinasinmemoria/04aut%C3%B3matafinito/#aut%c3%b3mata-finito-determin%c3%adstico) desde la definición tipo tabla de uno de estos; notar que en la librería a este tipo de máquina se le llamó _AF_, mientras que en la librería se le denomina _AFD_."
   ]
  },
  {
   "cell_type": "code",
   "execution_count": null,
   "metadata": {},
   "outputs": [],
   "source": [
    "bes_pares=load_fa(\"\"\"\n",
    "      | a  | b\n",
    "->q0] | q0 | q1\n",
    "  q1  | q1 | q0\n",
    "\"\"\")\n",
    "bes_pares.print_summary()"
   ]
  },
  {
   "cell_type": "markdown",
   "metadata": {},
   "source": [
    "### 02.a Graficarlo"
   ]
  },
  {
   "cell_type": "code",
   "execution_count": null,
   "metadata": {},
   "outputs": [],
   "source": [
    "bes_pares.graph()"
   ]
  },
  {
   "cell_type": "markdown",
   "metadata": {},
   "source": [
    "### 02.b Probar si cadenas son aceptadas por un AFD\n",
    "\n",
    "Para probar si una cadena es [aceptada por AFD](https://ivanvladimir.gitlab.io/lfya_book/docs/02lam%C3%A1quinasinmemoria/04aut%C3%B3matafinito/#procesando-cadenas-con-af) se puede usar la función _accepts_"
   ]
  },
  {
   "cell_type": "code",
   "execution_count": null,
   "metadata": {},
   "outputs": [],
   "source": [
    "cadenas=[\"aaa\",\"aab\",'abb','bba','baba','baa']\n",
    "for w in cadenas:\n",
    "    print(f\"Probando con {w} el AFD arroja:\",bes_pares.accepts(w))"
   ]
  },
  {
   "cell_type": "markdown",
   "metadata": {},
   "source": [
    "### 02.c Aplicación de delta extendida\n",
    "\n",
    "También es posible aplicar la función de [delta extendida](https://ivanvladimir.gitlab.io/lfya_book/docs/02lam%C3%A1quinasinmemoria/04aut%C3%B3matafinito/#procesando-cadenas-con-af) la cual regresa el estado al que se llega"
   ]
  },
  {
   "cell_type": "code",
   "execution_count": null,
   "metadata": {},
   "outputs": [],
   "source": [
    "for w in cadenas:\n",
    "    print(f\"Partiendo del estado inicial con {w} se llega al estado\",bes_pares.delta_extended(bes_pares.q_0,w))"
   ]
  },
  {
   "cell_type": "code",
   "execution_count": null,
   "metadata": {},
   "outputs": [],
   "source": [
    "bes_pares1=load_fa(\"\"\"\n",
    "      | a  | b\n",
    "->q0  | q0 | q1\n",
    "  q1] | q1 | q0\n",
    "\"\"\")\n",
    "bes_pares1.print_summary()"
   ]
  },
  {
   "cell_type": "code",
   "execution_count": null,
   "metadata": {},
   "outputs": [],
   "source": [
    "bes_pares1.graph()"
   ]
  },
  {
   "cell_type": "code",
   "execution_count": null,
   "metadata": {},
   "outputs": [],
   "source": [
    "cadenas=[\"aaa\",\"aab\",'abb','bba','baba','baa']\n",
    "for w in cadenas:\n",
    "    print(f\"Probando con {w} el AFD arroja:\",bes_pares1.accepts(w))"
   ]
  },
  {
   "cell_type": "code",
   "execution_count": null,
   "metadata": {},
   "outputs": [],
   "source": [
    "for w in cadenas:\n",
    "    print(f\"Partiendo del estado inicial con {w} se llega al estado\",bes_pares.delta_extended(bes_pares.q_0,w))"
   ]
  },
  {
   "cell_type": "code",
   "execution_count": null,
   "metadata": {},
   "outputs": [],
   "source": [
    "bes_pares2=load_fa(\"\"\"\n",
    "      | a  | b\n",
    "->q0] | q0 | q1\n",
    "  q1] | q1 | q0\n",
    "\"\"\")\n",
    "bes_pares2.print_summary()"
   ]
  },
  {
   "cell_type": "code",
   "execution_count": null,
   "metadata": {},
   "outputs": [],
   "source": [
    "bes_pares2.graph()"
   ]
  },
  {
   "cell_type": "code",
   "execution_count": null,
   "metadata": {},
   "outputs": [],
   "source": [
    "cadenas=[\"aaa\",\"aab\",'abb','bba','baba','baa']\n",
    "for w in cadenas:\n",
    "    print(f\"Probando con {w} el AFD arroja:\",bes_pares2.accepts(w))"
   ]
  },
  {
   "cell_type": "code",
   "execution_count": null,
   "metadata": {},
   "outputs": [],
   "source": [
    "for w in cadenas:\n",
    "    print(f\"Partiendo del estado inicial con {w} se llega al estado\",bes_pares.delta_extended(bes_pares.q_0,w))"
   ]
  },
  {
   "cell_type": "markdown",
   "metadata": {},
   "source": [
    "## 02.d Simulación\n",
    "\n",
    "Simulación es un modo interactivo que permite ver el avance del autómata paso por paso"
   ]
  },
  {
   "cell_type": "code",
   "execution_count": null,
   "metadata": {},
   "outputs": [],
   "source": [
    "s=Simulation(bes_pares,\"baaabaaabb\")\n",
    "s.run()"
   ]
  },
  {
   "cell_type": "markdown",
   "metadata": {},
   "source": [
    "### 02.e Paso a paso\n",
    "\n",
    "Para visualizar qué pasa paso a paso en el análisis de una cadena se puede iterar sobre la funcion _delta_stepwise_:"
   ]
  },
  {
   "cell_type": "code",
   "execution_count": null,
   "metadata": {},
   "outputs": [],
   "source": [
    "for q,a,w_ in bes_pares.delta_stepwise(\"abbaa\"):\n",
    "    if a:\n",
    "        print(f\"{a} -> {q}\", end=\",\\n \")\n",
    "    else:\n",
    "        print(f\"{q}\",end=\"\\n \")\n",
    "    res=q\n",
    "    \n",
    "print(f\"\\nCon {res} Se acepta?\", \"Sí\" if bes_pares.acceptor(res) else \"No\" )"
   ]
  }
 ],
 "metadata": {
  "kernelspec": {
   "display_name": "Python 3",
   "language": "python",
   "name": "python3"
  },
  "language_info": {
   "codemirror_mode": {
    "name": "ipython",
    "version": 3
   },
   "file_extension": ".py",
   "mimetype": "text/x-python",
   "name": "python",
   "nbconvert_exporter": "python",
   "pygments_lexer": "ipython3",
   "version": "3.6.9"
  }
 },
 "nbformat": 4,
 "nbformat_minor": 2
}
