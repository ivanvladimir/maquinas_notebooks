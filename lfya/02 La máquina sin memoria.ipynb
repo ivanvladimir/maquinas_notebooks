{
 "cells": [
  {
   "cell_type": "markdown",
   "metadata": {},
   "source": [
    "[![Open In Colab](https://colab.research.google.com/assets/colab-badge.svg)](https://colab.research.google.com/github/ivanvladimir/maquinas_notebooks/blob/main/lfya/02%20La%20m%C3%A1quina%20sin%20memoria.ipynb)"
   ]
  },
  {
   "cell_type": "code",
   "execution_count": null,
   "metadata": {},
   "outputs": [],
   "source": [
    "!pip install maquinas --upgrade"
   ]
  },
  {
   "cell_type": "code",
   "execution_count": null,
   "metadata": {},
   "outputs": [],
   "source": [
    "from maquinas.io import load_fa\n",
    "from maquinas.simulation import Simulation"
   ]
  },
  {
   "cell_type": "code",
   "execution_count": null,
   "metadata": {},
   "outputs": [],
   "source": [
    "bes_pares=load_fa(\"\"\"\n",
    "      | a  | b\n",
    "->q0] | q0 | q1\n",
    "  q1  | q1 | q0\n",
    "\"\"\")\n",
    "bes_pares.print_summary()"
   ]
  },
  {
   "cell_type": "code",
   "execution_count": null,
   "metadata": {},
   "outputs": [],
   "source": [
    "bes_pares.graph()"
   ]
  },
  {
   "cell_type": "code",
   "execution_count": null,
   "metadata": {},
   "outputs": [],
   "source": [
    "cadenas=[\"aaa\",\"aab\",'abb','bba','baba','baa']\n",
    "for w in cadenas:\n",
    "    print(f\"Probando con {w} el AFD arroja:\",bes_pares.accepts(w))"
   ]
  },
  {
   "cell_type": "code",
   "execution_count": null,
   "metadata": {},
   "outputs": [],
   "source": [
    "bes_pares1=load_fa(\"\"\"\n",
    "      | a  | b\n",
    "->q0  | q0 | q1\n",
    "  q1] | q1 | q0\n",
    "\"\"\")\n",
    "bes_pares1.print_summary()"
   ]
  },
  {
   "cell_type": "code",
   "execution_count": null,
   "metadata": {},
   "outputs": [],
   "source": [
    "bes_pares1.graph()"
   ]
  },
  {
   "cell_type": "code",
   "execution_count": null,
   "metadata": {},
   "outputs": [],
   "source": [
    "cadenas=[\"aaa\",\"aab\",'abb','bba','baba','baa']\n",
    "for w in cadenas:\n",
    "    print(f\"Probando con {w} el AFD arroja:\",bes_pares1.accepts(w))"
   ]
  },
  {
   "cell_type": "code",
   "execution_count": null,
   "metadata": {},
   "outputs": [],
   "source": [
    "bes_pares2=load_fa(\"\"\"\n",
    "      | a  | b\n",
    "->q0] | q0 | q1\n",
    "  q1] | q1 | q0\n",
    "\"\"\")\n",
    "bes_pares2.print_summary()"
   ]
  },
  {
   "cell_type": "code",
   "execution_count": null,
   "metadata": {},
   "outputs": [],
   "source": [
    "bes_pares2.graph()"
   ]
  },
  {
   "cell_type": "code",
   "execution_count": null,
   "metadata": {},
   "outputs": [],
   "source": [
    "cadenas=[\"aaa\",\"aab\",'abb','bba','baba','baa']\n",
    "for w in cadenas:\n",
    "    print(f\"Probando con {w} el AFD arroja:\",bes_pares2.accepts(w))"
   ]
  },
  {
   "cell_type": "code",
   "execution_count": null,
   "metadata": {},
   "outputs": [],
   "source": [
    "s=Simulation(bes_pares,\"baaabaaabb\")\n",
    "s.run()"
   ]
  },
  {
   "cell_type": "code",
   "execution_count": null,
   "metadata": {},
   "outputs": [],
   "source": [
    "for q,a,w_ in bes_pares.delta_stepwise(\"abbaa\"):\n",
    "    if a:\n",
    "        print(f\"{a} -> {q}\", end=\",\\n \")\n",
    "    else:\n",
    "        print(f\"{q}\",end=\"\\n \")\n",
    "    res=q\n",
    "    \n",
    "print(f\"\\nCon {res} Se acepta?\", \"Sí\" if bes_pares.acceptor(res) else \"No\" )"
   ]
  },
  {
   "cell_type": "code",
   "execution_count": null,
   "metadata": {},
   "outputs": [],
   "source": [
    "a_loquesea=load_fa(\"\"\"\n",
    "      | a  | b\n",
    "->q0  | q1 | \n",
    "  q1] | q1 | q1\n",
    "\"\"\")\n",
    "a_loquesea.print_summary()"
   ]
  },
  {
   "cell_type": "code",
   "execution_count": null,
   "metadata": {},
   "outputs": [],
   "source": [
    "a_loquesea.graph()"
   ]
  }
 ],
 "metadata": {
  "kernelspec": {
   "display_name": "Python 3",
   "language": "python",
   "name": "python3"
  },
  "language_info": {
   "codemirror_mode": {
    "name": "ipython",
    "version": 3
   },
   "file_extension": ".py",
   "mimetype": "text/x-python",
   "name": "python",
   "nbconvert_exporter": "python",
   "pygments_lexer": "ipython3",
   "version": "3.6.9"
  }
 },
 "nbformat": 4,
 "nbformat_minor": 2
}
