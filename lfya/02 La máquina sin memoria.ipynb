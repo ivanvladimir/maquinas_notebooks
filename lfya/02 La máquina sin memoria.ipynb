{
 "cells": [
  {
   "cell_type": "markdown",
   "metadata": {},
   "source": [
    "[![Open In Colab](https://colab.research.google.com/assets/colab-badge.svg)](https://colab.research.google.com/github/ivanvladimir/maquinas_notebooks/blob/main/lfya/02%20La%20m%C3%A1quina%20sin%20memoria.ipynb)"
   ]
  },
  {
   "cell_type": "markdown",
   "metadata": {},
   "source": [
    "## 00 Instalando la librería \n",
    "\n",
    "Se instala la librería [maquinas](https://pypi.org/project/maquinas/)\n",
    "\n",
    "**Requerido en colab**, _opcional en ambiente local a través de jupyter_"
   ]
  },
  {
   "cell_type": "code",
   "execution_count": null,
   "metadata": {},
   "outputs": [],
   "source": [
    "!pip install maquinas --upgrade"
   ]
  },
  {
   "cell_type": "markdown",
   "metadata": {},
   "source": [
    "### 01 Importar módulo para cargar autómatas finitos y el módulo de simiulación\n",
    "\n",
    "Existen dos elemento: _load_fa_ y _Simulation_ (en este momento _Simulación_ sólo puede ir hacia adelante)"
   ]
  },
  {
   "cell_type": "code",
   "execution_count": null,
   "metadata": {},
   "outputs": [],
   "source": [
    "from maquinas.regular.dfa import DeterministicFiniteAutomaton as DFA\n",
    "from maquinas.simulation import Simulation\n",
    "from maquinas.io import *"
   ]
  },
  {
   "cell_type": "markdown",
   "metadata": {},
   "source": [
    "## 02 Automatas finitos (determinísticos)\n",
    "\n",
    "Se puede crear un [AFD](https://ivanvladimir.gitlab.io/lfya_book/docs/02lam%C3%A1quinasinmemoria/04aut%C3%B3matafinito/#aut%c3%b3mata-finito-determin%c3%adstico) desde la definición tipo tabla de uno de estos; notar que en la librería a este tipo de máquina se le llamó _AF_, mientras que en la librería se le denomina _AFD_."
   ]
  },
  {
   "cell_type": "code",
   "execution_count": null,
   "metadata": {},
   "outputs": [],
   "source": [
    "bes_pares=load_fa(\"\"\"\n",
    "      | a  | b\n",
    "->q0] | q0 | q1\n",
    "  q1  | q1 | q0\n",
    "\"\"\")\n",
    "bes_pares.print_summary()"
   ]
  },
  {
   "cell_type": "markdown",
   "metadata": {},
   "source": [
    "### 02.a Graficarlo"
   ]
  },
  {
   "cell_type": "code",
   "execution_count": null,
   "metadata": {},
   "outputs": [
    {
     "name": "stdout",
     "output_type": "stream",
     "text": [
      "States  : q₀, q₁\n",
      "Sigma   : a, b\n",
      "Initial : q₀\n",
      "Aceptors: {q₀}\n",
      "Transitions:\n",
      " q₀,a → q₀\n",
      " q₀,b → q₁\n",
      " q₁,b → q₀\n",
      " q₁,a → q₁\n"
     ]
    }
   ],
   "source": [
    "#@title creating DFA\n",
    "bes_pares=DFA(Q=['q₀','q₁'],\n",
    "                         sigma=['a','b'],\n",
    "                         q_0='q₀',\n",
    "                         A=['q₀'],\n",
    "                         delta=[\n",
    "                            (('q₀','a'),'q₀'),\n",
    "                            (('q₁','b'),'q₀'),\n",
    "                            (('q₁','a'),'q₁'),\n",
    "                            (('q₀','b'),'q₁'),\n",
    "                         ])\n",
    "bes_pares.print_summary()"
   ]
  },
  {
   "cell_type": "code",
   "execution_count": null,
   "metadata": {},
   "outputs": [
    {
     "name": "stdout",
     "output_type": "stream",
     "text": [
      "States  : q₀, q₁\n",
      "Sigma   : a, b\n",
      "Initial : q₀\n",
      "Aceptors: {q₀}\n",
      "Transitions:\n",
      " q₀,a → q₀\n",
      " q₀,b → q₁\n",
      " q₁,a → q₁\n",
      " q₁,b → q₀\n"
     ]
    }
   ],
   "source": [
    "bes_pares=load_fa(\"\"\"\n",
    "        | a | b\n",
    "-> q₀]  |q₀  | q₁\n",
    "   q₁   |q₁  | q₀\n",
    "\"\"\")\n",
    "bes_pares.print_summary()"
   ]
  },
  {
   "cell_type": "code",
   "execution_count": null,
   "metadata": {},
   "outputs": [
    {
     "name": "stdout",
     "output_type": "stream",
     "text": [
      "States  : q₀, q₁\n",
      "Sigma   : a, b\n",
      "Initial : q₀\n",
      "Aceptors: {q₀}\n",
      "Transitions:\n",
      " q₀,a → q₀\n",
      " q₀,b → q₁\n",
      " q₁,a → q₁\n",
      " q₁,b → q₀\n"
     ]
    }
   ],
   "source": [
    "bes_pares_=load_fa(\"\"\"\n",
    "        | a | b\n",
    "-> q₀   |q₀  | q₁\n",
    "   q₁]  |q₁  | q₀\n",
    "\"\"\")\n",
    "bes_pares.print_summary()"
   ]
  },
  {
   "cell_type": "code",
   "execution_count": null,
   "metadata": {},
   "outputs": [
    {
     "ename": "NameError",
     "evalue": "name 'q_fs' is not defined",
     "output_type": "error",
     "traceback": [
      "\u001b[0;31m---------------------------------------------------------------------------\u001b[0m",
      "\u001b[0;31mNameError\u001b[0m                                 Traceback (most recent call last)",
      "\u001b[0;32m<ipython-input-5-91ca750493ea>\u001b[0m in \u001b[0;36m<module>\u001b[0;34m\u001b[0m\n\u001b[0;32m----> 1\u001b[0;31m \u001b[0mbes_pares_\u001b[0m\u001b[0;34m.\u001b[0m\u001b[0msave_img\u001b[0m\u001b[0;34m(\u001b[0m\u001b[0;34m\"bes_pares_\"\u001b[0m\u001b[0;34m,\u001b[0m\u001b[0mdpi\u001b[0m\u001b[0;34m=\u001b[0m\u001b[0;34m\"600\"\u001b[0m\u001b[0;34m)\u001b[0m\u001b[0;34m\u001b[0m\u001b[0;34m\u001b[0m\u001b[0m\n\u001b[0m",
      "\u001b[0;32m~/projects/maquinas/maquinas/regular/fa.py\u001b[0m in \u001b[0;36msave_img\u001b[0;34m(self, filename, q_c, a_c, q_prev, symbols, states, format, dpi, string)\u001b[0m\n\u001b[1;32m    617\u001b[0m             \u001b[0mformat\u001b[0m\u001b[0;34m=\u001b[0m\u001b[0mformat\u001b[0m\u001b[0;34m,\u001b[0m\u001b[0;34m\u001b[0m\u001b[0;34m\u001b[0m\u001b[0m\n\u001b[1;32m    618\u001b[0m             \u001b[0mdpi\u001b[0m\u001b[0;34m=\u001b[0m\u001b[0mdpi\u001b[0m\u001b[0;34m,\u001b[0m\u001b[0;34m\u001b[0m\u001b[0;34m\u001b[0m\u001b[0m\n\u001b[0;32m--> 619\u001b[0;31m             \u001b[0mstring\u001b[0m\u001b[0;34m=\u001b[0m\u001b[0mstring\u001b[0m\u001b[0;34m,\u001b[0m\u001b[0;34m\u001b[0m\u001b[0;34m\u001b[0m\u001b[0m\n\u001b[0m\u001b[1;32m    620\u001b[0m         )\n\u001b[1;32m    621\u001b[0m         \u001b[0mdot\u001b[0m\u001b[0;34m.\u001b[0m\u001b[0mrender\u001b[0m\u001b[0;34m(\u001b[0m\u001b[0mfilename\u001b[0m\u001b[0;34m,\u001b[0m \u001b[0mformat\u001b[0m\u001b[0;34m=\u001b[0m\u001b[0mformat\u001b[0m\u001b[0;34m,\u001b[0m \u001b[0mcleanup\u001b[0m\u001b[0;34m=\u001b[0m\u001b[0;32mTrue\u001b[0m\u001b[0;34m)\u001b[0m\u001b[0;34m\u001b[0m\u001b[0;34m\u001b[0m\u001b[0m\n",
      "\u001b[0;32m~/projects/maquinas/maquinas/regular/dfa.py\u001b[0m in \u001b[0;36mgraph\u001b[0;34m(self, q_c, a_c, q_prev, symbols, states, format, dpi, string, **args)\u001b[0m\n\u001b[1;32m    133\u001b[0m         \u001b[0;32mfor\u001b[0m \u001b[0me\u001b[0m\u001b[0;34m,\u001b[0m \u001b[0minfo\u001b[0m \u001b[0;32min\u001b[0m \u001b[0menumerate\u001b[0m\u001b[0;34m(\u001b[0m\u001b[0mself\u001b[0m\u001b[0;34m.\u001b[0m\u001b[0mitems\u001b[0m\u001b[0;34m(\u001b[0m\u001b[0;34m)\u001b[0m\u001b[0;34m)\u001b[0m\u001b[0;34m:\u001b[0m\u001b[0;34m\u001b[0m\u001b[0;34m\u001b[0m\u001b[0m\n\u001b[1;32m    134\u001b[0m             \u001b[0;34m(\u001b[0m\u001b[0mq_i\u001b[0m\u001b[0;34m,\u001b[0m \u001b[0ma\u001b[0m\u001b[0;34m)\u001b[0m\u001b[0;34m,\u001b[0m \u001b[0mq_f\u001b[0m \u001b[0;34m=\u001b[0m \u001b[0minfo\u001b[0m\u001b[0;34m\u001b[0m\u001b[0;34m\u001b[0m\u001b[0m\n\u001b[0;32m--> 135\u001b[0;31m             \u001b[0;32mif\u001b[0m \u001b[0mlen\u001b[0m\u001b[0;34m(\u001b[0m\u001b[0mq_fs\u001b[0m\u001b[0;34m)\u001b[0m \u001b[0;34m==\u001b[0m \u001b[0;36m0\u001b[0m\u001b[0;34m:\u001b[0m\u001b[0;34m\u001b[0m\u001b[0;34m\u001b[0m\u001b[0m\n\u001b[0m\u001b[1;32m    136\u001b[0m                 \u001b[0;32mcontinue\u001b[0m\u001b[0;34m\u001b[0m\u001b[0;34m\u001b[0m\u001b[0m\n\u001b[1;32m    137\u001b[0m             \u001b[0;32mif\u001b[0m \u001b[0mq_i\u001b[0m \u001b[0;32min\u001b[0m \u001b[0mq_prev\u001b[0m \u001b[0;32mand\u001b[0m \u001b[0ma\u001b[0m \u001b[0;32min\u001b[0m \u001b[0ma_c\u001b[0m\u001b[0;34m:\u001b[0m\u001b[0;34m\u001b[0m\u001b[0;34m\u001b[0m\u001b[0m\n",
      "\u001b[0;31mNameError\u001b[0m: name 'q_fs' is not defined"
     ]
    }
   ],
   "source": [
    "bes_pares1=load_fa(\"\"\"\n",
    "      | a  | b\n",
    "->q0  | q0 | q1\n",
    "  q1] | q1 | q0\n",
    "\"\"\")\n",
    "bes_pares1.print_summary()"
   ]
  },
  {
   "cell_type": "code",
<<<<<<< HEAD
   "execution_count": 4,
   "metadata": {},
   "outputs": [],
   "source": [
    "bes_pares__=load_fa(\"\"\"\n",
    "        | a | b\n",
    "-> q₀]  |q₀  | q₁\n",
    "   q₁]  |q₁  | q₀\n",
    "\"\"\")"
   "execution_count": null,
   "metadata": {},
   "outputs": [],
   "source": [
    "bes_pares1.graph()"
   "execution_count": 8,
   "execution_count": null,
   "execution_count": 5,
   "metadata": {},
   "outputs": [
    {
     "data": {
      "application/vnd.jupyter.widget-view+json": {
       "model_id": "cbc8a7da209e42c6a7b5b258ab5b17d2",
       "version_major": 2,
       "version_minor": 0
      },
      "text/plain": [
       "VBox(children=(HBox(children=(Text(value='baaabaaabb', description='Cadena'), Button(description='⏎', style=Bu…"
      ]
     },
     "metadata": {},
     "output_type": "display_data"
    }
   ],
   "execution_count": null,
   "metadata": {},
   "outputs": [],
   "source": [
    "for w in cadenas:\n",
    "    print(f\"Partiendo del estado inicial con {w} se llega al estado\",bes_pares.delta_extended(bes_pares.q_0,w))"
   ]
  },
  {
   "cell_type": "code",
   "execution_count": null,
   "metadata": {},
   "outputs": [],
   "source": [
    "bes_pares2=load_fa(\"\"\"\n",
    "      | a  | b\n",
    "->q0] | q0 | q1\n",
    "  q1] | q1 | q0\n",
    "\"\"\")\n",
    "bes_pares2.print_summary()"
   ]
  },
  {
   "cell_type": "code",
   "execution_count": null,
   "metadata": {},
   "outputs": [],
   "source": [
    "bes_pares2.graph()"
   ]
  },
  {
   "cell_type": "code",
   "execution_count": null,
   "metadata": {},
   "outputs": [],
   "source": [
    "cadenas=[\"aaa\",\"aab\",'abb','bba','baba','baa']\n",
    "for w in cadenas:\n",
    "    print(f\"Probando con {w} el AFD arroja:\",bes_pares2.accepts(w))"
   ]
  },
  {
   "cell_type": "code",
   "execution_count": null,
   "metadata": {},
   "outputs": [],
   "source": [
    "for w in cadenas:\n",
    "    print(f\"Partiendo del estado inicial con {w} se llega al estado\",bes_pares.delta_extended(bes_pares.q_0,w))"
   ]
  },
  {
   "cell_type": "markdown",
   "metadata": {},
   "source": [
    "## 02.d Simulación\n",
    "\n",
    "Simulación es un modo interactivo que permite ver el avance del autómata paso por paso"
   ]
  },
  {
   "cell_type": "code",
   "execution_count": null,
   "metadata": {},
   "outputs": [],
   "outputs": [],
   "source": [
    "### 02.e Paso a paso\n",
    "\n",
    "Para visualizar qué pasa paso a paso en el análisis de una cadena se puede iterar sobre la funcion _delta_stepwise_:"
   ]
  },
  {
   "cell_type": "code",
   "execution_count": 10,
   "metadata": {},
   "outputs": [],
   "source": [
    "for q,a,w_ in bes_pares.delta_stepwise(\"abbaa\"):\n",
    "    if a:\n",
    "        print(f\"{a} -> {q}\", end=\",\\n \")\n",
    "    else:\n",
    "        print(f\"{q}\",end=\"\\n \")\n",
    "    res=q\n",
    "    \n",
    "print(f\"\\nCon {res} Se acepta?\", \"Sí\" if bes_pares.acceptor(res) else \"No\" )"
   ]
  }
 ],
 "metadata": {
  "kernelspec": {
   "display_name": "Python 3",
   "language": "python",
   "name": "python3"
  },
  "language_info": {
   "codemirror_mode": {
    "name": "ipython",
    "version": 3
   },
   "file_extension": ".py",
   "mimetype": "text/x-python",
   "name": "python",
   "nbconvert_exporter": "python",
   "pygments_lexer": "ipython3",
   "version": "3.6.9"
  }
 },
 "nbformat": 4,
 "nbformat_minor": 2
}
