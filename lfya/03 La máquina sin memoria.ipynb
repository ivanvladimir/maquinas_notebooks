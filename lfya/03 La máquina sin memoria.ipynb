{
 "cells": [
  {
   "cell_type": "code",
   "execution_count": 1,
   "metadata": {},
   "outputs": [],
   "source": [
    "import os\n",
    "import sys\n",
    "from maquinas.regular.dfa import DeterministicFiniteAutomaton as DFA\n",
    "from maquinas.simulation import Simulation"
   ]
  },
  {
   "cell_type": "code",
   "execution_count": 3,
   "metadata": {},
   "outputs": [],
   "source": [
    "bes_pares=DFA(Q=['q₀','q₁'],\n",
    "                         sigma=['a','b'],\n",
    "                         q_0='q₀',\n",
    "                         A=['q₀'],\n",
    "                         delta=[\n",
    "                            (('q₀','a'),'q₀'),\n",
    "                            (('q₁','b'),'q₀'),\n",
    "                            (('q₁','a'),'q₁'),\n",
    "                            (('q₀','b'),'q₁'),\n",
    "                         ])"
   ]
  },
  {
   "cell_type": "code",
   "execution_count": 4,
   "metadata": {},
   "outputs": [],
   "source": [
    "bes_pares.save_img(\"bes_pares\",dpi=\"600\")"
   ]
  },
  {
   "cell_type": "code",
   "execution_count": 5,
   "metadata": {},
   "outputs": [],
   "source": [
    "bes_pares_=DFA(Q=['q₀','q₁'],\n",
    "                         sigma=['a','b'],\n",
    "                         q_0='q₀',\n",
    "                         A=['q₁'],\n",
    "                         delta=[\n",
    "                            (('q₀','a'),'q₀'),\n",
    "                            (('q₁','b'),'q₀'),\n",
    "                            (('q₁','a'),'q₁'),\n",
    "                            (('q₀','b'),'q₁'),\n",
    "                         ])"
   ]
  },
  {
   "cell_type": "code",
   "execution_count": 7,
   "metadata": {},
   "outputs": [],
   "source": [
    "bes_pares_.save_img(\"bes_pares_\",dpi=\"600\")"
   ]
  },
  {
   "cell_type": "code",
   "execution_count": 8,
   "metadata": {},
   "outputs": [],
   "source": [
    "bes_pares__=DFA(Q=['q₀','q₁'],\n",
    "                         sigma=['a','b'],\n",
    "                         q_0='q₀',\n",
    "                         A=['q₀','q₁'],\n",
    "                         delta=[\n",
    "                            (('q₀','a'),'q₀'),\n",
    "                            (('q₁','b'),'q₀'),\n",
    "                            (('q₁','a'),'q₁'),\n",
    "                            (('q₀','b'),'q₁'),\n",
    "                         ])"
   ]
  },
  {
   "cell_type": "code",
   "execution_count": 10,
   "metadata": {},
   "outputs": [],
   "source": [
    "bes_pares__.save_img(\"bes_pares__\",dpi=\"600\")"
   ]
  },
  {
   "cell_type": "code",
   "execution_count": 11,
   "metadata": {},
   "outputs": [
    {
     "data": {
      "application/vnd.jupyter.widget-view+json": {
       "model_id": "7c2e7140a9a047cfa5e0fb0d6e0305ef",
       "version_major": 2,
       "version_minor": 0
      },
      "text/plain": [
       "VBox(children=(HBox(children=(Text(value='baaabaaabb', description='Cadena'), Button(description='⏎', style=Bu…"
      ]
     },
     "metadata": {},
     "output_type": "display_data"
    }
   ],
   "source": [
    "s=Simulation(bes_pares,\"baaabaaabb\")\n",
    "s.run()"
   ]
  },
  {
   "cell_type": "code",
   "execution_count": 12,
   "metadata": {},
   "outputs": [
    {
     "data": {
      "text/html": [
       "<img src=\"maquina.gif\">"
      ],
      "text/plain": [
       "<IPython.core.display.HTML object>"
      ]
     },
     "execution_count": 12,
     "metadata": {},
     "output_type": "execute_result"
    }
   ],
   "source": [
    "bes_pares.save_gif(\"abbaa\")"
   ]
  },
  {
   "cell_type": "code",
   "execution_count": 13,
   "metadata": {},
   "outputs": [
    {
     "name": "stdout",
     "output_type": "stream",
     "text": [
      "q₀\n",
      " a -> q₀,\n",
      " b -> q₁,\n",
      " b -> q₀,\n",
      " a -> q₀,\n",
      " a -> q₀,\n",
      " \n",
      "Con q₀ Se acepta? Sí\n"
     ]
    }
   ],
   "source": [
    "for q,a,w_ in bes_pares.delta_stepwise(\"abbaa\"):\n",
    "    if a:\n",
    "        print(f\"{a} -> {q}\", end=\",\\n \")\n",
    "    else:\n",
    "        print(f\"{q}\",end=\"\\n \")\n",
    "    res=q\n",
    "    \n",
    "print(f\"\\nCon {res} Se acepta?\", \"Sí\" if bes_pares.accept(res) else \"No\" )"
   ]
  }
 ],
 "metadata": {
  "kernelspec": {
   "display_name": "Python 3",
   "language": "python",
   "name": "python3"
  },
  "language_info": {
   "codemirror_mode": {
    "name": "ipython",
    "version": 3
   },
   "file_extension": ".py",
   "mimetype": "text/x-python",
   "name": "python",
   "nbconvert_exporter": "python",
   "pygments_lexer": "ipython3",
   "version": "3.6.8"
  }
 },
 "nbformat": 4,
 "nbformat_minor": 2
}
