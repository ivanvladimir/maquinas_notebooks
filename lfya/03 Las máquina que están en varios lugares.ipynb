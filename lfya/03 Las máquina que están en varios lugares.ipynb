{
 "cells": [
  {
   "cell_type": "markdown",
   "metadata": {},
   "source": [
    "[![Open In Colab](https://colab.research.google.com/assets/colab-badge.svg)](https://colab.research.google.com/github/ivanvladimir/maquinas_notebooks/blob/main/lfya/03%20Las%20m%C3%A1quina%20que%20est%C3%A1n%20en%20varios%20lugares.ipynb)"
   ]
  },
  {
   "cell_type": "code",
   "execution_count": null,
   "metadata": {},
   "outputs": [],
   "source": [
    "# Execute if not installed\n",
    "!pip install maquinas"
   ]
  },
  {
   "cell_type": "code",
   "execution_count": null,
   "metadata": {},
   "outputs": [],
   "source": [
    "from maquinas.regular.dfa import DeterministicFiniteAutomaton as DFA\n",
    "from maquinas.regular.ndfa import NonDeterministicFiniteAutomaton as NDFA\n",
    "from maquinas.regular.ndfa_e import NonDeterministicFiniteAutomaton_epsilon as NDFA_e\n",
    "from maquinas.regular.ndfa_e import epsilon\n",
    "from maquinas.regular.reductions import *\n",
    "from maquinas.simulation import Simulation"
   ]
  },
  {
   "cell_type": "code",
   "execution_count": null,
   "metadata": {},
   "outputs": [],
   "source": [
    "abb=DFA(Q=['q_0','q_1','q_2','q_3'],\n",
    "         sigma=['a','b'],\n",
    "         q_0='q_0',\n",
    "         A=['q_3'],\n",
    "         delta=[\n",
    "             (('q_0','a'),'q_1'),\n",
    "             (('q_0','b'),'q_0'),\n",
    "             (('q_1','a'),'q_1'),\n",
    "             (('q_1','b'),'q_2'),\n",
    "             (('q_2','a'),'q_1'),\n",
    "             (('q_2','b'),'q_3'),\n",
    "             (('q_3','a'),'q_3'),\n",
    "             (('q_3','b'),'q_3'),\n",
    "         ])\n",
    "abb.save_img('contiene_abb')"
   ]
  },
  {
   "cell_type": "code",
   "execution_count": null,
   "metadata": {},
   "outputs": [],
   "source": [
    "# Creating automata finito no deterministico\n",
    "chicles_1=NDFA(Q=['q₀',\n",
    "                  'q₁₁/₁','q₂₁/₁','q₃₁/₁','q₄₁/₁',\n",
    "                  'q₁₁/₂','q₁₁_₁₂/₂',\n",
    "                  'q₁₁/₃','q₁₁_₁₂/₃','q₂₁_₁₂/₃',\n",
    "                  'q₁₁/₄','q₂₁/₄','q₂₁_₁₂/₄',\n",
    "                  'q₁₁/₅','q₂₁/₅','q₃₁/₅',\n",
    "                  'q₁₂/₆','q₂₂/₆',\n",
    "                  'q₁₂/₇','q₁₁_₁₂/₇',\n",
    "                  'q₁₂/₈','q₁₁_₁₂/₈','q₂₁_₁₂/₈',\n",
    "                  'q₅'\n",
    "                 ],\n",
    "                         sigma=['1','2','5'],\n",
    "                         q_0='q₀',\n",
    "                         A=['q₅'],\n",
    "                         delta=[\n",
    "                            (('q₀','1'),['q₁₁/₁','q₁₁/₂','q₁₁/₃','q₁₁/₄','q₁₁/₅']),\n",
    "                            (('q₀','2'),['q₁₂/₆','q₁₂/₇','q₁₂/₈']),\n",
    "                            (('q₀','5'),['q₅']),\n",
    "                            (('q₁₁/₁','1'),['q₂₁/₁']),\n",
    "                            (('q₂₁/₁','1'),['q₃₁/₁']),\n",
    "                            (('q₃₁/₁','1'),['q₄₁/₁']),\n",
    "                            (('q₄₁/₁','1'),['q₅']),\n",
    "                            (('q₁₁/₂','2'),['q₁₁_₁₂/₂']),\n",
    "                            (('q₁₁_₁₂/₂','2'),['q₅']),\n",
    "                            (('q₁₁/₃','2'),['q₁₁_₁₂/₃']),\n",
    "                            (('q₁₁_₁₂/₃','1'),['q₂₁_₁₂/₃']),\n",
    "                            (('q₂₁_₁₂/₃','1'),['q₅']),\n",
    "                            (('q₁₁/₄','1'),['q₂₁/₄']),\n",
    "                            (('q₂₁/₄','2'),['q₂₁_₁₂/₄']),\n",
    "                            (('q₂₁_₁₂/₄','1'),['q₅']),\n",
    "                            (('q₁₁/₅','1'),['q₂₁/₅']),\n",
    "                            (('q₂₁/₅','1'),['q₃₁/₅']),\n",
    "                            (('q₃₁/₅','2'),['q₅']),\n",
    "                            (('q₁₂/₆','2'),['q₂₂/₆']),\n",
    "                            (('q₂₂/₆','1'),['q₅']),\n",
    "                            (('q₁₂/₇','1'),['q₁₁_₁₂/₇']),\n",
    "                            (('q₁₁_₁₂/₇','2'),['q₅']),\n",
    "                            (('q₁₂/₈','1'),['q₁₁_₁₂/₈']),\n",
    "                            (('q₁₁_₁₂/₈','1'),['q₂₁_₁₂/₈']),\n",
    "                            (('q₂₁_₁₂/₈','1'),['q₅']),                          \n",
    "                         ])"
   ]
  },
  {
   "cell_type": "code",
   "execution_count": null,
   "metadata": {},
   "outputs": [],
   "source": [
    "chicles_1.save_img(\"full\")"
   ]
  },
  {
   "cell_type": "code",
   "execution_count": null,
   "metadata": {},
   "outputs": [],
   "source": [
    "print(chicles_1.summary())"
   ]
  },
  {
   "cell_type": "code",
   "execution_count": null,
   "metadata": {},
   "outputs": [],
   "source": [
    "chicles_1.table()"
   ]
  },
  {
   "cell_type": "code",
   "execution_count": null,
   "metadata": {},
   "outputs": [],
   "source": [
    "for q,a,w_ in chicles_1.delta_stepwise(\"122\"):\n",
    "    if a:\n",
    "        print(f\"{a} -> {q}\", end=\",\\n \")\n",
    "    else:\n",
    "        print(f\"{q}\",end=\"\\n \")\n",
    "    res=q\n",
    "    \n",
    "print(f\"\\nCon {res} Se acepta?\", \"Sí\" if chicles_1.accept(res) else \"No\" )"
   ]
  },
  {
   "cell_type": "code",
   "execution_count": null,
   "metadata": {},
   "outputs": [],
   "source": [
    "chicles_1.delta_extended(None,\"122\")"
   ]
  },
  {
   "cell_type": "code",
   "execution_count": null,
   "metadata": {},
   "outputs": [],
   "source": [
    "s=Simulation(chicles_1,\"122\")\n",
    "s.run()"
   ]
  },
  {
   "cell_type": "code",
   "execution_count": null,
   "metadata": {},
   "outputs": [],
   "source": [
    "chicles_1.save_gif(\"122\",'full.gif')"
   ]
  },
  {
   "cell_type": "code",
   "execution_count": null,
   "metadata": {},
   "outputs": [],
   "source": [
    "chicles_2_full=ndfa2dfa(chicles_1,rename=False)"
   ]
  },
  {
   "cell_type": "code",
   "execution_count": null,
   "metadata": {},
   "outputs": [],
   "source": [
    "chicles_2_full.table()"
   ]
  },
  {
   "cell_type": "code",
   "execution_count": null,
   "metadata": {},
   "outputs": [],
   "source": [
    "chicles_2_full.save_img(\"dfa_full\")"
   ]
  },
  {
   "cell_type": "code",
   "execution_count": null,
   "metadata": {
    "scrolled": false
   },
   "outputs": [],
   "source": [
    "chicles_2=ndfa2dfa(chicles_1)\n",
    "chicles_2.table()"
   ]
  },
  {
   "cell_type": "code",
   "execution_count": null,
   "metadata": {},
   "outputs": [],
   "source": [
    "chicles_2.save_img(\"dfa_chicles\")"
   ]
  },
  {
   "cell_type": "code",
   "execution_count": null,
   "metadata": {},
   "outputs": [],
   "source": [
    "for q,a,w_ in chicles_2.delta_stepwise(\"122\"):\n",
    "    if a:\n",
    "        print(f\"{a} -> {q}\", end=\",\\n \")\n",
    "    else:\n",
    "        print(f\"{q}\",end=\"\\n \")\n",
    "    res=q\n",
    "    \n",
    "print(f\"\\nCon {res} Se acepta?\", \"Sí\" if chicles_2.accept(res) else \"No\" )"
   ]
  },
  {
   "cell_type": "code",
   "execution_count": null,
   "metadata": {},
   "outputs": [],
   "source": [
    "chicles_2.save_gif(\"122\",'dfa.gif')"
   ]
  },
  {
   "cell_type": "code",
   "execution_count": null,
   "metadata": {},
   "outputs": [],
   "source": [
    "chicles_3=NDFA_e(Q=chicles_2.Q,\n",
    "                 sigma=chicles_2.sigma,\n",
    "                 q_0=chicles_2.q_0,\n",
    "                 A=chicles_2.A,\n",
    "                 delta=[(k,[qs]) for k,qs in chicles_2.items()])"
   ]
  },
  {
   "cell_type": "code",
   "execution_count": null,
   "metadata": {},
   "outputs": [],
   "source": [
    "for q_f in chicles_3.A:\n",
    "    chicles_3.add_transition(q_f,'ε',['q_0'])"
   ]
  },
  {
   "cell_type": "code",
   "execution_count": null,
   "metadata": {},
   "outputs": [],
   "source": [
    "chicles_3.save_img(\"ndfa_e_multiple\")"
   ]
  },
  {
   "cell_type": "code",
   "execution_count": null,
   "metadata": {},
   "outputs": [],
   "source": [
    "for q,a,w_ in chicles_3.delta_stepwise(\"5212\"):\n",
    "    if a:\n",
    "        print(f\"{a} -> {q}\", end=\",\\n \")\n",
    "    else:\n",
    "        print(f\"{q}\",end=\"\\n \")\n",
    "    res=q\n",
    "    \n",
    "print(f\"\\nCon {res} Se acepta?\", \"Sí\" if chicles_2.accept(res) else \"No\" )"
   ]
  },
  {
   "cell_type": "code",
   "execution_count": null,
   "metadata": {},
   "outputs": [],
   "source": [
    "chicles_3.delta_extended(None,\"5212\")"
   ]
  },
  {
   "cell_type": "code",
   "execution_count": null,
   "metadata": {},
   "outputs": [],
   "source": [
    "s=Simulation(chicles_3,\"5212\")\n",
    "s.run()"
   ]
  },
  {
   "cell_type": "code",
   "execution_count": null,
   "metadata": {},
   "outputs": [],
   "source": [
    "chicles_3.save_gif(\"5212\",\"ndfa_e_multiple.gif\")"
   ]
  },
  {
   "cell_type": "code",
   "execution_count": null,
   "metadata": {},
   "outputs": [],
   "source": [
    "chicles_3.table()"
   ]
  },
  {
   "cell_type": "code",
   "execution_count": null,
   "metadata": {},
   "outputs": [],
   "source": [
    "chicles_4=ndfa_e2ndfa(chicles_3, rename=False)\n",
    "chicles_4.table()"
   ]
  },
  {
   "cell_type": "code",
   "execution_count": null,
   "metadata": {},
   "outputs": [],
   "source": [
    "chicles_4.save_img(\"ndfa_multiple\")"
   ]
  },
  {
   "cell_type": "code",
   "execution_count": null,
   "metadata": {},
   "outputs": [],
   "source": [
    "chicles_4.save_gif(\"5212\",\"ndfa_multiple.gif\")"
   ]
  },
  {
   "cell_type": "code",
   "execution_count": null,
   "metadata": {},
   "outputs": [],
   "source": [
    "chicles_5=ndfa2dfa(chicles_4)\n",
    "chicles_5.save_img(\"dfa_multiple\")"
   ]
  },
  {
   "cell_type": "code",
   "execution_count": null,
   "metadata": {
    "scrolled": true
   },
   "outputs": [],
   "source": [
    "chicles_5.save_gif(\"5212\",\"dfa_multiple.gif\")"
   ]
  },
  {
   "cell_type": "code",
   "execution_count": null,
   "metadata": {},
   "outputs": [],
   "source": [
    "# agregando aceptar el pago: 2,2,2,2,2\n",
    "chicles_5.add_transition('q_8','2','q_1')\n",
    "chicles_5.graph()"
   ]
  },
  {
   "cell_type": "code",
   "execution_count": null,
   "metadata": {},
   "outputs": [],
   "source": [
    "chicles_5.save_gif(\"22222\",\"dfa_multiple_22222.gif\")"
   ]
  },
  {
   "cell_type": "code",
   "execution_count": null,
   "metadata": {},
   "outputs": [],
   "source": [
    "# Creating automata finito\n",
    "ceros_uno=DFA(Q=['q_0','q_1'],\n",
    "                         sigma=['0','1'],\n",
    "                         q_0='q_0',\n",
    "                         A=['q_1'],\n",
    "                         delta=[\n",
    "                            (('q_0','1'),'q_0'),\n",
    "                            (('q_0','0'),'q_1')\n",
    "                         ])\n",
    "ceros_uno=dfa2ndfa_e(ceros_uno)\n",
    "ceros_uno.save_img('unos_cero')"
   ]
  },
  {
   "cell_type": "code",
   "execution_count": null,
   "metadata": {},
   "outputs": [],
   "source": [
    "uno_ceros=DFA(Q=['q_0','q_1'],\n",
    "                         sigma=['0','1'],\n",
    "                         q_0='q_0',\n",
    "                         A=['q_1'],\n",
    "                         delta=[\n",
    "                            (('q_0','1'),'q_1'),\n",
    "                            (('q_1','0'),'q_1')\n",
    "                         ])\n",
    "uno_ceros=dfa2ndfa_e(uno_ceros)\n",
    "uno_ceros.save_img(\"uno_ceros\")"
   ]
  },
  {
   "cell_type": "code",
   "execution_count": null,
   "metadata": {},
   "outputs": [],
   "source": [
    "union=ceros_uno.union(uno_ceros)\n",
    "union.save_img('union')"
   ]
  },
  {
   "cell_type": "code",
   "execution_count": null,
   "metadata": {},
   "outputs": [],
   "source": [
    "concat=ceros_uno.concat(uno_ceros)\n",
    "concat.save_img('concat')"
   ]
  },
  {
   "cell_type": "code",
   "execution_count": null,
   "metadata": {},
   "outputs": [],
   "source": [
    "kleene=ceros_uno.kleene()\n",
    "kleene.save_img(\"cerradura\")"
   ]
  },
  {
   "cell_type": "code",
   "execution_count": null,
   "metadata": {},
   "outputs": [],
   "source": [
    "from maquinas.regular.RE import RE\n",
    "reg = RE('(a*ba*ba*)*+a*')\n",
    "reg=reg.ndfa_e()"
   ]
  },
  {
   "cell_type": "code",
   "execution_count": null,
   "metadata": {},
   "outputs": [],
   "source": [
    "reg.save_img(\"reg\")"
   ]
  },
  {
   "cell_type": "code",
   "execution_count": null,
   "metadata": {},
   "outputs": [],
   "source": [
    "reg_a = RE('a')\n",
    "reg_a=reg_a.ndfa_e()\n",
    "reg_a.save_img(\"reg_a\")"
   ]
  },
  {
   "cell_type": "code",
   "execution_count": null,
   "metadata": {},
   "outputs": [],
   "source": [
    "reg_a = RE('a*')\n",
    "reg_a=reg_a.ndfa_e()\n",
    "reg_a.save_img(\"reg_a_klene\")"
   ]
  },
  {
   "cell_type": "code",
   "execution_count": null,
   "metadata": {},
   "outputs": [],
   "source": [
    "reg_a_b = RE('a*b')\n",
    "reg_a_b=reg_a_b.ndfa_e()\n",
    "reg_a_b.save_img(\"reg_a_b_klene\")"
   ]
  }
 ],
 "metadata": {
  "kernelspec": {
   "display_name": "Python 3",
   "language": "python",
   "name": "python3"
  },
  "language_info": {
   "codemirror_mode": {
    "name": "ipython",
    "version": 3
   },
   "file_extension": ".py",
   "mimetype": "text/x-python",
   "name": "python",
   "nbconvert_exporter": "python",
   "pygments_lexer": "ipython3",
   "version": "3.6.8"
  }
 },
 "nbformat": 4,
 "nbformat_minor": 2
}
