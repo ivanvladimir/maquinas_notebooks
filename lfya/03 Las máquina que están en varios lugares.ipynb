{
 "cells": [
  {
   "cell_type": "code",
   "execution_count": 1,
   "metadata": {},
   "outputs": [],
   "source": [
    "import os\n",
    "import sys\n",
    "\n",
    "from maquinas.regular.dfa import DeterministicFiniteAutomaton as DFA\n",
    "from maquinas.regular.ndfa import NonDeterministicFiniteAutomaton as NDFA\n",
    "from maquinas.regular.ndfa_e import NonDeterministicFiniteAutomaton_epsilon as NDFA_e\n",
    "from maquinas.regular.ndfa_e import epsilon\n",
    "from maquinas.regular.reductions import *\n",
    "from maquinas.simulation import Simulation"
   ]
  },
  {
   "cell_type": "code",
   "execution_count": 2,
   "metadata": {},
   "outputs": [],
   "source": [
    "abb=DFA(Q=['q_0','q_1','q_2','q_3'],\n",
    "         sigma=['a','b'],\n",
    "         q_0='q_0',\n",
    "         A=['q_3'],\n",
    "         delta=[\n",
    "             (('q_0','a'),'q_1'),\n",
    "             (('q_0','b'),'q_0'),\n",
    "             (('q_1','a'),'q_1'),\n",
    "             (('q_1','b'),'q_2'),\n",
    "             (('q_2','a'),'q_1'),\n",
    "             (('q_2','b'),'q_3'),\n",
    "             (('q_3','a'),'q_3'),\n",
    "             (('q_3','b'),'q_3'),\n",
    "         ])\n",
    "abb.save_img('contiene_abb')"
   ]
  },
  {
   "cell_type": "code",
   "execution_count": 3,
   "metadata": {},
   "outputs": [],
   "source": [
    "# Creating automata finito no deterministico\n",
    "chicles_1=NDFA(Q=['q₀',\n",
    "                  'q₁₁/₁','q₂₁/₁','q₃₁/₁','q₄₁/₁',\n",
    "                  'q₁₁/₂','q₁₁_₁₂/₂',\n",
    "                  'q₁₁/₃','q₁₁_₁₂/₃','q₂₁_₁₂/₃',\n",
    "                  'q₁₁/₄','q₂₁/₄','q₂₁_₁₂/₄',\n",
    "                  'q₁₁/₅','q₂₁/₅','q₃₁/₅',\n",
    "                  'q₁₂/₆','q₂₂/₆',\n",
    "                  'q₁₂/₇','q₁₁_₁₂/₇',\n",
    "                  'q₁₂/₈','q₁₁_₁₂/₈','q₂₁_₁₂/₈',\n",
    "                  'q₅'\n",
    "                 ],\n",
    "                         sigma=['1','2','5'],\n",
    "                         q_0='q₀',\n",
    "                         A=['q₅'],\n",
    "                         delta=[\n",
    "                            (('q₀','1'),['q₁₁/₁','q₁₁/₂','q₁₁/₃','q₁₁/₄','q₁₁/₅']),\n",
    "                            (('q₀','2'),['q₁₂/₆','q₁₂/₇','q₁₂/₈']),\n",
    "                            (('q₀','5'),['q₅']),\n",
    "                            (('q₁₁/₁','1'),['q₂₁/₁']),\n",
    "                            (('q₂₁/₁','1'),['q₃₁/₁']),\n",
    "                            (('q₃₁/₁','1'),['q₄₁/₁']),\n",
    "                            (('q₄₁/₁','1'),['q₅']),\n",
    "                            (('q₁₁/₂','2'),['q₁₁_₁₂/₂']),\n",
    "                            (('q₁₁_₁₂/₂','2'),['q₅']),\n",
    "                            (('q₁₁/₃','2'),['q₁₁_₁₂/₃']),\n",
    "                            (('q₁₁_₁₂/₃','1'),['q₂₁_₁₂/₃']),\n",
    "                            (('q₂₁_₁₂/₃','1'),['q₅']),\n",
    "                            (('q₁₁/₄','1'),['q₂₁/₄']),\n",
    "                            (('q₂₁/₄','2'),['q₂₁_₁₂/₄']),\n",
    "                            (('q₂₁_₁₂/₄','1'),['q₅']),\n",
    "                            (('q₁₁/₅','1'),['q₂₁/₅']),\n",
    "                            (('q₂₁/₅','1'),['q₃₁/₅']),\n",
    "                            (('q₃₁/₅','2'),['q₅']),\n",
    "                            (('q₁₂/₆','2'),['q₂₂/₆']),\n",
    "                            (('q₂₂/₆','1'),['q₅']),\n",
    "                            (('q₁₂/₇','1'),['q₁₁_₁₂/₇']),\n",
    "                            (('q₁₁_₁₂/₇','2'),['q₅']),\n",
    "                            (('q₁₂/₈','1'),['q₁₁_₁₂/₈']),\n",
    "                            (('q₁₁_₁₂/₈','1'),['q₂₁_₁₂/₈']),\n",
    "                            (('q₂₁_₁₂/₈','1'),['q₅']),                          \n",
    "                         ])"
   ]
  },
  {
   "cell_type": "code",
   "execution_count": 4,
   "metadata": {},
   "outputs": [],
   "source": [
    "chicles_1.save_img(\"full\")"
   ]
  },
  {
   "cell_type": "code",
   "execution_count": 5,
   "metadata": {},
   "outputs": [
    {
     "name": "stdout",
     "output_type": "stream",
     "text": [
      "States  : q₀, q₁₁/₁, q₂₁/₁, q₃₁/₁, q₄₁/₁, q₁₁/₂, q₁₁_₁₂/₂, q₁₁/₃, q₁₁_₁₂/₃, q₂₁_₁₂/₃, q₁₁/₄, q₂₁/₄, q₂₁_₁₂/₄, q₁₁/₅, q₂₁/₅, q₃₁/₅, q₁₂/₆, q₂₂/₆, q₁₂/₇, q₁₁_₁₂/₇, q₁₂/₈, q₁₁_₁₂/₈, q₂₁_₁₂/₈, q₅\n",
      "Sigma   : 1, 2, 5\n",
      "Initial : q₀\n",
      "Aceptors: q₅\n",
      "Transitions:\n",
      " q₀,1 → ('q₁₁/₅', 'q₁₁/₁', 'q₁₁/₃', 'q₁₁/₄', 'q₁₁/₂')\n",
      " q₀,2 → ('q₁₂/₆', 'q₁₂/₈', 'q₁₂/₇')\n",
      " q₀,5 → ('q₅',)\n",
      " q₁₁/₁,1 → ('q₂₁/₁',)\n",
      " q₂₁/₁,1 → ('q₃₁/₁',)\n",
      " q₃₁/₁,1 → ('q₄₁/₁',)\n",
      " q₄₁/₁,1 → ('q₅',)\n",
      " q₁₁/₂,2 → ('q₁₁_₁₂/₂',)\n",
      " q₁₁_₁₂/₂,2 → ('q₅',)\n",
      " q₁₁/₃,2 → ('q₁₁_₁₂/₃',)\n",
      " q₁₁_₁₂/₃,1 → ('q₂₁_₁₂/₃',)\n",
      " q₂₁_₁₂/₃,1 → ('q₅',)\n",
      " q₁₁/₄,1 → ('q₂₁/₄',)\n",
      " q₂₁/₄,2 → ('q₂₁_₁₂/₄',)\n",
      " q₂₁_₁₂/₄,1 → ('q₅',)\n",
      " q₁₁/₅,1 → ('q₂₁/₅',)\n",
      " q₂₁/₅,1 → ('q₃₁/₅',)\n",
      " q₃₁/₅,2 → ('q₅',)\n",
      " q₁₂/₆,2 → ('q₂₂/₆',)\n",
      " q₂₂/₆,1 → ('q₅',)\n",
      " q₁₂/₇,1 → ('q₁₁_₁₂/₇',)\n",
      " q₁₁_₁₂/₇,2 → ('q₅',)\n",
      " q₁₂/₈,1 → ('q₁₁_₁₂/₈',)\n",
      " q₁₁_₁₂/₈,1 → ('q₂₁_₁₂/₈',)\n",
      " q₂₁_₁₂/₈,1 → ('q₅',)\n"
     ]
    }
   ],
   "source": [
    "print(chicles_1.summary())"
   ]
  },
  {
   "cell_type": "code",
   "execution_count": 6,
   "metadata": {},
   "outputs": [
    {
     "data": {
      "text/html": [
       "<table><tr><td></td><td><strong>1</strong></td><td><strong>2</strong></td><td><strong>5</strong></td></tr><tr><td ><strong>⟶q₀</strong></td><td>q₁₁/₅,q₁₁/₁,q₁₁/₃,q₁₁/₄,q₁₁/₂</td><td>q₁₂/₆,q₁₂/₈,q₁₂/₇</td><td>q₅</td></tr><tr><td ><strong>q₁₁/₁</strong></td><td>q₂₁/₁</td><td>∅</td><td>∅</td></tr><tr><td ><strong>q₁₁/₂</strong></td><td>∅</td><td>q₁₁_₁₂/₂</td><td>∅</td></tr><tr><td ><strong>q₁₁/₃</strong></td><td>∅</td><td>q₁₁_₁₂/₃</td><td>∅</td></tr><tr><td ><strong>q₁₁/₄</strong></td><td>q₂₁/₄</td><td>∅</td><td>∅</td></tr><tr><td ><strong>q₁₁/₅</strong></td><td>q₂₁/₅</td><td>∅</td><td>∅</td></tr><tr><td ><strong>q₁₁_₁₂/₂</strong></td><td>∅</td><td>q₅</td><td>∅</td></tr><tr><td ><strong>q₁₁_₁₂/₃</strong></td><td>q₂₁_₁₂/₃</td><td>∅</td><td>∅</td></tr><tr><td ><strong>q₁₁_₁₂/₇</strong></td><td>∅</td><td>q₅</td><td>∅</td></tr><tr><td ><strong>q₁₁_₁₂/₈</strong></td><td>q₂₁_₁₂/₈</td><td>∅</td><td>∅</td></tr><tr><td ><strong>q₁₂/₆</strong></td><td>∅</td><td>q₂₂/₆</td><td>∅</td></tr><tr><td ><strong>q₁₂/₇</strong></td><td>q₁₁_₁₂/₇</td><td>∅</td><td>∅</td></tr><tr><td ><strong>q₁₂/₈</strong></td><td>q₁₁_₁₂/₈</td><td>∅</td><td>∅</td></tr><tr><td ><strong>q₂₁/₁</strong></td><td>q₃₁/₁</td><td>∅</td><td>∅</td></tr><tr><td ><strong>q₂₁/₄</strong></td><td>∅</td><td>q₂₁_₁₂/₄</td><td>∅</td></tr><tr><td ><strong>q₂₁/₅</strong></td><td>q₃₁/₅</td><td>∅</td><td>∅</td></tr><tr><td ><strong>q₂₁_₁₂/₃</strong></td><td>q₅</td><td>∅</td><td>∅</td></tr><tr><td ><strong>q₂₁_₁₂/₄</strong></td><td>q₅</td><td>∅</td><td>∅</td></tr><tr><td ><strong>q₂₁_₁₂/₈</strong></td><td>q₅</td><td>∅</td><td>∅</td></tr><tr><td ><strong>q₂₂/₆</strong></td><td>q₅</td><td>∅</td><td>∅</td></tr><tr><td ><strong>q₃₁/₁</strong></td><td>q₄₁/₁</td><td>∅</td><td>∅</td></tr><tr><td ><strong>q₃₁/₅</strong></td><td>∅</td><td>q₅</td><td>∅</td></tr><tr><td ><strong>q₄₁/₁</strong></td><td>q₅</td><td>∅</td><td>∅</td></tr><tr><td bgcolor=\"#32a852\"><strong>q₅</strong></td><td>∅</td><td>∅</td><td>∅</td></tr></table>"
      ],
      "text/plain": [
       "<IPython.core.display.HTML object>"
      ]
     },
     "metadata": {},
     "output_type": "display_data"
    }
   ],
   "source": [
    "chicles_1.table()"
   ]
  },
  {
   "cell_type": "code",
   "execution_count": 7,
   "metadata": {},
   "outputs": [
    {
     "name": "stdout",
     "output_type": "stream",
     "text": [
      "{'q₀'}\n",
      " 1 -> {'q₁₁/₅', 'q₁₁/₁', 'q₁₁/₃', 'q₁₁/₄', 'q₁₁/₂'},\n",
      " 2 -> {'q₁₁_₁₂/₃', 'q₁₁_₁₂/₂'},\n",
      " 2 -> {'q₅'},\n",
      " \n",
      "Con {'q₅'} Se acepta? Sí\n"
     ]
    }
   ],
   "source": [
    "for q,a,w_ in chicles_1.delta_stepwise(\"122\"):\n",
    "    if a:\n",
    "        print(f\"{a} -> {q}\", end=\",\\n \")\n",
    "    else:\n",
    "        print(f\"{q}\",end=\"\\n \")\n",
    "    res=q\n",
    "    \n",
    "print(f\"\\nCon {res} Se acepta?\", \"Sí\" if chicles_1.accept(res) else \"No\" )"
   ]
  },
  {
   "cell_type": "code",
   "execution_count": 8,
   "metadata": {},
   "outputs": [
    {
     "data": {
      "text/plain": [
       "{'q₅'}"
      ]
     },
     "execution_count": 8,
     "metadata": {},
     "output_type": "execute_result"
    }
   ],
   "source": [
    "chicles_1.delta_extended(None,\"122\")"
   ]
  },
  {
   "cell_type": "code",
   "execution_count": 9,
   "metadata": {},
   "outputs": [
    {
     "data": {
      "application/vnd.jupyter.widget-view+json": {
       "model_id": "1c750d9649b64141ae5f079dc97ee98c",
       "version_major": 2,
       "version_minor": 0
      },
      "text/plain": [
       "VBox(children=(HBox(children=(Text(value='122', description='Cadena'), Button(description='⏎', style=ButtonSty…"
      ]
     },
     "metadata": {},
     "output_type": "display_data"
    }
   ],
   "source": [
    "s=Simulation(chicles_1,\"122\")\n",
    "s.run()"
   ]
  },
  {
   "cell_type": "code",
   "execution_count": 10,
   "metadata": {},
   "outputs": [
    {
     "data": {
      "text/html": [
       "<img src=\"full.gif\">"
      ],
      "text/plain": [
       "<IPython.core.display.HTML object>"
      ]
     },
     "execution_count": 10,
     "metadata": {},
     "output_type": "execute_result"
    }
   ],
   "source": [
    "chicles_1.save_gif(\"122\",'full.gif')"
   ]
  },
  {
   "cell_type": "code",
   "execution_count": 11,
   "metadata": {},
   "outputs": [],
   "source": [
    "chicles_2_full=ndfa2dfa(chicles_1,rename=False)"
   ]
  },
  {
   "cell_type": "code",
   "execution_count": 12,
   "metadata": {},
   "outputs": [
    {
     "data": {
      "text/html": [
       "<table><tr><td></td><td><strong>1</strong></td><td><strong>2</strong></td><td><strong>5</strong></td></tr><tr><td bgcolor=\"#32a852\"><strong>000000000000000000000001</strong></td><td></td><td></td><td></td></tr><tr><td ><strong>000000000000000000000010</strong></td><td>000000000000000000000001</td><td></td><td></td></tr><tr><td ><strong>000000000000000000010100</strong></td><td>000000000000000000000010</td><td>000000000000000000000001</td><td></td></tr><tr><td ><strong>000000000000000001000000</strong></td><td>000000000000000000000001</td><td></td><td></td></tr><tr><td ><strong>000000000000000010101000</strong></td><td>000000000000000000010100</td><td>000000000000000001000000</td><td></td></tr><tr><td ><strong>000000000000100000000000</strong></td><td>000000000000000000000001</td><td></td><td></td></tr><tr><td ><strong>000000000100000000000000</strong></td><td>000000000000000000000001</td><td></td><td></td></tr><tr><td ><strong>000000101000000000000000</strong></td><td>000000000100000000000000</td><td>000000000000000000000001</td><td></td></tr><tr><td ><strong>000010000000000000000000</strong></td><td>000000000000000000000001</td><td></td><td></td></tr><tr><td ><strong>000100000000000100000000</strong></td><td>000010000000000000000000</td><td>000000000000000000000001</td><td></td></tr><tr><td ><strong>001000000001001000000000</strong></td><td>000100000000000100000000</td><td>000000000000100000000000</td><td></td></tr><tr><td ><strong>010001010010010000000000</strong></td><td>001000000001001000000000</td><td>000000101000000000000000</td><td></td></tr><tr><td ><strong>⟶100000000000000000000000</strong></td><td>010001010010010000000000</td><td>000000000000000010101000</td><td>000000000000000000000001</td></tr></table>"
      ],
      "text/plain": [
       "<IPython.core.display.HTML object>"
      ]
     },
     "metadata": {},
     "output_type": "display_data"
    }
   ],
   "source": [
    "chicles_2_full.table()"
   ]
  },
  {
   "cell_type": "code",
   "execution_count": 13,
   "metadata": {},
   "outputs": [],
   "source": [
    "chicles_2_full.save_img(\"dfa_full\")"
   ]
  },
  {
   "cell_type": "code",
   "execution_count": 14,
   "metadata": {
    "scrolled": false
   },
   "outputs": [
    {
     "data": {
      "text/html": [
       "<table><tr><td></td><td><strong>1</strong></td><td><strong>2</strong></td><td><strong>5</strong></td></tr><tr><td ><strong>⟶q_0</strong></td><td>q_1</td><td>q_2</td><td>q_3</td></tr><tr><td ><strong>q_1</strong></td><td>q_4</td><td>q_5</td><td></td></tr><tr><td ><strong>q_10</strong></td><td>q_3</td><td></td><td></td></tr><tr><td ><strong>q_11</strong></td><td>q_3</td><td></td><td></td></tr><tr><td ><strong>q_12</strong></td><td>q_3</td><td></td><td></td></tr><tr><td ><strong>q_13</strong></td><td>q_3</td><td></td><td></td></tr><tr><td ><strong>q_2</strong></td><td>q_7</td><td>q_8</td><td></td></tr><tr><td bgcolor=\"#32a852\"><strong>q_3</strong></td><td></td><td></td><td></td></tr><tr><td ><strong>q_4</strong></td><td>q_9</td><td>q_10</td><td></td></tr><tr><td ><strong>q_5</strong></td><td>q_11</td><td>q_3</td><td></td></tr><tr><td ><strong>q_7</strong></td><td>q_12</td><td>q_3</td><td></td></tr><tr><td ><strong>q_8</strong></td><td>q_3</td><td></td><td></td></tr><tr><td ><strong>q_9</strong></td><td>q_13</td><td>q_3</td><td></td></tr></table>"
      ],
      "text/plain": [
       "<IPython.core.display.HTML object>"
      ]
     },
     "metadata": {},
     "output_type": "display_data"
    }
   ],
   "source": [
    "chicles_2=ndfa2dfa(chicles_1)\n",
    "chicles_2.table()"
   ]
  },
  {
   "cell_type": "code",
   "execution_count": 15,
   "metadata": {},
   "outputs": [],
   "source": [
    "chicles_2.save_img(\"dfa_chicles\")"
   ]
  },
  {
   "cell_type": "code",
   "execution_count": 16,
   "metadata": {},
   "outputs": [
    {
     "name": "stdout",
     "output_type": "stream",
     "text": [
      "q_0\n",
      " 1 -> q_1,\n",
      " 2 -> q_5,\n",
      " 2 -> q_3,\n",
      " \n",
      "Con q_3 Se acepta? Sí\n"
     ]
    }
   ],
   "source": [
    "for q,a,w_ in chicles_2.delta_stepwise(\"122\"):\n",
    "    if a:\n",
    "        print(f\"{a} -> {q}\", end=\",\\n \")\n",
    "    else:\n",
    "        print(f\"{q}\",end=\"\\n \")\n",
    "    res=q\n",
    "    \n",
    "print(f\"\\nCon {res} Se acepta?\", \"Sí\" if chicles_2.accept(res) else \"No\" )"
   ]
  },
  {
   "cell_type": "code",
   "execution_count": 17,
   "metadata": {},
   "outputs": [
    {
     "data": {
      "text/html": [
       "<img src=\"dfa.gif\">"
      ],
      "text/plain": [
       "<IPython.core.display.HTML object>"
      ]
     },
     "execution_count": 17,
     "metadata": {},
     "output_type": "execute_result"
    }
   ],
   "source": [
    "chicles_2.save_gif(\"122\",'dfa.gif')"
   ]
  },
  {
   "cell_type": "code",
   "execution_count": 22,
   "metadata": {},
   "outputs": [],
   "source": [
    "chicles_3=NDFA_e(Q=chicles_2.Q,\n",
    "                 sigma=chicles_2.sigma,\n",
    "                 q_0=chicles_2.q_0,\n",
    "                 A=chicles_2.A,\n",
    "                 delta=[(k,[qs]) for k,qs in chicles_2.items()])"
   ]
  },
  {
   "cell_type": "code",
   "execution_count": 23,
   "metadata": {},
   "outputs": [],
   "source": [
    "for q_f in chicles_3.A:\n",
    "    chicles_3.add_transition(q_f,'ε',['q_0'])"
   ]
  },
  {
   "cell_type": "code",
   "execution_count": 24,
   "metadata": {},
   "outputs": [],
   "source": [
    "chicles_3.save_img(\"ndfa_e_multiple\")"
   ]
  },
  {
   "cell_type": "code",
   "execution_count": 25,
   "metadata": {},
   "outputs": [
    {
     "name": "stdout",
     "output_type": "stream",
     "text": [
      "{'q_0'}\n",
      " 5 -> {'q_0', 'q_3'},\n",
      " 2 -> {'q_2'},\n",
      " 1 -> {'q_7'},\n",
      " 2 -> {'q_0', 'q_3'},\n",
      " \n",
      "Con {'q_0', 'q_3'} Se acepta? Sí\n"
     ]
    }
   ],
   "source": [
    "for q,a,w_ in chicles_3.delta_stepwise(\"5212\"):\n",
    "    if a:\n",
    "        print(f\"{a} -> {q}\", end=\",\\n \")\n",
    "    else:\n",
    "        print(f\"{q}\",end=\"\\n \")\n",
    "    res=q\n",
    "    \n",
    "print(f\"\\nCon {res} Se acepta?\", \"Sí\" if chicles_2.accept(res) else \"No\" )"
   ]
  },
  {
   "cell_type": "code",
   "execution_count": 26,
   "metadata": {},
   "outputs": [
    {
     "data": {
      "text/plain": [
       "{'q_0', 'q_3'}"
      ]
     },
     "execution_count": 26,
     "metadata": {},
     "output_type": "execute_result"
    }
   ],
   "source": [
    "chicles_3.delta_extended(None,\"5212\")"
   ]
  },
  {
   "cell_type": "code",
   "execution_count": 27,
   "metadata": {},
   "outputs": [
    {
     "data": {
      "application/vnd.jupyter.widget-view+json": {
       "model_id": "42bfd6a6acb5419aa9d544a5b788417f",
       "version_major": 2,
       "version_minor": 0
      },
      "text/plain": [
       "VBox(children=(HBox(children=(Text(value='5212', description='Cadena'), Button(description='⏎', style=ButtonSt…"
      ]
     },
     "metadata": {},
     "output_type": "display_data"
    }
   ],
   "source": [
    "s=Simulation(chicles_3,\"5212\")\n",
    "s.run()"
   ]
  },
  {
   "cell_type": "code",
   "execution_count": 28,
   "metadata": {},
   "outputs": [
    {
     "data": {
      "text/html": [
       "<img src=\"ndfa_e_multiple.gif\">"
      ],
      "text/plain": [
       "<IPython.core.display.HTML object>"
      ]
     },
     "execution_count": 28,
     "metadata": {},
     "output_type": "execute_result"
    }
   ],
   "source": [
    "chicles_3.save_gif(\"5212\",\"ndfa_e_multiple.gif\")"
   ]
  },
  {
   "cell_type": "code",
   "execution_count": 29,
   "metadata": {},
   "outputs": [
    {
     "data": {
      "text/html": [
       "<table><tr><td></td><td><strong>1</strong></td><td><strong>2</strong></td><td><strong>5</strong></td><td><strong>ε</strong></td></tr><tr><td ><strong>⟶q_0</strong></td><td>q_1</td><td>q_2</td><td>q_3</td><td>∅</td></tr><tr><td ><strong>q_1</strong></td><td>q_4</td><td>q_5</td><td>∅</td><td>∅</td></tr><tr><td ><strong>q_10</strong></td><td>q_3</td><td>∅</td><td>∅</td><td>∅</td></tr><tr><td ><strong>q_11</strong></td><td>q_3</td><td>∅</td><td>∅</td><td>∅</td></tr><tr><td ><strong>q_12</strong></td><td>q_3</td><td>∅</td><td>∅</td><td>∅</td></tr><tr><td ><strong>q_13</strong></td><td>q_3</td><td>∅</td><td>∅</td><td>∅</td></tr><tr><td ><strong>q_2</strong></td><td>q_7</td><td>q_8</td><td>∅</td><td>∅</td></tr><tr><td bgcolor=\"#32a852\"><strong>q_3</strong></td><td>∅</td><td>∅</td><td>∅</td><td>q_0</td></tr><tr><td ><strong>q_4</strong></td><td>q_9</td><td>q_10</td><td>∅</td><td>∅</td></tr><tr><td ><strong>q_5</strong></td><td>q_11</td><td>q_3</td><td>∅</td><td>∅</td></tr><tr><td ><strong>q_7</strong></td><td>q_12</td><td>q_3</td><td>∅</td><td>∅</td></tr><tr><td ><strong>q_8</strong></td><td>q_3</td><td>∅</td><td>∅</td><td>∅</td></tr><tr><td ><strong>q_9</strong></td><td>q_13</td><td>q_3</td><td>∅</td><td>∅</td></tr></table>"
      ],
      "text/plain": [
       "<IPython.core.display.HTML object>"
      ]
     },
     "metadata": {},
     "output_type": "display_data"
    }
   ],
   "source": [
    "chicles_3.table()"
   ]
  },
  {
   "cell_type": "code",
   "execution_count": 56,
   "metadata": {},
   "outputs": [
    {
     "data": {
      "text/html": [
       "<table><tr><td></td><td><strong>1</strong></td><td><strong>2</strong></td><td><strong>5</strong></td></tr><tr><td ><strong>⟶q_0</strong></td><td>q_1</td><td>q_2</td><td>q_0,q_3</td></tr><tr><td ><strong>q_1</strong></td><td>q_4</td><td>q_5</td><td>∅</td></tr><tr><td ><strong>q_10</strong></td><td>q_0,q_3</td><td>∅</td><td>∅</td></tr><tr><td ><strong>q_11</strong></td><td>q_0,q_3</td><td>∅</td><td>∅</td></tr><tr><td ><strong>q_12</strong></td><td>q_0,q_3</td><td>∅</td><td>∅</td></tr><tr><td ><strong>q_13</strong></td><td>q_0,q_3</td><td>∅</td><td>∅</td></tr><tr><td ><strong>q_2</strong></td><td>q_7</td><td>q_8</td><td>∅</td></tr><tr><td bgcolor=\"#32a852\"><strong>q_3</strong></td><td>q_1</td><td>q_2</td><td>q_0,q_3</td></tr><tr><td ><strong>q_4</strong></td><td>q_9</td><td>q_10</td><td>∅</td></tr><tr><td ><strong>q_5</strong></td><td>q_11</td><td>q_0,q_3</td><td>∅</td></tr><tr><td ><strong>q_7</strong></td><td>q_12</td><td>q_0,q_3</td><td>∅</td></tr><tr><td ><strong>q_8</strong></td><td>q_0,q_3</td><td>∅</td><td>∅</td></tr><tr><td ><strong>q_9</strong></td><td>q_13</td><td>q_0,q_3</td><td>∅</td></tr></table>"
      ],
      "text/plain": [
       "<IPython.core.display.HTML object>"
      ]
     },
     "metadata": {},
     "output_type": "display_data"
    }
   ],
   "source": [
    "chicles_4=ndfa_e2ndfa(chicles_3, rename=False)\n",
    "chicles_4.table()"
   ]
  },
  {
   "cell_type": "code",
   "execution_count": 57,
   "metadata": {},
   "outputs": [],
   "source": [
    "chicles_4.save_img(\"ndfa_multiple\")"
   ]
  },
  {
   "cell_type": "code",
   "execution_count": 58,
   "metadata": {},
   "outputs": [
    {
     "data": {
      "text/html": [
       "<img src=\"ndfa_multiple.gif\">"
      ],
      "text/plain": [
       "<IPython.core.display.HTML object>"
      ]
     },
     "execution_count": 58,
     "metadata": {},
     "output_type": "execute_result"
    }
   ],
   "source": [
    "chicles_4.save_gif(\"5212\",\"ndfa_multiple.gif\")"
   ]
  },
  {
   "cell_type": "code",
   "execution_count": 49,
   "metadata": {},
   "outputs": [],
   "source": [
    "chicles_5=ndfa2dfa(chicles_4)\n",
    "chicles_5.save_img(\"dfa_multiple\")"
   ]
  },
  {
   "cell_type": "code",
   "execution_count": 53,
   "metadata": {
    "scrolled": true
   },
   "outputs": [
    {
     "data": {
      "text/html": [
       "<img src=\"dfa_multiple.gif\">"
      ],
      "text/plain": [
       "<IPython.core.display.HTML object>"
      ]
     },
     "execution_count": 53,
     "metadata": {},
     "output_type": "execute_result"
    }
   ],
   "source": [
    "chicles_5.save_gif(\"5212\",\"dfa_multiple.gif\")"
   ]
  },
  {
   "cell_type": "code",
   "execution_count": 54,
   "metadata": {},
   "outputs": [
    {
     "data": {
      "image/svg+xml": [
       "<?xml version=\"1.0\" encoding=\"UTF-8\" standalone=\"no\"?>\n",
       "<!DOCTYPE svg PUBLIC \"-//W3C//DTD SVG 1.1//EN\"\n",
       " \"http://www.w3.org/Graphics/SVG/1.1/DTD/svg11.dtd\">\n",
       "<!-- Generated by graphviz version 2.40.1 (20161225.0304)\n",
       " -->\n",
       "<!-- Title: %3 Pages: 1 -->\n",
       "<svg width=\"749pt\" height=\"380pt\"\n",
       " viewBox=\"0.00 0.00 899.25 456.00\" xmlns=\"http://www.w3.org/2000/svg\" xmlns:xlink=\"http://www.w3.org/1999/xlink\">\n",
       "<g id=\"graph0\" class=\"graph\" transform=\"scale(.8333 .8333) rotate(0) translate(4 452)\">\n",
       "<title>%3</title>\n",
       "<polygon fill=\"#ffffff\" stroke=\"transparent\" points=\"-4,4 -4,-452 895.2549,-452 895.2549,4 -4,4\"/>\n",
       "<!-- __initial__ -->\n",
       "<g id=\"node1\" class=\"node\">\n",
       "<title>__initial__</title>\n",
       "</g>\n",
       "<!-- q_0 -->\n",
       "<g id=\"node2\" class=\"node\">\n",
       "<title>q_0</title>\n",
       "<ellipse fill=\"none\" stroke=\"#000000\" cx=\"62.0479\" cy=\"-387\" rx=\"24.0958\" ry=\"24.0958\"/>\n",
       "<text text-anchor=\"middle\" x=\"62.0479\" y=\"-383.3\" font-family=\"Times,serif\" font-size=\"14.00\" fill=\"#000000\">q_0</text>\n",
       "</g>\n",
       "<!-- __initial__&#45;&gt;q_0 -->\n",
       "<g id=\"edge1\" class=\"edge\">\n",
       "<title>__initial__&#45;&gt;q_0</title>\n",
       "<path fill=\"none\" stroke=\"#000000\" d=\"M1.1912,-387C4.0596,-387 15.445,-387 27.6057,-387\"/>\n",
       "<polygon fill=\"#000000\" stroke=\"#000000\" points=\"27.833,-390.5001 37.8329,-387 27.8329,-383.5001 27.833,-390.5001\"/>\n",
       "</g>\n",
       "<!-- q_1 -->\n",
       "<g id=\"node3\" class=\"node\">\n",
       "<title>q_1</title>\n",
       "<ellipse fill=\"none\" stroke=\"#000000\" cx=\"153.1436\" cy=\"-205\" rx=\"24.0958\" ry=\"24.0958\"/>\n",
       "<text text-anchor=\"middle\" x=\"153.1436\" y=\"-201.3\" font-family=\"Times,serif\" font-size=\"14.00\" fill=\"#000000\">q_1</text>\n",
       "</g>\n",
       "<!-- q_0&#45;&gt;q_1 -->\n",
       "<g id=\"edge2\" class=\"edge\">\n",
       "<title>q_0&#45;&gt;q_1</title>\n",
       "<path fill=\"none\" stroke=\"#000000\" d=\"M72.8555,-365.4075C88.9495,-333.2533 119.2905,-272.635 137.7149,-235.825\"/>\n",
       "<polygon fill=\"#000000\" stroke=\"#000000\" points=\"141.0039,-237.0734 142.3501,-226.5644 134.7443,-233.9402 141.0039,-237.0734\"/>\n",
       "<text text-anchor=\"middle\" x=\"107.5957\" y=\"-304.8\" font-family=\"Times,serif\" font-size=\"14.00\" fill=\"#000000\">1</text>\n",
       "</g>\n",
       "<!-- q_2 -->\n",
       "<g id=\"node4\" class=\"node\">\n",
       "<title>q_2</title>\n",
       "<ellipse fill=\"none\" stroke=\"#000000\" cx=\"675.9164\" cy=\"-264\" rx=\"24.0958\" ry=\"24.0958\"/>\n",
       "<text text-anchor=\"middle\" x=\"675.9164\" y=\"-260.3\" font-family=\"Times,serif\" font-size=\"14.00\" fill=\"#000000\">q_2</text>\n",
       "</g>\n",
       "<!-- q_0&#45;&gt;q_2 -->\n",
       "<g id=\"edge3\" class=\"edge\">\n",
       "<title>q_0&#45;&gt;q_2</title>\n",
       "<path fill=\"none\" stroke=\"#000000\" d=\"M80.5742,-402.8306C98.0796,-416.1367 125.6819,-433 153.1436,-433 153.1436,-433 153.1436,-433 580.8206,-433 650.5967,-433 613.5732,-351.3281 651.8685,-293 652.4608,-292.0979 653.0767,-291.1916 653.7105,-290.2853\"/>\n",
       "<polygon fill=\"#000000\" stroke=\"#000000\" points=\"656.5417,-292.344 659.7547,-282.2481 650.947,-288.1368 656.5417,-292.344\"/>\n",
       "<text text-anchor=\"middle\" x=\"335.3351\" y=\"-436.8\" font-family=\"Times,serif\" font-size=\"14.00\" fill=\"#000000\">2</text>\n",
       "</g>\n",
       "<!-- q_3 -->\n",
       "<g id=\"node5\" class=\"node\">\n",
       "<title>q_3</title>\n",
       "<ellipse fill=\"none\" stroke=\"#000000\" cx=\"580.8206\" cy=\"-229\" rx=\"24.089\" ry=\"24.089\"/>\n",
       "<ellipse fill=\"none\" stroke=\"#000000\" cx=\"580.8206\" cy=\"-229\" rx=\"28.0958\" ry=\"28.0958\"/>\n",
       "<text text-anchor=\"middle\" x=\"580.8206\" y=\"-225.3\" font-family=\"Times,serif\" font-size=\"14.00\" fill=\"#000000\">q_3</text>\n",
       "</g>\n",
       "<!-- q_0&#45;&gt;q_3 -->\n",
       "<g id=\"edge4\" class=\"edge\">\n",
       "<title>q_0&#45;&gt;q_3</title>\n",
       "<path fill=\"none\" stroke=\"#000000\" d=\"M86.4066,-387C104.7538,-387 130.5278,-387 153.1436,-387 153.1436,-387 153.1436,-387 481.1753,-387 537.825,-387 563.56,-313.4341 574.1933,-266.6983\"/>\n",
       "<polygon fill=\"#000000\" stroke=\"#000000\" points=\"577.6234,-267.3949 576.2963,-256.8835 570.7788,-265.9283 577.6234,-267.3949\"/>\n",
       "<text text-anchor=\"middle\" x=\"289.7872\" y=\"-390.8\" font-family=\"Times,serif\" font-size=\"14.00\" fill=\"#000000\">5</text>\n",
       "</g>\n",
       "<!-- q_4 -->\n",
       "<g id=\"node6\" class=\"node\">\n",
       "<title>q_4</title>\n",
       "<ellipse fill=\"none\" stroke=\"#000000\" cx=\"244.2393\" cy=\"-205\" rx=\"24.0958\" ry=\"24.0958\"/>\n",
       "<text text-anchor=\"middle\" x=\"244.2393\" y=\"-201.3\" font-family=\"Times,serif\" font-size=\"14.00\" fill=\"#000000\">q_4</text>\n",
       "</g>\n",
       "<!-- q_1&#45;&gt;q_4 -->\n",
       "<g id=\"edge5\" class=\"edge\">\n",
       "<title>q_1&#45;&gt;q_4</title>\n",
       "<path fill=\"none\" stroke=\"#000000\" d=\"M177.5556,-205C187.4373,-205 199.0244,-205 209.7426,-205\"/>\n",
       "<polygon fill=\"#000000\" stroke=\"#000000\" points=\"210.0759,-208.5001 220.0758,-205 210.0758,-201.5001 210.0759,-208.5001\"/>\n",
       "<text text-anchor=\"middle\" x=\"198.6915\" y=\"-208.8\" font-family=\"Times,serif\" font-size=\"14.00\" fill=\"#000000\">1</text>\n",
       "</g>\n",
       "<!-- q_5 -->\n",
       "<g id=\"node7\" class=\"node\">\n",
       "<title>q_5</title>\n",
       "<ellipse fill=\"none\" stroke=\"#000000\" cx=\"335.3351\" cy=\"-113\" rx=\"24.0958\" ry=\"24.0958\"/>\n",
       "<text text-anchor=\"middle\" x=\"335.3351\" y=\"-109.3\" font-family=\"Times,serif\" font-size=\"14.00\" fill=\"#000000\">q_5</text>\n",
       "</g>\n",
       "<!-- q_1&#45;&gt;q_5 -->\n",
       "<g id=\"edge6\" class=\"edge\">\n",
       "<title>q_1&#45;&gt;q_5</title>\n",
       "<path fill=\"none\" stroke=\"#000000\" d=\"M171.939,-189.5459C184.9287,-179.3789 202.916,-166.2849 220.1915,-157 246.7464,-142.7278 278.9434,-130.8392 302.5314,-123.0328\"/>\n",
       "<polygon fill=\"#000000\" stroke=\"#000000\" points=\"303.6374,-126.3536 312.072,-119.9421 301.48,-119.6944 303.6374,-126.3536\"/>\n",
       "<text text-anchor=\"middle\" x=\"244.2393\" y=\"-160.8\" font-family=\"Times,serif\" font-size=\"14.00\" fill=\"#000000\">2</text>\n",
       "</g>\n",
       "<!-- q_7 -->\n",
       "<g id=\"node8\" class=\"node\">\n",
       "<title>q_7</title>\n",
       "<ellipse fill=\"none\" stroke=\"#000000\" cx=\"767.0121\" cy=\"-288\" rx=\"24.0958\" ry=\"24.0958\"/>\n",
       "<text text-anchor=\"middle\" x=\"767.0121\" y=\"-284.3\" font-family=\"Times,serif\" font-size=\"14.00\" fill=\"#000000\">q_7</text>\n",
       "</g>\n",
       "<!-- q_2&#45;&gt;q_7 -->\n",
       "<g id=\"edge7\" class=\"edge\">\n",
       "<title>q_2&#45;&gt;q_7</title>\n",
       "<path fill=\"none\" stroke=\"#000000\" d=\"M699.3758,-270.1806C709.8953,-272.952 722.4888,-276.2699 733.9418,-279.2873\"/>\n",
       "<polygon fill=\"#000000\" stroke=\"#000000\" points=\"733.0705,-282.6771 743.6322,-281.8403 734.8539,-275.9081 733.0705,-282.6771\"/>\n",
       "<text text-anchor=\"middle\" x=\"721.4642\" y=\"-279.8\" font-family=\"Times,serif\" font-size=\"14.00\" fill=\"#000000\">1</text>\n",
       "</g>\n",
       "<!-- q_8 -->\n",
       "<g id=\"node9\" class=\"node\">\n",
       "<title>q_8</title>\n",
       "<ellipse fill=\"none\" stroke=\"#000000\" cx=\"767.0121\" cy=\"-160\" rx=\"24.0958\" ry=\"24.0958\"/>\n",
       "<text text-anchor=\"middle\" x=\"767.0121\" y=\"-156.3\" font-family=\"Times,serif\" font-size=\"14.00\" fill=\"#000000\">q_8</text>\n",
       "</g>\n",
       "<!-- q_2&#45;&gt;q_8 -->\n",
       "<g id=\"edge8\" class=\"edge\">\n",
       "<title>q_2&#45;&gt;q_8</title>\n",
       "<path fill=\"none\" stroke=\"#000000\" d=\"M696.9064,-251.2236C706.1741,-244.9522 716.7941,-236.8458 724.9642,-228 735.1707,-216.9496 744.2712,-203.0686 751.373,-190.7341\"/>\n",
       "<polygon fill=\"#000000\" stroke=\"#000000\" points=\"754.6078,-192.118 756.3994,-181.6757 748.487,-188.7215 754.6078,-192.118\"/>\n",
       "<text text-anchor=\"middle\" x=\"721.4642\" y=\"-237.8\" font-family=\"Times,serif\" font-size=\"14.00\" fill=\"#000000\">2</text>\n",
       "</g>\n",
       "<!-- q_3&#45;&gt;q_1 -->\n",
       "<g id=\"edge9\" class=\"edge\">\n",
       "<title>q_3&#45;&gt;q_1</title>\n",
       "<path fill=\"none\" stroke=\"#000000\" d=\"M570.4926,-255.4175C559.4743,-279.5262 539.4836,-313.6628 509.7728,-329 487.1849,-340.6602 477.5565,-333.7163 452.5779,-329 348.2623,-309.3037 235.0646,-251.2869 182.7379,-222.1323\"/>\n",
       "<polygon fill=\"#000000\" stroke=\"#000000\" points=\"184.4174,-219.0614 173.986,-217.2076 180.9846,-225.1619 184.4174,-219.0614\"/>\n",
       "<text text-anchor=\"middle\" x=\"335.3351\" y=\"-305.8\" font-family=\"Times,serif\" font-size=\"14.00\" fill=\"#000000\">1</text>\n",
       "</g>\n",
       "<!-- q_3&#45;&gt;q_2 -->\n",
       "<g id=\"edge10\" class=\"edge\">\n",
       "<title>q_3&#45;&gt;q_2</title>\n",
       "<path fill=\"none\" stroke=\"#000000\" d=\"M607.3101,-238.7495C618.5591,-242.8897 631.7788,-247.7552 643.5957,-252.1044\"/>\n",
       "<polygon fill=\"#000000\" stroke=\"#000000\" points=\"642.5243,-255.4395 653.1178,-255.609 644.9421,-248.8703 642.5243,-255.4395\"/>\n",
       "<text text-anchor=\"middle\" x=\"630.3685\" y=\"-250.8\" font-family=\"Times,serif\" font-size=\"14.00\" fill=\"#000000\">2</text>\n",
       "</g>\n",
       "<!-- q_3&#45;&gt;q_3 -->\n",
       "<g id=\"edge11\" class=\"edge\">\n",
       "<title>q_3&#45;&gt;q_3</title>\n",
       "<path fill=\"none\" stroke=\"#000000\" d=\"M571.8558,-255.9601C571.4574,-266.3839 574.4456,-275.0479 580.8206,-275.0479 584.9046,-275.0479 587.5987,-271.4922 588.9029,-266.196\"/>\n",
       "<polygon fill=\"#000000\" stroke=\"#000000\" points=\"592.4134,-266.2238 589.7855,-255.9601 585.4392,-265.6224 592.4134,-266.2238\"/>\n",
       "<text text-anchor=\"middle\" x=\"580.8206\" y=\"-278.8479\" font-family=\"Times,serif\" font-size=\"14.00\" fill=\"#000000\">5</text>\n",
       "</g>\n",
       "<!-- q_9 -->\n",
       "<g id=\"node10\" class=\"node\">\n",
       "<title>q_9</title>\n",
       "<ellipse fill=\"none\" stroke=\"#000000\" cx=\"335.3351\" cy=\"-230\" rx=\"24.0958\" ry=\"24.0958\"/>\n",
       "<text text-anchor=\"middle\" x=\"335.3351\" y=\"-226.3\" font-family=\"Times,serif\" font-size=\"14.00\" fill=\"#000000\">q_9</text>\n",
       "</g>\n",
       "<!-- q_4&#45;&gt;q_9 -->\n",
       "<g id=\"edge12\" class=\"edge\">\n",
       "<title>q_4&#45;&gt;q_9</title>\n",
       "<path fill=\"none\" stroke=\"#000000\" d=\"M267.6987,-211.4381C278.2182,-214.3251 290.8118,-217.7812 302.2648,-220.9243\"/>\n",
       "<polygon fill=\"#000000\" stroke=\"#000000\" points=\"301.3854,-224.3123 311.9551,-223.5837 303.238,-217.5619 301.3854,-224.3123\"/>\n",
       "<text text-anchor=\"middle\" x=\"289.7872\" y=\"-222.8\" font-family=\"Times,serif\" font-size=\"14.00\" fill=\"#000000\">1</text>\n",
       "</g>\n",
       "<!-- q_10 -->\n",
       "<g id=\"node11\" class=\"node\">\n",
       "<title>q_10</title>\n",
       "<ellipse fill=\"none\" stroke=\"#000000\" cx=\"405.9804\" cy=\"-178\" rx=\"28.6953\" ry=\"28.6953\"/>\n",
       "<text text-anchor=\"middle\" x=\"405.9804\" y=\"-174.3\" font-family=\"Times,serif\" font-size=\"14.00\" fill=\"#000000\">q_10</text>\n",
       "</g>\n",
       "<!-- q_4&#45;&gt;q_10 -->\n",
       "<g id=\"edge13\" class=\"edge\">\n",
       "<title>q_4&#45;&gt;q_10</title>\n",
       "<path fill=\"none\" stroke=\"#000000\" d=\"M268.1048,-201.0161C294.3157,-196.6406 336.7816,-189.5516 367.6669,-184.3958\"/>\n",
       "<polygon fill=\"#000000\" stroke=\"#000000\" points=\"368.3697,-187.827 377.6569,-182.7281 367.2171,-180.9225 368.3697,-187.827\"/>\n",
       "<text text-anchor=\"middle\" x=\"289.7872\" y=\"-201.8\" font-family=\"Times,serif\" font-size=\"14.00\" fill=\"#000000\">2</text>\n",
       "</g>\n",
       "<!-- q_5&#45;&gt;q_3 -->\n",
       "<g id=\"edge15\" class=\"edge\">\n",
       "<title>q_5&#45;&gt;q_3</title>\n",
       "<path fill=\"none\" stroke=\"#000000\" d=\"M354.1518,-97.6123C387.8573,-72.0353 459.6824,-26.7213 509.7728,-60 553.4261,-89.0021 570.3168,-150.6165 576.8127,-190.8896\"/>\n",
       "<polygon fill=\"#000000\" stroke=\"#000000\" points=\"573.365,-191.5022 578.2835,-200.8861 580.2904,-190.4831 573.365,-191.5022\"/>\n",
       "<text text-anchor=\"middle\" x=\"481.1753\" y=\"-63.8\" font-family=\"Times,serif\" font-size=\"14.00\" fill=\"#000000\">2</text>\n",
       "</g>\n",
       "<!-- q_11 -->\n",
       "<g id=\"node12\" class=\"node\">\n",
       "<title>q_11</title>\n",
       "<ellipse fill=\"none\" stroke=\"#000000\" cx=\"481.1753\" cy=\"-113\" rx=\"28.6953\" ry=\"28.6953\"/>\n",
       "<text text-anchor=\"middle\" x=\"481.1753\" y=\"-109.3\" font-family=\"Times,serif\" font-size=\"14.00\" fill=\"#000000\">q_11</text>\n",
       "</g>\n",
       "<!-- q_5&#45;&gt;q_11 -->\n",
       "<g id=\"edge14\" class=\"edge\">\n",
       "<title>q_5&#45;&gt;q_11</title>\n",
       "<path fill=\"none\" stroke=\"#000000\" d=\"M359.4176,-113C381.9872,-113 416.1089,-113 442.4937,-113\"/>\n",
       "<polygon fill=\"#000000\" stroke=\"#000000\" points=\"442.5469,-116.5001 452.5469,-113 442.5468,-109.5001 442.5469,-116.5001\"/>\n",
       "<text text-anchor=\"middle\" x=\"405.9804\" y=\"-116.8\" font-family=\"Times,serif\" font-size=\"14.00\" fill=\"#000000\">1</text>\n",
       "</g>\n",
       "<!-- q_7&#45;&gt;q_3 -->\n",
       "<g id=\"edge17\" class=\"edge\">\n",
       "<title>q_7&#45;&gt;q_3</title>\n",
       "<path fill=\"none\" stroke=\"#000000\" d=\"M744.0325,-295.6438C720.1155,-302.2827 682.0132,-309.1011 651.8685,-297 632.8844,-289.3792 616.1078,-273.997 603.6306,-259.7875\"/>\n",
       "<polygon fill=\"#000000\" stroke=\"#000000\" points=\"606.2639,-257.4808 597.1544,-252.0708 600.902,-261.9808 606.2639,-257.4808\"/>\n",
       "<text text-anchor=\"middle\" x=\"675.9164\" y=\"-306.8\" font-family=\"Times,serif\" font-size=\"14.00\" fill=\"#000000\">2</text>\n",
       "</g>\n",
       "<!-- q_12 -->\n",
       "<g id=\"node13\" class=\"node\">\n",
       "<title>q_12</title>\n",
       "<ellipse fill=\"none\" stroke=\"#000000\" cx=\"862.6574\" cy=\"-228\" rx=\"28.6953\" ry=\"28.6953\"/>\n",
       "<text text-anchor=\"middle\" x=\"862.6574\" y=\"-224.3\" font-family=\"Times,serif\" font-size=\"14.00\" fill=\"#000000\">q_12</text>\n",
       "</g>\n",
       "<!-- q_7&#45;&gt;q_12 -->\n",
       "<g id=\"edge16\" class=\"edge\">\n",
       "<title>q_7&#45;&gt;q_12</title>\n",
       "<path fill=\"none\" stroke=\"#000000\" d=\"M787.7657,-274.9809C799.9344,-267.3473 815.5897,-257.5265 829.4378,-248.8392\"/>\n",
       "<polygon fill=\"#000000\" stroke=\"#000000\" points=\"831.6111,-251.6076 838.2223,-243.3286 827.8912,-245.6778 831.6111,-251.6076\"/>\n",
       "<text text-anchor=\"middle\" x=\"812.56\" y=\"-264.8\" font-family=\"Times,serif\" font-size=\"14.00\" fill=\"#000000\">1</text>\n",
       "</g>\n",
       "<!-- q_8&#45;&gt;q_1 -->\n",
       "<g id=\"edge19\" class=\"edge\">\n",
       "<title>q_8&#45;&gt;q_1</title>\n",
       "<path fill=\"none\" stroke=\"#000000\" d=\"M764.434,-136.0464C758.1623,-91.4117 737.7676,0 675.9164,0 244.2393,0 244.2393,0 244.2393,0 207.1319,0 174.7929,-113.5876 160.6841,-171.6605\"/>\n",
       "<polygon fill=\"#000000\" stroke=\"#000000\" points=\"157.2567,-170.9449 158.3428,-181.4839 164.0659,-172.5678 157.2567,-170.9449\"/>\n",
       "<text text-anchor=\"middle\" x=\"481.1753\" y=\"-3.8\" font-family=\"Times,serif\" font-size=\"14.00\" fill=\"#000000\">2</text>\n",
       "</g>\n",
       "<!-- q_8&#45;&gt;q_3 -->\n",
       "<g id=\"edge18\" class=\"edge\">\n",
       "<title>q_8&#45;&gt;q_3</title>\n",
       "<path fill=\"none\" stroke=\"#000000\" d=\"M742.9678,-162.3715C719.197,-165.2732 682.1016,-171.3158 651.8685,-183 639.782,-187.671 637.8022,-191.0462 626.8685,-198 622.1927,-200.9738 617.2942,-204.1757 612.5091,-207.3531\"/>\n",
       "<polygon fill=\"#000000\" stroke=\"#000000\" points=\"610.4515,-204.5186 604.0907,-212.9916 614.3469,-210.3347 610.4515,-204.5186\"/>\n",
       "<text text-anchor=\"middle\" x=\"675.9164\" y=\"-186.8\" font-family=\"Times,serif\" font-size=\"14.00\" fill=\"#000000\">1</text>\n",
       "</g>\n",
       "<!-- q_9&#45;&gt;q_3 -->\n",
       "<g id=\"edge21\" class=\"edge\">\n",
       "<title>q_9&#45;&gt;q_3</title>\n",
       "<path fill=\"none\" stroke=\"#000000\" d=\"M359.7706,-229.9005C402.5683,-229.7261 491.3837,-229.3643 542.4489,-229.1563\"/>\n",
       "<polygon fill=\"#000000\" stroke=\"#000000\" points=\"542.757,-232.6552 552.7426,-229.1144 542.7284,-225.6552 542.757,-232.6552\"/>\n",
       "<text text-anchor=\"middle\" x=\"481.1753\" y=\"-233.8\" font-family=\"Times,serif\" font-size=\"14.00\" fill=\"#000000\">2</text>\n",
       "</g>\n",
       "<!-- q_13 -->\n",
       "<g id=\"node14\" class=\"node\">\n",
       "<title>q_13</title>\n",
       "<ellipse fill=\"none\" stroke=\"#000000\" cx=\"481.1753\" cy=\"-291\" rx=\"28.6953\" ry=\"28.6953\"/>\n",
       "<text text-anchor=\"middle\" x=\"481.1753\" y=\"-287.3\" font-family=\"Times,serif\" font-size=\"14.00\" fill=\"#000000\">q_13</text>\n",
       "</g>\n",
       "<!-- q_9&#45;&gt;q_13 -->\n",
       "<g id=\"edge20\" class=\"edge\">\n",
       "<title>q_9&#45;&gt;q_13</title>\n",
       "<path fill=\"none\" stroke=\"#000000\" d=\"M357.803,-239.3976C381.175,-249.1733 418.11,-264.6219 445.482,-276.0707\"/>\n",
       "<polygon fill=\"#000000\" stroke=\"#000000\" points=\"444.151,-279.3078 454.7271,-279.9376 446.8522,-272.8499 444.151,-279.3078\"/>\n",
       "<text text-anchor=\"middle\" x=\"405.9804\" y=\"-274.8\" font-family=\"Times,serif\" font-size=\"14.00\" fill=\"#000000\">1</text>\n",
       "</g>\n",
       "<!-- q_10&#45;&gt;q_3 -->\n",
       "<g id=\"edge22\" class=\"edge\">\n",
       "<title>q_10&#45;&gt;q_3</title>\n",
       "<path fill=\"none\" stroke=\"#000000\" d=\"M434.7547,-179.2128C455.9186,-180.741 485.1614,-184.1948 509.7728,-192 522.848,-196.1466 536.3945,-202.5904 548.1082,-208.9457\"/>\n",
       "<polygon fill=\"#000000\" stroke=\"#000000\" points=\"546.6327,-212.1313 557.0654,-213.978 550.0614,-206.0284 546.6327,-212.1313\"/>\n",
       "<text text-anchor=\"middle\" x=\"481.1753\" y=\"-195.8\" font-family=\"Times,serif\" font-size=\"14.00\" fill=\"#000000\">1</text>\n",
       "</g>\n",
       "<!-- q_11&#45;&gt;q_3 -->\n",
       "<g id=\"edge23\" class=\"edge\">\n",
       "<title>q_11&#45;&gt;q_3</title>\n",
       "<path fill=\"none\" stroke=\"#000000\" d=\"M506.466,-126.6473C516.0842,-132.6475 526.6666,-140.3128 534.7728,-149 546.9955,-162.0989 557.3247,-179.0141 565.0831,-193.9142\"/>\n",
       "<polygon fill=\"#000000\" stroke=\"#000000\" points=\"561.9663,-195.5069 569.5755,-202.8791 568.2245,-192.3708 561.9663,-195.5069\"/>\n",
       "<text text-anchor=\"middle\" x=\"531.2728\" y=\"-152.8\" font-family=\"Times,serif\" font-size=\"14.00\" fill=\"#000000\">1</text>\n",
       "</g>\n",
       "<!-- q_12&#45;&gt;q_3 -->\n",
       "<g id=\"edge24\" class=\"edge\">\n",
       "<title>q_12&#45;&gt;q_3</title>\n",
       "<path fill=\"none\" stroke=\"#000000\" d=\"M834.7471,-220.9343C805.6793,-214.3763 758.7747,-206.0399 717.9642,-209 684.1292,-211.4541 645.9655,-217.2713 618.5036,-222.0029\"/>\n",
       "<polygon fill=\"#000000\" stroke=\"#000000\" points=\"617.7776,-218.5767 608.5338,-223.7538 618.9885,-225.4712 617.7776,-218.5767\"/>\n",
       "<text text-anchor=\"middle\" x=\"721.4642\" y=\"-212.8\" font-family=\"Times,serif\" font-size=\"14.00\" fill=\"#000000\">1</text>\n",
       "</g>\n",
       "<!-- q_13&#45;&gt;q_3 -->\n",
       "<g id=\"edge25\" class=\"edge\">\n",
       "<title>q_13&#45;&gt;q_3</title>\n",
       "<path fill=\"none\" stroke=\"#000000\" d=\"M505.5513,-275.8331C518.3126,-267.893 534.1184,-258.0585 547.9466,-249.4544\"/>\n",
       "<polygon fill=\"#000000\" stroke=\"#000000\" points=\"550.0547,-252.265 556.6963,-244.0103 546.3566,-246.3216 550.0547,-252.265\"/>\n",
       "<text text-anchor=\"middle\" x=\"531.2728\" y=\"-264.8\" font-family=\"Times,serif\" font-size=\"14.00\" fill=\"#000000\">1</text>\n",
       "</g>\n",
       "</g>\n",
       "</svg>\n"
      ],
      "text/plain": [
       "<graphviz.dot.Digraph at 0x7f1d55e5ba90>"
      ]
     },
     "execution_count": 54,
     "metadata": {},
     "output_type": "execute_result"
    }
   ],
   "source": [
    "# agregando aceptar el pago: 2,2,2,2,2\n",
    "chicles_5.add_transition('q_8','2','q_1')\n",
    "chicles_5.graph()"
   ]
  },
  {
   "cell_type": "code",
   "execution_count": 55,
   "metadata": {},
   "outputs": [
    {
     "data": {
      "text/html": [
       "<img src=\"dfa_multiple_22222.gif\">"
      ],
      "text/plain": [
       "<IPython.core.display.HTML object>"
      ]
     },
     "execution_count": 55,
     "metadata": {},
     "output_type": "execute_result"
    }
   ],
   "source": [
    "chicles_5.save_gif(\"22222\",\"dfa_multiple_22222.gif\")"
   ]
  },
  {
   "cell_type": "code",
   "execution_count": 31,
   "metadata": {},
   "outputs": [],
   "source": [
    "# Creating automata finito\n",
    "ceros_uno=DFA(Q=['q_0','q_1'],\n",
    "                         sigma=['0','1'],\n",
    "                         q_0='q_0',\n",
    "                         A=['q_1'],\n",
    "                         delta=[\n",
    "                            (('q_0','1'),'q_0'),\n",
    "                            (('q_0','0'),'q_1')\n",
    "                         ])\n",
    "ceros_uno=dfa2ndfa_e(ceros_uno)\n",
    "ceros_uno.save_img('unos_cero')"
   ]
  },
  {
   "cell_type": "code",
   "execution_count": 33,
   "metadata": {},
   "outputs": [],
   "source": [
    "uno_ceros=DFA(Q=['q_0','q_1'],\n",
    "                         sigma=['0','1'],\n",
    "                         q_0='q_0',\n",
    "                         A=['q_1'],\n",
    "                         delta=[\n",
    "                            (('q_0','1'),'q_1'),\n",
    "                            (('q_1','0'),'q_1')\n",
    "                         ])\n",
    "uno_ceros=dfa2ndfa_e(uno_ceros)\n",
    "uno_ceros.save_img(\"uno_ceros\")"
   ]
  },
  {
   "cell_type": "code",
   "execution_count": 35,
   "metadata": {},
   "outputs": [],
   "source": [
    "union=ceros_uno.union(uno_ceros)\n",
    "union.save_img('union')"
   ]
  },
  {
   "cell_type": "code",
   "execution_count": 37,
   "metadata": {},
   "outputs": [],
   "source": [
    "concat=ceros_uno.concat(uno_ceros)\n",
    "concat.save_img('concat')"
   ]
  },
  {
   "cell_type": "code",
   "execution_count": 36,
   "metadata": {},
   "outputs": [],
   "source": [
    "kleene=ceros_uno.kleene()\n",
    "kleene.save_img(\"cerradura\")"
   ]
  },
  {
   "cell_type": "code",
   "execution_count": 38,
   "metadata": {},
   "outputs": [],
   "source": [
    "from maquinas.regular.RE import RE\n",
    "reg = RE('(a*ba*ba*)*+a*')\n",
    "reg=reg.ndfa_e()"
   ]
  },
  {
   "cell_type": "code",
   "execution_count": 39,
   "metadata": {},
   "outputs": [],
   "source": [
    "reg.save_img(\"reg\")"
   ]
  },
  {
   "cell_type": "code",
   "execution_count": 40,
   "metadata": {},
   "outputs": [],
   "source": [
    "reg_a = RE('a')\n",
    "reg_a=reg_a.ndfa_e()\n",
    "reg_a.save_img(\"reg_a\")"
   ]
  },
  {
   "cell_type": "code",
   "execution_count": 41,
   "metadata": {},
   "outputs": [],
   "source": [
    "reg_a = RE('a*')\n",
    "reg_a=reg_a.ndfa_e()\n",
    "reg_a.save_img(\"reg_a_klene\")"
   ]
  },
  {
   "cell_type": "code",
   "execution_count": 42,
   "metadata": {},
   "outputs": [],
   "source": [
    "reg_a_b = RE('a*b')\n",
    "reg_a_b=reg_a_b.ndfa_e()\n",
    "reg_a_b.save_img(\"reg_a_b_klene\")"
   ]
  },
  {
   "cell_type": "code",
   "execution_count": null,
   "metadata": {},
   "outputs": [],
   "source": []
  }
 ],
 "metadata": {
  "kernelspec": {
   "display_name": "Python 3",
   "language": "python",
   "name": "python3"
  },
  "language_info": {
   "codemirror_mode": {
    "name": "ipython",
    "version": 3
   },
   "file_extension": ".py",
   "mimetype": "text/x-python",
   "name": "python",
   "nbconvert_exporter": "python",
   "pygments_lexer": "ipython3",
   "version": "3.6.8"
  }
 },
 "nbformat": 4,
 "nbformat_minor": 2
}
