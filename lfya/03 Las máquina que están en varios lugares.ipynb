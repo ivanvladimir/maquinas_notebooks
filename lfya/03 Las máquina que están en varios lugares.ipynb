{
 "cells": [
  {
   "cell_type": "markdown",
   "metadata": {},
   "source": [
    "[![Open In Colab](https://colab.research.google.com/assets/colab-badge.svg)](https://colab.research.google.com/github/ivanvladimir/maquinas_notebooks/blob/main/lfya/03%20Las%20m%C3%A1quina%20que%20est%C3%A1n%20en%20varios%20lugares.ipynb)"
   ]
  },
  {
   "cell_type": "markdown",
   "metadata": {},
   "source": [
    "## 00 Instalando la librería \n",
    "\n",
    "Se instala la librería [maquinas](https://pypi.org/project/maquinas/)\n",
    "\n",
    "**Requerido en colab**, _opcional en ambiente local a través de jupyter_"
   ]
  },
  {
   "cell_type": "code",
   "execution_count": null,
   "metadata": {},
   "outputs": [],
   "source": [
    "# Execute if not installed\n",
    "!pip install maquinas"
   ]
  },
  {
   "cell_type": "markdown",
   "metadata": {},
   "source": [
    "### 01 Importar módulo para cargar autómatas finitos y el módulo de simiulación\n",
    "\n",
    "Existen dos elemento: _load_fa_, _las reducciones_, el proceso de _minimización_, _RE_ y _Simulation_ (en este momento _Simulación_ sólo puede ir hacia adelante)"
   ]
  },
  {
   "cell_type": "code",
   "execution_count": null,
   "metadata": {},
   "outputs": [],
   "source": [
    "from maquinas.io import load_fa\n",
    "from maquinas.regular.ndfa_e import NonDeterministicFiniteAutomaton_epsilon as NDFA_e\n",
    "from maquinas.regular.dfa import DeterministicFiniteAutomaton as DFA\n",
    "from maquinas.regular.reductions import *\n",
    "from maquinas.regular.RE import RegularExpression as RE\n",
    "from maquinas.regular.minimization import *\n",
    "from maquinas.simulation import Simulation"
   ]
  },
  {
   "cell_type": "markdown",
   "metadata": {},
   "source": [
    "## 02 Automatas Finitos No Determinísticos\n",
    "\n",
    "Se puede crear un [AFND](https://ivanvladimir.gitlab.io/lfya_book/docs/03maquinasqueest%C3%A1nenvarioslugares/02automatafinitonodeterministico/#aut%c3%b3mata-finito-no-determin%c3%adstico) desde la definición tipo tabla de uno de estos; la función _load_fa_ infiere que se trata de un _AFND_, y no un _AF_, porque alguna celda tiene más de un estado."
   ]
  },
  {
   "cell_type": "code",
   "execution_count": null,
   "metadata": {},
   "outputs": [],
   "source": [
    "chicles_1=load_fa(\"\"\"\n",
    "             |               1               |               2               |               5               |\n",
    " ->q₀        | q₁₁/₁,q₁₁/₅,q₁₁/₃,q₁₁/₄,q₁₁/₂ |       q₁₂/₇,q₁₂/₈,q₁₂/₆       |              q₅               |\n",
    "   q₁₁/₁     |             q₂₁/₁             |                               |                               |\n",
    "   q₂₁/₁     |             q₃₁/₁             |                               |                               |\n",
    "   q₃₁/₁     |             q₄₁/₁             |                               |                               |\n",
    "   q₄₁/₁     |              q₅               |                               |                               |\n",
    "   q₁₁/₂     |                               |           q₁₁_₁₂/₂            |                               |\n",
    "   q₁₁_₁₂/₂  |                               |              q₅               |                               |\n",
    "   q₁₁/₃     |                               |           q₁₁_₁₂/₃            |                               |\n",
    "   q₁₁_₁₂/₃  |           q₂₁_₁₂/₃            |                               |                               |\n",
    "   q₂₁_₁₂/₃  |              q₅               |                               |                               |\n",
    "   q₁₁/₄     |             q₂₁/₄             |                               |                               |\n",
    "   q₂₁/₄     |                               |           q₂₁_₁₂/₄            |                               |\n",
    "   q₂₁_₁₂/₄  |              q₅               |                               |                               |\n",
    "   q₁₁/₅     |             q₂₁/₅             |                               |                               |\n",
    "   q₂₁/₅     |             q₃₁/₅             |                               |                               |\n",
    "   q₃₁/₅     |                               |              q₅               |                               |\n",
    "   q₁₂/₆     |                               |             q₂₂/₆             |                               |\n",
    "   q₂₂/₆     |              q₅               |                               |                               |\n",
    "   q₁₂/₇     |           q₁₁_₁₂/₇            |                               |                               |\n",
    "   q₁₁_₁₂/₇  |                               |              q₅               |                               |\n",
    "   q₁₂/₈     |           q₁₁_₁₂/₈            |                               |                               |\n",
    "   q₁₁_₁₂/₈  |           q₂₁_₁₂/₈            |                               |                               |\n",
    "   q₂₁_₁₂/₈  |              q₅               |                               |                               |\n",
    "   q₅]       |                               |                               |                               |\n",
    "\"\"\")\n",
    "chicles_1.graph()"
   ]
  },
  {
   "cell_type": "code",
   "execution_count": null,
   "metadata": {},
   "outputs": [],
   "source": [
    "print(chicles_1.summary())"
   ]
  },
  {
   "cell_type": "markdown",
   "metadata": {},
   "source": [
    "### 02.a Tabla de un AFND\n",
    "\n",
    "Es posible imprimir la tabla de una máquina (estado inicial marcado con \"⟶\" y finales con color verde)"
   ]
  },
  {
   "cell_type": "code",
   "execution_count": null,
   "metadata": {},
   "outputs": [],
   "source": [
    "chicles_1.table()"
   ]
  },
  {
   "cell_type": "markdown",
   "metadata": {},
   "source": [
    "### 02.b  Transitando un AFND\n",
    "\n",
    "La aplicación de [delta extendida](https://ivanvladimir.gitlab.io/lfya_book/docs/03maquinasqueest%C3%A1nenvarioslugares/02automatafinitonodeterministico/#funci%c3%b3n-de-transici%c3%b3n-extendida-para-afnds) paso a paso"
   ]
  },
  {
   "cell_type": "code",
   "execution_count": null,
   "metadata": {},
   "outputs": [],
   "source": [
    "for q,a,w_ in chicles_1.delta_stepwise(\"122\"):\n",
    "    if a:\n",
    "        print(f\"{a} -> {q}\", end=\",\\n \")\n",
    "    else:\n",
    "        print(f\"{q}\",end=\"\\n \")\n",
    "    res=q\n",
    "    \n",
    "print(f\"\\nCon {res} Se acepta?\", \"Sí\" if chicles_1.acceptor(res) else \"No\" )"
   ]
  },
  {
   "cell_type": "markdown",
   "metadata": {},
   "source": [
    "### 02.c Simulación de AFND"
   ]
  },
  {
   "cell_type": "code",
   "execution_count": null,
   "metadata": {},
   "outputs": [],
   "source": [
    "s=Simulation(chicles_1,\"122\")\n",
    "s.run()"
   ]
  },
  {
   "cell_type": "markdown",
   "metadata": {},
   "source": [
    "## 03 Reducción de AFND → AFD\n",
    "\n",
    "Para reducir un [AFND a AFD](https://ivanvladimir.gitlab.io/lfya_book/docs/03maquinasqueest%C3%A1nenvarioslugares/03afnd_af/), utilizamos la función _ndfa2dfa_; notar que se usa el parámetro _rename_ en _False_ para ver la codificación utilizada"
   ]
  },
  {
   "cell_type": "code",
   "execution_count": null,
   "metadata": {},
   "outputs": [],
   "source": [
    "chicles_2_full=ndfa2dfa(chicles_1,rename=False)\n",
    "chicles_2_full.print_summary()"
   ]
  },
  {
   "cell_type": "code",
   "execution_count": null,
   "metadata": {},
   "outputs": [],
   "source": [
    "chicles_2_full.table()"
   ]
  },
  {
   "cell_type": "code",
   "execution_count": null,
   "metadata": {},
   "outputs": [],
   "source": [
    "chicles_2_full.graph()"
   ]
  },
  {
   "cell_type": "markdown",
   "metadata": {},
   "source": [
    "### 03.a Redución renombrando estados"
   ]
  },
  {
   "cell_type": "code",
   "execution_count": null,
   "metadata": {
    "scrolled": false
   },
   "outputs": [],
   "source": [
    "chicles_2=ndfa2dfa(chicles_1)\n",
    "chicles_2.table()"
   ]
  },
  {
   "cell_type": "code",
   "execution_count": null,
   "metadata": {},
   "outputs": [],
   "source": [
    "chicles_2.graph()"
   ]
  },
  {
   "cell_type": "code",
   "execution_count": null,
   "metadata": {},
   "outputs": [],
   "source": [
    "for q,a,w_ in chicles_2.delta_stepwise(\"122\"):\n",
    "    if a:\n",
    "        print(f\"{a} -> {q}\", end=\",\\n \")\n",
    "    else:\n",
    "        print(f\"{q}\",end=\"\\n \")\n",
    "    res=q\n",
    "    \n",
    "print(f\"\\nCon {res} Se acepta?\", \"Sí\" if chicles_2.acceptor(res) else \"No\" )"
   ]
  },
  {
   "cell_type": "markdown",
   "metadata": {},
   "source": [
    "## 04 AFND-ε\n",
    "\n",
    "En este caso, en lugar de usar la función _load_fa_, usamos directametne la clase _NDFA_e_ para agregar la transición epsilón que permite el cobro múltiple de pagos."
   ]
  },
  {
   "cell_type": "code",
   "execution_count": null,
   "metadata": {},
   "outputs": [],
   "source": [
    "chicles_3=NDFA_e(Q=chicles_2.Q,\n",
    "                 sigma=chicles_2.sigma,\n",
    "                 q_0=chicles_2.q_0,\n",
    "                 A=chicles_2.A,\n",
    "                 delta=[(k,qs) for k,qs in chicles_2.items()])\n",
    "for q_f in chicles_3.A:\n",
    "    chicles_3.add_transition(q_f,'ε',['q_0'])"
   ]
  },
  {
   "cell_type": "code",
   "execution_count": null,
   "metadata": {},
   "outputs": [],
   "source": [
    "chicles_3.graph()"
   ]
  },
  {
   "cell_type": "code",
   "execution_count": null,
   "metadata": {},
   "outputs": [],
   "source": [
    "chicles_3.table()"
   ]
  },
  {
   "cell_type": "markdown",
   "metadata": {},
   "source": [
    "### 04.a  Transitando un AFND-ε\n",
    "\n",
    "La aplicación de [delta extendida](https://ivanvladimir.gitlab.io/lfya_book/docs/03maquinasqueest%C3%A1nenvarioslugares/04automatafinitonodeterministico_epsilon/#funci%c3%b3n-de-transici%c3%b3n-extendida-para-afnd-%ce%b5) paso a paso"
   ]
  },
  {
   "cell_type": "code",
   "execution_count": null,
   "metadata": {},
   "outputs": [],
   "source": [
    "for q,a,w_ in chicles_3.delta_stepwise(\"5212\"):\n",
    "    if a:\n",
    "        print(f\"{a} -> {q}\", end=\",\\n \")\n",
    "    else:\n",
    "        print(f\"{q}\",end=\"\\n \")\n",
    "    res=q\n",
    "    \n",
    "print(f\"\\nCon {res} Se acepta?\", \"Sí\" if chicles_3.acceptor(res) else \"No\" )"
   ]
  },
  {
   "cell_type": "code",
   "execution_count": null,
   "metadata": {},
   "outputs": [],
   "source": [
    "s=Simulation(chicles_3,\"5212\")\n",
    "s.run()"
   ]
  },
  {
   "cell_type": "markdown",
   "metadata": {},
   "source": [
    "## 05 Reducción de AFND-ε → AFND\n",
    "\n",
    "Para reducir un [AFND-ε → AFND](https://ivanvladimir.gitlab.io/lfya_book/docs/03maquinasqueest%C3%A1nenvarioslugares/05afnd_e_afnd/#reducci%c3%b3n), utilizamos la función _ndfa_e2ndfa_; notar que se usa el parámetro _rename_ en _False_ para ver la codificación utilizada"
   ]
  },
  {
   "cell_type": "code",
   "execution_count": null,
   "metadata": {},
   "outputs": [],
   "source": [
    "chicles_4=ndfa_e2ndfa(chicles_3, rename=False)\n",
    "chicles_4.graph()"
   ]
  },
  {
   "cell_type": "code",
   "execution_count": null,
   "metadata": {},
   "outputs": [],
   "source": [
    "chicles_4.table()"
   ]
  },
  {
   "cell_type": "markdown",
   "metadata": {},
   "source": [
    "### 05.a Reduciendo la reducción\n",
    "\n",
    "El _AFND_ es posible reducirlo a _AFD_"
   ]
  },
  {
   "cell_type": "code",
   "execution_count": null,
   "metadata": {
    "scrolled": true
   },
   "outputs": [],
   "source": [
    "chicles_5=ndfa2dfa(chicles_4)\n",
    "chicles_5.graph()"
   ]
  },
  {
   "cell_type": "markdown",
   "metadata": {},
   "source": [
    "### 05.b Agregando el pago 2,2,2,2,2\n",
    "\n",
    "Para agregar un pago que permita el pago de [_2,2,2,2,2_](https://ivanvladimir.gitlab.io/lfya_book/docs/03maquinasqueestánenvarioslugares/05afnd_e_afnd/#pago_22222) se tiene que agregar una transición;"
   ]
  },
  {
   "cell_type": "code",
   "execution_count": null,
   "metadata": {},
   "outputs": [],
   "source": [
    "# agregando aceptar el pago: 2,2,2,2,2\n",
    "chicles_5.add_transition('q_7','2',['q_1'],force=True)\n",
    "chicles_5.graph()"
   ]
  },
  {
   "cell_type": "code",
   "execution_count": null,
   "metadata": {},
   "outputs": [],
   "source": [
    "for q,a,w_ in chicles_5.delta_stepwise(\"22222\"):\n",
    "    if a:\n",
    "        print(f\"{a} -> {q}\", end=\",\\n \")\n",
    "    else:\n",
    "        print(f\"{q}\",end=\"\\n \")\n",
    "    res=q\n",
    "    \n",
    "print(f\"\\nCon {res} Se acepta?\", \"Sí\" if chicles_3.acceptor(res) else \"No\" )"
   ]
  },
  {
   "cell_type": "markdown",
   "metadata": {},
   "source": [
    "## 06. Operation en AF\n",
    "\n",
    "Es posible aplicar las [operaciones de lenguajes regulares](https://ivanvladimir.gitlab.io/lfya_book/docs/03maquinasqueest%C3%A1nenvarioslugares/07_afnd_e_er/#aplicando-operaciones-de-lenguajes-regulares-a-afnd-%ce%b5) a autómatas finitos; observar que antes de aplicar la operación es necesario convertir el [AFD a AFND-ε](https://ivanvladimir.gitlab.io/lfya_book/docs/03maquinasqueest%C3%A1nenvarioslugares/06af_afnd_e/)"
   ]
  },
  {
   "cell_type": "code",
   "execution_count": null,
   "metadata": {},
   "outputs": [],
   "source": [
    "# Creating automata finito\n",
    "\n",
    "ceros_uno=load_fa(\"\"\"\n",
    "       | 0  | 1  |\n",
    "-> q0  | q0 | q1 |\n",
    "   q1] |    |    |\n",
    "\n",
    "\"\"\")\n",
    "ceros_uno=dfa2ndfa_e(ceros_uno) \n",
    "ceros_uno.graph()"
   ]
  },
  {
   "cell_type": "code",
   "execution_count": null,
   "metadata": {},
   "outputs": [],
   "source": [
    "uno_ceros=load_fa(\"\"\"\n",
    "       | 0  | 1  |\n",
    "-> q0  |    | q1 |\n",
    "   q1] | q1 |    |\n",
    "\n",
    "\"\"\")\n",
    "uno_ceros=dfa2ndfa_e(uno_ceros)\n",
    "uno_ceros.graph()"
   ]
  },
  {
   "cell_type": "markdown",
   "metadata": {},
   "source": [
    "### 06.a Unión"
   ]
  },
  {
   "cell_type": "code",
   "execution_count": null,
   "metadata": {},
   "outputs": [],
   "source": [
    "union=ceros_uno.union(uno_ceros)\n",
    "union.save_img('union')\n",
    "union.graph()"
   ]
  },
  {
   "cell_type": "markdown",
   "metadata": {},
   "source": [
    "### 06.b Concatenación"
   ]
  },
  {
   "cell_type": "code",
   "execution_count": null,
   "metadata": {},
   "outputs": [],
   "source": [
    "concat=ceros_uno.concat(uno_ceros)\n",
    "concat.save_img('concat')\n",
    "concat.graph()"
   ]
  },
  {
   "cell_type": "markdown",
   "metadata": {},
   "source": [
    "### 06.c Cerradura estrella"
   ]
  },
  {
   "cell_type": "code",
   "execution_count": null,
   "metadata": {},
   "outputs": [],
   "source": [
    "kleene=ceros_uno.kleene()\n",
    "kleene.save_img(\"cerradura\")\n",
    "kleene.graph()"
   ]
  },
  {
   "cell_type": "markdown",
   "metadata": {},
   "source": [
    "## 07 ER → AFND-ε\n",
    "\n",
    "Es posible producir una [ER a un AFND-ε](https://ivanvladimir.gitlab.io/lfya_book/docs/03maquinasqueest%C3%A1nenvarioslugares/07_afnd_e_er/#ejemplo-de-afnd-%ce%b5-a-er)"
   ]
  },
  {
   "cell_type": "code",
   "execution_count": null,
   "metadata": {},
   "outputs": [],
   "source": [
    "reg = RE('(a*ba*ba*)*+a*')\n",
    "reg=reg.ndfa_e()"
   ]
  },
  {
   "cell_type": "code",
   "execution_count": null,
   "metadata": {},
   "outputs": [],
   "source": [
    "reg.graph()"
   ]
  },
  {
   "cell_type": "code",
   "execution_count": null,
   "metadata": {},
   "outputs": [],
   "source": [
    "reg_a = RE('a')\n",
    "reg_a=reg_a.ndfa_e()\n",
    "reg_a.save_img(\"reg_a\")\n",
    "reg_a.graph()"
   ]
  },
  {
   "cell_type": "code",
   "execution_count": null,
   "metadata": {},
   "outputs": [],
   "source": [
    "reg_a = RE('a*')\n",
    "reg_a=reg_a.ndfa_e()\n",
    "reg_a.save_img(\"reg_a_klene\")\n",
    "reg_a.graph()"
   ]
  },
  {
   "cell_type": "code",
   "execution_count": null,
   "metadata": {},
   "outputs": [],
   "source": [
    "reg_a_b = RE('a*b')\n",
    "reg_a_b=reg_a_b.ndfa_e()\n",
    "reg_a_b.save_img(\"reg_a_b_klene\")\n",
    "reg_a_b.graph()"
   ]
  },
  {
   "cell_type": "markdown",
   "metadata": {},
   "source": [
    "## 08 Minimización\n",
    "\n",
    "La librería también implementa un proceso de minimización"
   ]
  },
  {
   "cell_type": "code",
   "execution_count": null,
   "metadata": {},
   "outputs": [],
   "source": [
    "# Creating automata finito\n",
    "one_one=DFA(Q=['A','B','C','D','E','F'],\n",
    "                         sigma=['0','1'],\n",
    "                         q_0='A',\n",
    "                         A=['C','D','E'],\n",
    "                         delta=[\n",
    "                            (('A','0'),'B'),\n",
    "                            (('A','1'),'C'),\n",
    "                            (('B','0'),'A'),\n",
    "                            (('B','1'),'D'),\n",
    "                            (('C','0'),'E'),\n",
    "                            (('C','1'),'F'),\n",
    "                            (('D','0'),'E'),\n",
    "                            (('D','1'),'F'),\n",
    "                            (('E','0'),'E'),\n",
    "                            (('E','1'),'F'), \n",
    "                            (('F','0'),'F'),\n",
    "                            (('F','1'),'F'), \n",
    "                         ])"
   ]
  },
  {
   "cell_type": "code",
   "execution_count": null,
   "metadata": {},
   "outputs": [],
   "source": [
    "one_one.graph()"
   ]
  },
  {
   "cell_type": "code",
   "execution_count": null,
   "metadata": {},
   "outputs": [],
   "source": [
    "one_one.print_summary()"
   ]
  },
  {
   "cell_type": "code",
   "execution_count": null,
   "metadata": {},
   "outputs": [],
   "source": [
    "one_one_min=minimization_hopcroft(one_one,rename=False)"
   ]
  },
  {
   "cell_type": "code",
   "execution_count": null,
   "metadata": {},
   "outputs": [],
   "source": [
    "one_one_min.graph()"
   ]
  },
  {
   "cell_type": "code",
   "execution_count": null,
   "metadata": {},
   "outputs": [],
   "source": [
    "# Creating automata finito\n",
    "bes_divisible_by_3=DFA(Q=['q_0','q_1','q_2','q_3'],\n",
    "                         sigma=['a','b'],\n",
    "                         q_0='q_0',\n",
    "                         A=['q_0','q_3'],\n",
    "                         delta=[\n",
    "                            (('q_0','a'),['q_0']),\n",
    "                            (('q_0','b'),['q_1']),\n",
    "                            (('q_1','a'),['q_1']),\n",
    "                            (('q_1','b'),['q_2']),\n",
    "                            (('q_2','a'),['q_2']),\n",
    "                            (('q_2','b'),['q_3']),\n",
    "                            (('q_3','a'),['q_3']),\n",
    "                            (('q_3','b'),['q_1']),\n",
    "                         ])\n",
    "bes_divisible_by_3.graph()"
   ]
  },
  {
   "cell_type": "code",
   "execution_count": null,
   "metadata": {},
   "outputs": [],
   "source": [
    "mini=minimization_hopcroft(bes_divisible_by_3)\n",
    "mini.graph()"
   ]
  }
 ],
 "metadata": {
  "kernelspec": {
   "display_name": "Python 3",
   "language": "python",
   "name": "python3"
  },
  "language_info": {
   "codemirror_mode": {
    "name": "ipython",
    "version": 3
   },
   "file_extension": ".py",
   "mimetype": "text/x-python",
   "name": "python",
   "nbconvert_exporter": "python",
   "pygments_lexer": "ipython3",
   "version": "3.6.9"
  }
 },
 "nbformat": 4,
 "nbformat_minor": 2
}
