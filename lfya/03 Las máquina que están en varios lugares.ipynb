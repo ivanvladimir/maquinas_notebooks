{
 "cells": [
  {
   "cell_type": "markdown",
   "metadata": {},
   "source": [
    "[![Open In Colab](https://colab.research.google.com/assets/colab-badge.svg)](https://colab.research.google.com/github/ivanvladimir/maquinas_notebooks/blob/main/lfya/03%20Las%20m%C3%A1quina%20que%20est%C3%A1n%20en%20varios%20lugares.ipynb)"
   ]
  },
  {
   "cell_type": "code",
   "execution_count": null,
   "metadata": {},
   "outputs": [],
   "source": [
    "# Execute if not installed\n",
    "!pip install maquinas"
   ]
  },
  {
   "cell_type": "code",
   "execution_count": 1,
   "metadata": {},
   "outputs": [],
   "source": [
    "from maquinas.regular.dfa import DeterministicFiniteAutomaton as DFA\n",
    "from maquinas.regular.ndfa import NonDeterministicFiniteAutomaton as NDFA\n",
    "from maquinas.regular.ndfa_e import NonDeterministicFiniteAutomaton_epsilon as NDFA_e\n",
    "from maquinas.regular.ndfa_e import epsilon\n",
    "from maquinas.regular.reductions import *\n",
    "from maquinas.simulation import Simulation"
   ]
  },
  {
   "cell_type": "code",
   "execution_count": 2,
   "metadata": {},
   "outputs": [],
   "source": [
    "abb=DFA(Q=['q_0','q_1','q_2','q_3'],\n",
    "         sigma=['a','b'],\n",
    "         q_0='q_0',\n",
    "         A=['q_3'],\n",
    "         delta=[\n",
    "             (('q_0','a'),'q_1'),\n",
    "             (('q_0','b'),'q_0'),\n",
    "             (('q_1','a'),'q_1'),\n",
    "             (('q_1','b'),'q_2'),\n",
    "             (('q_2','a'),'q_1'),\n",
    "             (('q_2','b'),'q_3'),\n",
    "             (('q_3','a'),'q_3'),\n",
    "             (('q_3','b'),'q_3'),\n",
    "         ])\n",
    "abb.save_img('contiene_abb')"
   ]
  },
  {
   "cell_type": "code",
   "execution_count": 3,
   "metadata": {},
   "outputs": [
    {
     "name": "stdout",
     "output_type": "stream",
     "text": [
      "States  : q_0, q_1, q_2, q_3\n",
      "Sigma   : a, b\n",
      "Initial : q_0\n",
      "Aceptors: {q_3}\n",
      "Transitions:\n",
      " q_0,a → q_1\n",
      " q_0,b → q_0\n",
      " q_1,a → q_1\n",
      " q_1,b → q_2\n",
      " q_2,a → q_1\n",
      " q_2,b → q_3\n",
      " q_3,a → q_3\n",
      " q_3,b → q_3\n"
     ]
    }
   ],
   "source": [
    "abb.print_summary()"
   ]
  },
  {
   "cell_type": "code",
   "execution_count": 4,
   "metadata": {},
   "outputs": [],
   "source": [
    "# Creating automata finito no deterministico\n",
    "chicles_1=NDFA(Q=['q₀',\n",
    "                  'q₁₁/₁','q₂₁/₁','q₃₁/₁','q₄₁/₁',\n",
    "                  'q₁₁/₂','q₁₁_₁₂/₂',\n",
    "                  'q₁₁/₃','q₁₁_₁₂/₃','q₂₁_₁₂/₃',\n",
    "                  'q₁₁/₄','q₂₁/₄','q₂₁_₁₂/₄',\n",
    "                  'q₁₁/₅','q₂₁/₅','q₃₁/₅',\n",
    "                  'q₁₂/₆','q₂₂/₆',\n",
    "                  'q₁₂/₇','q₁₁_₁₂/₇',\n",
    "                  'q₁₂/₈','q₁₁_₁₂/₈','q₂₁_₁₂/₈',\n",
    "                  'q₅'\n",
    "                 ],\n",
    "                         sigma=['1','2','5'],\n",
    "                         q_0='q₀',\n",
    "                         A=['q₅'],\n",
    "                         delta=[\n",
    "                            (('q₀','1'),['q₁₁/₁','q₁₁/₂','q₁₁/₃','q₁₁/₄','q₁₁/₅']),\n",
    "                            (('q₀','2'),['q₁₂/₆','q₁₂/₇','q₁₂/₈']),\n",
    "                            (('q₀','5'),['q₅']),\n",
    "                            (('q₁₁/₁','1'),['q₂₁/₁']),\n",
    "                            (('q₂₁/₁','1'),['q₃₁/₁']),\n",
    "                            (('q₃₁/₁','1'),['q₄₁/₁']),\n",
    "                            (('q₄₁/₁','1'),['q₅']),\n",
    "                            (('q₁₁/₂','2'),['q₁₁_₁₂/₂']),\n",
    "                            (('q₁₁_₁₂/₂','2'),['q₅']),\n",
    "                            (('q₁₁/₃','2'),['q₁₁_₁₂/₃']),\n",
    "                            (('q₁₁_₁₂/₃','1'),['q₂₁_₁₂/₃']),\n",
    "                            (('q₂₁_₁₂/₃','1'),['q₅']),\n",
    "                            (('q₁₁/₄','1'),['q₂₁/₄']),\n",
    "                            (('q₂₁/₄','2'),['q₂₁_₁₂/₄']),\n",
    "                            (('q₂₁_₁₂/₄','1'),['q₅']),\n",
    "                            (('q₁₁/₅','1'),['q₂₁/₅']),\n",
    "                            (('q₂₁/₅','1'),['q₃₁/₅']),\n",
    "                            (('q₃₁/₅','2'),['q₅']),\n",
    "                            (('q₁₂/₆','2'),['q₂₂/₆']),\n",
    "                            (('q₂₂/₆','1'),['q₅']),\n",
    "                            (('q₁₂/₇','1'),['q₁₁_₁₂/₇']),\n",
    "                            (('q₁₁_₁₂/₇','2'),['q₅']),\n",
    "                            (('q₁₂/₈','1'),['q₁₁_₁₂/₈']),\n",
    "                            (('q₁₁_₁₂/₈','1'),['q₂₁_₁₂/₈']),\n",
    "                            (('q₂₁_₁₂/₈','1'),['q₅']),                          \n",
    "                         ])"
   ]
  },
  {
   "cell_type": "code",
   "execution_count": 5,
   "metadata": {},
   "outputs": [
    {
     "name": "stdout",
     "output_type": "stream",
     "text": [
      "States  : q₀, q₁₁/₁, q₂₁/₁, q₃₁/₁, q₄₁/₁, q₁₁/₂, q₁₁_₁₂/₂, q₁₁/₃, q₁₁_₁₂/₃, q₂₁_₁₂/₃, q₁₁/₄, q₂₁/₄, q₂₁_₁₂/₄, q₁₁/₅, q₂₁/₅, q₃₁/₅, q₁₂/₆, q₂₂/₆, q₁₂/₇, q₁₁_₁₂/₇, q₁₂/₈, q₁₁_₁₂/₈, q₂₁_₁₂/₈, q₅\n",
      "Sigma   : 1, 2, 5\n",
      "Initial : q₀\n",
      "Aceptors: {q₅}\n",
      "Transitions:\n",
      " q₀,1 → {q₁₁/₄, q₁₁/₅, q₁₁/₁, q₁₁/₃, q₁₁/₂}\n",
      " q₀,2 → {q₁₂/₆, q₁₂/₇, q₁₂/₈}\n",
      " q₀,5 → {q₅}\n",
      " q₁₁/₁,1 → {q₂₁/₁}\n",
      " q₂₁/₁,1 → {q₃₁/₁}\n",
      " q₃₁/₁,1 → {q₄₁/₁}\n",
      " q₄₁/₁,1 → {q₅}\n",
      " q₁₁/₂,2 → {q₁₁_₁₂/₂}\n",
      " q₁₁_₁₂/₂,2 → {q₅}\n",
      " q₁₁/₃,2 → {q₁₁_₁₂/₃}\n",
      " q₁₁_₁₂/₃,1 → {q₂₁_₁₂/₃}\n",
      " q₂₁_₁₂/₃,1 → {q₅}\n",
      " q₁₁/₄,1 → {q₂₁/₄}\n",
      " q₂₁/₄,2 → {q₂₁_₁₂/₄}\n",
      " q₂₁_₁₂/₄,1 → {q₅}\n",
      " q₁₁/₅,1 → {q₂₁/₅}\n",
      " q₂₁/₅,1 → {q₃₁/₅}\n",
      " q₃₁/₅,2 → {q₅}\n",
      " q₁₂/₆,2 → {q₂₂/₆}\n",
      " q₂₂/₆,1 → {q₅}\n",
      " q₁₂/₇,1 → {q₁₁_₁₂/₇}\n",
      " q₁₁_₁₂/₇,2 → {q₅}\n",
      " q₁₂/₈,1 → {q₁₁_₁₂/₈}\n",
      " q₁₁_₁₂/₈,1 → {q₂₁_₁₂/₈}\n",
      " q₂₁_₁₂/₈,1 → {q₅}\n"
     ]
    }
   ],
   "source": [
    "chicles_1.print_summary()"
   ]
  },
  {
   "cell_type": "code",
   "execution_count": 6,
   "metadata": {},
   "outputs": [],
   "source": [
    "chicles_1.save_img(\"full\")"
   ]
  },
  {
   "cell_type": "code",
   "execution_count": 7,
   "metadata": {},
   "outputs": [
    {
     "name": "stdout",
     "output_type": "stream",
     "text": [
      "States  : q₀, q₁₁/₁, q₂₁/₁, q₃₁/₁, q₄₁/₁, q₁₁/₂, q₁₁_₁₂/₂, q₁₁/₃, q₁₁_₁₂/₃, q₂₁_₁₂/₃, q₁₁/₄, q₂₁/₄, q₂₁_₁₂/₄, q₁₁/₅, q₂₁/₅, q₃₁/₅, q₁₂/₆, q₂₂/₆, q₁₂/₇, q₁₁_₁₂/₇, q₁₂/₈, q₁₁_₁₂/₈, q₂₁_₁₂/₈, q₅\n",
      "Sigma   : 1, 2, 5\n",
      "Initial : q₀\n",
      "Aceptors: {q₅}\n",
      "Transitions:\n",
      " q₀,1 → {q₁₁/₄, q₁₁/₅, q₁₁/₁, q₁₁/₃, q₁₁/₂}\n",
      " q₀,2 → {q₁₂/₆, q₁₂/₇, q₁₂/₈}\n",
      " q₀,5 → {q₅}\n",
      " q₁₁/₁,1 → {q₂₁/₁}\n",
      " q₂₁/₁,1 → {q₃₁/₁}\n",
      " q₃₁/₁,1 → {q₄₁/₁}\n",
      " q₄₁/₁,1 → {q₅}\n",
      " q₁₁/₂,2 → {q₁₁_₁₂/₂}\n",
      " q₁₁_₁₂/₂,2 → {q₅}\n",
      " q₁₁/₃,2 → {q₁₁_₁₂/₃}\n",
      " q₁₁_₁₂/₃,1 → {q₂₁_₁₂/₃}\n",
      " q₂₁_₁₂/₃,1 → {q₅}\n",
      " q₁₁/₄,1 → {q₂₁/₄}\n",
      " q₂₁/₄,2 → {q₂₁_₁₂/₄}\n",
      " q₂₁_₁₂/₄,1 → {q₅}\n",
      " q₁₁/₅,1 → {q₂₁/₅}\n",
      " q₂₁/₅,1 → {q₃₁/₅}\n",
      " q₃₁/₅,2 → {q₅}\n",
      " q₁₂/₆,2 → {q₂₂/₆}\n",
      " q₂₂/₆,1 → {q₅}\n",
      " q₁₂/₇,1 → {q₁₁_₁₂/₇}\n",
      " q₁₁_₁₂/₇,2 → {q₅}\n",
      " q₁₂/₈,1 → {q₁₁_₁₂/₈}\n",
      " q₁₁_₁₂/₈,1 → {q₂₁_₁₂/₈}\n",
      " q₂₁_₁₂/₈,1 → {q₅}\n"
     ]
    }
   ],
   "source": [
    "print(chicles_1.summary())"
   ]
  },
  {
   "cell_type": "code",
   "execution_count": 8,
   "metadata": {},
   "outputs": [
    {
     "data": {
      "text/html": [
       "<table><tr><td></td><td><strong>1</strong></td><td><strong>2</strong></td><td><strong>5</strong></td></tr><tr><td ><strong>⟶q₀</strong></td><td>q₁₁/₄,q₁₁/₅,q₁₁/₁,q₁₁/₃,q₁₁/₂</td><td>q₁₂/₆,q₁₂/₇,q₁₂/₈</td><td>q₅</td></tr><tr><td ><strong>q₁₁/₁</strong></td><td>q₂₁/₁</td><td>∅</td><td>∅</td></tr><tr><td ><strong>q₁₁/₂</strong></td><td>∅</td><td>q₁₁_₁₂/₂</td><td>∅</td></tr><tr><td ><strong>q₁₁/₃</strong></td><td>∅</td><td>q₁₁_₁₂/₃</td><td>∅</td></tr><tr><td ><strong>q₁₁/₄</strong></td><td>q₂₁/₄</td><td>∅</td><td>∅</td></tr><tr><td ><strong>q₁₁/₅</strong></td><td>q₂₁/₅</td><td>∅</td><td>∅</td></tr><tr><td ><strong>q₁₁_₁₂/₂</strong></td><td>∅</td><td>q₅</td><td>∅</td></tr><tr><td ><strong>q₁₁_₁₂/₃</strong></td><td>q₂₁_₁₂/₃</td><td>∅</td><td>∅</td></tr><tr><td ><strong>q₁₁_₁₂/₇</strong></td><td>∅</td><td>q₅</td><td>∅</td></tr><tr><td ><strong>q₁₁_₁₂/₈</strong></td><td>q₂₁_₁₂/₈</td><td>∅</td><td>∅</td></tr><tr><td ><strong>q₁₂/₆</strong></td><td>∅</td><td>q₂₂/₆</td><td>∅</td></tr><tr><td ><strong>q₁₂/₇</strong></td><td>q₁₁_₁₂/₇</td><td>∅</td><td>∅</td></tr><tr><td ><strong>q₁₂/₈</strong></td><td>q₁₁_₁₂/₈</td><td>∅</td><td>∅</td></tr><tr><td ><strong>q₂₁/₁</strong></td><td>q₃₁/₁</td><td>∅</td><td>∅</td></tr><tr><td ><strong>q₂₁/₄</strong></td><td>∅</td><td>q₂₁_₁₂/₄</td><td>∅</td></tr><tr><td ><strong>q₂₁/₅</strong></td><td>q₃₁/₅</td><td>∅</td><td>∅</td></tr><tr><td ><strong>q₂₁_₁₂/₃</strong></td><td>q₅</td><td>∅</td><td>∅</td></tr><tr><td ><strong>q₂₁_₁₂/₄</strong></td><td>q₅</td><td>∅</td><td>∅</td></tr><tr><td ><strong>q₂₁_₁₂/₈</strong></td><td>q₅</td><td>∅</td><td>∅</td></tr><tr><td ><strong>q₂₂/₆</strong></td><td>q₅</td><td>∅</td><td>∅</td></tr><tr><td ><strong>q₃₁/₁</strong></td><td>q₄₁/₁</td><td>∅</td><td>∅</td></tr><tr><td ><strong>q₃₁/₅</strong></td><td>∅</td><td>q₅</td><td>∅</td></tr><tr><td ><strong>q₄₁/₁</strong></td><td>q₅</td><td>∅</td><td>∅</td></tr><tr><td bgcolor=\"#32a852\"><strong>q₅</strong></td><td>∅</td><td>∅</td><td>∅</td></tr></table>"
      ],
      "text/plain": [
       "<IPython.core.display.HTML object>"
      ]
     },
     "metadata": {},
     "output_type": "display_data"
    }
   ],
   "source": [
    "chicles_1.table()"
   ]
  },
  {
   "cell_type": "code",
   "execution_count": 10,
   "metadata": {},
   "outputs": [
    {
     "name": "stdout",
     "output_type": "stream",
     "text": [
      "{'q₀'}\n",
      " 1 -> {'q₁₁/₄', 'q₁₁/₅', 'q₁₁/₁', 'q₁₁/₃', 'q₁₁/₂'},\n",
      " 2 -> {'q₁₁_₁₂/₂', 'q₁₁_₁₂/₃'},\n",
      " 2 -> {'q₅'},\n",
      " \n",
      "Con {'q₅'} Se acepta? Sí\n"
     ]
    }
   ],
   "source": [
    "for q,a,w_ in chicles_1.delta_stepwise(\"122\"):\n",
    "    if a:\n",
    "        print(f\"{a} -> {q}\", end=\",\\n \")\n",
    "    else:\n",
    "        print(f\"{q}\",end=\"\\n \")\n",
    "    res=q\n",
    "    \n",
    "print(f\"\\nCon {res} Se acepta?\", \"Sí\" if chicles_1.acceptor(res) else \"No\" )"
   ]
  },
  {
   "cell_type": "code",
   "execution_count": 11,
   "metadata": {},
   "outputs": [
    {
     "data": {
      "text/plain": [
       "{'q₅'}"
      ]
     },
     "execution_count": 11,
     "metadata": {},
     "output_type": "execute_result"
    }
   ],
   "source": [
    "chicles_1.delta_extended(None,\"122\")"
   ]
  },
  {
   "cell_type": "code",
   "execution_count": 12,
   "metadata": {},
   "outputs": [
    {
     "data": {
      "application/vnd.jupyter.widget-view+json": {
       "model_id": "c0a1b2600ea04930ba9c4a395689d6ab",
       "version_major": 2,
       "version_minor": 0
      },
      "text/plain": [
       "VBox(children=(HBox(children=(Text(value='122', description='Cadena'), Button(description='⏎', style=ButtonSty…"
      ]
     },
     "metadata": {},
     "output_type": "display_data"
    }
   ],
   "source": [
    "s=Simulation(chicles_1,\"122\")\n",
    "s.run()"
   ]
  },
  {
   "cell_type": "code",
   "execution_count": 13,
   "metadata": {},
   "outputs": [],
   "source": [
    "chicles_1.save_gif(\"122\",'full.gif')"
   ]
  },
  {
   "cell_type": "code",
   "execution_count": 14,
   "metadata": {},
   "outputs": [],
   "source": [
    "chicles_2_full=ndfa2dfa(chicles_1,rename=False)"
   ]
  },
  {
   "cell_type": "code",
   "execution_count": 15,
   "metadata": {},
   "outputs": [
    {
     "data": {
      "text/html": [
       "<table><tr><td></td><td><strong>1</strong></td><td><strong>2</strong></td><td><strong>5</strong></td></tr><tr><td bgcolor=\"#32a852\"><strong>000000000000000000000001</strong></td><td></td><td></td><td></td></tr><tr><td ><strong>000000000000000000000010</strong></td><td>000000000000000000000001</td><td></td><td></td></tr><tr><td ><strong>000000000000000000010100</strong></td><td>000000000000000000000010</td><td>000000000000000000000001</td><td></td></tr><tr><td ><strong>000000000000000001000000</strong></td><td>000000000000000000000001</td><td></td><td></td></tr><tr><td ><strong>000000000000000010101000</strong></td><td>000000000000000000010100</td><td>000000000000000001000000</td><td></td></tr><tr><td ><strong>000000000000100000000000</strong></td><td>000000000000000000000001</td><td></td><td></td></tr><tr><td ><strong>000000000100000000000000</strong></td><td>000000000000000000000001</td><td></td><td></td></tr><tr><td ><strong>000000101000000000000000</strong></td><td>000000000100000000000000</td><td>000000000000000000000001</td><td></td></tr><tr><td ><strong>000010000000000000000000</strong></td><td>000000000000000000000001</td><td></td><td></td></tr><tr><td ><strong>000100000000000100000000</strong></td><td>000010000000000000000000</td><td>000000000000000000000001</td><td></td></tr><tr><td ><strong>001000000001001000000000</strong></td><td>000100000000000100000000</td><td>000000000000100000000000</td><td></td></tr><tr><td ><strong>010001010010010000000000</strong></td><td>001000000001001000000000</td><td>000000101000000000000000</td><td></td></tr><tr><td ><strong>⟶100000000000000000000000</strong></td><td>010001010010010000000000</td><td>000000000000000010101000</td><td>000000000000000000000001</td></tr></table>"
      ],
      "text/plain": [
       "<IPython.core.display.HTML object>"
      ]
     },
     "metadata": {},
     "output_type": "display_data"
    }
   ],
   "source": [
    "chicles_2_full.table()"
   ]
  },
  {
   "cell_type": "code",
   "execution_count": 16,
   "metadata": {},
   "outputs": [],
   "source": [
    "chicles_2_full.save_img(\"dfa_full\")"
   ]
  },
  {
   "cell_type": "code",
   "execution_count": 17,
   "metadata": {
    "scrolled": false
   },
   "outputs": [
    {
     "data": {
      "text/html": [
       "<table><tr><td></td><td><strong>1</strong></td><td><strong>2</strong></td><td><strong>5</strong></td></tr><tr><td ><strong>⟶q_0</strong></td><td>q_1</td><td>q_2</td><td>q_3</td></tr><tr><td ><strong>q_1</strong></td><td>q_4</td><td>q_5</td><td></td></tr><tr><td ><strong>q_10</strong></td><td>q_3</td><td></td><td></td></tr><tr><td ><strong>q_11</strong></td><td>q_3</td><td></td><td></td></tr><tr><td ><strong>q_12</strong></td><td>q_3</td><td></td><td></td></tr><tr><td ><strong>q_2</strong></td><td>q_6</td><td>q_7</td><td></td></tr><tr><td bgcolor=\"#32a852\"><strong>q_3</strong></td><td></td><td></td><td></td></tr><tr><td ><strong>q_4</strong></td><td>q_8</td><td>q_9</td><td></td></tr><tr><td ><strong>q_5</strong></td><td>q_10</td><td>q_3</td><td></td></tr><tr><td ><strong>q_6</strong></td><td>q_11</td><td>q_3</td><td></td></tr><tr><td ><strong>q_7</strong></td><td>q_3</td><td></td><td></td></tr><tr><td ><strong>q_8</strong></td><td>q_12</td><td>q_3</td><td></td></tr><tr><td ><strong>q_9</strong></td><td>q_3</td><td></td><td></td></tr></table>"
      ],
      "text/plain": [
       "<IPython.core.display.HTML object>"
      ]
     },
     "metadata": {},
     "output_type": "display_data"
    }
   ],
   "source": [
    "chicles_2=ndfa2dfa(chicles_1)\n",
    "chicles_2.table()"
   ]
  },
  {
   "cell_type": "code",
   "execution_count": 18,
   "metadata": {},
   "outputs": [],
   "source": [
    "chicles_2.save_img(\"dfa_chicles\")"
   ]
  },
  {
   "cell_type": "code",
   "execution_count": 20,
   "metadata": {},
   "outputs": [
    {
     "name": "stdout",
     "output_type": "stream",
     "text": [
      "q_0\n",
      " 1 -> {'q_1'},\n",
      " 2 -> {'q_5'},\n",
      " 2 -> {'q_3'},\n",
      " \n",
      "Con {'q_3'} Se acepta? Sí\n"
     ]
    }
   ],
   "source": [
    "for q,a,w_ in chicles_2.delta_stepwise(\"122\"):\n",
    "    if a:\n",
    "        print(f\"{a} -> {q}\", end=\",\\n \")\n",
    "    else:\n",
    "        print(f\"{q}\",end=\"\\n \")\n",
    "    res=q\n",
    "    \n",
    "print(f\"\\nCon {res} Se acepta?\", \"Sí\" if chicles_2.acceptor(res) else \"No\" )"
   ]
  },
  {
   "cell_type": "code",
   "execution_count": 21,
   "metadata": {},
   "outputs": [],
   "source": [
    "chicles_2.save_gif(\"122\",'dfa.gif')"
   ]
  },
  {
   "cell_type": "code",
   "execution_count": 23,
   "metadata": {},
   "outputs": [],
   "source": [
    "chicles_3=NDFA_e(Q=chicles_2.Q,\n",
    "                 sigma=chicles_2.sigma,\n",
    "                 q_0=chicles_2.q_0,\n",
    "                 A=chicles_2.A,\n",
    "                 delta=[(k,qs) for k,qs in chicles_2.items()])"
   ]
  },
  {
   "cell_type": "code",
   "execution_count": 24,
   "metadata": {},
   "outputs": [
    {
     "name": "stdout",
     "output_type": "stream",
     "text": [
      "States  : q_0, q_1, q_2, q_3, q_4, q_5, q_6, q_7, q_8, q_9, q_10, q_11, q_12\n",
      "Sigma   : ε, 1, 2, 5\n",
      "Initial : q_0\n",
      "Aceptors: {q_3}\n",
      "Transitions:\n",
      " q_0,1 → {q_1}\n",
      " q_0,2 → {q_2}\n",
      " q_0,5 → {q_3}\n",
      " q_1,1 → {q_4}\n",
      " q_1,2 → {q_5}\n",
      " q_2,1 → {q_6}\n",
      " q_2,2 → {q_7}\n",
      " q_4,1 → {q_8}\n",
      " q_4,2 → {q_9}\n",
      " q_5,1 → {q_10}\n",
      " q_5,2 → {q_3}\n",
      " q_6,1 → {q_11}\n",
      " q_6,2 → {q_3}\n",
      " q_7,1 → {q_3}\n",
      " q_8,1 → {q_12}\n",
      " q_8,2 → {q_3}\n",
      " q_9,1 → {q_3}\n",
      " q_10,1 → {q_3}\n",
      " q_11,1 → {q_3}\n",
      " q_12,1 → {q_3}\n"
     ]
    }
   ],
   "source": [
    "chicles_3.print_summary()"
   ]
  },
  {
   "cell_type": "code",
   "execution_count": 25,
   "metadata": {},
   "outputs": [],
   "source": [
    "for q_f in chicles_3.A:\n",
    "    chicles_3.add_transition(q_f,'ε',['q_0'])"
   ]
  },
  {
   "cell_type": "code",
   "execution_count": 26,
   "metadata": {},
   "outputs": [],
   "source": [
    "chicles_3.save_img(\"ndfa_e_multiple\")"
   ]
  },
  {
   "cell_type": "code",
   "execution_count": 28,
   "metadata": {},
   "outputs": [
    {
     "name": "stdout",
     "output_type": "stream",
     "text": [
      "{'q_0'}\n",
      " 5 -> {'q_3', 'q_0'},\n",
      " 2 -> {'q_2'},\n",
      " 1 -> {'q_6'},\n",
      " 2 -> {'q_3', 'q_0'},\n",
      " \n",
      "Con {'q_3', 'q_0'} Se acepta? Sí\n"
     ]
    }
   ],
   "source": [
    "for q,a,w_ in chicles_3.delta_stepwise(\"5212\"):\n",
    "    if a:\n",
    "        print(f\"{a} -> {q}\", end=\",\\n \")\n",
    "    else:\n",
    "        print(f\"{q}\",end=\"\\n \")\n",
    "    res=q\n",
    "    \n",
    "print(f\"\\nCon {res} Se acepta?\", \"Sí\" if chicles_2.acceptor(res) else \"No\" )"
   ]
  },
  {
   "cell_type": "code",
   "execution_count": 29,
   "metadata": {},
   "outputs": [
    {
     "data": {
      "text/plain": [
       "{'q_0', 'q_3'}"
      ]
     },
     "execution_count": 29,
     "metadata": {},
     "output_type": "execute_result"
    }
   ],
   "source": [
    "chicles_3.delta_extended(None,\"5212\")"
   ]
  },
  {
   "cell_type": "code",
   "execution_count": 30,
   "metadata": {},
   "outputs": [
    {
     "data": {
      "application/vnd.jupyter.widget-view+json": {
       "model_id": "d32d5500b24b421c98c2f8f957ab5d3d",
       "version_major": 2,
       "version_minor": 0
      },
      "text/plain": [
       "VBox(children=(HBox(children=(Text(value='5212', description='Cadena'), Button(description='⏎', style=ButtonSt…"
      ]
     },
     "metadata": {},
     "output_type": "display_data"
    }
   ],
   "source": [
    "s=Simulation(chicles_3,\"5212\")\n",
    "s.run()"
   ]
  },
  {
   "cell_type": "code",
   "execution_count": 31,
   "metadata": {},
   "outputs": [],
   "source": [
    "chicles_3.save_gif(\"5212\",\"ndfa_e_multiple.gif\")"
   ]
  },
  {
   "cell_type": "code",
   "execution_count": 32,
   "metadata": {},
   "outputs": [
    {
     "data": {
      "text/html": [
       "<table><tr><td></td><td><strong>1</strong></td><td><strong>2</strong></td><td><strong>5</strong></td><td><strong>ε</strong></td></tr><tr><td ><strong>⟶q_0</strong></td><td>q_1</td><td>q_2</td><td>q_3</td><td>∅</td></tr><tr><td ><strong>q_1</strong></td><td>q_4</td><td>q_5</td><td>∅</td><td>∅</td></tr><tr><td ><strong>q_10</strong></td><td>q_3</td><td>∅</td><td>∅</td><td>∅</td></tr><tr><td ><strong>q_11</strong></td><td>q_3</td><td>∅</td><td>∅</td><td>∅</td></tr><tr><td ><strong>q_12</strong></td><td>q_3</td><td>∅</td><td>∅</td><td>∅</td></tr><tr><td ><strong>q_2</strong></td><td>q_6</td><td>q_7</td><td>∅</td><td>∅</td></tr><tr><td bgcolor=\"#32a852\"><strong>q_3</strong></td><td>∅</td><td>∅</td><td>∅</td><td>q_0</td></tr><tr><td ><strong>q_4</strong></td><td>q_8</td><td>q_9</td><td>∅</td><td>∅</td></tr><tr><td ><strong>q_5</strong></td><td>q_10</td><td>q_3</td><td>∅</td><td>∅</td></tr><tr><td ><strong>q_6</strong></td><td>q_11</td><td>q_3</td><td>∅</td><td>∅</td></tr><tr><td ><strong>q_7</strong></td><td>q_3</td><td>∅</td><td>∅</td><td>∅</td></tr><tr><td ><strong>q_8</strong></td><td>q_12</td><td>q_3</td><td>∅</td><td>∅</td></tr><tr><td ><strong>q_9</strong></td><td>q_3</td><td>∅</td><td>∅</td><td>∅</td></tr></table>"
      ],
      "text/plain": [
       "<IPython.core.display.HTML object>"
      ]
     },
     "metadata": {},
     "output_type": "display_data"
    }
   ],
   "source": [
    "chicles_3.table()"
   ]
  },
  {
   "cell_type": "code",
   "execution_count": 33,
   "metadata": {},
   "outputs": [
    {
     "data": {
      "text/html": [
       "<table><tr><td></td><td><strong>1</strong></td><td><strong>2</strong></td><td><strong>5</strong></td></tr><tr><td ><strong>⟶q_0</strong></td><td>q_1</td><td>q_2</td><td>q_0,q_3</td></tr><tr><td ><strong>q_1</strong></td><td>q_4</td><td>q_5</td><td>∅</td></tr><tr><td ><strong>q_10</strong></td><td>q_0,q_3</td><td>∅</td><td>∅</td></tr><tr><td ><strong>q_11</strong></td><td>q_0,q_3</td><td>∅</td><td>∅</td></tr><tr><td ><strong>q_12</strong></td><td>q_0,q_3</td><td>∅</td><td>∅</td></tr><tr><td ><strong>q_2</strong></td><td>q_6</td><td>q_7</td><td>∅</td></tr><tr><td bgcolor=\"#32a852\"><strong>q_3</strong></td><td>q_1</td><td>q_2</td><td>q_0,q_3</td></tr><tr><td ><strong>q_4</strong></td><td>q_8</td><td>q_9</td><td>∅</td></tr><tr><td ><strong>q_5</strong></td><td>q_10</td><td>q_0,q_3</td><td>∅</td></tr><tr><td ><strong>q_6</strong></td><td>q_11</td><td>q_0,q_3</td><td>∅</td></tr><tr><td ><strong>q_7</strong></td><td>q_0,q_3</td><td>∅</td><td>∅</td></tr><tr><td ><strong>q_8</strong></td><td>q_12</td><td>q_0,q_3</td><td>∅</td></tr><tr><td ><strong>q_9</strong></td><td>q_0,q_3</td><td>∅</td><td>∅</td></tr></table>"
      ],
      "text/plain": [
       "<IPython.core.display.HTML object>"
      ]
     },
     "metadata": {},
     "output_type": "display_data"
    }
   ],
   "source": [
    "chicles_4=ndfa_e2ndfa(chicles_3, rename=False)\n",
    "chicles_4.table()"
   ]
  },
  {
   "cell_type": "code",
   "execution_count": 34,
   "metadata": {},
   "outputs": [],
   "source": [
    "chicles_4.save_img(\"ndfa_multiple\")"
   ]
  },
  {
   "cell_type": "code",
   "execution_count": 35,
   "metadata": {},
   "outputs": [],
   "source": [
    "chicles_4.save_gif(\"5212\",\"ndfa_multiple.gif\")"
   ]
  },
  {
   "cell_type": "code",
   "execution_count": 36,
   "metadata": {},
   "outputs": [],
   "source": [
    "chicles_5=ndfa2dfa(chicles_4)\n",
    "chicles_5.save_img(\"dfa_multiple\")"
   ]
  },
  {
   "cell_type": "code",
   "execution_count": 37,
   "metadata": {
    "scrolled": true
   },
   "outputs": [],
   "source": [
    "chicles_5.save_gif(\"5212\",\"dfa_multiple.gif\")"
   ]
  },
  {
   "cell_type": "code",
   "execution_count": 38,
   "metadata": {},
   "outputs": [
    {
     "ename": "AlreadyExistsTransition",
     "evalue": "Transition (q_8,2) already exists with destination {'q_3'}",
     "output_type": "error",
     "traceback": [
      "\u001b[0;31m---------------------------------------------------------------------------\u001b[0m",
      "\u001b[0;31mAlreadyExistsTransition\u001b[0m                   Traceback (most recent call last)",
      "\u001b[0;32m<ipython-input-38-e41025ee90af>\u001b[0m in \u001b[0;36m<module>\u001b[0;34m\u001b[0m\n\u001b[1;32m      1\u001b[0m \u001b[0;31m# agregando aceptar el pago: 2,2,2,2,2\u001b[0m\u001b[0;34m\u001b[0m\u001b[0;34m\u001b[0m\u001b[0;34m\u001b[0m\u001b[0m\n\u001b[0;32m----> 2\u001b[0;31m \u001b[0mchicles_5\u001b[0m\u001b[0;34m.\u001b[0m\u001b[0madd_transition\u001b[0m\u001b[0;34m(\u001b[0m\u001b[0;34m'q_8'\u001b[0m\u001b[0;34m,\u001b[0m\u001b[0;34m'2'\u001b[0m\u001b[0;34m,\u001b[0m\u001b[0;34m'q_1'\u001b[0m\u001b[0;34m)\u001b[0m\u001b[0;34m\u001b[0m\u001b[0;34m\u001b[0m\u001b[0m\n\u001b[0m\u001b[1;32m      3\u001b[0m \u001b[0mchicles_5\u001b[0m\u001b[0;34m.\u001b[0m\u001b[0mgraph\u001b[0m\u001b[0;34m(\u001b[0m\u001b[0;34m)\u001b[0m\u001b[0;34m\u001b[0m\u001b[0;34m\u001b[0m\u001b[0m\n",
      "\u001b[0;32m~/projects/maquinas/maquinas/regular/fa.py\u001b[0m in \u001b[0;36madd_transition\u001b[0;34m(self, q_i, a, q_f, force)\u001b[0m\n\u001b[1;32m    191\u001b[0m \u001b[0;34m\u001b[0m\u001b[0m\n\u001b[1;32m    192\u001b[0m         \u001b[0;32mif\u001b[0m \u001b[0mnq_i\u001b[0m \u001b[0;32mand\u001b[0m \u001b[0mnq_i\u001b[0m \u001b[0;32min\u001b[0m \u001b[0mself\u001b[0m\u001b[0;34m.\u001b[0m\u001b[0mttable\u001b[0m \u001b[0;32mand\u001b[0m \u001b[0mna\u001b[0m \u001b[0;32min\u001b[0m \u001b[0mself\u001b[0m\u001b[0;34m.\u001b[0m\u001b[0mttable\u001b[0m\u001b[0;34m[\u001b[0m\u001b[0mnq_i\u001b[0m\u001b[0;34m]\u001b[0m\u001b[0;34m:\u001b[0m\u001b[0;34m\u001b[0m\u001b[0;34m\u001b[0m\u001b[0m\n\u001b[0;32m--> 193\u001b[0;31m             \u001b[0;32mraise\u001b[0m \u001b[0mAlreadyExistsTransition\u001b[0m\u001b[0;34m(\u001b[0m\u001b[0mq_i\u001b[0m\u001b[0;34m,\u001b[0m \u001b[0ma\u001b[0m\u001b[0;34m,\u001b[0m \u001b[0mself\u001b[0m\u001b[0;34m)\u001b[0m\u001b[0;34m\u001b[0m\u001b[0;34m\u001b[0m\u001b[0m\n\u001b[0m\u001b[1;32m    194\u001b[0m         \u001b[0;32mtry\u001b[0m\u001b[0;34m:\u001b[0m\u001b[0;34m\u001b[0m\u001b[0;34m\u001b[0m\u001b[0m\n\u001b[1;32m    195\u001b[0m             \u001b[0mnq_f\u001b[0m \u001b[0;34m=\u001b[0m \u001b[0mself\u001b[0m\u001b[0;34m.\u001b[0m\u001b[0m_nstate\u001b[0m\u001b[0;34m(\u001b[0m\u001b[0mq_f\u001b[0m\u001b[0;34m)\u001b[0m\u001b[0;34m\u001b[0m\u001b[0;34m\u001b[0m\u001b[0m\n",
      "\u001b[0;31mAlreadyExistsTransition\u001b[0m: Transition (q_8,2) already exists with destination {'q_3'}"
     ]
    }
   ],
   "source": [
    "# agregando aceptar el pago: 2,2,2,2,2\n",
    "chicles_5.add_transition('q_8','2','q_1')\n",
    "chicles_5.graph()"
   ]
  },
  {
   "cell_type": "code",
   "execution_count": 39,
   "metadata": {},
   "outputs": [],
   "source": [
    "chicles_5.save_gif(\"22222\",\"dfa_multiple_22222.gif\")"
   ]
  },
  {
   "cell_type": "code",
   "execution_count": 40,
   "metadata": {},
   "outputs": [
    {
     "ename": "TypeError",
     "evalue": "'int' object is not iterable",
     "output_type": "error",
     "traceback": [
      "\u001b[0;31m---------------------------------------------------------------------------\u001b[0m",
      "\u001b[0;31mTypeError\u001b[0m                                 Traceback (most recent call last)",
      "\u001b[0;32m<ipython-input-40-34ccf6b054ad>\u001b[0m in \u001b[0;36m<module>\u001b[0;34m\u001b[0m\n\u001b[1;32m      8\u001b[0m                             \u001b[0;34m(\u001b[0m\u001b[0;34m(\u001b[0m\u001b[0;34m'q_0'\u001b[0m\u001b[0;34m,\u001b[0m\u001b[0;34m'0'\u001b[0m\u001b[0;34m)\u001b[0m\u001b[0;34m,\u001b[0m\u001b[0;34m'q_1'\u001b[0m\u001b[0;34m)\u001b[0m\u001b[0;34m\u001b[0m\u001b[0;34m\u001b[0m\u001b[0m\n\u001b[1;32m      9\u001b[0m                          ])\n\u001b[0;32m---> 10\u001b[0;31m \u001b[0mceros_uno\u001b[0m\u001b[0;34m=\u001b[0m\u001b[0mdfa2ndfa_e\u001b[0m\u001b[0;34m(\u001b[0m\u001b[0mceros_uno\u001b[0m\u001b[0;34m)\u001b[0m\u001b[0;34m\u001b[0m\u001b[0;34m\u001b[0m\u001b[0m\n\u001b[0m\u001b[1;32m     11\u001b[0m \u001b[0mceros_uno\u001b[0m\u001b[0;34m.\u001b[0m\u001b[0msave_img\u001b[0m\u001b[0;34m(\u001b[0m\u001b[0;34m'unos_cero'\u001b[0m\u001b[0;34m)\u001b[0m\u001b[0;34m\u001b[0m\u001b[0;34m\u001b[0m\u001b[0m\n",
      "\u001b[0;32m~/projects/maquinas/maquinas/regular/reductions.py\u001b[0m in \u001b[0;36mdfa2ndfa_e\u001b[0;34m(dfa, rename, remove_sink)\u001b[0m\n\u001b[1;32m     89\u001b[0m             \u001b[0mna\u001b[0m \u001b[0;34m=\u001b[0m \u001b[0mna\u001b[0m \u001b[0;34m+\u001b[0m \u001b[0;36m1\u001b[0m\u001b[0;34m\u001b[0m\u001b[0;34m\u001b[0m\u001b[0m\n\u001b[1;32m     90\u001b[0m             \u001b[0;32mtry\u001b[0m\u001b[0;34m:\u001b[0m\u001b[0;34m\u001b[0m\u001b[0;34m\u001b[0m\u001b[0m\n\u001b[0;32m---> 91\u001b[0;31m                 \u001b[0mndfa_e\u001b[0m\u001b[0;34m.\u001b[0m\u001b[0mttable\u001b[0m\u001b[0;34m[\u001b[0m\u001b[0mnq_i\u001b[0m\u001b[0;34m]\u001b[0m\u001b[0;34m[\u001b[0m\u001b[0mna\u001b[0m\u001b[0;34m]\u001b[0m \u001b[0;34m=\u001b[0m \u001b[0mset\u001b[0m\u001b[0;34m(\u001b[0m\u001b[0mnq_f\u001b[0m\u001b[0;34m)\u001b[0m\u001b[0;34m\u001b[0m\u001b[0;34m\u001b[0m\u001b[0m\n\u001b[0m\u001b[1;32m     92\u001b[0m             \u001b[0;32mexcept\u001b[0m \u001b[0mKeyError\u001b[0m\u001b[0;34m:\u001b[0m\u001b[0;34m\u001b[0m\u001b[0;34m\u001b[0m\u001b[0m\n\u001b[1;32m     93\u001b[0m                 \u001b[0mndfa_e\u001b[0m\u001b[0;34m.\u001b[0m\u001b[0mttable\u001b[0m\u001b[0;34m[\u001b[0m\u001b[0mnq_i\u001b[0m\u001b[0;34m]\u001b[0m \u001b[0;34m=\u001b[0m \u001b[0;34m{\u001b[0m\u001b[0;34m}\u001b[0m\u001b[0;34m\u001b[0m\u001b[0;34m\u001b[0m\u001b[0m\n",
      "\u001b[0;31mTypeError\u001b[0m: 'int' object is not iterable"
     ]
    }
   ],
   "source": [
    "# Creating automata finito\n",
    "ceros_uno=DFA(Q=['q_0','q_1'],\n",
    "                         sigma=['0','1'],\n",
    "                         q_0='q_0',\n",
    "                         A=['q_1'],\n",
    "                         delta=[\n",
    "                            (('q_0','1'),'q_0'),\n",
    "                            (('q_0','0'),'q_1')\n",
    "                         ])\n",
    "ceros_uno=dfa2ndfa_e(ceros_uno)\n",
    "ceros_uno.save_img('unos_cero')"
   ]
  },
  {
   "cell_type": "code",
   "execution_count": 41,
   "metadata": {},
   "outputs": [
    {
     "ename": "TypeError",
     "evalue": "'int' object is not iterable",
     "output_type": "error",
     "traceback": [
      "\u001b[0;31m---------------------------------------------------------------------------\u001b[0m",
      "\u001b[0;31mTypeError\u001b[0m                                 Traceback (most recent call last)",
      "\u001b[0;32m<ipython-input-41-9cd23d0ecf0a>\u001b[0m in \u001b[0;36m<module>\u001b[0;34m\u001b[0m\n\u001b[1;32m      7\u001b[0m                             \u001b[0;34m(\u001b[0m\u001b[0;34m(\u001b[0m\u001b[0;34m'q_1'\u001b[0m\u001b[0;34m,\u001b[0m\u001b[0;34m'0'\u001b[0m\u001b[0;34m)\u001b[0m\u001b[0;34m,\u001b[0m\u001b[0;34m'q_1'\u001b[0m\u001b[0;34m)\u001b[0m\u001b[0;34m\u001b[0m\u001b[0;34m\u001b[0m\u001b[0m\n\u001b[1;32m      8\u001b[0m                          ])\n\u001b[0;32m----> 9\u001b[0;31m \u001b[0muno_ceros\u001b[0m\u001b[0;34m=\u001b[0m\u001b[0mdfa2ndfa_e\u001b[0m\u001b[0;34m(\u001b[0m\u001b[0muno_ceros\u001b[0m\u001b[0;34m)\u001b[0m\u001b[0;34m\u001b[0m\u001b[0;34m\u001b[0m\u001b[0m\n\u001b[0m\u001b[1;32m     10\u001b[0m \u001b[0muno_ceros\u001b[0m\u001b[0;34m.\u001b[0m\u001b[0msave_img\u001b[0m\u001b[0;34m(\u001b[0m\u001b[0;34m\"uno_ceros\"\u001b[0m\u001b[0;34m)\u001b[0m\u001b[0;34m\u001b[0m\u001b[0;34m\u001b[0m\u001b[0m\n",
      "\u001b[0;32m~/projects/maquinas/maquinas/regular/reductions.py\u001b[0m in \u001b[0;36mdfa2ndfa_e\u001b[0;34m(dfa, rename, remove_sink)\u001b[0m\n\u001b[1;32m     89\u001b[0m             \u001b[0mna\u001b[0m \u001b[0;34m=\u001b[0m \u001b[0mna\u001b[0m \u001b[0;34m+\u001b[0m \u001b[0;36m1\u001b[0m\u001b[0;34m\u001b[0m\u001b[0;34m\u001b[0m\u001b[0m\n\u001b[1;32m     90\u001b[0m             \u001b[0;32mtry\u001b[0m\u001b[0;34m:\u001b[0m\u001b[0;34m\u001b[0m\u001b[0;34m\u001b[0m\u001b[0m\n\u001b[0;32m---> 91\u001b[0;31m                 \u001b[0mndfa_e\u001b[0m\u001b[0;34m.\u001b[0m\u001b[0mttable\u001b[0m\u001b[0;34m[\u001b[0m\u001b[0mnq_i\u001b[0m\u001b[0;34m]\u001b[0m\u001b[0;34m[\u001b[0m\u001b[0mna\u001b[0m\u001b[0;34m]\u001b[0m \u001b[0;34m=\u001b[0m \u001b[0mset\u001b[0m\u001b[0;34m(\u001b[0m\u001b[0mnq_f\u001b[0m\u001b[0;34m)\u001b[0m\u001b[0;34m\u001b[0m\u001b[0;34m\u001b[0m\u001b[0m\n\u001b[0m\u001b[1;32m     92\u001b[0m             \u001b[0;32mexcept\u001b[0m \u001b[0mKeyError\u001b[0m\u001b[0;34m:\u001b[0m\u001b[0;34m\u001b[0m\u001b[0;34m\u001b[0m\u001b[0m\n\u001b[1;32m     93\u001b[0m                 \u001b[0mndfa_e\u001b[0m\u001b[0;34m.\u001b[0m\u001b[0mttable\u001b[0m\u001b[0;34m[\u001b[0m\u001b[0mnq_i\u001b[0m\u001b[0;34m]\u001b[0m \u001b[0;34m=\u001b[0m \u001b[0;34m{\u001b[0m\u001b[0;34m}\u001b[0m\u001b[0;34m\u001b[0m\u001b[0;34m\u001b[0m\u001b[0m\n",
      "\u001b[0;31mTypeError\u001b[0m: 'int' object is not iterable"
     ]
    }
   ],
   "source": [
    "uno_ceros=DFA(Q=['q_0','q_1'],\n",
    "                         sigma=['0','1'],\n",
    "                         q_0='q_0',\n",
    "                         A=['q_1'],\n",
    "                         delta=[\n",
    "                            (('q_0','1'),'q_1'),\n",
    "                            (('q_1','0'),'q_1')\n",
    "                         ])\n",
    "uno_ceros=dfa2ndfa_e(uno_ceros)\n",
    "uno_ceros.save_img(\"uno_ceros\")"
   ]
  },
  {
   "cell_type": "code",
   "execution_count": 42,
   "metadata": {},
   "outputs": [
    {
     "ename": "AttributeError",
     "evalue": "'DeterministicFiniteAutomaton' object has no attribute 'union'",
     "output_type": "error",
     "traceback": [
      "\u001b[0;31m---------------------------------------------------------------------------\u001b[0m",
      "\u001b[0;31mAttributeError\u001b[0m                            Traceback (most recent call last)",
      "\u001b[0;32m<ipython-input-42-70b0223094ad>\u001b[0m in \u001b[0;36m<module>\u001b[0;34m\u001b[0m\n\u001b[0;32m----> 1\u001b[0;31m \u001b[0munion\u001b[0m\u001b[0;34m=\u001b[0m\u001b[0mceros_uno\u001b[0m\u001b[0;34m.\u001b[0m\u001b[0munion\u001b[0m\u001b[0;34m(\u001b[0m\u001b[0muno_ceros\u001b[0m\u001b[0;34m)\u001b[0m\u001b[0;34m\u001b[0m\u001b[0;34m\u001b[0m\u001b[0m\n\u001b[0m\u001b[1;32m      2\u001b[0m \u001b[0munion\u001b[0m\u001b[0;34m.\u001b[0m\u001b[0msave_img\u001b[0m\u001b[0;34m(\u001b[0m\u001b[0;34m'union'\u001b[0m\u001b[0;34m)\u001b[0m\u001b[0;34m\u001b[0m\u001b[0;34m\u001b[0m\u001b[0m\n",
      "\u001b[0;31mAttributeError\u001b[0m: 'DeterministicFiniteAutomaton' object has no attribute 'union'"
     ]
    }
   ],
   "source": [
    "union=ceros_uno.union(uno_ceros)\n",
    "union.save_img('union')"
   ]
  },
  {
   "cell_type": "code",
   "execution_count": 43,
   "metadata": {},
   "outputs": [
    {
     "ename": "AttributeError",
     "evalue": "'DeterministicFiniteAutomaton' object has no attribute 'concat'",
     "output_type": "error",
     "traceback": [
      "\u001b[0;31m---------------------------------------------------------------------------\u001b[0m",
      "\u001b[0;31mAttributeError\u001b[0m                            Traceback (most recent call last)",
      "\u001b[0;32m<ipython-input-43-e5013ff0765a>\u001b[0m in \u001b[0;36m<module>\u001b[0;34m\u001b[0m\n\u001b[0;32m----> 1\u001b[0;31m \u001b[0mconcat\u001b[0m\u001b[0;34m=\u001b[0m\u001b[0mceros_uno\u001b[0m\u001b[0;34m.\u001b[0m\u001b[0mconcat\u001b[0m\u001b[0;34m(\u001b[0m\u001b[0muno_ceros\u001b[0m\u001b[0;34m)\u001b[0m\u001b[0;34m\u001b[0m\u001b[0;34m\u001b[0m\u001b[0m\n\u001b[0m\u001b[1;32m      2\u001b[0m \u001b[0mconcat\u001b[0m\u001b[0;34m.\u001b[0m\u001b[0msave_img\u001b[0m\u001b[0;34m(\u001b[0m\u001b[0;34m'concat'\u001b[0m\u001b[0;34m)\u001b[0m\u001b[0;34m\u001b[0m\u001b[0;34m\u001b[0m\u001b[0m\n",
      "\u001b[0;31mAttributeError\u001b[0m: 'DeterministicFiniteAutomaton' object has no attribute 'concat'"
     ]
    }
   ],
   "source": [
    "concat=ceros_uno.concat(uno_ceros)\n",
    "concat.save_img('concat')"
   ]
  },
  {
   "cell_type": "code",
   "execution_count": null,
   "metadata": {},
   "outputs": [],
   "source": [
    "kleene=ceros_uno.kleene()\n",
    "kleene.save_img(\"cerradura\")"
   ]
  },
  {
   "cell_type": "code",
   "execution_count": null,
   "metadata": {},
   "outputs": [],
   "source": [
    "from maquinas.regular.RE import RE\n",
    "reg = RE('(a*ba*ba*)*+a*')\n",
    "reg=reg.ndfa_e()"
   ]
  },
  {
   "cell_type": "code",
   "execution_count": null,
   "metadata": {},
   "outputs": [],
   "source": [
    "reg.save_img(\"reg\")"
   ]
  },
  {
   "cell_type": "code",
   "execution_count": null,
   "metadata": {},
   "outputs": [],
   "source": [
    "reg_a = RE('a')\n",
    "reg_a=reg_a.ndfa_e()\n",
    "reg_a.save_img(\"reg_a\")"
   ]
  },
  {
   "cell_type": "code",
   "execution_count": null,
   "metadata": {},
   "outputs": [],
   "source": [
    "reg_a = RE('a*')\n",
    "reg_a=reg_a.ndfa_e()\n",
    "reg_a.save_img(\"reg_a_klene\")"
   ]
  },
  {
   "cell_type": "code",
   "execution_count": null,
   "metadata": {},
   "outputs": [],
   "source": [
    "reg_a_b = RE('a*b')\n",
    "reg_a_b=reg_a_b.ndfa_e()\n",
    "reg_a_b.save_img(\"reg_a_b_klene\")"
   ]
  }
 ],
 "metadata": {
  "kernelspec": {
   "display_name": "Python 3",
   "language": "python",
   "name": "python3"
  },
  "language_info": {
   "codemirror_mode": {
    "name": "ipython",
    "version": 3
   },
   "file_extension": ".py",
   "mimetype": "text/x-python",
   "name": "python",
   "nbconvert_exporter": "python",
   "pygments_lexer": "ipython3",
   "version": "3.6.8"
  }
 },
 "nbformat": 4,
 "nbformat_minor": 2
}
