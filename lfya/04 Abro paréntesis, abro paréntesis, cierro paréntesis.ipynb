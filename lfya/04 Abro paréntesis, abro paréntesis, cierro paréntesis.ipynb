{
 "cells": [
  {
   "cell_type": "markdown",
   "metadata": {},
   "source": [
    "[![Open In Colab](https://colab.research.google.com/assets/colab-badge.svg)](https://colab.research.google.com/github/ivanvladimir/maquinas_notebooks/blob/main/lfya/04%20Abro%20par%C3%A9ntesis%2C%20abro%20par%C3%A9ntesis%2C%20cierro%20par%C3%A9ntesis.ipynb)"
   ]
  },
  {
   "cell_type": "code",
   "execution_count": null,
   "metadata": {},
   "outputs": [],
   "source": [
    "# Execute if not installes\n",
    "!pip install maquinas"
   ]
  },
  {
   "cell_type": "code",
   "execution_count": null,
   "metadata": {},
   "outputs": [],
   "source": [
    "from maquinas.contextfree.cfg import ContextFreeGrammar as CFG\n",
    "from maquinas.parser.earley_parser import print_chart, chart2table"
   ]
  },
  {
   "cell_type": "code",
   "execution_count": null,
   "metadata": {},
   "outputs": [],
   "source": [
    "aⁿbⁿ=CFG(\"S->aSb; S-> epsilon;\")"
   ]
  },
  {
   "cell_type": "code",
   "execution_count": null,
   "metadata": {},
   "outputs": [],
   "source": [
    "print(aⁿbⁿ.summary())"
   ]
  },
  {
   "cell_type": "code",
   "execution_count": null,
   "metadata": {},
   "outputs": [],
   "source": [
    "roots,chart,forest=aⁿbⁿ.parse('aaaabbbb')\n",
    "trees=aⁿbⁿ.extract_trees(forest)\n",
    "for i,step in enumerate(aⁿbⁿ.derivation(list(trees)[0])):\n",
    "    if not i:\n",
    "        print(\"\".join(step),end=\"\")\n",
    "    else:\n",
    "        print(\" ⇒ \",\"\".join(step),end=\"\\n \")"
   ]
  },
  {
   "cell_type": "code",
   "execution_count": null,
   "metadata": {},
   "outputs": [],
   "source": [
    "for i in range(11):\n",
    "    a='a'*i\n",
    "    b='b'*i\n",
    "    ab=a+b\n",
    "    print(\"Derivation: \",ab)\n",
    "    if len(ab)==0:\n",
    "        ab=\"\"\n",
    "    roots,chart,forest=aⁿbⁿ.parse(ab)\n",
    "    trees=aⁿbⁿ.extract_trees(forest)\n",
    "    for i,step in enumerate(aⁿbⁿ.derivation(list(trees)[0])):\n",
    "        if not i:\n",
    "            print(\"\".join(step),end=\"\")\n",
    "        else:\n",
    "            print(\" ⇒ \",\"\".join(step),end=\"\\n \")   "
   ]
  },
  {
   "cell_type": "code",
   "execution_count": null,
   "metadata": {},
   "outputs": [],
   "source": [
    "roots,chart,forest=aⁿbⁿ.parse(\"aaabbb\")\n",
    "trees=aⁿbⁿ.extract_trees(forest)\n",
    "aⁿbⁿ.save_trees_img(trees,filename='arbol_aaabbb.png')"
   ]
  },
  {
   "cell_type": "code",
   "execution_count": null,
   "metadata": {},
   "outputs": [],
   "source": [
    "re=CFG('R->B; R-> R \"+\" R; R -> R \"*\"; R-> RR; R->(R); B-> a; B -> b; B -> \"ϵ\"; B -> \"∅\"')"
   ]
  },
  {
   "cell_type": "code",
   "execution_count": null,
   "metadata": {},
   "outputs": [],
   "source": [
    "print(re.summary())"
   ]
  },
  {
   "cell_type": "code",
   "execution_count": null,
   "metadata": {},
   "outputs": [],
   "source": [
    "roots,chart,forest=re.parse('(a*ba*ba*)*')\n",
    "trees=list(re.extract_trees(forest))\n",
    "for i,step in enumerate(re.derivation(trees[0])):\n",
    "    if not i:\n",
    "        print(\"\".join(step),end=\"\")\n",
    "    else:\n",
    "        print(\" ⇒ \",\"\".join(step),end=\"\\n \")"
   ]
  },
  {
   "cell_type": "code",
   "execution_count": null,
   "metadata": {},
   "outputs": [],
   "source": [
    "re.save_trees_img(trees,filename='arboles_re')"
   ]
  },
  {
   "cell_type": "code",
   "execution_count": null,
   "metadata": {},
   "outputs": [],
   "source": [
    "re.save_trees_img([trees[0]],filename=f'arbol_re') "
   ]
  },
  {
   "cell_type": "code",
   "execution_count": null,
   "metadata": {},
   "outputs": [],
   "source": [
    "print(\"Total number of trees\",len(trees))"
   ]
  }
 ],
 "metadata": {
  "kernelspec": {
   "display_name": "Python 3",
   "language": "python",
   "name": "python3"
  },
  "language_info": {
   "codemirror_mode": {
    "name": "ipython",
    "version": 3
   },
   "file_extension": ".py",
   "mimetype": "text/x-python",
   "name": "python",
   "nbconvert_exporter": "python",
   "pygments_lexer": "ipython3",
   "version": "3.6.8"
  }
 },
 "nbformat": 4,
 "nbformat_minor": 2
}
