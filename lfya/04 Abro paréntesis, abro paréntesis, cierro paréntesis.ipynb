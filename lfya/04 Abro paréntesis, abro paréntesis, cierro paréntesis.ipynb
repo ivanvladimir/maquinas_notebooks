{
 "cells": [
  {
   "cell_type": "markdown",
   "metadata": {},
   "source": [
    "[![Open In Colab](https://colab.research.google.com/assets/colab-badge.svg)](https://colab.research.google.com/github/ivanvladimir/maquinas_notebooks/blob/main/lfya/04%20Abro%20par%C3%A9ntesis%2C%20abro%20par%C3%A9ntesis%2C%20cierro%20par%C3%A9ntesis.ipynb)"
   ]
  },
  {
   "cell_type": "markdown",
   "metadata": {},
   "source": [
    "## 00 Instalando la librería \n",
    "\n",
    "Se instala la librería [maquinas](https://pypi.org/project/maquinas/)\n",
    "\n",
    "**Requerido en colab**, _opcional en ambiente local a través de jupyter_"
   ]
  },
  {
   "cell_type": "code",
   "execution_count": null,
   "metadata": {},
   "outputs": [],
   "source": [
    "# Execute if not installes\n",
    "!pip install maquinas"
   ]
  },
  {
   "cell_type": "markdown",
   "metadata": {},
   "source": [
    "### 01 Importar módulo para cargar gramáticas libres de contexto y funciones auxiliares\n",
    "\n",
    "Existen dos elemento: _load_fa_, _las reducciones_, el proceso de _minimización_, _RE_ y _Simulation_ (en este momento _Simulación_ sólo puede ir hacia adelante)"
   ]
  },
  {
   "cell_type": "code",
   "execution_count": null,
   "metadata": {},
   "outputs": [],
   "source": [
    "from maquinas.contextfree.cfg import ContextFreeGrammar as CFG\n",
    "from maquinas.parser.earley_parser import print_chart, chart2table"
   ]
  },
  {
   "cell_type": "markdown",
   "metadata": {},
   "source": [
    "## 02 Gramática libres de contexto\n",
    "\n",
    "Para crear una gramática se puede crear directamente desde la clase _ContextFreeGrammar_"
   ]
  },
  {
   "cell_type": "code",
   "execution_count": null,
   "metadata": {},
   "outputs": [],
   "source": [
    "aⁿbⁿ=CFG(\"S->aSb; S-> epsilon;\")\n",
    "aⁿbⁿ.print_summary()"
   ]
  },
  {
   "cell_type": "markdown",
   "metadata": {},
   "source": [
    "### 02.a \"Parseo\" análisis de una cadena\n",
    "\n",
    "Para analizar una cadena _w_, se le usa el método de _parse_; y regresa tres objetos:\n",
    "    \n",
    "    * roots, los símbolos iniciales \n",
    "    * chart, el _chart parser_ del proceso de análisis de la cadena\n",
    "    * forest, los áboles con nodos compartidos _tree_\n",
    "    \n",
    "Para extraer los árboles se hace con la función _extract_tree_; y regresa un iterator sobre los árboles. Para producir la derivación, paso a paso, es posible extraerla con la función _derivación_;"
   ]
  },
  {
   "cell_type": "code",
   "execution_count": null,
   "metadata": {},
   "outputs": [],
   "source": [
    "roots,chart,forest=aⁿbⁿ.parse('aaaabbbb')\n",
    "trees=aⁿbⁿ.extract_trees(forest)\n",
    "tree=list(trees)[0]\n",
    "for i,step in enumerate(aⁿbⁿ.derivation(tree)):\n",
    "    if not i:\n",
    "        print(\"\".join(step),end=\"\")\n",
    "    else:\n",
    "        print(\" ⇒ \",\"\".join(step),end=\"\\n \")"
   ]
  },
  {
   "cell_type": "code",
   "execution_count": null,
   "metadata": {},
   "outputs": [],
   "source": [
    "aⁿbⁿ.graph_tree(tree)"
   ]
  },
  {
   "cell_type": "code",
   "execution_count": null,
   "metadata": {},
   "outputs": [],
   "source": [
    "for i in range(11):\n",
    "    a='a'*i\n",
    "    b='b'*i\n",
    "    ab=a+b\n",
    "    print(\"Derivation: \",ab)\n",
    "    if len(ab)==0:\n",
    "        ab=\"\"\n",
    "    roots,chart,forest=aⁿbⁿ.parse(ab)\n",
    "    trees=aⁿbⁿ.extract_trees(forest)\n",
    "    for i,step in enumerate(aⁿbⁿ.derivation(list(trees)[0])):\n",
    "        if not i:\n",
    "            print(\"\".join(step),end=\"\")\n",
    "        else:\n",
    "            print(\" ⇒ \",\"\".join(step),end=\"\\n \")   "
   ]
  },
  {
   "cell_type": "code",
   "execution_count": null,
   "metadata": {},
   "outputs": [],
   "source": [
    "roots,chart,forest=aⁿbⁿ.parse(\"aaaaabbbbb\")\n",
    "trees=aⁿbⁿ.extract_trees(forest)\n",
    "aⁿbⁿ.graph_trees(trees)"
   ]
  },
  {
   "cell_type": "markdown",
   "metadata": {},
   "source": [
    "### 2.b Creando una gramática para cadenas que representen expresiones regulares\n",
    "\n",
    "La siguiente gramática representa a ER para el alfabeto \n",
    "\n",
    "$$\\Sigma=\\{a,b\\}$$"
   ]
  },
  {
   "cell_type": "code",
   "execution_count": null,
   "metadata": {},
   "outputs": [],
   "source": [
    "re=CFG('R->B; R-> R \"+\" R; R -> R \"*\"; R-> RR; R->(R); B-> a; B -> b; B -> \"ϵ\"; B -> \"∅\"')\n",
    "print(re.summary())"
   ]
  },
  {
   "cell_type": "code",
   "execution_count": null,
   "metadata": {},
   "outputs": [],
   "source": [
    "roots,chart,forest=re.parse('(a*ba*ba*)*')\n",
    "trees=list(re.extract_trees(forest))\n",
    "for i,step in enumerate(re.derivation(trees[0])):\n",
    "    if not i:\n",
    "        print(\"\".join(step),end=\"\")\n",
    "    else:\n",
    "        print(\" ⇒ \",\"\".join(step),end=\"\\n \")"
   ]
  },
  {
   "cell_type": "code",
   "execution_count": null,
   "metadata": {},
   "outputs": [],
   "source": [
    "re.graph_trees(trees)"
   ]
  },
  {
   "cell_type": "code",
   "execution_count": null,
   "metadata": {},
   "outputs": [],
   "source": [
    "re.graph_tree(trees[0])"
   ]
  },
  {
   "cell_type": "code",
   "execution_count": null,
   "metadata": {},
   "outputs": [],
   "source": [
    "print(\"Total number of trees\",len(trees))"
   ]
  }
 ],
 "metadata": {
  "kernelspec": {
   "display_name": "Python 3 (ipykernel)",
   "language": "python",
   "name": "python3"
  },
  "language_info": {
   "codemirror_mode": {
    "name": "ipython",
    "version": 3
   },
   "file_extension": ".py",
   "mimetype": "text/x-python",
   "name": "python",
   "nbconvert_exporter": "python",
   "pygments_lexer": "ipython3",
   "version": "3.8.10"
  }
 },
 "nbformat": 4,
 "nbformat_minor": 4
}
