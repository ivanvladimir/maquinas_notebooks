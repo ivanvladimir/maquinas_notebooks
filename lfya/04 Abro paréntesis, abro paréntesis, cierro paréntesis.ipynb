{
 "cells": [
  {
   "cell_type": "markdown",
   "metadata": {},
   "source": [
    "[![Open In Colab](https://colab.research.google.com/assets/colab-badge.svg)](https://colab.research.google.com/github/ivanvladimir/maquinas_notebooks/blob/main/lfya/04%20Abro%20par%C3%A9ntesis%2C%20abro%20par%C3%A9ntesis%2C%20cierro%20par%C3%A9ntesis.ipynb)\n",
    "\n",
    "\n",
    "# 04 Abro paréntesis, abro paréntesis, cierro paréntesis\n",
    "\n",
    "Esta notebook ilustra los conceptos de [**abro paréntesis, abro paréntesis, cierro paréntesis**](04 Abro paréntesis, abro paréntesis, cierro paréntesis) correspondiente al curso de [**Lenguajes Formales y Autómatas**](https://turing.iimas.unam.mx/~ivanvladimir/page/curso_lfya/)\n",
    "\n",
    "\n",
    "## Instrucciones\n",
    "\n",
    "1. Si la librería [**maquinas**](https://pypi.org/project/maquinas/) no está instalada ejecutar la celdas correspondiente a la sección marcada con ◉\n",
    "2. Importar los módulos de librería relevantes\n",
    "3. Ejecuar las celdas para explorar los conceptos\n",
    "\n",
    "\n",
    "## Licencia de la notebook\n",
    "\n",
    "<a rel=\"license\" href=\"http://creativecommons.org/licenses/by/4.0/\"><img alt=\"Creative Commons License\" style=\"border-width:0\" src=\"https://i.creativecommons.org/l/by/4.0/80x15.png\" /></a>\n",
    "</br>This work is licensed under a <a rel=\"license\" href=\"http://creativecommons.org/licenses/by/4.0/\">Creative Commons Attribution 4.0 International License</a>.\n",
    "\n",
    "## General information\n",
    "\n",
    "> **Author(s)**: <a href=\"https://twitter.com/ivanvladimir\">@ivanvladimir</a></br>\n",
    "> **Last updated**: 24/01/2023"
   ]
  },
  {
   "cell_type": "markdown",
   "metadata": {},
   "source": [
    "## 00 Instalando la librería \n",
    "\n",
    "Se instala la librería [maquinas](https://pypi.org/project/maquinas/)\n",
    "\n",
    "**Requerido en colab**, _opcional en ambiente local a través de jupyter_"
   ]
  },
  {
   "cell_type": "code",
   "execution_count": null,
   "metadata": {},
   "outputs": [],
   "source": [
    "# Execute if not installes\n",
    "!pip install maquinas --upgrade"
   ]
  },
  {
   "cell_type": "markdown",
   "metadata": {},
   "source": [
    "### 01 Importar módulo para cargar gramáticas libres de contexto y funciones auxiliares\n",
    "\n",
    "Existen dos elemento: _load_fa_, _las reducciones_, el proceso de _minimización_, _RE_ y _Simulation_ (en este momento _Simulación_ sólo puede ir hacia adelante)"
   ]
  },
  {
   "cell_type": "code",
   "execution_count": null,
   "metadata": {},
   "outputs": [],
   "source": [
    "from maquinas.contextfree.cfg import ContextFreeGrammar as CFG\n",
    "from maquinas.parser.earley_parser import print_chart, chart2table"
   ]
  },
  {
   "cell_type": "markdown",
   "metadata": {},
   "source": [
    "## 02 Gramática libres de contexto\n",
    "\n",
    "Para crear una gramática se puede crear directamente desde la clase _ContextFreeGrammar_"
   ]
  },
  {
   "cell_type": "code",
   "execution_count": null,
   "metadata": {},
   "outputs": [],
   "source": [
    "aⁿbⁿ=CFG(\"S->aSb; S-> epsilon;\")\n",
    "aⁿbⁿ.print_summary()"
   ]
  },
  {
   "cell_type": "markdown",
   "metadata": {},
   "source": [
    "### 02.a \"Parseo\" análisis de una cadena\n",
    "\n",
    "Para analizar una cadena _w_, se le usa el método de _parse_; y regresa tres objetos:\n",
    "    \n",
    "    * roots, los símbolos iniciales \n",
    "    * chart, el _chart parser_ del proceso de análisis de la cadena\n",
    "    * forest, los áboles con nodos compartidos _tree_\n",
    "    \n",
    "Para extraer los árboles se hace con la función _extract_tree_; y regresa un iterator sobre los árboles. Para producir la derivación, paso a paso, es posible extraerla con la función _derivación_;"
   ]
  },
  {
   "cell_type": "code",
   "execution_count": null,
   "metadata": {},
   "outputs": [],
   "source": [
    "# Analysis de cadena\n",
    "roots,chart,forest=aⁿbⁿ.parse('aaaabbbb')\n",
    "# Extrae árboles\n",
    "trees=aⁿbⁿ.extract_trees(forest)\n",
    "# Identifica el primer arból\n",
    "tree=list(trees)[0]\n",
    "for i,step in enumerate(aⁿbⁿ.derivation(tree)):\n",
    "    if not i:\n",
    "        print(\"\".join(step),end=\"\")\n",
    "    else:\n",
    "        print(\" ⇒ \",\"\".join(step),end=\"\\n \")"
   ]
  },
  {
   "cell_type": "code",
   "execution_count": null,
   "metadata": {},
   "outputs": [],
   "source": [
    "aⁿbⁿ.graph_tree(tree)"
   ]
  },
  {
   "cell_type": "code",
   "execution_count": null,
   "metadata": {},
   "outputs": [],
   "source": [
    "for i in range(11):\n",
    "    a='a'*i\n",
    "    b='b'*i\n",
    "    ab=a+b\n",
    "    print(\"Derivation: \",ab)\n",
    "    if len(ab)==0:\n",
    "        ab=\"\"\n",
    "    roots,chart,forest=aⁿbⁿ.parse(ab)\n",
    "    trees=aⁿbⁿ.extract_trees(forest)\n",
    "    for i,step in enumerate(aⁿbⁿ.derivation(list(trees)[0])):\n",
    "        if not i:\n",
    "            print(\"\".join(step),end=\"\")\n",
    "        else:\n",
    "            print(\" ⇒ \",\"\".join(step),end=\"\\n \")   "
   ]
  },
  {
   "cell_type": "code",
   "execution_count": null,
   "metadata": {},
   "outputs": [],
   "source": [
    "roots,chart,forest=aⁿbⁿ.parse(\"aaaaabbbbb\")\n",
    "trees=aⁿbⁿ.extract_trees(forest)\n",
    "aⁿbⁿ.graph_trees(trees)"
   ]
  },
  {
   "cell_type": "markdown",
   "metadata": {},
   "source": [
    "### 2.b Creando una gramática para cadenas que representen expresiones regulares\n",
    "\n",
    "La siguiente gramática representa a ER para el alfabeto \n",
    "\n",
    "$$\\Sigma=\\{a,b\\}$$"
   ]
  },
  {
   "cell_type": "code",
   "execution_count": null,
   "metadata": {},
   "outputs": [],
   "source": [
    "re=CFG('R->B; R-> R \"+\" R; R -> R \"*\"; R-> RR; R->(R); B-> a; B -> b; B -> \"ϵ\"; B -> \"∅\"')\n",
    "print(re.summary())"
   ]
  },
  {
   "cell_type": "code",
   "execution_count": null,
   "metadata": {},
   "outputs": [],
   "source": [
    "roots,chart,forest=re.parse('(a*ba*ba*)*')\n",
    "trees=list(re.extract_trees(forest))\n",
    "for i,step in enumerate(re.derivation(trees[0])):\n",
    "    if not i:\n",
    "        print(\"\".join(step),end=\"\")\n",
    "    else:\n",
    "        print(\" ⇒ \",\"\".join(step),end=\"\\n \")"
   ]
  },
  {
   "cell_type": "code",
   "execution_count": null,
   "metadata": {},
   "outputs": [],
   "source": [
    "re.graph_trees(trees)"
   ]
  },
  {
   "cell_type": "code",
   "execution_count": null,
   "metadata": {},
   "outputs": [],
   "source": [
    "re.graph_tree(trees[0])"
   ]
  },
  {
   "cell_type": "code",
   "execution_count": null,
   "metadata": {},
   "outputs": [],
   "source": [
    "print(\"Total number of trees\",len(trees))"
   ]
  }
 ],
 "metadata": {
  "kernelspec": {
   "display_name": "Python 3 (ipykernel)",
   "language": "python",
   "name": "python3"
  },
  "language_info": {
   "codemirror_mode": {
    "name": "ipython",
    "version": 3
   },
   "file_extension": ".py",
   "mimetype": "text/x-python",
   "name": "python",
   "nbconvert_exporter": "python",
   "pygments_lexer": "ipython3",
   "version": "3.8.10"
  }
 },
 "nbformat": 4,
 "nbformat_minor": 4
}
