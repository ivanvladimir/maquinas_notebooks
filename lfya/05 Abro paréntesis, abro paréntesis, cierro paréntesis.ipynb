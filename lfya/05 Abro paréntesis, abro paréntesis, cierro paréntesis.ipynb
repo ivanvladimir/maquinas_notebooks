{
 "cells": [
  {
   "cell_type": "code",
   "execution_count": 1,
   "metadata": {},
   "outputs": [],
   "source": [
    "import os\n",
    "import sys"
   ]
  },
  {
   "cell_type": "code",
   "execution_count": 2,
   "metadata": {},
   "outputs": [],
   "source": [
    "from maquinas.contextfree.cfg import ContextFreeGrammar as CFG\n",
    "from maquinas.parser.earley_parser import print_chart, chart2table"
   ]
  },
  {
   "cell_type": "code",
   "execution_count": 3,
   "metadata": {},
   "outputs": [],
   "source": [
    "aⁿbⁿ=CFG(\"S->aSb; S-> epsilon;\")"
   ]
  },
  {
   "cell_type": "code",
   "execution_count": 4,
   "metadata": {},
   "outputs": [
    {
     "name": "stdout",
     "output_type": "stream",
     "text": [
      "No terminal : S\n",
      "Terminals   : b, a\n",
      "Start       : S\n",
      "Productions :\n",
      " S → aSb | ε\n"
     ]
    }
   ],
   "source": [
    "print(aⁿbⁿ.summary())"
   ]
  },
  {
   "cell_type": "code",
   "execution_count": 5,
   "metadata": {},
   "outputs": [
    {
     "name": "stdout",
     "output_type": "stream",
     "text": [
      "S ⇒  aSb\n",
      "  ⇒  aSb\n",
      "  ⇒  aaSbb\n",
      "  ⇒  aaSbb\n",
      "  ⇒  aaaSbbb\n",
      "  ⇒  aaaSbbb\n",
      "  ⇒  aaaaSbbbb\n",
      "  ⇒  aaaaSbbbb\n",
      "  ⇒  aaaaεbbbb\n",
      "  ⇒  aaaaεbbbb\n",
      "  ⇒  aaaaεbbbb\n",
      "  ⇒  aaaaεbbbb\n",
      "  ⇒  aaaaεbbbb\n",
      "  ⇒  aaaaεbbbb\n",
      " "
     ]
    }
   ],
   "source": [
    "roots,chart,forest=aⁿbⁿ.parse('aaaabbbb')\n",
    "trees=aⁿbⁿ.extract_trees(forest)\n",
    "for i,step in enumerate(aⁿbⁿ.derivation(list(trees)[0])):\n",
    "    if not i:\n",
    "        print(\"\".join(step),end=\"\")\n",
    "    else:\n",
    "        print(\" ⇒ \",\"\".join(step),end=\"\\n \")"
   ]
  },
  {
   "cell_type": "code",
   "execution_count": 6,
   "metadata": {},
   "outputs": [
    {
     "name": "stdout",
     "output_type": "stream",
     "text": [
      "Derivation:  \n",
      "S ⇒  ε\n",
      "  ⇒  ε\n",
      " Derivation:  ab\n",
      "S ⇒  aSb\n",
      "  ⇒  aSb\n",
      "  ⇒  aεb\n",
      "  ⇒  aεb\n",
      "  ⇒  aεb\n",
      " Derivation:  aabb\n",
      "S ⇒  aSb\n",
      "  ⇒  aSb\n",
      "  ⇒  aaSbb\n",
      "  ⇒  aaSbb\n",
      "  ⇒  aaεbb\n",
      "  ⇒  aaεbb\n",
      "  ⇒  aaεbb\n",
      "  ⇒  aaεbb\n",
      " Derivation:  aaabbb\n",
      "S ⇒  aSb\n",
      "  ⇒  aSb\n",
      "  ⇒  aaSbb\n",
      "  ⇒  aaSbb\n",
      "  ⇒  aaaSbbb\n",
      "  ⇒  aaaSbbb\n",
      "  ⇒  aaaεbbb\n",
      "  ⇒  aaaεbbb\n",
      "  ⇒  aaaεbbb\n",
      "  ⇒  aaaεbbb\n",
      "  ⇒  aaaεbbb\n",
      " Derivation:  aaaabbbb\n",
      "S ⇒  aSb\n",
      "  ⇒  aSb\n",
      "  ⇒  aaSbb\n",
      "  ⇒  aaSbb\n",
      "  ⇒  aaaSbbb\n",
      "  ⇒  aaaSbbb\n",
      "  ⇒  aaaaSbbbb\n",
      "  ⇒  aaaaSbbbb\n",
      "  ⇒  aaaaεbbbb\n",
      "  ⇒  aaaaεbbbb\n",
      "  ⇒  aaaaεbbbb\n",
      "  ⇒  aaaaεbbbb\n",
      "  ⇒  aaaaεbbbb\n",
      "  ⇒  aaaaεbbbb\n",
      " Derivation:  aaaaabbbbb\n",
      "S ⇒  aSb\n",
      "  ⇒  aSb\n",
      "  ⇒  aaSbb\n",
      "  ⇒  aaSbb\n",
      "  ⇒  aaaSbbb\n",
      "  ⇒  aaaSbbb\n",
      "  ⇒  aaaaSbbbb\n",
      "  ⇒  aaaaSbbbb\n",
      "  ⇒  aaaaaSbbbbb\n",
      "  ⇒  aaaaaSbbbbb\n",
      "  ⇒  aaaaaεbbbbb\n",
      "  ⇒  aaaaaεbbbbb\n",
      "  ⇒  aaaaaεbbbbb\n",
      "  ⇒  aaaaaεbbbbb\n",
      "  ⇒  aaaaaεbbbbb\n",
      "  ⇒  aaaaaεbbbbb\n",
      "  ⇒  aaaaaεbbbbb\n",
      " Derivation:  aaaaaabbbbbb\n",
      "S ⇒  aSb\n",
      "  ⇒  aSb\n",
      "  ⇒  aaSbb\n",
      "  ⇒  aaSbb\n",
      "  ⇒  aaaSbbb\n",
      "  ⇒  aaaSbbb\n",
      "  ⇒  aaaaSbbbb\n",
      "  ⇒  aaaaSbbbb\n",
      "  ⇒  aaaaaSbbbbb\n",
      "  ⇒  aaaaaSbbbbb\n",
      "  ⇒  aaaaaaSbbbbbb\n",
      "  ⇒  aaaaaaSbbbbbb\n",
      "  ⇒  aaaaaaεbbbbbb\n",
      "  ⇒  aaaaaaεbbbbbb\n",
      "  ⇒  aaaaaaεbbbbbb\n",
      "  ⇒  aaaaaaεbbbbbb\n",
      "  ⇒  aaaaaaεbbbbbb\n",
      "  ⇒  aaaaaaεbbbbbb\n",
      "  ⇒  aaaaaaεbbbbbb\n",
      "  ⇒  aaaaaaεbbbbbb\n",
      " Derivation:  aaaaaaabbbbbbb\n",
      "S ⇒  aSb\n",
      "  ⇒  aSb\n",
      "  ⇒  aaSbb\n",
      "  ⇒  aaSbb\n",
      "  ⇒  aaaSbbb\n",
      "  ⇒  aaaSbbb\n",
      "  ⇒  aaaaSbbbb\n",
      "  ⇒  aaaaSbbbb\n",
      "  ⇒  aaaaaSbbbbb\n",
      "  ⇒  aaaaaSbbbbb\n",
      "  ⇒  aaaaaaSbbbbbb\n",
      "  ⇒  aaaaaaSbbbbbb\n",
      "  ⇒  aaaaaaaSbbbbbbb\n",
      "  ⇒  aaaaaaaSbbbbbbb\n",
      "  ⇒  aaaaaaaεbbbbbbb\n",
      "  ⇒  aaaaaaaεbbbbbbb\n",
      "  ⇒  aaaaaaaεbbbbbbb\n",
      "  ⇒  aaaaaaaεbbbbbbb\n",
      "  ⇒  aaaaaaaεbbbbbbb\n",
      "  ⇒  aaaaaaaεbbbbbbb\n",
      "  ⇒  aaaaaaaεbbbbbbb\n",
      "  ⇒  aaaaaaaεbbbbbbb\n",
      "  ⇒  aaaaaaaεbbbbbbb\n",
      " Derivation:  aaaaaaaabbbbbbbb\n",
      "S ⇒  aSb\n",
      "  ⇒  aSb\n",
      "  ⇒  aaSbb\n",
      "  ⇒  aaSbb\n",
      "  ⇒  aaaSbbb\n",
      "  ⇒  aaaSbbb\n",
      "  ⇒  aaaaSbbbb\n",
      "  ⇒  aaaaSbbbb\n",
      "  ⇒  aaaaaSbbbbb\n",
      "  ⇒  aaaaaSbbbbb\n",
      "  ⇒  aaaaaaSbbbbbb\n",
      "  ⇒  aaaaaaSbbbbbb\n",
      "  ⇒  aaaaaaaSbbbbbbb\n",
      "  ⇒  aaaaaaaSbbbbbbb\n",
      "  ⇒  aaaaaaaaSbbbbbbbb\n",
      "  ⇒  aaaaaaaaSbbbbbbbb\n",
      "  ⇒  aaaaaaaaεbbbbbbbb\n",
      "  ⇒  aaaaaaaaεbbbbbbbb\n",
      "  ⇒  aaaaaaaaεbbbbbbbb\n",
      "  ⇒  aaaaaaaaεbbbbbbbb\n",
      "  ⇒  aaaaaaaaεbbbbbbbb\n",
      "  ⇒  aaaaaaaaεbbbbbbbb\n",
      "  ⇒  aaaaaaaaεbbbbbbbb\n",
      "  ⇒  aaaaaaaaεbbbbbbbb\n",
      "  ⇒  aaaaaaaaεbbbbbbbb\n",
      "  ⇒  aaaaaaaaεbbbbbbbb\n",
      " Derivation:  aaaaaaaaabbbbbbbbb\n",
      "S ⇒  aSb\n",
      "  ⇒  aSb\n",
      "  ⇒  aaSbb\n",
      "  ⇒  aaSbb\n",
      "  ⇒  aaaSbbb\n",
      "  ⇒  aaaSbbb\n",
      "  ⇒  aaaaSbbbb\n",
      "  ⇒  aaaaSbbbb\n",
      "  ⇒  aaaaaSbbbbb\n",
      "  ⇒  aaaaaSbbbbb\n",
      "  ⇒  aaaaaaSbbbbbb\n",
      "  ⇒  aaaaaaSbbbbbb\n",
      "  ⇒  aaaaaaaSbbbbbbb\n",
      "  ⇒  aaaaaaaSbbbbbbb\n",
      "  ⇒  aaaaaaaaSbbbbbbbb\n",
      "  ⇒  aaaaaaaaSbbbbbbbb\n",
      "  ⇒  aaaaaaaaaSbbbbbbbbb\n",
      "  ⇒  aaaaaaaaaSbbbbbbbbb\n",
      "  ⇒  aaaaaaaaaεbbbbbbbbb\n",
      "  ⇒  aaaaaaaaaεbbbbbbbbb\n",
      "  ⇒  aaaaaaaaaεbbbbbbbbb\n",
      "  ⇒  aaaaaaaaaεbbbbbbbbb\n",
      "  ⇒  aaaaaaaaaεbbbbbbbbb\n",
      "  ⇒  aaaaaaaaaεbbbbbbbbb\n",
      "  ⇒  aaaaaaaaaεbbbbbbbbb\n",
      "  ⇒  aaaaaaaaaεbbbbbbbbb\n",
      "  ⇒  aaaaaaaaaεbbbbbbbbb\n",
      "  ⇒  aaaaaaaaaεbbbbbbbbb\n",
      "  ⇒  aaaaaaaaaεbbbbbbbbb\n",
      " Derivation:  aaaaaaaaaabbbbbbbbbb\n",
      "S ⇒  aSb\n",
      "  ⇒  aSb\n",
      "  ⇒  aaSbb\n",
      "  ⇒  aaSbb\n",
      "  ⇒  aaaSbbb\n",
      "  ⇒  aaaSbbb\n",
      "  ⇒  aaaaSbbbb\n",
      "  ⇒  aaaaSbbbb\n",
      "  ⇒  aaaaaSbbbbb\n",
      "  ⇒  aaaaaSbbbbb\n",
      "  ⇒  aaaaaaSbbbbbb\n",
      "  ⇒  aaaaaaSbbbbbb\n",
      "  ⇒  aaaaaaaSbbbbbbb\n",
      "  ⇒  aaaaaaaSbbbbbbb\n",
      "  ⇒  aaaaaaaaSbbbbbbbb\n",
      "  ⇒  aaaaaaaaSbbbbbbbb\n",
      "  ⇒  aaaaaaaaaSbbbbbbbbb\n",
      "  ⇒  aaaaaaaaaSbbbbbbbbb\n",
      "  ⇒  aaaaaaaaaaSbbbbbbbbbb\n",
      "  ⇒  aaaaaaaaaaSbbbbbbbbbb\n",
      "  ⇒  aaaaaaaaaaεbbbbbbbbbb\n",
      "  ⇒  aaaaaaaaaaεbbbbbbbbbb\n",
      "  ⇒  aaaaaaaaaaεbbbbbbbbbb\n",
      "  ⇒  aaaaaaaaaaεbbbbbbbbbb\n",
      "  ⇒  aaaaaaaaaaεbbbbbbbbbb\n",
      "  ⇒  aaaaaaaaaaεbbbbbbbbbb\n",
      "  ⇒  aaaaaaaaaaεbbbbbbbbbb\n",
      "  ⇒  aaaaaaaaaaεbbbbbbbbbb\n",
      "  ⇒  aaaaaaaaaaεbbbbbbbbbb\n",
      "  ⇒  aaaaaaaaaaεbbbbbbbbbb\n",
      "  ⇒  aaaaaaaaaaεbbbbbbbbbb\n",
      "  ⇒  aaaaaaaaaaεbbbbbbbbbb\n",
      " "
     ]
    }
   ],
   "source": [
    "for i in range(11):\n",
    "    a='a'*i\n",
    "    b='b'*i\n",
    "    ab=a+b\n",
    "    print(\"Derivation: \",ab)\n",
    "    if len(ab)==0:\n",
    "        ab=\"\"\n",
    "    roots,chart,forest=aⁿbⁿ.parse(ab)\n",
    "    trees=aⁿbⁿ.extract_trees(forest)\n",
    "    for i,step in enumerate(aⁿbⁿ.derivation(list(trees)[0])):\n",
    "        if not i:\n",
    "            print(\"\".join(step),end=\"\")\n",
    "        else:\n",
    "            print(\" ⇒ \",\"\".join(step),end=\"\\n \")   "
   ]
  },
  {
   "cell_type": "code",
   "execution_count": 7,
   "metadata": {},
   "outputs": [],
   "source": [
    "roots,chart,forest=aⁿbⁿ.parse(\"aaabbb\")\n",
    "trees=aⁿbⁿ.extract_trees(forest)\n",
    "aⁿbⁿ.save_trees_img(trees,filename='arbol_aaabbb.png')"
   ]
  },
  {
   "cell_type": "code",
   "execution_count": 8,
   "metadata": {},
   "outputs": [],
   "source": [
    "re=CFG('R->B; R-> R \"+\" R; R -> R \"*\"; R-> RR; R->(R); B-> a; B -> b; B -> \"ϵ\"; B -> \"∅\"')"
   ]
  },
  {
   "cell_type": "code",
   "execution_count": 9,
   "metadata": {},
   "outputs": [
    {
     "name": "stdout",
     "output_type": "stream",
     "text": [
      "No terminal : B, R\n",
      "Terminals   : (, b, +, *, a, ), ∅, ϵ\n",
      "Start       : R\n",
      "Productions :\n",
      " R → B | R+R | R* | RR | (R)\n",
      " B → a | b | ϵ | ∅\n"
     ]
    }
   ],
   "source": [
    "print(re.summary())"
   ]
  },
  {
   "cell_type": "code",
   "execution_count": 10,
   "metadata": {},
   "outputs": [
    {
     "name": "stdout",
     "output_type": "stream",
     "text": [
      "R ⇒  R*\n",
      "  ⇒  (R)*\n",
      "  ⇒  (R)*\n",
      "  ⇒  (RR)*\n",
      "  ⇒  (RRR)*\n",
      "  ⇒  (R*RR)*\n",
      "  ⇒  (B*RR)*\n",
      "  ⇒  (a*RR)*\n",
      "  ⇒  (a*RR)*\n",
      "  ⇒  (a*RR)*\n",
      "  ⇒  (a*BR)*\n",
      "  ⇒  (a*bR)*\n",
      "  ⇒  (a*bR)*\n",
      "  ⇒  (a*bR*)*\n",
      "  ⇒  (a*bRR*)*\n",
      "  ⇒  (a*bRRR*)*\n",
      "  ⇒  (a*bR*RR*)*\n",
      "  ⇒  (a*bB*RR*)*\n",
      "  ⇒  (a*ba*RR*)*\n",
      "  ⇒  (a*ba*RR*)*\n",
      "  ⇒  (a*ba*RR*)*\n",
      "  ⇒  (a*ba*BR*)*\n",
      "  ⇒  (a*ba*bR*)*\n",
      "  ⇒  (a*ba*bR*)*\n",
      "  ⇒  (a*ba*bB*)*\n",
      "  ⇒  (a*ba*ba*)*\n",
      "  ⇒  (a*ba*ba*)*\n",
      "  ⇒  (a*ba*ba*)*\n",
      "  ⇒  (a*ba*ba*)*\n",
      "  ⇒  (a*ba*ba*)*\n",
      " "
     ]
    }
   ],
   "source": [
    "roots,chart,forest=re.parse('(a*ba*ba*)*')\n",
    "trees=re.extract_trees(forest)\n",
    "for i,step in enumerate(re.derivation(list(trees)[0])):\n",
    "    if not i:\n",
    "        print(\"\".join(step),end=\"\")\n",
    "    else:\n",
    "        print(\" ⇒ \",\"\".join(step),end=\"\\n \")"
   ]
  },
  {
   "cell_type": "code",
   "execution_count": 11,
   "metadata": {},
   "outputs": [],
   "source": [
    "roots,chart,forest=re.parse(\"(a*ba*ba*)*\")\n",
    "trees=re.extract_trees(forest)\n"
   ]
  },
  {
   "cell_type": "code",
   "execution_count": 12,
   "metadata": {},
   "outputs": [],
   "source": [
    "re.save_trees_img(trees,filename='arboles_re.png')"
   ]
  },
  {
   "cell_type": "code",
   "execution_count": 13,
   "metadata": {},
   "outputs": [],
   "source": [
    "for i,t in enumerate(trees):\n",
    "   re.save_img([t],filename=f'arbol_re{i}.png')    "
   ]
  }
 ],
 "metadata": {
  "kernelspec": {
   "display_name": "Python 3",
   "language": "python",
   "name": "python3"
  },
  "language_info": {
   "codemirror_mode": {
    "name": "ipython",
    "version": 3
   },
   "file_extension": ".py",
   "mimetype": "text/x-python",
   "name": "python",
   "nbconvert_exporter": "python",
   "pygments_lexer": "ipython3",
   "version": "3.6.8"
  }
 },
 "nbformat": 4,
 "nbformat_minor": 2
}
