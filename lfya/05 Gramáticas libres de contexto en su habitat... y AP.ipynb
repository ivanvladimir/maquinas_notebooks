{
 "cells": [
  {
   "cell_type": "markdown",
   "metadata": {},
   "source": [
    "[![Open In Colab](https://colab.research.google.com/assets/colab-badge.svg)](https://colab.research.google.com/github/ivanvladimir/maquinas_notebooks/blob/main/lfya/05%20Gram%C3%A1ticas%20libres%20de%20contexto%20en%20su%20habitat...%20y%20AP.ipynb)\n",
    "\n",
    "\n",
    "# 05 Gramáticas libres de contexto en su habitat... y AP\n",
    "\n",
    "Esta notebook ilustra los conceptos de [**Gramáticas libres de contexto en su habitat... y AP**](https://ivanvladimir.gitlab.io/lfya_book/docs/05gram%C3%A1ticaslibresdecontextoensuh%C3%A1bitatyap/) correspondiente al curso de [**Lenguajes Formales y Autómatas**](https://turing.iimas.unam.mx/~ivanvladimir/page/curso_lfya/)\n",
    "\n",
    "\n",
    "## Instrucciones\n",
    "\n",
    "1. Si la librería [**maquinas**](https://pypi.org/project/maquinas/) no está instalada ejecutar la celdas correspondiente a la sección marcada con ◉\n",
    "2. Importar los módulos de librería relevantes\n",
    "3. Ejecuar las celdas para explorar los conceptos\n",
    "\n",
    "\n",
    "## Licencia de la notebook\n",
    "\n",
    "<a rel=\"license\" href=\"http://creativecommons.org/licenses/by/4.0/\"><img alt=\"Creative Commons License\" style=\"border-width:0\" src=\"https://i.creativecommons.org/l/by/4.0/80x15.png\" /></a>\n",
    "</br>This work is licensed under a <a rel=\"license\" href=\"http://creativecommons.org/licenses/by/4.0/\">Creative Commons Attribution 4.0 International License</a>.\n",
    "\n",
    "## General information\n",
    "\n",
    "> **Author(s)**: <a href=\"https://twitter.com/ivanvladimir\">@ivanvladimir</a></br>\n",
    "> **Last updated**: 24/01/2023"
   ]
  },
  {
   "cell_type": "markdown",
   "metadata": {},
   "source": [
    "### ◉ Instalando la librería \n",
    "\n",
    "Se instala la librería [maquinas](https://pypi.org/project/maquinas/)\n",
    "\n",
    "**Requerido en colab**, _opcional en ambiente local a través de jupyter_"
   ]
  },
  {
   "cell_type": "code",
   "execution_count": null,
   "metadata": {},
   "outputs": [],
   "source": [
    "# Execute if not installed\n",
    "!pip install maquinas --upgrade"
   ]
  },
  {
   "cell_type": "markdown",
   "metadata": {},
   "source": [
    "### 01 Importar módulos\n",
    "\n",
    "Se importan las [Gramaticas Libres de Contexto](https://ivanvladimir.gitlab.io/lfya_book/docs/04abropar%C3%A9ntesisabropar%C3%A9ntesiscierropar%C3%A9ntesis/03gram%C3%A1ticaslibresdecontexto/) (CFG), las [Gramáticas Regulares](https://ivanvladimir.gitlab.io/lfya_book/docs/05gram%C3%A1ticaslibresdecontextoensuh%C3%A1bitatyap/07gram%C3%A1ticasregulares/) (RG) y [Autómatas de pila](https://ivanvladimir.gitlab.io/lfya_book/docs/05gram%C3%A1ticaslibresdecontextoensuh%C3%A1bitatyap/08aut%C3%B3matasdepila/) (AP)"
   ]
  },
  {
   "cell_type": "code",
   "execution_count": null,
   "metadata": {},
   "outputs": [],
   "source": [
    "from maquinas.contextfree.cfg import ContextFreeGrammar as CFG\n",
    "from maquinas.regular.rg import RegularGrammar as RG\n",
    "from maquinas.contextfree.pda import PushDownAutomaton as PDA\n",
    "from maquinas.simulation import Simulation\n",
    "from maquinas.io import load_pda"
   ]
  },
  {
   "cell_type": "markdown",
   "metadata": {},
   "source": [
    "## 02 Ambigüedad\n",
    "\n",
    "Algunas gramáticas tienen la propiedad de ser [ambiguas](https://ivanvladimir.gitlab.io/lfya_book/docs/05gram%C3%A1ticaslibresdecontextoensuh%C3%A1bitatyap/08aut%C3%B3matasdepila/)"
   ]
  },
  {
   "cell_type": "code",
   "execution_count": null,
   "metadata": {},
   "outputs": [],
   "source": [
    "gato=CFG('S->V; V-> vN; V -> vNP; N -> a; N -> N P ; P -> c')\n",
    "gato.print_summary()"
   ]
  },
  {
   "cell_type": "code",
   "execution_count": null,
   "metadata": {},
   "outputs": [],
   "source": [
    "roots,chart,forest=gato.parse('vac')\n",
    "gato.graph_trees(gato.extract_trees(forest))"
   ]
  },
  {
   "cell_type": "markdown",
   "metadata": {},
   "source": [
    "### Gramática no ambigua para ER\n",
    "\n",
    "Algunas gramáticas comienzan como <a href=\"https://ivanvladimir.gitlab.io/lfya_book/docs/04abroparéntesisabroparéntesiscierparéntesis/04ejemplogramática/\">ambiguas</a> ... pueden re-escribirse para que [no lo sean](https://ivanvladimir.gitlab.io/lfya_book/docs/05gram%C3%A1ticaslibresdecontextoensuh%C3%A1bitatyap/03gram%C3%A1ticanoambigua/)"
   ]
  },
  {
   "cell_type": "code",
   "execution_count": null,
   "metadata": {},
   "outputs": [],
   "source": [
    "re=CFG('E-> T; E -> E \"+\" T; T -> F; T -> TF ; F -> B; F -> F* ; F -> \"(\" E \")\"; B-> a; B -> b; B -> \"ϵ\"; B -> \"∅\"')\n",
    "re.print_summary()"
   ]
  },
  {
   "cell_type": "code",
   "execution_count": null,
   "metadata": {},
   "outputs": [],
   "source": [
    "roots,chart,forest=re.parse('(a*ba*ba*)*')\n",
    "trees=list(re.extract_trees(forest))\n",
    "for i,step in enumerate(re.derivation(trees[0])):\n",
    "    if not i:\n",
    "        print(\"\".join(step),end=\"\")\n",
    "    else:\n",
    "        print(\" ⇒ \",\"\".join(step),end=\"\\n \")"
   ]
  },
  {
   "cell_type": "code",
   "execution_count": null,
   "metadata": {},
   "outputs": [],
   "source": [
    "re.graph_trees(trees)"
   ]
  },
  {
   "cell_type": "markdown",
   "metadata": {},
   "source": [
    "### Gramática ambigua\n",
    "\n",
    "Otras gramáticas es imposible reducirlas para que no sean ambiguas"
   ]
  },
  {
   "cell_type": "code",
   "execution_count": null,
   "metadata": {},
   "outputs": [],
   "source": [
    "ambigua=CFG('S -> X; S -> R; X-> YZ; Y -> aYb; Y-> epsilon;  Z -> cZd; Z -> epsilon; R -> aRd; R -> T; T ->bTc ; T -> epsilon')\n",
    "ambigua.print_summary()"
   ]
  },
  {
   "cell_type": "code",
   "execution_count": null,
   "metadata": {},
   "outputs": [],
   "source": [
    "roots,chart,forest=ambigua.parse('aabbcd')\n",
    "trees=list(ambigua.extract_trees(forest))\n",
    "for i,step in enumerate(ambigua.derivation(trees[0])):\n",
    "    if not i:\n",
    "        print(\"\".join(step),end=\"\")\n",
    "    else:\n",
    "        print(\" ⇒ \",\"\".join(step),end=\"\\n \")"
   ]
  },
  {
   "cell_type": "code",
   "execution_count": null,
   "metadata": {},
   "outputs": [],
   "source": [
    "ambigua.graph_trees(trees)"
   ]
  },
  {
   "cell_type": "code",
   "execution_count": null,
   "metadata": {},
   "outputs": [],
   "source": [
    "roots,chart,forest=ambigua.parse('aabcdd')\n",
    "trees=list(ambigua.extract_trees(forest))\n",
    "for i,step in enumerate(ambigua.derivation(trees[0])):\n",
    "    if not i:\n",
    "        print(\"\".join(step),end=\"\")\n",
    "    else:\n",
    "        print(\" ⇒ \",\"\".join(step),end=\"\\n \")"
   ]
  },
  {
   "cell_type": "code",
   "execution_count": null,
   "metadata": {},
   "outputs": [],
   "source": [
    "ambigua.graph_trees(trees)"
   ]
  },
  {
   "cell_type": "code",
   "execution_count": null,
   "metadata": {},
   "outputs": [],
   "source": [
    "roots,chart,forest=ambigua.parse('aabbccdd')\n",
    "trees=list(ambigua.extract_trees(forest))\n",
    "for i,step in enumerate(ambigua.derivation(trees[0])):\n",
    "    if not i:\n",
    "        print(\"\".join(step),end=\"\")\n",
    "    else:\n",
    "        print(\" ⇒ \",\"\".join(step),end=\"\\n \")"
   ]
  },
  {
   "cell_type": "code",
   "execution_count": null,
   "metadata": {},
   "outputs": [],
   "source": [
    "ambigua.graph_trees(trees)"
   ]
  },
  {
   "cell_type": "markdown",
   "metadata": {},
   "source": [
    "### Gramáticas regulares\n",
    "\n",
    "Además de las CFG, existen [Gramáticas Regulares](https://ivanvladimir.gitlab.io/lfya_book/docs/05gram%C3%A1ticaslibresdecontextoensuh%C3%A1bitatyap/07gram%C3%A1ticasregulares/)"
   ]
  },
  {
   "cell_type": "code",
   "execution_count": null,
   "metadata": {},
   "outputs": [],
   "source": [
    "regular=RG(\"S-> aS; S-> bA; A -> epsilon; A -> cA;\")\n",
    "print(regular.summary())"
   ]
  },
  {
   "cell_type": "code",
   "execution_count": null,
   "metadata": {},
   "outputs": [],
   "source": [
    "roots,chart,forest=regular.parse('abc')\n",
    "trees=list(regular.extract_trees(forest))\n",
    "for i,step in enumerate(regular.derivation(trees[0])):\n",
    "    if not i:\n",
    "        print(\"\".join(step),end=\"\")\n",
    "    else:\n",
    "        print(\" ⇒ \",\"\".join(step),end=\"\\n \")"
   ]
  },
  {
   "cell_type": "code",
   "execution_count": null,
   "metadata": {},
   "outputs": [],
   "source": [
    "regular.graph_trees(trees)"
   ]
  },
  {
   "cell_type": "markdown",
   "metadata": {},
   "source": [
    "## 03 Autómata de Pila\n",
    "\n",
    "Se puede crear un [AP](https://ivanvladimir.gitlab.io/lfya_book/docs/05gram%C3%A1ticaslibresdecontextoensuh%C3%A1bitatyap/08aut%C3%B3matasdepila/) desde código; la función _load_pda_ permite cargar la definición desde una cadena con formato de tabla"
   ]
  },
  {
   "cell_type": "code",
   "execution_count": null,
   "metadata": {},
   "outputs": [],
   "source": [
    "aⁿbⁿ=PDA(Q=['q_0','q_1','q_2'],\n",
    "         sigma=['a','b'],\n",
    "         gamma=['A'],\n",
    "         q_0='q_0',\n",
    "         A=['q_2'],\n",
    "         delta=[\n",
    "            (('q_0','a','Z0'),[('q_0','AZ0')]),\n",
    "            (('q_0','a','A'),[('q_0','AA')]),\n",
    "            (('q_0','b','A'),[('q_1','epsilon')]),\n",
    "            (('q_1','b','A'),[('q_1','epsilon')]),\n",
    "            (('q_1','epsilon','Z0'),[('q_2','Z0')])\n",
    "         ]\n",
    "    )\n",
    "aⁿbⁿ.print_summary()"
   ]
  },
  {
   "cell_type": "code",
   "execution_count": null,
   "metadata": {},
   "outputs": [],
   "source": [
    "aⁿbⁿ=load_pda(\"\"\"\n",
    "        |     ε     |          a          |    b    |\n",
    " ->q_0  |           | Z₀/AZ₀→q_0,A/AA→q_0 | A/ε→q_1 |\n",
    "   q_1  | Z₀/Z₀→q_2 |                     | A/ε→q_1 |\n",
    "   q_2] |           |                     |         |\n",
    "\"\"\")\n",
    "aⁿbⁿ.print_summary()"
   ]
  },
  {
   "cell_type": "code",
   "execution_count": null,
   "metadata": {},
   "outputs": [],
   "source": [
    "for q,a,w_ in aⁿbⁿ.delta_stepwise(\"aaabb\"):\n",
    "    if a:\n",
    "        print(f\"{a} -> {aⁿbⁿ.states2string(q)}\", end=\",\\n \")\n",
    "    else:\n",
    "        print(f\"{aⁿbⁿ.states2string(q)}\",end=\"\\n \")\n",
    "    res=q\n",
    "    \n",
    "print(f\"\\nCon {aⁿbⁿ.states2string(res)} Se acepta?\", \"Sí\" if anbn.acceptor(res) else \"No\" )"
   ]
  },
  {
   "cell_type": "code",
   "execution_count": null,
   "metadata": {},
   "outputs": [],
   "source": [
    "aⁿbⁿ.graph(dpi=\"100\")"
   ]
  },
  {
   "cell_type": "code",
   "execution_count": null,
   "metadata": {},
   "outputs": [],
   "source": [
    "aⁿbⁿ.save_gif(\"aaabbb\",'anbn.gif',show=True)"
   ]
  }
 ],
 "metadata": {
  "kernelspec": {
   "display_name": "Python 3 (ipykernel)",
   "language": "python",
   "name": "python3"
  },
  "language_info": {
   "codemirror_mode": {
    "name": "ipython",
    "version": 3
   },
   "file_extension": ".py",
   "mimetype": "text/x-python",
   "name": "python",
   "nbconvert_exporter": "python",
   "pygments_lexer": "ipython3",
   "version": "3.8.10"
  }
 },
 "nbformat": 4,
 "nbformat_minor": 4
}
