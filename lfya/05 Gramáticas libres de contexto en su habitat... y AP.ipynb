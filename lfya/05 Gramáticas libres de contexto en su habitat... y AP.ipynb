{
 "cells": [
  {
   "cell_type": "markdown",
   "metadata": {},
   "source": [
    "[![Open In Colab](https://colab.research.google.com/assets/colab-badge.svg)](https://colab.research.google.com/github/ivanvladimir/maquinas_notebooks/blob/main/lfya/05%20Gram%C3%A1ticas%20libres%20de%20contexto%20en%20su%20habitat...%20y%20AP.ipynb)"
   ]
  },
  {
   "cell_type": "code",
   "execution_count": null,
   "metadata": {},
   "outputs": [],
   "source": [
    "# Execute if not installed\n",
    "!pip install maquinas"
   ]
  },
  {
   "cell_type": "code",
   "execution_count": null,
   "metadata": {},
   "outputs": [],
   "source": [
    "from maquinas.contextfree.cfg import ContextFreeGrammar as CFG\n",
    "from maquinas.regular.rg import RegularGrammar as RG"
   ]
  },
  {
   "cell_type": "code",
   "execution_count": null,
   "metadata": {},
   "outputs": [],
   "source": [
    "gato=CFG('S->V; V-> vN; V -> vNP; N -> a; N -> N P ; P -> c')\n",
    "print(gato.summary())"
   ]
  },
  {
   "cell_type": "code",
   "execution_count": null,
   "metadata": {},
   "outputs": [],
   "source": [
    "roots,chart,forest=gato.parse('vac')\n",
    "gato.graph_trees(gato.extract_trees(forest))"
   ]
  },
  {
   "cell_type": "code",
   "execution_count": null,
   "metadata": {},
   "outputs": [],
   "source": [
    "re=CFG('E-> T; E -> E \"+\" T; T -> F; T -> TF ; F -> B; F -> F* ; F -> \"(\" E \")\"; B-> a; B -> b; B -> \"ϵ\"; B -> \"∅\"')\n",
    "print(re.summary())"
   ]
  },
  {
   "cell_type": "code",
   "execution_count": null,
   "metadata": {},
   "outputs": [],
   "source": [
    "roots,chart,forest=re.parse('(a*ba*ba*)*')\n",
    "trees=list(re.extract_trees(forest))\n",
    "for i,step in enumerate(re.derivation(trees[0])):\n",
    "    if not i:\n",
    "        print(\"\".join(step),end=\"\")\n",
    "    else:\n",
    "        print(\" ⇒ \",\"\".join(step),end=\"\\n \")"
   ]
  },
  {
   "cell_type": "code",
   "execution_count": null,
   "metadata": {},
   "outputs": [],
   "source": [
    "re.save_trees_img(trees,filename='arboles_re')"
   ]
  },
  {
   "cell_type": "code",
   "execution_count": null,
   "metadata": {},
   "outputs": [],
   "source": [
    "ambigua=CFG('S -> X; S -> R; X-> YZ; Y -> aYb; Y-> epsilon;  Z -> cZd; Z -> epsilon; R -> aRd; R -> T; T ->bTc ; T -> epsilon')\n",
    "print(ambigua.summary())"
   ]
  },
  {
   "cell_type": "code",
   "execution_count": null,
   "metadata": {},
   "outputs": [],
   "source": [
    "roots,chart,forest=ambigua.parse('aabbcd')\n",
    "trees=list(ambigua.extract_trees(forest))\n",
    "for i,step in enumerate(ambigua.derivation(trees[0])):\n",
    "    if not i:\n",
    "        print(\"\".join(step),end=\"\")\n",
    "    else:\n",
    "        print(\" ⇒ \",\"\".join(step),end=\"\\n \")"
   ]
  },
  {
   "cell_type": "code",
   "execution_count": null,
   "metadata": {},
   "outputs": [],
   "source": [
    "ambigua.save_trees_img(trees,filename='aabbcd')"
   ]
  },
  {
   "cell_type": "code",
   "execution_count": null,
   "metadata": {},
   "outputs": [],
   "source": [
    "roots,chart,forest=ambigua.parse('aabcdd')\n",
    "trees=list(ambigua.extract_trees(forest))\n",
    "for i,step in enumerate(ambigua.derivation(trees[0])):\n",
    "    if not i:\n",
    "        print(\"\".join(step),end=\"\")\n",
    "    else:\n",
    "        print(\" ⇒ \",\"\".join(step),end=\"\\n \")"
   ]
  },
  {
   "cell_type": "code",
   "execution_count": null,
   "metadata": {},
   "outputs": [],
   "source": [
    "ambigua.save_trees_img(trees,filename='aabcdd')"
   ]
  },
  {
   "cell_type": "code",
   "execution_count": null,
   "metadata": {},
   "outputs": [],
   "source": [
    "roots,chart,forest=ambigua.parse('aabbccdd')\n",
    "trees=list(ambigua.extract_trees(forest))\n",
    "for i,step in enumerate(ambigua.derivation(trees[0])):\n",
    "    if not i:\n",
    "        print(\"\".join(step),end=\"\")\n",
    "    else:\n",
    "        print(\" ⇒ \",\"\".join(step),end=\"\\n \")"
   ]
  },
  {
   "cell_type": "code",
   "execution_count": null,
   "metadata": {},
   "outputs": [],
   "source": [
    "ambigua.save_trees_img(trees,filename='aabbccdd')"
   ]
  },
  {
   "cell_type": "code",
   "execution_count": null,
   "metadata": {},
   "outputs": [],
   "source": [
    "regular=CFG('A-> aA; A->bB; B -> aB; B->bA; A->a; B->b')\n",
    "print(regular.summary())"
   ]
  },
  {
   "cell_type": "code",
   "execution_count": null,
   "metadata": {},
   "outputs": [],
   "source": [
    "roots,chart,forest=regular.parse('aabbabaaaaba')\n",
    "trees=list(regular.extract_trees(forest))\n",
    "for i,step in enumerate(regular.derivation(trees[0])):\n",
    "    if not i:\n",
    "        print(\"\".join(step),end=\"\")\n",
    "    else:\n",
    "        print(\" ⇒ \",\"\".join(step),end=\"\\n \")"
   ]
  },
  {
   "cell_type": "code",
   "execution_count": null,
   "metadata": {},
   "outputs": [],
   "source": [
    "regular.save_trees_img(trees,filename='gr')"
   ]
  },
  {
   "cell_type": "code",
   "execution_count": null,
   "metadata": {},
   "outputs": [],
   "source": [
    "from maquinas.contextfree.pda import PushDownAutomaton as PDA\n",
    "from maquinas.simulation import Simulation"
   ]
  },
  {
   "cell_type": "code",
   "execution_count": null,
   "metadata": {},
   "outputs": [],
   "source": [
    "# Ejercicio uno\n",
    "anbn=PDA(Q=['q_0','q_1','q_2'],\n",
    "         sigma=['a','b'],\n",
    "         gamma=['A'],\n",
    "         q_0='q_0',\n",
    "         A=['q_2'],\n",
    "         delta=[\n",
    "            (('q_0','a','Z0'),[('q_0','AZ0')]),\n",
    "            (('q_0','a','A'),[('q_0','AA')]),\n",
    "            (('q_0','b','A'),[('q_1','epsilon')]),\n",
    "            (('q_1','b','A'),[('q_1','epsilon')]),\n",
    "            (('q_1','epsilon','Z0'),[('q_2','Z0')])\n",
    "         ]\n",
    "    )"
   ]
  },
  {
   "cell_type": "code",
   "execution_count": null,
   "metadata": {},
   "outputs": [],
   "source": [
    "for q,a,w_ in anbn.delta_stepwise(\"aaabbb\"):\n",
    "    if a:\n",
    "        print(f\"{a} -> {anbn.states2string(q)}\", end=\",\\n \")\n",
    "    else:\n",
    "        print(f\"{anbn.states2string(q)}\",end=\"\\n \")\n",
    "    res=q\n",
    "    \n",
    "print(f\"\\nCon {anbn.states2string(res)} Se acepta?\", \"Sí\" if anbn.acceptor(res) else \"No\" )"
   ]
  },
  {
   "cell_type": "code",
   "execution_count": null,
   "metadata": {},
   "outputs": [],
   "source": [
    "anbn.save_img('anbn')"
   ]
  },
  {
   "cell_type": "code",
   "execution_count": null,
   "metadata": {},
   "outputs": [],
   "source": [
    "anbn.save_gif(\"aaabbb\",'anbn.gif')"
   ]
  }
 ],
 "metadata": {
  "kernelspec": {
   "display_name": "Python 3",
   "language": "python",
   "name": "python3"
  },
  "language_info": {
   "codemirror_mode": {
    "name": "ipython",
    "version": 3
   },
   "file_extension": ".py",
   "mimetype": "text/x-python",
   "name": "python",
   "nbconvert_exporter": "python",
   "pygments_lexer": "ipython3",
   "version": "3.6.8"
  }
 },
 "nbformat": 4,
 "nbformat_minor": 2
}
