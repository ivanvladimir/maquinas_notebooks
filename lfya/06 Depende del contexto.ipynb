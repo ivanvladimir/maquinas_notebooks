{
 "cells": [
  {
   "cell_type": "markdown",
   "metadata": {},
   "source": [
    "[![Open In Colab](https://colab.research.google.com/assets/colab-badge.svg)](https://colab.research.google.com/github/ivanvladimir/maquinas_notebooks/blob/main/lfya/05%20Gram%C3%A1ticas%20libres%20de%20contexto%20en%20su%20habitat...%20y%20AP.ipynb)\n",
    "\n",
    "\n",
    "# 06 Depende del contexto\n",
    "\n",
    "Esta notebook ilustra los conceptos de [**Depende del contexto**](https://ivanvladimir.gitlab.io/lfya_book/docs/06dependedelcontexto/) correspondiente al curso de [**Lenguajes Formales y Autómatas**](https://turing.iimas.unam.mx/~ivanvladimir/page/curso_lfya/)\n",
    "\n",
    "\n",
    "## Instrucciones\n",
    "\n",
    "1. Si la librería [**maquinas**](https://pypi.org/project/maquinas/) no está instalada ejecutar la celdas correspondiente a la sección marcada con ◉\n",
    "2. Importar los módulos de librería relevantes\n",
    "3. Ejecuar las celdas para explorar los conceptos\n",
    "\n",
    "\n",
    "## Licencia de la notebook\n",
    "\n",
    "<a rel=\"license\" href=\"http://creativecommons.org/licenses/by/4.0/\"><img alt=\"Creative Commons License\" style=\"border-width:0\" src=\"https://i.creativecommons.org/l/by/4.0/80x15.png\" /></a>\n",
    "</br>This work is licensed under a <a rel=\"license\" href=\"http://creativecommons.org/licenses/by/4.0/\">Creative Commons Attribution 4.0 International License</a>.\n",
    "\n",
    "## General information\n",
    "\n",
    "> **Author(s)**: <a href=\"https://twitter.com/ivanvladimir\">@ivanvladimir</a></br>\n",
    "> **Last updated**: 24/01/2023"
   ]
  },
  {
   "cell_type": "markdown",
   "metadata": {},
   "source": [
    "### ◉ Instalando la librería \n",
    "\n",
    "Se instala la librería [maquinas](https://pypi.org/project/maquinas/)\n",
    "\n",
    "**Requerido en colab**, _opcional en ambiente local a través de jupyter_"
   ]
  },
  {
   "cell_type": "code",
   "execution_count": null,
   "metadata": {},
   "outputs": [],
   "source": [
    "# Execute if not installes\n",
    "!pip install maquinas --upgrade"
   ]
  },
  {
   "cell_type": "markdown",
   "metadata": {},
   "source": [
    "### 01 Importar módulos\n",
    "\n",
    "Se importan las [Gramaticas Libres de Contexto](https://ivanvladimir.gitlab.io/lfya_book/docs/04abropar%C3%A9ntesisabropar%C3%A9ntesiscierropar%C3%A9ntesis/03gram%C3%A1ticaslibresdecontexto/) (CFG) y [Autómatas de pila](https://ivanvladimir.gitlab.io/lfya_book/docs/05gram%C3%A1ticaslibresdecontextoensuh%C3%A1bitatyap/08aut%C3%B3matasdepila/) (AP)"
   ]
  },
  {
   "cell_type": "code",
   "execution_count": null,
   "metadata": {},
   "outputs": [],
   "source": [
    "from maquinas.contextfree.cfg import ContextFreeGrammar as CFG\n",
    "from maquinas.contextfree.pda import PushDownAutomaton as PDA\n",
    "from maquinas.simulation import Simulation"
   ]
  },
  {
   "cell_type": "markdown",
   "metadata": {},
   "source": [
    "## 02 No determinismo\n",
    "\n",
    "_No determinismo_, no se manifiesta con gramáticas; las siguientes gramáticas y sus lenguages son _no ambiguas_"
   ]
  },
  {
   "cell_type": "code",
   "execution_count": null,
   "metadata": {},
   "outputs": [],
   "source": [
    "wwʳ=CFG('S->aSa; S->bSb; S-> epsilon')\n",
    "print(wwʳ.summary())\n",
    "roots,chart,forest=wwʳ.parse('abbbba')\n",
    "wwʳ.graph_trees(wwʳ.extract_trees(forest))"
   ]
  },
  {
   "cell_type": "code",
   "execution_count": null,
   "metadata": {},
   "outputs": [],
   "source": [
    "wawʳ=CFG('S->aSa; S->bSb; S-> a; S-> b')\n",
    "print(wawʳ.summary())\n",
    "roots,chart,forest=wawʳ.parse('abbabba')\n",
    "wawʳ.graph_trees(wawʳ.extract_trees(forest))"
   ]
  },
  {
   "cell_type": "code",
   "execution_count": null,
   "metadata": {},
   "outputs": [],
   "source": [
    "w_wʳ=CFG('S->aSa; S->bSb; S-> a; S-> b; S-> epsilon')\n",
    "print(w_wʳ.summary())\n",
    "roots,chart,forest=w_wʳ.parse('abbabba')\n",
    "w_wʳ.graph_trees(w_wʳ.extract_trees(forest))"
   ]
  },
  {
   "cell_type": "code",
   "execution_count": null,
   "metadata": {},
   "outputs": [],
   "source": [
    "wmwʳ=CFG('S->aSa; S->bSb; S-> m;')\n",
    "print(wmwʳ.summary())\n",
    "roots,chart,forest=wmwʳ.parse('abbmbba')\n",
    "wmwʳ.graph_trees(wmwʳ.extract_trees(forest))"
   ]
  },
  {
   "cell_type": "markdown",
   "metadata": {},
   "source": [
    "### _No determinísmo_ en AP\n",
    "\n",
    "Aun cuando el no determínismo no se manifieste en la gramaticas, el lenguaje puede ser [_no determinista_](https://ivanvladimir.gitlab.io/lfya_book/docs/06dependedelcontexto/03aut%C3%B3matadepiladeterministico/#propiedad-de-determinismo-asociado-al-lenguaje) en la definición del AP"
   ]
  },
  {
   "cell_type": "code",
   "execution_count": null,
   "metadata": {},
   "outputs": [],
   "source": [
    "wwʳ=PDA(Q=['q_0','q_1','q_2'],\n",
    "         sigma=['a','b'],\n",
    "         gamma=['A','B'],\n",
    "         q_0='q_0',\n",
    "         A=['q_2'],\n",
    "         delta=[\n",
    "            (('q_0','a','Z0'),[('q_0','AZ0')]),\n",
    "            (('q_0','a','A'),[('q_0','AA')]),\n",
    "            (('q_0','a','B'),[('q_0','AB')]),\n",
    "            (('q_0','b','Z0'),[('q_0','BZ0')]),\n",
    "            (('q_0','b','A'),[('q_0','BA')]),\n",
    "            (('q_0','b','B'),[('q_0','BB')]),\n",
    "            (('q_0','epsilon','Z0'),[('q_1','Z0')]), \n",
    "            (('q_0','epsilon','A'),[('q_1','A')]),\n",
    "            (('q_0','epsilon','B'),[('q_1','B')]),\n",
    "            (('q_1','a','A'),[('q_1','epsilon')]),\n",
    "            (('q_1','b','B'),[('q_1','epsilon')]),\n",
    "            (('q_1','epsilon','Z0'),[('q_2','Z0')]),\n",
    "         ]\n",
    "    )"
   ]
  },
  {
   "cell_type": "markdown",
   "metadata": {},
   "source": [
    "Aquí podemos ver que el AP tiene que revisar multiples caminos para aceptar la cadena, dado el _no determinismo_ del _lenguaje_"
   ]
  },
  {
   "cell_type": "code",
   "execution_count": null,
   "metadata": {},
   "outputs": [],
   "source": [
    "for q,a,w_ in wwʳ.delta_stepwise(\"abbbba\"):\n",
    "    if a:\n",
    "        print(f\"{a} -> {wwʳ.states2string(q)}\", end=\",\\n \")\n",
    "    else:\n",
    "        print(f\"{wwʳ.states2string(q)}\",end=\"\\n \")\n",
    "    res=q\n",
    "    \n",
    "print(f\"\\nCon {wwʳ.states2string(res)} Se acepta?\", \"Sí\" if wwʳ.acceptor(res) else \"No\" )"
   ]
  },
  {
   "cell_type": "code",
   "execution_count": null,
   "metadata": {},
   "outputs": [],
   "source": [
    "wwʳ.graph(dpi=\"100\")"
   ]
  },
  {
   "cell_type": "code",
   "execution_count": null,
   "metadata": {},
   "outputs": [],
   "source": [
    "wwʳ.save_gif(\"abbbba\",filename=\"wwr.gif\",show=True)"
   ]
  },
  {
   "cell_type": "markdown",
   "metadata": {},
   "source": [
    "### Otro _no determinista_"
   ]
  },
  {
   "cell_type": "code",
   "execution_count": null,
   "metadata": {},
   "outputs": [],
   "source": [
    "wawʳ=PDA(Q=['q_0','q_1','q_2'],\n",
    "         sigma=['a','b'],\n",
    "         gamma=['A','B'],\n",
    "         q_0='q_0',\n",
    "         A=['q_2'],\n",
    "         delta=[\n",
    "            (('q_0','a','Z0'),[('q_0','AZ0'),('q_1','Z0')]),\n",
    "            (('q_0','a','A'),[('q_0','AA'),('q_1','A')]),\n",
    "            (('q_0','a','B'),[('q_0','AB'),('q_1','B')]),\n",
    "            (('q_0','b','Z0'),[('q_0','BZ0'),('q_1','Z0')]),\n",
    "            (('q_0','b','A'),[('q_0','BA'),('q_1','A')]),\n",
    "            (('q_0','b','B'),[('q_0','BB'),('q_1','B')]),\n",
    "            (('q_1','a','A'),[('q_1','epsilon')]),\n",
    "            (('q_1','b','B'),[('q_1','epsilon')]),\n",
    "            (('q_1','epsilon','Z0'),[('q_2','Z0')]),\n",
    "         ]\n",
    "    )"
   ]
  },
  {
   "cell_type": "code",
   "execution_count": null,
   "metadata": {},
   "outputs": [],
   "source": [
    "for q,a,w_ in wawʳ.delta_stepwise(\"abbabba\"):\n",
    "    if a:\n",
    "        print(f\"{a} -> {wawʳ.states2string(q)}\", end=\",\\n \")\n",
    "    else:\n",
    "        print(f\"{wawʳ.states2string(q)}\",end=\"\\n \")\n",
    "    res=q\n",
    "    \n",
    "print(f\"\\nCon {wawʳ.states2string(res)} Se acepta?\", \"Sí\" if wawʳ.acceptor(res) else \"No\" )"
   ]
  },
  {
   "cell_type": "code",
   "execution_count": null,
   "metadata": {},
   "outputs": [],
   "source": [
    "wawʳ.graph(dpi=\"100\")"
   ]
  },
  {
   "cell_type": "code",
   "execution_count": null,
   "metadata": {},
   "outputs": [],
   "source": [
    "wawʳ.save_gif(\"abbabba\",filename=\"wawr.gif\",show=True)"
   ]
  },
  {
   "cell_type": "markdown",
   "metadata": {},
   "source": [
    "### Sigue siendo _no determinista_"
   ]
  },
  {
   "cell_type": "code",
   "execution_count": null,
   "metadata": {},
   "outputs": [],
   "source": [
    "w_wʳ=PDA(Q=['q_0','q_1','q_2'],\n",
    "         sigma=['a','b'],\n",
    "         gamma=['A','B'],\n",
    "         q_0='q_0',\n",
    "         A=['q_2'],\n",
    "         delta=[\n",
    "            (('q_0','a','Z0'),[('q_0','AZ0'),('q_1','Z0')]),\n",
    "            (('q_0','a','A'),[('q_0','AA'),('q_1','A')]),\n",
    "            (('q_0','a','B'),[('q_0','AB'),('q_1','B')]),\n",
    "            (('q_0','b','Z0'),[('q_0','BZ0'),('q_1','Z0')]),\n",
    "            (('q_0','b','A'),[('q_0','BA'),('q_1','A')]),\n",
    "            (('q_0','b','B'),[('q_0','BB'),('q_1','B')]),\n",
    "            (('q_0','epsilon','Z0'),[('q_1','Z0')]), \n",
    "            (('q_0','epsilon','A'),[('q_1','A')]),\n",
    "            (('q_0','epsilon','B'),[('q_1','B')]),\n",
    "            (('q_1','a','A'),[('q_1','epsilon')]),\n",
    "            (('q_1','b','B'),[('q_1','epsilon')]),\n",
    "            (('q_1','epsilon','Z0'),[('q_2','Z0')]),\n",
    "         ]\n",
    "    )"
   ]
  },
  {
   "cell_type": "code",
   "execution_count": null,
   "metadata": {},
   "outputs": [],
   "source": [
    "for q,a,w_ in w_wʳ.delta_stepwise(\"abbabba\"):\n",
    "    if a:\n",
    "        print(f\"{a} -> {w_wʳ.states2string(q)}\", end=\",\\n \")\n",
    "    else:\n",
    "        print(f\"{w_wʳ.states2string(q)}\",end=\"\\n \")\n",
    "    res=q\n",
    "    \n",
    "print(f\"\\nCon {w_wʳ.states2string(res)} Se acepta?\", \"Sí\" if w_wʳ.acceptor(res) else \"No\" )"
   ]
  },
  {
   "cell_type": "code",
   "execution_count": null,
   "metadata": {},
   "outputs": [],
   "source": [
    "w_wʳ.graph(dpi=\"100\")"
   ]
  },
  {
   "cell_type": "code",
   "execution_count": null,
   "metadata": {},
   "outputs": [],
   "source": [
    "w_wʳ.save_gif(\"abbabba\",filename=\"w_wr.gif\",show=True)"
   ]
  },
  {
   "cell_type": "markdown",
   "metadata": {},
   "source": [
    "### Este ya no es _no determinista_\n",
    "\n",
    "Esta _lenguaje_ es determinista, porque el AP no tiene que adivinar si ya está a la mitad de la cadena"
   ]
  },
  {
   "cell_type": "code",
   "execution_count": null,
   "metadata": {},
   "outputs": [],
   "source": [
    "wmwʳ=PDA(Q=['q_0','q_1','q_2'],\n",
    "         sigma=['a','b','m'],\n",
    "         gamma=['A','B'],\n",
    "         q_0='q_0',\n",
    "         A=['q_2'],\n",
    "         delta=[\n",
    "            (('q_0','a','Z0'),[('q_0','AZ0')]),\n",
    "            (('q_0','a','A'),[('q_0','AA')]),\n",
    "            (('q_0','a','B'),[('q_0','AB')]),\n",
    "            (('q_0','b','Z0'),[('q_0','BZ0')]),\n",
    "            (('q_0','b','A'),[('q_0','BA')]),\n",
    "            (('q_0','b','B'),[('q_0','BB')]),\n",
    "            (('q_0','m','Z0'),[('q_1','Z0')]), \n",
    "            (('q_0','m','A'),[('q_1','A')]),\n",
    "            (('q_0','m','B'),[('q_1','B')]),\n",
    "            (('q_1','a','A'),[('q_1','epsilon')]),\n",
    "            (('q_1','b','B'),[('q_1','epsilon')]),\n",
    "            (('q_1','epsilon','Z0'),[('q_2','Z0')]),\n",
    "         ]\n",
    "    )"
   ]
  },
  {
   "cell_type": "code",
   "execution_count": null,
   "metadata": {},
   "outputs": [],
   "source": [
    "for q,a,w_ in wmwʳ.delta_stepwise(\"abbmbba\"):\n",
    "    if a:\n",
    "        print(f\"{a} -> {wmwʳ.states2string(q)}\", end=\",\\n \")\n",
    "    else:\n",
    "        print(f\"{wmwʳ.states2string(q)}\",end=\"\\n \")\n",
    "    res=q\n",
    "    \n",
    "print(f\"\\nCon {wmwʳ.states2string(res)} Se acepta?\", \"Sí\" if wmwʳ.acceptor(res) else \"No\" )"
   ]
  },
  {
   "cell_type": "code",
   "execution_count": null,
   "metadata": {},
   "outputs": [],
   "source": [
    "wmwʳ.graph(dpi=\"100\")"
   ]
  },
  {
   "cell_type": "code",
   "execution_count": null,
   "metadata": {},
   "outputs": [],
   "source": [
    "wmwʳ.save_gif(\"abbmbba\",filename=\"wmwr.gif\",show=True)"
   ]
  },
  {
   "cell_type": "markdown",
   "metadata": {},
   "source": [
    "## 03 Ejemplos"
   ]
  },
  {
   "cell_type": "markdown",
   "metadata": {},
   "source": [
    "### APs para _bbⁿaⁿ_"
   ]
  },
  {
   "cell_type": "code",
   "execution_count": null,
   "metadata": {},
   "outputs": [],
   "source": [
    "bn1an_one=PDA(Q=['q_0','q_1','q_2','q_3'],\n",
    "         sigma=['a','b',],\n",
    "         gamma=['B'],\n",
    "         q_0='q_0',\n",
    "         A=['q_3'],\n",
    "         delta=[\n",
    "            (('q_0','b','Z0'),[('q_1','Z0')]),\n",
    "            (('q_1','b','Z0'),[('q_1','BZ0')]),\n",
    "            (('q_1','b','B'),[('q_1','BB')]),\n",
    "            (('q_1','a','B'),[('q_2','epsilon')]),\n",
    "            (('q_2','a','B'),[('q_2','epsilon')]), \n",
    "            (('q_2','epsilon','Z0'),[('q_3','Z0')]),\n",
    "         ]\n",
    "    )"
   ]
  },
  {
   "cell_type": "code",
   "execution_count": null,
   "metadata": {},
   "outputs": [],
   "source": [
    "bn1an_one.graph(dpi=\"100\")"
   ]
  },
  {
   "cell_type": "code",
   "execution_count": null,
   "metadata": {},
   "outputs": [],
   "source": [
    "bn1an_two=PDA(Q=['q_0','q_1','q_2'],\n",
    "         sigma=['a','b',],\n",
    "         gamma=['B'],\n",
    "         q_0='q_0',\n",
    "         A=['q_2'],\n",
    "         delta=[\n",
    "            (('q_0','b','Z0'),[('q_0','BZ0'),('q_1','Z0')]),\n",
    "            (('q_0','b','B'),[('q_0','BB'),('q_1','B')]),\n",
    "            (('q_1','a','B'),[('q_1','epsilon')]), \n",
    "            (('q_1','epsilon','Z0'),[('q_2','Z0')]),\n",
    "         ]\n",
    ")"
   ]
  },
  {
   "cell_type": "code",
   "execution_count": null,
   "metadata": {},
   "outputs": [],
   "source": [
    "bn1an_two.graph(dpi=\"100\")"
   ]
  },
  {
   "cell_type": "code",
   "execution_count": null,
   "metadata": {},
   "outputs": [],
   "source": [
    "bn1an_three=PDA(Q=['q_0','q_1','q_2','q_3'],\n",
    "         sigma=['a','b',],\n",
    "         gamma=['B'],\n",
    "         q_0='q_0',\n",
    "         A=['q_3'],\n",
    "         delta=[\n",
    "            (('q_0','b','Z0'),[('q_0','BZ0')]),\n",
    "            (('q_0','b','B'),[('q_0','BB')]),\n",
    "            (('q_0','a','B'),[('q_1','epsilon')]),\n",
    "            (('q_1','a','B'),[('q_1','epsilon')]),\n",
    "            (('q_1','epsilon','B'),[('q_2','epsilon')]), \n",
    "            (('q_2','epsilon','Z0'),[('q_3','Z0')]),\n",
    "         ]\n",
    "    )"
   ]
  },
  {
   "cell_type": "code",
   "execution_count": null,
   "metadata": {},
   "outputs": [],
   "source": [
    "bn1an_three.graph(dpi=\"100\")"
   ]
  },
  {
   "cell_type": "markdown",
   "metadata": {},
   "source": [
    "### Lenguaje con _c_ = _a_+_b_ sin orden definido"
   ]
  },
  {
   "cell_type": "code",
   "execution_count": null,
   "metadata": {},
   "outputs": [],
   "source": [
    "# Ejercicio dos\n",
    "samecthanaplusb=PDA(Q=['q_0','q_1'],\n",
    "         sigma=['a','b','c'],\n",
    "         gamma=['A','C'],\n",
    "         q_0='q_0',\n",
    "         A=['q_1'],\n",
    "         delta=[\n",
    "            (('q_0','a','Z0'),[('q_0','CZ0')]),\n",
    "            (('q_0','a','C'),[('q_0','CC')]),\n",
    "            (('q_0','a','A'),[('q_0','epsilon')]),\n",
    "            (('q_0','b','Z0'),[('q_0','CZ0')]),\n",
    "            (('q_0','b','C'),[('q_0','CC')]),\n",
    "            (('q_0','b','A'),[('q_0','epsilon')]),\n",
    "            (('q_0','c','Z0'),[('q_0','AZ0')]),\n",
    "            (('q_0','c','A'),[('q_0','AA')]),\n",
    "            (('q_0','c','C'),[('q_0','epsilon')]),\n",
    "            (('q_0','epsilon','Z0'),[('q_1','Z0')]),\n",
    "         ]\n",
    "    )"
   ]
  },
  {
   "cell_type": "code",
   "execution_count": null,
   "metadata": {},
   "outputs": [],
   "source": [
    "samecthanaplusb.graph(dpi=\"100\")"
   ]
  },
  {
   "cell_type": "markdown",
   "metadata": {},
   "source": [
    "### Variantes de _i_ _aes_ y _j_ _bes_ con condicionales  "
   ]
  },
  {
   "cell_type": "code",
   "execution_count": null,
   "metadata": {},
   "outputs": [],
   "source": [
    "aibj3=PDA(Q=['q_0','q_1','q_2'],\n",
    "         sigma=['a','b',],\n",
    "         gamma=['1','2','0'],\n",
    "         q_0='q_0',\n",
    "         A=['q_2'],\n",
    "         delta=[\n",
    "            (('q_0','a','Z0'),[('q_0','1Z0')]),\n",
    "            (('q_0','a','1'),[('q_0','2')]),\n",
    "            (('q_0','a','2'),[('q_0','epsilon')]),\n",
    "            (('q_0','epsilon','Z0'),[('q_1','Z0')]), \n",
    "            (('q_0','b','Z0'),[('q_1','1Z0')]),\n",
    "            (('q_0','b','1'),[('q_1','2')]),\n",
    "            (('q_0','b','2'),[('q_1','epsilon')]),\n",
    "            (('q_1','b','Z0'),[('q_1','1Z0')]),\n",
    "            (('q_1','b','1'),[('q_1','2')]),\n",
    "            (('q_1','b','2'),[('q_1','epsilon')]), \n",
    "            (('q_1','epsilon','Z0'),[('q_2','Z0')]),\n",
    "         ]\n",
    "    )"
   ]
  },
  {
   "cell_type": "code",
   "execution_count": null,
   "metadata": {},
   "outputs": [],
   "source": [
    "aibj3.graph(dpi=\"100\")"
   ]
  },
  {
   "cell_type": "code",
   "execution_count": null,
   "metadata": {},
   "outputs": [],
   "source": [
    "aibj3_two=PDA(Q=['q_0','q_1','q_2','q_0_','q_1_','q_2_'],\n",
    "         sigma=['a','b',],\n",
    "         gamma=['1','2','0'],\n",
    "         q_0='q_0',\n",
    "         A=['q_0','q_0_'],\n",
    "         delta=[\n",
    "            (('q_0','a','Z0'),[('q_1','Z0')]),\n",
    "            (('q_1','a','Z0'),[('q_2','Z0')]),\n",
    "            (('q_2','a','Z0'),[('q_0','Z0')]),\n",
    "            (('q_0','b','Z0'),[('q_1_','Z0')]),\n",
    "            (('q_1','b','Z0'),[('q_2_','Z0')]),\n",
    "            (('q_2','b','Z0'),[('q_0_','Z0')]),\n",
    "            (('q_0_','b','Z0'),[('q_1_','Z0')]),\n",
    "            (('q_1_','b','Z0'),[('q_2_','Z0')]),\n",
    "            (('q_2_','b','Z0'),[('q_0_','Z0')]),\n",
    "         ]\n",
    "    )"
   ]
  },
  {
   "cell_type": "code",
   "execution_count": null,
   "metadata": {},
   "outputs": [],
   "source": [
    "aibj3_two.graph(dpi=\"100\")"
   ]
  },
  {
   "cell_type": "code",
   "execution_count": null,
   "metadata": {},
   "outputs": [],
   "source": [
    "aibj3_three=PDA(Q=['q_0','q_1','q_2','q_3','q_4'],\n",
    "         sigma=['a','b',],\n",
    "         gamma=['I'],\n",
    "         q_0='q_0',\n",
    "         A=['q_4'],\n",
    "         delta=[\n",
    "            (('q_0','a','Z0'),[('q_0','IZ0')]),\n",
    "            (('q_0','a','I'),[('q_0','II')]),\n",
    "            (('q_0','b','Z0'),[('q_1','IZ0')]),\n",
    "            (('q_0','b','I'),[('q_1','II')]),\n",
    "            (('q_1','b','I'),[('q_1','II')]),             \n",
    "            (('q_1','epsilon','I'),[('q_2','epsilon')]),\n",
    "            (('q_2','epsilon','I'),[('q_3','epsilon')]),\n",
    "            (('q_3','epsilon','I'),[('q_1','epsilon')]),\n",
    "            (('q_1','epsilon','Z0'),[('q_4','Z0')]),\n",
    "         ]\n",
    "    )"
   ]
  },
  {
   "cell_type": "code",
   "execution_count": null,
   "metadata": {},
   "outputs": [],
   "source": [
    "aibj3_three.graph(dpi=\"100\")"
   ]
  },
  {
   "cell_type": "code",
   "execution_count": null,
   "metadata": {},
   "outputs": [],
   "source": [
    "aibj3_four=PDA(Q=['q_0','q_1','q_2','q_3'],\n",
    "         sigma=['a','b',],\n",
    "         gamma=['A','B'],\n",
    "         q_0='q_0',\n",
    "         A=['q_3'],\n",
    "         delta=[\n",
    "            (('q_0','a','Z0'),[('q_1','AZ0')]),\n",
    "            (('q_0','a','A'),[('q_1','AA')]),\n",
    "            (('q_0','b','Z0'),[('q_1','BZ0')]),\n",
    "            (('q_0','b','B'),[('q_1','BB')]), \n",
    "            (('q_1','a','A'),[('q_2','AA')]),\n",
    "            (('q_1','b','A'),[('q_2','BA')]),\n",
    "            (('q_1','b','B'),[('q_2','BB')]), \n",
    "            (('q_2','a','A'),[('q_0','AA')]),\n",
    "            (('q_2','b','A'),[('q_0','BA')]),\n",
    "            (('q_2','b','B'),[('q_0','BB')]),\n",
    "            (('q_0','epsilon','A'),[('q_3','A')]),\n",
    "            (('q_0','epsilon','B'),[('q_3','B')]),\n",
    "         ]\n",
    "    )"
   ]
  },
  {
   "cell_type": "code",
   "execution_count": null,
   "metadata": {},
   "outputs": [],
   "source": [
    "aibj3_four.graph(dpi=\"100\")"
   ]
  }
 ],
 "metadata": {
  "kernelspec": {
   "display_name": "Python 3 (ipykernel)",
   "language": "python",
   "name": "python3"
  },
  "language_info": {
   "codemirror_mode": {
    "name": "ipython",
    "version": 3
   },
   "file_extension": ".py",
   "mimetype": "text/x-python",
   "name": "python",
   "nbconvert_exporter": "python",
   "pygments_lexer": "ipython3",
   "version": "3.8.10"
  }
 },
 "nbformat": 4,
 "nbformat_minor": 4
}
