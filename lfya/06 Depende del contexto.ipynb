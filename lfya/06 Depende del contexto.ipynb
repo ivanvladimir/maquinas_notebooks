{
 "cells": [
  {
   "cell_type": "markdown",
   "metadata": {},
   "source": [
    "[![Open In Colab](https://colab.research.google.com/assets/colab-badge.svg)](https://colab.research.google.com/github/ivanvladimir/maquinas_notebooks/blob/main/lfya/06%20Depende%20del%20contexto.ipynb)"
   ]
  },
  {
   "cell_type": "code",
   "execution_count": null,
   "metadata": {},
   "outputs": [],
   "source": [
    "# Execute if not installes\n",
    "!pip install maquinas"
   ]
  },
  {
   "cell_type": "code",
   "execution_count": null,
   "metadata": {},
   "outputs": [],
   "source": [
    "from maquinas.contextfree.cfg import ContextFreeGrammar as CFG"
   ]
  },
  {
   "cell_type": "code",
   "execution_count": null,
   "metadata": {},
   "outputs": [],
   "source": [
    "wwʳ=CFG('S->aSa; S->bSb; S-> epsilon')\n",
    "print(wwʳ.summary())\n",
    "roots,chart,forest=wwʳ.parse('abbbba')\n",
    "wwʳ.graph_trees(wwʳ.extract_trees(forest))"
   ]
  },
  {
   "cell_type": "code",
   "execution_count": null,
   "metadata": {},
   "outputs": [],
   "source": [
    "wawʳ=CFG('S->aSa; S->bSb; S-> a; S-> b')\n",
    "print(wawʳ.summary())\n",
    "roots,chart,forest=wawʳ.parse('abbabba')\n",
    "wawʳ.graph_trees(wawʳ.extract_trees(forest))"
   ]
  },
  {
   "cell_type": "code",
   "execution_count": null,
   "metadata": {},
   "outputs": [],
   "source": [
    "w_wʳ=CFG('S->aSa; S->bSb; S-> a; S-> b; S-> epsilon')\n",
    "print(w_wʳ.summary())\n",
    "roots,chart,forest=w_wʳ.parse('abbabba')\n",
    "w_wʳ.graph_trees(w_wʳ.extract_trees(forest))"
   ]
  },
  {
   "cell_type": "code",
   "execution_count": null,
   "metadata": {},
   "outputs": [],
   "source": [
    "wmwʳ=CFG('S->aSa; S->bSb; S-> m;')\n",
    "print(wmwʳ.summary())\n",
    "roots,chart,forest=wmwʳ.parse('abbmbba')\n",
    "wmwʳ.graph_trees(wmwʳ.extract_trees(forest))"
   ]
  },
  {
   "cell_type": "code",
   "execution_count": null,
   "metadata": {},
   "outputs": [],
   "source": [
    "from maquinas.contextfree.pda import PushDownAutomaton as PDA\n",
    "from maquinas.simulation import Simulation"
   ]
  },
  {
   "cell_type": "code",
   "execution_count": null,
   "metadata": {},
   "outputs": [],
   "source": [
    "# Ejercicio uno\n",
    "wwʳ=PDA(Q=['q_0','q_1','q_2'],\n",
    "         sigma=['a','b'],\n",
    "         gamma=['A','B'],\n",
    "         q_0='q_0',\n",
    "         A=['q_2'],\n",
    "         delta=[\n",
    "            (('q_0','a','Z0'),[('q_0','AZ0')]),\n",
    "            (('q_0','a','A'),[('q_0','AA')]),\n",
    "            (('q_0','a','B'),[('q_0','AB')]),\n",
    "            (('q_0','b','Z0'),[('q_0','BZ0')]),\n",
    "            (('q_0','b','A'),[('q_0','BA')]),\n",
    "            (('q_0','b','B'),[('q_0','BB')]),\n",
    "            (('q_0','epsilon','Z0'),[('q_1','Z0')]), \n",
    "            (('q_0','epsilon','A'),[('q_1','A')]),\n",
    "            (('q_0','epsilon','B'),[('q_1','B')]),\n",
    "            (('q_1','a','A'),[('q_1','epsilon')]),\n",
    "            (('q_1','b','B'),[('q_1','epsilon')]),\n",
    "            (('q_1','epsilon','Z0'),[('q_2','Z0')]),\n",
    "         ]\n",
    "    )"
   ]
  },
  {
   "cell_type": "code",
   "execution_count": null,
   "metadata": {},
   "outputs": [],
   "source": [
    "for q,a,w_ in wwʳ.delta_stepwise(\"abbbba\"):\n",
    "    if a:\n",
    "        print(f\"{a} -> {wwʳ.states2string(q)}\", end=\",\\n \")\n",
    "    else:\n",
    "        print(f\"{wwʳ.states2string(q)}\",end=\"\\n \")\n",
    "    res=q\n",
    "    \n",
    "print(f\"\\nCon {wwʳ.states2string(res)} Se acepta?\", \"Sí\" if wwʳ.accept(res) else \"No\" )"
   ]
  },
  {
   "cell_type": "code",
   "execution_count": null,
   "metadata": {},
   "outputs": [],
   "source": [
    "wwʳ.save_img('wwr')\n",
    "wwʳ.save_gif(\"abbbba\",filename=\"wwr.gif\",show=False)\n",
    "wwʳ.graph()"
   ]
  },
  {
   "cell_type": "code",
   "execution_count": null,
   "metadata": {},
   "outputs": [],
   "source": [
    "# Ejercicio uno\n",
    "wawʳ=PDA(Q=['q_0','q_1','q_2'],\n",
    "         sigma=['a','b'],\n",
    "         gamma=['A','B'],\n",
    "         q_0='q_0',\n",
    "         A=['q_2'],\n",
    "         delta=[\n",
    "            (('q_0','a','Z0'),[('q_0','AZ0')]),\n",
    "            (('q_0','a','A'),[('q_0','AA')]),\n",
    "            (('q_0','a','B'),[('q_0','AB')]),\n",
    "            (('q_0','b','Z0'),[('q_0','BZ0')]),\n",
    "            (('q_0','b','A'),[('q_0','BA')]),\n",
    "            (('q_0','b','B'),[('q_0','BB')]),\n",
    "            (('q_0','a','Z0'),[('q_1','Z0')]), \n",
    "            (('q_0','a','A'),[('q_1','A')]),\n",
    "            (('q_0','a','B'),[('q_1','B')]),\n",
    "            (('q_0','b','Z0'),[('q_1','Z0')]), \n",
    "            (('q_0','b','A'),[('q_1','A')]),\n",
    "            (('q_0','b','B'),[('q_1','B')]),\n",
    "            (('q_1','a','A'),[('q_1','epsilon')]),\n",
    "            (('q_1','b','B'),[('q_1','epsilon')]),\n",
    "            (('q_1','epsilon','Z0'),[('q_2','Z0')]),\n",
    "         ]\n",
    "    )"
   ]
  },
  {
   "cell_type": "code",
   "execution_count": null,
   "metadata": {},
   "outputs": [],
   "source": [
    "for q,a,w_ in wawʳ.delta_stepwise(\"abbabba\"):\n",
    "    if a:\n",
    "        print(f\"{a} -> {wawʳ.states2string(q)}\", end=\",\\n \")\n",
    "    else:\n",
    "        print(f\"{wawʳ.states2string(q)}\",end=\"\\n \")\n",
    "    res=q\n",
    "    \n",
    "print(f\"\\nCon {wawʳ.states2string(res)} Se acepta?\", \"Sí\" if wawʳ.accept(res) else \"No\" )"
   ]
  },
  {
   "cell_type": "code",
   "execution_count": null,
   "metadata": {},
   "outputs": [],
   "source": [
    "wawʳ.save_img('wawr')\n",
    "wawʳ.save_gif(\"abbabba\",filename=\"wawr.gif\",show=False)\n",
    "wawʳ.graph()"
   ]
  },
  {
   "cell_type": "code",
   "execution_count": null,
   "metadata": {},
   "outputs": [],
   "source": [
    "# Ejercicio uno\n",
    "w_wʳ=PDA(Q=['q_0','q_1','q_2'],\n",
    "         sigma=['a','b'],\n",
    "         gamma=['A','B'],\n",
    "         q_0='q_0',\n",
    "         A=['q_2'],\n",
    "         delta=[\n",
    "            (('q_0','a','Z0'),[('q_0','AZ0')]),\n",
    "            (('q_0','a','A'),[('q_0','AA')]),\n",
    "            (('q_0','a','B'),[('q_0','AB')]),\n",
    "            (('q_0','b','Z0'),[('q_0','BZ0')]),\n",
    "            (('q_0','b','A'),[('q_0','BA')]),\n",
    "            (('q_0','b','B'),[('q_0','BB')]),\n",
    "            (('q_0','epsilon','Z0'),[('q_1','Z0')]), \n",
    "            (('q_0','epsilon','A'),[('q_1','A')]),\n",
    "            (('q_0','epsilon','B'),[('q_1','B')]),\n",
    "            (('q_0','a','Z0'),[('q_1','Z0')]), \n",
    "            (('q_0','a','A'),[('q_1','A')]),\n",
    "            (('q_0','a','B'),[('q_1','B')]),\n",
    "            (('q_0','b','Z0'),[('q_1','Z0')]), \n",
    "            (('q_0','b','A'),[('q_1','A')]),\n",
    "            (('q_0','b','B'),[('q_1','B')]),\n",
    "            (('q_1','a','A'),[('q_1','epsilon')]),\n",
    "            (('q_1','b','B'),[('q_1','epsilon')]),\n",
    "            (('q_1','epsilon','Z0'),[('q_2','Z0')]),\n",
    "         ]\n",
    "    )"
   ]
  },
  {
   "cell_type": "code",
   "execution_count": null,
   "metadata": {},
   "outputs": [],
   "source": [
    "for q,a,w_ in w_wʳ.delta_stepwise(\"abbabba\"):\n",
    "    if a:\n",
    "        print(f\"{a} -> {w_wʳ.states2string(q)}\", end=\",\\n \")\n",
    "    else:\n",
    "        print(f\"{w_wʳ.states2string(q)}\",end=\"\\n \")\n",
    "    res=q\n",
    "    \n",
    "print(f\"\\nCon {w_wʳ.states2string(res)} Se acepta?\", \"Sí\" if w_wʳ.accept(res) else \"No\" )"
   ]
  },
  {
   "cell_type": "code",
   "execution_count": null,
   "metadata": {},
   "outputs": [],
   "source": [
    "w_wʳ.save_img('w_wr')\n",
    "w_wʳ.save_gif(\"abbabba\",filename=\"w_wr.gif\",show=False)\n",
    "w_wʳ.graph()"
   ]
  },
  {
   "cell_type": "code",
   "execution_count": null,
   "metadata": {},
   "outputs": [],
   "source": [
    "# Ejercicio dos\n",
    "wmwʳ=PDA(Q=['q_0','q_1','q_2'],\n",
    "         sigma=['a','b','m'],\n",
    "         gamma=['A','B'],\n",
    "         q_0='q_0',\n",
    "         A=['q_2'],\n",
    "         delta=[\n",
    "            (('q_0','a','Z0'),[('q_0','AZ0')]),\n",
    "            (('q_0','a','A'),[('q_0','AA')]),\n",
    "            (('q_0','a','B'),[('q_0','AB')]),\n",
    "            (('q_0','b','Z0'),[('q_0','BZ0')]),\n",
    "            (('q_0','b','A'),[('q_0','BA')]),\n",
    "            (('q_0','b','B'),[('q_0','BB')]),\n",
    "            (('q_0','m','Z0'),[('q_1','Z0')]), \n",
    "            (('q_0','m','A'),[('q_1','A')]),\n",
    "            (('q_0','m','B'),[('q_1','B')]),\n",
    "            (('q_1','a','A'),[('q_1','epsilon')]),\n",
    "            (('q_1','b','B'),[('q_1','epsilon')]),\n",
    "            (('q_1','epsilon','Z0'),[('q_2','Z0')]),\n",
    "         ]\n",
    "    )"
   ]
  },
  {
   "cell_type": "code",
   "execution_count": null,
   "metadata": {},
   "outputs": [],
   "source": [
    "for q,a,w_ in wmwʳ.delta_stepwise(\"abbmbba\"):\n",
    "    if a:\n",
    "        print(f\"{a} -> {wmwʳ.states2string(q)}\", end=\",\\n \")\n",
    "    else:\n",
    "        print(f\"{wmwʳ.states2string(q)}\",end=\"\\n \")\n",
    "    res=q\n",
    "    \n",
    "print(f\"\\nCon {wmwʳ.states2string(res)} Se acepta?\", \"Sí\" if wmwʳ.accept(res) else \"No\" )"
   ]
  },
  {
   "cell_type": "code",
   "execution_count": null,
   "metadata": {},
   "outputs": [],
   "source": [
    "wmwʳ.save_img('wmwr')\n",
    "wmwʳ.save_gif(\"abbmbba\",filename=\"wmwr.gif\",show=False)\n",
    "wmwʳ.graph()"
   ]
  },
  {
   "cell_type": "code",
   "execution_count": null,
   "metadata": {},
   "outputs": [],
   "source": [
    "# Ejercicio tres\n",
    "bn1an_one=PDA(Q=['q_0','q_1','q_2','q_3'],\n",
    "         sigma=['a','b',],\n",
    "         gamma=['B'],\n",
    "         q_0='q_0',\n",
    "         A=['q_3'],\n",
    "         delta=[\n",
    "            (('q_0','b','Z0'),[('q_1','Z0')]),\n",
    "            (('q_1','b','Z0'),[('q_1','BZ0')]),\n",
    "            (('q_1','b','B'),[('q_1','BB')]),\n",
    "            (('q_1','a','B'),[('q_2','epsilon')]),\n",
    "            (('q_2','a','B'),[('q_2','epsilon')]), \n",
    "            (('q_2','epsilon','Z0'),[('q_3','Z0')]),\n",
    "         ]\n",
    "    )"
   ]
  },
  {
   "cell_type": "code",
   "execution_count": null,
   "metadata": {},
   "outputs": [],
   "source": [
    "bn1an_one.save_img('bn1an_one')\n",
    "bn1an_one.save_gif(\"bbbbaaa\",filename=\"bn1an_one.gif\",show=False)\n",
    "bn1an_one.graph()"
   ]
  },
  {
   "cell_type": "code",
   "execution_count": null,
   "metadata": {},
   "outputs": [],
   "source": [
    "bn1an_two=PDA(Q=['q_0','q_1','q_2'],\n",
    "         sigma=['a','b',],\n",
    "         gamma=['B'],\n",
    "         q_0='q_0',\n",
    "         A=['q_2'],\n",
    "         delta=[\n",
    "            (('q_0','b','Z0'),[('q_0','BZ0')]),\n",
    "            (('q_0','b','B'),[('q_0','BB')]),\n",
    "            (('q_0','b','B'),[('q_1','B')]),\n",
    "            (('q_0','b','Z0'),[('q_1','Z0')]),\n",
    "            (('q_1','a','B'),[('q_1','epsilon')]), \n",
    "            (('q_1','epsilon','Z0'),[('q_2','Z0')]),\n",
    "         ]\n",
    "    )"
   ]
  },
  {
   "cell_type": "code",
   "execution_count": null,
   "metadata": {},
   "outputs": [],
   "source": [
    "bn1an_two.save_img('bn1an_two')\n",
    "bn1an_two.save_gif(\"bbbbaaa\",filename=\"bn1an_two.gif\",show=False)\n",
    "bn1an_two.graph()"
   ]
  },
  {
   "cell_type": "code",
   "execution_count": null,
   "metadata": {},
   "outputs": [],
   "source": [
    "bn1an_three=PDA(Q=['q_0','q_1','q_2','q_3'],\n",
    "         sigma=['a','b',],\n",
    "         gamma=['B'],\n",
    "         q_0='q_0',\n",
    "         A=['q_3'],\n",
    "         delta=[\n",
    "            (('q_0','b','Z0'),[('q_0','BZ0')]),\n",
    "            (('q_0','b','B'),[('q_0','BB')]),\n",
    "            (('q_0','a','B'),[('q_1','epsilon')]),\n",
    "            (('q_1','a','B'),[('q_1','epsilon')]),\n",
    "            (('q_1','epsilon','B'),[('q_2','epsilon')]), \n",
    "            (('q_2','epsilon','Z0'),[('q_3','Z0')]),\n",
    "         ]\n",
    "    )"
   ]
  },
  {
   "cell_type": "code",
   "execution_count": null,
   "metadata": {},
   "outputs": [],
   "source": [
    "bn1an_three.save_img('bn1an_three')\n",
    "bn1an_three.save_gif(\"bbbbaaa\",filename=\"bn1an_three.gif\",show=False)\n",
    "bn1an_three.graph()"
   ]
  },
  {
   "cell_type": "code",
   "execution_count": null,
   "metadata": {},
   "outputs": [],
   "source": [
    "# Ejercicio dos\n",
    "samecthanaplusb=PDA(Q=['q_0','q_1'],\n",
    "         sigma=['a','b','c'],\n",
    "         gamma=['A','C'],\n",
    "         q_0='q_0',\n",
    "         A=['q_1'],\n",
    "         delta=[\n",
    "            (('q_0','a','Z0'),[('q_0','CZ0')]),\n",
    "            (('q_0','a','C'),[('q_0','CC')]),\n",
    "            (('q_0','a','A'),[('q_0','epsilon')]),\n",
    "            (('q_0','b','Z0'),[('q_0','CZ0')]),\n",
    "            (('q_0','b','C'),[('q_0','CC')]),\n",
    "            (('q_0','b','A'),[('q_0','epsilon')]),\n",
    "            (('q_0','c','Z0'),[('q_0','AZ0')]),\n",
    "            (('q_0','c','A'),[('q_0','AA')]),\n",
    "            (('q_0','c','C'),[('q_0','epsilon')]),\n",
    "            (('q_0','epsilon','Z0'),[('q_1','Z0')]),\n",
    "         ]\n",
    "    )"
   ]
  },
  {
   "cell_type": "code",
   "execution_count": null,
   "metadata": {},
   "outputs": [],
   "source": [
    "samecthanaplusb.save_img('samecthanaplusb')\n",
    "samecthanaplusb.save_gif(\"caccbaaaacaccc\",filename=\"samecthanaplusb.gif\",show=False)\n",
    "samecthanaplusb.graph()"
   ]
  },
  {
   "cell_type": "code",
   "execution_count": null,
   "metadata": {},
   "outputs": [],
   "source": [
    "aibj3=PDA(Q=['q_0','q_1','q_2'],\n",
    "         sigma=['a','b',],\n",
    "         gamma=['1','2','0'],\n",
    "         q_0='q_0',\n",
    "         A=['q_2'],\n",
    "         delta=[\n",
    "            (('q_0','a','Z0'),[('q_0','1Z0')]),\n",
    "            (('q_0','a','1'),[('q_0','2')]),\n",
    "            (('q_0','a','2'),[('q_0','epsilon')]),\n",
    "            (('q_0','epsilon','Z0'),[('q_1','Z0')]), \n",
    "            (('q_0','b','Z0'),[('q_1','1Z0')]),\n",
    "            (('q_0','b','1'),[('q_1','2')]),\n",
    "            (('q_0','b','2'),[('q_1','epsilon')]),\n",
    "            (('q_1','b','Z0'),[('q_1','1Z0')]),\n",
    "            (('q_1','b','1'),[('q_1','2')]),\n",
    "            (('q_1','b','2'),[('q_1','epsilon')]), \n",
    "            (('q_1','epsilon','Z0'),[('q_2','Z0')]),\n",
    "         ]\n",
    "    )"
   ]
  },
  {
   "cell_type": "code",
   "execution_count": null,
   "metadata": {},
   "outputs": [],
   "source": [
    "aibj3.save_img('aibj3')\n",
    "aibj3.save_gif(\"aaaabb\",filename=\"aibj3.gif\",show=False)\n",
    "aibj3.graph()"
   ]
  },
  {
   "cell_type": "code",
   "execution_count": null,
   "metadata": {},
   "outputs": [],
   "source": [
    "aibj3_two=PDA(Q=['q_0','q_1','q_2','q_0_','q_1_','q_2_'],\n",
    "         sigma=['a','b',],\n",
    "         gamma=['1','2','0'],\n",
    "         q_0='q_0',\n",
    "         A=['q_0','q_0_'],\n",
    "         delta=[\n",
    "            (('q_0','a','Z0'),[('q_1','Z0')]),\n",
    "            (('q_1','a','Z0'),[('q_2','Z0')]),\n",
    "            (('q_2','a','Z0'),[('q_0','Z0')]),\n",
    "            (('q_0','b','Z0'),[('q_1_','Z0')]),\n",
    "            (('q_1','b','Z0'),[('q_2_','Z0')]),\n",
    "            (('q_2','b','Z0'),[('q_0_','Z0')]),\n",
    "            (('q_0_','b','Z0'),[('q_1_','Z0')]),\n",
    "            (('q_1_','b','Z0'),[('q_2_','Z0')]),\n",
    "            (('q_2_','b','Z0'),[('q_0_','Z0')]),\n",
    "         ]\n",
    "    )"
   ]
  },
  {
   "cell_type": "code",
   "execution_count": null,
   "metadata": {},
   "outputs": [],
   "source": [
    "aibj3_two.save_img('aibj3_two')\n",
    "aibj3_two.save_gif(\"aaaabb\",filename=\"aibj3_two.gif\",show=False)\n",
    "aibj3_two.graph()"
   ]
  },
  {
   "cell_type": "code",
   "execution_count": null,
   "metadata": {},
   "outputs": [],
   "source": [
    "aibj3_three=PDA(Q=['q_0','q_1','q_2','q_3','q_4'],\n",
    "         sigma=['a','b',],\n",
    "         gamma=['I'],\n",
    "         q_0='q_0',\n",
    "         A=['q_4'],\n",
    "         delta=[\n",
    "            (('q_0','a','Z0'),[('q_0','IZ0')]),\n",
    "            (('q_0','a','I'),[('q_0','II')]),\n",
    "            (('q_0','b','Z0'),[('q_1','IZ0')]),\n",
    "            (('q_0','b','I'),[('q_1','II')]),\n",
    "            (('q_1','b','I'),[('q_1','II')]),             \n",
    "            (('q_1','epsilon','I'),[('q_2','epsilon')]),\n",
    "            (('q_2','epsilon','I'),[('q_3','epsilon')]),\n",
    "            (('q_3','epsilon','I'),[('q_1','epsilon')]),\n",
    "            (('q_1','epsilon','Z0'),[('q_4','Z0')]),\n",
    "         ]\n",
    "    )"
   ]
  },
  {
   "cell_type": "code",
   "execution_count": null,
   "metadata": {},
   "outputs": [],
   "source": [
    "aibj3_three.save_img('aibj3_three')\n",
    "aibj3_three.save_gif(\"aaaabb\",filename=\"aibj3_three.gif\",show=False)\n",
    "aibj3_three.graph()"
   ]
  },
  {
   "cell_type": "code",
   "execution_count": null,
   "metadata": {},
   "outputs": [],
   "source": [
    "aibj3_four=PDA(Q=['q_0','q_1','q_2','q_3'],\n",
    "         sigma=['a','b',],\n",
    "         gamma=['A','B'],\n",
    "         q_0='q_0',\n",
    "         A=['q_3'],\n",
    "         delta=[\n",
    "            (('q_0','a','Z0'),[('q_1','AZ0')]),\n",
    "            (('q_0','a','A'),[('q_1','AA')]),\n",
    "            (('q_0','b','Z0'),[('q_1','BZ0')]),\n",
    "            (('q_0','b','B'),[('q_1','BB')]), \n",
    "            (('q_1','a','A'),[('q_2','AA')]),\n",
    "            (('q_1','b','A'),[('q_2','BA')]),\n",
    "            (('q_1','b','B'),[('q_2','BB')]), \n",
    "            (('q_2','a','A'),[('q_0','AA')]),\n",
    "            (('q_2','b','A'),[('q_0','BA')]),\n",
    "            (('q_2','b','B'),[('q_0','BB')]),\n",
    "            (('q_0','epsilon','A'),[('q_3','A')]),\n",
    "            (('q_0','epsilon','B'),[('q_3','B')]),\n",
    "         ]\n",
    "    )"
   ]
  },
  {
   "cell_type": "code",
   "execution_count": null,
   "metadata": {},
   "outputs": [],
   "source": [
    "aibj3_four.save_img('aibj3_four')\n",
    "aibj3_four.save_gif(\"aaaabb\",filename=\"aibj3_four.gif\",show=False)\n",
    "aibj3_four.graph()"
   ]
  }
 ],
 "metadata": {
  "kernelspec": {
   "display_name": "Python 3",
   "language": "python",
   "name": "python3"
  },
  "language_info": {
   "codemirror_mode": {
    "name": "ipython",
    "version": 3
   },
   "file_extension": ".py",
   "mimetype": "text/x-python",
   "name": "python",
   "nbconvert_exporter": "python",
   "pygments_lexer": "ipython3",
   "version": "3.6.8"
  }
 },
 "nbformat": 4,
 "nbformat_minor": 2
}
