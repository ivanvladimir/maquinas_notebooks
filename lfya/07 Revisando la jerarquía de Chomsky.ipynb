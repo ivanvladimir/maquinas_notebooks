{
 "cells": [
  {
   "cell_type": "markdown",
   "metadata": {},
   "source": [
    "[![Open In Colab](https://colab.research.google.com/assets/colab-badge.svg)](https://colab.research.google.com/github/ivanvladimir/maquinas_notebooks/blob/main/lfya/07%20Revisando%20la%20jerarqu%C3%ADa%20de%20Chomsky.ipynb)"
   ]
  },
  {
   "cell_type": "code",
   "execution_count": null,
   "metadata": {},
   "outputs": [],
   "source": [
    "# Execute if not installes\n",
    "!pip install maquinas"
   ]
  },
  {
   "cell_type": "code",
   "execution_count": null,
   "metadata": {},
   "outputs": [],
   "source": [
    "from maquinas.contextfree.cfg import ContextFreeGrammar as CFG\n",
    "from maquinas.recursivelyenumerable.tspda import TwoStackPushDownAutomaton as PDA2"
   ]
  },
  {
   "cell_type": "code",
   "execution_count": null,
   "metadata": {},
   "outputs": [],
   "source": [
    "long=CFG('S->aSA; S->BSB; S->D; A-> a; B->b; D-> epsilon')\n",
    "print(long.summary())\n",
    "roots,chart,forest=long.parse('abaaba')\n",
    "long.graph_trees(long.extract_trees(forest))"
   ]
  },
  {
   "cell_type": "code",
   "execution_count": null,
   "metadata": {},
   "outputs": [],
   "source": [
    "long.save_trees_img(long.extract_trees(forest),'original')"
   ]
  },
  {
   "cell_type": "code",
   "execution_count": null,
   "metadata": {},
   "outputs": [],
   "source": [
    "fnc=CFG('R->S; S-> NT; S-> BV; S-> NA; S-> BB; T-> SA; V -> SB; N-> a; A -> a; C -> a; B -> b')\n",
    "print(fnc.summary())\n",
    "roots,chart,forest=fnc.parse('abaaba')\n",
    "fnc.graph_trees(fnc.extract_trees(forest))"
   ]
  },
  {
   "cell_type": "code",
   "execution_count": null,
   "metadata": {},
   "outputs": [],
   "source": [
    "fnc.save_trees_img(fnc.extract_trees(forest),'fnc')"
   ]
  },
  {
   "cell_type": "code",
   "execution_count": null,
   "metadata": {},
   "outputs": [],
   "source": [
    "# Creating automata finito\n",
    "aⁿbⁿcⁿ=PDA2(Q=['q_0','q_1','q_2','q_3'],\n",
    "         sigma=['a','b'],\n",
    "         gamma=['A'],\n",
    "         q_0='q_0',\n",
    "         A=['q_3'],\n",
    "         delta=[\n",
    "            (('q_0','a','Z0','Z0'),[('q_0','AZ0','AZ0')]),\n",
    "            (('q_0','a','A','A'),[('q_0','AA','AA')]),\n",
    "            (('q_0','b','A','A'),[('q_1','epsilon','A')]),\n",
    "            (('q_1','b','A','A'),[('q_1','epsilon','A')]),\n",
    "            (('q_1','c','Z0','A'),[('q_2','Z0','epsilon')]),\n",
    "            (('q_2','c','Z0','A'),[('q_2','Z0','epsilon')]),\n",
    "            (('q_2','epsilon','Z0','Z0'),[('q_3','Z0','Z0')]),\n",
    "         ]\n",
    "    )"
   ]
  },
  {
   "cell_type": "code",
   "execution_count": null,
   "metadata": {},
   "outputs": [],
   "source": [
    "aⁿbⁿcⁿ.save_img(\"anbncn\")"
   ]
  },
  {
   "cell_type": "code",
   "execution_count": null,
   "metadata": {},
   "outputs": [],
   "source": [
    "aⁿbⁿcⁿ.save_gif('aaabbbccc',\"anbncn.gif\")"
   ]
  },
  {
   "cell_type": "code",
   "execution_count": null,
   "metadata": {},
   "outputs": [],
   "source": []
  }
 ],
 "metadata": {
  "kernelspec": {
   "display_name": "Python 3",
   "language": "python",
   "name": "python3"
  },
  "language_info": {
   "codemirror_mode": {
    "name": "ipython",
    "version": 3
   },
   "file_extension": ".py",
   "mimetype": "text/x-python",
   "name": "python",
   "nbconvert_exporter": "python",
   "pygments_lexer": "ipython3",
   "version": "3.6.8"
  }
 },
 "nbformat": 4,
 "nbformat_minor": 2
}
