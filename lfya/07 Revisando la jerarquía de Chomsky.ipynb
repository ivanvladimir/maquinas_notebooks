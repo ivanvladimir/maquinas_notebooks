{
 "cells": [
  {
   "cell_type": "markdown",
   "metadata": {},
   "source": [
    "[![Open In Colab](https://colab.research.google.com/assets/colab-badge.svg)](https://colab.research.google.com/github/ivanvladimir/maquinas_notebooks/blob/main/lfya/07%20Revisando%20la%20jerarqu%C3%ADa%20de%20Chomsky.ipynb)\n",
    "\n",
    "# 07 Revisando la jerarquía de Chomsky\n",
    "\n",
    "Esta notebook ilustra los conceptos de [**Revisando la jerarquía de Chomsky**](https://ivanvladimir.gitlab.io/lfya_book/docs/07revisandolajerarqu%C3%ADadechomsky/) correspondiente al curso de [**Lenguajes Formales y Autómatas**](https://turing.iimas.unam.mx/~ivanvladimir/page/curso_lfya/)\n",
    "\n",
    "\n",
    "## Instrucciones\n",
    "\n",
    "1. Si la librería [**maquinas**](https://pypi.org/project/maquinas/) no está instalada ejecutar la celdas correspondiente a la sección marcada con ◉\n",
    "2. Importar los módulos de librería relevantes\n",
    "3. Ejecuar las celdas para explorar los conceptos\n",
    "\n",
    "\n",
    "## Licencia de la notebook\n",
    "\n",
    "<a rel=\"license\" href=\"http://creativecommons.org/licenses/by/4.0/\"><img alt=\"Creative Commons License\" style=\"border-width:0\" src=\"https://i.creativecommons.org/l/by/4.0/80x15.png\" /></a>\n",
    "</br>This work is licensed under a <a rel=\"license\" href=\"http://creativecommons.org/licenses/by/4.0/\">Creative Commons Attribution 4.0 International License</a>.\n",
    "\n",
    "## General information\n",
    "\n",
    "> **Author(s)**: <a href=\"https://twitter.com/ivanvladimir\">@ivanvladimir</a></br>\n",
    "> **Last updated**: 24/01/2023"
   ]
  },
  {
   "cell_type": "markdown",
   "metadata": {},
   "source": [
    "### ◉ Instalando la librería \n",
    "\n",
    "Se instala la librería [maquinas](https://pypi.org/project/maquinas/)\n",
    "\n",
    "**Requerido en colab**, _opcional en ambiente local a través de jupyter_"
   ]
  },
  {
   "cell_type": "code",
   "execution_count": null,
   "metadata": {},
   "outputs": [],
   "source": [
    "# Execute if not installes\n",
    "!pip install maquinas --upgrade"
   ]
  },
  {
   "cell_type": "markdown",
   "metadata": {},
   "source": [
    "### 01 Importar módulos\n",
    "\n",
    "Se importan las [Gramaticas Libres de Contexto](https://ivanvladimir.gitlab.io/lfya_book/docs/04abropar%C3%A9ntesisabropar%C3%A9ntesiscierropar%C3%A9ntesis/03gram%C3%A1ticaslibresdecontexto/) (CFG) y [Autómatas de pila doble](https://ivanvladimir.gitlab.io/lfya_book/docs/07revisandolajerarqu%C3%ADadechomsky/05aut%C3%B3matadedoblepila/) (AP)"
   ]
  },
  {
   "cell_type": "code",
   "execution_count": null,
   "metadata": {},
   "outputs": [],
   "source": [
    "from maquinas.contextfree.cfg import ContextFreeGrammar as CFG\n",
    "from maquinas.recursivelyenumerable.tspda import TwoStackPushDownAutomaton as PDA2\n",
    "from maquinas.io import load_tspda"
   ]
  },
  {
   "cell_type": "markdown",
   "metadata": {},
   "source": [
    "### 02 Comparación de una gramática y su versión en FNC"
   ]
  },
  {
   "cell_type": "code",
   "execution_count": null,
   "metadata": {},
   "outputs": [],
   "source": [
    "long=CFG('S->aSA; S->BSB; S->D; A-> a; B->b; D-> epsilon')\n",
    "long.print_summary()\n",
    "roots,chart,forest=long.parse('abaaba')\n",
    "long.graph_trees(long.extract_trees(forest))"
   ]
  },
  {
   "cell_type": "markdown",
   "metadata": {},
   "source": [
    "Gramática en FNC"
   ]
  },
  {
   "cell_type": "code",
   "execution_count": null,
   "metadata": {},
   "outputs": [],
   "source": [
    "fnc=CFG('R->S; S-> NT; S-> BV; S-> NA; S-> BB; T-> SA; V -> SB; N-> a; A -> a; C -> a; B -> b')\n",
    "print(fnc.summary())\n",
    "roots,chart,forest=fnc.parse('abaaba')\n",
    "fnc.graph_trees(fnc.extract_trees(forest))"
   ]
  },
  {
   "cell_type": "markdown",
   "metadata": {},
   "source": [
    "### 02 APD2\n",
    "\n",
    "Los [Autómatas de Pila Doble](https://ivanvladimir.gitlab.io/lfya_book/docs/07revisandolajerarqu%C3%ADadechomsky/05aut%C3%B3matadedoblepila/) se pueden definir con código, o usando _load_tspda_ "
   ]
  },
  {
   "cell_type": "code",
   "execution_count": null,
   "metadata": {},
   "outputs": [],
   "source": [
    "aⁿbⁿcⁿ=PDA2(Q=['q_0','q_1','q_2','q_3'],\n",
    "         sigma=['a','b'],\n",
    "         gamma=['A'],\n",
    "         q_0='q_0',\n",
    "         A=['q_3'],\n",
    "         delta=[\n",
    "            (('q_0','a','Z0','Z0'),[('q_0','AZ0','AZ0')]),\n",
    "            (('q_0','a','A','A'),[('q_0','AA','AA')]),\n",
    "            (('q_0','b','A','A'),[('q_1','epsilon','A')]),\n",
    "            (('q_1','b','A','A'),[('q_1','epsilon','A')]),\n",
    "            (('q_1','c','Z0','A'),[('q_2','Z0','epsilon')]),\n",
    "            (('q_2','c','Z0','A'),[('q_2','Z0','epsilon')]),\n",
    "            (('q_2','epsilon','Z0','Z0'),[('q_3','Z0','Z0')]),\n",
    "         ]\n",
    "    )\n",
    "aⁿbⁿcⁿ.print_summary()"
   ]
  },
  {
   "cell_type": "code",
   "execution_count": null,
   "metadata": {},
   "outputs": [],
   "source": [
    "aⁿbⁿcⁿ=load_tspda(\"\"\"\n",
    "        |        ε        |                a                 |      b      |       c       |\n",
    " ->q_0  |                 | Z₀/AZ₀,Z₀/AZ₀→q_0, A/AA,A/AA→q_0 | A/ε,A/A→q_1 |               |\n",
    "   q_1  |                 |                                  | A/ε,A/A→q_1 | Z₀/Z₀,A/ε→q_2 |\n",
    "   q_2  | Z₀/Z₀,Z₀/Z₀→q_3 |                                  |             | Z₀/Z₀,A/ε→q_2 |\n",
    "   q_3] |                 |                                  |             |               |\"\"\")\n",
    "aⁿbⁿcⁿ.print_summary()"
   ]
  },
  {
   "cell_type": "code",
   "execution_count": null,
   "metadata": {},
   "outputs": [],
   "source": [
    "aⁿbⁿcⁿ.graph(dpi=\"100\")"
   ]
  },
  {
   "cell_type": "code",
   "execution_count": null,
   "metadata": {},
   "outputs": [],
   "source": [
    "aⁿbⁿcⁿ.save_gif('aaabbbccc',\"anbncn.gif\",show=True)"
   ]
  },
  {
   "cell_type": "code",
   "execution_count": null,
   "metadata": {},
   "outputs": [],
   "source": [
    "for q,a,w_ in aⁿbⁿcⁿ.delta_stepwise(\"aaabbbccc\"):\n",
    "    if a:\n",
    "        print(f\"{a} -> {aⁿbⁿcⁿ.states2string(q)}\", end=\",\\n \")\n",
    "    else:\n",
    "        print(f\"{aⁿbⁿcⁿ.states2string(q)}\",end=\"\\n \")\n",
    "    res=q\n",
    "    \n",
    "print(f\"\\nCon {aⁿbⁿcⁿ.states2string(res)} Se acepta?\", \"Sí\" if aⁿbⁿcⁿ.acceptor(res) else \"No\" )"
   ]
  },
  {
   "cell_type": "code",
   "execution_count": null,
   "metadata": {},
   "outputs": [],
   "source": [
    "for q,a,w_ in aⁿbⁿcⁿ.delta_stepwise(\"aaabbbcccc\"):\n",
    "    if a:\n",
    "        print(f\"{a} -> {aⁿbⁿcⁿ.states2string(q)}\", end=\",\\n \")\n",
    "    else:\n",
    "        print(f\"{aⁿbⁿcⁿ.states2string(q)}\",end=\"\\n \")\n",
    "    res=q\n",
    "    \n",
    "print(f\"\\nCon {aⁿbⁿcⁿ.states2string(res)} Se acepta?\", \"Sí\" if aⁿbⁿcⁿ.acceptor(res) else \"No\" )"
   ]
  }
 ],
 "metadata": {
  "kernelspec": {
   "display_name": "Python 3 (ipykernel)",
   "language": "python",
   "name": "python3"
  },
  "language_info": {
   "codemirror_mode": {
    "name": "ipython",
    "version": 3
   },
   "file_extension": ".py",
   "mimetype": "text/x-python",
   "name": "python",
   "nbconvert_exporter": "python",
   "pygments_lexer": "ipython3",
   "version": "3.8.10"
  }
 },
 "nbformat": 4,
 "nbformat_minor": 4
}
