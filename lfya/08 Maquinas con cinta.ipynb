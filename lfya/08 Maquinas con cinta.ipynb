{
 "cells": [
  {
   "cell_type": "markdown",
   "metadata": {
    "tags": []
   },
   "source": [
    "[![Open In Colab](https://colab.research.google.com/assets/colab-badge.svg)](https://colab.research.google.com/github/ivanvladimir/maquinas_notebooks/blob/main/lfya/08%20Maquinas%20con%20cinta.ipynb)\n",
    "\n",
    "# 09 Máquinas con cinta\n",
    "\n",
    "Esta notebook ilustra los conceptos de [**Máquinas de Turing**](https://ivanvladimir.gitlab.io/lfya_book/docs/08lam%C3%A1quinaconcinta/) correspondiente al curso de [**Lenguajes Formales y Autómatas**](https://turing.iimas.unam.mx/~ivanvladimir/page/curso_lfya/)\n",
    "\n",
    "\n",
    "## Instrucciones\n",
    "\n",
    "1. Si la librería [**maquinas**](https://pypi.org/project/maquinas/) no está instalada ejecutar la celdas correspondiente a la sección marcada con ◉\n",
    "2. Importar los módulos de librería relevantes\n",
    "3. Ejecuar las celdas para explorar los conceptos\n",
    "\n",
    "\n",
    "## Licencia de la notebook\n",
    "\n",
    "<a rel=\"license\" href=\"http://creativecommons.org/licenses/by/4.0/\"><img alt=\"Creative Commons License\" style=\"border-width:0\" src=\"https://i.creativecommons.org/l/by/4.0/80x15.png\" /></a>\n",
    "</br>This work is licensed under a <a rel=\"license\" href=\"http://creativecommons.org/licenses/by/4.0/\">Creative Commons Attribution 4.0 International License</a>.\n",
    "\n",
    "## General information\n",
    "\n",
    "> **Author(s)**: <a href=\"https://twitter.com/ivanvladimir\">@ivanvladimir</a></br>\n",
    "> **Last updated**: 24/01/2023"
   ]
  },
  {
   "cell_type": "markdown",
   "metadata": {},
   "source": [
    "### ◉ Instalando la librería \n",
    "\n",
    "Se instala la librería [maquinas](https://pypi.org/project/maquinas/)\n",
    "\n",
    "**Requerido en colab**, _opcional en ambiente local a través de jupyter_"
   ]
  },
  {
   "cell_type": "code",
   "execution_count": null,
   "metadata": {},
   "outputs": [],
   "source": [
    "# Execute if not installes\n",
    "!pip install maquinas --upgrade"
   ]
  },
  {
   "cell_type": "markdown",
   "metadata": {},
   "source": [
    "### 01 Importar módulos\n",
    "\n",
    "Se importan las [Máuring](https://ivanvladimir.gitlab.io/lfya_book/docs/07revisandolajerarqu%C3%ADadechomsky/05aut%C3%B3matadedoblepila/) (TM)"
   ]
  },
  {
   "cell_type": "code",
   "execution_count": null,
   "metadata": {},
   "outputs": [],
   "source": [
    "from maquinas.recursivelyenumerable.tm import TuringMachine as TM\n",
    "from maquinas.simulation import Simulation\n",
    "from maquinas.io import load_tm"
   ]
  },
  {
   "cell_type": "code",
   "execution_count": null,
   "metadata": {},
   "outputs": [],
   "source": [
    "# Creating automata finito\n",
    "aⁿbⁿ=TM(Q=['q_0','q_1','q_2','q_3','q_4'],\n",
    "         sigma=['a','b'],\n",
    "         gamma=['X','Y'],\n",
    "         q_0='q_0',\n",
    "         A=['q_4'],\n",
    "         delta=[\n",
    "            (('q_0','a'),[('q_1','X','R')]),\n",
    "            (('q_1','a'),[('q_1','a','R')]),\n",
    "            (('q_1','Y'),[('q_1','Y','R')]),\n",
    "            (('q_1','b'),[('q_2','Y','L')]),\n",
    "            (('q_2','Y'),[('q_2','Y','L')]),\n",
    "            (('q_2','a'),[('q_2','a','L')]),\n",
    "            (('q_2','X'),[('q_0','X','R')]),\n",
    "            (('q_0','Y'),[('q_3','Y','R')]),\n",
    "            (('q_3','Y'),[('q_3','Y','R')]),\n",
    "            (('q_3','[B]'),[('q_4','[B]','L')]),\n",
    "         ]\n",
    "    )\n",
    "aⁿbⁿ.print_summary()"
   ]
  },
  {
   "cell_type": "code",
   "execution_count": null,
   "metadata": {},
   "outputs": [],
   "source": [
    "aⁿbⁿ=load_tm(\"\"\"\n",
    "        |     𝖁     |     X     |     Y     |     a     |     b     |\n",
    " ->q_0  |           |           | Y/Y→q_3:R | a/X→q_1:R |           |\n",
    "   q_1  |           |           | Y/Y→q_1:R | a/a→q_1:R | b/Y→q_2:L |\n",
    "   q_2  |           | X/X→q_0:R | Y/Y→q_2:L | a/a→q_2:L |           |\n",
    "   q_3  | 𝖁/𝖁→q_4:L |           | Y/Y→q_3:R |           |           |\n",
    "   q_4] |           |           |           |           |           |\n",
    "\"\"\")\n",
    "aⁿbⁿ.print_summary()"
   ]
  },
  {
   "cell_type": "code",
   "execution_count": null,
   "metadata": {},
   "outputs": [],
   "source": [
    "aⁿbⁿ.graph(dpi=\"100\")"
   ]
  },
  {
   "cell_type": "code",
   "execution_count": null,
   "metadata": {},
   "outputs": [],
   "source": [
    "print(aⁿbⁿ.to_string(order_gamma=['a','b','X','Y','𝖁']))"
   ]
  },
  {
   "cell_type": "code",
   "execution_count": null,
   "metadata": {},
   "outputs": [],
   "source": [
    "aⁿbⁿ.save_gif(\"aaabbb\",filename=\"anbn.gif\",show=True)"
   ]
  },
  {
   "cell_type": "code",
   "execution_count": null,
   "metadata": {
    "scrolled": true
   },
   "outputs": [],
   "source": [
    "aⁿbⁿ.table()"
   ]
  },
  {
   "cell_type": "code",
   "execution_count": null,
   "metadata": {},
   "outputs": [],
   "source": [
    "for states in aⁿbⁿ.delta_stepwise(\"aaabbb\"):\n",
    "    if states:\n",
    "        print(f\"⊢ {aⁿbⁿ.states2string(states)}\",end=\"\\n\")\n",
    "        res=states\n",
    "    else:\n",
    "        print(\"Halts\")"
   ]
  },
  {
   "cell_type": "code",
   "execution_count": null,
   "metadata": {},
   "outputs": [],
   "source": [
    "#aⁿbⁿ.save_gif(\"aaabb\",filename=\"anbn_reject.gif\",show=True)"
   ]
  },
  {
   "cell_type": "markdown",
   "metadata": {},
   "source": [
    "### Sumando uno a numero binario"
   ]
  },
  {
   "cell_type": "code",
   "execution_count": null,
   "metadata": {},
   "outputs": [],
   "source": [
    "# Creating automata finito\n",
    "suma_uno_binario=TM(Q=['q_0','q_1','q_s','q_f'],\n",
    "         sigma=['0','1','$'],\n",
    "         gamma=[],\n",
    "         q_0='q_0',\n",
    "         A=['q_f'],\n",
    "         delta=[\n",
    "            (('q_0','$'),[('q_1','$','R')]),\n",
    "            (('q_1','1'),[('q_1','1','R')]), \n",
    "            (('q_1','0'),[('q_1','0','R')]),\n",
    "            (('q_1','[B]'),[('q_s','[B]','L')]),\n",
    "            (('q_s','1'),[('q_s','0','L')]),\n",
    "            (('q_s','0'),[('q_f','1','R')]),\n",
    "            (('q_s','$'),[('q_f','1','R')]),\n",
    "         ]\n",
    "    )"
   ]
  },
  {
   "cell_type": "code",
   "execution_count": null,
   "metadata": {},
   "outputs": [],
   "source": [
    "for states in suma_uno_binario.delta_stepwise(\"$1000011\"):\n",
    "    if states:\n",
    "        print(f\"⊢ {suma_uno_binario.states2string(states)}\",end=\"\\n\")\n",
    "        res=states\n",
    "    else:\n",
    "        print(\"Halts\")"
   ]
  },
  {
   "cell_type": "code",
   "execution_count": null,
   "metadata": {},
   "outputs": [],
   "source": [
    "suma_uno_binario.graph(dpi=\"100\")"
   ]
  },
  {
   "cell_type": "markdown",
   "metadata": {},
   "source": [
    "### Multiplicación"
   ]
  },
  {
   "cell_type": "code",
   "execution_count": null,
   "metadata": {},
   "outputs": [],
   "source": [
    "a_n_b_m_c_nm=TM(Q=['q_0','q_1','q_2','q_3','q_4','q_5','q_6'],\n",
    "         sigma=['0','1','$'],\n",
    "         gamma=['X','Y'],\n",
    "         q_0='q_0',\n",
    "         A=['q_6'],\n",
    "         delta=[\n",
    "            (('q_0','a'),[('q_1','X','R')]),\n",
    "            (('q_1','a'),[('q_1','a','R')]),\n",
    "            (('q_1','b'),[('q_1','b','R')]),\n",
    "            (('q_1','Y'),[('q_1','Y','R')]),\n",
    "            (('q_1','c'),[('q_2','Y','L')]),\n",
    "            (('q_2','a'),[('q_2','a','L')]),\n",
    "            (('q_2','b'),[('q_2','b','L')]),\n",
    "            (('q_2','Y'),[('q_2','Y','L')]),\n",
    "            (('q_2','X'),[('q_0','X','R')]),\n",
    "            (('q_0','b'),[('q_3','X','R')]),\n",
    "            (('q_3','b'),[('q_3','b','R')]),\n",
    "            (('q_3','Y'),[('q_3','Y','R')]),\n",
    "            (('q_3','c'),[('q_4','Y','L')]),\n",
    "            (('q_4','b'),[('q_4','b','L')]),\n",
    "            (('q_4','Y'),[('q_4','Y','L')]),\n",
    "            (('q_4','X'),[('q_0','X','R')]),\n",
    "            (('q_0','Y'),[('q_5','Y','R')]),\n",
    "            (('q_5','Y'),[('q_5','Y','R')]),\n",
    "            (('q_5','[B]'),[('q_6','[B]','R')]),\n",
    "            (('q_0','[B]'),[('q_6','[B]','R')]),\n",
    "         ]\n",
    "    )"
   ]
  },
  {
   "cell_type": "code",
   "execution_count": null,
   "metadata": {},
   "outputs": [],
   "source": [
    "for states in a_n_b_m_c_nm.delta_stepwise(\"bbcc\"):\n",
    "    if states:\n",
    "        print(f\"⊢ {a_n_b_m_c_nm.states2string(states)}\",end=\"\\n\")\n",
    "        res=states\n",
    "    else:\n",
    "        print(\"Halts\")\n",
    "\n",
    "print(f\"\\nCon {a_n_b_m_c_nm.states2string(res)} Se acepta?\", \"Sí\" if a_n_b_m_c_nm.acceptor(res) else \"No\" )"
   ]
  },
  {
   "cell_type": "code",
   "execution_count": null,
   "metadata": {},
   "outputs": [],
   "source": [
    "a_n_b_m_c_nm.accepts(\"abcc\")"
   ]
  },
  {
   "cell_type": "code",
   "execution_count": null,
   "metadata": {},
   "outputs": [],
   "source": [
    "a_n_b_m_c_nm.graph(dpi=\"100\")"
   ]
  },
  {
   "cell_type": "code",
   "execution_count": null,
   "metadata": {},
   "outputs": [],
   "source": []
  }
 ],
 "metadata": {
  "kernelspec": {
   "display_name": "Python 3 (ipykernel)",
   "language": "python",
   "name": "python3"
  },
  "language_info": {
   "codemirror_mode": {
    "name": "ipython",
    "version": 3
   },
   "file_extension": ".py",
   "mimetype": "text/x-python",
   "name": "python",
   "nbconvert_exporter": "python",
   "pygments_lexer": "ipython3",
   "version": "3.8.10"
  }
 },
 "nbformat": 4,
 "nbformat_minor": 4
}
